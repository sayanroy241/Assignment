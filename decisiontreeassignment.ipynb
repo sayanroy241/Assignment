{
  "nbformat": 4,
  "nbformat_minor": 0,
  "metadata": {
    "colab": {
      "provenance": []
    },
    "kernelspec": {
      "name": "python3",
      "display_name": "Python 3"
    },
    "language_info": {
      "name": "python"
    }
  },
  "cells": [
    {
      "cell_type": "markdown",
      "source": [
        "# **Theoritical**"
      ],
      "metadata": {
        "id": "gVg4E3YJZj8f"
      }
    },
    {
      "cell_type": "markdown",
      "source": [
        "1. What is a Decision Tree, and how does it work?"
      ],
      "metadata": {
        "id": "F984OR7FJv1x"
      }
    },
    {
      "cell_type": "markdown",
      "source": [
        "A Decision Tree is a non-parametric supervised learning algorithm used for both classification and regression tasks. It's a flowchart-like structure that models decisions and their possible consequences, including chance event outcomes, resource costs, and utility.\n",
        "\n",
        "The core idea behind a decision tree algorithm is to recursively partition the data into smaller, more homogeneous subsets based on the values of the input features. This process continues until a stopping criterion is met (e.g., all data points in a subset belong to the same class, or the subset becomes too small)."
      ],
      "metadata": {
        "id": "FGt3Nz9-adVg"
      }
    },
    {
      "cell_type": "markdown",
      "source": [
        "2. What are impurity measures in Decision Trees?"
      ],
      "metadata": {
        "id": "4nwo8HrGa61-"
      }
    },
    {
      "cell_type": "markdown",
      "source": [
        "In decision tree algorithms, impurity measures (also known as splitting criteria) are crucial for determining how to best split nodes to create a tree that can accurately classify or predict outcomes. The goal is to create \"pure\" leaf nodes, meaning that all data points within a leaf node belong to the same class (for classification) or have similar values (for regression).\n",
        "\n",
        "\n",
        "\n"
      ],
      "metadata": {
        "id": "G69F8N3IbEp9"
      }
    },
    {
      "cell_type": "markdown",
      "source": [
        "3. What is the mathematical formula for Gini Impurity?"
      ],
      "metadata": {
        "id": "2fMseiuYa4aw"
      }
    },
    {
      "cell_type": "markdown",
      "source": [
        "\n",
        " Gini Impurity Formula\n",
        "\n",
        "The Gini Impurity (or Gini Index) is a measure of the impurity or heterogeneity of a node in a decision tree. It quantifies the probability of misclassifying a randomly chosen element from the dataset if it were randomly labeled according to the class distribution in the node.\n",
        "\n",
        "The mathematical formula for Gini Impurity is:\n",
        "\n",
        "$$Gini(t) = 1 - \\sum_{j=1}^{C} p_j^2$$\n",
        "\n",
        "Where:\n",
        "* $Gini(t)$ is the Gini Impurity of a node $t$.\n",
        "* $C$ is the total number of distinct classes present in the node.\n",
        "* $p_j$ is the proportion (or probability) of instances belonging to class $j$ at node $t$. This is calculated as the number of instances of class $j$ divided by the total number of instances in node $t$.\n",
        "\n",
        "A Gini impurity of 0 indicates a perfectly pure node, while a higher value indicates more impurity.\n",
        "\n",
        "\n",
        "\n",
        "\n"
      ],
      "metadata": {
        "id": "SKZfpmAPJTpF"
      }
    },
    {
      "cell_type": "markdown",
      "source": [
        "4. What is the mathematical formula for Entropy?"
      ],
      "metadata": {
        "id": "SuA5OmxZJllv"
      }
    },
    {
      "cell_type": "markdown",
      "source": [
        "Entropy Formula:\n",
        "\n",
        "Entropy is a measure of disorder, randomness, or uncertainty within a set of data. In the context of decision trees, it quantifies the \"impurity\" of a node. A higher entropy value means more disorder, while lower entropy means more purity.\n",
        "\n",
        "The mathematical formula for Entropy is:\n",
        "\n",
        "$$Entropy(t) = - \\sum_{j=1}^{C} p_j \\log_2(p_j)$$\n",
        "\n",
        "Where:\n",
        "* $Entropy(t)$ is the Entropy of a node $t$.\n",
        "* $C$ is the total number of distinct classes present in the node.\n",
        "* $p_j$ is the proportion (or probability) of instances belonging to class $j$ at node $t$. This is calculated as the number of instances of class $j$ divided by the total number of instances in node $t$.\n",
        "* If $p_j = 0$, then $p_j \\log_2(p_j)$ is considered 0 (as $0 \\times \\log(0)$ is undefined, but the limit approaches 0).\n",
        "\n",
        "A node with an Entropy of 0 is perfectly pure, while a higher Entropy value indicates greater impurity."
      ],
      "metadata": {
        "id": "KQjWLAoFM8Ay"
      }
    },
    {
      "cell_type": "markdown",
      "source": [
        "5. What is Information Gain, and how is it used in Decision Trees?"
      ],
      "metadata": {
        "id": "TXePvJZ6JWPd"
      }
    },
    {
      "cell_type": "markdown",
      "source": [
        "Information Gain is a fundamental concept in the construction of decision trees, particularly for classification tasks. It quantifies how much the uncertainty (or \"impurity\") in a dataset is reduced after splitting it based on a particular attribute. In essence, it tells us how useful a given feature (attribute) is for classifying or predicting the target variable.\n",
        "\n",
        "The mathematical formula for Information Gain is:\n",
        "\n",
        "$$Information Gain(S, A) = Entropy(S) - \\sum_{v \\in Values(A)} \\frac{|S_v|}{|S|} Entropy(S_v)$$\n",
        "\n",
        "Where:\n",
        "* $Information Gain(S, A)$ is the information gain obtained by splitting dataset $S$ based on attribute $A$.\n",
        "* $Entropy(S)$ is the entropy of the parent node (dataset $S$) before the split.\n",
        "* $Values(A)$ is the set of all possible values for attribute $A$.\n",
        "* $S_v$ is the subset of dataset $S$ where attribute $A$ has value $v$.\n",
        "* $|S_v|$ is the number of instances in the subset $S_v$.\n",
        "* $|S|$ is the total number of instances in the parent dataset $S$.\n",
        "* $Entropy(S_v)$ is the entropy of the child node $S_v$.\n",
        "\n",
        "Information Gain is the primary criterion used by decision tree algorithms (such as ID3 and C4.5) to decide which attribute to split on at each node. The process works as follows:\n",
        "\n",
        "1.Calculate Initial Entropy: The algorithm first calculates the entropy of the current node (which is the root node initially, containing the entire dataset). This represents the initial level of impurity.\n",
        "\n",
        "2.Evaluate Each Attribute: For each available attribute (feature) that hasn't been used yet in the current branch, the algorithm hypothetically splits the data based on that attribute. For each hypothetical split, it calculates:\n",
        "\n",
        "*The entropy of each resulting child node.\n",
        "*The weighted average entropy of the child nodes.\n",
        "*The Information Gain for that attribute (by subtracting the weighted average child entropy from the parent entropy).\n",
        "3.Select the Best Split: The attribute that yields the highest Information Gain is chosen as the splitting criterion for the current node. This attribute is the one that best reduces the uncertainty and creates the most homogeneous (pure) child nodes.\n",
        "\n",
        "\n",
        "4.Recursive Splitting: The process is then repeated recursively for each of the newly created child nodes. The algorithm continues to split nodes based on the attribute with the highest Information Gain until:\n",
        "\n",
        "*The nodes become pure (all instances belong to the same class, meaning entropy is 0).\n",
        "*A pre-defined stopping criterion is met (e.g., maximum tree depth, minimum number of samples per leaf, or no further significant information gain can be achieved)."
      ],
      "metadata": {
        "id": "AOCfhuk8NhAK"
      }
    },
    {
      "cell_type": "markdown",
      "source": [
        "6. What is the difference between Gini Impurity and Entropy?"
      ],
      "metadata": {
        "id": "KVbqDEL7RPsV"
      }
    },
    {
      "cell_type": "markdown",
      "source": [
        "1. Mathematical Foundation\n",
        "Entropy:\n",
        "\n",
        "Concept: Rooted in information theory, entropy measures the amount of disorder, randomness, or uncertainty in a set of data. A higher entropy value indicates more unpredictability.\n",
        "Formula: $$Entropy(t) = - \\sum_{j=1}^{C} p_j \\log_2(p_j)$$\n",
        "Logarithmic Nature: The use of logarithms makes entropy more sensitive to changes in probability distributions.\n",
        "Gini Impurity:\n",
        "\n",
        "Concept: Measures the probability of misclassifying a randomly chosen element from the set if it were randomly labeled according to the class distribution in the node. A lower Gini impurity indicates a \"purer\" node.\n",
        "\n",
        "Formula: $$Gini(t) = 1 - \\sum_{j=1}^{C} p_j^2$$\n",
        "\n",
        "\n",
        "Quadratic Nature: The use of squares makes Gini impurity computationally simpler.\n",
        "2. Range of Values\n",
        "Entropy:\n",
        "\n",
        "Ranges from 0 to 1 for binary classification (where 0 is pure and 1 is maximum impurity/uncertainty).\n",
        "For multi-class classification with C classes, the maximum entropy is $log_2(C)$\n",
        "\n",
        "Gini Impurity:\n",
        "\n",
        "Ranges from 0 to 0.5 for binary classification (where 0 is pure and 0.5 is maximum impurity).\n",
        "For multi-class classification with C classes, the maximum Gini impurity is 1− 1/C\n",
        "​\n",
        "  (when all classes are equally distributed).\n",
        "\n",
        "3. Sensitivity and Behavior\n",
        "Entropy:\n",
        "\n",
        "More \"punishing\" for impurity: Due to the logarithmic nature, entropy tends to penalize impure nodes more heavily. This means it might prefer splits that create slightly more balanced (though still impure) child nodes if that significantly reduces the overall impurity.\n",
        "Sensitive to class distribution: It responds more significantly to changes in the proportions of classes.\n",
        "Gini Impurity:\n",
        "\n",
        "Less \"punishing\" for impurity: Its parabolic shape makes it less sensitive to impurity than entropy, especially when the probabilities are close to 0 or 1.\n",
        "Might isolate minority classes: It has a slight tendency to isolate the most frequent class in its own branch.\n",
        "4. Computational Complexity\n",
        "Entropy: Involves logarithm calculations, which are generally more computationally expensive than basic arithmetic operations.\n",
        "Gini Impurity: Involves only squaring and subtraction, making it computationally faster.\n",
        "5. Algorithms and Common Usage\n",
        "Entropy: Used in algorithms like ID3 and C4.5. The splitting criterion based on entropy is often referred to as Information Gain.\n",
        "Gini Impurity: Used in the CART (Classification and Regression Trees) algorithm. The splitting criterion based on Gini impurity is often referred to as Gini Gain or Gini Reduction."
      ],
      "metadata": {
        "id": "x7Oo_we8Rw8l"
      }
    },
    {
      "cell_type": "markdown",
      "source": [
        "7.  What is the mathematical explanation behind Decision Trees?\n"
      ],
      "metadata": {
        "id": "KGXxMuD9XE2G"
      }
    },
    {
      "cell_type": "markdown",
      "source": [
        "Decision trees are a popular machine learning algorithm used for classification and regression tasks. The underlying mathematical concepts involve several key components:\n",
        "\n",
        "Tree Structure: A decision tree is made up of nodes, branches, and leaves. Each internal node represents a feature (or attribute), each branch represents a decision rule, and each leaf node represents an outcome (class label or value).\n",
        "\n",
        "Splitting Criteria: The decision tree splits the data at each node based on certain criteria to maximize the separation of classes or minimize prediction error. Common splitting criteria include:\n",
        "\n",
        "Gini Impurity: Measures the impurity of a dataset. For a binary classification with classes (C1) and (C2), it is calculated as: [ Gini(D) = 1 - \\sum{i=1}^{n} pi^2 ] where (p_i) is the proportion of instances of class (i) in dataset (D).\n",
        "Entropy: A measure of uncertainty in the dataset, calculated as: [ Entropy(D) = -\\sum{i=1}^{n} pi \\log2(pi) ]\n",
        "Mean Squared Error (MSE): Used for regression tasks to minimize the difference between predicted and actual values.\n",
        "Information Gain: The effectiveness of a split is often measured by the information gain, which is the reduction in entropy or impurity after the split: [ Information \\ Gain = Entropy(parent) - \\left( \\frac{|D1|}{|D|} \\times Entropy(D1) + \\frac{|D2|}{|D|} \\times Entropy(D2) \\right) ]\n",
        "\n",
        "Overfitting and Pruning: Decision trees can become overly complex and capture noise in the training data. To prevent overfitting, techniques like pruning (removing sections of the tree that provide little power) are applied. This can be done using cost-complexity pruning, which balances tree complexity and predictive accuracy.\n",
        "\n",
        "Leaf Node Predictions: In classification tasks, once the tree is built, predictions are made by traversing the tree based on feature values until a leaf node is reached. The class label of the leaf node is assigned as the prediction. In regression, the average value of the instances in the leaf node is used as the predicted value."
      ],
      "metadata": {
        "id": "URhSlTejXgsA"
      }
    },
    {
      "cell_type": "markdown",
      "source": [
        "8.  What is Pre-Pruning in Decision Trees?"
      ],
      "metadata": {
        "id": "z9AsgIvdXbHR"
      }
    },
    {
      "cell_type": "markdown",
      "source": [
        "Pre-pruning, also known as early stopping or forward pruning, is a technique used in decision tree algorithms to prevent the tree from growing too large and complex during its initial construction phase. The goal of pre-pruning is to combat overfitting, which occurs when a tree learns the training data too well, capturing noise and specific patterns that do not generalize to unseen data.\n",
        "\n",
        "\n",
        "Instead of growing a full tree and then cutting back branches (which is post-pruning), pre-pruning sets constraints or conditions that, when met, stop the tree from expanding further at a particular node. This means the splitting process is halted before a node becomes perfectly pure or contains only one sample."
      ],
      "metadata": {
        "id": "7NayS08XbyFk"
      }
    },
    {
      "cell_type": "markdown",
      "source": [
        "9.  What is Post-Pruning in Decision Trees?"
      ],
      "metadata": {
        "id": "8Y3emy4gcCsU"
      }
    },
    {
      "cell_type": "markdown",
      "source": [
        "Post-pruning, also known as backward pruning, is a technique used in decision tree algorithms to prevent overfitting by removing branches from a fully grown or overly complex decision tree. Unlike pre-pruning (which stops the tree growth early), post-pruning allows the tree to grow to its maximum possible depth, perfectly fitting the training data (and likely overfitting it), and then goes back and removes branches that are deemed redundant or contribute little to the generalization performance.\n",
        "\n",
        "\n",
        "The core idea is that a fully grown tree often contains branches that learn noise or very specific patterns in the training data that do not generalize well to unseen data. Post-pruning identifies and cuts back these \"overfitting\" branches to create a simpler, more robust, and more generalizable tree."
      ],
      "metadata": {
        "id": "C49EVy46cT5d"
      }
    },
    {
      "cell_type": "markdown",
      "source": [
        "10. What is the difference between Pre-Pruning and Post-Pruning?"
      ],
      "metadata": {
        "id": "5eFk1-akdFPA"
      }
    },
    {
      "cell_type": "markdown",
      "source": [
        "1. Timing of Pruning\n",
        "Pre-Pruning (Early Stopping):\n",
        "\n",
        "When: Pruning occurs during the tree's construction (growing phase).\n",
        "How: The algorithm stops splitting a node if certain conditions are met, preventing further growth of that branch. It's like putting a brake on the tree's expansion.\n",
        "Post-Pruning (Backward Pruning):\n",
        "\n",
        "When: Pruning occurs after the tree has been fully grown to its maximum possible depth, typically until each leaf node is pure or contains only one sample.\n",
        "How: The algorithm then systematically removes (or \"clips\") branches and nodes from the fully formed tree. It's like trimming an overgrown bush.\n",
        "2. Approach to Complexity Control\n",
        "Pre-Pruning:\n",
        "\n",
        "Strategy: Proactive. It directly limits the size and complexity of the tree from the outset.\n",
        "Criteria: Uses hyperparameters set before training, such as:\n",
        "max_depth: Maximum depth of the tree.\n",
        "min_samples_split: Minimum number of samples required to split an internal node.\n",
        "min_samples_leaf: Minimum number of samples required to be at a leaf node.\n",
        "min_impurity_decrease: Minimum reduction in impurity (e.g., Gini Gain, Information Gain) required for a split.\n",
        "Post-Pruning:\n",
        "\n",
        "Strategy: Reactive. It builds an overly complex tree and then simplifies it.\n",
        "Criteria: Typically involves evaluating the tree's performance on a separate validation set (or using cross-validation) to determine which branches to remove. Common methods include:\n",
        "Reduced Error Pruning (REP): Iteratively prunes nodes if doing so doesn't increase (or decreases) validation error.\n",
        "Cost-Complexity Pruning (CCP): Finds a sequence of nested subtrees based on a complexity parameter (\n",
        "alpha) and then uses cross-validation to select the best one.\n",
        "3. Impact on Training Time and Model Complexity\n",
        "Pre-Pruning:\n",
        "\n",
        "Training Time: Generally faster. Since the tree growth is halted early, the algorithm performs fewer splits and calculations.\n",
        "Model Complexity: Results in simpler and smaller trees directly.\n",
        "Post-Pruning:\n",
        "\n",
        "Training Time: Generally slower. It first involves growing the full, potentially very large tree, which can be computationally expensive, especially for large datasets. Then, there's an additional pruning phase.\n",
        "Model Complexity: The initial tree is very complex, but the final pruned tree is often of comparable complexity to a well-tuned pre-pruned tree, aiming for optimal generalization."
      ],
      "metadata": {
        "id": "BlizfieedMxh"
      }
    },
    {
      "cell_type": "markdown",
      "source": [
        "11.  What is a Decision Tree Regressor?"
      ],
      "metadata": {
        "id": "DiUekNAAnvvV"
      }
    },
    {
      "cell_type": "markdown",
      "source": [
        "A Decision Tree Regressor is a type of supervised machine learning algorithm used for predicting continuous numerical values (e.g., house prices, temperature, stock prices) rather than discrete categories (which would be a Decision Tree Classifier).\n",
        "\n",
        "Here's how it works:\n",
        "\n",
        "1.Tree Structure: It builds a model in the form of a tree structure, much like a flowchart.\n",
        "\n",
        "Root Node: Represents the entire dataset.\n",
        "Internal Nodes (Decision Nodes): These nodes ask questions about a specific feature in the data (e.g., \"Is the house size greater than 1500 sq ft?\"). Based on the answer, the data is split into subsets.\n",
        "\n",
        "Branches: Represent the outcomes of the decisions at the internal nodes.\n",
        "Leaf Nodes: These are the final nodes of the tree, and they contain the predicted continuous value. For a regression tree, this value is typically the average (or median) of the target values of all data points that fall into that particular leaf.\n",
        "\n",
        "2.Splitting Process:\n",
        "\n",
        "The algorithm starts at the root node and recursively splits the data into smaller and smaller subsets.\n",
        "The goal at each split is to find the feature and the split point (threshold) that best reduces the \"impurity\" within the resulting child nodes. For regression, impurity is typically measured by metrics like:\n",
        "Mean Squared Error (MSE): A common metric that aims to minimize the average of the squared differences between the actual and predicted values.\n",
        "Variance Reduction (or Standard Deviation Reduction): This aims to create child nodes where the variance of the target variable is as low as possible (i.e., the data points within that node are very similar in their target values). The attribute that gives the highest variance reduction is chosen for the split.\n",
        "This process continues until certain stopping criteria are met, such as:\n",
        "A maximum tree depth is reached.\n",
        "A minimum number of samples are in a leaf node.\n",
        "The impurity reduction at a potential split falls below a certain threshold.\n",
        "3.Making Predictions:\n",
        "\n",
        "To predict a new data point, you start at the root node and follow the decision path down the tree based on the feature values of that data point.\n",
        "Once you reach a leaf node, the predicted value for that data point is the average (or median) of the target values of the training data that ended up in that same leaf node."
      ],
      "metadata": {
        "id": "5s3Fsiq7n2_1"
      }
    },
    {
      "cell_type": "markdown",
      "source": [
        "12.What are the advantages and disadvantages of Decision Trees?"
      ],
      "metadata": {
        "id": "x3a352C7pRLr"
      }
    },
    {
      "cell_type": "markdown",
      "source": [
        "Decision Trees are versatile and widely used machine learning algorithms for both classification and regression tasks. They model decisions as a tree-like structure, making them intuitive and easy to understand. However, they also come with certain limitations.\n",
        "\n",
        "Here's a breakdown of their advantages and disadvantages:\n",
        "\n",
        "1.Advantages of Decision Trees:\n",
        "Interpretability and Simplicity:\n",
        "\n",
        "Easy to Understand: Decision trees are often called \"white box\" models because their decision-making process is transparent and easily visualized. You can trace the path from the root to a leaf node to understand why a particular prediction was made.\n",
        "Visual Representation: They can be easily represented graphically as a flowchart, making them accessible to both technical and non-technical stakeholders.\n",
        "Minimal Data Preparation:\n",
        "\n",
        "No Feature Scaling Required: Unlike many algorithms (e.g., K-Nearest Neighbors, Support Vector Machines), decision trees are not sensitive to the scale of features. Normalization or standardization of data is not necessary.\n",
        "Handles Mixed Data Types: They can handle both numerical (continuous) and categorical (discrete) features without needing extensive preprocessing like one-hot encoding for categorical variables. Some implementations can even handle missing values inherently.\n",
        "Handles Non-Linear Relationships:\n",
        "\n",
        "Decision trees can effectively capture complex, non-linear relationships between features and the target variable, making them suitable for datasets with intricate patterns that linear models might miss.\n",
        "Robust to Outliers:\n",
        "\n",
        "They are generally robust to outliers in the data. Since decisions are made based on splits that aim to reduce impurity within segments, a few extreme values typically have minimal impact on the overall tree structure or predictions.\n",
        "Feature Importance:\n",
        "\n",
        "Decision trees naturally provide a way to assess the relative importance of each feature in predicting the target variable. Features used higher up in the tree (closer to the root) and those that result in larger impurity reductions are generally considered more important.\n",
        "Versatility:\n",
        "\n",
        "Can be used for both classification (predicting discrete categories) and regression (predicting continuous numerical values) tasks.\n",
        "\n",
        "2.Disadvantages of Decision Trees:\n",
        "\n",
        "Prone to Overfitting:\n",
        "\n",
        "High Variance: This is the most significant drawback. Without proper control (like pruning or limiting tree depth), decision trees can grow overly complex, learning the noise and specific details of the training data rather than the underlying patterns. This leads to poor generalization performance on unseen data.\n",
        "Memorization: An overfit tree essentially \"memorizes\" the training examples, failing to adapt to new data.\n",
        "Instability:\n",
        "\n",
        "Sensitivity to Small Data Changes: Small variations in the training data (e.g., adding or removing a few data points, or slight changes in feature values) can lead to significantly different tree structures, which can impact predictions. This makes them somewhat unstable.\n",
        "Bias Towards Dominant Classes (in Classification):\n",
        "\n",
        "If the dataset is imbalanced (one class significantly outnumbers others), decision trees can become biased towards the majority class, leading to poor predictive performance for minority classes. This often requires techniques like resampling or using class weights.\n",
        "Greedy Algorithm:\n",
        "\n",
        "Decision tree algorithms (like CART) use a greedy approach to build the tree. At each step, they make the locally optimal split decision based on the chosen impurity metric. This doesn't guarantee finding the globally optimal tree structure.\n",
        "Difficulty with Linear Relationships:\n",
        "\n",
        "While excellent at non-linear relationships, decision trees might struggle to capture simple linear relationships as effectively as linear models. Their piecewise constant nature means they approximate continuous functions with \"steps,\" which can be less precise for truly linear patterns.\n",
        "Computationally Expensive for Large Datasets (Deep Trees):\n",
        "\n",
        "Building a very deep tree on a large dataset can be computationally intensive as the algorithm searches for optimal splits at each node.\n",
        "Not Smooth or Continuous Predictions (in Regression):\n",
        "\n",
        "For regression tasks, the predictions from a decision tree are piecewise constant, meaning they jump from one value to another at the decision boundaries. This results in a \"step-like\" prediction curve, which might not be ideal for situations requiring smooth, continuous predictions."
      ],
      "metadata": {
        "id": "3-iGdfT6pqAn"
      }
    },
    {
      "cell_type": "markdown",
      "source": [
        "13.  How does a Decision Tree handle missing values?"
      ],
      "metadata": {
        "id": "eY2FFt0sqAx3"
      }
    },
    {
      "cell_type": "markdown",
      "source": [
        "Decision Trees, unlike many other machine learning algorithms (like linear regression, logistic regression, or support vector machines), have a unique advantage in that some implementations can handle missing values inherently during both the training and prediction phases. This means you often don't need to perform explicit imputation (like mean, median, or mode imputation) as a separate preprocessing step.\n",
        "\n",
        "Here's how Decision Trees (specifically algorithms like CART, C4.5, and C5.0) commonly handle missing values:\n",
        "\n",
        "1.During Training (Building the Tree):\n",
        "\n",
        "Weighted Impurity Calculation: When a decision tree algorithm is evaluating potential splits for a node, and a particular feature chosen for the split has missing values for some instances, it doesn't simply discard those instances. Instead, it adjusts the impurity calculation (e.g., Gini impurity for classification, MSE or variance for regression).\n",
        "\n",
        "\n",
        "Instances with non-missing values for the splitting feature are used to calculate the impurity reduction for each potential split point.\n",
        "Instances with missing values for that feature are typically ignored for the purpose of finding the optimal split point. However, their presence is still accounted for when determining the overall impurity of the node. Some algorithms might assign these missing-value instances to all child nodes with a fractional weight, or assign them to the branch that minimizes impurity.\n",
        "Surrogate Splits (Breiman's CART algorithm): This is a key mechanism. When a primary splitting rule is determined for a node (e.g., \"Is Age > 30?\"), the CART algorithm will also search for surrogate splits.\n",
        "\n",
        "A surrogate split is an alternative split on a different feature that best mimics the primary split. In other words, it's a backup rule that produces a similar partitioning of the data as the primary split.\n",
        "\n",
        "If an instance has a missing value for the primary splitting feature, the decision tree will use the best surrogate split to decide which branch (left or right child node) that instance should follow.\n",
        "The algorithm ranks potential surrogate splits based on how well they correlate with the primary split. If the best surrogate also has a missing value for an instance, it looks for the next best, and so on.\n",
        "Missing as a Separate Category (MIA - Missing Incorporated as Attribute): Another approach, especially common for categorical features, is to treat \"missing\" as its own distinct category. So, if a feature \"Color\" has values \"Red\", \"Blue\", \"Green\", and some missing, \"Missing\" becomes a fourth category. The tree can then make a split based on whether \"Color is Missing\". This explicitly leverages the information that a value is missing, which can be useful if the missingness itself is predictive.\n",
        "\n",
        "Probabilistic/Fractional Assignment (C4.5 and C5.0): In algorithms like C4.5 and C5.0, if an instance has a missing value for the splitting attribute, it's conceptually \"split\" and sent down all child branches. However, it's not simply duplicated; instead, its weight is fractionally distributed among the branches based on the proportion of non-missing instances that went down each branch. This allows the information from the instance to contribute to all relevant subtrees.\n",
        "\n",
        "2.During Prediction (Making Predictions on New Data):\n",
        "\n",
        "When a new data point with a missing value for a feature is encountered at a node, the decision tree applies the same logic used during training:\n",
        "If surrogate splits were learned, the tree will use the best available surrogate split for that missing feature to guide the instance down the appropriate path.\n",
        "If \"missing\" was treated as a separate category, the instance will simply follow the branch corresponding to that \"missing\" category.\n",
        "If the probabilistic/fractional assignment was used, the prediction might be a weighted average of the predictions from all leaf nodes reached by the fractional path."
      ],
      "metadata": {
        "id": "OvKbJtIsqC9-"
      }
    },
    {
      "cell_type": "markdown",
      "source": [
        "14. How does a Decision Tree handle categorical features?"
      ],
      "metadata": {
        "id": "TIHVG3eqqaJV"
      }
    },
    {
      "cell_type": "markdown",
      "source": [
        "Decision trees are a popular machine learning algorithm used for classification and regression tasks. One of the key advantages of decision trees is their ability to handle both numerical and categorical features effectively. Categorical features are variables that represent discrete values or categories, such as \"color\" (red, blue, green) or \"type\" (dog, cat, bird). The handling of these features is crucial for the performance of the decision tree model.\n",
        "\n",
        "Splitting Criteria:\n",
        "When constructing a decision tree, the algorithm must determine how to split the data at each node based on the input features. For categorical features, this involves evaluating different ways to partition the data into subsets that maximize information gain or minimize impurity. Common splitting criteria include Gini impurity and entropy.\n",
        "\n",
        "Gini Impurity: This measure calculates the probability of misclassifying a randomly chosen element if it were labeled according to the distribution of labels in the subset. For categorical features, Gini impurity can be computed by considering all possible splits based on unique category values.\n",
        "\n",
        "Entropy: Similar to Gini impurity, entropy measures the disorder or uncertainty in a dataset. When dealing with categorical variables, entropy can be calculated for each category and used to determine which split results in the most significant reduction in uncertainty.\n",
        "\n",
        "Handling Multiple Categories:\n",
        "Categorical features can have multiple categories, which presents challenges during tree construction. Decision trees can handle this by evaluating all possible combinations of categories when determining splits:\n",
        "\n",
        "Binary Splits: In some implementations, categorical variables may be treated as binary splits where one category is compared against all others combined. This approach simplifies calculations but may not capture complex relationships between categories.\n",
        "One-Hot Encoding: Another common method is to convert categorical variables into a series of binary variables (one-hot encoding). Each category becomes its own feature with binary values indicating presence or absence. This allows decision trees to treat each category independently while maintaining interpretability.\n",
        "\n",
        "Pruning and Overfitting:\n",
        "While decision trees can effectively handle categorical features during training, they are also prone to overfitting—especially with high cardinality categorical variables (features with many unique values). To mitigate this risk:\n",
        "\n",
        "Pruning Techniques: Post-pruning methods can be applied after tree construction to remove branches that do not provide significant predictive power. This helps simplify the model and improve generalization.\n",
        "Minimum Samples per Leaf: Setting a minimum number of samples required at leaf nodes can prevent overly specific splits based on rare categories.\n",
        "\n",
        "Conclusion:\n",
        "In summary, decision trees manage categorical features through various techniques that allow them to evaluate splits effectively while minimizing overfitting risks. By employing criteria like Gini impurity and entropy and utilizing strategies such as one-hot encoding and pruning methods, decision trees maintain their robustness across diverse datasets containing both numerical and categorical attributes."
      ],
      "metadata": {
        "id": "NKhzbj4QqgNV"
      }
    },
    {
      "cell_type": "markdown",
      "source": [
        "15.  What are some real-world applications of Decision Trees?"
      ],
      "metadata": {
        "id": "7cxpqAAfyZ3B"
      }
    },
    {
      "cell_type": "markdown",
      "source": [
        "Decision trees are a powerful tool in data analysis and machine learning, widely used across various domains due to their interpretability and ease of use. They serve as a method for both classification and regression tasks, allowing users to make informed decisions based on data-driven insights. Below are some notable real-world applications of decision trees:\n",
        "\n",
        "1. Healthcare\n",
        "In the healthcare sector, decision trees are employed for diagnostic purposes, predicting patient outcomes, and treatment planning. For instance, they can help in classifying patients based on symptoms and medical history to determine the likelihood of diseases such as diabetes or heart disease. By analyzing patient data, healthcare professionals can visualize the decision-making process involved in diagnosing conditions and recommending treatments (Encyclopedia of Machine Learning).\n",
        "\n",
        "2. Finance\n",
        "The finance industry utilizes decision trees for credit scoring, risk assessment, and fraud detection. Financial institutions apply these models to evaluate the creditworthiness of loan applicants by analyzing historical data related to income, credit history, and repayment behavior. Additionally, decision trees can identify patterns indicative of fraudulent transactions by segmenting transaction data into categories that highlight anomalies (Data Mining: Concepts and Techniques).\n",
        "\n",
        "3. Marketing\n",
        "In marketing analytics, decision trees assist in customer segmentation and targeting strategies. Marketers use these models to analyze consumer behavior based on demographics, purchasing history, and preferences. This allows companies to tailor their marketing campaigns effectively by identifying which segments are more likely to respond positively to specific promotions or products (Marketing Analytics: A Practical Guide to Real Marketing Science).\n",
        "\n",
        "4. Manufacturing\n",
        "Manufacturers apply decision trees for quality control and predictive maintenance. By examining production data, companies can predict equipment failures before they occur by identifying key indicators that lead to breakdowns. This proactive approach not only minimizes downtime but also optimizes maintenance schedules based on actual usage patterns rather than arbitrary timelines (Handbook of Statistical Analysis and Data Mining Applications).\n",
        "\n",
        "5. Telecommunications\n",
        "In the telecommunications industry, decision trees are used for customer churn prediction and service optimization. Companies analyze customer usage patterns and satisfaction levels to predict which customers are likely to discontinue their services. By understanding these factors through a visual representation provided by decision trees, telecom providers can implement retention strategies aimed at reducing churn rates (Telecommunications Network Management).\n",
        "\n",
        "Conclusion\n",
        "Overall, the versatility of decision trees makes them applicable across numerous fields including healthcare, finance, marketing, manufacturing, and telecommunications. Their ability to provide clear visualizations of complex datasets enables stakeholders in various industries to make informed decisions efficiently."
      ],
      "metadata": {
        "id": "lQsDNLRnyfMt"
      }
    },
    {
      "cell_type": "markdown",
      "source": [
        "# **PRACTICAL**"
      ],
      "metadata": {
        "id": "QnW_X-v7y_LU"
      }
    },
    {
      "cell_type": "markdown",
      "source": [
        " 16. Write a Python program to train a Decision Tree Classifier on the Iris dataset and print the model accuracy"
      ],
      "metadata": {
        "id": "MEpHdz9QzMX8"
      }
    },
    {
      "cell_type": "code",
      "source": [
        "# Import necessary libraries\n",
        "from sklearn.datasets import load_iris\n",
        "from sklearn.model_selection import train_test_split\n",
        "from sklearn.tree import DecisionTreeClassifier\n",
        "from sklearn.metrics import accuracy_score\n",
        "\n",
        "# 1. Load the Iris dataset\n",
        "# The Iris dataset is a classic dataset in machine learning,\n",
        "# containing measurements of iris flowers (sepal length, sepal width,\n",
        "# petal length, petal width) and their corresponding species.\n",
        "iris = load_iris()\n",
        "X = iris.data  # Features\n",
        "y = iris.target # Target variable (species)\n",
        "\n",
        "# Print the feature names and target names for better understanding\n",
        "print(\"Features (X):\", iris.feature_names)\n",
        "print(\"Target (y):\", iris.target_names)\n",
        "print(f\"Dataset shape: X={X.shape}, y={y.shape}\\n\")\n",
        "\n",
        "# 2. Split the data into training and testing sets\n",
        "# We'll use 80% of the data for training and 20% for testing.\n",
        "# random_state ensures reproducibility of the split.\n",
        "X_train, X_test, y_train, y_test = train_test_split(X, y, test_size=0.2, random_state=42)\n",
        "\n",
        "print(f\"Training data shape: X_train={X_train.shape}, y_train={y_train.shape}\")\n",
        "print(f\"Testing data shape: X_test={X_test.shape}, y_test={y_test.shape}\\n\")\n",
        "\n",
        "# 3. Initialize the Decision Tree Classifier\n",
        "# We create an instance of the DecisionTreeClassifier.\n",
        "# random_state is set for reproducibility of the tree's internal randomness.\n",
        "# max_depth can be used to control overfitting, but for this example, we'll let it grow.\n",
        "dt_classifier = DecisionTreeClassifier(random_state=42)\n",
        "\n",
        "# 4. Train the model on the training data\n",
        "# The .fit() method trains the decision tree using the training features (X_train)\n",
        "# and their corresponding target labels (y_train).\n",
        "print(\"Training the Decision Tree Classifier...\")\n",
        "dt_classifier.fit(X_train, y_train)\n",
        "print(\"Training complete.\\n\")\n",
        "\n",
        "# 5. Make predictions on the test data\n",
        "# The .predict() method uses the trained model to predict the species\n",
        "# for the unseen test features (X_test).\n",
        "print(\"Making predictions on the test set...\")\n",
        "y_pred = dt_classifier.predict(X_test)\n",
        "print(\"Predictions made.\\n\")\n",
        "\n",
        "# 6. Calculate and print the model accuracy\n",
        "# Accuracy is calculated by comparing the predicted labels (y_pred)\n",
        "# with the true labels of the test set (y_test).\n",
        "accuracy = accuracy_score(y_test, y_pred)\n",
        "print(f\"Model Accuracy: {accuracy:.4f}\")\n",
        "\n",
        "# Optional: Print a classification report for more detailed metrics\n",
        "from sklearn.metrics import classification_report\n",
        "print(\"\\nClassification Report:\")\n",
        "print(classification_report(y_test, y_pred, target_names=iris.target_names))"
      ],
      "metadata": {
        "colab": {
          "base_uri": "https://localhost:8080/"
        },
        "id": "GFvG-Jyqzbcz",
        "outputId": "7230b29e-c5ca-415f-ae8e-fac94a0ba7a4"
      },
      "execution_count": null,
      "outputs": [
        {
          "output_type": "stream",
          "name": "stdout",
          "text": [
            "Features (X): ['sepal length (cm)', 'sepal width (cm)', 'petal length (cm)', 'petal width (cm)']\n",
            "Target (y): ['setosa' 'versicolor' 'virginica']\n",
            "Dataset shape: X=(150, 4), y=(150,)\n",
            "\n",
            "Training data shape: X_train=(120, 4), y_train=(120,)\n",
            "Testing data shape: X_test=(30, 4), y_test=(30,)\n",
            "\n",
            "Training the Decision Tree Classifier...\n",
            "Training complete.\n",
            "\n",
            "Making predictions on the test set...\n",
            "Predictions made.\n",
            "\n",
            "Model Accuracy: 1.0000\n",
            "\n",
            "Classification Report:\n",
            "              precision    recall  f1-score   support\n",
            "\n",
            "      setosa       1.00      1.00      1.00        10\n",
            "  versicolor       1.00      1.00      1.00         9\n",
            "   virginica       1.00      1.00      1.00        11\n",
            "\n",
            "    accuracy                           1.00        30\n",
            "   macro avg       1.00      1.00      1.00        30\n",
            "weighted avg       1.00      1.00      1.00        30\n",
            "\n"
          ]
        }
      ]
    },
    {
      "cell_type": "markdown",
      "source": [
        "17. Write a Python program to train a Decision Tree Classifier using Gini Impurity as the criterion and print the\n",
        "feature importances."
      ],
      "metadata": {
        "id": "UzfYmS4Az_2s"
      }
    },
    {
      "cell_type": "code",
      "source": [
        "# Import necessary libraries\n",
        "from sklearn.datasets import load_iris\n",
        "from sklearn.model_selection import train_test_split\n",
        "from sklearn.tree import DecisionTreeClassifier\n",
        "from sklearn.metrics import accuracy_score\n",
        "from sklearn.metrics import classification_report # Moved import here for better organization\n",
        "\n",
        "# 1. Load the Iris dataset\n",
        "# The Iris dataset is a classic dataset in machine learning,\n",
        "# containing measurements of iris flowers (sepal length, sepal width,\n",
        "# petal length, petal width) and their corresponding species.\n",
        "iris = load_iris()\n",
        "X = iris.data  # Features\n",
        "y = iris.target # Target variable (species)\n",
        "\n",
        "# Print the feature names and target names for better understanding\n",
        "print(\"Features (X):\", iris.feature_names)\n",
        "print(\"Target (y):\", iris.target_names)\n",
        "print(f\"Dataset shape: X={X.shape}, y={y.shape}\\n\")\n",
        "\n",
        "# 2. Split the data into training and testing sets\n",
        "# We'll use 80% of the data for training and 20% for testing.\n",
        "# random_state ensures reproducibility of the split.\n",
        "X_train, X_test, y_train, y_test = train_test_split(X, y, test_size=0.2, random_state=42)\n",
        "\n",
        "print(f\"Training data shape: X_train={X_train.shape}, y_train={y_train.shape}\")\n",
        "print(f\"Testing data shape: X_test={X_test.shape}, y_test={y_test.shape}\\n\")\n",
        "\n",
        "# 3. Initialize the Decision Tree Classifier\n",
        "# We create an instance of the DecisionTreeClassifier.\n",
        "# random_state is set for reproducibility of the tree's internal randomness.\n",
        "# criterion='gini' explicitly sets the impurity measure to Gini Impurity.\n",
        "# max_depth can be used to control overfitting, but for this example, we'll let it grow.\n",
        "dt_classifier = DecisionTreeClassifier(criterion='gini', random_state=42)\n",
        "\n",
        "# 4. Train the model on the training data\n",
        "# The .fit() method trains the decision tree using the training features (X_train)\n",
        "# and their corresponding target labels (y_train).\n",
        "print(\"Training the Decision Tree Classifier...\")\n",
        "dt_classifier.fit(X_train, y_train)\n",
        "print(\"Training complete.\\n\")\n",
        "\n",
        "# 5. Make predictions on the test data\n",
        "# The .predict() method uses the trained model to predict the species\n",
        "# for the unseen test features (X_test).\n",
        "print(\"Making predictions on the test set...\")\n",
        "y_pred = dt_classifier.predict(X_test)\n",
        "print(\"Predictions made.\\n\")\n",
        "\n",
        "# 6. Calculate and print the model accuracy\n",
        "# Accuracy is calculated by comparing the predicted labels (y_pred)\n",
        "# with the true labels of the test set (y_test).\n",
        "accuracy = accuracy_score(y_test, y_pred)\n",
        "print(f\"Model Accuracy: {accuracy:.4f}\")\n",
        "\n",
        "# Print a classification report for more detailed metrics\n",
        "print(\"\\nClassification Report:\")\n",
        "print(classification_report(y_test, y_pred, target_names=iris.target_names))\n",
        "\n",
        "# 7. Print Feature Importances\n",
        "# Feature importances indicate the relative importance of each feature in the decision process.\n",
        "# Higher values mean the feature was used more effectively to reduce impurity.\n",
        "print(\"\\nFeature Importances:\")\n",
        "for feature, importance in zip(iris.feature_names, dt_classifier.feature_importances_):\n",
        "    print(f\"  {feature}: {importance:.4f}\")"
      ],
      "metadata": {
        "colab": {
          "base_uri": "https://localhost:8080/"
        },
        "id": "2GGi9WZi0GnT",
        "outputId": "d285a2b6-74ec-4939-ae2a-8d694919d881"
      },
      "execution_count": null,
      "outputs": [
        {
          "output_type": "stream",
          "name": "stdout",
          "text": [
            "Features (X): ['sepal length (cm)', 'sepal width (cm)', 'petal length (cm)', 'petal width (cm)']\n",
            "Target (y): ['setosa' 'versicolor' 'virginica']\n",
            "Dataset shape: X=(150, 4), y=(150,)\n",
            "\n",
            "Training data shape: X_train=(120, 4), y_train=(120,)\n",
            "Testing data shape: X_test=(30, 4), y_test=(30,)\n",
            "\n",
            "Training the Decision Tree Classifier...\n",
            "Training complete.\n",
            "\n",
            "Making predictions on the test set...\n",
            "Predictions made.\n",
            "\n",
            "Model Accuracy: 1.0000\n",
            "\n",
            "Classification Report:\n",
            "              precision    recall  f1-score   support\n",
            "\n",
            "      setosa       1.00      1.00      1.00        10\n",
            "  versicolor       1.00      1.00      1.00         9\n",
            "   virginica       1.00      1.00      1.00        11\n",
            "\n",
            "    accuracy                           1.00        30\n",
            "   macro avg       1.00      1.00      1.00        30\n",
            "weighted avg       1.00      1.00      1.00        30\n",
            "\n",
            "\n",
            "Feature Importances:\n",
            "  sepal length (cm): 0.0000\n",
            "  sepal width (cm): 0.0167\n",
            "  petal length (cm): 0.9061\n",
            "  petal width (cm): 0.0772\n"
          ]
        }
      ]
    },
    {
      "cell_type": "markdown",
      "source": [
        "18. Write a Python program to train a Decision Tree Classifier using Entropy as the splitting criterion and print the\n",
        "model accuracy?"
      ],
      "metadata": {
        "id": "tBUOte3C2Hr6"
      }
    },
    {
      "cell_type": "code",
      "source": [
        "# Import necessary libraries\n",
        "from sklearn.datasets import load_iris\n",
        "from sklearn.model_selection import train_test_split\n",
        "from sklearn.tree import DecisionTreeClassifier\n",
        "from sklearn.metrics import accuracy_score\n",
        "from sklearn.metrics import classification_report # Moved import here for better organization\n",
        "\n",
        "# 1. Load the Iris dataset\n",
        "# The Iris dataset is a classic dataset in machine learning,\n",
        "# containing measurements of iris flowers (sepal length, sepal width,\n",
        "# petal length, petal width) and their corresponding species.\n",
        "iris = load_iris()\n",
        "X = iris.data  # Features\n",
        "y = iris.target # Target variable (species)\n",
        "\n",
        "# Print the feature names and target names for better understanding\n",
        "print(\"Features (X):\", iris.feature_names)\n",
        "print(\"Target (y):\", iris.target_names)\n",
        "print(f\"Dataset shape: X={X.shape}, y={y.shape}\\n\")\n",
        "\n",
        "# 2. Split the data into training and testing sets\n",
        "# We'll use 80% of the data for training and 20% for testing.\n",
        "# random_state ensures reproducibility of the split.\n",
        "X_train, X_test, y_train, y_test = train_test_split(X, y, test_size=0.2, random_state=42)\n",
        "\n",
        "print(f\"Training data shape: X_train={X_train.shape}, y_train={y_train.shape}\")\n",
        "print(f\"Testing data shape: X_test={X_test.shape}, y_test={y_test.shape}\\n\")\n",
        "\n",
        "# 3. Initialize the Decision Tree Classifier\n",
        "# We create an instance of the DecisionTreeClassifier.\n",
        "# random_state is set for reproducibility of the tree's internal randomness.\n",
        "# criterion='entropy' explicitly sets the impurity measure to Entropy.\n",
        "# max_depth can be used to control overfitting, but for this example, we'll let it grow.\n",
        "dt_classifier = DecisionTreeClassifier(criterion='entropy', random_state=42)\n",
        "\n",
        "# 4. Train the model on the training data\n",
        "# The .fit() method trains the decision tree using the training features (X_train)\n",
        "# and their corresponding target labels (y_train).\n",
        "print(\"Training the Decision Tree Classifier...\")\n",
        "dt_classifier.fit(X_train, y_train)\n",
        "print(\"Training complete.\\n\")\n",
        "\n",
        "# 5. Make predictions on the test data\n",
        "# The .predict() method uses the trained model to predict the species\n",
        "# for the unseen test features (X_test).\n",
        "print(\"Making predictions on the test set...\")\n",
        "y_pred = dt_classifier.predict(X_test)\n",
        "print(\"Predictions made.\\n\")\n",
        "\n",
        "# 6. Calculate and print the model accuracy\n",
        "# Accuracy is calculated by comparing the predicted labels (y_pred)\n",
        "# with the true labels of the test set (y_test).\n",
        "accuracy = accuracy_score(y_test, y_pred)\n",
        "print(f\"Model Accuracy: {accuracy:.4f}\")\n",
        "\n",
        "# Print a classification report for more detailed metrics\n",
        "print(\"\\nClassification Report:\")\n",
        "print(classification_report(y_test, y_pred, target_names=iris.target_names))\n",
        "\n",
        "# 7. Print Feature Importances\n",
        "# Feature importances indicate the relative importance of each feature in the decision process.\n",
        "# Higher values mean the feature was used more effectively to reduce impurity.\n",
        "print(\"\\nFeature Importances:\")\n",
        "for feature, importance in zip(iris.feature_names, dt_classifier.feature_importances_):\n",
        "    print(f\"  {feature}: {importance:.4f}\")\n"
      ],
      "metadata": {
        "colab": {
          "base_uri": "https://localhost:8080/"
        },
        "id": "G-8kq9oI2SfQ",
        "outputId": "e4f6826c-ec7c-44cd-8fb6-874abc2d6214"
      },
      "execution_count": null,
      "outputs": [
        {
          "output_type": "stream",
          "name": "stdout",
          "text": [
            "Features (X): ['sepal length (cm)', 'sepal width (cm)', 'petal length (cm)', 'petal width (cm)']\n",
            "Target (y): ['setosa' 'versicolor' 'virginica']\n",
            "Dataset shape: X=(150, 4), y=(150,)\n",
            "\n",
            "Training data shape: X_train=(120, 4), y_train=(120,)\n",
            "Testing data shape: X_test=(30, 4), y_test=(30,)\n",
            "\n",
            "Training the Decision Tree Classifier...\n",
            "Training complete.\n",
            "\n",
            "Making predictions on the test set...\n",
            "Predictions made.\n",
            "\n",
            "Model Accuracy: 1.0000\n",
            "\n",
            "Classification Report:\n",
            "              precision    recall  f1-score   support\n",
            "\n",
            "      setosa       1.00      1.00      1.00        10\n",
            "  versicolor       1.00      1.00      1.00         9\n",
            "   virginica       1.00      1.00      1.00        11\n",
            "\n",
            "    accuracy                           1.00        30\n",
            "   macro avg       1.00      1.00      1.00        30\n",
            "weighted avg       1.00      1.00      1.00        30\n",
            "\n",
            "\n",
            "Feature Importances:\n",
            "  sepal length (cm): 0.0000\n",
            "  sepal width (cm): 0.0145\n",
            "  petal length (cm): 0.8954\n",
            "  petal width (cm): 0.0901\n"
          ]
        }
      ]
    },
    {
      "cell_type": "markdown",
      "source": [
        "19.  Write a Python program to train a Decision Tree Regressor on a housing dataset and evaluate using Mean\n",
        "Squared Error (MSE)."
      ],
      "metadata": {
        "id": "wxHdqKfv24RG"
      }
    },
    {
      "cell_type": "code",
      "source": [
        "# Import necessary libraries\n",
        "from sklearn.datasets import fetch_california_housing # A more modern housing dataset\n",
        "from sklearn.model_selection import train_test_split\n",
        "from sklearn.tree import DecisionTreeRegressor\n",
        "from sklearn.metrics import mean_squared_error\n",
        "import numpy as np # For numerical operations\n",
        "\n",
        "# 1. Load the California Housing dataset\n",
        "# This dataset contains information about house prices in California.\n",
        "# It's a commonly used dataset for regression tasks.\n",
        "print(\"Loading California Housing dataset...\")\n",
        "housing = fetch_california_housing()\n",
        "X = housing.data  # Features (e.g., median income, house age, average rooms)\n",
        "y = housing.target # Target variable (median house value in 100,000s of dollars)\n",
        "\n",
        "# Print some information about the dataset\n",
        "print(\"Features (X):\", housing.feature_names)\n",
        "print(\"Target (y): Median House Value (in 100,000s of dollars)\")\n",
        "print(f\"Dataset shape: X={X.shape}, y={y.shape}\\n\")\n",
        "\n",
        "# 2. Split the data into training and testing sets\n",
        "# We'll use 80% of the data for training and 20% for testing.\n",
        "# random_state ensures reproducibility of the split.\n",
        "X_train, X_test, y_train, y_test = train_test_split(X, y, test_size=0.2, random_state=42)\n",
        "\n",
        "print(f\"Training data shape: X_train={X_train.shape}, y_train={y_train.shape}\")\n",
        "print(f\"Testing data shape: X_test={X_test.shape}, y_test={y_test.shape}\\n\")\n",
        "\n",
        "# 3. Initialize the Decision Tree Regressor\n",
        "# We create an instance of the DecisionTreeRegressor.\n",
        "# random_state is set for reproducibility.\n",
        "# You can experiment with parameters like max_depth, min_samples_leaf, etc.,\n",
        "# to tune the model and prevent overfitting.\n",
        "dt_regressor = DecisionTreeRegressor(random_state=42)\n",
        "\n",
        "# 4. Train the model on the training data\n",
        "# The .fit() method trains the decision tree using the training features (X_train)\n",
        "# and their corresponding target values (y_train).\n",
        "print(\"Training the Decision Tree Regressor...\")\n",
        "dt_regressor.fit(X_train, y_train)\n",
        "print(\"Training complete.\\n\")\n",
        "\n",
        "# 5. Make predictions on the test data\n",
        "# The .predict() method uses the trained model to predict house values\n",
        "# for the unseen test features (X_test).\n",
        "print(\"Making predictions on the test set...\")\n",
        "y_pred = dt_regressor.predict(X_test)\n",
        "print(\"Predictions made.\\n\")\n",
        "\n",
        "# 6. Evaluate the model using Mean Squared Error (MSE)\n",
        "# MSE measures the average of the squares of the errors (the difference\n",
        "# between actual and predicted values). Lower MSE indicates a better fit.\n",
        "mse = mean_squared_error(y_test, y_pred)\n",
        "rmse = np.sqrt(mse) # Root Mean Squared Error (RMSE) is often more interpretable\n",
        "\n",
        "print(f\"Mean Squared Error (MSE): {mse:.4f}\")\n",
        "print(f\"Root Mean Squared Error (RMSE): {rmse:.4f}\")\n",
        "\n",
        "# Optional: Print Feature Importances (similar to classifier)\n",
        "print(\"\\nFeature Importances:\")\n",
        "for feature, importance in zip(housing.feature_names, dt_regressor.feature_importances_):\n",
        "    print(f\"  {feature}: {importance:.4f}\")"
      ],
      "metadata": {
        "colab": {
          "base_uri": "https://localhost:8080/"
        },
        "id": "7yoTgdtLJUBG",
        "outputId": "c0a4c90b-8654-4ad9-8cbe-c2ae15c223a5"
      },
      "execution_count": null,
      "outputs": [
        {
          "output_type": "stream",
          "name": "stdout",
          "text": [
            "Loading California Housing dataset...\n",
            "Features (X): ['MedInc', 'HouseAge', 'AveRooms', 'AveBedrms', 'Population', 'AveOccup', 'Latitude', 'Longitude']\n",
            "Target (y): Median House Value (in 100,000s of dollars)\n",
            "Dataset shape: X=(20640, 8), y=(20640,)\n",
            "\n",
            "Training data shape: X_train=(16512, 8), y_train=(16512,)\n",
            "Testing data shape: X_test=(4128, 8), y_test=(4128,)\n",
            "\n",
            "Training the Decision Tree Regressor...\n",
            "Training complete.\n",
            "\n",
            "Making predictions on the test set...\n",
            "Predictions made.\n",
            "\n",
            "Mean Squared Error (MSE): 0.4952\n",
            "Root Mean Squared Error (RMSE): 0.7037\n",
            "\n",
            "Feature Importances:\n",
            "  MedInc: 0.5285\n",
            "  HouseAge: 0.0519\n",
            "  AveRooms: 0.0530\n",
            "  AveBedrms: 0.0287\n",
            "  Population: 0.0305\n",
            "  AveOccup: 0.1308\n",
            "  Latitude: 0.0937\n",
            "  Longitude: 0.0829\n"
          ]
        }
      ]
    },
    {
      "cell_type": "markdown",
      "source": [
        "20. Write a Python program to train a Decision Tree Classifier and visualize the tree using graphviz."
      ],
      "metadata": {
        "id": "FL_OlPPEJlvj"
      }
    },
    {
      "cell_type": "code",
      "source": [
        "# Import necessary libraries\n",
        "from sklearn.datasets import load_iris # Changed to Iris dataset for classification\n",
        "from sklearn.model_selection import train_test_split\n",
        "from sklearn.tree import DecisionTreeClassifier # Changed to Classifier\n",
        "from sklearn.metrics import accuracy_score\n",
        "from sklearn.metrics import classification_report\n",
        "import numpy as np # Still useful for general numerical operations\n",
        "\n",
        "# For tree visualization\n",
        "from sklearn.tree import export_graphviz\n",
        "from io import StringIO\n",
        "from IPython.display import Image\n",
        "import pydotplus\n",
        "\n",
        "# 1. Load the Iris dataset\n",
        "# The Iris dataset is a classic dataset for classification,\n",
        "# containing measurements of iris flowers and their corresponding species.\n",
        "print(\"Loading Iris dataset...\")\n",
        "iris = load_iris()\n",
        "X = iris.data  # Features\n",
        "y = iris.target # Target variable (species)\n",
        "\n",
        "# Print the feature names and target names for better understanding\n",
        "print(\"Features (X):\", iris.feature_names)\n",
        "print(\"Target (y):\", iris.target_names)\n",
        "print(f\"Dataset shape: X={X.shape}, y={y.shape}\\n\")\n",
        "\n",
        "# 2. Split the data into training and testing sets\n",
        "# We'll use 80% of the data for training and 20% for testing.\n",
        "# random_state ensures reproducibility of the split.\n",
        "X_train, X_test, y_train, y_test = train_test_split(X, y, test_size=0.2, random_state=42)\n",
        "\n",
        "print(f\"Training data shape: X_train={X_train.shape}, y_train={y_train.shape}\")\n",
        "print(f\"Testing data shape: X_test={X_test.shape}, y_test={y_test.shape}\\n\")\n",
        "\n",
        "# 3. Initialize the Decision Tree Classifier\n",
        "# We create an instance of the DecisionTreeClassifier.\n",
        "# random_state is set for reproducibility.\n",
        "# You can experiment with parameters like max_depth, min_samples_leaf, etc.,\n",
        "# to tune the model and prevent overfitting.\n",
        "dt_classifier = DecisionTreeClassifier(random_state=42)\n",
        "\n",
        "# 4. Train the model on the training data\n",
        "# The .fit() method trains the decision tree using the training features (X_train)\n",
        "# and their corresponding target labels (y_train).\n",
        "print(\"Training the Decision Tree Classifier...\")\n",
        "dt_classifier.fit(X_train, y_train)\n",
        "print(\"Training complete.\\n\")\n",
        "\n",
        "# 5. Make predictions on the test data\n",
        "# The .predict() method uses the trained model to predict the species\n",
        "# for the unseen test features (X_test).\n",
        "print(\"Making predictions on the test set...\")\n",
        "y_pred = dt_classifier.predict(X_test)\n",
        "print(\"Predictions made.\\n\")\n",
        "\n",
        "# 6. Evaluate the model using Accuracy\n",
        "# Accuracy is calculated by comparing the predicted labels (y_pred)\n",
        "# with the true labels of the test set (y_test).\n",
        "accuracy = accuracy_score(y_test, y_pred)\n",
        "print(f\"Model Accuracy: {accuracy:.4f}\")\n",
        "\n",
        "# Print a classification report for more detailed metrics\n",
        "print(\"\\nClassification Report:\")\n",
        "print(classification_report(y_test, y_pred, target_names=iris.target_names))\n",
        "\n",
        "# 7. Print Feature Importances\n",
        "# Feature importances indicate the relative importance of each feature in the decision process.\n",
        "# Higher values mean the feature was used more effectively to reduce impurity.\n",
        "print(\"\\nFeature Importances:\")\n",
        "for feature, importance in zip(iris.feature_names, dt_classifier.feature_importances_):\n",
        "    print(f\"  {feature}: {importance:.4f}\")\n",
        "\n",
        "# 8. Visualize the Decision Tree\n",
        "# This section generates a .png image of the decision tree.\n",
        "# To run this part, you need to have Graphviz installed on your system\n",
        "# and pydotplus installed in your Python environment.\n",
        "# Installation instructions:\n",
        "#   1. Install Graphviz: https://graphviz.org/download/\n",
        "#   2. Install pydotplus: pip install pydotplus\n",
        "print(\"\\nGenerating Decision Tree visualization...\")\n",
        "dot_data = StringIO()\n",
        "export_graphviz(dt_classifier, out_file=dot_data,\n",
        "                filled=True, rounded=True,\n",
        "                special_characters=True,\n",
        "                feature_names=iris.feature_names,\n",
        "                class_names=iris.target_names)\n",
        "graph = pydotplus.graph_from_dot_data(dot_data.getvalue())\n",
        "\n",
        "# You can save the image to a file or display it directly in environments that support it\n",
        "# For typical Python script execution, saving to a file is common:\n",
        "graph.write_png(\"iris_decision_tree.png\")\n",
        "print(\"Decision tree visualization saved as 'iris_decision_tree.png'\")\n"
      ],
      "metadata": {
        "colab": {
          "base_uri": "https://localhost:8080/"
        },
        "id": "NdLW27PFQA-T",
        "outputId": "7bb57f17-0421-4036-cc71-5b766d037159"
      },
      "execution_count": null,
      "outputs": [
        {
          "output_type": "stream",
          "name": "stdout",
          "text": [
            "Loading Iris dataset...\n",
            "Features (X): ['sepal length (cm)', 'sepal width (cm)', 'petal length (cm)', 'petal width (cm)']\n",
            "Target (y): ['setosa' 'versicolor' 'virginica']\n",
            "Dataset shape: X=(150, 4), y=(150,)\n",
            "\n",
            "Training data shape: X_train=(120, 4), y_train=(120,)\n",
            "Testing data shape: X_test=(30, 4), y_test=(30,)\n",
            "\n",
            "Training the Decision Tree Classifier...\n",
            "Training complete.\n",
            "\n",
            "Making predictions on the test set...\n",
            "Predictions made.\n",
            "\n",
            "Model Accuracy: 1.0000\n",
            "\n",
            "Classification Report:\n",
            "              precision    recall  f1-score   support\n",
            "\n",
            "      setosa       1.00      1.00      1.00        10\n",
            "  versicolor       1.00      1.00      1.00         9\n",
            "   virginica       1.00      1.00      1.00        11\n",
            "\n",
            "    accuracy                           1.00        30\n",
            "   macro avg       1.00      1.00      1.00        30\n",
            "weighted avg       1.00      1.00      1.00        30\n",
            "\n",
            "\n",
            "Feature Importances:\n",
            "  sepal length (cm): 0.0000\n",
            "  sepal width (cm): 0.0167\n",
            "  petal length (cm): 0.9061\n",
            "  petal width (cm): 0.0772\n",
            "\n",
            "Generating Decision Tree visualization...\n",
            "Decision tree visualization saved as 'iris_decision_tree.png'\n"
          ]
        }
      ]
    },
    {
      "cell_type": "markdown",
      "source": [
        "21.  Write a Python program to train a Decision Tree Classifier with a maximum depth of 3 and compare its\n",
        "accuracy with a fully grown tree."
      ],
      "metadata": {
        "id": "aMCqyGLFQf9A"
      }
    },
    {
      "cell_type": "code",
      "source": [
        "# Import necessary libraries\n",
        "from sklearn.datasets import load_iris\n",
        "from sklearn.model_selection import train_test_split\n",
        "from sklearn.tree import DecisionTreeClassifier\n",
        "from sklearn.metrics import accuracy_score\n",
        "from sklearn.metrics import classification_report\n",
        "import numpy as np\n",
        "\n",
        "# For tree visualization (optional, requires Graphviz and pydotplus)\n",
        "from sklearn.tree import export_graphviz\n",
        "from io import StringIO\n",
        "from IPython.display import Image\n",
        "import pydotplus\n",
        "\n",
        "# 1. Load the Iris dataset\n",
        "print(\"Loading Iris dataset...\")\n",
        "iris = load_iris()\n",
        "X = iris.data  # Features\n",
        "y = iris.target # Target variable (species)\n",
        "\n",
        "print(\"Features (X):\", iris.feature_names)\n",
        "print(\"Target (y):\", iris.target_names)\n",
        "print(f\"Dataset shape: X={X.shape}, y={y.shape}\\n\")\n",
        "\n",
        "# 2. Split the data into training and testing sets\n",
        "X_train, X_test, y_train, y_test = train_test_split(X, y, test_size=0.2, random_state=42)\n",
        "\n",
        "print(f\"Training data shape: X_train={X_train.shape}, y_train={y_train.shape}\")\n",
        "print(f\"Testing data shape: X_test={X_test.shape}, y_test={y_test.shape}\\n\")\n",
        "\n",
        "# --- Model 1: Fully Grown Decision Tree Classifier ---\n",
        "print(\"--- Training Fully Grown Decision Tree Classifier ---\")\n",
        "dt_classifier_full = DecisionTreeClassifier(random_state=42)\n",
        "\n",
        "print(\"Training the fully grown Decision Tree Classifier...\")\n",
        "dt_classifier_full.fit(X_train, y_train)\n",
        "print(\"Training complete.\\n\")\n",
        "\n",
        "print(\"Making predictions with fully grown tree on the test set...\")\n",
        "y_pred_full = dt_classifier_full.predict(X_test)\n",
        "print(\"Predictions made.\\n\")\n",
        "\n",
        "accuracy_full = accuracy_score(y_test, y_pred_full)\n",
        "print(f\"Fully Grown Tree Accuracy: {accuracy_full:.4f}\")\n",
        "\n",
        "print(\"\\nClassification Report (Fully Grown Tree):\")\n",
        "print(classification_report(y_test, y_pred_full, target_names=iris.target_names))\n",
        "\n",
        "print(\"\\nFeature Importances (Fully Grown Tree):\")\n",
        "for feature, importance in zip(iris.feature_names, dt_classifier_full.feature_importances_):\n",
        "    print(f\"  {feature}: {importance:.4f}\")\n",
        "\n",
        "# --- Model 2: Decision Tree Classifier with max_depth=3 ---\n",
        "print(\"\\n--- Training Decision Tree Classifier with max_depth=3 ---\")\n",
        "dt_classifier_depth3 = DecisionTreeClassifier(max_depth=3, random_state=42)\n",
        "\n",
        "print(\"Training the max_depth=3 Decision Tree Classifier...\")\n",
        "dt_classifier_depth3.fit(X_train, y_train)\n",
        "print(\"Training complete.\\n\")\n",
        "\n",
        "print(\"Making predictions with max_depth=3 tree on the test set...\")\n",
        "y_pred_depth3 = dt_classifier_depth3.predict(X_test)\n",
        "print(\"Predictions made.\\n\")\n",
        "\n",
        "accuracy_depth3 = accuracy_score(y_test, y_pred_depth3)\n",
        "print(f\"Max Depth 3 Tree Accuracy: {accuracy_depth3:.4f}\")\n",
        "\n",
        "print(\"\\nClassification Report (Max Depth 3 Tree):\")\n",
        "print(classification_report(y_test, y_pred_depth3, target_names=iris.target_names))\n",
        "\n",
        "print(\"\\nFeature Importances (Max Depth 3 Tree):\")\n",
        "for feature, importance in zip(iris.feature_names, dt_classifier_depth3.feature_importances_):\n",
        "    print(f\"  {feature}: {importance:.4f}\")\n",
        "\n",
        "# --- Comparison of Accuracies ---\n",
        "print(\"\\n--- Accuracy Comparison ---\")\n",
        "print(f\"Fully Grown Tree Accuracy: {accuracy_full:.4f}\")\n",
        "print(f\"Max Depth 3 Tree Accuracy: {accuracy_depth3:.4f}\")\n",
        "\n",
        "\n",
        "# 8. Visualize the Decision Tree (Fully Grown)\n",
        "# This section generates a .png image of the fully grown decision tree.\n",
        "# To run this part, you need to have Graphviz installed on your system\n",
        "# and pydotplus installed in your Python environment.\n",
        "# Installation instructions:\n",
        "#   1. Install Graphviz: https://graphviz.org/download/\n",
        "#   2. Install pydotplus: pip install pydotplus\n",
        "print(\"\\nGenerating Fully Grown Decision Tree visualization...\")\n",
        "dot_data_full = StringIO()\n",
        "export_graphviz(dt_classifier_full, out_file=dot_data_full,\n",
        "                filled=True, rounded=True,\n",
        "                special_characters=True,\n",
        "                feature_names=iris.feature_names,\n",
        "                class_names=iris.target_names)\n",
        "graph_full = pydotplus.graph_from_dot_data(dot_data_full.getvalue())\n",
        "graph_full.write_png(\"iris_decision_tree_full.png\")\n",
        "print(\"Fully grown decision tree visualization saved as 'iris_decision_tree_full.png'\")\n",
        "\n",
        "# 9. Visualize the Decision Tree (Max Depth 3)\n",
        "print(\"\\nGenerating Max Depth 3 Decision Tree visualization...\")\n",
        "dot_data_depth3 = StringIO()\n",
        "export_graphviz(dt_classifier_depth3, out_file=dot_data_depth3,\n",
        "                filled=True, rounded=True,\n",
        "                special_characters=True,\n",
        "                feature_names=iris.feature_names,\n",
        "                class_names=iris.target_names)\n",
        "graph_depth3 = pydotplus.graph_from_dot_data(dot_data_depth3.getvalue())\n",
        "graph_depth3.write_png(\"iris_decision_tree_depth3.png\")\n",
        "print(\"Max depth 3 decision tree visualization saved as 'iris_decision_tree_depth3.png'\")\n"
      ],
      "metadata": {
        "colab": {
          "base_uri": "https://localhost:8080/"
        },
        "id": "_Jeak1liQkV3",
        "outputId": "f3e1c445-e546-40dc-ded1-c0d080dfb9da"
      },
      "execution_count": null,
      "outputs": [
        {
          "output_type": "stream",
          "name": "stdout",
          "text": [
            "Loading Iris dataset...\n",
            "Features (X): ['sepal length (cm)', 'sepal width (cm)', 'petal length (cm)', 'petal width (cm)']\n",
            "Target (y): ['setosa' 'versicolor' 'virginica']\n",
            "Dataset shape: X=(150, 4), y=(150,)\n",
            "\n",
            "Training data shape: X_train=(120, 4), y_train=(120,)\n",
            "Testing data shape: X_test=(30, 4), y_test=(30,)\n",
            "\n",
            "--- Training Fully Grown Decision Tree Classifier ---\n",
            "Training the fully grown Decision Tree Classifier...\n",
            "Training complete.\n",
            "\n",
            "Making predictions with fully grown tree on the test set...\n",
            "Predictions made.\n",
            "\n",
            "Fully Grown Tree Accuracy: 1.0000\n",
            "\n",
            "Classification Report (Fully Grown Tree):\n",
            "              precision    recall  f1-score   support\n",
            "\n",
            "      setosa       1.00      1.00      1.00        10\n",
            "  versicolor       1.00      1.00      1.00         9\n",
            "   virginica       1.00      1.00      1.00        11\n",
            "\n",
            "    accuracy                           1.00        30\n",
            "   macro avg       1.00      1.00      1.00        30\n",
            "weighted avg       1.00      1.00      1.00        30\n",
            "\n",
            "\n",
            "Feature Importances (Fully Grown Tree):\n",
            "  sepal length (cm): 0.0000\n",
            "  sepal width (cm): 0.0167\n",
            "  petal length (cm): 0.9061\n",
            "  petal width (cm): 0.0772\n",
            "\n",
            "--- Training Decision Tree Classifier with max_depth=3 ---\n",
            "Training the max_depth=3 Decision Tree Classifier...\n",
            "Training complete.\n",
            "\n",
            "Making predictions with max_depth=3 tree on the test set...\n",
            "Predictions made.\n",
            "\n",
            "Max Depth 3 Tree Accuracy: 1.0000\n",
            "\n",
            "Classification Report (Max Depth 3 Tree):\n",
            "              precision    recall  f1-score   support\n",
            "\n",
            "      setosa       1.00      1.00      1.00        10\n",
            "  versicolor       1.00      1.00      1.00         9\n",
            "   virginica       1.00      1.00      1.00        11\n",
            "\n",
            "    accuracy                           1.00        30\n",
            "   macro avg       1.00      1.00      1.00        30\n",
            "weighted avg       1.00      1.00      1.00        30\n",
            "\n",
            "\n",
            "Feature Importances (Max Depth 3 Tree):\n",
            "  sepal length (cm): 0.0000\n",
            "  sepal width (cm): 0.0000\n",
            "  petal length (cm): 0.9346\n",
            "  petal width (cm): 0.0654\n",
            "\n",
            "--- Accuracy Comparison ---\n",
            "Fully Grown Tree Accuracy: 1.0000\n",
            "Max Depth 3 Tree Accuracy: 1.0000\n",
            "\n",
            "Generating Fully Grown Decision Tree visualization...\n",
            "Fully grown decision tree visualization saved as 'iris_decision_tree_full.png'\n",
            "\n",
            "Generating Max Depth 3 Decision Tree visualization...\n",
            "Max depth 3 decision tree visualization saved as 'iris_decision_tree_depth3.png'\n"
          ]
        }
      ]
    },
    {
      "cell_type": "markdown",
      "source": [
        "22. Write a Python program to train a Decision Tree Classifier using min_samples_split=5 and compare its\n",
        "accuracy with a default tree."
      ],
      "metadata": {
        "id": "QtpcOM1iQ2Wc"
      }
    },
    {
      "cell_type": "code",
      "source": [
        "from sklearn.datasets import load_iris\n",
        "from sklearn.model_selection import train_test_split\n",
        "from sklearn.tree import DecisionTreeClassifier\n",
        "from sklearn.metrics import accuracy_score\n",
        "\n",
        "# Load dataset\n",
        "iris = load_iris()\n",
        "X, y = iris.data, iris.target\n",
        "\n",
        "# Split into train and test sets\n",
        "X_train, X_test, y_train, y_test = train_test_split(X, y, test_size=0.3, random_state=42)\n",
        "\n",
        "# Train Decision Tree with default parameters\n",
        "clf_default = DecisionTreeClassifier(random_state=42)\n",
        "clf_default.fit(X_train, y_train)\n",
        "y_pred_default = clf_default.predict(X_test)\n",
        "acc_default = accuracy_score(y_test, y_pred_default)\n",
        "\n",
        "# Train Decision Tree with min_samples_split=5\n",
        "clf_split5 = DecisionTreeClassifier(min_samples_split=5, random_state=42)\n",
        "clf_split5.fit(X_train, y_train)\n",
        "y_pred_split5 = clf_split5.predict(X_test)\n",
        "acc_split5 = accuracy_score(y_test, y_pred_split5)\n",
        "\n",
        "print(f\"Default Decision Tree Accuracy: {acc_default:.4f}\")\n",
        "print(f\"Decision Tree (min_samples_split=5) Accuracy: {acc_split5:.4f}\")"
      ],
      "metadata": {
        "colab": {
          "base_uri": "https://localhost:8080/"
        },
        "id": "piZ1oKcORcY9",
        "outputId": "7aca3053-58cc-4ffc-f6e9-19190aab3e26"
      },
      "execution_count": null,
      "outputs": [
        {
          "output_type": "stream",
          "name": "stdout",
          "text": [
            "Default Decision Tree Accuracy: 1.0000\n",
            "Decision Tree (min_samples_split=5) Accuracy: 1.0000\n"
          ]
        }
      ]
    },
    {
      "cell_type": "markdown",
      "source": [
        "23. Write a Python program to apply feature scaling before training a Decision Tree Classifier and compare its\n",
        "accuracy with unscaled data."
      ],
      "metadata": {
        "id": "XmCoxE8OTF-q"
      }
    },
    {
      "cell_type": "code",
      "source": [
        "from sklearn.datasets import load_wine\n",
        "from sklearn.model_selection import train_test_split\n",
        "from sklearn.preprocessing import StandardScaler\n",
        "from sklearn.tree import DecisionTreeClassifier\n",
        "from sklearn.metrics import accuracy_score\n",
        "\n",
        "# Load sample dataset\n",
        "X, y = load_wine(return_X_y=True, as_frame=True)\n",
        "\n",
        "# Split into train and test sets\n",
        "X_train, X_test, y_train, y_test = train_test_split(\n",
        "    X, y, test_size=0.3, random_state=42\n",
        ")\n",
        "\n",
        "# 1. Train Decision Tree on unscaled data\n",
        "clf_unscaled = DecisionTreeClassifier(random_state=42)\n",
        "clf_unscaled.fit(X_train, y_train)\n",
        "y_pred_unscaled = clf_unscaled.predict(X_test)\n",
        "acc_unscaled = accuracy_score(y_test, y_pred_unscaled)\n",
        "\n",
        "# 2. Train Decision Tree on scaled data\n",
        "scaler = StandardScaler()\n",
        "X_train_scaled = scaler.fit_transform(X_train)\n",
        "X_test_scaled = scaler.transform(X_test)\n",
        "\n",
        "clf_scaled = DecisionTreeClassifier(random_state=42)\n",
        "clf_scaled.fit(X_train_scaled, y_train)\n",
        "y_pred_scaled = clf_scaled.predict(X_test_scaled)\n",
        "acc_scaled = accuracy_score(y_test, y_pred_scaled)\n",
        "\n",
        "# Print results\n",
        "print(f\"Accuracy with unscaled data: {acc_unscaled:.4f}\")\n",
        "print(f\"Accuracy with scaled data:   {acc_scaled:.4f}\")"
      ],
      "metadata": {
        "id": "oKib8v_sTOCa",
        "colab": {
          "base_uri": "https://localhost:8080/"
        },
        "outputId": "5c8a4995-b218-4f0e-817c-9a40d4fa1cf1"
      },
      "execution_count": 11,
      "outputs": [
        {
          "output_type": "stream",
          "name": "stdout",
          "text": [
            "Accuracy with unscaled data: 0.9630\n",
            "Accuracy with scaled data:   0.9630\n"
          ]
        }
      ]
    },
    {
      "cell_type": "markdown",
      "source": [
        "24.  Write a Python program to train a Decision Tree Classifier using One-vs-Rest (OvR) strategy for multiclass\n",
        "classification"
      ],
      "metadata": {
        "id": "lumDI07eLAkF"
      }
    },
    {
      "cell_type": "code",
      "source": [
        "from sklearn.datasets import load_iris\n",
        "from sklearn.model_selection import train_test_split\n",
        "from sklearn.tree import DecisionTreeClassifier\n",
        "from sklearn.multiclass import OneVsRestClassifier\n",
        "from sklearn.metrics import accuracy_score\n",
        "\n",
        "# Load a multiclass dataset (Iris)\n",
        "X, y = load_iris(return_X_y=True)\n",
        "\n",
        "# Split into train and test sets\n",
        "X_train, X_test, y_train, y_test = train_test_split(\n",
        "    X, y, test_size=0.3, random_state=42\n",
        ")\n",
        "\n",
        "# Define the base classifier\n",
        "base_clf = DecisionTreeClassifier(random_state=42)\n",
        "\n",
        "# Wrap with OneVsRestClassifier\n",
        "ovr_clf = OneVsRestClassifier(base_clf)\n",
        "\n",
        "# Train the OvR Decision Tree\n",
        "ovr_clf.fit(X_train, y_train)\n",
        "\n",
        "# Predict on the test set\n",
        "y_pred = ovr_clf.predict(X_test)\n",
        "\n",
        "# Evaluate accuracy\n",
        "accuracy = accuracy_score(y_test, y_pred)\n",
        "print(f\"One-vs-Rest Decision Tree Classifier accuracy: {accuracy:.4f}\")"
      ],
      "metadata": {
        "colab": {
          "base_uri": "https://localhost:8080/"
        },
        "id": "PCOCbVwKLHn8",
        "outputId": "7ed59508-4b30-4852-bbd3-945f1512e7d5"
      },
      "execution_count": 1,
      "outputs": [
        {
          "output_type": "stream",
          "name": "stdout",
          "text": [
            "One-vs-Rest Decision Tree Classifier accuracy: 1.0000\n"
          ]
        }
      ]
    },
    {
      "cell_type": "markdown",
      "source": [
        "25. Write a Python program to train a Decision Tree Classifier and display the feature importance scores."
      ],
      "metadata": {
        "id": "vGaxd1EjLtmK"
      }
    },
    {
      "cell_type": "code",
      "source": [
        "import pandas as pd\n",
        "from sklearn.datasets import load_iris\n",
        "from sklearn.tree import DecisionTreeClassifier\n",
        "import matplotlib.pyplot as plt\n",
        "\n",
        "# Load dataset\n",
        "data = load_iris()\n",
        "X = pd.DataFrame(data.data, columns=data.feature_names)\n",
        "y = data.target\n",
        "\n",
        "# Train Decision Tree Classifier\n",
        "clf = DecisionTreeClassifier(random_state=42)\n",
        "clf.fit(X, y)\n",
        "\n",
        "# Get feature importance scores\n",
        "importances = clf.feature_importances_\n",
        "\n",
        "# Display feature importances with feature names\n",
        "feature_importances = pd.Series(importances, index=X.columns)\n",
        "print(\"Feature Importance Scores:\")\n",
        "print(feature_importances.sort_values(ascending=False))\n",
        "\n",
        "# Optional: Plot feature importances\n",
        "feature_importances.sort_values(ascending=True).plot.barh()\n",
        "plt.title('Feature Importances from Decision Tree')\n",
        "plt.xlabel('Importance Score')\n",
        "plt.ylabel('Feature')\n",
        "plt.tight_layout()\n",
        "plt.show()"
      ],
      "metadata": {
        "colab": {
          "base_uri": "https://localhost:8080/",
          "height": 591
        },
        "id": "-DaDGhAFL7en",
        "outputId": "b2ef7616-0f03-4873-f774-38849d6be8dc"
      },
      "execution_count": 2,
      "outputs": [
        {
          "output_type": "stream",
          "name": "stdout",
          "text": [
            "Feature Importance Scores:\n",
            "petal length (cm)    0.564056\n",
            "petal width (cm)     0.422611\n",
            "sepal length (cm)    0.013333\n",
            "sepal width (cm)     0.000000\n",
            "dtype: float64\n"
          ]
        },
        {
          "output_type": "display_data",
          "data": {
            "text/plain": [
              "<Figure size 640x480 with 1 Axes>"
            ],
            "image/png": "[encoded data removed]"
          },
          "metadata": {}
        }
      ]
    },
    {
      "cell_type": "markdown",
      "source": [
        "26. Write a Python program to train a Decision Tree Regressor with max_depth=5 and compare its performance\n",
        "with an unrestricted tree"
      ],
      "metadata": {
        "id": "lmM6jnHDL-MA"
      }
    },
    {
      "cell_type": "code",
      "source": [
        "import numpy as np\n",
        "from sklearn.datasets import fetch_california_housing\n",
        "from sklearn.model_selection import train_test_split\n",
        "from sklearn.tree import DecisionTreeRegressor\n",
        "from sklearn.metrics import mean_squared_error, r2_score\n",
        "\n",
        "# Load a regression dataset\n",
        "X, y = fetch_california_housing(return_X_y=True, as_frame=False)\n",
        "\n",
        "# Split into training and test sets\n",
        "X_train, X_test, y_train, y_test = train_test_split(\n",
        "    X, y, test_size=0.2, random_state=42\n",
        ")\n",
        "\n",
        "# Train Decision Tree Regressor with max_depth=5\n",
        "reg_limited = DecisionTreeRegressor(max_depth=5, random_state=42)\n",
        "reg_limited.fit(X_train, y_train)\n",
        "y_pred_limited = reg_limited.predict(X_test)\n",
        "\n",
        "# Train unrestricted Decision Tree Regressor\n",
        "reg_unrestricted = DecisionTreeRegressor(random_state=42)\n",
        "reg_unrestricted.fit(X_train, y_train)\n",
        "y_pred_unrestricted = reg_unrestricted.predict(X_test)\n",
        "\n",
        "# Evaluate models\n",
        "mse_limited = mean_squared_error(y_test, y_pred_limited)\n",
        "r2_limited = r2_score(y_test, y_pred_limited)\n",
        "\n",
        "mse_unrestricted = mean_squared_error(y_test, y_pred_unrestricted)\n",
        "r2_unrestricted = r2_score(y_test, y_pred_unrestricted)\n",
        "\n",
        "print(\"Decision Tree Regressor (max_depth=5):\")\n",
        "print(f\"  Test MSE: {mse_limited:.4f}\")\n",
        "print(f\"  Test R^2: {r2_limited:.4f}\")\n",
        "\n",
        "print(\"\\nDecision Tree Regressor (unrestricted):\")\n",
        "print(f\"  Test MSE: {mse_unrestricted:.4f}\")\n",
        "print(f\"  Test R^2: {r2_unrestricted:.4f}\")"
      ],
      "metadata": {
        "colab": {
          "base_uri": "https://localhost:8080/"
        },
        "id": "uiW6axPYMJd6",
        "outputId": "a3f902fd-460e-4ceb-ec3f-a4b4b934a101"
      },
      "execution_count": 3,
      "outputs": [
        {
          "output_type": "stream",
          "name": "stdout",
          "text": [
            "Decision Tree Regressor (max_depth=5):\n",
            "  Test MSE: 0.5245\n",
            "  Test R^2: 0.5997\n",
            "\n",
            "Decision Tree Regressor (unrestricted):\n",
            "  Test MSE: 0.4952\n",
            "  Test R^2: 0.6221\n"
          ]
        }
      ]
    },
    {
      "cell_type": "markdown",
      "source": [
        "27. Write a Python program to train a Decision Tree Classifier, apply Cost Complexity Pruning (CCP), and\n",
        "visualize its effect on accuracy."
      ],
      "metadata": {
        "id": "vLleX0scMbE_"
      }
    },
    {
      "cell_type": "code",
      "source": [
        "import numpy as np\n",
        "import matplotlib.pyplot as plt\n",
        "import seaborn as sns\n",
        "from sklearn.datasets import load_iris\n",
        "from sklearn.model_selection import train_test_split\n",
        "from sklearn.tree import DecisionTreeClassifier\n",
        "from sklearn.metrics import accuracy_score\n",
        "\n",
        "# Load dataset\n",
        "iris = load_iris()\n",
        "X = iris.data\n",
        "y = iris.target\n",
        "\n",
        "# Split into train and test sets\n",
        "X_train, X_test, y_train, y_test = train_test_split(\n",
        "    X, y, test_size=0.3, random_state=42\n",
        ")\n",
        "\n",
        "# Train initial Decision Tree (unpruned)\n",
        "clf = DecisionTreeClassifier(random_state=42)\n",
        "clf.fit(X_train, y_train)\n",
        "y_pred = clf.predict(X_test)\n",
        "base_acc = accuracy_score(y_test, y_pred)\n",
        "\n",
        "# Obtain cost complexity pruning path\n",
        "path = clf.cost_complexity_pruning_path(X_train, y_train)\n",
        "ccp_alphas = path.ccp_alphas\n",
        "\n",
        "# Train trees for each alpha and record accuracies\n",
        "train_acc = []\n",
        "test_acc = []\n",
        "\n",
        "for ccp_alpha in ccp_alphas:\n",
        "    clf_pruned = DecisionTreeClassifier(random_state=42, ccp_alpha=ccp_alpha)\n",
        "    clf_pruned.fit(X_train, y_train)\n",
        "    train_acc.append(accuracy_score(y_train, clf_pruned.predict(X_train)))\n",
        "    test_acc.append(accuracy_score(y_test, clf_pruned.predict(X_test)))\n",
        "\n",
        "# Plotting the effect of pruning (ccp_alpha) on accuracy\n",
        "sns.set()\n",
        "plt.figure(figsize=(10,6))\n",
        "plt.plot(ccp_alphas, train_acc, marker='o', label='Training Accuracy')\n",
        "plt.plot(ccp_alphas, test_acc, marker='o', label='Testing Accuracy')\n",
        "plt.xlabel('ccp_alpha')\n",
        "plt.ylabel('Accuracy')\n",
        "plt.title('Effect of Cost Complexity Pruning on Decision Tree Accuracy')\n",
        "plt.legend()\n",
        "plt.show()\n",
        "\n",
        "print(f\"Unpruned tree test accuracy: {base_acc:.4f}\")"
      ],
      "metadata": {
        "colab": {
          "base_uri": "https://localhost:8080/",
          "height": 590
        },
        "id": "fP38IS28Mz_3",
        "outputId": "d16de81c-34fa-4215-90a2-c5580d5e1c14"
      },
      "execution_count": 4,
      "outputs": [
        {
          "output_type": "display_data",
          "data": {
            "text/plain": [
              "<Figure size 1000x600 with 1 Axes>"
            ],
            "image/png": "[encoded data removed]"
          },
          "metadata": {}
        },
        {
          "output_type": "stream",
          "name": "stdout",
          "text": [
            "Unpruned tree test accuracy: 1.0000\n"
          ]
        }
      ]
    },
    {
      "cell_type": "markdown",
      "source": [
        "28. Write a Python program to train a Decision Tree Classifier and evaluate its performance using Precision,\n",
        "Recall, and F1-Score."
      ],
      "metadata": {
        "id": "SnfFDd9DM_Xn"
      }
    },
    {
      "cell_type": "code",
      "source": [
        "from sklearn.datasets import load_iris\n",
        "from sklearn.model_selection import train_test_split\n",
        "from sklearn.tree import DecisionTreeClassifier\n",
        "from sklearn.metrics import classification_report, precision_score, recall_score, f1_score\n",
        "\n",
        "# Load dataset\n",
        "X, y = load_iris(return_X_y=True)\n",
        "\n",
        "# Split into train and test sets\n",
        "X_train, X_test, y_train, y_test = train_test_split(\n",
        "    X, y, test_size=0.3, random_state=42\n",
        ")\n",
        "\n",
        "# Train Decision Tree Classifier\n",
        "clf = DecisionTreeClassifier(random_state=42)\n",
        "clf.fit(X_train, y_train)\n",
        "\n",
        "# Predict on the test set\n",
        "y_pred = clf.predict(X_test)\n",
        "\n",
        "# Evaluate performance\n",
        "print(\"Classification Report:\")\n",
        "print(classification_report(y_test, y_pred, target_names=load_iris().target_names))\n",
        "\n",
        "# Macro-averaged metrics\n",
        "precision = precision_score(y_test, y_pred, average='macro')\n",
        "recall = recall_score(y_test, y_pred, average='macro')\n",
        "f1 = f1_score(y_test, y_pred, average='macro')\n",
        "\n",
        "print(f\"Macro-averaged Precision: {precision:.4f}\")\n",
        "print(f\"Macro-averaged Recall:    {recall:.4f}\")\n",
        "print(f\"Macro-averaged F1-Score:  {f1:.4f}\")"
      ],
      "metadata": {
        "colab": {
          "base_uri": "https://localhost:8080/"
        },
        "id": "tuYbg9oVNFAq",
        "outputId": "f973cc7a-1354-461b-83b3-4d5b04357f24"
      },
      "execution_count": 5,
      "outputs": [
        {
          "output_type": "stream",
          "name": "stdout",
          "text": [
            "Classification Report:\n",
            "              precision    recall  f1-score   support\n",
            "\n",
            "      setosa       1.00      1.00      1.00        19\n",
            "  versicolor       1.00      1.00      1.00        13\n",
            "   virginica       1.00      1.00      1.00        13\n",
            "\n",
            "    accuracy                           1.00        45\n",
            "   macro avg       1.00      1.00      1.00        45\n",
            "weighted avg       1.00      1.00      1.00        45\n",
            "\n",
            "Macro-averaged Precision: 1.0000\n",
            "Macro-averaged Recall:    1.0000\n",
            "Macro-averaged F1-Score:  1.0000\n"
          ]
        }
      ]
    },
    {
      "cell_type": "markdown",
      "source": [
        "29.  Write a Python program to train a Decision Tree Classifier and visualize the confusion matrix using seaborn."
      ],
      "metadata": {
        "id": "6vdXmCY-NWYp"
      }
    },
    {
      "cell_type": "code",
      "source": [
        "import matplotlib.pyplot as plt\n",
        "import seaborn as sns\n",
        "from sklearn.datasets import load_iris\n",
        "from sklearn.model_selection import train_test_split\n",
        "from sklearn.tree import DecisionTreeClassifier\n",
        "from sklearn.metrics import confusion_matrix\n",
        "\n",
        "# Load the Iris dataset\n",
        "X, y = load_iris(return_X_y=True)\n",
        "class_names = load_iris().target_names\n",
        "\n",
        "# Split into train and test sets\n",
        "X_train, X_test, y_train, y_test = train_test_split(\n",
        "    X, y, test_size=0.3, random_state=42\n",
        ")\n",
        "\n",
        "# Train Decision Tree Classifier\n",
        "clf = DecisionTreeClassifier(random_state=42)\n",
        "clf.fit(X_train, y_train)\n",
        "\n",
        "# Predict on the test set\n",
        "y_pred = clf.predict(X_test)\n",
        "\n",
        "# Compute confusion matrix\n",
        "cm = confusion_matrix(y_test, y_pred)\n",
        "\n",
        "# Visualize confusion matrix using seaborn\n",
        "plt.figure(figsize=(6,5))\n",
        "sns.heatmap(cm, annot=True, fmt='d', cmap='Blues',\n",
        "            xticklabels=class_names, yticklabels=class_names)\n",
        "plt.xlabel('Predicted Label')\n",
        "plt.ylabel('True Label')\n",
        "plt.title('Confusion Matrix - Decision Tree Classifier')\n",
        "plt.tight_layout()\n",
        "plt.show()"
      ],
      "metadata": {
        "colab": {
          "base_uri": "https://localhost:8080/",
          "height": 501
        },
        "id": "0eU7rxDVNm-X",
        "outputId": "b5d249e1-ad31-4e89-bbba-cdf1e2528e53"
      },
      "execution_count": 6,
      "outputs": [
        {
          "output_type": "display_data",
          "data": {
            "text/plain": [
              "<Figure size 600x500 with 2 Axes>"
            ],
            "image/png": "[encoded data removed]"
          },
          "metadata": {}
        }
      ]
    },
    {
      "cell_type": "markdown",
      "source": [
        "30.  Write a Python program to train a Decision Tree Classifier and use GridSearchCV to find the optimal values\n",
        "for max_depth and min_samples_split."
      ],
      "metadata": {
        "id": "Yd0gNAFFOBb4"
      }
    },
    {
      "cell_type": "code",
      "source": [
        "from sklearn.datasets import load_iris\n",
        "from sklearn.model_selection import train_test_split, GridSearchCV\n",
        "from sklearn.tree import DecisionTreeClassifier\n",
        "from sklearn.metrics import classification_report\n",
        "\n",
        "# Load dataset\n",
        "X, y = load_iris(return_X_y=True)\n",
        "\n",
        "# Split into train and test sets\n",
        "X_train, X_test, y_train, y_test = train_test_split(\n",
        "    X, y, test_size=0.3, random_state=42\n",
        ")\n",
        "\n",
        "# Define parameter grid for GridSearchCV\n",
        "param_grid = {\n",
        "    'max_depth': range(1, 11),\n",
        "    'min_samples_split': range(2, 11)\n",
        "}\n",
        "\n",
        "# Set up GridSearchCV with DecisionTreeClassifier\n",
        "grid_search = GridSearchCV(\n",
        "    DecisionTreeClassifier(random_state=42),\n",
        "    param_grid,\n",
        "    cv=5\n",
        ")\n",
        "\n",
        "# Fit GridSearchCV\n",
        "grid_search.fit(X_train, y_train)\n",
        "\n",
        "# Print best parameters\n",
        "print(\"Best parameters found:\", grid_search.best_params_)\n",
        "\n",
        "# Evaluate performance on test set\n",
        "best_clf = grid_search.best_estimator_\n",
        "y_pred = best_clf.predict(X_test)\n",
        "print(\"\\nClassification Report on Test Set:\")\n",
        "print(classification_report(y_test, y_pred, target_names=load_iris().target_names))"
      ],
      "metadata": {
        "colab": {
          "base_uri": "https://localhost:8080/"
        },
        "id": "kWxbiPrWOHIJ",
        "outputId": "ee390613-1f4e-4677-c658-08c859022412"
      },
      "execution_count": 7,
      "outputs": [
        {
          "output_type": "stream",
          "name": "stdout",
          "text": [
            "Best parameters found: {'max_depth': 4, 'min_samples_split': 6}\n",
            "\n",
            "Classification Report on Test Set:\n",
            "              precision    recall  f1-score   support\n",
            "\n",
            "      setosa       1.00      1.00      1.00        19\n",
            "  versicolor       1.00      1.00      1.00        13\n",
            "   virginica       1.00      1.00      1.00        13\n",
            "\n",
            "    accuracy                           1.00        45\n",
            "   macro avg       1.00      1.00      1.00        45\n",
            "weighted avg       1.00      1.00      1.00        45\n",
            "\n"
          ]
        }
      ]
    },
    {
      "cell_type": "code",
      "source": [],
      "metadata": {
        "id": "SX5nGOVrOUKS"
      },
      "execution_count": null,
      "outputs": []
    }
  ]
}