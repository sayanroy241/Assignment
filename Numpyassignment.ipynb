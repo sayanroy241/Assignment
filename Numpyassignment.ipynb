{
  "nbformat": 4,
  "nbformat_minor": 0,
  "metadata": {
    "colab": {
      "provenance": []
    },
    "kernelspec": {
      "name": "python3",
      "display_name": "Python 3"
    },
    "language_info": {
      "name": "python"
    }
  },
  "cells": [
    {
      "cell_type": "markdown",
      "source": [
        "1. Explain the purpose and advantages of NumPy in scientific computing and data analysis. How does it\n",
        "enhance Python's capabilities for numerical operations?"
      ],
      "metadata": {
        "id": "F8iKDmGXU2bM"
      }
    },
    {
      "cell_type": "markdown",
      "source": [
        "NumPy is a Python library used for scientific computing, data analysis, and numerical computations123. It provides the following advantages:\n",
        "1. Efficient handling of arrays and matrices.\n",
        "2. Faster and more efficient mathematical calculations compared to Python lists.\n",
        "3. Lower memory usage.\n",
        "4. Seamless integration with other libraries.\n",
        "5. Core functionality for numerical operations in Python."
      ],
      "metadata": {
        "id": "iPDf_mAeVcta"
      }
    },
    {
      "cell_type": "markdown",
      "source": [
        "2. Compare and contrast np.mean() and np.average() functions in NumPy. When would you use one over the\n",
        "other?"
      ],
      "metadata": {
        "id": "IOkF4BihVkhy"
      }
    },
    {
      "cell_type": "markdown",
      "source": [
        "Both np.mean() and np.average() functions in NumPy are used to calculate the average of array elements, but they have some key differences and specific use cases:\n",
        "\n",
        "np.mean()\n",
        "\n",
        "Purpose:\n",
        "Calculates the arithmetic mean (simple average) of the array elements.\n",
        "\n",
        "Syntax: np.mean(arr, axis=None)\n",
        "\n",
        "Weights: Does not support weights; all elements are considered equally.\n",
        "\n",
        "Use Case: Use np.mean() when we need the simple arithmetic mean of an array without considering any weights.\n",
        "\n",
        "np.average()\n",
        "Purpose: Calculates the weighted average of the array elements if weights are provided; otherwise, it calculates the arithmetic mean.\n",
        "\n",
        "Syntax: np.average(arr, axis=None, weights=None)\n",
        "\n",
        "Weights: Supports weights; we can pass an array of weights to compute a weighted average.\n",
        "\n",
        "Use Case: Use np.average() when we need to calculate a weighted average, where different elements contribute differently to the final average."
      ],
      "metadata": {
        "id": "ggGFrlrXVroz"
      }
    },
    {
      "cell_type": "code",
      "source": [
        "#example\n",
        "import numpy as np\n",
        "\n",
        "arr = np.array([1, 2, 3, 4, 5])\n",
        "\n",
        "# Using np.mean()\n",
        "mean_value = np.mean(arr)\n",
        "print(\"Mean:\", mean_value)  # Output: Mean: 3.0\n",
        "\n",
        "# Using np.average() without weights\n",
        "average_value = np.average(arr)\n",
        "print(\"Average:\", average_value)  # Output: Average: 3.0\n",
        "\n",
        "# Using np.average() with weights\n",
        "weights = np.array([1, 2, 3, 4, 5])\n",
        "weighted_average_value = np.average(arr, weights=weights)\n",
        "print(\"Weighted Average:\", weighted_average_value)"
      ],
      "metadata": {
        "colab": {
          "base_uri": "https://localhost:8080/"
        },
        "id": "BpiZTrWTalCi",
        "outputId": "409d7ec6-e5cb-420c-f817-5f6cc9137717"
      },
      "execution_count": 1,
      "outputs": [
        {
          "output_type": "stream",
          "name": "stdout",
          "text": [
            "Mean: 3.0\n",
            "Average: 3.0\n",
            "Weighted Average: 3.6666666666666665\n"
          ]
        }
      ]
    },
    {
      "cell_type": "markdown",
      "source": [
        "3. Describe the methods for reversing a NumPy array along different axes. Provide examples for 1D and 2D\n",
        "arrays."
      ],
      "metadata": {
        "id": "KAZyxonKc96j"
      }
    },
    {
      "cell_type": "markdown",
      "source": [
        "Some of the most frequent methods for reversing a numpy array are as follows:\n",
        "\n",
        "1.Utilizing the len() with Loops\n",
        "\n",
        "2.Using the list slicing technique\n",
        "\n",
        "3.Using the flip() function\n",
        "\n",
        "4.Using the reverse() function\n",
        "\n",
        "5.Using the flipud() function\n",
        "\n",
        "6.Using the fliplr() function"
      ],
      "metadata": {
        "id": "iYz46AyudCWR"
      }
    },
    {
      "cell_type": "code",
      "source": [
        "#Example\n",
        "# 1D array\n",
        "import numpy as np\n",
        "\n",
        "arr = np.array([1, 2, 3, 4, 5])\n",
        "reversed_arr = np.flip(arr)\n",
        "print(reversed_arr)\n",
        "\n",
        "import numpy as np\n",
        "\n",
        "# Create a 2D array\n",
        "arr = np.array([[1, 2, 3], [4, 5, 6], [7, 8, 9]])\n",
        "\n",
        "# Original array\n",
        "print(\"Original array:\\n\", arr)\n",
        "\n",
        "# Reverse the array along axis 0 (rows)\n",
        "reversed_rows = np.flip(arr, axis=0)\n",
        "print(\"\\nReversed along axis 0 (rows):\\n\", reversed_rows)\n",
        "\n",
        "# Reverse the array along axis 1 (columns)\n",
        "reversed_columns = np.flip(arr, axis=1)\n",
        "print(\"\\nReversed along axis 1 (columns):\\n\", reversed_columns)\n",
        "\n",
        "# Reverse the array using slicing (rows)\n",
        "sliced_rows = arr[::-1, :]\n",
        "print(\"\\nReversed rows using slicing:\\n\", sliced_rows)\n",
        "\n",
        "# Reverse the array using slicing (columns)\n",
        "sliced_columns = arr[:, ::-1]\n",
        "print(\"\\nReversed columns using slicing:\\n\", sliced_columns)\n",
        "\n",
        "# Reverse the array using flipud (vertical flip)\n",
        "flipped_ud = np.flipud(arr)\n",
        "print(\"\\nFlipped vertically using flipud:\\n\", flipped_ud)\n",
        "\n",
        "# Reverse the array using fliplr (horizontal flip)\n",
        "flipped_lr = np.fliplr(arr)\n",
        "print(\"\\nFlipped horizontally using fliplr:\\n\", flipped_lr)\n"
      ],
      "metadata": {
        "colab": {
          "base_uri": "https://localhost:8080/"
        },
        "id": "HfvwxMIkgfSM",
        "outputId": "60c398b1-1e85-4d28-efbf-336da6dc60ee"
      },
      "execution_count": 2,
      "outputs": [
        {
          "output_type": "stream",
          "name": "stdout",
          "text": [
            "[5 4 3 2 1]\n",
            "Original array:\n",
            " [[1 2 3]\n",
            " [4 5 6]\n",
            " [7 8 9]]\n",
            "\n",
            "Reversed along axis 0 (rows):\n",
            " [[7 8 9]\n",
            " [4 5 6]\n",
            " [1 2 3]]\n",
            "\n",
            "Reversed along axis 1 (columns):\n",
            " [[3 2 1]\n",
            " [6 5 4]\n",
            " [9 8 7]]\n",
            "\n",
            "Reversed rows using slicing:\n",
            " [[7 8 9]\n",
            " [4 5 6]\n",
            " [1 2 3]]\n",
            "\n",
            "Reversed columns using slicing:\n",
            " [[3 2 1]\n",
            " [6 5 4]\n",
            " [9 8 7]]\n",
            "\n",
            "Flipped vertically using flipud:\n",
            " [[7 8 9]\n",
            " [4 5 6]\n",
            " [1 2 3]]\n",
            "\n",
            "Flipped horizontally using fliplr:\n",
            " [[3 2 1]\n",
            " [6 5 4]\n",
            " [9 8 7]]\n"
          ]
        }
      ]
    },
    {
      "cell_type": "markdown",
      "source": [
        "4. How can you determine the data type of elements in a NumPy array? Discuss the importance of data types\n",
        "in memory management and performance."
      ],
      "metadata": {
        "id": "y_QhZ7ASiGve"
      }
    },
    {
      "cell_type": "code",
      "source": [
        "#To determine the data type of elements in a NumPy array, you can use the dtype attribute. Here’s a simple example:\n",
        "\n",
        "\n",
        "import numpy as np\n",
        "\n",
        "arr = np.array([1, 2, 3, 4, 5])\n",
        "\n",
        "# Check the data type of the array elements\n",
        "print(arr.dtype)"
      ],
      "metadata": {
        "colab": {
          "base_uri": "https://localhost:8080/"
        },
        "id": "7PjaA2XLmNjx",
        "outputId": "89f71ccc-7f78-4712-d473-8f962ba6ed63"
      },
      "execution_count": 3,
      "outputs": [
        {
          "output_type": "stream",
          "name": "stdout",
          "text": [
            "int64\n"
          ]
        }
      ]
    },
    {
      "cell_type": "markdown",
      "source": [
        "Importance of Data Types in Memory Management and Performance\n",
        "Data types play a crucial role in memory management and performance for several reasons:\n",
        "\n",
        "1.Memory Efficiency: Different data types consume different amounts of memory. For example, an int32 uses 4 bytes, while an int64 uses 8 bytes. Choosing the appropriate data type can help optimize memory usage, especially when dealing with large datasets2.\n",
        "\n",
        "2.Performance Optimization: Operations on smaller data types are generally faster because they require less memory bandwidth and can take advantage of CPU cache more effectively. For instance, using float32 instead of float64 can speed up numerical computations3.\n",
        "\n",
        "3.Data Integrity: Proper data types ensure that the data is stored and processed correctly. For example, using an integer type for counting items prevents fractional values, which could lead to logical errors in the program4.\n",
        "\n",
        "4.Error Detection: Using specific data types can help catch errors early in the development process. For example, trying to store a string in an integer array will raise an error, alerting the developer to a potential issue4."
      ],
      "metadata": {
        "id": "CsAAnLFmm_xr"
      }
    },
    {
      "cell_type": "markdown",
      "source": [
        "5. Define ndarrays in NumPy and explain their key features. How do they differ from standard Python lists?"
      ],
      "metadata": {
        "id": "yxjRXh7mnM8D"
      }
    },
    {
      "cell_type": "markdown",
      "source": [
        "NumPy ndarrays (N-dimensional arrays) are a core data structure in the NumPy library, designed for efficient numerical computation. Here are some key features and differences compared to standard Python lists:\n",
        "\n",
        "Key Features of NumPy ndarrays:\n",
        "\n",
        "1.Homogeneous Data: All elements in an ndarray must be of the same data type, which allows for more efficient storage and computation1.\n",
        "\n",
        "2.N-Dimensional: ndarrays can have multiple dimensions (e.g., 1D, 2D, 3D, etc.), making them suitable for representing complex data structures like matrices and tensors1.\n",
        "\n",
        "3.Efficient Operations: NumPy supports vectorized operations, which means operations are applied element-wise, leading to faster execution compared to loops in standard Python lists2.\n",
        "\n",
        "4.Broadcasting: This feature allows NumPy to perform operations on arrays of different shapes by automatically expanding them to a common shape2.\n",
        "\n",
        "5.Memory Efficiency: ndarrays are stored in contiguous blocks of memory, which enhances performance for large datasets1.\n",
        "\n",
        "6.Rich Functionality: NumPy provides numerous functions for array creation, manipulation, and mathematical operations, such as np.zeros, np.ones, np.full, np.empty, np.arange, and np.linspace1.\n",
        "\n",
        "Differences from Standard Python Lists:\n",
        "\n",
        "1.Data Type Consistency: Python lists can contain elements of different data types, whereas ndarrays require all elements to be of the same type1.\n",
        "\n",
        "2.Performance: ndarrays are generally faster and more memory-efficient than Python lists, especially for large datasets and numerical operations1.\n",
        "\n",
        "3.Dimensionality: While Python lists can be nested to create multi-dimensional structures, ndarrays are inherently multi-dimensional and provide more efficient and intuitive ways to handle such data1.\n",
        "\n",
        "4.Functionality: NumPy offers a wide range of built-in functions for mathematical and statistical operations, which are not available for standard Python lists2."
      ],
      "metadata": {
        "id": "fmug8YkanYru"
      }
    },
    {
      "cell_type": "markdown",
      "source": [
        "6. Analyze the performance benefits of NumPy arrays over Python lists for large-scale numerical operations"
      ],
      "metadata": {
        "id": "dmI3mNYHqaxE"
      }
    },
    {
      "cell_type": "markdown",
      "source": [
        "1.Homogeneous Data: NumPy arrays store elements of the same data type, making them more compact and memory-efficient than lists.\n",
        "\n",
        "2.Fixed Data Type: NumPy arrays have a fixed data type, reducing memory overhead by eliminating the need to store type information for each element.\n",
        "\n",
        "3.Contiguous Memory: NumPy arrays store elements in adjacent memory locations, reducing fragmentation and allowing for efficient access.\n",
        "\n",
        "4.Array Metadata: NumPy arrays have extra metadata like shape, strides, and data type. However, this overhead is usually smaller than the per-element overhead in lists.\n",
        "\n",
        "5.Performance: NumPy arrays are optimized for numerical computations, with efficient element-wise operations and mathematical functions. These operations are implemented in C, resulting in faster performance than equivalent operations on lists."
      ],
      "metadata": {
        "id": "_nGy3Wd5qmGj"
      }
    },
    {
      "cell_type": "markdown",
      "source": [
        "7. Compare vstack() and hstack() functions in NumPy. Provide examples demonstrating their usage and\n",
        "output."
      ],
      "metadata": {
        "id": "A0o1kog_sVXZ"
      }
    },
    {
      "cell_type": "code",
      "source": [
        "#vstack() and hstack() functions in NumPy and see how they work with some examples.\n",
        "\n",
        "#vstack()\n",
        "#Purpose: Stacks arrays in sequence vertically (row-wise).\n",
        "#Usage: Useful when you want to add rows to an existing array.\n",
        "#Example:\n",
        "\n",
        "import numpy as np\n",
        "\n",
        "a = np.array([[1, 2, 3], [4, 5, 6]])\n",
        "b = np.array([[7, 8, 9]])\n",
        "\n",
        "result = np.vstack((a, b))\n",
        "print(result)\n",
        "\n",
        "#hstack()\n",
        "#Purpose: Stacks arrays in sequence horizontally (column-wise).\n",
        "#Usage: Useful when you want to add columns to an existing array.\n",
        "#Example:\n",
        "\n",
        "\n",
        "import numpy as np\n",
        "\n",
        "a = np.array([[1, 2, 3], [4, 5, 6]])\n",
        "b = np.array([[7], [8]])\n",
        "\n",
        "result = np.hstack((a, b))\n",
        "print(result)"
      ],
      "metadata": {
        "colab": {
          "base_uri": "https://localhost:8080/"
        },
        "id": "Y3mFCbmgtN2o",
        "outputId": "5b62e81f-741c-47e3-b5fc-9646d1c0e8c1"
      },
      "execution_count": 4,
      "outputs": [
        {
          "output_type": "stream",
          "name": "stdout",
          "text": [
            "[[1 2 3]\n",
            " [4 5 6]\n",
            " [7 8 9]]\n",
            "[[1 2 3 7]\n",
            " [4 5 6 8]]\n"
          ]
        }
      ]
    },
    {
      "cell_type": "markdown",
      "source": [
        "8. Explain the differences between fliplr() and flipud() methods in NumPy, including their effects on various\n",
        "array dimensions"
      ],
      "metadata": {
        "id": "TpgwSJLwtq6d"
      }
    },
    {
      "cell_type": "code",
      "source": [
        "#The fliplr() and flipud() methods in NumPy are used to flip arrays, but they operate along different axes:\n",
        "\n",
        "#fliplr():\n",
        "#Function: Flips the array in the left/right direction.\n",
        "#Axis: Operates along axis 1 (columns).\n",
        "#Effect: Reverses the order of elements in each row, preserving the row structure.\n",
        "#Example:\n",
        "\n",
        "import numpy as np\n",
        "a = np.array([[1, 2, 3], [4, 5, 6], [7, 8, 9]])\n",
        "print(np.fliplr(a))"
      ],
      "metadata": {
        "colab": {
          "base_uri": "https://localhost:8080/"
        },
        "id": "fFY2rn4juBey",
        "outputId": "6baa48b2-658b-4a33-ff5b-3d106e9b9550"
      },
      "execution_count": 5,
      "outputs": [
        {
          "output_type": "stream",
          "name": "stdout",
          "text": [
            "[[3 2 1]\n",
            " [6 5 4]\n",
            " [9 8 7]]\n"
          ]
        }
      ]
    },
    {
      "cell_type": "code",
      "source": [
        "#flipud():\n",
        "#Function: Flips the array in the up/down direction.\n",
        "#Axis: Operates along axis 0 (rows).\n",
        "#Effect: Reverses the order of elements in each column, preserving the column structure.\n",
        "#Example:\n",
        "\n",
        "import numpy as np\n",
        "a = np.array([[1, 2, 3], [4, 5, 6], [7, 8, 9]])\n",
        "print(np.flipud(a))"
      ],
      "metadata": {
        "colab": {
          "base_uri": "https://localhost:8080/"
        },
        "id": "UX94k9VfuOEa",
        "outputId": "50148910-abaf-4768-e3a0-0b2278897997"
      },
      "execution_count": 6,
      "outputs": [
        {
          "output_type": "stream",
          "name": "stdout",
          "text": [
            "[[7 8 9]\n",
            " [4 5 6]\n",
            " [1 2 3]]\n"
          ]
        }
      ]
    },
    {
      "cell_type": "code",
      "source": [
        "#Key Differences:\n",
        "#Direction: fliplr() flips left/right (horizontal), while flipud() flips up/down (vertical).\n",
        "#Axis: fliplr() operates on axis 1, and flipud() operates on axis 0."
      ],
      "metadata": {
        "id": "tSSaWUIovMRC"
      },
      "execution_count": null,
      "outputs": []
    },
    {
      "cell_type": "markdown",
      "source": [
        "9. Discuss the functionality of the array_split() method in NumPy. How does it handle uneven splits?"
      ],
      "metadata": {
        "id": "317fmnMkvgL5"
      }
    },
    {
      "cell_type": "markdown",
      "source": [
        "The numpy.array_split() method in NumPy is used to split an array into multiple sub-arrays. This function is particularly useful when you need to divide an array into sections that may not be of equal size.\n",
        "\n",
        "Functionality\n",
        "The basic syntax of numpy.array_split() is:\n",
        "\n",
        "numpy.array_split(ary, indices_or_sections, axis=0)\n",
        "\n",
        "1.ary: The input array to be split.\n",
        "\n",
        "2.indices_or_sections: If an integer, it indicates the number of equal or nearly equal sections to split the array into. If a list of sorted integers, it specifies the indices at which to split the array.\n",
        "\n",
        "3.axis: The axis along which to split the array. The default is 0 (along rows)."
      ],
      "metadata": {
        "id": "3zZP9f-avnRg"
      }
    },
    {
      "cell_type": "code",
      "source": [
        "#Handling Uneven Splits\n",
        "#When the array cannot be evenly divided by the specified number of sections, numpy.array_split() handles the uneven splits by distributing the remainder among the sub-arrays\n",
        "import numpy as np\n",
        "\n",
        "# Create an array of 9 elements\n",
        "x = np.arange(9)\n",
        "\n",
        "# Split the array into 4 parts\n",
        "result = np.array_split(x, 4)\n",
        "\n",
        "print(result)"
      ],
      "metadata": {
        "colab": {
          "base_uri": "https://localhost:8080/"
        },
        "id": "OR7fay0tyF8e",
        "outputId": "8b4dfa5a-560c-4eb3-fc4d-26ec6202abd5"
      },
      "execution_count": 7,
      "outputs": [
        {
          "output_type": "stream",
          "name": "stdout",
          "text": [
            "[array([0, 1, 2]), array([3, 4]), array([5, 6]), array([7, 8])]\n"
          ]
        }
      ]
    },
    {
      "cell_type": "markdown",
      "source": [
        "10. Explain the concepts of vectorization and broadcasting in NumPy. How do they contribute to efficient array\n",
        "operations?"
      ],
      "metadata": {
        "id": "2Rt9lqcPyhQc"
      }
    },
    {
      "cell_type": "markdown",
      "source": [
        "Vectorization in NumPy refers to performing operations on arrays without using explicit loops. It allows efficient element-wise operations by applying the operation to the entire array at once. This is faster than using loops.\n",
        "\n",
        " Broadcasting, on the other hand, is a technique that allows arithmetic operations on arrays of different shapes and sizes. It \"broadcasts\" the smaller array to match the shape of the larger array, enabling efficient element-wise operations. Both vectorization and broadcasting contribute to efficient array operations in NumPy by avoiding unnecessary loops and data copies."
      ],
      "metadata": {
        "id": "gWQl9fudi81v"
      }
    },
    {
      "cell_type": "code",
      "source": [
        "#vectorization\n",
        "import numpy as np\n",
        "\n",
        "arr = np.array([1, 2, 3, 4, 5])\n",
        "result = arr * 2\n",
        "\n",
        "print(result)\n"
      ],
      "metadata": {
        "colab": {
          "base_uri": "https://localhost:8080/"
        },
        "id": "nTNulkIhj_27",
        "outputId": "119b1cf4-8ecf-47c8-91ec-6a7bb025c38c"
      },
      "execution_count": 11,
      "outputs": [
        {
          "output_type": "stream",
          "name": "stdout",
          "text": [
            "[ 2  4  6  8 10]\n"
          ]
        }
      ]
    },
    {
      "cell_type": "markdown",
      "source": [
        "#practical part"
      ],
      "metadata": {
        "id": "TgTKtfpvsAb9"
      }
    },
    {
      "cell_type": "markdown",
      "source": [
        "1. Create a 3x3 NumPy array with random integers between 1 and 100. Then, interchange its rows and columns."
      ],
      "metadata": {
        "id": "RkuGj_mFsN_c"
      }
    },
    {
      "cell_type": "code",
      "source": [
        "import numpy as np\n",
        "\n",
        "# Create a 3x3 array with random integers between 1 and 100\n",
        "array = np.random.randint(1, 101, size=(3, 3))\n",
        "print(\"Original array:\")\n",
        "print(array)\n",
        "\n",
        "# Interchange rows and columns (transpose the array)\n",
        "transposed_array = array.T\n",
        "print(\"\\nTransposed array:\")\n",
        "print(transposed_array)"
      ],
      "metadata": {
        "colab": {
          "base_uri": "https://localhost:8080/"
        },
        "id": "k0Rt0u8FsSqW",
        "outputId": "151f007d-2bde-4dfa-b676-73d405f578c9"
      },
      "execution_count": 12,
      "outputs": [
        {
          "output_type": "stream",
          "name": "stdout",
          "text": [
            "Original array:\n",
            "[[72 16 18]\n",
            " [23 69 13]\n",
            " [44 34 23]]\n",
            "\n",
            "Transposed array:\n",
            "[[72 23 44]\n",
            " [16 69 34]\n",
            " [18 13 23]]\n"
          ]
        }
      ]
    },
    {
      "cell_type": "markdown",
      "source": [
        "2. Generate a 1D NumPy array with 10 elements. Reshape it into a 2x5 array, then into a 5x2 array."
      ],
      "metadata": {
        "id": "2tJtzMwgs1zq"
      }
    },
    {
      "cell_type": "code",
      "source": [
        "import numpy as np\n",
        "\n",
        "# Generate a 1D NumPy array with 10 elements\n",
        "array_1d = np.arange(10)\n",
        "\n",
        "# Reshape it into a 2x5 array\n",
        "array_2x5 = array_1d.reshape(2, 5)\n",
        "\n",
        "# Reshape it into a 5x2 array\n",
        "array_5x2 = array_2x5.reshape(5, 2)\n",
        "\n",
        "print(\"1D Array:\")\n",
        "print(array_1d)\n",
        "print(\"\\n2x5 Array:\")\n",
        "print(array_2x5)\n",
        "print(\"\\n5x2 Array:\")\n",
        "print(array_5x2)"
      ],
      "metadata": {
        "colab": {
          "base_uri": "https://localhost:8080/"
        },
        "id": "IY6lWSnfs3fz",
        "outputId": "314a9bed-c783-48c8-9004-e88cb72b8384"
      },
      "execution_count": 13,
      "outputs": [
        {
          "output_type": "stream",
          "name": "stdout",
          "text": [
            "1D Array:\n",
            "[0 1 2 3 4 5 6 7 8 9]\n",
            "\n",
            "2x5 Array:\n",
            "[[0 1 2 3 4]\n",
            " [5 6 7 8 9]]\n",
            "\n",
            "5x2 Array:\n",
            "[[0 1]\n",
            " [2 3]\n",
            " [4 5]\n",
            " [6 7]\n",
            " [8 9]]\n"
          ]
        }
      ]
    },
    {
      "cell_type": "markdown",
      "source": [
        "3. Create a 4x4 NumPy array with random float values. Add a border of zeros around it, resulting in a 6x6 array."
      ],
      "metadata": {
        "id": "C0ng9004tSAX"
      }
    },
    {
      "cell_type": "code",
      "source": [
        "import numpy as np\n",
        "\n",
        "# Create a 4x4 array with random float values\n",
        "array_4x4 = np.random.rand(4, 4)\n",
        "\n",
        "# Add a border of zeros around the 4x4 array to make it 6x6\n",
        "array_6x6 = np.pad(array_4x4, pad_width=1, mode='constant', constant_values=0)\n",
        "\n",
        "print(\"4x4 Array with random float values:\\n\", array_4x4)\n",
        "print(\"\\n6x6 Array with a border of zeros:\\n\", array_6x6)"
      ],
      "metadata": {
        "colab": {
          "base_uri": "https://localhost:8080/"
        },
        "id": "9S5KzhJytYmB",
        "outputId": "ffed683f-2f68-4338-870a-9fba21aa6ddb"
      },
      "execution_count": 14,
      "outputs": [
        {
          "output_type": "stream",
          "name": "stdout",
          "text": [
            "4x4 Array with random float values:\n",
            " [[0.79212048 0.06793999 0.03035533 0.43789246]\n",
            " [0.90396128 0.94798404 0.89527076 0.57169998]\n",
            " [0.19646671 0.9392019  0.94921795 0.89744492]\n",
            " [0.80056261 0.97742385 0.46983888 0.72079301]]\n",
            "\n",
            "6x6 Array with a border of zeros:\n",
            " [[0.         0.         0.         0.         0.         0.        ]\n",
            " [0.         0.79212048 0.06793999 0.03035533 0.43789246 0.        ]\n",
            " [0.         0.90396128 0.94798404 0.89527076 0.57169998 0.        ]\n",
            " [0.         0.19646671 0.9392019  0.94921795 0.89744492 0.        ]\n",
            " [0.         0.80056261 0.97742385 0.46983888 0.72079301 0.        ]\n",
            " [0.         0.         0.         0.         0.         0.        ]]\n"
          ]
        }
      ]
    },
    {
      "cell_type": "markdown",
      "source": [
        "4. Using NumPy, create an array of integers from 10 to 60 with a step of 5."
      ],
      "metadata": {
        "id": "EzDjM8lHuNet"
      }
    },
    {
      "cell_type": "code",
      "source": [
        "import numpy as np\n",
        "\n",
        "array = np.arange(10, 65, 5)\n",
        "print(array)"
      ],
      "metadata": {
        "colab": {
          "base_uri": "https://localhost:8080/"
        },
        "id": "rPOcLaPsuS5c",
        "outputId": "d42a250e-e18f-4c03-d03f-44b7d2a73e38"
      },
      "execution_count": 15,
      "outputs": [
        {
          "output_type": "stream",
          "name": "stdout",
          "text": [
            "[10 15 20 25 30 35 40 45 50 55 60]\n"
          ]
        }
      ]
    },
    {
      "cell_type": "markdown",
      "source": [
        " 5. Create a NumPy array of strings ['python', 'numpy', 'pandas']. Apply different case transformations\n",
        "(uppercase, lowercase, title case, etc.) to each element."
      ],
      "metadata": {
        "id": "G3Y2WJlKve_U"
      }
    },
    {
      "cell_type": "code",
      "source": [
        "# Create a NumPy array of strings\n",
        "arr = np.array(['python', 'numpy', 'pandas'])\n",
        "\n",
        "# Apply different case transformations\n",
        "uppercase_arr = np.char.upper(arr)\n",
        "lowercase_arr = np.char.lower(arr)\n",
        "titlecase_arr = np.char.title(arr)\n",
        "\n",
        "print(\"Original array:\", arr)\n",
        "print(\"Uppercase:\", uppercase_arr)\n",
        "print(\"Lowercase:\", lowercase_arr)\n",
        "print(\"Title case:\", titlecase_arr)"
      ],
      "metadata": {
        "colab": {
          "base_uri": "https://localhost:8080/"
        },
        "id": "PfnfZ-onvm1s",
        "outputId": "0ce829ea-7184-4f53-a26c-235b51a7d58f"
      },
      "execution_count": 16,
      "outputs": [
        {
          "output_type": "stream",
          "name": "stdout",
          "text": [
            "Original array: ['python' 'numpy' 'pandas']\n",
            "Uppercase: ['PYTHON' 'NUMPY' 'PANDAS']\n",
            "Lowercase: ['python' 'numpy' 'pandas']\n",
            "Title case: ['Python' 'Numpy' 'Pandas']\n"
          ]
        }
      ]
    },
    {
      "cell_type": "code",
      "source": [],
      "metadata": {
        "id": "GSZj3i4Kv5B2"
      },
      "execution_count": null,
      "outputs": []
    },
    {
      "cell_type": "markdown",
      "source": [
        "6. Generate a NumPy array of words. Insert a space between each character of every word in the array."
      ],
      "metadata": {
        "id": "cPyYxuVbv5v7"
      }
    },
    {
      "cell_type": "code",
      "source": [
        "import numpy as np\n",
        "\n",
        "# Create a NumPy array of words\n",
        "words = np.array(['hello', 'world', 'numpy', 'array'])\n",
        "\n",
        "# Function to insert spaces between characters\n",
        "def insert_spaces(word):\n",
        "    return ' '.join(word)\n",
        "\n",
        "# Apply the function to each word in the array\n",
        "spaced_words = np.vectorize(insert_spaces)(words)\n",
        "\n",
        "print(spaced_words)"
      ],
      "metadata": {
        "colab": {
          "base_uri": "https://localhost:8080/"
        },
        "id": "5bzXo_5qwD_Q",
        "outputId": "0ab3abf5-e7fd-476e-af03-10492e13d5cc"
      },
      "execution_count": 17,
      "outputs": [
        {
          "output_type": "stream",
          "name": "stdout",
          "text": [
            "['h e l l o' 'w o r l d' 'n u m p y' 'a r r a y']\n"
          ]
        }
      ]
    },
    {
      "cell_type": "markdown",
      "source": [
        "7. Create two 2D NumPy arrays and perform element-wise addition, subtraction, multiplication, and division."
      ],
      "metadata": {
        "id": "hraf8alqwhK3"
      }
    },
    {
      "cell_type": "code",
      "source": [
        "import numpy as np\n",
        "\n",
        "# Create two 2D arrays\n",
        "array1 = np.array([[1, 2, 3], [4, 5, 6]])\n",
        "array2 = np.array([[7, 8, 9], [10, 11, 12]])\n",
        "\n",
        "# Element-wise addition\n",
        "addition = np.add(array1, array2)\n",
        "\n",
        "# Element-wise subtraction\n",
        "subtraction = np.subtract(array1, array2)\n",
        "\n",
        "# Element-wise multiplication\n",
        "multiplication = np.multiply(array1, array2)\n",
        "\n",
        "# Element-wise division\n",
        "division = np.divide(array1, array2)\n",
        "\n",
        "# Print results\n",
        "print(\"Array 1:\\n\", array1)\n",
        "print(\"Array 2:\\n\", array2)\n",
        "print(\"Addition:\\n\", addition)\n",
        "print(\"Subtraction:\\n\", subtraction)\n",
        "print(\"Multiplication:\\n\", multiplication)\n",
        "print(\"Division:\\n\", division)"
      ],
      "metadata": {
        "colab": {
          "base_uri": "https://localhost:8080/"
        },
        "id": "jAxewee4wkqR",
        "outputId": "3bc0ecb4-6f31-40fa-a1be-097c28dce354"
      },
      "execution_count": 18,
      "outputs": [
        {
          "output_type": "stream",
          "name": "stdout",
          "text": [
            "Array 1:\n",
            " [[1 2 3]\n",
            " [4 5 6]]\n",
            "Array 2:\n",
            " [[ 7  8  9]\n",
            " [10 11 12]]\n",
            "Addition:\n",
            " [[ 8 10 12]\n",
            " [14 16 18]]\n",
            "Subtraction:\n",
            " [[-6 -6 -6]\n",
            " [-6 -6 -6]]\n",
            "Multiplication:\n",
            " [[ 7 16 27]\n",
            " [40 55 72]]\n",
            "Division:\n",
            " [[0.14285714 0.25       0.33333333]\n",
            " [0.4        0.45454545 0.5       ]]\n"
          ]
        }
      ]
    },
    {
      "cell_type": "markdown",
      "source": [
        "8. Use NumPy to create a 5x5 identity matrix, then extract its diagonal elements.\n"
      ],
      "metadata": {
        "id": "mSAAvS0OwxiB"
      }
    },
    {
      "cell_type": "code",
      "source": [
        "import numpy as np\n",
        "\n",
        "# Create a 5x5 identity matrix\n",
        "identity_matrix = np.identity(5)\n",
        "\n",
        "# Extract the diagonal elements\n",
        "diagonal_elements = np.diag(identity_matrix)\n",
        "\n",
        "print(\"5x5 Identity Matrix:\\n\", identity_matrix)\n",
        "print(\"Diagonal Elements:\", diagonal_elements)"
      ],
      "metadata": {
        "colab": {
          "base_uri": "https://localhost:8080/"
        },
        "id": "oEeXk6ipw2gh",
        "outputId": "888e2d57-6f84-41b8-d594-a200592ece28"
      },
      "execution_count": 19,
      "outputs": [
        {
          "output_type": "stream",
          "name": "stdout",
          "text": [
            "5x5 Identity Matrix:\n",
            " [[1. 0. 0. 0. 0.]\n",
            " [0. 1. 0. 0. 0.]\n",
            " [0. 0. 1. 0. 0.]\n",
            " [0. 0. 0. 1. 0.]\n",
            " [0. 0. 0. 0. 1.]]\n",
            "Diagonal Elements: [1. 1. 1. 1. 1.]\n"
          ]
        }
      ]
    },
    {
      "cell_type": "markdown",
      "source": [
        "9. Generate a NumPy array of 100 random integers between 0 and 1000. Find and display all prime numbers in\n",
        "this array."
      ],
      "metadata": {
        "id": "Z0eXRzdKxIEh"
      }
    },
    {
      "cell_type": "code",
      "source": [
        "import numpy as np\n",
        "\n",
        "# Generate a NumPy array of 100 random integers between 0 and 1000\n",
        "random_integers = np.random.randint(0, 1000, size=100)\n",
        "\n",
        "# Function to check if a number is prime\n",
        "def is_prime(n):\n",
        "    if n <= 1:\n",
        "        return False\n",
        "    for i in range(2, int(np.sqrt(n)) + 1):\n",
        "        if n % i == 0:\n",
        "            return False\n",
        "    return True\n",
        "\n",
        "# Find all prime numbers in the array\n",
        "prime_numbers = [num for num in random_integers if is_prime(num)]\n",
        "\n",
        "print(\"Random integers array:\", random_integers)\n",
        "print(\"Prime numbers in the array:\", prime_numbers)"
      ],
      "metadata": {
        "colab": {
          "base_uri": "https://localhost:8080/"
        },
        "id": "BrzrabRfxJQn",
        "outputId": "f992c575-315f-402e-fefe-76b5150194a9"
      },
      "execution_count": 20,
      "outputs": [
        {
          "output_type": "stream",
          "name": "stdout",
          "text": [
            "Random integers array: [ 43 857 891 842 979 697  39 181 890 973 258 651 405 244 281 918 272 530\n",
            " 759 396 331 301 205 963 432 414  44 410 239 828 466 720 211 262 352 629\n",
            " 284 256 812 516   8 497 295 194 334 775 368 919 786 650 408 999  87 787\n",
            "  82 304 384 140 124 868 729 620  61  22 246 902 959 328 301 152 470  19\n",
            "  89 446 250 711 856 576 659 109  64 198 831 411 594 307 274 840 748 128\n",
            " 902 501 766 827 149 157  75  10 610 312]\n",
            "Prime numbers in the array: [43, 857, 181, 281, 331, 239, 211, 919, 787, 61, 19, 89, 659, 109, 307, 827, 149, 157]\n"
          ]
        }
      ]
    },
    {
      "cell_type": "markdown",
      "source": [
        "10. Create a NumPy array representing daily temperatures for a month. Calculate and display the weekly\n",
        "averages"
      ],
      "metadata": {
        "id": "24ZRKxAyxci_"
      }
    },
    {
      "cell_type": "code",
      "source": [
        "import numpy as np\n",
        "\n",
        "# Create a NumPy array with 30 random daily temperatures for a month\n",
        "daily_temperatures = np.random.randint(20, 35, size=30)  # Temperatures between 20°C and 35°C\n",
        "\n",
        "# Calculate weekly averages\n",
        "weekly_averages = [np.mean(daily_temperatures[i:i+7]) for i in range(0, len(daily_temperatures), 7)]\n",
        "\n",
        "# Display the results\n",
        "print(\"Daily Temperatures:\", daily_temperatures)\n",
        "print(\"Weekly Averages:\", weekly_averages)"
      ],
      "metadata": {
        "colab": {
          "base_uri": "https://localhost:8080/"
        },
        "id": "Ctb0XEhUxiS0",
        "outputId": "53f98670-da31-4de5-b2f5-21630d3ef078"
      },
      "execution_count": 21,
      "outputs": [
        {
          "output_type": "stream",
          "name": "stdout",
          "text": [
            "Daily Temperatures: [22 21 33 20 29 27 25 33 27 29 29 33 21 27 23 27 30 22 34 21 28 31 21 24\n",
            " 29 23 20 23 28 25]\n",
            "Weekly Averages: [25.285714285714285, 28.428571428571427, 26.428571428571427, 24.428571428571427, 26.5]\n"
          ]
        }
      ]
    },
    {
      "cell_type": "code",
      "source": [],
      "metadata": {
        "id": "cZ0ECwXmxwDj"
      },
      "execution_count": null,
      "outputs": []
    }
  ]
}