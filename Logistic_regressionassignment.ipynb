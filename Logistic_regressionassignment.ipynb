{
  "nbformat": 4,
  "nbformat_minor": 0,
  "metadata": {
    "colab": {
      "provenance": []
    },
    "kernelspec": {
      "name": "python3",
      "display_name": "Python 3"
    },
    "language_info": {
      "name": "python"
    }
  },
  "cells": [
    {
      "cell_type": "markdown",
      "source": [
        "# **Theoretical**"
      ],
      "metadata": {
        "id": "gL_o9_OU9GWo"
      }
    },
    {
      "cell_type": "markdown",
      "source": [
        " 1.What is Logistic Regression, and how does it differ from Linear Regression?"
      ],
      "metadata": {
        "id": "_umseJms9OGr"
      }
    },
    {
      "cell_type": "markdown",
      "source": [
        "Logistic Regression is a supervised machine learning algorithm primarily used for classification tasks, especially binary classification (where the output is one of two possible categories, such as \"yes/no\" or \"0/1\"). Instead of predicting a continuous value, logistic regression estimates the probability that a given input belongs to a particular class. It does this by applying the logistic (sigmoid) function to a linear combination of input features, producing an output between 0 and 1, which can be interpreted as a probability.\n",
        "\n",
        "Key Differences Explained\n",
        "1) Type of Problem Solved:\n",
        "\n",
        "Linear regression is used for regression problems where the goal is to predict\n",
        "a numeric value (e.g., house price).\n",
        "\n",
        "Logistic regression is used for classification problems where the goal is to predict the probability of a categorical outcome (e.g., whether an email is spam).\n",
        "\n",
        "2) Mathematical Approach:\n",
        "\n",
        "Linear regression fits a straight line to the data and predicts values anywhere on the real number line.\n",
        "\n",
        "Logistic regression fits an S-shaped curve (sigmoid) to model the probability of class membership, restricting outputs to the  range.\n",
        "\n",
        "3) Interpretation of Output:\n",
        "\n",
        "Linear regression's output is a direct prediction of the target variable.\n",
        "\n",
        "Logistic regression's output is the probability of belonging to a particular class, often thresholded (e.g., above 0.5 means class 1, below means class 0).\n",
        "\n",
        "4) Estimation Technique:\n",
        "\n",
        "Linear regression uses the least squares method to minimize the sum of squared residuals.\n",
        "\n",
        "Logistic regression uses maximum likelihood estimation to maximize the probability of observing the given data"
      ],
      "metadata": {
        "id": "RtSqndD_9voE"
      }
    },
    {
      "cell_type": "markdown",
      "source": [
        "2. What is the mathematical equation of Logistic Regression?"
      ],
      "metadata": {
        "id": "M04vRk679zQ6"
      }
    },
    {
      "cell_type": "markdown",
      "source": [
        "1. Linear Combination of Features (Log-Odds)\n",
        "\n",
        "Logistic Regression starts with a linear combination of input features, similar to linear regression. This linear combination is often called the \"logit\" or \"log-odds.\"\n",
        " Equation: $$ z = \\beta_0 + \\beta_1x_1 + \\beta_2x_2 + \\dots + \\beta_nx_n $$\n",
        "\n",
        " $\\beta_0$:  Intercept (bias)\n",
        "\n",
        "$\\beta_1$,  $\\beta_2$, ....., $\\beta_n$: Coefficients (weights) for each feature\n",
        "\n",
        "$x_1, x_2,...., x_n$: Input features\n",
        "\n",
        "z: The linear combination (log-odds)\n",
        "\n",
        "2. Sigmoid Function\n",
        "\n",
        "The key to Logistic Regression is the sigmoid (or logistic) function, which transforms the linear combination (z) into a probability (p) between 0 and 1.\n",
        "\n",
        "Equation: $ p = \\sigma(z) = \\frac{1}{1 + e^{-z}} $\n",
        "\n",
        "p: The predicted probability of the positive class (usually 1)\n",
        "\n",
        "σ: The sigmoid function\n",
        "\n",
        "e: Euler's number (the base of the natural logarithm)\n",
        "\n",
        "3. Combining the Equations (The Core Logistic Regression Equation)\n",
        "\n",
        "Substituting the expression for z into the sigmoid function gives the full Logistic Regression equation:\n",
        "\n",
        "Equation: $ p = \\frac{1}{1 + e^{-(\\beta_0 + \\beta_1x_1 + \\beta_2x_2 + \\dots + \\beta_nx_n)}} $"
      ],
      "metadata": {
        "id": "qhphUsPU-pFM"
      }
    },
    {
      "cell_type": "markdown",
      "source": [
        "3. Why do we use the Sigmoid function in Logistic Regression?"
      ],
      "metadata": {
        "id": "QZKieE049x9K"
      }
    },
    {
      "cell_type": "markdown",
      "source": [
        "Probability Mapping:\n",
        "The sigmoid function transforms any real-valued number into a value between 0 and 1, which is ideal for representing probabilities in binary classification tasks. This allows logistic regression to output the probability that a given input belongs to the positive class.\n",
        "\n",
        "S-shaped Curve:\n",
        "Its S-shaped (sigmoidal) curve ensures that as the input becomes very large or very small, the output approaches 1 or 0, respectively. This characteristic helps in modeling the probability of class membership smoothly and naturally.\n",
        "\n",
        "Decision Threshold:\n",
        "By mapping outputs to the  range, the sigmoid function enables the use of a threshold (commonly 0.5) to convert probabilities into binary outcomes (e.g., if probability > 0.5, predict class 1; else, predict class 0).\n",
        "\n",
        "Mathematical Convenience:\n",
        "The sigmoid function is differentiable, which is important for optimizing the model parameters using gradient-based methods like gradient descent. Its mathematical properties also make it suitable for maximum likelihood estimation, which is used to fit logistic regression models.\n",
        "\n",
        "Robustness:\n",
        "The sigmoid function limits the influence of outliers, as extreme input values are squashed closer to 0 or 1, reducing their impact on the model's decision boundary"
      ],
      "metadata": {
        "id": "3YsfBh8EMlF6"
      }
    },
    {
      "cell_type": "markdown",
      "source": [
        "4. What is the cost function of Logistic Regression?"
      ],
      "metadata": {
        "id": "Lfrkd_dGMmzm"
      }
    },
    {
      "cell_type": "markdown",
      "source": [
        "Cost Function (Log Loss / Binary Cross-Entropy)\n",
        "\n",
        "Logistic Regression models are trained by minimizing a cost function, typically the Log Loss (also known as Binary Cross-Entropy). This function penalizes the model for incorrect predictions.\n",
        "\n",
        "Equation: $ L(\\beta) = -\\frac{1}{N} \\sum_{i=1}^{N} [y_i \\log(p_i) + (1 - y_i) \\log(1 - p_i)] $\n",
        "\n",
        "L(β): The log loss for a given set of coefficients β\n",
        "\n",
        "N: Number of training examples\n",
        "\n",
        "$y_i$: The actual label for the i-th example (0 or 1)\n",
        "\n",
        "$p_i$: The predicted probability for the i-th example\n"
      ],
      "metadata": {
        "id": "h_VjZQLbWSeR"
      }
    },
    {
      "cell_type": "markdown",
      "source": [
        "5. What is Regularization in Logistic Regression? Why is it needed?"
      ],
      "metadata": {
        "id": "18BtXpDuXMCd"
      }
    },
    {
      "cell_type": "markdown",
      "source": [
        "Regularization in logistic regression is a technique where a penalty term is added to the loss (cost) function to discourage the model from fitting the training data too closely. This penalty is typically based on the magnitude of the model's coefficients (weights), and its purpose is to limit model complexity.\n",
        "\n",
        "Common Types of Regularization\n",
        "L1 Regularization (Lasso or Laplace): Adds the sum of the absolute values of the coefficients to the loss function. This can drive some coefficients to zero, effectively performing feature selection.\n",
        "\n",
        "L2 Regularization (Ridge or Gauss): Adds the sum of the squares of the coefficients to the loss function. This shrinks coefficients towards zero but typically does not make them exactly zero.\n",
        "\n",
        "The regularized cost function for logistic regression can be written as:\n",
        "\n",
        "J\n",
        "(\n",
        "θ\n",
        ")\n",
        "=\n",
        "Log Loss\n",
        "+\n",
        "λ\n",
        "⋅\n",
        "R\n",
        "(\n",
        "θ\n",
        ")\n",
        "J(θ)=Log Loss+λ⋅R(θ)\n",
        "\n",
        "where\n",
        "R(θ) is the regularization term (either L1 or L2), and\n",
        "λ controls the strength of the penalty.\n",
        "\n",
        "Why is Regularization Needed?\n",
        "Prevents Overfitting:\n",
        "Without regularization, logistic regression can assign very large weights to features, especially when the number of features is large or when some features are highly correlated with the output. This can lead the model to \"memorize\" the training data, capturing noise rather than general patterns, and resulting in poor performance on new, unseen data.\n",
        "\n",
        "Improves Generalization:\n",
        "By penalizing large coefficients, regularization encourages the model to find simpler, more robust solutions that generalize better to unseen data.\n",
        "\n",
        "Controls Model Complexity:\n",
        "Regularization introduces bias to reduce variance, striking a balance between underfitting and overfitting. This is especially important when the dataset has more features than samples or when features are noisy."
      ],
      "metadata": {
        "id": "UNU9osZMXcRQ"
      }
    },
    {
      "cell_type": "markdown",
      "source": [
        "6. Explain the difference between Lasso, Ridge, and Elastic Net regression."
      ],
      "metadata": {
        "id": "Ww_O6_Y0YahC"
      }
    },
    {
      "cell_type": "markdown",
      "source": [
        "Ridge Regression\n",
        "Penalty: Adds an L2 penalty (sum of squared coefficients) to the loss function.\n",
        "\n",
        "Effect: Shrinks all coefficients towards zero but never exactly zero, so all features remain in the model.\n",
        "\n",
        "Best for: Situations where most features are relevant and multicollinearity is present.\n",
        "\n",
        "Lasso Regression\n",
        "Penalty: Adds an L1 penalty (sum of absolute values of coefficients) to the loss function.\n",
        "\n",
        "Effect: Can shrink some coefficients exactly to zero, effectively performing variable selection.\n",
        "\n",
        "Best for: Cases where only a few features are important; helps in feature selection and model interpretability.\n",
        "\n",
        "Elastic Net Regression\n",
        "Penalty: Combines L1 and L2 penalties, controlled by a mixing parameter (alpha).\n",
        "\n",
        "Effect: Can both shrink coefficients and set some to zero, blending the benefits of Ridge and Lasso.\n",
        "\n",
        "Best for: Datasets with many correlated features or when neither Ridge nor Lasso alone performs best; balances between variable selection and coefficient shrinkage.\n",
        "\n",
        "Elastic net combines both ridge and lasso penalties, balancing between shrinking coefficients and feature selection.\n",
        "\n",
        "Summary:\n",
        "\n",
        "Ridge is for shrinking coefficients (no feature elimination).\n",
        "\n",
        "Lasso is for shrinking and selecting important features (some coefficients can be zero).\n",
        "\n",
        "Elastic Net is a compromise, useful when predictors are correlated or when you want both shrinkage and selection."
      ],
      "metadata": {
        "id": "_zySDu0PYu6O"
      }
    },
    {
      "cell_type": "markdown",
      "source": [
        "7.  When should we use Elastic Net instead of Lasso or Ridge?"
      ],
      "metadata": {
        "id": "EWm5iP5e_vR4"
      }
    },
    {
      "cell_type": "markdown",
      "source": [
        "Elastic Net is a regularization technique that combines both Lasso (\n",
        "$L_1$\n",
        "\n",
        " ) and Ridge (\n",
        "$L_2$\n",
        " ) penalties. Choosing between Lasso, Ridge, and Elastic Net depends on the characteristics of your data and modeling goals.\n",
        "\n",
        "Use Elastic Net when:\n",
        "\n",
        "Predictors Are Highly Correlated:\n",
        "Lasso tends to select only one variable from a group of highly correlated predictors and ignores the others, which can be arbitrary and unstable. Ridge shrinks coefficients of correlated predictors towards each other but does not perform variable selection. Elastic Net, by blending both penalties, can select groups of correlated variables together, providing a more stable solution when predictors are highly correlated.\n",
        "\n",
        "Number of Predictors Exceeds Number of Observations (\n",
        "p>n):\n",
        "Lasso can select at most n variables before it saturates, which can be limiting in high-dimensional settings. Elastic Net does not have this limitation and can handle situations where the number of predictors exceeds the number of observations.\n",
        "\n",
        "You Want Both Shrinkage and Variable Selection:\n",
        "Lasso is good for variable selection (sparse models), while Ridge is good for shrinkage (reducing the influence of less important variables). Elastic Net offers a compromise, performing both variable selection and shrinkage, which can be advantageous if you suspect that some predictors are relevant in groups or if you want to balance interpretability and predictive accuracy.\n",
        "\n",
        "Multicollinearity Is Present:\n",
        "When multicollinearity (high correlation among predictors) is an issue, Elastic Net often outperforms both Lasso and Ridge by effectively controlling variance and selecting relevant predictors.\n",
        "\n",
        "Empirical Performance:\n",
        "In practice, Elastic Net often yields better predictive performance than either Lasso or Ridge alone, especially when evaluated via cross-validation on real-world datasets with correlated features"
      ],
      "metadata": {
        "id": "YggR73Te_-Fl"
      }
    },
    {
      "cell_type": "markdown",
      "source": [
        "8. What is the impact of the regularization parameter (λ) in Logistic Regression?\n"
      ],
      "metadata": {
        "id": "5aCeRgcJLXy0"
      }
    },
    {
      "cell_type": "markdown",
      "source": [
        "The regularization parameter (λ) in logistic regression controls the strength of the penalty applied to the model's coefficients, directly influencing the model's complexity and generalization ability.\n",
        "\n",
        "Key Impacts:\n",
        "\n",
        "Controls Model Complexity:\n",
        "Increasing λ adds a stronger penalty for large coefficient values, which forces the model to keep its weights smaller and thus reduces complexity.\n",
        "\n",
        "Reduces Overfitting:\n",
        "A higher λ discourages the model from fitting noise or idiosyncrasies in the training data, improving generalization to unseen data.\n",
        "\n",
        "Affects Coefficient Magnitude:\n",
        "As λ increases, the coefficients shrink towards zero. For L1 (Lasso) regularization, some coefficients may become exactly zero, effectively performing feature selection. For L2 (Ridge) regularization, coefficients become smaller but rarely exactly zero.\n",
        "\n",
        "Risk of Underfitting:\n",
        "If λ is set too high, the model may become too simple, failing to capture important patterns in the data and resulting in underfitting.\n",
        "\n",
        "Performance Trade-off:\n",
        "The optimal value of λ balances the trade-off between bias and variance—too little regularization (small λ) can lead to overfitting, while too much (large λ) can cause underfitting.\n",
        "\n",
        "Summary:\n",
        "\n",
        "Small λ: Minimal penalty, risk of overfitting, larger coefficients.\n",
        "\n",
        "Large λ: Strong penalty, risk of underfitting, smaller (or zero) coefficients, simpler model.\n",
        "\n",
        "Selecting the right λ is crucial and is typically done via cross-validation to maximize predictive performance on new data."
      ],
      "metadata": {
        "id": "53ZOU_DpLfqM"
      }
    },
    {
      "cell_type": "markdown",
      "source": [
        "9. What are the key assumptions of Logistic Regression?"
      ],
      "metadata": {
        "id": "6kkQ4VoWLpzS"
      }
    },
    {
      "cell_type": "markdown",
      "source": [
        "1. Appropriate Outcome Type\n",
        "\n",
        "The dependent variable should be binary for binary logistic regression. For multinomial or ordinal logistic regression, the outcome must match the model type (i.e., more than two categories for multinomial, ordered categories for ordinal).\n",
        "\n",
        "2. Independence of Observations\n",
        "\n",
        "Observations must be independent. There should be no repeated measurements or related data points within the dataset.\n",
        "\n",
        "3. Linearity of Independent Variables and Log Odds\n",
        "\n",
        "Logistic regression assumes a linear relationship between each predictor and the logit (log-odds) of the outcome, not between predictors and the outcome directly.\n",
        "\n",
        "4. Absence of Multicollinearity\n",
        "\n",
        "The independent variables should not be highly correlated with each other. High multicollinearity can distort the estimation of coefficients and reduce interpretability.\n",
        "\n",
        "5. No Strongly Influential Outliers\n",
        "\n",
        "There should be no highly influential outliers, as they can disproportionately affect model estimates and predictions.\n",
        "\n",
        "6. Sufficient Sample Size\n",
        "\n",
        "The sample size should be large enough to provide reliable estimates. A common rule is at least 10 cases of the least frequent outcome per predictor variable."
      ],
      "metadata": {
        "id": "2gTCyxhyL_rZ"
      }
    },
    {
      "cell_type": "markdown",
      "source": [
        "10.  What are some alternatives to Logistic Regression for classification tasks?"
      ],
      "metadata": {
        "id": "ubkQRQAvMLxA"
      }
    },
    {
      "cell_type": "markdown",
      "source": [
        "Popular Alternatives:\n",
        "\n",
        "Tree-Based Methods\n",
        "\n",
        "Decision Trees (e.g., CART, ID3): Nonlinear models that partition the feature space into decision regions. They require fewer assumptions about data structure and can handle complex interactions.\n",
        "\n",
        "Random Forests: Ensembles of decision trees that improve accuracy and robustness over single trees.\n",
        "\n",
        "Gradient-Boosted Trees: Sequentially built ensembles that often yield high predictive accuracy.\n",
        "\n",
        "Support Vector Machines (SVM)\n",
        "\n",
        "Effective for high-dimensional data and when classes are not linearly separable. SVMs can outperform logistic regression, particularly with complex boundaries or multivariate distributions.\n",
        "\n",
        "Neural Networks (NN)\n",
        "\n",
        "Suitable for large datasets and nonlinear relationships. They can model complex patterns that logistic regression cannot capture.\n",
        "\n",
        "K-Nearest Neighbors (KNN)\n",
        "\n",
        "A non-parametric method that classifies based on the majority class among the k closest data points.\n",
        "\n",
        "Discriminant Analysis\n",
        "\n",
        "Linear Discriminant Analysis (LDA): Assumes normality and equal covariance among classes; closely related to logistic regression under certain conditions.\n",
        "\n",
        "Quadratic Discriminant Analysis (QDA): Allows for different covariance matrices for each class.\n",
        "\n",
        "Naive Bayes\n",
        "\n",
        "Assumes feature independence and is computationally efficient, especially for text classification.\n",
        "\n",
        "Probit Regression\n",
        "\n",
        "Similar to logistic regression but uses the cumulative normal distribution; often used in econometrics.\n",
        "\n",
        "Complementary Log-Log Model\n",
        "\n",
        "Useful for rare event classification; provides asymmetric link function compared to logit or probit.\n",
        "\n",
        "Other Statistical Methods\n",
        "\n",
        "Linear Probability Model (LPM): Uses OLS regression for binary outcomes, though less commonly recommended due to theoretical limitations.\n",
        "\n",
        "Log-Binomial, Poisson Regression, Cox Regression: Sometimes used in specialized contexts, such as risk estimation or survival analysis."
      ],
      "metadata": {
        "id": "k-yisd8LUVUx"
      }
    },
    {
      "cell_type": "markdown",
      "source": [
        "11. What are Classification Evaluation Metrics?"
      ],
      "metadata": {
        "id": "M8tSRVy7c1yS"
      }
    },
    {
      "cell_type": "markdown",
      "source": [
        "Classification Evaluation Metrics\n",
        "Classification evaluation metrics are quantitative measures used to assess the performance of a classification model. The choice of metric depends on the problem context, data balance, and the cost of different types of errors.\n",
        "\n",
        "Key Metrics:\n",
        "\n",
        "Accuracy:\n",
        "The proportion of total correct predictions (both positives and negatives) out of all predictions.\n",
        "\n",
        "Accuracy\n",
        "=\n",
        "$(T\n",
        "P\n",
        "+\n",
        "T\n",
        "N)/\n",
        "(T\n",
        "P\n",
        "+\n",
        "T\n",
        "N\n",
        "+\n",
        "F\n",
        "P\n",
        "+\n",
        "F\n",
        "N)$\n",
        "\n",
        "Best used when classes are balanced.\n",
        "\n",
        "Precision:\n",
        "The proportion of true positive predictions out of all positive predictions made by the model.\n",
        "\n",
        "Precision\n",
        "=\n",
        "$T\n",
        "P/\n",
        "T\n",
        "P\n",
        "+\n",
        "F\n",
        "P$\n",
        "\n",
        "Important when the cost of false positives is high.\n",
        "\n",
        "Recall (Sensitivity):\n",
        "The proportion of true positives identified out of all actual positives.\n",
        "\n",
        "Recall\n",
        "=\n",
        "$T\n",
        "P/\n",
        "T\n",
        "P\n",
        "+\n",
        "F\n",
        "N$\n",
        "\n",
        "Important when the cost of false negatives is high.\n",
        "\n",
        "Specificity:\n",
        "The proportion of true negatives identified out of all actual negatives.\n",
        "\n",
        "Specificity\n",
        "=\n",
        "$T\n",
        "N/\n",
        "T\n",
        "N\n",
        "+\n",
        "F\n",
        "P$\n",
        "\n",
        "\n",
        "\n",
        "F1 Score:\n",
        "The harmonic mean of precision and recall, providing a balance between the two.\n",
        "\n",
        "F1 Score\n",
        "=\n",
        "2\n",
        "×\n",
        "(Precision\n",
        "×\n",
        "Recall)/\n",
        "(Precision\n",
        "+\n",
        "Recall)\n",
        "\n",
        "False Positive Rate (FPR):\n",
        "The proportion of negatives incorrectly classified as positives.\n",
        "\n",
        "FPR\n",
        "=\n",
        "F\n",
        "P/\n",
        "(F\n",
        "P\n",
        "+\n",
        "T\n",
        "N)\n",
        "\n",
        "False Negative Rate (FNR):\n",
        "The proportion of positives incorrectly classified as negatives.\n",
        "\n",
        "FNR\n",
        "=\n",
        "F\n",
        "N/\n",
        "(F\n",
        "N\n",
        "+\n",
        "T\n",
        "P)\n",
        "\n",
        "\n",
        "ROC Curve and AUC (Area Under the Curve):\n",
        "The ROC curve plots recall (sensitivity) against FPR at various thresholds; AUC quantifies overall model performance regardless of threshold.\n",
        "\n",
        "Confusion Matrix:\n",
        "A table showing counts of true positives (TP), true negatives (TN), false positives (FP), and false negatives (FN), from which all the above metrics are derived"
      ],
      "metadata": {
        "id": "lFSjLjlJc8ST"
      }
    },
    {
      "cell_type": "markdown",
      "source": [
        "12. How does class imbalance affect Logistic Regression?"
      ],
      "metadata": {
        "id": "S7QMFu5MavgL"
      }
    },
    {
      "cell_type": "markdown",
      "source": [
        "Class imbalance occurs when one class (the majority) significantly outnumbers the other (the minority) in a binary classification problem. This imbalance can affect logistic regression in several ways:\n",
        "\n",
        "Bias Toward the Majority Class:\n",
        "Logistic regression models trained on imbalanced data tend to be biased toward predicting the majority class, potentially leading to poor detection of the minority class.\n",
        "\n",
        "Poor Minority Class Representation:\n",
        "When there are too few examples of the minority class, the model may not learn its characteristics well, resulting in low recall (sensitivity) for that class.\n",
        "\n",
        "Misleading Accuracy:\n",
        "High overall accuracy can be misleading in imbalanced datasets, as the model may correctly predict the majority class most of the time while failing to identify the minority class. For example, if 99% of cases are negative, a model that always predicts \"negative\" will be 99% accurate but useless for identifying positives.\n",
        "\n",
        "Calibration and Probability Estimates:\n",
        "Some methods to correct imbalance (like oversampling or SMOTE) can lead to poorly calibrated models, causing the predicted probabilities for the minority class to be overestimated. Models trained without correction typically have better-calibrated probability estimates.\n",
        "\n",
        "Effect on Model Coefficients:\n",
        "Imbalance primarily affects the intercept term in logistic regression, but can also impact the estimation of coefficients if the minority class is severely underrepresented.\n",
        "\n",
        "Evaluation Metrics:\n",
        "Standard accuracy is not reliable for imbalanced data. Metrics such as precision, recall, F1 score, ROC-AUC, and confusion matrix analysis are more informative for evaluating model performance in these situations."
      ],
      "metadata": {
        "id": "do7TsGKTbB18"
      }
    },
    {
      "cell_type": "markdown",
      "source": [
        "13.  What is Hyperparameter Tuning in Logistic Regression?"
      ],
      "metadata": {
        "id": "2zlXfqWbbDXm"
      }
    },
    {
      "cell_type": "markdown",
      "source": [
        "Hyperparameter tuning in logistic regression involves systematically searching for the best combination of hyperparameters—settings that are not learned from the data but instead control the learning process and model behavior. Unlike model parameters (like coefficients), hyperparameters must be set before training.\n",
        "\n",
        "Key Hyperparameters in Logistic Regression:\n",
        "\n",
        "Regularization Strength (C):\n",
        "Controls the inverse of regularization strength. Smaller values specify stronger regularization. Tuning C helps balance model complexity and generalization.\n",
        "\n",
        "Penalty Type:\n",
        "Specifies the type of regularization to use—L1 (lasso), L2 (ridge), elastic net, or none. The choice affects feature selection and model sparsity.\n",
        "\n",
        "Solver:\n",
        "Determines the optimization algorithm used for fitting the model (e.g., 'liblinear', 'lbfgs', 'saga', 'newton-cg'). Some solvers support specific penalties.\n",
        "\n",
        "Maximum Iterations (max_iter):\n",
        "Sets the maximum number of iterations for the solver to converge. Useful for ensuring convergence, especially with large datasets or complex models.\n",
        "\n",
        "How Hyperparameter Tuning Works:\n",
        "\n",
        "Grid Search:\n",
        "Tests all possible combinations of specified hyperparameter values using cross-validation to find the best-performing set. For example, you might search over different values of C and penalty types to optimize accuracy.\n",
        "\n",
        "Random Search:\n",
        "Randomly samples combinations of hyperparameters, which can be more efficient when the search space is large.\n",
        "\n",
        "Cross-Validation:\n",
        "Used in conjunction with grid or random search to robustly estimate model performance for each hyperparameter combination"
      ],
      "metadata": {
        "id": "w3RXZB_5bbC4"
      }
    },
    {
      "cell_type": "markdown",
      "source": [
        "14. What are different solvers in Logistic Regression? Which one should be used?"
      ],
      "metadata": {
        "id": "SVJ8Qp43beoC"
      }
    },
    {
      "cell_type": "markdown",
      "source": [
        "Different Solvers in Logistic Regression\n",
        "Logistic regression uses optimization algorithms, known as solvers, to estimate model parameters. Each solver has distinct computational properties and compatibility with various regularization types and dataset sizes.\n",
        "\n",
        "Common Solvers:\n",
        "\n",
        "liblinear\n",
        "\n",
        "Suitable for small datasets.\n",
        "\n",
        "Supports L1 and L2 regularization.\n",
        "\n",
        "Works for binary classification and one-vs-rest for multiclass.\n",
        "\n",
        "Efficient for sparse data but not ideal for large or dense datasets.\n",
        "\n",
        "lbfgs\n",
        "\n",
        "Default in many libraries (e.g., scikit-learn).\n",
        "\n",
        "Suitable for medium to large datasets, especially dense ones.\n",
        "\n",
        "Supports only L2 regularization.\n",
        "\n",
        "Efficient for multiclass problems using multinomial loss.\n",
        "\n",
        "Can be memory-intensive for very large data.\n",
        "\n",
        "sag (Stochastic Average Gradient)\n",
        "\n",
        "Optimized for large datasets.\n",
        "\n",
        "Supports only L2 regularization.\n",
        "\n",
        "Faster convergence for large samples, but memory cost scales with dataset size.\n",
        "\n",
        "saga\n",
        "\n",
        "Variant of SAG, suitable for very large and high-dimensional datasets.\n",
        "\n",
        "Supports L1, L2, and Elastic Net regularization.\n",
        "\n",
        "Best for sparse multinomial logistic regression and elastic net penalty.\n",
        "\n",
        "Good theoretical convergence properties.\n",
        "\n",
        "newton-cg\n",
        "\n",
        "Suitable for medium to large datasets.\n",
        "\n",
        "Supports only L2 regularization.\n",
        "\n",
        "Can handle multinomial loss for multiclass problems.\n",
        "\n",
        "Which Solver Should We Use?\n",
        "Small datasets:\n",
        "Use liblinear for efficiency and L1/L2 support.\n",
        "\n",
        "Medium to large, dense datasets:\n",
        "Use lbfgs for speed and multiclass support.\n",
        "\n",
        "Very large datasets:\n",
        "Use sag (L2 only) or saga (L1, L2, Elastic Net) for scalability.\n",
        "\n",
        "Sparse or high-dimensional data, or when using L1/Elastic Net:\n",
        "Use saga.\n",
        "\n",
        "Multiclass problems:\n",
        "All solvers except liblinear handle multinomial loss directly; liblinear uses one-vs-rest."
      ],
      "metadata": {
        "id": "3dBxXYecbvH5"
      }
    },
    {
      "cell_type": "markdown",
      "source": [
        "15.  How is Logistic Regression extended for multiclass classification?"
      ],
      "metadata": {
        "id": "rR1_rhqAcC-3"
      }
    },
    {
      "cell_type": "markdown",
      "source": [
        "Extending Logistic Regression for Multiclass Classification\n",
        "Logistic regression, by default, is designed for binary classification. To handle multiclass classification (where the target has more than two categories), logistic regression can be extended using two main approaches:\n",
        "\n",
        "1. One-vs-Rest (OvR, also called One-vs-All):\n",
        "\n",
        "The multiclass problem is split into multiple binary classification tasks, one for each class.\n",
        "\n",
        "For k classes, k separate binary logistic regression models are trained. Each model predicts whether a sample belongs to its class versus all others.\n",
        "\n",
        "At prediction time, the model with the highest probability \"wins\" and its class is assigned to the sample.\n",
        "\n",
        "This approach is widely supported and easy to implement. In scikit-learn, you can specify multi_class='ovr' or use the OneVsRestClassifier wrapper.\n",
        "\n",
        "2. Multinomial (Softmax) Logistic Regression:\n",
        "\n",
        "The logistic regression model is modified to predict the probability of each class directly using the softmax function, which generalizes the sigmoid to multiple classes.\n",
        "\n",
        "The model is trained to maximize the likelihood across all classes simultaneously, using a multinomial (cross-entropy) loss function instead of binary log loss.\n",
        "\n",
        "This approach is often referred to as \"multinomial logistic regression\" and is more statistically principled for multiclass problems.\n",
        "\n",
        "In scikit-learn, set multi_class='multinomial' and use solvers like 'lbfgs', 'newton-cg', 'sag', or 'saga'"
      ],
      "metadata": {
        "id": "83KLTYUacInX"
      }
    },
    {
      "cell_type": "markdown",
      "source": [
        "16. What are the advantages and disadvantages of Logistic Regression?"
      ],
      "metadata": {
        "id": "LhCReqp9cmaO"
      }
    },
    {
      "cell_type": "markdown",
      "source": [
        "Advantages\n",
        "\n",
        "Simplicity and Interpretability:\n",
        "Logistic regression is straightforward to implement and provides clear, interpretable results. The model’s coefficients offer direct insights into how each predictor influences the probability of the outcome, making it highly valued in regulated industries and fields where transparency is critical.\n",
        "\n",
        "Handles Various Data Types:\n",
        "It can process continuous, discrete, and categorical input variables, offering flexibility across different types of datasets.\n",
        "\n",
        "Computational Efficiency:\n",
        "Logistic regression is computationally efficient, making it suitable for large datasets and quick to train.\n",
        "\n",
        "Probability Estimates:\n",
        "The model outputs probabilities, which are useful for risk assessment and ranking predictions.\n",
        "\n",
        "Widely Used and Well-Understood:\n",
        "It is a cornerstone in many industries (healthcare, finance, marketing) and forms the basis for more advanced algorithms.\n",
        "\n",
        "Works Well for Linearly Separable Data:\n",
        "Logistic regression performs efficiently when the classes can be separated by a linear boundary.\n",
        "\n",
        "Disadvantages\n",
        "\n",
        "Assumes Linearity in the Logit:\n",
        "Logistic regression assumes a linear relationship between the independent variables and the log-odds of the outcome. This can limit performance on complex, non-linear problems.\n",
        "\n",
        "Limited to Binary or Categorical Outcomes:\n",
        "It cannot predict continuous outcomes and is primarily designed for classification tasks.\n",
        "\n",
        "Sensitive to Multicollinearity:\n",
        "High correlation between predictors can lead to unstable coefficient estimates and reduce interpretability.\n",
        "\n",
        "May Underfit Complex Relationships:\n",
        "Logistic regression can struggle with high-dimensional datasets or when the true relationship between variables is highly non-linear, potentially leading to underfitting.\n",
        "\n",
        "Requires Sufficient Sample Size:\n",
        "Small datasets can result in overfitting or unreliable estimates, as the model may not capture underlying patterns effectively.\n",
        "\n",
        "Not Robust to Outliers:\n",
        "Outliers can disproportionately influence the model, affecting its predictive accuracy"
      ],
      "metadata": {
        "id": "BJ6spFIYdEhd"
      }
    },
    {
      "cell_type": "markdown",
      "source": [
        "17. What are some use cases of Logistic Regression?"
      ],
      "metadata": {
        "id": "cfXSKfHUdKNV"
      }
    },
    {
      "cell_type": "markdown",
      "source": [
        "Use Cases of Logistic Regression\n",
        "Logistic regression is widely used across industries for binary and multiclass classification tasks where interpretability, efficiency, and probability estimation are important. Here are some prominent real-world use cases:\n",
        "\n",
        "1.Healthcare\n",
        "\n",
        "Predicting the likelihood of disease, patient outcomes, and treatment efficacy.\n",
        "\n",
        "Early disease detection and patient risk stratification.\n",
        "\n",
        "Resource allocation, such as prioritizing ICU beds based on predicted risk.\n",
        "\n",
        "2.Finance\n",
        "\n",
        "Credit scoring to assess loan default risk.\n",
        "\n",
        "Fraud detection in transactions.\n",
        "\n",
        "Risk assessment for insurance and loan applications.\n",
        "\n",
        "3.Marketing and Customer Analytics\n",
        "\n",
        "Predicting customer churn (likelihood of a customer leaving a service).\n",
        "\n",
        "Forecasting the probability of a customer purchasing a product.\n",
        "\n",
        "Segmenting customers for targeted marketing campaigns.\n",
        "\n",
        "4.Manufacturing and Logistics\n",
        "\n",
        "Predictive maintenance: estimating the probability of part or machinery failure to optimize maintenance schedules.\n",
        "\n",
        "Demand forecasting and route optimization.\n",
        "\n",
        "Enhancing operational efficiency and resource planning.\n",
        "\n",
        "5.Natural Language Processing (NLP)\n",
        "\n",
        "Text classification tasks such as spam detection, sentiment analysis, and topic categorization.\n",
        "\n",
        "Optical character recognition (OCR) to convert images of text into machine-readable text.\n",
        "\n",
        "6.Epidemiology and Public Health\n",
        "\n",
        "Quantifying the impact of risk factors on disease occurrence.\n",
        "\n",
        "Informing policy decisions and public health interventions"
      ],
      "metadata": {
        "id": "PKkCxWpadOYG"
      }
    },
    {
      "cell_type": "markdown",
      "source": [
        "18. What is the difference between Softmax Regression and Logistic Regression?\n"
      ],
      "metadata": {
        "id": "N4TTEpHxd2q-"
      }
    },
    {
      "cell_type": "markdown",
      "source": [
        "1. Type of Classification Problem\n",
        "\n",
        "| Concept      | Logistic Regression               | Softmax Regression                            |\n",
        "| ------------ | --------------------------------- | --------------------------------------------- |\n",
        "| **Used For** | Binary Classification (2 classes) | Multiclass Classification (3 or more classes) |\n",
        "| **Example**  | Spam vs. Not Spam                 | Classifying images into Dog, Cat, or Bird     |\n",
        "\n",
        "2. Output\n",
        "\n",
        "| Concept           | Logistic Regression                                 | Softmax Regression                            |\n",
        "| ----------------- | --------------------------------------------------- | --------------------------------------------- |\n",
        "| **Output**        | A single probability (e.g., probability of class 1) | A probability distribution across all classes |\n",
        "| **Function Used** | Sigmoid function                                    | Softmax function                              |\n",
        "\n",
        "3. Model Structure\n",
        "\n",
        "| Concept        | Logistic Regression   | Softmax Regression                          |\n",
        "| -------------- | --------------------- | ------------------------------------------- |\n",
        "| **Parameters** | One weight vector $w$ | One weight vector per class $w_1, ..., w_K$ |\n",
        "\n",
        "4. Loss Function:\n",
        "\n",
        "| Concept           | Logistic Regression  | Softmax Regression                              |\n",
        "| ----------------- | -------------------- | ----------------------------------------------- |\n",
        "| **Loss Function** | Binary Cross-Entropy | Categorical Cross-Entropy (Generalized version) |\n",
        "\n",
        "5.  When to Use:\n",
        "Use Logistic Regression when the target variable has only two classes.\n",
        "\n",
        "Use Softmax Regression when the target variable has more than two classes and you want a probability for each class.\n",
        "\n",
        "\n"
      ],
      "metadata": {
        "id": "SK-Wpp8cd7uC"
      }
    },
    {
      "cell_type": "markdown",
      "source": [
        "19.  How do we choose between One-vs-Rest (OvR) and Softmax for multiclass classification?"
      ],
      "metadata": {
        "id": "dZem_0Uri9GW"
      }
    },
    {
      "cell_type": "markdown",
      "source": [
        "Choosing Between One-vs-Rest (OvR) and Softmax for Multiclass Classification\n",
        "The choice between One-vs-Rest (OvR) and Softmax (multinomial logistic regression) depends on your dataset, computational resources, and the specific requirements of your classification problem.\n",
        "\n",
        "One-vs-Rest (OvR)\n",
        "How it works:\n",
        "\n",
        "Trains one binary classifier per class, each distinguishing one class from all others.\n",
        "\n",
        "Each classifier is trained independently using the sigmoid function.\n",
        "\n",
        "The class with the highest score or probability is chosen as the prediction.\n",
        "\n",
        "Advantages:\n",
        "\n",
        "Simple to implement and interpret.\n",
        "\n",
        "Works well with algorithms that are inherently binary, like classic logistic regression or SVM.\n",
        "\n",
        "Useful when classes are highly imbalanced, as each classifier can be tuned or rebalanced individually.\n",
        "\n",
        "Disadvantages:\n",
        "\n",
        "Can be less efficient for large numbers of classes, as it requires training one model per class.\n",
        "\n",
        "Decision boundaries may not be as optimal or globally consistent, since each classifier is independent.\n",
        "\n",
        "May be more sensitive to class imbalance and overlapping classes.\n",
        "\n",
        "Softmax (Multinomial Logistic Regression)\n",
        "How it works:\n",
        "\n",
        "Trains a single model that directly estimates the probability of each class using the softmax function.\n",
        "\n",
        "All classes are considered simultaneously, and the probabilities sum to one.\n",
        "\n",
        "Advantages:\n",
        "\n",
        "Produces globally optimal and consistent decision boundaries, as all classes are modeled together.\n",
        "\n",
        "More efficient for a large number of classes, since only one model is trained.\n",
        "\n",
        "Probabilities are normalized and directly comparable across classes.\n",
        "\n",
        "Disadvantages:\n",
        "\n",
        "Slightly more complex to implement.\n",
        "\n",
        "May require more memory or computational resources for very large datasets or feature spaces.\n",
        "\n",
        "Practical Recommendations\n",
        "For small to moderate numbers of classes and when interpretability or class imbalance handling is important: OvR is a good choice and is often the default in many libraries.\n",
        "\n",
        "For larger numbers of classes or when you need globally optimal decision boundaries and normalized probabilities: Softmax (multinomial logistic regression) is generally preferred"
      ],
      "metadata": {
        "id": "UfDpH2sHjLLN"
      }
    },
    {
      "cell_type": "markdown",
      "source": [
        "20. How do we interpret coefficients in Logistic Regression??\n"
      ],
      "metadata": {
        "id": "E1MWYEpLjgUQ"
      }
    },
    {
      "cell_type": "markdown",
      "source": [
        "Interpreting Coefficients in Logistic Regression\n",
        "Logistic regression coefficients quantify the relationship between each predictor variable and the log odds of the outcome, holding all other variables constant.\n",
        "\n",
        "Key Interpretations:\n",
        "\n",
        "Log Odds:\n",
        "Each coefficient represents the change in the predicted log odds of the outcome for a one-unit increase in the predictor. For example, if a coefficient is 0.5, then increasing the predictor by one unit increases the log odds of the outcome by 0.5.\n",
        "\n",
        "Odds Ratio:\n",
        "Exponentiating the coefficient (\n",
        "$e^β$\n",
        ") gives the odds ratio. This value represents the multiplicative change in the odds of the outcome for a one-unit increase in the predictor.\n",
        "\n",
        "If the odds ratio is greater than 1, the predictor increases the odds of the outcome.\n",
        "\n",
        "If it is less than 1, the predictor decreases the odds.\n",
        "\n",
        "Sign of the Coefficient:\n",
        "\n",
        "Positive coefficient: The predictor increases the likelihood (odds) of the outcome.\n",
        "\n",
        "Negative coefficient: The predictor decreases the likelihood (odds) of the outcome.\n",
        "\n",
        "Magnitude:\n",
        "The absolute value indicates the strength of the effect. Larger magnitudes mean a stronger association with the outcome.\n"
      ],
      "metadata": {
        "id": "D8GKsWAkjxVz"
      }
    },
    {
      "cell_type": "markdown",
      "source": [
        "## **Practical**"
      ],
      "metadata": {
        "id": "kYIddPcBoAQx"
      }
    },
    {
      "cell_type": "markdown",
      "source": [
        "1.Write a Python program that loads a dataset, splits it into training and testing sets, applies Logistic\n",
        "Regression, and prints the model accuracy"
      ],
      "metadata": {
        "id": "E9lIw53-shyI"
      }
    },
    {
      "cell_type": "code",
      "source": [
        "# Import necessary libraries\n",
        "from sklearn.datasets import load_iris\n",
        "from sklearn.model_selection import train_test_split\n",
        "from sklearn.linear_model import LogisticRegression\n",
        "from sklearn.metrics import accuracy_score\n",
        "\n",
        "# Load dataset\n",
        "iris = load_iris()\n",
        "X = iris.data\n",
        "y = iris.target\n",
        "\n",
        "# For binary classification, let's only use two classes (0 and 1)\n",
        "X = X[y != 2]\n",
        "y = y[y != 2]\n",
        "\n",
        "# Split the dataset into training and testing sets (80% train, 20% test)\n",
        "X_train, X_test, y_train, y_test = train_test_split(X, y, test_size=0.2, random_state=42)\n",
        "\n",
        "# Initialize and train the Logistic Regression model\n",
        "model = LogisticRegression()\n",
        "model.fit(X_train, y_train)\n",
        "\n",
        "# Make predictions\n",
        "y_pred = model.predict(X_test)\n",
        "\n",
        "# Calculate and print the accuracy\n",
        "accuracy = accuracy_score(y_test, y_pred)\n",
        "print(f\"Logistic Regression Model Accuracy: {accuracy:.2f}\")"
      ],
      "metadata": {
        "colab": {
          "base_uri": "https://localhost:8080/"
        },
        "id": "42ZFa-gS7PzV",
        "outputId": "ef6e8d70-a95d-43d5-f473-7ada1c090357"
      },
      "execution_count": 1,
      "outputs": [
        {
          "output_type": "stream",
          "name": "stdout",
          "text": [
            "Logistic Regression Model Accuracy: 1.00\n"
          ]
        }
      ]
    },
    {
      "cell_type": "markdown",
      "source": [
        "2.Write a Python program to apply L1 regularization (Lasso) on a dataset using LogisticRegression(penalty='l1')\n",
        "and print the model accuracy"
      ],
      "metadata": {
        "id": "nbNBEZ157ZWJ"
      }
    },
    {
      "cell_type": "code",
      "source": [
        "# Apply L1 regularization (Lasso) in Logistic Regression and print model accuracy\n",
        "\n",
        "from sklearn.datasets import load_iris\n",
        "from sklearn.linear_model import LogisticRegression\n",
        "from sklearn.model_selection import train_test_split\n",
        "from sklearn.preprocessing import StandardScaler\n",
        "\n",
        "# Load a sample dataset (Iris)\n",
        "X, y = load_iris(return_X_y=True)\n",
        "\n",
        "# For binary classification, select only two classes (e.g., class 0 and 1)\n",
        "X = X[y != 2]\n",
        "y = y[y != 2]\n",
        "\n",
        "# Split into train and test sets\n",
        "X_train, X_test, y_train, y_test = train_test_split(X, y, test_size=0.2, random_state=42)\n",
        "\n",
        "# Standardize features (important for L1 regularization)\n",
        "scaler = StandardScaler()\n",
        "X_train_scaled = scaler.fit_transform(X_train)\n",
        "X_test_scaled = scaler.transform(X_test)\n",
        "\n",
        "# Create and fit Logistic Regression with L1 penalty (Lasso)\n",
        "clf = LogisticRegression(penalty='l1', solver='liblinear', random_state=0)\n",
        "clf.fit(X_train_scaled, y_train)\n",
        "\n",
        "# Print model accuracy on test set\n",
        "accuracy = clf.score(X_test_scaled, y_test)\n",
        "print(f\"Model accuracy with L1 regularization: {accuracy:.4f}\")\n"
      ],
      "metadata": {
        "colab": {
          "base_uri": "https://localhost:8080/"
        },
        "id": "X-lyYv507mB6",
        "outputId": "0abfb3a2-6a0e-4a95-e738-2309b592816d"
      },
      "execution_count": 2,
      "outputs": [
        {
          "output_type": "stream",
          "name": "stdout",
          "text": [
            "Model accuracy with L1 regularization: 1.0000\n"
          ]
        }
      ]
    },
    {
      "cell_type": "markdown",
      "source": [
        "3.  Write a Python program to train Logistic Regression with L2 regularization (Ridge) using\n",
        "LogisticRegression(penalty='l2'). Print model accuracy and coefficients"
      ],
      "metadata": {
        "id": "qZjG71ux74fh"
      }
    },
    {
      "cell_type": "code",
      "source": [
        "# Train Logistic Regression with L2 regularization (Ridge) and print accuracy and coefficients\n",
        "\n",
        "from sklearn.datasets import load_breast_cancer\n",
        "from sklearn.linear_model import LogisticRegression\n",
        "from sklearn.model_selection import train_test_split\n",
        "from sklearn.preprocessing import StandardScaler\n",
        "\n",
        "# Load a sample dataset\n",
        "X, y = load_breast_cancer(return_X_y=True)\n",
        "\n",
        "# Split into train and test sets\n",
        "X_train, X_test, y_train, y_test = train_test_split(\n",
        "    X, y, test_size=0.2, random_state=42\n",
        ")\n",
        "\n",
        "# Standardize features (important for regularization)\n",
        "scaler = StandardScaler()\n",
        "X_train_scaled = scaler.fit_transform(X_train)\n",
        "X_test_scaled = scaler.transform(X_test)\n",
        "\n",
        "# Train Logistic Regression with L2 penalty (Ridge)\n",
        "clf = LogisticRegression(penalty='l2', solver='lbfgs', max_iter=10000, random_state=0)\n",
        "clf.fit(X_train_scaled, y_train)\n",
        "\n",
        "# Print model accuracy on test set\n",
        "accuracy = clf.score(X_test_scaled, y_test)\n",
        "print(f\"Model accuracy with L2 regularization: {accuracy:.4f}\")\n",
        "\n",
        "# Print model coefficients\n",
        "print(\"Model coefficients (per feature):\")\n",
        "print(clf.coef_)\n"
      ],
      "metadata": {
        "colab": {
          "base_uri": "https://localhost:8080/"
        },
        "id": "fPMVGFyP7-a9",
        "outputId": "8626428f-00bd-4b03-a1d1-ae2f82510415"
      },
      "execution_count": 3,
      "outputs": [
        {
          "output_type": "stream",
          "name": "stdout",
          "text": [
            "Model accuracy with L2 regularization: 0.9737\n",
            "Model coefficients (per feature):\n",
            "[[-0.43190368 -0.38732553 -0.39343248 -0.46521006 -0.07166728  0.54016395\n",
            "  -0.8014581  -1.11980408  0.23611852  0.07592093 -1.26817815  0.18887738\n",
            "  -0.61058302 -0.9071857  -0.31330675  0.68249145  0.17527452 -0.3112999\n",
            "   0.50042502  0.61622993 -0.87984024 -1.35060559 -0.58945273 -0.84184594\n",
            "  -0.54416967  0.01611019 -0.94305313 -0.77821726 -1.20820031 -0.15741387]]\n"
          ]
        }
      ]
    },
    {
      "cell_type": "markdown",
      "source": [
        "4. Write a Python program to train Logistic Regression with Elastic Net Regularization (penalty='elasticnet')."
      ],
      "metadata": {
        "id": "Vsw-ySOM8KLD"
      }
    },
    {
      "cell_type": "code",
      "source": [
        "# Train Logistic Regression with Elastic Net Regularization (penalty='elasticnet')\n",
        "\n",
        "from sklearn.datasets import load_breast_cancer\n",
        "from sklearn.linear_model import LogisticRegression\n",
        "from sklearn.model_selection import train_test_split\n",
        "from sklearn.preprocessing import StandardScaler\n",
        "\n",
        "# Load a sample dataset\n",
        "X, y = load_breast_cancer(return_X_y=True)\n",
        "\n",
        "# Split into train and test sets\n",
        "X_train, X_test, y_train, y_test = train_test_split(\n",
        "    X, y, test_size=0.2, random_state=42\n",
        ")\n",
        "\n",
        "# Standardize features (important for regularization)\n",
        "scaler = StandardScaler()\n",
        "X_train_scaled = scaler.fit_transform(X_train)\n",
        "X_test_scaled = scaler.transform(X_test)\n",
        "\n",
        "# Train Logistic Regression with Elastic Net penalty\n",
        "clf = LogisticRegression(\n",
        "    penalty='elasticnet',\n",
        "    solver='saga',         # 'saga' is required for elasticnet penalty\n",
        "    l1_ratio=0.5,          # Balance between L1 and L2 regularization (0.5 = equal mix)\n",
        "    max_iter=10000,\n",
        "    random_state=0\n",
        ")\n",
        "clf.fit(X_train_scaled, y_train)\n",
        "\n",
        "# Print model accuracy on test set\n",
        "accuracy = clf.score(X_test_scaled, y_test)\n",
        "print(f\"Model accuracy with Elastic Net regularization: {accuracy:.4f}\")\n",
        "\n",
        "# Print model coefficients\n",
        "print(\"Model coefficients (per feature):\")\n",
        "print(clf.coef_)\n"
      ],
      "metadata": {
        "colab": {
          "base_uri": "https://localhost:8080/"
        },
        "id": "cf6dxou68T09",
        "outputId": "3143e174-ac4a-424d-e5e3-01c437cf694f"
      },
      "execution_count": 4,
      "outputs": [
        {
          "output_type": "stream",
          "name": "stdout",
          "text": [
            "Model accuracy with Elastic Net regularization: 0.9737\n",
            "Model coefficients (per feature):\n",
            "[[-0.33689359 -0.27064902 -0.25569464 -0.35537461  0.          0.32037384\n",
            "  -0.60243835 -1.32772798  0.16666348  0.         -1.52104222  0.19565335\n",
            "  -0.39323933 -0.88072143 -0.33919191  0.71574973  0.         -0.05001646\n",
            "   0.50302871  0.46866404 -1.02998799 -1.45207969 -0.54659436 -0.91891439\n",
            "  -0.45431417  0.         -0.86617323 -0.80156036 -1.15058889  0.        ]]\n"
          ]
        }
      ]
    },
    {
      "cell_type": "markdown",
      "source": [
        "5. Write a Python program to train a Logistic Regression model for multiclass classification using\n",
        "multi_class='ovr'"
      ],
      "metadata": {
        "id": "JW6cICqK8jet"
      }
    },
    {
      "cell_type": "code",
      "source": [
        "# Train a Logistic Regression model for multiclass classification using multi_class='ovr'\n",
        "\n",
        "from sklearn.datasets import load_iris\n",
        "from sklearn.linear_model import LogisticRegression\n",
        "from sklearn.model_selection import train_test_split\n",
        "from sklearn.preprocessing import StandardScaler\n",
        "\n",
        "# Load a multiclass dataset (Iris)\n",
        "X, y = load_iris(return_X_y=True)\n",
        "\n",
        "# Split into train and test sets\n",
        "X_train, X_test, y_train, y_test = train_test_split(\n",
        "    X, y, test_size=0.2, random_state=42\n",
        ")\n",
        "\n",
        "# Standardize features (recommended for regularization and convergence)\n",
        "scaler = StandardScaler()\n",
        "X_train_scaled = scaler.fit_transform(X_train)\n",
        "X_test_scaled = scaler.transform(X_test)\n",
        "\n",
        "# Train Logistic Regression with One-vs-Rest strategy\n",
        "clf = LogisticRegression(\n",
        "    multi_class='ovr',      # One-vs-Rest multiclass strategy\n",
        "    solver='liblinear',     # 'liblinear' supports OvR and multiclass\n",
        "    max_iter=200,\n",
        "    random_state=0\n",
        ")\n",
        "clf.fit(X_train_scaled, y_train)\n",
        "\n",
        "# Print model accuracy on test set\n",
        "accuracy = clf.score(X_test_scaled, y_test)\n",
        "print(f\"Model accuracy with OvR multiclass logistic regression: {accuracy:.4f}\")\n",
        "\n",
        "# Print model coefficients (one set per class)\n",
        "print(\"Model coefficients (per class):\")\n",
        "print(clf.coef_)\n"
      ],
      "metadata": {
        "colab": {
          "base_uri": "https://localhost:8080/"
        },
        "id": "5g1AkZXn8r-h",
        "outputId": "352d1d7f-a97c-445b-936d-9bffcfee0c64"
      },
      "execution_count": 5,
      "outputs": [
        {
          "output_type": "stream",
          "name": "stdout",
          "text": [
            "Model accuracy with OvR multiclass logistic regression: 0.9667\n",
            "Model coefficients (per class):\n",
            "[[-0.77929311  1.3519912  -1.59627349 -1.42737302]\n",
            " [ 0.25113137 -1.26696209  0.55078399 -0.73931909]\n",
            " [ 0.0180311  -0.20827858  1.73529514  2.39229869]]\n"
          ]
        },
        {
          "output_type": "stream",
          "name": "stderr",
          "text": [
            "/usr/local/lib/python3.11/dist-packages/sklearn/linear_model/_logistic.py:1256: FutureWarning: 'multi_class' was deprecated in version 1.5 and will be removed in 1.7. Use OneVsRestClassifier(LogisticRegression(..)) instead. Leave it to its default value to avoid this warning.\n",
            "  warnings.warn(\n"
          ]
        }
      ]
    },
    {
      "cell_type": "markdown",
      "source": [
        "6. Write a Python program to apply GridSearchCV to tune the hyperparameters (C and penalty) of Logistic\n",
        "Regression. Print the best parameters and accuracy."
      ],
      "metadata": {
        "id": "8MC9Yq6D82Yb"
      }
    },
    {
      "cell_type": "code",
      "source": [
        "# Apply GridSearchCV to tune C and penalty hyperparameters of Logistic Regression\n",
        "# and print the best parameters and accuracy\n",
        "\n",
        "from sklearn.datasets import load_iris\n",
        "from sklearn.linear_model import LogisticRegression\n",
        "from sklearn.model_selection import train_test_split, GridSearchCV\n",
        "from sklearn.preprocessing import StandardScaler\n",
        "from sklearn.pipeline import make_pipeline\n",
        "\n",
        "# Load dataset\n",
        "X, y = load_iris(return_X_y=True)\n",
        "\n",
        "# Split into train and test sets\n",
        "X_train, X_test, y_train, y_test = train_test_split(\n",
        "    X, y, test_size=0.2, random_state=42\n",
        ")\n",
        "\n",
        "# Create a pipeline with scaling and logistic regression\n",
        "pipe = make_pipeline(\n",
        "    StandardScaler(),\n",
        "    LogisticRegression(max_iter=1000, solver='saga', tol=0.1)\n",
        ")\n",
        "\n",
        "# Define parameter grid for C and penalty\n",
        "param_grid = {\n",
        "    'logisticregression__C': [0.1, 1, 10, 100],\n",
        "    'logisticregression__penalty': ['l1', 'l2']\n",
        "}\n",
        "\n",
        "# Create GridSearchCV object\n",
        "grid_search = GridSearchCV(pipe, param_grid, cv=5)\n",
        "\n",
        "# Fit the model with grid search\n",
        "grid_search.fit(X_train, y_train)\n",
        "\n",
        "# Print best parameters and best score (accuracy)\n",
        "print(\"Best Parameters:\", grid_search.best_params_)\n",
        "print(f\"Best Accuracy: {grid_search.best_score_:.4f}\")\n",
        "\n",
        "# Evaluate on test set using the best estimator\n",
        "test_accuracy = grid_search.score(X_test, y_test)\n",
        "print(f\"Test Accuracy with best parameters: {test_accuracy:.4f}\")\n"
      ],
      "metadata": {
        "colab": {
          "base_uri": "https://localhost:8080/"
        },
        "id": "FEvrZ98Q86hG",
        "outputId": "acce0ea3-e679-4204-c7ea-56deefef9bd9"
      },
      "execution_count": 6,
      "outputs": [
        {
          "output_type": "stream",
          "name": "stdout",
          "text": [
            "Best Parameters: {'logisticregression__C': 10, 'logisticregression__penalty': 'l1'}\n",
            "Best Accuracy: 0.9583\n",
            "Test Accuracy with best parameters: 1.0000\n"
          ]
        }
      ]
    },
    {
      "cell_type": "markdown",
      "source": [
        "7.  Write a Python program to evaluate Logistic Regression using Stratified K-Fold Cross-Validation. Print the\n",
        "average accuracy."
      ],
      "metadata": {
        "id": "fOwv7Qeh9LN4"
      }
    },
    {
      "cell_type": "code",
      "source": [
        "# Evaluate Logistic Regression using Stratified K-Fold Cross-Validation and print average accuracy\n",
        "\n",
        "from sklearn.datasets import load_iris\n",
        "from sklearn.linear_model import LogisticRegression\n",
        "from sklearn.model_selection import StratifiedKFold, cross_val_score\n",
        "from sklearn.preprocessing import StandardScaler\n",
        "from sklearn.pipeline import make_pipeline\n",
        "import numpy as np\n",
        "\n",
        "# Load dataset\n",
        "X, y = load_iris(return_X_y=True)\n",
        "\n",
        "# Create a pipeline to scale features and fit Logistic Regression\n",
        "pipeline = make_pipeline(\n",
        "    StandardScaler(),\n",
        "    LogisticRegression(max_iter=1000, random_state=42)\n",
        ")\n",
        "\n",
        "# Set up Stratified K-Fold cross-validation\n",
        "skf = StratifiedKFold(n_splits=5, shuffle=True, random_state=42)\n",
        "\n",
        "# Evaluate model using cross-validation\n",
        "scores = cross_val_score(pipeline, X, y, cv=skf, scoring='accuracy')\n",
        "\n",
        "# Print average accuracy\n",
        "print(f\"Cross Validation Scores: {scores}\")\n",
        "print(f\"Average Accuracy (Stratified K-Fold): {np.mean(scores):.4f}\")\n"
      ],
      "metadata": {
        "colab": {
          "base_uri": "https://localhost:8080/"
        },
        "id": "sqFcVjzG9Qw8",
        "outputId": "fe66835f-85cb-423d-a173-b7446699a65d"
      },
      "execution_count": 7,
      "outputs": [
        {
          "output_type": "stream",
          "name": "stdout",
          "text": [
            "Cross Validation Scores: [1.         0.96666667 0.9        1.         0.9       ]\n",
            "Average Accuracy (Stratified K-Fold): 0.9533\n"
          ]
        }
      ]
    },
    {
      "cell_type": "markdown",
      "source": [
        "8. Write a Python program to load a dataset from a CSV file, apply Logistic Regression, and evaluate its\n",
        "accuracy."
      ],
      "metadata": {
        "id": "lCDEgRYB9ZS4"
      }
    },
    {
      "cell_type": "code",
      "source": [
        "import pandas as pd\n",
        "from sklearn.model_selection import train_test_split\n",
        "from sklearn.preprocessing import StandardScaler\n",
        "from sklearn.linear_model import LogisticRegression\n",
        "from sklearn.metrics import accuracy_score\n",
        "\n",
        "# Load dataset from CSV file\n",
        "# Replace 'your_data.csv' with your actual CSV file path\n",
        "data = pd.read_csv('your_data.csv')\n",
        "\n",
        "# Assume the last column is the target variable\n",
        "X = data.iloc[:, :-1].values\n",
        "y = data.iloc[:, -1].values\n",
        "\n",
        "# Split into train and test sets\n",
        "X_train, X_test, y_train, y_test = train_test_split(\n",
        "    X, y, test_size=0.2, random_state=42\n",
        ")\n",
        "\n",
        "# Standardize features\n",
        "scaler = StandardScaler()\n",
        "X_train_scaled = scaler.fit_transform(X_train)\n",
        "X_test_scaled = scaler.transform(X_test)\n",
        "\n",
        "# Train Logistic Regression model\n",
        "clf = LogisticRegression(max_iter=1000, random_state=42)\n",
        "clf.fit(X_train_scaled, y_train)\n",
        "\n",
        "# Predict on test set\n",
        "y_pred = clf.predict(X_test_scaled)\n",
        "\n",
        "# Evaluate and print accuracy\n",
        "accuracy = accuracy_score(y_test, y_pred)\n",
        "print(f\"Logistic Regression accuracy: {accuracy:.4f}\")\n",
        "\n"
      ],
      "metadata": {
        "id": "RgAlXjjMHPHD"
      },
      "execution_count": null,
      "outputs": []
    },
    {
      "cell_type": "markdown",
      "source": [
        "9. Write a Python program to apply RandomizedSearchCV for tuning hyperparameters (C, penalty, solver) in\n",
        "Logistic Regression. Print the best parameters and accuracy."
      ],
      "metadata": {
        "id": "f6alFBZJSjce"
      }
    },
    {
      "cell_type": "code",
      "source": [
        "import numpy as np\n",
        "from sklearn.datasets import load_iris\n",
        "from sklearn.linear_model import LogisticRegression\n",
        "from sklearn.model_selection import train_test_split, RandomizedSearchCV\n",
        "from sklearn.preprocessing import StandardScaler\n",
        "from sklearn.pipeline import make_pipeline\n",
        "\n",
        "# Load dataset\n",
        "X, y = load_iris(return_X_y=True)\n",
        "\n",
        "# Split into train and test sets\n",
        "X_train, X_test, y_train, y_test = train_test_split(\n",
        "    X, y, test_size=0.2, random_state=42\n",
        ")\n",
        "\n",
        "# Create a pipeline for scaling and logistic regression\n",
        "pipe = make_pipeline(\n",
        "    StandardScaler(),\n",
        "    LogisticRegression(max_iter=1000, random_state=42)\n",
        ")\n",
        "\n",
        "# Define parameter distributions for RandomizedSearchCV\n",
        "param_dist = {\n",
        "    'logisticregression__C': np.logspace(-3, 3, 10),\n",
        "    'logisticregression__penalty': ['l1', 'l2'],\n",
        "    'logisticregression__solver': ['liblinear', 'saga']\n",
        "}\n",
        "\n",
        "# Create RandomizedSearchCV object\n",
        "random_search = RandomizedSearchCV(\n",
        "    pipe, param_distributions=param_dist, n_iter=20, cv=5, random_state=42, n_jobs=-1\n",
        ")\n",
        "\n",
        "# Fit the model\n",
        "random_search.fit(X_train, y_train)\n",
        "\n",
        "# Print best parameters and best cross-validated accuracy\n",
        "print(\"Best Parameters:\", random_search.best_params_)\n",
        "print(f\"Best Cross-Validated Accuracy: {random_search.best_score_:.4f}\")\n",
        "\n",
        "# Evaluate on test set using the best estimator\n",
        "test_accuracy = random_search.score(X_test, y_test)\n",
        "print(f\"Test Accuracy with best parameters: {test_accuracy:.4f}\")\n",
        "\n",
        "\n"
      ],
      "metadata": {
        "colab": {
          "base_uri": "https://localhost:8080/"
        },
        "id": "ys7QvM3ySsgg",
        "outputId": "9011a537-413c-4ad1-cb5b-a10ea9675e07"
      },
      "execution_count": 21,
      "outputs": [
        {
          "output_type": "stream",
          "name": "stdout",
          "text": [
            "Best Parameters: {'logisticregression__solver': 'saga', 'logisticregression__penalty': 'l2', 'logisticregression__C': np.float64(10.0)}\n",
            "Best Cross-Validated Accuracy: 0.9583\n",
            "Test Accuracy with best parameters: 1.0000\n"
          ]
        }
      ]
    },
    {
      "cell_type": "markdown",
      "source": [
        "10. Write a Python program to implement One-vs-One (OvO) Multiclass Logistic Regression and print accuracy"
      ],
      "metadata": {
        "id": "DXdVZLovpbqj"
      }
    },
    {
      "cell_type": "code",
      "source": [
        "from sklearn.datasets import load_iris\n",
        "from sklearn.linear_model import LogisticRegression\n",
        "from sklearn.model_selection import train_test_split\n",
        "from sklearn.multiclass import OneVsOneClassifier\n",
        "from sklearn.preprocessing import StandardScaler\n",
        "from sklearn.metrics import accuracy_score\n",
        "\n",
        "# Load a multiclass dataset (Iris)\n",
        "X, y = load_iris(return_X_y=True)\n",
        "\n",
        "# Split into train and test sets\n",
        "X_train, X_test, y_train, y_test = train_test_split(\n",
        "    X, y, test_size=0.2, random_state=42\n",
        ")\n",
        "\n",
        "# Standardize features for better regularization and convergence\n",
        "scaler = StandardScaler()\n",
        "X_train_scaled = scaler.fit_transform(X_train)\n",
        "X_test_scaled = scaler.transform(X_test)\n",
        "\n",
        "# Define Logistic Regression as the base estimator\n",
        "base_clf = LogisticRegression(max_iter=1000, random_state=42)\n",
        "\n",
        "# Wrap with One-vs-One multiclass strategy\n",
        "ovo_clf = OneVsOneClassifier(base_clf)\n",
        "ovo_clf.fit(X_train_scaled, y_train)\n",
        "\n",
        "# Predict and evaluate accuracy\n",
        "y_pred = ovo_clf.predict(X_test_scaled)\n",
        "accuracy = accuracy_score(y_test, y_pred)\n",
        "print(f\"One-vs-One (OvO) Logistic Regression accuracy: {accuracy:.4f}\")\n"
      ],
      "metadata": {
        "colab": {
          "base_uri": "https://localhost:8080/"
        },
        "id": "rUQ2ANCDppzQ",
        "outputId": "ce5d1a68-d702-4d07-ea31-eadf27f4e388"
      },
      "execution_count": 22,
      "outputs": [
        {
          "output_type": "stream",
          "name": "stdout",
          "text": [
            "One-vs-One (OvO) Logistic Regression accuracy: 1.0000\n"
          ]
        }
      ]
    },
    {
      "cell_type": "markdown",
      "source": [
        "11.  Write a Python program to train a Logistic Regression model and visualize the confusion matrix for binary\n",
        "classification"
      ],
      "metadata": {
        "id": "UuqshwClxDNP"
      }
    },
    {
      "cell_type": "code",
      "source": [
        "import matplotlib.pyplot as plt\n",
        "import seaborn as sns\n",
        "from sklearn.datasets import load_breast_cancer\n",
        "from sklearn.linear_model import LogisticRegression\n",
        "from sklearn.model_selection import train_test_split\n",
        "from sklearn.preprocessing import StandardScaler\n",
        "from sklearn.metrics import confusion_matrix, accuracy_score\n",
        "\n",
        "# Load a binary classification dataset\n",
        "X, y = load_breast_cancer(return_X_y=True)\n",
        "\n",
        "# Split into train and test sets\n",
        "X_train, X_test, y_train, y_test = train_test_split(\n",
        "    X, y, test_size=0.2, random_state=42\n",
        ")\n",
        "\n",
        "# Standardize features\n",
        "scaler = StandardScaler()\n",
        "X_train_scaled = scaler.fit_transform(X_train)\n",
        "X_test_scaled = scaler.transform(X_test)\n",
        "\n",
        "# Train Logistic Regression model\n",
        "clf = LogisticRegression(max_iter=1000, random_state=42)\n",
        "clf.fit(X_train_scaled, y_train)\n",
        "\n",
        "# Predict on test set\n",
        "y_pred = clf.predict(X_test_scaled)\n",
        "\n",
        "# Compute confusion matrix\n",
        "cm = confusion_matrix(y_test, y_pred)\n",
        "\n",
        "# Print accuracy\n",
        "accuracy = accuracy_score(y_test, y_pred)\n",
        "print(f\"Logistic Regression accuracy: {accuracy:.4f}\")\n",
        "\n",
        "# Visualize confusion matrix\n",
        "plt.figure(figsize=(6, 5))\n",
        "sns.heatmap(cm, annot=True, fmt='d', cmap='Blues',\n",
        "            xticklabels=['Predicted Negative', 'Predicted Positive'],\n",
        "            yticklabels=['Actual Negative', 'Actual Positive'])\n",
        "plt.title('Confusion Matrix')\n",
        "plt.xlabel('Predicted Label')\n",
        "plt.ylabel('True Label')\n",
        "plt.tight_layout()\n",
        "plt.show()\n"
      ],
      "metadata": {
        "colab": {
          "base_uri": "https://localhost:8080/",
          "height": 524
        },
        "id": "rPMF5z3ZxIq_",
        "outputId": "e2199bd2-0358-436d-8057-e98ec091d0fa"
      },
      "execution_count": 2,
      "outputs": [
        {
          "output_type": "stream",
          "name": "stdout",
          "text": [
            "Logistic Regression accuracy: 0.9737\n"
          ]
        },
        {
          "output_type": "display_data",
          "data": {
            "text/plain": [
              "<Figure size 600x500 with 2 Axes>"
            ],
            "image/png": "[encoded data removed]"
          },
          "metadata": {}
        }
      ]
    },
    {
      "cell_type": "markdown",
      "source": [
        "12.  Write a Python program to train a Logistic Regression model and evaluate its performance using Precision,\n",
        "Recall, and F1-Score."
      ],
      "metadata": {
        "id": "FfHj8hm4EDQC"
      }
    },
    {
      "cell_type": "code",
      "source": [
        "from sklearn.datasets import load_breast_cancer\n",
        "from sklearn.linear_model import LogisticRegression\n",
        "from sklearn.model_selection import train_test_split\n",
        "from sklearn.preprocessing import StandardScaler\n",
        "from sklearn.metrics import precision_score, recall_score, f1_score\n",
        "\n",
        "# Load a binary classification dataset\n",
        "X, y = load_breast_cancer(return_X_y=True)\n",
        "\n",
        "# Split into train and test sets\n",
        "X_train, X_test, y_train, y_test = train_test_split(\n",
        "    X, y, test_size=0.2, random_state=42\n",
        ")\n",
        "\n",
        "# Standardize features\n",
        "scaler = StandardScaler()\n",
        "X_train_scaled = scaler.fit_transform(X_train)\n",
        "X_test_scaled = scaler.transform(X_test)\n",
        "\n",
        "# Train Logistic Regression model\n",
        "clf = LogisticRegression(max_iter=1000, random_state=42)\n",
        "clf.fit(X_train_scaled, y_train)\n",
        "\n",
        "# Predict on test set\n",
        "y_pred = clf.predict(X_test_scaled)\n",
        "\n",
        "# Evaluate Precision, Recall, and F1-Score\n",
        "precision = precision_score(y_test, y_pred)\n",
        "recall = recall_score(y_test, y_pred)\n",
        "f1 = f1_score(y_test, y_pred)\n",
        "\n",
        "print(f\"Precision: {precision:.4f}\")\n",
        "print(f\"Recall:    {recall:.4f}\")\n",
        "print(f\"F1-Score:  {f1:.4f}\")\n"
      ],
      "metadata": {
        "colab": {
          "base_uri": "https://localhost:8080/"
        },
        "id": "Z4EuTYjdaNve",
        "outputId": "c427d80c-4b7e-4c7b-c400-dd32a68766fb"
      },
      "execution_count": 3,
      "outputs": [
        {
          "output_type": "stream",
          "name": "stdout",
          "text": [
            "Precision: 0.9722\n",
            "Recall:    0.9859\n",
            "F1-Score:  0.9790\n"
          ]
        }
      ]
    },
    {
      "cell_type": "markdown",
      "source": [
        "13.  Write a Python program to train a Logistic Regression model on imbalanced data and apply class weights to\n",
        "improve model performance"
      ],
      "metadata": {
        "id": "pKVHpCEYabY0"
      }
    },
    {
      "cell_type": "code",
      "source": [
        "from sklearn.datasets import make_classification\n",
        "from sklearn.linear_model import LogisticRegression\n",
        "from sklearn.model_selection import train_test_split\n",
        "from sklearn.preprocessing import StandardScaler\n",
        "from sklearn.metrics import classification_report, accuracy_score\n",
        "import numpy as np\n",
        "\n",
        "# Generate an imbalanced binary classification dataset\n",
        "X, y = make_classification(\n",
        "    n_samples=2000,\n",
        "    n_features=20,\n",
        "    n_informative=2,\n",
        "    n_redundant=10,\n",
        "    n_clusters_per_class=1,\n",
        "    weights=[0.9, 0.1],  # 90% of class 0, 10% of class 1\n",
        "    flip_y=0,\n",
        "    random_state=42\n",
        ")\n",
        "\n",
        "# Check class distribution\n",
        "unique, counts = np.unique(y, return_counts=True)\n",
        "print(\"Class distribution:\", dict(zip(unique, counts)))\n",
        "\n",
        "# Split into train and test sets\n",
        "X_train, X_test, y_train, y_test = train_test_split(\n",
        "    X, y, test_size=0.2, random_state=42, stratify=y\n",
        ")\n",
        "\n",
        "# Standardize features\n",
        "scaler = StandardScaler()\n",
        "X_train_scaled = scaler.fit_transform(X_train)\n",
        "X_test_scaled = scaler.transform(X_test)\n",
        "\n",
        "# Train Logistic Regression model with class weights\n",
        "clf = LogisticRegression(class_weight='balanced', max_iter=1000, random_state=42)\n",
        "clf.fit(X_train_scaled, y_train)\n",
        "\n",
        "# Predict on test set\n",
        "y_pred = clf.predict(X_test_scaled)\n",
        "\n",
        "# Evaluate performance\n",
        "print(\"\\nClassification Report (with class weights):\")\n",
        "print(classification_report(y_test, y_pred, digits=4))\n",
        "print(f\"Accuracy: {accuracy_score(y_test, y_pred):.4f}\")\n"
      ],
      "metadata": {
        "colab": {
          "base_uri": "https://localhost:8080/"
        },
        "id": "TGmDfM7sar4f",
        "outputId": "47722c7b-f05e-45f3-b528-7698c37c1baf"
      },
      "execution_count": 4,
      "outputs": [
        {
          "output_type": "stream",
          "name": "stdout",
          "text": [
            "Class distribution: {np.int64(0): np.int64(1800), np.int64(1): np.int64(200)}\n",
            "\n",
            "Classification Report (with class weights):\n",
            "              precision    recall  f1-score   support\n",
            "\n",
            "           0     1.0000    0.9194    0.9580       360\n",
            "           1     0.5797    1.0000    0.7339        40\n",
            "\n",
            "    accuracy                         0.9275       400\n",
            "   macro avg     0.7899    0.9597    0.8460       400\n",
            "weighted avg     0.9580    0.9275    0.9356       400\n",
            "\n",
            "Accuracy: 0.9275\n"
          ]
        }
      ]
    },
    {
      "cell_type": "markdown",
      "source": [
        "14. Write a Python program to train Logistic Regression on the Titanic dataset, handle missing values, and\n",
        "evaluate performance."
      ],
      "metadata": {
        "id": "e-PR9tN0a4_P"
      }
    },
    {
      "cell_type": "code",
      "source": [
        "import pandas as pd\n",
        "from sklearn.model_selection import train_test_split\n",
        "from sklearn.linear_model import LogisticRegression\n",
        "from sklearn.preprocessing import StandardScaler, LabelEncoder\n",
        "from sklearn.metrics import accuracy_score, classification_report\n",
        "\n",
        "# Load the Titanic dataset\n",
        "# Replace 'titanic.csv' with your actual file path\n",
        "df = pd.read_csv('titanic.csv')\n",
        "\n",
        "# Select relevant features and target\n",
        "features = ['Pclass', 'Sex', 'Age', 'SibSp', 'Parch', 'Fare', 'Embarked']\n",
        "target = 'Survived'\n",
        "data = df[features + [target]]\n",
        "\n",
        "# Handle missing values\n",
        "# Fill missing 'Age' with median\n",
        "data['Age'].fillna(data['Age'].median(), inplace=True)\n",
        "# Fill missing 'Fare' with median\n",
        "data['Fare'].fillna(data['Fare'].median(), inplace=True)\n",
        "# Fill missing 'Embarked' with mode\n",
        "data['Embarked'].fillna(data['Embarked'].mode()[0], inplace=True)\n",
        "\n",
        "# Encode categorical variables\n",
        "data['Sex'] = LabelEncoder().fit_transform(data['Sex'])\n",
        "data['Embarked'] = LabelEncoder().fit_transform(data['Embarked'])\n",
        "\n",
        "# Split features and target\n",
        "X = data[features]\n",
        "y = data[target]\n",
        "\n",
        "# Split into train and test sets\n",
        "X_train, X_test, y_train, y_test = train_test_split(\n",
        "    X, y, test_size=0.2, random_state=42, stratify=y\n",
        ")\n",
        "\n",
        "# Standardize features\n",
        "scaler = StandardScaler()\n",
        "X_train_scaled = scaler.fit_transform(X_train)\n",
        "X_test_scaled = scaler.transform(X_test)\n",
        "\n",
        "# Train Logistic Regression model\n",
        "clf = LogisticRegression(max_iter=1000, random_state=42)\n",
        "clf.fit(X_train_scaled, y_train)\n",
        "\n",
        "# Predict and evaluate\n",
        "y_pred = clf.predict(X_test_scaled)\n",
        "accuracy = accuracy_score(y_test, y_pred)\n",
        "print(f\"Logistic Regression accuracy: {accuracy:.4f}\")\n",
        "print(\"\\nClassification Report:\")\n",
        "print(classification_report(y_test, y_pred, digits=4))\n"
      ],
      "metadata": {
        "id": "9h18KUWJbHCj"
      },
      "execution_count": null,
      "outputs": []
    },
    {
      "cell_type": "markdown",
      "source": [
        "15.  Write a Python program to apply feature scaling (Standardization) before training a Logistic Regression\n",
        "model. Evaluate its accuracy and compare results with and without scaling."
      ],
      "metadata": {
        "id": "WlvfkCSMbn3s"
      }
    },
    {
      "cell_type": "code",
      "source": [
        "from sklearn.datasets import load_breast_cancer\n",
        "from sklearn.linear_model import LogisticRegression\n",
        "from sklearn.model_selection import train_test_split\n",
        "from sklearn.preprocessing import StandardScaler\n",
        "from sklearn.metrics import accuracy_score\n",
        "\n",
        "# Load a dataset\n",
        "X, y = load_breast_cancer(return_X_y=True)\n",
        "\n",
        "# Split into train and test sets\n",
        "X_train, X_test, y_train, y_test = train_test_split(\n",
        "    X, y, test_size=0.2, random_state=42\n",
        ")\n",
        "\n",
        "# --------- Logistic Regression WITHOUT Scaling ---------\n",
        "clf_no_scaling = LogisticRegression(max_iter=1000, random_state=42)\n",
        "clf_no_scaling.fit(X_train, y_train)\n",
        "y_pred_no_scaling = clf_no_scaling.predict(X_test)\n",
        "accuracy_no_scaling = accuracy_score(y_test, y_pred_no_scaling)\n",
        "print(f\"Accuracy WITHOUT scaling: {accuracy_no_scaling:.4f}\")\n",
        "\n",
        "# --------- Logistic Regression WITH Standardization ---------\n",
        "scaler = StandardScaler()\n",
        "X_train_scaled = scaler.fit_transform(X_train)\n",
        "X_test_scaled = scaler.transform(X_test)\n",
        "\n",
        "clf_scaling = LogisticRegression(max_iter=1000, random_state=42)\n",
        "clf_scaling.fit(X_train_scaled, y_train)\n",
        "y_pred_scaling = clf_scaling.predict(X_test_scaled)\n",
        "accuracy_scaling = accuracy_score(y_test, y_pred_scaling)\n",
        "print(f\"Accuracy WITH standardization: {accuracy_scaling:.4f}\")\n",
        "\n",
        "# --------- Comparison ---------\n",
        "print(\"\\nComparison:\")\n",
        "print(f\"Without scaling:      {accuracy_no_scaling:.4f}\")\n",
        "print(f\"With standardization: {accuracy_scaling:.4f}\")\n"
      ],
      "metadata": {
        "colab": {
          "base_uri": "https://localhost:8080/"
        },
        "id": "BrrO6WYZbt_t",
        "outputId": "956cdb16-2804-446a-ec23-2ac58bf67b2a"
      },
      "execution_count": 6,
      "outputs": [
        {
          "output_type": "stream",
          "name": "stdout",
          "text": [
            "Accuracy WITHOUT scaling: 0.9561\n",
            "Accuracy WITH standardization: 0.9737\n",
            "\n",
            "Comparison:\n",
            "Without scaling:      0.9561\n",
            "With standardization: 0.9737\n"
          ]
        },
        {
          "output_type": "stream",
          "name": "stderr",
          "text": [
            "/usr/local/lib/python3.11/dist-packages/sklearn/linear_model/_logistic.py:465: ConvergenceWarning: lbfgs failed to converge (status=1):\n",
            "STOP: TOTAL NO. OF ITERATIONS REACHED LIMIT.\n",
            "\n",
            "Increase the number of iterations (max_iter) or scale the data as shown in:\n",
            "    https://scikit-learn.org/stable/modules/preprocessing.html\n",
            "Please also refer to the documentation for alternative solver options:\n",
            "    https://scikit-learn.org/stable/modules/linear_model.html#logistic-regression\n",
            "  n_iter_i = _check_optimize_result(\n"
          ]
        }
      ]
    },
    {
      "cell_type": "markdown",
      "source": [
        "16. Write a Python program to train Logistic Regression and evaluate its performance using ROC-AUC score."
      ],
      "metadata": {
        "id": "pLfdlFFYb2bF"
      }
    },
    {
      "cell_type": "code",
      "source": [
        "from sklearn.datasets import load_breast_cancer\n",
        "from sklearn.linear_model import LogisticRegression\n",
        "from sklearn.model_selection import train_test_split\n",
        "from sklearn.preprocessing import StandardScaler\n",
        "from sklearn.metrics import roc_auc_score\n",
        "\n",
        "# Load a binary classification dataset\n",
        "X, y = load_breast_cancer(return_X_y=True)\n",
        "\n",
        "# Split into train and test sets\n",
        "X_train, X_test, y_train, y_test = train_test_split(\n",
        "    X, y, test_size=0.2, random_state=42\n",
        ")\n",
        "\n",
        "# Standardize features\n",
        "scaler = StandardScaler()\n",
        "X_train_scaled = scaler.fit_transform(X_train)\n",
        "X_test_scaled = scaler.transform(X_test)\n",
        "\n",
        "# Train Logistic Regression model\n",
        "clf = LogisticRegression(max_iter=1000, random_state=42)\n",
        "clf.fit(X_train_scaled, y_train)\n",
        "\n",
        "# Predict probabilities for the positive class\n",
        "y_proba = clf.predict_proba(X_test_scaled)[:, 1]\n",
        "\n",
        "# Evaluate ROC-AUC score\n",
        "roc_auc = roc_auc_score(y_test, y_proba)\n",
        "print(f\"Logistic Regression ROC-AUC score: {roc_auc:.4f}\")\n"
      ],
      "metadata": {
        "colab": {
          "base_uri": "https://localhost:8080/"
        },
        "id": "H1_95ykxb8uF",
        "outputId": "2b77a3b9-e5c2-4757-f0ae-2566ebf50f1a"
      },
      "execution_count": 7,
      "outputs": [
        {
          "output_type": "stream",
          "name": "stdout",
          "text": [
            "Logistic Regression ROC-AUC score: 0.9974\n"
          ]
        }
      ]
    },
    {
      "cell_type": "markdown",
      "source": [
        "17. Write a Python program to train Logistic Regression using a custom learning rate (C=0.5) and evaluate\n",
        "accuracy"
      ],
      "metadata": {
        "id": "llBcse3bcGTG"
      }
    },
    {
      "cell_type": "code",
      "source": [
        "from sklearn.datasets import load_breast_cancer\n",
        "from sklearn.linear_model import LogisticRegression\n",
        "from sklearn.model_selection import train_test_split\n",
        "from sklearn.preprocessing import StandardScaler\n",
        "from sklearn.metrics import accuracy_score\n",
        "\n",
        "# Load a binary classification dataset\n",
        "X, y = load_breast_cancer(return_X_y=True)\n",
        "\n",
        "# Split into train and test sets\n",
        "X_train, X_test, y_train, y_test = train_test_split(\n",
        "    X, y, test_size=0.2, random_state=42\n",
        ")\n",
        "\n",
        "# Standardize features\n",
        "scaler = StandardScaler()\n",
        "X_train_scaled = scaler.fit_transform(X_train)\n",
        "X_test_scaled = scaler.transform(X_test)\n",
        "\n",
        "# Train Logistic Regression with custom regularization strength C=0.5\n",
        "clf = LogisticRegression(C=0.5, max_iter=1000, random_state=42)\n",
        "clf.fit(X_train_scaled, y_train)\n",
        "\n",
        "# Predict on test set\n",
        "y_pred = clf.predict(X_test_scaled)\n",
        "\n",
        "# Evaluate and print accuracy\n",
        "accuracy = accuracy_score(y_test, y_pred)\n",
        "print(f\"Logistic Regression accuracy with C=0.5: {accuracy:.4f}\")\n"
      ],
      "metadata": {
        "colab": {
          "base_uri": "https://localhost:8080/"
        },
        "id": "F4-2EO5RcKjT",
        "outputId": "c1424b3c-bf53-4002-9d94-d9a1d8ddaac2"
      },
      "execution_count": 8,
      "outputs": [
        {
          "output_type": "stream",
          "name": "stdout",
          "text": [
            "Logistic Regression accuracy with C=0.5: 0.9737\n"
          ]
        }
      ]
    },
    {
      "cell_type": "markdown",
      "source": [
        "18. Write a Python program to train Logistic Regression and identify important features based on model\n",
        "coefficients"
      ],
      "metadata": {
        "id": "w5YaD2D0cTpJ"
      }
    },
    {
      "cell_type": "code",
      "source": [
        "import numpy as np\n",
        "import pandas as pd\n",
        "from sklearn.datasets import load_breast_cancer\n",
        "from sklearn.linear_model import LogisticRegression\n",
        "from sklearn.model_selection import train_test_split\n",
        "from sklearn.preprocessing import StandardScaler\n",
        "\n",
        "# Load dataset and feature names\n",
        "data = load_breast_cancer()\n",
        "X = data.data\n",
        "y = data.target\n",
        "feature_names = data.feature_names\n",
        "\n",
        "# Split into train and test sets\n",
        "X_train, X_test, y_train, y_test = train_test_split(\n",
        "    X, y, test_size=0.2, random_state=42\n",
        ")\n",
        "\n",
        "# Standardize features for fair coefficient comparison\n",
        "scaler = StandardScaler()\n",
        "X_train_scaled = scaler.fit_transform(X_train)\n",
        "X_test_scaled = scaler.transform(X_test)\n",
        "\n",
        "# Train Logistic Regression model\n",
        "clf = LogisticRegression(max_iter=1000, random_state=42)\n",
        "clf.fit(X_train_scaled, y_train)\n",
        "\n",
        "# Get absolute value of coefficients as feature importance\n",
        "importances = np.abs(clf.coef_[0])\n",
        "\n",
        "# Create a DataFrame for feature importance\n",
        "feature_importance = pd.DataFrame({\n",
        "    'Feature': feature_names,\n",
        "    'Importance': importances\n",
        "}).sort_values(by='Importance', ascending=False)\n",
        "\n",
        "print(\"Top important features based on model coefficients:\")\n",
        "print(feature_importance.head(10))\n",
        "\n",
        "# Optionally, plot feature importance\n",
        "import matplotlib.pyplot as plt\n",
        "plt.figure(figsize=(8, 6))\n",
        "plt.barh(feature_importance['Feature'][:10][::-1], feature_importance['Importance'][:10][::-1])\n",
        "plt.xlabel('Coefficient Magnitude (Importance)')\n",
        "plt.title('Top 10 Important Features (Logistic Regression)')\n",
        "plt.tight_layout()\n",
        "plt.show()\n"
      ],
      "metadata": {
        "colab": {
          "base_uri": "https://localhost:8080/",
          "height": 815
        },
        "id": "YZiOvYvZcaAJ",
        "outputId": "30c3470e-c2e3-4eb0-9cd8-2a5e7f5c335f"
      },
      "execution_count": 9,
      "outputs": [
        {
          "output_type": "stream",
          "name": "stdout",
          "text": [
            "Top important features based on model coefficients:\n",
            "                 Feature  Importance\n",
            "21         worst texture    1.350606\n",
            "10          radius error    1.268178\n",
            "28        worst symmetry    1.208200\n",
            "7    mean concave points    1.119804\n",
            "26       worst concavity    0.943053\n",
            "13            area error    0.907186\n",
            "20          worst radius    0.879840\n",
            "23            worst area    0.841846\n",
            "6         mean concavity    0.801458\n",
            "27  worst concave points    0.778217\n"
          ]
        },
        {
          "output_type": "display_data",
          "data": {
            "text/plain": [
              "<Figure size 800x600 with 1 Axes>"
            ],
            "image/png": "[encoded data removed]"
          },
          "metadata": {}
        }
      ]
    },
    {
      "cell_type": "markdown",
      "source": [
        "19.  Write a Python program to train Logistic Regression and evaluate its performance using Cohen’s Kappa\n",
        "Score."
      ],
      "metadata": {
        "id": "yYNEnHWccfD6"
      }
    },
    {
      "cell_type": "code",
      "source": [
        "from sklearn.datasets import load_breast_cancer\n",
        "from sklearn.linear_model import LogisticRegression\n",
        "from sklearn.model_selection import train_test_split\n",
        "from sklearn.preprocessing import StandardScaler\n",
        "from sklearn.metrics import cohen_kappa_score\n",
        "\n",
        "# Load a binary classification dataset\n",
        "X, y = load_breast_cancer(return_X_y=True)\n",
        "\n",
        "# Split into train and test sets\n",
        "X_train, X_test, y_train, y_test = train_test_split(\n",
        "    X, y, test_size=0.2, random_state=42\n",
        ")\n",
        "\n",
        "# Standardize features\n",
        "scaler = StandardScaler()\n",
        "X_train_scaled = scaler.fit_transform(X_train)\n",
        "X_test_scaled = scaler.transform(X_test)\n",
        "\n",
        "# Train Logistic Regression model\n",
        "clf = LogisticRegression(max_iter=1000, random_state=42)\n",
        "clf.fit(X_train_scaled, y_train)\n",
        "\n",
        "# Predict on test set\n",
        "y_pred = clf.predict(X_test_scaled)\n",
        "\n",
        "# Evaluate Cohen's Kappa Score\n",
        "kappa = cohen_kappa_score(y_test, y_pred)\n",
        "print(f\"Cohen's Kappa Score: {kappa:.4f}\")\n"
      ],
      "metadata": {
        "colab": {
          "base_uri": "https://localhost:8080/"
        },
        "id": "6xnZBKcxcr_n",
        "outputId": "4071052d-bd49-4262-acea-4daad0be795b"
      },
      "execution_count": 10,
      "outputs": [
        {
          "output_type": "stream",
          "name": "stdout",
          "text": [
            "Cohen's Kappa Score: 0.9437\n"
          ]
        }
      ]
    },
    {
      "cell_type": "markdown",
      "source": [
        "20. Write a Python program to train Logistic Regression and visualize the Precision-Recall Curve for binary\n",
        "classification."
      ],
      "metadata": {
        "id": "CKsmd4o1cvEb"
      }
    },
    {
      "cell_type": "code",
      "source": [
        "import matplotlib.pyplot as plt\n",
        "from sklearn.datasets import load_breast_cancer\n",
        "from sklearn.linear_model import LogisticRegression\n",
        "from sklearn.model_selection import train_test_split\n",
        "from sklearn.preprocessing import StandardScaler\n",
        "from sklearn.metrics import precision_recall_curve, average_precision_score\n",
        "\n",
        "# Load a binary classification dataset\n",
        "X, y = load_breast_cancer(return_X_y=True)\n",
        "\n",
        "# Split into train and test sets\n",
        "X_train, X_test, y_train, y_test = train_test_split(\n",
        "    X, y, test_size=0.2, random_state=42\n",
        ")\n",
        "\n",
        "# Standardize features\n",
        "scaler = StandardScaler()\n",
        "X_train_scaled = scaler.fit_transform(X_train)\n",
        "X_test_scaled = scaler.transform(X_test)\n",
        "\n",
        "# Train Logistic Regression model\n",
        "clf = LogisticRegression(max_iter=1000, random_state=42)\n",
        "clf.fit(X_train_scaled, y_train)\n",
        "\n",
        "# Predict probabilities for the positive class\n",
        "y_scores = clf.predict_proba(X_test_scaled)[:, 1]\n",
        "\n",
        "# Compute precision-recall curve and average precision\n",
        "precision, recall, thresholds = precision_recall_curve(y_test, y_scores)\n",
        "avg_precision = average_precision_score(y_test, y_scores)\n",
        "\n",
        "# Plot the Precision-Recall curve\n",
        "plt.figure(figsize=(8, 6))\n",
        "plt.plot(recall, precision, label=f'Logistic Regression (AP = {avg_precision:.2f})')\n",
        "plt.xlabel('Recall')\n",
        "plt.ylabel('Precision')\n",
        "plt.title('Precision-Recall Curve')\n",
        "plt.legend()\n",
        "plt.grid(True)\n",
        "plt.tight_layout()\n",
        "plt.show()\n"
      ],
      "metadata": {
        "colab": {
          "base_uri": "https://localhost:8080/",
          "height": 607
        },
        "id": "NwnIZfXvc_Cv",
        "outputId": "1dcaaef3-e715-4e8e-f51a-71accc2f1860"
      },
      "execution_count": 11,
      "outputs": [
        {
          "output_type": "display_data",
          "data": {
            "text/plain": [
              "<Figure size 800x600 with 1 Axes>"
            ],
            "image/png": "[encoded data removed]"
          },
          "metadata": {}
        }
      ]
    },
    {
      "cell_type": "markdown",
      "source": [
        "21. Write a Python program to train Logistic Regression with different solvers (liblinear, saga, lbfgs) and compare\n",
        "their accuracy."
      ],
      "metadata": {
        "id": "ZukLC5AtdJ8L"
      }
    },
    {
      "cell_type": "code",
      "source": [
        "from sklearn.datasets import load_breast_cancer\n",
        "from sklearn.linear_model import LogisticRegression\n",
        "from sklearn.model_selection import train_test_split\n",
        "from sklearn.preprocessing import StandardScaler\n",
        "from sklearn.metrics import accuracy_score\n",
        "\n",
        "# Load dataset\n",
        "X, y = load_breast_cancer(return_X_y=True)\n",
        "\n",
        "# Split into train and test sets\n",
        "X_train, X_test, y_train, y_test = train_test_split(\n",
        "    X, y, test_size=0.2, random_state=42\n",
        ")\n",
        "\n",
        "# Standardize features\n",
        "scaler = StandardScaler()\n",
        "X_train_scaled = scaler.fit_transform(X_train)\n",
        "X_test_scaled = scaler.transform(X_test)\n",
        "\n",
        "# Define solvers to compare\n",
        "solvers = ['liblinear', 'lbfgs', 'saga']\n",
        "results = {}\n",
        "\n",
        "for solver in solvers:\n",
        "    # saga supports both L1 and L2, lbfgs only L2, liblinear both L1 and L2 (default is L2)\n",
        "    clf = LogisticRegression(solver=solver, max_iter=1000, random_state=42)\n",
        "    clf.fit(X_train_scaled, y_train)\n",
        "    y_pred = clf.predict(X_test_scaled)\n",
        "    accuracy = accuracy_score(y_test, y_pred)\n",
        "    results[solver] = accuracy\n",
        "\n",
        "# Print comparison of solver accuracies\n",
        "print(\"Logistic Regression Accuracy by Solver:\")\n",
        "for solver, acc in results.items():\n",
        "    print(f\"{solver:10s}: {acc:.4f}\")\n"
      ],
      "metadata": {
        "colab": {
          "base_uri": "https://localhost:8080/"
        },
        "id": "ejB4ZTvldUdJ",
        "outputId": "d7b97d6e-28fb-4e8c-bf2a-3978279b24d1"
      },
      "execution_count": 12,
      "outputs": [
        {
          "output_type": "stream",
          "name": "stdout",
          "text": [
            "Logistic Regression Accuracy by Solver:\n",
            "liblinear : 0.9737\n",
            "lbfgs     : 0.9737\n",
            "saga      : 0.9737\n"
          ]
        }
      ]
    },
    {
      "cell_type": "markdown",
      "source": [
        "22. Write a Python program to train Logistic Regression and evaluate its performance using Matthews\n",
        "Correlation Coefficient (MCC)"
      ],
      "metadata": {
        "id": "_w8dh8MIdWwo"
      }
    },
    {
      "cell_type": "code",
      "source": [
        "from sklearn.datasets import load_breast_cancer\n",
        "from sklearn.linear_model import LogisticRegression\n",
        "from sklearn.model_selection import train_test_split\n",
        "from sklearn.preprocessing import StandardScaler\n",
        "from sklearn.metrics import matthews_corrcoef\n",
        "\n",
        "# Load a binary classification dataset\n",
        "X, y = load_breast_cancer(return_X_y=True)\n",
        "\n",
        "# Split into train and test sets\n",
        "X_train, X_test, y_train, y_test = train_test_split(\n",
        "    X, y, test_size=0.2, random_state=42\n",
        ")\n",
        "\n",
        "# Standardize features\n",
        "scaler = StandardScaler()\n",
        "X_train_scaled = scaler.fit_transform(X_train)\n",
        "X_test_scaled = scaler.transform(X_test)\n",
        "\n",
        "# Train Logistic Regression model\n",
        "clf = LogisticRegression(max_iter=1000, random_state=42)\n",
        "clf.fit(X_train_scaled, y_train)\n",
        "\n",
        "# Predict on test set\n",
        "y_pred = clf.predict(X_test_scaled)\n",
        "\n",
        "# Evaluate Matthews Correlation Coefficient (MCC)\n",
        "mcc = matthews_corrcoef(y_test, y_pred)\n",
        "print(f\"Matthews Correlation Coefficient (MCC): {mcc:.4f}\")\n"
      ],
      "metadata": {
        "colab": {
          "base_uri": "https://localhost:8080/"
        },
        "id": "khm7gRdaddBP",
        "outputId": "2b3ddf34-a700-411e-9d7a-46320178c99d"
      },
      "execution_count": 13,
      "outputs": [
        {
          "output_type": "stream",
          "name": "stdout",
          "text": [
            "Matthews Correlation Coefficient (MCC): 0.9439\n"
          ]
        }
      ]
    },
    {
      "cell_type": "markdown",
      "source": [
        "23.  Write a Python program to train Logistic Regression on both raw and standardized data. Compare their\n",
        "accuracy to see the impact of feature scaling."
      ],
      "metadata": {
        "id": "HVoxoMVqdicw"
      }
    },
    {
      "cell_type": "code",
      "source": [
        "from sklearn.datasets import load_breast_cancer\n",
        "from sklearn.linear_model import LogisticRegression\n",
        "from sklearn.model_selection import train_test_split\n",
        "from sklearn.preprocessing import StandardScaler\n",
        "from sklearn.metrics import accuracy_score\n",
        "\n",
        "# Load dataset\n",
        "X, y = load_breast_cancer(return_X_y=True)\n",
        "\n",
        "# Split into train and test sets\n",
        "X_train, X_test, y_train, y_test = train_test_split(\n",
        "    X, y, test_size=0.2, random_state=42\n",
        ")\n",
        "\n",
        "# Logistic Regression on raw (unscaled) data\n",
        "clf_raw = LogisticRegression(max_iter=1000, random_state=42)\n",
        "clf_raw.fit(X_train, y_train)\n",
        "y_pred_raw = clf_raw.predict(X_test)\n",
        "accuracy_raw = accuracy_score(y_test, y_pred_raw)\n",
        "print(f\"Accuracy on raw data:           {accuracy_raw:.4f}\")\n",
        "\n",
        "# Logistic Regression on standardized data\n",
        "scaler = StandardScaler()\n",
        "X_train_scaled = scaler.fit_transform(X_train)\n",
        "X_test_scaled = scaler.transform(X_test)\n",
        "\n",
        "clf_scaled = LogisticRegression(max_iter=1000, random_state=42)\n",
        "clf_scaled.fit(X_train_scaled, y_train)\n",
        "y_pred_scaled = clf_scaled.predict(X_test_scaled)\n",
        "accuracy_scaled = accuracy_score(y_test, y_pred_scaled)\n",
        "print(f\"Accuracy on standardized data:  {accuracy_scaled:.4f}\")\n",
        "\n",
        "# Comparison\n",
        "print(\"\\nComparison of Logistic Regression accuracy:\")\n",
        "print(f\"Raw data accuracy:          {accuracy_raw:.4f}\")\n",
        "print(f\"Standardized data accuracy: {accuracy_scaled:.4f}\")\n"
      ],
      "metadata": {
        "colab": {
          "base_uri": "https://localhost:8080/"
        },
        "id": "bPH04-OxeOOr",
        "outputId": "5e10590b-3afd-4146-ff0d-99788793906d"
      },
      "execution_count": 14,
      "outputs": [
        {
          "output_type": "stream",
          "name": "stdout",
          "text": [
            "Accuracy on raw data:           0.9561\n",
            "Accuracy on standardized data:  0.9737\n",
            "\n",
            "Comparison of Logistic Regression accuracy:\n",
            "Raw data accuracy:          0.9561\n",
            "Standardized data accuracy: 0.9737\n"
          ]
        },
        {
          "output_type": "stream",
          "name": "stderr",
          "text": [
            "/usr/local/lib/python3.11/dist-packages/sklearn/linear_model/_logistic.py:465: ConvergenceWarning: lbfgs failed to converge (status=1):\n",
            "STOP: TOTAL NO. OF ITERATIONS REACHED LIMIT.\n",
            "\n",
            "Increase the number of iterations (max_iter) or scale the data as shown in:\n",
            "    https://scikit-learn.org/stable/modules/preprocessing.html\n",
            "Please also refer to the documentation for alternative solver options:\n",
            "    https://scikit-learn.org/stable/modules/linear_model.html#logistic-regression\n",
            "  n_iter_i = _check_optimize_result(\n"
          ]
        }
      ]
    },
    {
      "cell_type": "markdown",
      "source": [
        "24. Write a Python program to train Logistic Regression and find the optimal C (regularization strength) using\n",
        "cross-validation."
      ],
      "metadata": {
        "id": "WMSTCNVFeRSP"
      }
    },
    {
      "cell_type": "code",
      "source": [
        "import numpy as np\n",
        "from sklearn.datasets import load_breast_cancer\n",
        "from sklearn.linear_model import LogisticRegression\n",
        "from sklearn.model_selection import train_test_split, GridSearchCV\n",
        "from sklearn.preprocessing import StandardScaler\n",
        "\n",
        "# Load dataset\n",
        "X, y = load_breast_cancer(return_X_y=True)\n",
        "\n",
        "# Split into train and test sets\n",
        "X_train, X_test, y_train, y_test = train_test_split(\n",
        "    X, y, test_size=0.2, random_state=42\n",
        ")\n",
        "\n",
        "# Standardize features\n",
        "scaler = StandardScaler()\n",
        "X_train_scaled = scaler.fit_transform(X_train)\n",
        "X_test_scaled = scaler.transform(X_test)\n",
        "\n",
        "# Define a range of C values (regularization strengths)\n",
        "C_values = np.logspace(-4, 4, 10)\n",
        "\n",
        "# Set up Logistic Regression and GridSearchCV\n",
        "clf = LogisticRegression(max_iter=1000, random_state=42)\n",
        "param_grid = {'C': C_values}\n",
        "\n",
        "grid_search = GridSearchCV(clf, param_grid, cv=5, scoring='accuracy')\n",
        "grid_search.fit(X_train_scaled, y_train)\n",
        "\n",
        "# Best C and corresponding accuracy\n",
        "best_C = grid_search.best_params_['C']\n",
        "best_cv_score = grid_search.best_score_\n",
        "\n",
        "# Evaluate on test set\n",
        "test_accuracy = grid_search.score(X_test_scaled, y_test)\n",
        "\n",
        "print(f\"Optimal C (regularization strength): {best_C}\")\n",
        "print(f\"Best cross-validated accuracy: {best_cv_score:.4f}\")\n",
        "print(f\"Test set accuracy with optimal C: {test_accuracy:.4f}\")\n"
      ],
      "metadata": {
        "colab": {
          "base_uri": "https://localhost:8080/"
        },
        "id": "2Nez-NAjeiwI",
        "outputId": "2ab4d56f-eb1b-4a9d-94bc-be4bed1a801c"
      },
      "execution_count": 15,
      "outputs": [
        {
          "output_type": "stream",
          "name": "stdout",
          "text": [
            "Optimal C (regularization strength): 2.782559402207126\n",
            "Best cross-validated accuracy: 0.9780\n",
            "Test set accuracy with optimal C: 0.9737\n"
          ]
        }
      ]
    },
    {
      "cell_type": "markdown",
      "source": [
        "25. Write a Python program to train Logistic Regression, save the trained model using joblib, and load it again to\n",
        "make predictions."
      ],
      "metadata": {
        "id": "Y7Q58eI1enu2"
      }
    },
    {
      "cell_type": "code",
      "source": [
        "import joblib\n",
        "from sklearn.datasets import load_breast_cancer\n",
        "from sklearn.linear_model import LogisticRegression\n",
        "from sklearn.model_selection import train_test_split\n",
        "from sklearn.preprocessing import StandardScaler\n",
        "from sklearn.metrics import accuracy_score\n",
        "\n",
        "# Load dataset\n",
        "X, y = load_breast_cancer(return_X_y=True)\n",
        "\n",
        "# Split into train and test sets\n",
        "X_train, X_test, y_train, y_test = train_test_split(\n",
        "    X, y, test_size=0.2, random_state=42\n",
        ")\n",
        "\n",
        "# Standardize features\n",
        "scaler = StandardScaler()\n",
        "X_train_scaled = scaler.fit_transform(X_train)\n",
        "X_test_scaled = scaler.transform(X_test)\n",
        "\n",
        "# Train Logistic Regression model\n",
        "clf = LogisticRegression(max_iter=1000, random_state=42)\n",
        "clf.fit(X_train_scaled, y_train)\n",
        "\n",
        "# Save the trained model and scaler to disk\n",
        "joblib.dump(clf, 'logistic_regression_model.joblib')\n",
        "joblib.dump(scaler, 'scaler.joblib')\n",
        "\n",
        "# Load the model and scaler from disk\n",
        "loaded_clf = joblib.load('logistic_regression_model.joblib')\n",
        "loaded_scaler = joblib.load('scaler.joblib')\n",
        "\n",
        "# Use loaded scaler and model to make predictions on test data\n",
        "X_test_scaled_loaded = loaded_scaler.transform(X_test)  # Just to demonstrate usage\n",
        "y_pred = loaded_clf.predict(X_test_scaled_loaded)\n",
        "\n",
        "# Evaluate accuracy\n",
        "accuracy = accuracy_score(y_test, y_pred)\n",
        "print(f\"Accuracy of loaded model: {accuracy:.4f}\")\n"
      ],
      "metadata": {
        "colab": {
          "base_uri": "https://localhost:8080/"
        },
        "id": "jTF36UW2esyg",
        "outputId": "a12c8fb7-7f2e-4efb-8b99-4b8b961880f5"
      },
      "execution_count": 16,
      "outputs": [
        {
          "output_type": "stream",
          "name": "stdout",
          "text": [
            "Accuracy of loaded model: 0.9737\n"
          ]
        }
      ]
    },
    {
      "cell_type": "code",
      "source": [],
      "metadata": {
        "id": "vra3347Kewtn"
      },
      "execution_count": null,
      "outputs": []
    }
  ]
}