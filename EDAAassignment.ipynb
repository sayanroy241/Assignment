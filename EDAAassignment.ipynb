{
  "nbformat": 4,
  "nbformat_minor": 0,
  "metadata": {
    "colab": {
      "provenance": []
    },
    "kernelspec": {
      "name": "python3",
      "display_name": "Python 3"
    },
    "language_info": {
      "name": "python"
    }
  },
  "cells": [
    {
      "cell_type": "code",
      "execution_count": null,
      "metadata": {
        "colab": {
          "base_uri": "https://localhost:8080/",
          "height": 73
        },
        "id": "w8yOLDze69Lo",
        "outputId": "944df158-4df1-4def-ac9f-35c22d51210a"
      },
      "outputs": [
        {
          "output_type": "display_data",
          "data": {
            "text/plain": [
              "<IPython.core.display.HTML object>"
            ],
            "text/html": [
              "\n",
              "     <input type=\"file\" id=\"files-39ce7716-d5f1-417e-877c-16de5a3bcbe7\" name=\"files[]\" multiple disabled\n",
              "        style=\"border:none\" />\n",
              "     <output id=\"result-39ce7716-d5f1-417e-877c-16de5a3bcbe7\">\n",
              "      Upload widget is only available when the cell has been executed in the\n",
              "      current browser session. Please rerun this cell to enable.\n",
              "      </output>\n",
              "      <script>// Copyright 2017 Google LLC\n",
              "//\n",
              "// Licensed under the Apache License, Version 2.0 (the \"License\");\n",
              "// you may not use this file except in compliance with the License.\n",
              "// You may obtain a copy of the License at\n",
              "//\n",
              "//      http://www.apache.org/licenses/LICENSE-2.0\n",
              "//\n",
              "// Unless required by applicable law or agreed to in writing, software\n",
              "// distributed under the License is distributed on an \"AS IS\" BASIS,\n",
              "// WITHOUT WARRANTIES OR CONDITIONS OF ANY KIND, either express or implied.\n",
              "// See the License for the specific language governing permissions and\n",
              "// limitations under the License.\n",
              "\n",
              "/**\n",
              " * @fileoverview Helpers for google.colab Python module.\n",
              " */\n",
              "(function(scope) {\n",
              "function span(text, styleAttributes = {}) {\n",
              "  const element = document.createElement('span');\n",
              "  element.textContent = text;\n",
              "  for (const key of Object.keys(styleAttributes)) {\n",
              "    element.style[key] = styleAttributes[key];\n",
              "  }\n",
              "  return element;\n",
              "}\n",
              "\n",
              "// Max number of bytes which will be uploaded at a time.\n",
              "const MAX_PAYLOAD_SIZE = 100 * 1024;\n",
              "\n",
              "function _uploadFiles(inputId, outputId) {\n",
              "  const steps = uploadFilesStep(inputId, outputId);\n",
              "  const outputElement = document.getElementById(outputId);\n",
              "  // Cache steps on the outputElement to make it available for the next call\n",
              "  // to uploadFilesContinue from Python.\n",
              "  outputElement.steps = steps;\n",
              "\n",
              "  return _uploadFilesContinue(outputId);\n",
              "}\n",
              "\n",
              "// This is roughly an async generator (not supported in the browser yet),\n",
              "// where there are multiple asynchronous steps and the Python side is going\n",
              "// to poll for completion of each step.\n",
              "// This uses a Promise to block the python side on completion of each step,\n",
              "// then passes the result of the previous step as the input to the next step.\n",
              "function _uploadFilesContinue(outputId) {\n",
              "  const outputElement = document.getElementById(outputId);\n",
              "  const steps = outputElement.steps;\n",
              "\n",
              "  const next = steps.next(outputElement.lastPromiseValue);\n",
              "  return Promise.resolve(next.value.promise).then((value) => {\n",
              "    // Cache the last promise value to make it available to the next\n",
              "    // step of the generator.\n",
              "    outputElement.lastPromiseValue = value;\n",
              "    return next.value.response;\n",
              "  });\n",
              "}\n",
              "\n",
              "/**\n",
              " * Generator function which is called between each async step of the upload\n",
              " * process.\n",
              " * @param {string} inputId Element ID of the input file picker element.\n",
              " * @param {string} outputId Element ID of the output display.\n",
              " * @return {!Iterable<!Object>} Iterable of next steps.\n",
              " */\n",
              "function* uploadFilesStep(inputId, outputId) {\n",
              "  const inputElement = document.getElementById(inputId);\n",
              "  inputElement.disabled = false;\n",
              "\n",
              "  const outputElement = document.getElementById(outputId);\n",
              "  outputElement.innerHTML = '';\n",
              "\n",
              "  const pickedPromise = new Promise((resolve) => {\n",
              "    inputElement.addEventListener('change', (e) => {\n",
              "      resolve(e.target.files);\n",
              "    });\n",
              "  });\n",
              "\n",
              "  const cancel = document.createElement('button');\n",
              "  inputElement.parentElement.appendChild(cancel);\n",
              "  cancel.textContent = 'Cancel upload';\n",
              "  const cancelPromise = new Promise((resolve) => {\n",
              "    cancel.onclick = () => {\n",
              "      resolve(null);\n",
              "    };\n",
              "  });\n",
              "\n",
              "  // Wait for the user to pick the files.\n",
              "  const files = yield {\n",
              "    promise: Promise.race([pickedPromise, cancelPromise]),\n",
              "    response: {\n",
              "      action: 'starting',\n",
              "    }\n",
              "  };\n",
              "\n",
              "  cancel.remove();\n",
              "\n",
              "  // Disable the input element since further picks are not allowed.\n",
              "  inputElement.disabled = true;\n",
              "\n",
              "  if (!files) {\n",
              "    return {\n",
              "      response: {\n",
              "        action: 'complete',\n",
              "      }\n",
              "    };\n",
              "  }\n",
              "\n",
              "  for (const file of files) {\n",
              "    const li = document.createElement('li');\n",
              "    li.append(span(file.name, {fontWeight: 'bold'}));\n",
              "    li.append(span(\n",
              "        `(${file.type || 'n/a'}) - ${file.size} bytes, ` +\n",
              "        `last modified: ${\n",
              "            file.lastModifiedDate ? file.lastModifiedDate.toLocaleDateString() :\n",
              "                                    'n/a'} - `));\n",
              "    const percent = span('0% done');\n",
              "    li.appendChild(percent);\n",
              "\n",
              "    outputElement.appendChild(li);\n",
              "\n",
              "    const fileDataPromise = new Promise((resolve) => {\n",
              "      const reader = new FileReader();\n",
              "      reader.onload = (e) => {\n",
              "        resolve(e.target.result);\n",
              "      };\n",
              "      reader.readAsArrayBuffer(file);\n",
              "    });\n",
              "    // Wait for the data to be ready.\n",
              "    let fileData = yield {\n",
              "      promise: fileDataPromise,\n",
              "      response: {\n",
              "        action: 'continue',\n",
              "      }\n",
              "    };\n",
              "\n",
              "    // Use a chunked sending to avoid message size limits. See b/62115660.\n",
              "    let position = 0;\n",
              "    do {\n",
              "      const length = Math.min(fileData.byteLength - position, MAX_PAYLOAD_SIZE);\n",
              "      const chunk = new Uint8Array(fileData, position, length);\n",
              "      position += length;\n",
              "\n",
              "      const base64 = btoa(String.fromCharCode.apply(null, chunk));\n",
              "      yield {\n",
              "        response: {\n",
              "          action: 'append',\n",
              "          file: file.name,\n",
              "          data: base64,\n",
              "        },\n",
              "      };\n",
              "\n",
              "      let percentDone = fileData.byteLength === 0 ?\n",
              "          100 :\n",
              "          Math.round((position / fileData.byteLength) * 100);\n",
              "      percent.textContent = `${percentDone}% done`;\n",
              "\n",
              "    } while (position < fileData.byteLength);\n",
              "  }\n",
              "\n",
              "  // All done.\n",
              "  yield {\n",
              "    response: {\n",
              "      action: 'complete',\n",
              "    }\n",
              "  };\n",
              "}\n",
              "\n",
              "scope.google = scope.google || {};\n",
              "scope.google.colab = scope.google.colab || {};\n",
              "scope.google.colab._files = {\n",
              "  _uploadFiles,\n",
              "  _uploadFilesContinue,\n",
              "};\n",
              "})(self);\n",
              "</script> "
            ]
          },
          "metadata": {}
        },
        {
          "output_type": "stream",
          "name": "stdout",
          "text": [
            "Saving BIKE DETAILS.csv to BIKE DETAILS.csv\n"
          ]
        }
      ],
      "source": [
        "from google.colab import files\n",
        "\n",
        "\n",
        "uploaded = files.upload()\n",
        "\n"
      ]
    },
    {
      "cell_type": "markdown",
      "source": [
        "1. What is the range of selling prices in the dataset?"
      ],
      "metadata": {
        "id": "bUnQLfDwbNhU"
      }
    },
    {
      "cell_type": "code",
      "source": [
        "import pandas as pd\n",
        "\n",
        "pd.set_option('display.max_rows', None)\n",
        "pd.set_option('display.max_columns', None)\n",
        "\n",
        "# Read the CSV file into a DataFrame\n",
        "df = pd.read_csv('BIKE DETAILS.csv')\n",
        "\n",
        "# Display the first 5 rows\n",
        "print(df.head().to_markdown(index=False, numalign=\"left\", stralign=\"left\"))\n",
        "\n",
        "# Print the column names and their data types\n",
        "print(df.info())"
      ],
      "metadata": {
        "colab": {
          "base_uri": "https://localhost:8080/"
        },
        "id": "JZoRSM2YbuRb",
        "outputId": "fdafca7c-f7ff-415b-cf62-6e360cf796ac"
      },
      "execution_count": null,
      "outputs": [
        {
          "output_type": "stream",
          "name": "stdout",
          "text": [
            "| name                                | selling_price   | year   | seller_type   | owner     | km_driven   | ex_showroom_price   |\n",
            "|:------------------------------------|:----------------|:-------|:--------------|:----------|:------------|:--------------------|\n",
            "| Royal Enfield Classic 350           | 175000          | 2019   | Individual    | 1st owner | 350         | nan                 |\n",
            "| Honda Dio                           | 45000           | 2017   | Individual    | 1st owner | 5650        | nan                 |\n",
            "| Royal Enfield Classic Gunmetal Grey | 150000          | 2018   | Individual    | 1st owner | 12000       | 148114              |\n",
            "| Yamaha Fazer FI V 2.0 [2016-2018]   | 65000           | 2015   | Individual    | 1st owner | 23000       | 89643               |\n",
            "| Yamaha SZ [2013-2014]               | 20000           | 2011   | Individual    | 2nd owner | 21000       | nan                 |\n",
            "<class 'pandas.core.frame.DataFrame'>\n",
            "RangeIndex: 1061 entries, 0 to 1060\n",
            "Data columns (total 7 columns):\n",
            " #   Column             Non-Null Count  Dtype  \n",
            "---  ------             --------------  -----  \n",
            " 0   name               1061 non-null   object \n",
            " 1   selling_price      1061 non-null   int64  \n",
            " 2   year               1061 non-null   int64  \n",
            " 3   seller_type        1061 non-null   object \n",
            " 4   owner              1061 non-null   object \n",
            " 5   km_driven          1061 non-null   int64  \n",
            " 6   ex_showroom_price  626 non-null    float64\n",
            "dtypes: float64(1), int64(3), object(3)\n",
            "memory usage: 58.1+ KB\n",
            "None\n"
          ]
        }
      ]
    },
    {
      "cell_type": "code",
      "source": [
        "# Calculate the maximum and minimum `selling_price`\n",
        "max_selling_price = df['selling_price'].max()\n",
        "min_selling_price = df['selling_price'].min()\n",
        "\n",
        "# Print the results\n",
        "print(f'The maximum selling price is: {max_selling_price}')\n",
        "print(f'The minimum selling price is: {min_selling_price}')"
      ],
      "metadata": {
        "colab": {
          "base_uri": "https://localhost:8080/"
        },
        "id": "dK8amlvbcIUt",
        "outputId": "3f6498a2-94d3-4514-8b90-9ac1b2bee20f"
      },
      "execution_count": null,
      "outputs": [
        {
          "output_type": "stream",
          "name": "stdout",
          "text": [
            "The maximum selling price is: 760000\n",
            "The minimum selling price is: 5000\n"
          ]
        }
      ]
    },
    {
      "cell_type": "code",
      "source": [
        "# The selling prices in the dataset range from 5,000 to 760,000."
      ],
      "metadata": {
        "id": "0eelE5ogcqTN"
      },
      "execution_count": null,
      "outputs": []
    },
    {
      "cell_type": "markdown",
      "source": [
        "2.  What is the median selling price for bikes in the dataset?"
      ],
      "metadata": {
        "id": "dLeCsK33c4uA"
      }
    },
    {
      "cell_type": "code",
      "source": [
        "# Calculate the median of `selling_price`\n",
        "median_selling_price = df['selling_price'].median()\n",
        "\n",
        "# Print the results\n",
        "print(f'The median selling price is: {median_selling_price}')"
      ],
      "metadata": {
        "colab": {
          "base_uri": "https://localhost:8080/"
        },
        "id": "38Xrnk7WdAyK",
        "outputId": "b41c8f6d-4e6d-4fa1-b17f-c33020848b67"
      },
      "execution_count": null,
      "outputs": [
        {
          "output_type": "stream",
          "name": "stdout",
          "text": [
            "The median selling price is: 45000.0\n"
          ]
        }
      ]
    },
    {
      "cell_type": "markdown",
      "source": [
        "3. What is the most common seller type?"
      ],
      "metadata": {
        "id": "iNm7QbBhhD2V"
      }
    },
    {
      "cell_type": "code",
      "source": [
        "# Count the occurrences of each unique value in the `seller_type` column\n",
        "seller_type_counts = df['seller_type'].value_counts()\n",
        "\n",
        "# Print the results\n",
        "print(seller_type_counts.to_markdown(numalign=\"left\", stralign=\"left\"))"
      ],
      "metadata": {
        "colab": {
          "base_uri": "https://localhost:8080/"
        },
        "id": "SBGG5FwahNSw",
        "outputId": "26a35e3f-5a28-4b6b-f18a-55b514d9e356"
      },
      "execution_count": null,
      "outputs": [
        {
          "output_type": "stream",
          "name": "stdout",
          "text": [
            "| seller_type   | count   |\n",
            "|:--------------|:--------|\n",
            "| Individual    | 1055    |\n",
            "| Dealer        | 6       |\n"
          ]
        }
      ]
    },
    {
      "cell_type": "markdown",
      "source": [
        "The most common seller type in the dataset is 'Individual'.\n"
      ],
      "metadata": {
        "id": "MWAVuXvNh7hv"
      }
    },
    {
      "cell_type": "markdown",
      "source": [
        "4. How many bikes have driven more than 50,000 kilometers?"
      ],
      "metadata": {
        "id": "rI4oQhgDh9-O"
      }
    },
    {
      "cell_type": "code",
      "source": [
        "# Filter the DataFrame to retain rows with `km_driven` exceeding 50,000\n",
        "filtered_df = df[df['km_driven'] > 50000]\n",
        "\n",
        "# Get the number of rows in the filtered DataFrame\n",
        "number_of_bikes = len(filtered_df)\n",
        "\n",
        "# Print the results\n",
        "print(f'The number of bikes driven more than 50,000 kilometers is: {number_of_bikes}')"
      ],
      "metadata": {
        "colab": {
          "base_uri": "https://localhost:8080/"
        },
        "id": "1lnbBz-PieUG",
        "outputId": "26648d0a-b983-4981-caf3-0970a27ddf62"
      },
      "execution_count": null,
      "outputs": [
        {
          "output_type": "stream",
          "name": "stdout",
          "text": [
            "The number of bikes driven more than 50,000 kilometers is: 170\n"
          ]
        }
      ]
    },
    {
      "cell_type": "markdown",
      "source": [
        "5. What is the average km_driven value for each ownership type?"
      ],
      "metadata": {
        "id": "UjwVbL9YixIi"
      }
    },
    {
      "cell_type": "code",
      "source": [
        "# Calculate the mean of `km_driven` for each `owner` type\n",
        "average_km_driven_by_owner = df.groupby('owner')['km_driven'].mean()\n",
        "\n",
        "# Print the average values\n",
        "print(average_km_driven_by_owner.to_markdown(numalign=\"left\", stralign=\"left\"))"
      ],
      "metadata": {
        "colab": {
          "base_uri": "https://localhost:8080/"
        },
        "id": "XtNKBEwKp9Or",
        "outputId": "2c14fb0e-0aae-44f1-8588-12f214594f04"
      },
      "execution_count": null,
      "outputs": [
        {
          "output_type": "stream",
          "name": "stdout",
          "text": [
            "| owner     | km_driven   |\n",
            "|:----------|:------------|\n",
            "| 1st owner | 32816.6     |\n",
            "| 2nd owner | 39289       |\n",
            "| 3rd owner | 33292.2     |\n",
            "| 4th owner | 311500      |\n"
          ]
        }
      ]
    },
    {
      "cell_type": "markdown",
      "source": [
        "6. What proportion of bikes are from the year 2015 or older"
      ],
      "metadata": {
        "id": "n7RTirRGqRgM"
      }
    },
    {
      "cell_type": "code",
      "source": [
        "filtered_df = df[df['year'] <= 2015]\n",
        "\n",
        "# Calculate the proportion of bikes from 2015 or older\n",
        "proportion = len(filtered_df) / len(df)\n",
        "\n",
        "# Print the calculated proportion\n",
        "print(f'The proportion of bikes from 2015 or older is: {proportion}')"
      ],
      "metadata": {
        "colab": {
          "base_uri": "https://localhost:8080/"
        },
        "id": "cxBdUhDOqcQ6",
        "outputId": "b60891be-fbe6-4fcf-a203-53bc4a912c54"
      },
      "execution_count": null,
      "outputs": [
        {
          "output_type": "stream",
          "name": "stdout",
          "text": [
            "The proportion of bikes from 2015 or older is: 0.5664467483506126\n"
          ]
        }
      ]
    },
    {
      "cell_type": "markdown",
      "source": [
        "7. What is the trend of missing values across the dataset?"
      ],
      "metadata": {
        "id": "0wdQJcWKr_TQ"
      }
    },
    {
      "cell_type": "code",
      "source": [
        "# Count the number of missing values in each column\n",
        "missing_counts = df.isnull().sum()\n",
        "\n",
        "# Print the results\n",
        "print(missing_counts.to_markdown(numalign=\"left\", stralign=\"left\"))"
      ],
      "metadata": {
        "colab": {
          "base_uri": "https://localhost:8080/"
        },
        "id": "xlfpV2VpsBEc",
        "outputId": "b0385d1f-19a6-4abc-b051-d2f0a15449df"
      },
      "execution_count": null,
      "outputs": [
        {
          "output_type": "stream",
          "name": "stdout",
          "text": [
            "|                   | 0   |\n",
            "|:------------------|:----|\n",
            "| name              | 0   |\n",
            "| selling_price     | 0   |\n",
            "| year              | 0   |\n",
            "| seller_type       | 0   |\n",
            "| owner             | 0   |\n",
            "| km_driven         | 0   |\n",
            "| ex_showroom_price | 435 |\n"
          ]
        }
      ]
    },
    {
      "cell_type": "markdown",
      "source": [
        "8.What is the highest ex_showroom_price recorded, and for which bike?"
      ],
      "metadata": {
        "id": "IhoVrFSxscjv"
      }
    },
    {
      "cell_type": "code",
      "source": [
        "# Calculate the maximum `ex_showroom_price`\n",
        "max_ex_showroom_price = df['ex_showroom_price'].max()\n",
        "\n",
        "# Filter the DataFrame to retain rows with `ex_showroom_price` equal to `max_ex_showroom_price`\n",
        "filtered_df = df[df['ex_showroom_price'] == max_ex_showroom_price]\n",
        "\n",
        "# Get the `name` value from the first row of the filtered DataFrame\n",
        "bike_name = filtered_df['name'].iloc[0]\n",
        "\n",
        "# Print the results\n",
        "print(f'The highest ex_showroom_price is: {max_ex_showroom_price}')\n",
        "print(f'The bike with the highest ex_showroom_price is: {bike_name}')"
      ],
      "metadata": {
        "colab": {
          "base_uri": "https://localhost:8080/"
        },
        "id": "UfNrdto4s6X5",
        "outputId": "059848ab-a1f2-4679-bf27-ea92c5abff8f"
      },
      "execution_count": null,
      "outputs": [
        {
          "output_type": "stream",
          "name": "stdout",
          "text": [
            "The highest ex_showroom_price is: 1278000.0\n",
            "The bike with the highest ex_showroom_price is: Harley-Davidson Street Bob\n"
          ]
        }
      ]
    },
    {
      "cell_type": "markdown",
      "source": [
        "9. What is the total number of bikes listed by each seller type?"
      ],
      "metadata": {
        "id": "-kEK53cptDwh"
      }
    },
    {
      "cell_type": "code",
      "source": [
        "seller_type_counts = df['seller_type'].value_counts()\n",
        "\n",
        "# Print the results\n",
        "print(seller_type_counts.to_markdown(numalign=\"left\", stralign=\"left\"))"
      ],
      "metadata": {
        "colab": {
          "base_uri": "https://localhost:8080/"
        },
        "id": "qj7jgqBiuDx6",
        "outputId": "0cfbef83-a8b7-40a0-bf73-053e58ef2ddf"
      },
      "execution_count": null,
      "outputs": [
        {
          "output_type": "stream",
          "name": "stdout",
          "text": [
            "| seller_type   | count   |\n",
            "|:--------------|:--------|\n",
            "| Individual    | 1055    |\n",
            "| Dealer        | 6       |\n"
          ]
        }
      ]
    },
    {
      "cell_type": "markdown",
      "source": [
        "10. What is the relationship between selling_price and km_driven for first-owner bikes?"
      ],
      "metadata": {
        "id": "U2cy5x7Wu0l9"
      }
    },
    {
      "cell_type": "code",
      "source": [
        "# Filter the DataFrame to retain rows with `owner` equal to '1st owner'\n",
        "filtered_df = df[df['owner'] == '1st owner']\n",
        "\n",
        "# Display the first 5 rows\n",
        "print(filtered_df.head().to_markdown(index=False, numalign=\"left\", stralign=\"left\"))\n",
        "\n",
        "# Print the column names and their data types\n",
        "print(filtered_df.info())"
      ],
      "metadata": {
        "colab": {
          "base_uri": "https://localhost:8080/"
        },
        "id": "Z4Sew4y8utQF",
        "outputId": "add7ee43-aa80-4fa2-9a54-d7d8c3b06653"
      },
      "execution_count": null,
      "outputs": [
        {
          "output_type": "stream",
          "name": "stdout",
          "text": [
            "| name                                | selling_price   | year   | seller_type   | owner     | km_driven   | ex_showroom_price   |\n",
            "|:------------------------------------|:----------------|:-------|:--------------|:----------|:------------|:--------------------|\n",
            "| Royal Enfield Classic 350           | 175000          | 2019   | Individual    | 1st owner | 350         | nan                 |\n",
            "| Honda Dio                           | 45000           | 2017   | Individual    | 1st owner | 5650        | nan                 |\n",
            "| Royal Enfield Classic Gunmetal Grey | 150000          | 2018   | Individual    | 1st owner | 12000       | 148114              |\n",
            "| Yamaha Fazer FI V 2.0 [2016-2018]   | 65000           | 2015   | Individual    | 1st owner | 23000       | 89643               |\n",
            "| Honda CB Twister                    | 18000           | 2010   | Individual    | 1st owner | 60000       | 53857               |\n",
            "<class 'pandas.core.frame.DataFrame'>\n",
            "Index: 924 entries, 0 to 1060\n",
            "Data columns (total 7 columns):\n",
            " #   Column             Non-Null Count  Dtype  \n",
            "---  ------             --------------  -----  \n",
            " 0   name               924 non-null    object \n",
            " 1   selling_price      924 non-null    int64  \n",
            " 2   year               924 non-null    int64  \n",
            " 3   seller_type        924 non-null    object \n",
            " 4   owner              924 non-null    object \n",
            " 5   km_driven          924 non-null    int64  \n",
            " 6   ex_showroom_price  556 non-null    float64\n",
            "dtypes: float64(1), int64(3), object(3)\n",
            "memory usage: 57.8+ KB\n",
            "None\n"
          ]
        }
      ]
    },
    {
      "cell_type": "markdown",
      "source": [
        "11. Identify and remove outliers in the km_driven column using the IQR method?"
      ],
      "metadata": {
        "id": "UzADxnoIu5dz"
      }
    },
    {
      "cell_type": "code",
      "source": [
        "# Calculate the first (Q1) and third (Q3) quartiles of the `km_driven` column\n",
        "Q1 = df['km_driven'].quantile(0.25)\n",
        "Q3 = df['km_driven'].quantile(0.75)\n",
        "\n",
        "# Calculate the interquartile range (IQR)\n",
        "IQR = Q3 - Q1\n",
        "\n",
        "# Calculate the lower and upper bounds\n",
        "lower_bound = Q1 - 1.5 * IQR\n",
        "upper_bound = Q3 + 1.5 * IQR\n",
        "\n",
        "# Filter the DataFrame to retain rows where `km_driven` is within the lower and upper bounds\n",
        "filtered_df = df[(df['km_driven'] >= lower_bound) & (df['km_driven'] <= upper_bound)]\n",
        "\n",
        "# Print the number of rows in the original and filtered DataFrames\n",
        "print(f'The number of rows in the original DataFrame is: {len(df)}')\n",
        "print(f'The number of rows in the filtered DataFrame is: {len(filtered_df)}')"
      ],
      "metadata": {
        "colab": {
          "base_uri": "https://localhost:8080/"
        },
        "id": "OPBgvK8JvPFN",
        "outputId": "2b82ab90-4cb7-4b9b-d5d5-7e46aafb7104"
      },
      "execution_count": null,
      "outputs": [
        {
          "output_type": "stream",
          "name": "stdout",
          "text": [
            "The number of rows in the original DataFrame is: 1061\n",
            "The number of rows in the filtered DataFrame is: 1022\n"
          ]
        }
      ]
    },
    {
      "cell_type": "code",
      "source": [],
      "metadata": {
        "id": "Ta8ogMOJuws_"
      },
      "execution_count": null,
      "outputs": []
    },
    {
      "cell_type": "markdown",
      "source": [
        "12. Perform a bivariate analysis to visualize the relationship between year and selling_price?"
      ],
      "metadata": {
        "id": "iJB1gdlBvjeY"
      }
    },
    {
      "cell_type": "code",
      "source": [
        "# Display the first 5 rows\n",
        "print(df.head().to_markdown(index=False, numalign=\"left\", stralign=\"left\"))\n",
        "\n",
        "# Print the column names and their data types\n",
        "print(df.info())"
      ],
      "metadata": {
        "colab": {
          "base_uri": "https://localhost:8080/"
        },
        "id": "KEvjaoIPv4Q0",
        "outputId": "6f08accb-cecb-43e0-cd8a-b8d53cd30d37"
      },
      "execution_count": null,
      "outputs": [
        {
          "output_type": "stream",
          "name": "stdout",
          "text": [
            "| name                                | selling_price   | year   | seller_type   | owner     | km_driven   | ex_showroom_price   |\n",
            "|:------------------------------------|:----------------|:-------|:--------------|:----------|:------------|:--------------------|\n",
            "| Royal Enfield Classic 350           | 175000          | 2019   | Individual    | 1st owner | 350         | nan                 |\n",
            "| Honda Dio                           | 45000           | 2017   | Individual    | 1st owner | 5650        | nan                 |\n",
            "| Royal Enfield Classic Gunmetal Grey | 150000          | 2018   | Individual    | 1st owner | 12000       | 148114              |\n",
            "| Yamaha Fazer FI V 2.0 [2016-2018]   | 65000           | 2015   | Individual    | 1st owner | 23000       | 89643               |\n",
            "| Yamaha SZ [2013-2014]               | 20000           | 2011   | Individual    | 2nd owner | 21000       | nan                 |\n",
            "<class 'pandas.core.frame.DataFrame'>\n",
            "RangeIndex: 1061 entries, 0 to 1060\n",
            "Data columns (total 7 columns):\n",
            " #   Column             Non-Null Count  Dtype  \n",
            "---  ------             --------------  -----  \n",
            " 0   name               1061 non-null   object \n",
            " 1   selling_price      1061 non-null   int64  \n",
            " 2   year               1061 non-null   int64  \n",
            " 3   seller_type        1061 non-null   object \n",
            " 4   owner              1061 non-null   object \n",
            " 5   km_driven          1061 non-null   int64  \n",
            " 6   ex_showroom_price  626 non-null    float64\n",
            "dtypes: float64(1), int64(3), object(3)\n",
            "memory usage: 58.1+ KB\n",
            "None\n"
          ]
        }
      ]
    },
    {
      "cell_type": "code",
      "source": [
        "import altair as alt\n",
        "\n",
        "# Create a scatter plot of `selling_price` (y-axis) as `year` (x-axis)\n",
        "chart = alt.Chart(df).mark_point().encode(\n",
        "    x=alt.X('year', title='Year'),\n",
        "    y=alt.Y('selling_price', title='Selling Price'),\n",
        "    tooltip=['year', 'selling_price']\n",
        ").properties(title='Relationship between Year and Selling Price').interactive()\n",
        "\n",
        "# Save the chart as a JSON file\n",
        "chart.save('relationship_between_year_and_selling_price.json')"
      ],
      "metadata": {
        "id": "JYd3XRHHwMs8"
      },
      "execution_count": null,
      "outputs": []
    },
    {
      "cell_type": "markdown",
      "source": [
        "13. What is the average depreciation in selling price based on the bike's age (current year - manufacturing\n",
        "year)?"
      ],
      "metadata": {
        "id": "YiMd39orwW0a"
      }
    },
    {
      "cell_type": "code",
      "source": [
        "# Make a deep copy of the original DataFrame `df`\n",
        "df_copy = df.copy(deep=True)\n",
        "\n",
        "# Add a new column `age` by subtracting the `year` column from the current year (2023)\n",
        "df_copy['age'] = 2023 - df_copy['year']\n",
        "\n",
        "# Drop rows with missing values in any of the columns `selling_price`, `ex_showroom_price`, or `age`\n",
        "df_copy.dropna(subset=['selling_price', 'ex_showroom_price', 'age'], inplace=True)\n",
        "\n",
        "# Calculate the depreciation amount by subtracting `selling_price` from `ex_showroom_price` and store it in a new column `depreciation`\n",
        "df_copy['depreciation'] = df_copy['ex_showroom_price'] - df_copy['selling_price']\n",
        "\n",
        "# Calculate the average `depreciation` for each `age` using group by\n",
        "depreciation_by_age = df_copy.groupby('age')['depreciation'].mean()\n",
        "\n",
        "# Sort the results in ascending order of `age`\n",
        "depreciation_by_age = depreciation_by_age.sort_index()\n",
        "\n",
        "# Display the results\n",
        "print(depreciation_by_age.to_markdown(numalign=\"left\", stralign=\"left\"))"
      ],
      "metadata": {
        "colab": {
          "base_uri": "https://localhost:8080/"
        },
        "id": "EKjYJg2zwnRL",
        "outputId": "8979f162-6706-474b-c629-53121335a539"
      },
      "execution_count": null,
      "outputs": [
        {
          "output_type": "stream",
          "name": "stdout",
          "text": [
            "| age   | depreciation   |\n",
            "|:------|:---------------|\n",
            "| 3     | -34260         |\n",
            "| 4     | 2954.56        |\n",
            "| 5     | 13023.2        |\n",
            "| 6     | 22306.1        |\n",
            "| 7     | 28328.2        |\n",
            "| 8     | 28013.3        |\n",
            "| 9     | 34505.6        |\n",
            "| 10    | 43086.9        |\n",
            "| 11    | 37317.6        |\n",
            "| 12    | 47102.7        |\n",
            "| 13    | 45658.9        |\n",
            "| 14    | 38227.8        |\n",
            "| 15    | 54732.4        |\n",
            "| 16    | 42399          |\n",
            "| 17    | 39664.5        |\n",
            "| 18    | 44852          |\n",
            "| 19    | 36852          |\n",
            "| 22    | 34852          |\n"
          ]
        }
      ]
    },
    {
      "cell_type": "markdown",
      "source": [
        "14. Which bike names are priced significantly above the average price for their manufacturing year?"
      ],
      "metadata": {
        "id": "UD12BQdFw8nA"
      }
    },
    {
      "cell_type": "code",
      "source": [
        "# Calculate the average and standard deviation of `selling_price` for each `year`\n",
        "avg_price_stats = df.groupby('year')['selling_price'].agg(['mean', 'std']).reset_index()\n",
        "\n",
        "# Merge `avg_price_stats` with the original DataFrame `df` on the `year` column\n",
        "merged_df = df.merge(avg_price_stats, on='year')\n",
        "\n",
        "# Calculate `price_threshold`\n",
        "merged_df['price_threshold'] = merged_df['mean'] + 1.5 * merged_df['std']\n",
        "\n",
        "# Filter the DataFrame to retain rows where `selling_price` is greater than `price_threshold`\n",
        "filtered_df = merged_df[merged_df['selling_price'] > merged_df['price_threshold']]\n",
        "\n",
        "# Display the `year`, `name`, and `selling_price` of the filtered DataFrame\n",
        "print(filtered_df[['year', 'name', 'selling_price']].to_markdown(index=False, numalign=\"left\", stralign=\"left\"))"
      ],
      "metadata": {
        "colab": {
          "base_uri": "https://localhost:8080/"
        },
        "id": "jzzXcH9OxPOO",
        "outputId": "62485778-651e-4d90-f04e-07d95dbeaac9"
      },
      "execution_count": null,
      "outputs": [
        {
          "output_type": "stream",
          "name": "stdout",
          "text": [
            "| year   | name                                       | selling_price   |\n",
            "|:-------|:-------------------------------------------|:----------------|\n",
            "| 2008   | Royal Enfield Bullet 350 [2007-2011]       | 180000          |\n",
            "| 2019   | Yamaha YZF R3                              | 365000          |\n",
            "| 2016   | Honda CBR-250R                             | 120000          |\n",
            "| 2017   | KTM 390 Duke                               | 175000          |\n",
            "| 2010   | Royal Enfield Electra 5 S                  | 90000           |\n",
            "| 2008   | Royal Enfield Electra 4 S                  | 90000           |\n",
            "| 2017   | Mahindra Mojo XT300                        | 165000          |\n",
            "| 2018   | Royal Enfield Thunderbird 350X             | 160000          |\n",
            "| 2018   | UM Renegade Commando                       | 160000          |\n",
            "| 2019   | Royal Enfield Continental GT 650           | 299000          |\n",
            "| 2013   | Harley-Davidson Street Bob                 | 750000          |\n",
            "| 2015   | KTM 390 Duke ABS [2013-2016]               | 130000          |\n",
            "| 2017   | KTM RC 390                                 | 180000          |\n",
            "| 2017   | KTM 390 Duke                               | 170000          |\n",
            "| 2016   | Royal Enfield Bullet 350                   | 123000          |\n",
            "| 2012   | Royal Enfield Classic Desert Storm         | 100000          |\n",
            "| 2018   | Royal Enfield Classic 350                  | 170000          |\n",
            "| 2007   | Royal Enfield Electra 5 S                  | 60000           |\n",
            "| 2015   | Royal Enfield Bullet 500                   | 130000          |\n",
            "| 2018   | Bajaj Dominar 400 [2018]                   | 170000          |\n",
            "| 2007   | Royal Enfield Bullet 350 [2007-2011]       | 90000           |\n",
            "| 2017   | KTM RC 390                                 | 210000          |\n",
            "| 2018   | Royal Enfield Thunderbird 350              | 160000          |\n",
            "| 2015   | Royal Enfield Classic Desert Storm         | 130000          |\n",
            "| 2019   | KTM RC 390                                 | 270000          |\n",
            "| 2017   | Kawasaki Ninja 650 [2018-2019]             | 425000          |\n",
            "| 2010   | Kawasaki Ninja 250R                        | 125000          |\n",
            "| 2019   | Suzuki GSX S750                            | 760000          |\n",
            "| 2000   | Yamaha Rx                                  | 70000           |\n",
            "| 2014   | Harley-Davidson Street 750                 | 330000          |\n",
            "| 2018   | Royal Enfield Classic 350                  | 162000          |\n",
            "| 2019   | Royal Enfield Interceptor 650              | 285000          |\n",
            "| 2018   | Royal Enfield Classic 350                  | 160000          |\n",
            "| 2015   | KTM RC 200                                 | 120000          |\n",
            "| 2018   | BMW G310GS                                 | 300000          |\n",
            "| 2012   | Royal Enfield Thunderbird 350              | 87000           |\n",
            "| 2018   | Royal Enfield Thunderbird 350X             | 160000          |\n",
            "| 2014   | Royal Enfield Thunderbird 500              | 125000          |\n",
            "| 2016   | Royal Enfield Classic 350                  | 140000          |\n",
            "| 2010   | Royal Enfield Thunderbird 350              | 85000           |\n",
            "| 2018   | Royal Enfield Classic Stealth Black        | 160000          |\n",
            "| 2019   | Royal Enfield Interceptor 650              | 270000          |\n",
            "| 2006   | Royal Enfield Thunderbird 350              | 60000           |\n",
            "| 2015   | KTM 390 Duke ABS [2013-2016]               | 180000          |\n",
            "| 2016   | Royal Enfield Thunderbird 350              | 120000          |\n",
            "| 2015   | Royal Enfield Classic Chrome               | 135000          |\n",
            "| 2015   | Royal Enfield Bullet 350                   | 110000          |\n",
            "| 2011   | Honda CBR-250R                             | 100000          |\n",
            "| 2018   | Royal Enfield Classic Signals              | 195000          |\n",
            "| 2015   | Royal Enfield Classic Desert Storm         | 150000          |\n",
            "| 2009   | Bajaj Pulsar 180                           | 35000           |\n",
            "| 2010   | Bajaj Avenger [2015]                       | 65000           |\n",
            "| 2016   | KTM 200 Duke                               | 130000          |\n",
            "| 2016   | Royal Enfield Thunderbird 350              | 135000          |\n",
            "| 2006   | Royal Enfield Electra 5 S                  | 99000           |\n",
            "| 2016   | Royal Enfield Electra Twinspark            | 120000          |\n",
            "| 2012   | Royal Enfield Thunderbird 350              | 100000          |\n",
            "| 2016   | Royal Enfield Himalayan                    | 119000          |\n",
            "| 2011   | Kawasaki Ninja 650 [2018-2019]             | 300000          |\n",
            "| 2017   | Benelli TNT 25                             | 160000          |\n",
            "| 2018   | Royal Enfield Thunderbird 500X             | 185000          |\n",
            "| 2014   | Royal Enfield Continental GT [2013 - 2018] | 110000          |\n",
            "| 2018   | Royal Enfield Classic Gunmetal Grey        | 180000          |\n",
            "| 2015   | Royal Enfield Thunderbird 350              | 120000          |\n",
            "| 2005   | Royal Enfield Thunderbird 350              | 59000           |\n",
            "| 2015   | Royal Enfield Classic Chrome               | 185000          |\n",
            "| 2018   | KTM 390 Duke                               | 205000          |\n",
            "| 2016   | Kawasaki Ninja 300                         | 300000          |\n",
            "| 2009   | Bajaj Pulsar 150                           | 35000           |\n",
            "| 2012   | Royal Enfield Electra 5 S                  | 99000           |\n",
            "| 2012   | Royal Enfield Electra 5 S                  | 90000           |\n",
            "| 2009   | Hero Honda CBZ extreme                     | 40000           |\n",
            "| 2018   | Royal Enfield Thunder 500                  | 175000          |\n",
            "| 2016   | Hyosung GT250R                             | 135000          |\n",
            "| 2015   | Royal Enfield Thunder 350                  | 125000          |\n",
            "| 2016   | KTM 390 Duke                               | 115000          |\n",
            "| 2015   | Royal Enfield Classic 350                  | 110000          |\n"
          ]
        }
      ]
    },
    {
      "cell_type": "markdown",
      "source": [
        "15. Develop a correlation matrix for numeric columns and visualize it using a heatmap."
      ],
      "metadata": {
        "id": "EhDkTU7hxxTH"
      }
    },
    {
      "cell_type": "code",
      "source": [
        "# Display the first 5 rows\n",
        "print(df.head().to_markdown(index=False, numalign=\"left\", stralign=\"left\"))\n",
        "\n",
        "# Print the column names and their data types\n",
        "print(df.info())"
      ],
      "metadata": {
        "colab": {
          "base_uri": "https://localhost:8080/"
        },
        "id": "Nvq46UxkyJPQ",
        "outputId": "fec5f88f-ca47-4963-a093-efd2c1052bbf"
      },
      "execution_count": null,
      "outputs": [
        {
          "output_type": "stream",
          "name": "stdout",
          "text": [
            "| name                                | selling_price   | year   | seller_type   | owner     | km_driven   | ex_showroom_price   |\n",
            "|:------------------------------------|:----------------|:-------|:--------------|:----------|:------------|:--------------------|\n",
            "| Royal Enfield Classic 350           | 175000          | 2019   | Individual    | 1st owner | 350         | nan                 |\n",
            "| Honda Dio                           | 45000           | 2017   | Individual    | 1st owner | 5650        | nan                 |\n",
            "| Royal Enfield Classic Gunmetal Grey | 150000          | 2018   | Individual    | 1st owner | 12000       | 148114              |\n",
            "| Yamaha Fazer FI V 2.0 [2016-2018]   | 65000           | 2015   | Individual    | 1st owner | 23000       | 89643               |\n",
            "| Yamaha SZ [2013-2014]               | 20000           | 2011   | Individual    | 2nd owner | 21000       | nan                 |\n",
            "<class 'pandas.core.frame.DataFrame'>\n",
            "RangeIndex: 1061 entries, 0 to 1060\n",
            "Data columns (total 7 columns):\n",
            " #   Column             Non-Null Count  Dtype  \n",
            "---  ------             --------------  -----  \n",
            " 0   name               1061 non-null   object \n",
            " 1   selling_price      1061 non-null   int64  \n",
            " 2   year               1061 non-null   int64  \n",
            " 3   seller_type        1061 non-null   object \n",
            " 4   owner              1061 non-null   object \n",
            " 5   km_driven          1061 non-null   int64  \n",
            " 6   ex_showroom_price  626 non-null    float64\n",
            "dtypes: float64(1), int64(3), object(3)\n",
            "memory usage: 58.1+ KB\n",
            "None\n"
          ]
        }
      ]
    },
    {
      "cell_type": "code",
      "source": [
        "from google.colab import files\n",
        "\n",
        "\n",
        "uploaded = files.upload()"
      ],
      "metadata": {
        "colab": {
          "base_uri": "https://localhost:8080/",
          "height": 73
        },
        "id": "BNvddf-DyPVf",
        "outputId": "0214db56-d5a4-4692-9e41-0429a4a8303e"
      },
      "execution_count": 21,
      "outputs": [
        {
          "output_type": "display_data",
          "data": {
            "text/plain": [
              "<IPython.core.display.HTML object>"
            ],
            "text/html": [
              "\n",
              "     <input type=\"file\" id=\"files-3f17813c-0b19-4512-96ba-c1dcf0835351\" name=\"files[]\" multiple disabled\n",
              "        style=\"border:none\" />\n",
              "     <output id=\"result-3f17813c-0b19-4512-96ba-c1dcf0835351\">\n",
              "      Upload widget is only available when the cell has been executed in the\n",
              "      current browser session. Please rerun this cell to enable.\n",
              "      </output>\n",
              "      <script>// Copyright 2017 Google LLC\n",
              "//\n",
              "// Licensed under the Apache License, Version 2.0 (the \"License\");\n",
              "// you may not use this file except in compliance with the License.\n",
              "// You may obtain a copy of the License at\n",
              "//\n",
              "//      http://www.apache.org/licenses/LICENSE-2.0\n",
              "//\n",
              "// Unless required by applicable law or agreed to in writing, software\n",
              "// distributed under the License is distributed on an \"AS IS\" BASIS,\n",
              "// WITHOUT WARRANTIES OR CONDITIONS OF ANY KIND, either express or implied.\n",
              "// See the License for the specific language governing permissions and\n",
              "// limitations under the License.\n",
              "\n",
              "/**\n",
              " * @fileoverview Helpers for google.colab Python module.\n",
              " */\n",
              "(function(scope) {\n",
              "function span(text, styleAttributes = {}) {\n",
              "  const element = document.createElement('span');\n",
              "  element.textContent = text;\n",
              "  for (const key of Object.keys(styleAttributes)) {\n",
              "    element.style[key] = styleAttributes[key];\n",
              "  }\n",
              "  return element;\n",
              "}\n",
              "\n",
              "// Max number of bytes which will be uploaded at a time.\n",
              "const MAX_PAYLOAD_SIZE = 100 * 1024;\n",
              "\n",
              "function _uploadFiles(inputId, outputId) {\n",
              "  const steps = uploadFilesStep(inputId, outputId);\n",
              "  const outputElement = document.getElementById(outputId);\n",
              "  // Cache steps on the outputElement to make it available for the next call\n",
              "  // to uploadFilesContinue from Python.\n",
              "  outputElement.steps = steps;\n",
              "\n",
              "  return _uploadFilesContinue(outputId);\n",
              "}\n",
              "\n",
              "// This is roughly an async generator (not supported in the browser yet),\n",
              "// where there are multiple asynchronous steps and the Python side is going\n",
              "// to poll for completion of each step.\n",
              "// This uses a Promise to block the python side on completion of each step,\n",
              "// then passes the result of the previous step as the input to the next step.\n",
              "function _uploadFilesContinue(outputId) {\n",
              "  const outputElement = document.getElementById(outputId);\n",
              "  const steps = outputElement.steps;\n",
              "\n",
              "  const next = steps.next(outputElement.lastPromiseValue);\n",
              "  return Promise.resolve(next.value.promise).then((value) => {\n",
              "    // Cache the last promise value to make it available to the next\n",
              "    // step of the generator.\n",
              "    outputElement.lastPromiseValue = value;\n",
              "    return next.value.response;\n",
              "  });\n",
              "}\n",
              "\n",
              "/**\n",
              " * Generator function which is called between each async step of the upload\n",
              " * process.\n",
              " * @param {string} inputId Element ID of the input file picker element.\n",
              " * @param {string} outputId Element ID of the output display.\n",
              " * @return {!Iterable<!Object>} Iterable of next steps.\n",
              " */\n",
              "function* uploadFilesStep(inputId, outputId) {\n",
              "  const inputElement = document.getElementById(inputId);\n",
              "  inputElement.disabled = false;\n",
              "\n",
              "  const outputElement = document.getElementById(outputId);\n",
              "  outputElement.innerHTML = '';\n",
              "\n",
              "  const pickedPromise = new Promise((resolve) => {\n",
              "    inputElement.addEventListener('change', (e) => {\n",
              "      resolve(e.target.files);\n",
              "    });\n",
              "  });\n",
              "\n",
              "  const cancel = document.createElement('button');\n",
              "  inputElement.parentElement.appendChild(cancel);\n",
              "  cancel.textContent = 'Cancel upload';\n",
              "  const cancelPromise = new Promise((resolve) => {\n",
              "    cancel.onclick = () => {\n",
              "      resolve(null);\n",
              "    };\n",
              "  });\n",
              "\n",
              "  // Wait for the user to pick the files.\n",
              "  const files = yield {\n",
              "    promise: Promise.race([pickedPromise, cancelPromise]),\n",
              "    response: {\n",
              "      action: 'starting',\n",
              "    }\n",
              "  };\n",
              "\n",
              "  cancel.remove();\n",
              "\n",
              "  // Disable the input element since further picks are not allowed.\n",
              "  inputElement.disabled = true;\n",
              "\n",
              "  if (!files) {\n",
              "    return {\n",
              "      response: {\n",
              "        action: 'complete',\n",
              "      }\n",
              "    };\n",
              "  }\n",
              "\n",
              "  for (const file of files) {\n",
              "    const li = document.createElement('li');\n",
              "    li.append(span(file.name, {fontWeight: 'bold'}));\n",
              "    li.append(span(\n",
              "        `(${file.type || 'n/a'}) - ${file.size} bytes, ` +\n",
              "        `last modified: ${\n",
              "            file.lastModifiedDate ? file.lastModifiedDate.toLocaleDateString() :\n",
              "                                    'n/a'} - `));\n",
              "    const percent = span('0% done');\n",
              "    li.appendChild(percent);\n",
              "\n",
              "    outputElement.appendChild(li);\n",
              "\n",
              "    const fileDataPromise = new Promise((resolve) => {\n",
              "      const reader = new FileReader();\n",
              "      reader.onload = (e) => {\n",
              "        resolve(e.target.result);\n",
              "      };\n",
              "      reader.readAsArrayBuffer(file);\n",
              "    });\n",
              "    // Wait for the data to be ready.\n",
              "    let fileData = yield {\n",
              "      promise: fileDataPromise,\n",
              "      response: {\n",
              "        action: 'continue',\n",
              "      }\n",
              "    };\n",
              "\n",
              "    // Use a chunked sending to avoid message size limits. See b/62115660.\n",
              "    let position = 0;\n",
              "    do {\n",
              "      const length = Math.min(fileData.byteLength - position, MAX_PAYLOAD_SIZE);\n",
              "      const chunk = new Uint8Array(fileData, position, length);\n",
              "      position += length;\n",
              "\n",
              "      const base64 = btoa(String.fromCharCode.apply(null, chunk));\n",
              "      yield {\n",
              "        response: {\n",
              "          action: 'append',\n",
              "          file: file.name,\n",
              "          data: base64,\n",
              "        },\n",
              "      };\n",
              "\n",
              "      let percentDone = fileData.byteLength === 0 ?\n",
              "          100 :\n",
              "          Math.round((position / fileData.byteLength) * 100);\n",
              "      percent.textContent = `${percentDone}% done`;\n",
              "\n",
              "    } while (position < fileData.byteLength);\n",
              "  }\n",
              "\n",
              "  // All done.\n",
              "  yield {\n",
              "    response: {\n",
              "      action: 'complete',\n",
              "    }\n",
              "  };\n",
              "}\n",
              "\n",
              "scope.google = scope.google || {};\n",
              "scope.google.colab = scope.google.colab || {};\n",
              "scope.google.colab._files = {\n",
              "  _uploadFiles,\n",
              "  _uploadFilesContinue,\n",
              "};\n",
              "})(self);\n",
              "</script> "
            ]
          },
          "metadata": {}
        },
        {
          "output_type": "stream",
          "name": "stdout",
          "text": [
            "Saving Car Sale.csv to Car Sale.csv\n"
          ]
        }
      ]
    },
    {
      "cell_type": "markdown",
      "source": [
        "1. What is the average selling price of cars for each dealer, and how does it compare across different dealers?"
      ],
      "metadata": {
        "id": "tKiRcKFa8yT3"
      }
    },
    {
      "cell_type": "code",
      "source": [
        "import pandas as pd\n",
        "\n",
        "pd.set_option('display.max_rows', None)\n",
        "pd.set_option('display.max_columns', None)\n",
        "\n",
        "# Read the CSV file into a DataFrame\n",
        "df_car_sale = pd.read_csv('Car Sale.csv')\n",
        "\n",
        "# Display the first 5 rows\n",
        "print(df_car_sale.head().to_markdown(index=False, numalign=\"left\", stralign=\"left\"))\n",
        "\n",
        "# Print the column names and their data types\n",
        "print(df_car_sale.info())"
      ],
      "metadata": {
        "colab": {
          "base_uri": "https://localhost:8080/"
        },
        "id": "aBhTjh3s9SeU",
        "outputId": "62c05a93-acae-4fe9-b936-27181ef4dc95"
      },
      "execution_count": 23,
      "outputs": [
        {
          "output_type": "stream",
          "name": "stdout",
          "text": [
            "| Car_id       | Date     | Customer Name   | Gender   | Annual Income   | Dealer_Name                         | Company   | Model      | Engine                    | Transmission   | Color      | Price ($)   | Dealer_No    | Body Style   | Phone   | Dealer_Region   |\n",
            "|:-------------|:---------|:----------------|:---------|:----------------|:------------------------------------|:----------|:-----------|:--------------------------|:---------------|:-----------|:------------|:-------------|:-------------|:--------|:----------------|\n",
            "| C_CND_000001 | 1/2/2022 | Geraldine       | Male     | 13500           | Buddy Storbeck's Diesel Service Inc | Ford      | Expedition | DoubleÂ Overhead Camshaft | Auto           | Black      | 26000       | 06457-3834   | SUV          | 8264678 | Middletown      |\n",
            "| C_CND_000002 | 1/2/2022 | Gia             | Male     | 1480000         | C & M Motors Inc                    | Dodge     | Durango    | DoubleÂ Overhead Camshaft | Auto           | Black      | 19000       | 60504-7114   | SUV          | 6848189 | Aurora          |\n",
            "| C_CND_000003 | 1/2/2022 | Gianna          | Male     | 1035000         | Capitol KIA                         | Cadillac  | Eldorado   | Overhead Camshaft         | Manual         | Red        | 31500       | 38701-8047   | Passenger    | 7298798 | Greenville      |\n",
            "| C_CND_000004 | 1/2/2022 | Giselle         | Male     | 13500           | Chrysler of Tri-Cities              | Toyota    | Celica     | Overhead Camshaft         | Manual         | Pale White | 14000       | 99301-3882   | SUV          | 6257557 | Pasco           |\n",
            "| C_CND_000005 | 1/2/2022 | Grace           | Male     | 1465000         | Chrysler Plymouth                   | Acura     | TL         | DoubleÂ Overhead Camshaft | Auto           | Red        | 24500       | 53546-9427   | Hatchback    | 7081483 | Janesville      |\n",
            "<class 'pandas.core.frame.DataFrame'>\n",
            "RangeIndex: 23906 entries, 0 to 23905\n",
            "Data columns (total 16 columns):\n",
            " #   Column         Non-Null Count  Dtype \n",
            "---  ------         --------------  ----- \n",
            " 0   Car_id         23906 non-null  object\n",
            " 1   Date           23906 non-null  object\n",
            " 2   Customer Name  23905 non-null  object\n",
            " 3   Gender         23906 non-null  object\n",
            " 4   Annual Income  23906 non-null  int64 \n",
            " 5   Dealer_Name    23906 non-null  object\n",
            " 6   Company        23906 non-null  object\n",
            " 7   Model          23906 non-null  object\n",
            " 8   Engine         23906 non-null  object\n",
            " 9   Transmission   23906 non-null  object\n",
            " 10  Color          23906 non-null  object\n",
            " 11  Price ($)      23906 non-null  int64 \n",
            " 12  Dealer_No      23906 non-null  object\n",
            " 13  Body Style     23906 non-null  object\n",
            " 14  Phone          23906 non-null  int64 \n",
            " 15  Dealer_Region  23906 non-null  object\n",
            "dtypes: int64(3), object(13)\n",
            "memory usage: 2.9+ MB\n",
            "None\n"
          ]
        }
      ]
    },
    {
      "cell_type": "code",
      "source": [
        " # Calculate the average `Price ($)` for each `Dealer_Name`\n",
        "average_prices = df_car_sale.groupby('Dealer_Name')['Price ($)'].mean()\n",
        "\n",
        "# Sort the results in descending order\n",
        "average_prices = average_prices.sort_values(ascending=False)\n",
        "\n",
        "# Display the first 5 rows\n",
        "print(average_prices.head().to_markdown(index=False, numalign=\"left\", stralign=\"left\"))\n",
        "\n",
        "# Print the column names and their data types\n",
        "print(average_prices.info())"
      ],
      "metadata": {
        "colab": {
          "base_uri": "https://localhost:8080/"
        },
        "id": "6i7lbtqR_9oK",
        "outputId": "d00aaba8-0b0e-4860-ef25-a90af8ca3d74"
      },
      "execution_count": 6,
      "outputs": [
        {
          "output_type": "stream",
          "name": "stdout",
          "text": [
            "| Price ($)   |\n",
            "|:------------|\n",
            "| 28769.9     |\n",
            "| 28602       |\n",
            "| 28527.5     |\n",
            "| 28523       |\n",
            "| 28312.6     |\n",
            "<class 'pandas.core.series.Series'>\n",
            "Index: 28 entries, U-Haul CO to Buddy Storbeck's Diesel Service Inc\n",
            "Series name: Price ($)\n",
            "Non-Null Count  Dtype  \n",
            "--------------  -----  \n",
            "28 non-null     float64\n",
            "dtypes: float64(1)\n",
            "memory usage: 448.0+ bytes\n",
            "None\n"
          ]
        }
      ]
    },
    {
      "cell_type": "code",
      "source": [
        "import altair as alt\n",
        "\n",
        "# Create the box plot of `Price ($)` for each `Dealer_Name`\n",
        "chart = alt.Chart(df_car_sale).mark_boxplot().encode(\n",
        "    x=alt.X('Dealer_Name', title='Dealer Name'),\n",
        "    y=alt.Y('Price ($)', title='Price ($)'),\n",
        ").properties(title='Box Plot of Price ($) for each Dealer').interactive()\n",
        "\n",
        "# Save the chart in a JSON file\n",
        "chart.save('average_price_for_each_dealer.json')"
      ],
      "metadata": {
        "id": "4RNwX2-VAQ4j"
      },
      "execution_count": 7,
      "outputs": []
    },
    {
      "cell_type": "markdown",
      "source": [
        "2. Which car brand (Company) has the highest variation in prices, and what does this tell us about the pricing trends?"
      ],
      "metadata": {
        "id": "YYW4cABX9VuP"
      }
    },
    {
      "cell_type": "code",
      "source": [
        "# Get all unique values from `Company`\n",
        "unique_values = df_car_sale['Company'].unique()\n",
        "\n",
        "# Check the number of unique values in `Company`\n",
        "if len(unique_values) > 50:\n",
        "  # If there are too many unique values, sample the top 50\n",
        "  top_occurring_values = df_car_sale['Company'].value_counts().head(50).index.tolist()\n",
        "  print(top_occurring_values)\n",
        "else:\n",
        "  # Otherwise print all unique valus in `Company`\n",
        "  print(unique_values)"
      ],
      "metadata": {
        "colab": {
          "base_uri": "https://localhost:8080/"
        },
        "id": "wqWMOh4K-mwB",
        "outputId": "65e2b2fc-ce31-489c-a35c-01c7a6eae95c"
      },
      "execution_count": 3,
      "outputs": [
        {
          "output_type": "stream",
          "name": "stdout",
          "text": [
            "['Ford' 'Dodge' 'Cadillac' 'Toyota' 'Acura' 'Mitsubishi' 'Chevrolet'\n",
            " 'Nissan' 'Mercury' 'BMW' 'Chrysler' 'Subaru' 'Hyundai' 'Honda' 'Infiniti'\n",
            " 'Audi' 'Porsche' 'Volkswagen' 'Buick' 'Saturn' 'Mercedes-B' 'Jaguar'\n",
            " 'Volvo' 'Pontiac' 'Lincoln' 'Oldsmobile' 'Lexus' 'Plymouth' 'Saab' 'Jeep']\n"
          ]
        }
      ]
    },
    {
      "cell_type": "code",
      "source": [
        "# Compute the standard deviation of `Price ($)` for each `Company`\n",
        "company_std_dev = df_car_sale.groupby('Company')['Price ($)'].std().sort_values(ascending=False)\n",
        "\n",
        "# Display the name of the company with the highest standard deviation\n",
        "print(f'The car brand with the highest variation in price is: {company_std_dev.index[0]}')"
      ],
      "metadata": {
        "colab": {
          "base_uri": "https://localhost:8080/"
        },
        "id": "4ypcYdQp-pfc",
        "outputId": "979a1b13-86e1-47f8-f474-31920f40b7a7"
      },
      "execution_count": 4,
      "outputs": [
        {
          "output_type": "stream",
          "name": "stdout",
          "text": [
            "The car brand with the highest variation in price is: Lincoln\n"
          ]
        }
      ]
    },
    {
      "cell_type": "markdown",
      "source": [
        "3.What is the distribution of car prices for each transmission type, and how do the interquartile ranges\n",
        "compare?"
      ],
      "metadata": {
        "id": "xVjFE0aB-vVQ"
      }
    },
    {
      "cell_type": "code",
      "source": [
        "import altair as alt\n",
        "\n",
        "# Create the box plot of `Price ($)` for each `Transmission` type\n",
        "chart = alt.Chart(df_car_sale).mark_boxplot().encode(\n",
        "    x=alt.X('Transmission', title='Transmission Type'),\n",
        "    y=alt.Y('Price ($)', title='Price ($)'),\n",
        ").properties(title='Box Plot of Price ($) for each Transmission Type').interactive()\n",
        "\n",
        "# Save the chart in a JSON file\n",
        "chart.save('price_distribution_for_each_transmission_type.json')"
      ],
      "metadata": {
        "id": "8JJsN90W_Fkk"
      },
      "execution_count": 5,
      "outputs": []
    },
    {
      "cell_type": "markdown",
      "source": [
        "4. What is the distribution of car prices across different regions?"
      ],
      "metadata": {
        "id": "V8Jg4PYj_IyL"
      }
    },
    {
      "cell_type": "code",
      "source": [
        "# Display the first 5 rows\n",
        "print(df_car_sale.head().to_markdown(index=False, numalign=\"left\", stralign=\"left\"))\n",
        "\n",
        "# Print the column names and their data types\n",
        "print(df_car_sale.info())"
      ],
      "metadata": {
        "colab": {
          "base_uri": "https://localhost:8080/"
        },
        "id": "OsfNYcPV_ge8",
        "outputId": "5ba55734-a7c3-4e29-c237-94dac1fc4c9a"
      },
      "execution_count": 8,
      "outputs": [
        {
          "output_type": "stream",
          "name": "stdout",
          "text": [
            "| Car_id       | Date     | Customer Name   | Gender   | Annual Income   | Dealer_Name                         | Company   | Model      | Engine                    | Transmission   | Color      | Price ($)   | Dealer_No    | Body Style   | Phone   | Dealer_Region   |\n",
            "|:-------------|:---------|:----------------|:---------|:----------------|:------------------------------------|:----------|:-----------|:--------------------------|:---------------|:-----------|:------------|:-------------|:-------------|:--------|:----------------|\n",
            "| C_CND_000001 | 1/2/2022 | Geraldine       | Male     | 13500           | Buddy Storbeck's Diesel Service Inc | Ford      | Expedition | DoubleÂ Overhead Camshaft | Auto           | Black      | 26000       | 06457-3834   | SUV          | 8264678 | Middletown      |\n",
            "| C_CND_000002 | 1/2/2022 | Gia             | Male     | 1480000         | C & M Motors Inc                    | Dodge     | Durango    | DoubleÂ Overhead Camshaft | Auto           | Black      | 19000       | 60504-7114   | SUV          | 6848189 | Aurora          |\n",
            "| C_CND_000003 | 1/2/2022 | Gianna          | Male     | 1035000         | Capitol KIA                         | Cadillac  | Eldorado   | Overhead Camshaft         | Manual         | Red        | 31500       | 38701-8047   | Passenger    | 7298798 | Greenville      |\n",
            "| C_CND_000004 | 1/2/2022 | Giselle         | Male     | 13500           | Chrysler of Tri-Cities              | Toyota    | Celica     | Overhead Camshaft         | Manual         | Pale White | 14000       | 99301-3882   | SUV          | 6257557 | Pasco           |\n",
            "| C_CND_000005 | 1/2/2022 | Grace           | Male     | 1465000         | Chrysler Plymouth                   | Acura     | TL         | DoubleÂ Overhead Camshaft | Auto           | Red        | 24500       | 53546-9427   | Hatchback    | 7081483 | Janesville      |\n",
            "<class 'pandas.core.frame.DataFrame'>\n",
            "RangeIndex: 23906 entries, 0 to 23905\n",
            "Data columns (total 16 columns):\n",
            " #   Column         Non-Null Count  Dtype \n",
            "---  ------         --------------  ----- \n",
            " 0   Car_id         23906 non-null  object\n",
            " 1   Date           23906 non-null  object\n",
            " 2   Customer Name  23905 non-null  object\n",
            " 3   Gender         23906 non-null  object\n",
            " 4   Annual Income  23906 non-null  int64 \n",
            " 5   Dealer_Name    23906 non-null  object\n",
            " 6   Company        23906 non-null  object\n",
            " 7   Model          23906 non-null  object\n",
            " 8   Engine         23906 non-null  object\n",
            " 9   Transmission   23906 non-null  object\n",
            " 10  Color          23906 non-null  object\n",
            " 11  Price ($)      23906 non-null  int64 \n",
            " 12  Dealer_No      23906 non-null  object\n",
            " 13  Body Style     23906 non-null  object\n",
            " 14  Phone          23906 non-null  int64 \n",
            " 15  Dealer_Region  23906 non-null  object\n",
            "dtypes: int64(3), object(13)\n",
            "memory usage: 2.9+ MB\n",
            "None\n"
          ]
        }
      ]
    },
    {
      "cell_type": "code",
      "source": [
        "\n",
        "import altair as alt\n",
        "\n",
        "# Create the box plot of `Price ($)` for each `Dealer_Region`\n",
        "chart = alt.Chart(df_car_sale).mark_boxplot().encode(\n",
        "    x=alt.X('Dealer_Region', title='Dealer Region'),\n",
        "    y=alt.Y('Price ($)', title='Price ($)'),\n",
        ").properties(title='Box Plot of Price ($) for each Dealer Region').interactive()\n",
        "\n",
        "# Save the chart in a JSON file\n",
        "chart.save('price_distribution_for_each_dealer_region.json')"
      ],
      "metadata": {
        "id": "63tywUOdBohe"
      },
      "execution_count": 11,
      "outputs": []
    },
    {
      "cell_type": "markdown",
      "source": [
        "5. What is the distribution of cars based on body styles?"
      ],
      "metadata": {
        "id": "ThsOo2lACuV4"
      }
    },
    {
      "cell_type": "code",
      "source": [
        "import pandas as pd\n",
        "\n",
        "pd.set_option('display.max_rows', None)\n",
        "pd.set_option('display.max_columns', None)\n",
        "\n",
        "# Count the number of cars for each `Body Style`\n",
        "body_style_counts = df_car_sale['Body Style'].value_counts()\n",
        "\n",
        "# Display the result\n",
        "print(body_style_counts.to_markdown(numalign=\"left\", stralign=\"left\"))\n",
        "\n",
        "# Display the first 5 rows\n",
        "print(df_car_sale.head().to_markdown(index=False, numalign=\"left\", stralign=\"left\"))\n",
        "\n",
        "# Print the column names and their data types\n",
        "print(df_car_sale.info())"
      ],
      "metadata": {
        "colab": {
          "base_uri": "https://localhost:8080/"
        },
        "id": "9GZ94VjWWXW5",
        "outputId": "e6c66c5b-95a2-4861-e6f5-644ab3a42575"
      },
      "execution_count": 12,
      "outputs": [
        {
          "output_type": "stream",
          "name": "stdout",
          "text": [
            "| Body Style   | count   |\n",
            "|:-------------|:--------|\n",
            "| SUV          | 6374    |\n",
            "| Hatchback    | 6128    |\n",
            "| Sedan        | 4488    |\n",
            "| Passenger    | 3945    |\n",
            "| Hardtop      | 2971    |\n",
            "| Car_id       | Date     | Customer Name   | Gender   | Annual Income   | Dealer_Name                         | Company   | Model      | Engine                    | Transmission   | Color      | Price ($)   | Dealer_No    | Body Style   | Phone   | Dealer_Region   |\n",
            "|:-------------|:---------|:----------------|:---------|:----------------|:------------------------------------|:----------|:-----------|:--------------------------|:---------------|:-----------|:------------|:-------------|:-------------|:--------|:----------------|\n",
            "| C_CND_000001 | 1/2/2022 | Geraldine       | Male     | 13500           | Buddy Storbeck's Diesel Service Inc | Ford      | Expedition | DoubleÂ Overhead Camshaft | Auto           | Black      | 26000       | 06457-3834   | SUV          | 8264678 | Middletown      |\n",
            "| C_CND_000002 | 1/2/2022 | Gia             | Male     | 1480000         | C & M Motors Inc                    | Dodge     | Durango    | DoubleÂ Overhead Camshaft | Auto           | Black      | 19000       | 60504-7114   | SUV          | 6848189 | Aurora          |\n",
            "| C_CND_000003 | 1/2/2022 | Gianna          | Male     | 1035000         | Capitol KIA                         | Cadillac  | Eldorado   | Overhead Camshaft         | Manual         | Red        | 31500       | 38701-8047   | Passenger    | 7298798 | Greenville      |\n",
            "| C_CND_000004 | 1/2/2022 | Giselle         | Male     | 13500           | Chrysler of Tri-Cities              | Toyota    | Celica     | Overhead Camshaft         | Manual         | Pale White | 14000       | 99301-3882   | SUV          | 6257557 | Pasco           |\n",
            "| C_CND_000005 | 1/2/2022 | Grace           | Male     | 1465000         | Chrysler Plymouth                   | Acura     | TL         | DoubleÂ Overhead Camshaft | Auto           | Red        | 24500       | 53546-9427   | Hatchback    | 7081483 | Janesville      |\n",
            "<class 'pandas.core.frame.DataFrame'>\n",
            "RangeIndex: 23906 entries, 0 to 23905\n",
            "Data columns (total 16 columns):\n",
            " #   Column         Non-Null Count  Dtype \n",
            "---  ------         --------------  ----- \n",
            " 0   Car_id         23906 non-null  object\n",
            " 1   Date           23906 non-null  object\n",
            " 2   Customer Name  23905 non-null  object\n",
            " 3   Gender         23906 non-null  object\n",
            " 4   Annual Income  23906 non-null  int64 \n",
            " 5   Dealer_Name    23906 non-null  object\n",
            " 6   Company        23906 non-null  object\n",
            " 7   Model          23906 non-null  object\n",
            " 8   Engine         23906 non-null  object\n",
            " 9   Transmission   23906 non-null  object\n",
            " 10  Color          23906 non-null  object\n",
            " 11  Price ($)      23906 non-null  int64 \n",
            " 12  Dealer_No      23906 non-null  object\n",
            " 13  Body Style     23906 non-null  object\n",
            " 14  Phone          23906 non-null  int64 \n",
            " 15  Dealer_Region  23906 non-null  object\n",
            "dtypes: int64(3), object(13)\n",
            "memory usage: 2.9+ MB\n",
            "None\n"
          ]
        }
      ]
    },
    {
      "cell_type": "markdown",
      "source": [
        "6.How does the average selling price of cars vary by customer gender and annual income?"
      ],
      "metadata": {
        "id": "AamEJ_5CWZYd"
      }
    },
    {
      "cell_type": "code",
      "source": [
        "# Calculate the average `Price ($)` for each `Gender` and `Annual Income`\n",
        "average_prices = df_car_sale.groupby(['Gender', 'Annual Income'])['Price ($)'].mean()\n",
        "\n",
        "# Display the first 5 rows\n",
        "print(average_prices.head().to_markdown(index=False, numalign=\"left\", stralign=\"left\"))\n",
        "\n",
        "# Print the column names and their data types\n",
        "print(average_prices.info())"
      ],
      "metadata": {
        "colab": {
          "base_uri": "https://localhost:8080/"
        },
        "id": "FCLmILilWlhw",
        "outputId": "256c7c6b-b9de-49b4-e683-e72949641dfc"
      },
      "execution_count": 13,
      "outputs": [
        {
          "output_type": "stream",
          "name": "stdout",
          "text": [
            "| Price ($)   |\n",
            "|:------------|\n",
            "| 28132       |\n",
            "| 46001       |\n",
            "| 20000       |\n",
            "| 19001       |\n",
            "| 51000       |\n",
            "<class 'pandas.core.series.Series'>\n",
            "MultiIndex: 3442 entries, ('Female', 13500) to ('Male', 11200000)\n",
            "Series name: Price ($)\n",
            "Non-Null Count  Dtype  \n",
            "--------------  -----  \n",
            "3442 non-null   float64\n",
            "dtypes: float64(1)\n",
            "memory usage: 56.7+ KB\n",
            "None\n"
          ]
        }
      ]
    },
    {
      "cell_type": "code",
      "source": [
        "import altair as alt\n",
        "\n",
        "# Create a heatmap of `average_prices` with `Gender` on the x-axis and `Annual Income` on the y-axis.\n",
        "base = alt.Chart(average_prices.reset_index()).mark_rect().encode(\n",
        "    x=alt.X('Gender', title='Gender'),\n",
        "    y=alt.Y('Annual Income', title='Annual Income'),\n",
        "    color=alt.Color(\n",
        "        'Price ($)',\n",
        "        # Use a sequential color scheme.\n",
        "        scale=alt.Scale(range='heatmap')\n",
        "    ),\n",
        "    tooltip=['Gender', 'Annual Income', 'Price ($)']\n",
        ").properties(title='Heatmap of Average Price ($) by Gender and Annual Income')\n",
        "\n",
        "# Labels for the heatmap.\n",
        "text = base.mark_text(baseline='middle').encode(\n",
        "    color=alt.value('black'),\n",
        "    text='Price ($):Q'\n",
        ")\n",
        "\n",
        "chart = base + text\n",
        "\n",
        "chart.save('average_price_heatmap.json')"
      ],
      "metadata": {
        "id": "F88MWaFMW7Iw"
      },
      "execution_count": 14,
      "outputs": []
    },
    {
      "cell_type": "markdown",
      "source": [
        "7. What is the distribution of car prices by region, and how does the number of cars sold vary by region?"
      ],
      "metadata": {
        "id": "Xq-Cwi3BXEBf"
      }
    },
    {
      "cell_type": "code",
      "source": [
        "import pandas as pd\n",
        "\n",
        "pd.set_option('display.max_rows', None)\n",
        "pd.set_option('display.max_columns', None)\n",
        "\n",
        "# Read the CSV file into a DataFrame\n",
        "df_car_sale = pd.read_csv('Car Sale.csv')\n",
        "\n",
        "# Extract the `Price ($)` and `Dealer_Region` column into a dataframe.\n",
        "df_price_region = df_car_sale[['Price ($)', 'Dealer_Region']]\n",
        "\n",
        "# Display the first 5 rows\n",
        "print(df_price_region.head().to_markdown(index=False, numalign=\"left\", stralign=\"left\"))\n",
        "\n",
        "# Print the column names and their data types\n",
        "print(df_price_region.info())\n",
        "\n",
        "# Count the number of cars for each `Dealer_Region`\n",
        "region_counts = df_car_sale['Dealer_Region'].value_counts()\n",
        "\n",
        "# Sort the aggregated data in descending order\n",
        "region_counts = region_counts.sort_values(ascending=False)\n",
        "\n",
        "# Display the result\n",
        "print(region_counts.to_markdown(numalign=\"left\", stralign=\"left\"))"
      ],
      "metadata": {
        "colab": {
          "base_uri": "https://localhost:8080/"
        },
        "id": "gSvV5_2dXMjw",
        "outputId": "7c5f18d5-ba32-4aaa-d6b9-d896eacd68f8"
      },
      "execution_count": 15,
      "outputs": [
        {
          "output_type": "stream",
          "name": "stdout",
          "text": [
            "| Price ($)   | Dealer_Region   |\n",
            "|:------------|:----------------|\n",
            "| 26000       | Middletown      |\n",
            "| 19000       | Aurora          |\n",
            "| 31500       | Greenville      |\n",
            "| 14000       | Pasco           |\n",
            "| 24500       | Janesville      |\n",
            "<class 'pandas.core.frame.DataFrame'>\n",
            "RangeIndex: 23906 entries, 0 to 23905\n",
            "Data columns (total 2 columns):\n",
            " #   Column         Non-Null Count  Dtype \n",
            "---  ------         --------------  ----- \n",
            " 0   Price ($)      23906 non-null  int64 \n",
            " 1   Dealer_Region  23906 non-null  object\n",
            "dtypes: int64(1), object(1)\n",
            "memory usage: 373.7+ KB\n",
            "None\n",
            "| Dealer_Region   | count   |\n",
            "|:----------------|:--------|\n",
            "| Austin          | 4135    |\n",
            "| Janesville      | 3821    |\n",
            "| Scottsdale      | 3433    |\n",
            "| Pasco           | 3131    |\n",
            "| Aurora          | 3130    |\n",
            "| Middletown      | 3128    |\n",
            "| Greenville      | 3128    |\n"
          ]
        }
      ]
    },
    {
      "cell_type": "code",
      "source": [
        "import altair as alt\n",
        "\n",
        "# Create a box plot of `Price ($)` for each `Dealer_Region`\n",
        "chart1 = alt.Chart(df_car_sale).mark_boxplot().encode(\n",
        "    x=alt.X('Dealer_Region', title='Dealer Region'),\n",
        "    y=alt.Y('Price ($)', title='Price in $'),\n",
        ").properties(title='Distribution of Car Prices by Dealer Region').interactive()\n",
        "\n",
        "# Create a bar chart of `Number of Cars` for each `Dealer_Region`\n",
        "chart2 = alt.Chart(region_counts.reset_index()).mark_bar().encode(\n",
        "    x=alt.X('index', title='Dealer Region'),\n",
        "    y=alt.Y('Dealer_Region', title='Number of Cars'),\n",
        "    tooltip=['Dealer_Region']\n",
        ").properties(title='Number of Cars Sold by Dealer Region')\n",
        "\n",
        "\n"
      ],
      "metadata": {
        "id": "6LkWfghHZm6h"
      },
      "execution_count": 20,
      "outputs": []
    },
    {
      "cell_type": "markdown",
      "source": [
        "8. How does the average car price differ between cars with different engine sizes?"
      ],
      "metadata": {
        "id": "2eeyodEnavuz"
      }
    },
    {
      "cell_type": "code",
      "source": [
        "# Get all unique values from `Engine`\n",
        "unique_values = df_car_sale['Engine'].unique()\n",
        "\n",
        "# Check the number of unique values in `Engine`\n",
        "if len(unique_values) > 50:\n",
        "  # If there are too many unique values, sample the top 50\n",
        "  top_occurring_values = df_car_sale['Engine'].value_counts().head(50).index.tolist()\n",
        "  print(top_occurring_values)\n",
        "else:\n",
        "  # Otherwise print all unique valus in `Engine`\n",
        "  print(unique_values)"
      ],
      "metadata": {
        "colab": {
          "base_uri": "https://localhost:8080/"
        },
        "id": "Im6BpcjQa1M7",
        "outputId": "997ba0e9-2416-4eb9-8c57-2bef1cfd5181"
      },
      "execution_count": 21,
      "outputs": [
        {
          "output_type": "stream",
          "name": "stdout",
          "text": [
            "['DoubleÂ\\xa0Overhead Camshaft' 'Overhead Camshaft']\n"
          ]
        }
      ]
    },
    {
      "cell_type": "code",
      "source": [
        "# Calculate the average `Price ($)` for each `Engine` type\n",
        "average_prices_by_engine = df_car_sale.groupby('Engine')['Price ($)'].mean()\n",
        "\n",
        "# Rename the column name from `Price` to `Average Price`\n",
        "average_prices_by_engine = average_prices_by_engine.rename('Average Price')\n",
        "\n",
        "# Sort the results in descending order of `Average Price`\n",
        "average_prices_by_engine = average_prices_by_engine.sort_values(ascending=False)\n",
        "\n",
        "# Print the results\n",
        "print(average_prices_by_engine.to_markdown())"
      ],
      "metadata": {
        "colab": {
          "base_uri": "https://localhost:8080/"
        },
        "id": "UjvRwJ9Gb-dx",
        "outputId": "c90f9ad1-2f08-426c-80ef-d285f8d6e5fe"
      },
      "execution_count": 22,
      "outputs": [
        {
          "output_type": "stream",
          "name": "stdout",
          "text": [
            "| Engine                    |   Average Price |\n",
            "|:--------------------------|----------------:|\n",
            "| DoubleÂ Overhead Camshaft |         28248.5 |\n",
            "| Overhead Camshaft         |         27914.7 |\n"
          ]
        }
      ]
    },
    {
      "cell_type": "markdown",
      "source": [
        "9. How do car prices vary based on the customer’s annual income bracket?"
      ],
      "metadata": {
        "id": "yEfpWzsWcaBw"
      }
    },
    {
      "cell_type": "code",
      "source": [
        "# Sort the `df_car_sale` DataFrame in ascending order of `Annual Income`\n",
        "df_car_sale = df_car_sale.sort_values('Annual Income')\n",
        "\n",
        "# Display the first 5 rows\n",
        "print(df_car_sale.head().to_markdown(index=False, numalign=\"left\", stralign=\"left\"))\n",
        "\n",
        "# Print the column names and their data types\n",
        "print(df_car_sale.info())"
      ],
      "metadata": {
        "colab": {
          "base_uri": "https://localhost:8080/"
        },
        "id": "ZxLj1aoDcgmQ",
        "outputId": "9b539390-dd67-4125-cc10-4480a3041fec"
      },
      "execution_count": 23,
      "outputs": [
        {
          "output_type": "stream",
          "name": "stdout",
          "text": [
            "| Car_id       | Date       | Customer Name   | Gender   | Annual Income   | Dealer_Name                           | Company    | Model      | Engine                    | Transmission   | Color   | Price ($)   | Dealer_No    | Body Style   | Phone   | Dealer_Region   |\n",
            "|:-------------|:-----------|:----------------|:---------|:----------------|:--------------------------------------|:-----------|:-----------|:--------------------------|:---------------|:--------|:------------|:-------------|:-------------|:--------|:----------------|\n",
            "| C_CND_023452 | 12/24/2023 | Andy            | Male     | 10080           | Pitre Buick-Pontiac-Gmc of Scottsdale | Infiniti   | I30        | Overhead Camshaft         | Manual         | Red     | 22801       | 99301-3882   | Hardtop      | 8231348 | Pasco           |\n",
            "| C_CND_000001 | 1/2/2022   | Geraldine       | Male     | 13500           | Buddy Storbeck's Diesel Service Inc   | Ford       | Expedition | DoubleÂ Overhead Camshaft | Auto           | Black   | 26000       | 06457-3834   | SUV          | 8264678 | Middletown      |\n",
            "| C_CND_021223 | 11/18/2023 | Raphael         | Male     | 13500           | Pitre Buick-Pontiac-Gmc of Scottsdale | Nissan     | Frontier   | Overhead Camshaft         | Manual         | Black   | 53000       | 99301-3882   | Hatchback    | 6974904 | Scottsdale      |\n",
            "| C_CND_008914 | 11/29/2022 | Tyler           | Male     | 13500           | Gartner Buick Hyundai Saab            | Mercedes-B | SL-Class   | Overhead Camshaft         | Manual         | Red     | 17001       | 38701-8047   | Hardtop      | 8488676 | Greenville      |\n",
            "| C_CND_008912 | 11/29/2022 | Ricardo         | Male     | 13500           | Saab-Belle Dodge                      | Cadillac   | DeVille    | DoubleÂ Overhead Camshaft | Auto           | Red     | 22001       | 60504-7114   | SUV          | 8542695 | Aurora          |\n",
            "<class 'pandas.core.frame.DataFrame'>\n",
            "Index: 23906 entries, 23451 to 14026\n",
            "Data columns (total 16 columns):\n",
            " #   Column         Non-Null Count  Dtype \n",
            "---  ------         --------------  ----- \n",
            " 0   Car_id         23906 non-null  object\n",
            " 1   Date           23906 non-null  object\n",
            " 2   Customer Name  23905 non-null  object\n",
            " 3   Gender         23906 non-null  object\n",
            " 4   Annual Income  23906 non-null  int64 \n",
            " 5   Dealer_Name    23906 non-null  object\n",
            " 6   Company        23906 non-null  object\n",
            " 7   Model          23906 non-null  object\n",
            " 8   Engine         23906 non-null  object\n",
            " 9   Transmission   23906 non-null  object\n",
            " 10  Color          23906 non-null  object\n",
            " 11  Price ($)      23906 non-null  int64 \n",
            " 12  Dealer_No      23906 non-null  object\n",
            " 13  Body Style     23906 non-null  object\n",
            " 14  Phone          23906 non-null  int64 \n",
            " 15  Dealer_Region  23906 non-null  object\n",
            "dtypes: int64(3), object(13)\n",
            "memory usage: 3.1+ MB\n",
            "None\n"
          ]
        }
      ]
    },
    {
      "cell_type": "code",
      "source": [
        "import altair as alt\n",
        "\n",
        "# Create a scatter plot of `Price ($)` (y-axis) as `Annual Income` (x-axis) in log scale\n",
        "chart = alt.Chart(df_car_sale).mark_point().encode(\n",
        "    x=alt.X('Annual Income', title='Annual Income', scale=alt.Scale(type=\"log\")),\n",
        "    y=alt.Y('Price ($)', title='Price ($)'),\n",
        "    tooltip=['Annual Income', 'Price ($)']\n",
        ").properties(title='Scatter Plot of Price ($) by Annual Income').interactive()\n",
        "\n",
        "# Save the chart in a JSON file\n",
        "chart.save('car_price_vs_annual_income.json')"
      ],
      "metadata": {
        "id": "EFwWpa7UdLmT"
      },
      "execution_count": 25,
      "outputs": []
    },
    {
      "cell_type": "markdown",
      "source": [
        "10.What are the top 5 car models with the highest number of sales, and how does their price distribution look?"
      ],
      "metadata": {
        "id": "klqaaiVodUR4"
      }
    },
    {
      "cell_type": "code",
      "source": [
        "import pandas as pd\n",
        "\n",
        "pd.set_option('display.max_rows', None)\n",
        "pd.set_option('display.max_columns', None)\n",
        "\n",
        "# Count the frequency of values in the `Model` column, sort them in descending order, and store the top 5 occurring ones in `top_5_models`.\n",
        "top_5_models = df_car_sale['Model'].value_counts().head(5).index.tolist()\n",
        "\n",
        "# Filter the original dataset to retain only the rows where the `Model` is one of the `top_5_models`.\n",
        "df_top_models = df_car_sale[df_car_sale['Model'].isin(top_5_models)]\n",
        "\n",
        "# Display the first 5 rows\n",
        "print(df_top_models.head().to_markdown(index=False, numalign=\"left\", stralign=\"left\"))\n",
        "\n",
        "# Print the column names and their data types\n",
        "print(df_top_models.info())"
      ],
      "metadata": {
        "colab": {
          "base_uri": "https://localhost:8080/"
        },
        "id": "ivZQ0CYUeWG2",
        "outputId": "9e0e6256-260e-495a-ecbf-420233dfbbde"
      },
      "execution_count": 26,
      "outputs": [
        {
          "output_type": "stream",
          "name": "stdout",
          "text": [
            "| Car_id       | Date       | Customer Name   | Gender   | Annual Income   | Dealer_Name                                     | Company    | Model    | Engine                    | Transmission   | Color      | Price ($)   | Dealer_No    | Body Style   | Phone   | Dealer_Region   |\n",
            "|:-------------|:-----------|:----------------|:---------|:----------------|:------------------------------------------------|:-----------|:---------|:--------------------------|:---------------|:-----------|:------------|:-------------|:-------------|:--------|:----------------|\n",
            "| C_CND_008904 | 11/29/2022 | Jonah           | Male     | 13500           | Enterprise Rent A Car                           | Chevrolet  | Prizm    | Overhead Camshaft         | Manual         | Red        | 22000       | 60504-7114   | Hatchback    | 6427879 | Aurora          |\n",
            "| C_CND_008898 | 11/29/2022 | Jason           | Male     | 13500           | Capitol KIA                                     | Volkswagen | Passat   | DoubleÂ Overhead Camshaft | Auto           | Pale White | 31000       | 38701-8047   | Hatchback    | 8398453 | Greenville      |\n",
            "| C_CND_008929 | 11/29/2022 | Cassandra       | Male     | 13500           | Progressive Shippers Cooperative Association No | Chevrolet  | Prizm    | DoubleÂ Overhead Camshaft | Auto           | Red        | 25000       | 53546-9427   | Hardtop      | 7096914 | Janesville      |\n",
            "| C_CND_008854 | 11/28/2022 | Paul            | Male     | 13500           | Motor Vehicle Branch Office                     | Mitsubishi | Diamante | Overhead Camshaft         | Manual         | Red        | 12001       | 78758-7841   | Hatchback    | 8220219 | Austin          |\n",
            "| C_CND_008824 | 11/27/2022 | Ayla            | Male     | 13500           | Saab-Belle Dodge                                | Volkswagen | Passat   | Overhead Camshaft         | Manual         | Pale White | 12000       | 60504-7114   | Hatchback    | 6616147 | Scottsdale      |\n",
            "<class 'pandas.core.frame.DataFrame'>\n",
            "Index: 2014 entries, 8903 to 14470\n",
            "Data columns (total 16 columns):\n",
            " #   Column         Non-Null Count  Dtype \n",
            "---  ------         --------------  ----- \n",
            " 0   Car_id         2014 non-null   object\n",
            " 1   Date           2014 non-null   object\n",
            " 2   Customer Name  2013 non-null   object\n",
            " 3   Gender         2014 non-null   object\n",
            " 4   Annual Income  2014 non-null   int64 \n",
            " 5   Dealer_Name    2014 non-null   object\n",
            " 6   Company        2014 non-null   object\n",
            " 7   Model          2014 non-null   object\n",
            " 8   Engine         2014 non-null   object\n",
            " 9   Transmission   2014 non-null   object\n",
            " 10  Color          2014 non-null   object\n",
            " 11  Price ($)      2014 non-null   int64 \n",
            " 12  Dealer_No      2014 non-null   object\n",
            " 13  Body Style     2014 non-null   object\n",
            " 14  Phone          2014 non-null   int64 \n",
            " 15  Dealer_Region  2014 non-null   object\n",
            "dtypes: int64(3), object(13)\n",
            "memory usage: 267.5+ KB\n",
            "None\n"
          ]
        }
      ]
    },
    {
      "cell_type": "code",
      "source": [
        "import altair as alt\n",
        "\n",
        "# Create a box plot of `Price ($)` for each `Model`\n",
        "chart = alt.Chart(df_top_models).mark_boxplot().encode(\n",
        "    x=alt.X('Model', title='Car Model'),\n",
        "    y=alt.Y('Price ($)', title='Price ($)'),\n",
        ").properties(title='Box Plot of Price ($) for Top 5 Car Models').interactive()\n",
        "\n",
        "# Save the chart in a JSON file\n",
        "chart.save('top_5_car_models_price_distribution.json')"
      ],
      "metadata": {
        "id": "Le6bcBaZfQVJ"
      },
      "execution_count": 27,
      "outputs": []
    },
    {
      "cell_type": "markdown",
      "source": [
        "11.How does car price vary with engine size across different car colors, and which colors have the highest price variation?"
      ],
      "metadata": {
        "id": "O3zDvIAwfX2C"
      }
    },
    {
      "cell_type": "code",
      "source": [
        "import matplotlib.pyplot as plt\n",
        "\n",
        "# Group data by `Color` and `Engine` and calculate mean `Price ($)`\n",
        "grouped_data = df_car_sale.groupby(['Color', 'Engine'])['Price ($)'].mean().reset_index()\n",
        "\n",
        "# Plot the grouped data\n",
        "plt.figure(figsize=(10, 6))\n",
        "for color in grouped_data['Color'].unique():\n",
        "    color_data = grouped_data[grouped_data['Color'] == color]\n",
        "    plt.plot(color_data['Engine'], color_data['Price ($)'], label=color)\n",
        "\n",
        "plt.xlabel('Engine')\n",
        "plt.ylabel('Average Price ($)')\n",
        "plt.title('Average Car Price by Engine and Color')\n",
        "plt.legend()\n",
        "plt.show()\n",
        "\n",
        "# Calculate price variation for each color\n",
        "price_variation = df_car_sale.groupby('Color')['Price ($)'].std().sort_values(ascending=False)\n",
        "\n",
        "# Display the color with the highest price variation\n",
        "print(f'The color with the highest price variation is: {price_variation.index[0]}')"
      ],
      "metadata": {
        "colab": {
          "base_uri": "https://localhost:8080/",
          "height": 581
        },
        "id": "7CXMpDIofo4V",
        "outputId": "0961d18e-d9b8-479b-ca9d-be7c3fa68a4f"
      },
      "execution_count": 28,
      "outputs": [
        {
          "output_type": "display_data",
          "data": {
            "text/plain": [
              "<Figure size 1000x600 with 1 Axes>"
            ],
            "image/png": "[encoded data removed]"
          },
          "metadata": {}
        },
        {
          "output_type": "stream",
          "name": "stdout",
          "text": [
            "The color with the highest price variation is: Red\n"
          ]
        }
      ]
    },
    {
      "cell_type": "markdown",
      "source": [
        "12. Is there any seasonal trend in car sales based on the date of sale?"
      ],
      "metadata": {
        "id": "OqGQ-RDhg_EY"
      }
    },
    {
      "cell_type": "code",
      "source": [
        "# Get all unique values from `Date`\n",
        "unique_values = df_car_sale['Date'].unique()\n",
        "\n",
        "# Check the number of unique values in `Date`\n",
        "if len(unique_values) > 50:\n",
        "  # If there are too many unique values, sample the top 50\n",
        "  top_occurring_values = df_car_sale['Date'].value_counts().head(50).index.tolist()\n",
        "  print(top_occurring_values)\n",
        "else:\n",
        "  # Otherwise print all unique valus in `Date`\n",
        "  print(unique_values)"
      ],
      "metadata": {
        "colab": {
          "base_uri": "https://localhost:8080/"
        },
        "id": "GJ3RDwGhhaaK",
        "outputId": "9205d79c-0089-4c0b-c968-81d9ea02595b"
      },
      "execution_count": 29,
      "outputs": [
        {
          "output_type": "stream",
          "name": "stdout",
          "text": [
            "['9/5/2023', '11/10/2023', '12/29/2023', '12/11/2023', '11/8/2022', '11/24/2023', '9/2/2023', '6/12/2023', '11/20/2022', '5/30/2023', '11/3/2023', '12/6/2022', '9/17/2022', '12/1/2023', '12/27/2022', '11/20/2023', '3/13/2023', '11/13/2022', '9/25/2022', '9/8/2023', '11/21/2022', '12/18/2023', '10/21/2023', '9/26/2022', '11/4/2023', '12/10/2022', '8/26/2023', '9/21/2022', '9/25/2023', '12/2/2023', '9/1/2023', '12/23/2023', '9/24/2022', '11/5/2023', '11/7/2023', '12/24/2022', '12/25/2023', '10/13/2023', '11/11/2023', '12/9/2023', '7/25/2023', '12/6/2023', '7/14/2023', '6/17/2023', '11/19/2023', '12/11/2022', '9/4/2023', '9/26/2023', '12/4/2022', '4/18/2022']\n"
          ]
        }
      ]
    },
    {
      "cell_type": "code",
      "source": [
        "# Convert the `Date` column to datetime format\n",
        "df_car_sale['Date'] = pd.to_datetime(df_car_sale['Date'])\n",
        "\n",
        "# Extract the month from the `Date` and store it in a new column `Month`\n",
        "df_car_sale['Month'] = df_car_sale['Date'].dt.month\n",
        "\n",
        "# Count the number of cars sold for each `Month`\n",
        "monthly_sales = df_car_sale['Month'].value_counts()\n",
        "\n",
        "# Print the results\n",
        "print(monthly_sales.to_markdown(numalign=\"left\", stralign=\"left\"))"
      ],
      "metadata": {
        "colab": {
          "base_uri": "https://localhost:8080/"
        },
        "id": "9yKzLu2phbwE",
        "outputId": "3c2f2d68-f11d-4800-ff3b-c4040fa8f5de"
      },
      "execution_count": 30,
      "outputs": [
        {
          "output_type": "stream",
          "name": "stdout",
          "text": [
            "| Month   | count   |\n",
            "|:--------|:--------|\n",
            "| 12      | 3546    |\n",
            "| 11      | 3470    |\n",
            "| 9       | 3305    |\n",
            "| 5       | 1895    |\n",
            "| 10      | 1830    |\n",
            "| 7       | 1725    |\n",
            "| 6       | 1715    |\n",
            "| 8       | 1705    |\n",
            "| 4       | 1655    |\n",
            "| 3       | 1535    |\n",
            "| 1       | 790     |\n",
            "| 2       | 735     |\n"
          ]
        }
      ]
    },
    {
      "cell_type": "code",
      "source": [
        "import altair as alt\n",
        "\n",
        "# Create a bar chart of `monthly_sales` with `Month` on the x-axis and `Number of Cars Sold` on the y-axis. Sort the x-axis in ascending order of `Month`.\n",
        "chart = alt.Chart(monthly_sales.reset_index()).mark_bar().encode(\n",
        "    x=alt.X('index', sort='x', title='Month'),\n",
        "    y=alt.Y('Month', title='Number of Cars Sold'),\n",
        "    tooltip=['index', 'Month']\n",
        ").properties(title='Number of Cars Sold per Month').interactive()\n",
        "\n",
        "\n"
      ],
      "metadata": {
        "id": "ANArCi2ZhfuV"
      },
      "execution_count": 38,
      "outputs": []
    },
    {
      "cell_type": "markdown",
      "source": [
        "13. How does the car price distribution change when considering different combinations of body style and\n",
        "transmission type?"
      ],
      "metadata": {
        "id": "eDPaPLybkrCD"
      }
    },
    {
      "cell_type": "code",
      "source": [
        "# Group the data by `Body Style` and `Transmission` columns, and compute the mean `Price ($)` for each group\n",
        "grouped_df = df_car_sale.groupby(['Body Style', 'Transmission'])['Price ($)'].mean()\n",
        "\n",
        "# Select only the rows where the `Body Style` is one of the top 5 occurring ones\n",
        "top_5_body_styles = df_car_sale['Body Style'].value_counts().head(5).index.tolist()\n",
        "grouped_df = grouped_df[grouped_df.index.get_level_values('Body Style').isin(top_5_body_styles)]\n",
        "\n",
        "# Create a new dataframe `melted_df` by reshaping the aggregated dataframe to long format with `Transmission` as identifier variable\n",
        "melted_df = grouped_df.reset_index().melt(id_vars='Transmission')\n",
        "\n",
        "# Display the first 5 rows and all columns by `melted_df.head()`\n",
        "print(melted_df.head().to_markdown(index=False, numalign=\"left\", stralign=\"left\"))\n",
        "\n",
        "# Print the column names and their data types\n",
        "print(melted_df.info())"
      ],
      "metadata": {
        "colab": {
          "base_uri": "https://localhost:8080/"
        },
        "id": "2gEcJerHkwOZ",
        "outputId": "a245327c-6e93-40a3-c485-4b2c97fdebbf"
      },
      "execution_count": 39,
      "outputs": [
        {
          "output_type": "stream",
          "name": "stdout",
          "text": [
            "| Transmission   | variable   | value     |\n",
            "|:---------------|:-----------|:----------|\n",
            "| Auto           | Body Style | Hardtop   |\n",
            "| Manual         | Body Style | Hardtop   |\n",
            "| Auto           | Body Style | Hatchback |\n",
            "| Manual         | Body Style | Hatchback |\n",
            "| Auto           | Body Style | Passenger |\n",
            "<class 'pandas.core.frame.DataFrame'>\n",
            "RangeIndex: 20 entries, 0 to 19\n",
            "Data columns (total 3 columns):\n",
            " #   Column        Non-Null Count  Dtype \n",
            "---  ------        --------------  ----- \n",
            " 0   Transmission  20 non-null     object\n",
            " 1   variable      20 non-null     object\n",
            " 2   value         20 non-null     object\n",
            "dtypes: object(3)\n",
            "memory usage: 608.0+ bytes\n",
            "None\n"
          ]
        }
      ]
    },
    {
      "cell_type": "code",
      "source": [
        "import altair as alt\n",
        "\n",
        "# Create a box plot of `value` for each `Body Style`\n",
        "chart = alt.Chart(melted_df).mark_boxplot().encode(\n",
        "    x=alt.X('Transmission', title='Transmission Type'),\n",
        "    y=alt.Y('value', title='Car Price'),\n",
        "    color='Transmission',\n",
        "    column='Body Style'\n",
        ").properties(title='Car Price Distribution by Body Style and Transmission').interactive()\n",
        "\n"
      ],
      "metadata": {
        "id": "flqW9L1_lM5d"
      },
      "execution_count": 41,
      "outputs": []
    },
    {
      "cell_type": "code",
      "source": [
        "import altair as alt\n",
        "\n",
        "# Create a box plot of `value` for each `Body Style`\n",
        "chart = alt.Chart(melted_df).mark_boxplot().encode(\n",
        "    x=alt.X('Body Style', sort='x', title='Body Style'),\n",
        "    y=alt.Y('value', title='Car Price'),\n",
        "    color='Body Style',\n",
        "    column='Transmission'\n",
        ").properties(title='Car Price Distribution by Body Style and Transmission').interactive()\n",
        "\n"
      ],
      "metadata": {
        "id": "KiHvaN44lR_V"
      },
      "execution_count": 42,
      "outputs": []
    },
    {
      "cell_type": "code",
      "source": [
        "import altair as alt\n",
        "\n",
        "# Create a box plot of `value` for each `Body Style`\n",
        "chart = alt.Chart(melted_df).mark_boxplot().encode(\n",
        "    x=alt.X('Body Style', sort='x', title='Body Style'),\n",
        "    y=alt.Y('value', title='Car Price ($)'),\n",
        "    color='Body Style',\n",
        "    column=alt.Column('Transmission', title='Transmission Type')\n",
        ").properties(title='Car Price Distribution by Body Style and Transmission')"
      ],
      "metadata": {
        "id": "U0o341dDmyfq"
      },
      "execution_count": 43,
      "outputs": []
    },
    {
      "cell_type": "code",
      "source": [
        "import altair as alt\n",
        "\n",
        "# Create a box plot of `value` for each `Body Style`\n",
        "chart = alt.Chart(melted_df).mark_boxplot().encode(\n",
        "    x=alt.X('Body Style', sort='x', title='Body Style'),\n",
        "    y=alt.Y('value', title='Car Price ($)'),\n",
        "    color='Body Style',\n",
        "    column=alt.Column('Transmission', title='Transmission Type')\n",
        ").properties(title='Car Price Distribution by Body Style and Transmission')\n"
      ],
      "metadata": {
        "id": "VH8fpoDam4zL"
      },
      "execution_count": 44,
      "outputs": []
    },
    {
      "cell_type": "code",
      "source": [
        "import altair as alt\n",
        "\n",
        "# Create a box plot of `value` for each `Body Style`\n",
        "chart = alt.Chart(melted_df).mark_boxplot().encode(\n",
        "    x=alt.X('Body Style', sort='x', title='Body Style'),\n",
        "    y=alt.Y('value', title='Car Price ($)'),\n",
        "    color='Body Style',\n",
        "    column=alt.Column('Transmission', title='Transmission Type')\n",
        ").properties(title='Car Price Distribution by Body Style and Transmission')"
      ],
      "metadata": {
        "id": "VpwgAheAm-3y"
      },
      "execution_count": 45,
      "outputs": []
    },
    {
      "cell_type": "markdown",
      "source": [
        "14. What is the correlation between car price, engine size, and annual income of customers, and how do these features interact?"
      ],
      "metadata": {
        "id": "lSlZndknnKhW"
      }
    },
    {
      "cell_type": "code",
      "source": [
        "# Make a deep copy of the original DataFrame `df_car_sale`\n",
        "df_analysis = df_car_sale.copy(deep=True)\n",
        "\n",
        "# Replace the values in the `Engine` column\n",
        "df_analysis['Engine'] = df_analysis['Engine'].replace({'Overhead Camshaft': 0, 'DoubleÂ\\xa0Overhead Camshaft': 1})\n",
        "\n",
        "# Calculate the correlation matrix\n",
        "corr_matrix = df_analysis[['Price ($)', 'Engine', 'Annual Income']].corr()\n",
        "\n",
        "# Print the results\n",
        "print(corr_matrix.to_markdown(numalign=\"left\", stralign=\"left\"))"
      ],
      "metadata": {
        "colab": {
          "base_uri": "https://localhost:8080/"
        },
        "id": "8mvXbwnqnRFM",
        "outputId": "9a61d3f1-f671-4aa3-da2d-6374dbe07cb3"
      },
      "execution_count": 46,
      "outputs": [
        {
          "output_type": "stream",
          "name": "stdout",
          "text": [
            "|               | Price ($)   | Engine     | Annual Income   |\n",
            "|:--------------|:------------|:-----------|:----------------|\n",
            "| Price ($)     | 1           | 0.0112713  | 0.012065        |\n",
            "| Engine        | 0.0112713   | 1          | 0.00659797      |\n",
            "| Annual Income | 0.012065    | 0.00659797 | 1               |\n"
          ]
        },
        {
          "output_type": "stream",
          "name": "stderr",
          "text": [
            "<ipython-input-46-fb58df263f14>:5: FutureWarning: Downcasting behavior in `replace` is deprecated and will be removed in a future version. To retain the old behavior, explicitly call `result.infer_objects(copy=False)`. To opt-in to the future behavior, set `pd.set_option('future.no_silent_downcasting', True)`\n",
            "  df_analysis['Engine'] = df_analysis['Engine'].replace({'Overhead Camshaft': 0, 'DoubleÂ\\xa0Overhead Camshaft': 1})\n"
          ]
        }
      ]
    },
    {
      "cell_type": "markdown",
      "source": [
        "15. How does the average car price vary across different car models and engine types?"
      ],
      "metadata": {
        "id": "cOo6JFK4pXyb"
      }
    },
    {
      "cell_type": "code",
      "source": [
        "# Group the data by `Model` and `Engine` columns, and compute the mean `Price ($)` for each group\n",
        "average_prices = df_car_sale.groupby(['Model', 'Engine'])['Price ($)'].mean()\n",
        "\n",
        "# Sort the aggregated data in descending order of `Price ($)`\n",
        "average_prices = average_prices.sort_values(ascending=False)\n",
        "\n",
        "# Display the first 5 rows and all columns by `average_prices.head()`\n",
        "print(average_prices.head().to_markdown(index=False, numalign=\"left\", stralign=\"left\"))\n",
        "\n",
        "# Print the column names and their data types\n",
        "print(average_prices.info())\n",
        "import altair as alt\n",
        "\n",
        "# Create a heatmap of `average_prices` with `Model` on the x-axis and `Engine` on the y-axis.\n",
        "base = alt.Chart(average_prices.reset_index()).mark_rect().encode(\n",
        "    x=alt.X('Model', title='Car Model'),\n",
        "    y=alt.Y('Engine', title='Engine Type'),\n",
        "    color=alt.Color(\n",
        "        'Price ($)',\n",
        "        # Use a sequential color scheme.\n",
        "        scale=alt.Scale(range='heatmap')\n",
        "    ),\n",
        "    tooltip=['Model', 'Engine', 'Price ($)']\n",
        ").properties(title='Heatmap of Average Price ($) by Model and Engine Type')\n",
        "\n",
        "# Labels for the heatmap.\n",
        "text = base.mark_text(baseline='middle').encode(\n",
        "    color=alt.value('black'),\n",
        "    text='Price ($):Q'\n",
        ")\n",
        "\n",
        "chart = base + text"
      ],
      "metadata": {
        "colab": {
          "base_uri": "https://localhost:8080/"
        },
        "id": "JoDZ_dwepoQF",
        "outputId": "2da4181b-787d-4133-e9ff-f99d7dbb270b"
      },
      "execution_count": 24,
      "outputs": [
        {
          "output_type": "stream",
          "name": "stdout",
          "text": [
            "| Price ($)   |\n",
            "|:------------|\n",
            "| 61074.8     |\n",
            "| 61064.1     |\n",
            "| 61039.8     |\n",
            "| 56836.9     |\n",
            "| 54037.5     |\n",
            "<class 'pandas.core.series.Series'>\n",
            "MultiIndex: 261 entries, ('SC', 'Overhead Camshaft') to ('Mirage', 'DoubleÂ\\xa0Overhead Camshaft')\n",
            "Series name: Price ($)\n",
            "Non-Null Count  Dtype  \n",
            "--------------  -----  \n",
            "261 non-null    float64\n",
            "dtypes: float64(1)\n",
            "memory usage: 4.1+ KB\n",
            "None\n"
          ]
        }
      ]
    },
    {
      "cell_type": "code",
      "source": [
        "from google.colab import files\n",
        "\n",
        "\n",
        "uploaded = files.upload()"
      ],
      "metadata": {
        "colab": {
          "base_uri": "https://localhost:8080/",
          "height": 73
        },
        "id": "UJqlFHKOp_D0",
        "outputId": "dcd79d94-d6a1-4d62-ad00-f6d799fae03b"
      },
      "execution_count": 5,
      "outputs": [
        {
          "output_type": "display_data",
          "data": {
            "text/plain": [
              "<IPython.core.display.HTML object>"
            ],
            "text/html": [
              "\n",
              "     <input type=\"file\" id=\"files-b62761cb-8119-486e-8c6b-35ae197d34e1\" name=\"files[]\" multiple disabled\n",
              "        style=\"border:none\" />\n",
              "     <output id=\"result-b62761cb-8119-486e-8c6b-35ae197d34e1\">\n",
              "      Upload widget is only available when the cell has been executed in the\n",
              "      current browser session. Please rerun this cell to enable.\n",
              "      </output>\n",
              "      <script>// Copyright 2017 Google LLC\n",
              "//\n",
              "// Licensed under the Apache License, Version 2.0 (the \"License\");\n",
              "// you may not use this file except in compliance with the License.\n",
              "// You may obtain a copy of the License at\n",
              "//\n",
              "//      http://www.apache.org/licenses/LICENSE-2.0\n",
              "//\n",
              "// Unless required by applicable law or agreed to in writing, software\n",
              "// distributed under the License is distributed on an \"AS IS\" BASIS,\n",
              "// WITHOUT WARRANTIES OR CONDITIONS OF ANY KIND, either express or implied.\n",
              "// See the License for the specific language governing permissions and\n",
              "// limitations under the License.\n",
              "\n",
              "/**\n",
              " * @fileoverview Helpers for google.colab Python module.\n",
              " */\n",
              "(function(scope) {\n",
              "function span(text, styleAttributes = {}) {\n",
              "  const element = document.createElement('span');\n",
              "  element.textContent = text;\n",
              "  for (const key of Object.keys(styleAttributes)) {\n",
              "    element.style[key] = styleAttributes[key];\n",
              "  }\n",
              "  return element;\n",
              "}\n",
              "\n",
              "// Max number of bytes which will be uploaded at a time.\n",
              "const MAX_PAYLOAD_SIZE = 100 * 1024;\n",
              "\n",
              "function _uploadFiles(inputId, outputId) {\n",
              "  const steps = uploadFilesStep(inputId, outputId);\n",
              "  const outputElement = document.getElementById(outputId);\n",
              "  // Cache steps on the outputElement to make it available for the next call\n",
              "  // to uploadFilesContinue from Python.\n",
              "  outputElement.steps = steps;\n",
              "\n",
              "  return _uploadFilesContinue(outputId);\n",
              "}\n",
              "\n",
              "// This is roughly an async generator (not supported in the browser yet),\n",
              "// where there are multiple asynchronous steps and the Python side is going\n",
              "// to poll for completion of each step.\n",
              "// This uses a Promise to block the python side on completion of each step,\n",
              "// then passes the result of the previous step as the input to the next step.\n",
              "function _uploadFilesContinue(outputId) {\n",
              "  const outputElement = document.getElementById(outputId);\n",
              "  const steps = outputElement.steps;\n",
              "\n",
              "  const next = steps.next(outputElement.lastPromiseValue);\n",
              "  return Promise.resolve(next.value.promise).then((value) => {\n",
              "    // Cache the last promise value to make it available to the next\n",
              "    // step of the generator.\n",
              "    outputElement.lastPromiseValue = value;\n",
              "    return next.value.response;\n",
              "  });\n",
              "}\n",
              "\n",
              "/**\n",
              " * Generator function which is called between each async step of the upload\n",
              " * process.\n",
              " * @param {string} inputId Element ID of the input file picker element.\n",
              " * @param {string} outputId Element ID of the output display.\n",
              " * @return {!Iterable<!Object>} Iterable of next steps.\n",
              " */\n",
              "function* uploadFilesStep(inputId, outputId) {\n",
              "  const inputElement = document.getElementById(inputId);\n",
              "  inputElement.disabled = false;\n",
              "\n",
              "  const outputElement = document.getElementById(outputId);\n",
              "  outputElement.innerHTML = '';\n",
              "\n",
              "  const pickedPromise = new Promise((resolve) => {\n",
              "    inputElement.addEventListener('change', (e) => {\n",
              "      resolve(e.target.files);\n",
              "    });\n",
              "  });\n",
              "\n",
              "  const cancel = document.createElement('button');\n",
              "  inputElement.parentElement.appendChild(cancel);\n",
              "  cancel.textContent = 'Cancel upload';\n",
              "  const cancelPromise = new Promise((resolve) => {\n",
              "    cancel.onclick = () => {\n",
              "      resolve(null);\n",
              "    };\n",
              "  });\n",
              "\n",
              "  // Wait for the user to pick the files.\n",
              "  const files = yield {\n",
              "    promise: Promise.race([pickedPromise, cancelPromise]),\n",
              "    response: {\n",
              "      action: 'starting',\n",
              "    }\n",
              "  };\n",
              "\n",
              "  cancel.remove();\n",
              "\n",
              "  // Disable the input element since further picks are not allowed.\n",
              "  inputElement.disabled = true;\n",
              "\n",
              "  if (!files) {\n",
              "    return {\n",
              "      response: {\n",
              "        action: 'complete',\n",
              "      }\n",
              "    };\n",
              "  }\n",
              "\n",
              "  for (const file of files) {\n",
              "    const li = document.createElement('li');\n",
              "    li.append(span(file.name, {fontWeight: 'bold'}));\n",
              "    li.append(span(\n",
              "        `(${file.type || 'n/a'}) - ${file.size} bytes, ` +\n",
              "        `last modified: ${\n",
              "            file.lastModifiedDate ? file.lastModifiedDate.toLocaleDateString() :\n",
              "                                    'n/a'} - `));\n",
              "    const percent = span('0% done');\n",
              "    li.appendChild(percent);\n",
              "\n",
              "    outputElement.appendChild(li);\n",
              "\n",
              "    const fileDataPromise = new Promise((resolve) => {\n",
              "      const reader = new FileReader();\n",
              "      reader.onload = (e) => {\n",
              "        resolve(e.target.result);\n",
              "      };\n",
              "      reader.readAsArrayBuffer(file);\n",
              "    });\n",
              "    // Wait for the data to be ready.\n",
              "    let fileData = yield {\n",
              "      promise: fileDataPromise,\n",
              "      response: {\n",
              "        action: 'continue',\n",
              "      }\n",
              "    };\n",
              "\n",
              "    // Use a chunked sending to avoid message size limits. See b/62115660.\n",
              "    let position = 0;\n",
              "    do {\n",
              "      const length = Math.min(fileData.byteLength - position, MAX_PAYLOAD_SIZE);\n",
              "      const chunk = new Uint8Array(fileData, position, length);\n",
              "      position += length;\n",
              "\n",
              "      const base64 = btoa(String.fromCharCode.apply(null, chunk));\n",
              "      yield {\n",
              "        response: {\n",
              "          action: 'append',\n",
              "          file: file.name,\n",
              "          data: base64,\n",
              "        },\n",
              "      };\n",
              "\n",
              "      let percentDone = fileData.byteLength === 0 ?\n",
              "          100 :\n",
              "          Math.round((position / fileData.byteLength) * 100);\n",
              "      percent.textContent = `${percentDone}% done`;\n",
              "\n",
              "    } while (position < fileData.byteLength);\n",
              "  }\n",
              "\n",
              "  // All done.\n",
              "  yield {\n",
              "    response: {\n",
              "      action: 'complete',\n",
              "    }\n",
              "  };\n",
              "}\n",
              "\n",
              "scope.google = scope.google || {};\n",
              "scope.google.colab = scope.google.colab || {};\n",
              "scope.google.colab._files = {\n",
              "  _uploadFiles,\n",
              "  _uploadFilesContinue,\n",
              "};\n",
              "})(self);\n",
              "</script> "
            ]
          },
          "metadata": {}
        },
        {
          "output_type": "stream",
          "name": "stdout",
          "text": [
            "Saving amazon.csv to amazon.csv\n"
          ]
        }
      ]
    },
    {
      "cell_type": "markdown",
      "source": [
        "1. What is the average rating for each product category?"
      ],
      "metadata": {
        "id": "pi7TW_LKsOJ9"
      }
    },
    {
      "cell_type": "code",
      "source": [
        "import pandas as pd\n",
        "\n",
        "pd.set_option('display.max_rows', None)\n",
        "pd.set_option('display.max_columns', None)\n",
        "\n",
        "# Read the CSV file into a DataFrame\n",
        "df_amazon = pd.read_csv('amazon.csv')\n",
        "\n",
        "# Display the first 5 rows\n",
        "print(df_amazon.head().to_markdown(index=False, numalign=\"left\", stralign=\"left\"))\n",
        "\n",
        "# Print the column names and their data types\n",
        "print(df_amazon.info())\n",
        "# Convert 'rating' to numeric and handle missing values\n",
        "df_amazon['rating'] = pd.to_numeric(df_amazon['rating'], errors='coerce')\n",
        "# Calculate the average `rating` for each `category` type\n",
        "average_ratings = df_amazon.groupby('category')['rating'].mean()\n",
        "\n",
        "# Rename the column name from `rating` to `Average Rating`\n",
        "average_ratings = average_ratings.rename('Average Rating')\n",
        "\n",
        "# Sort the results in descending order of `Average Rating`\n",
        "average_ratings = average_ratings.sort_values(ascending=False)\n",
        "\n",
        "# Display the results\n",
        "print(average_ratings.to_markdown(numalign=\"left\", stralign=\"left\"))\n",
        "import numpy as np\n",
        "\n",
        "# Get all unique non-numeric values from `rating`\n",
        "non_numeric_rating_value = df_amazon[pd.to_numeric(df_amazon['rating'], errors='coerce').isna()]['rating'].unique()\n",
        "\n",
        "# Check the number of unique non-numeric values in `rating`\n",
        "if len(non_numeric_rating_value) > 20:\n",
        "  # If there are too many unique values, sample 20 of them\n",
        "  print(f\"Non-numeric values in `rating`: {np.random.choice(non_numeric_rating_value, 20, replace=False)}\")\n",
        "else:\n",
        "  # Otherwise print all unique non-numeric values from `rating`\n",
        "  print(f\"Non-numeric values in `rating`: {non_numeric_rating_value}\")\n",
        "  # Drop the rows where the value in `rating` is equal to '|'\n",
        "df_amazon = df_amazon[df_amazon['rating'] != '|']\n",
        "\n",
        "# Convert the `rating` column to numeric\n",
        "df_amazon['rating'] = pd.to_numeric(df_amazon['rating'])\n",
        "\n",
        "# Calculate the average `rating` for each `category` type\n",
        "average_ratings = df_amazon.groupby('category')['rating'].mean()\n",
        "\n",
        "# Rename the column name from `rating` to `Average Rating`\n",
        "average_ratings = average_ratings.rename('Average Rating')\n",
        "\n",
        "# Sort the results in descending order of `Average Rating`\n",
        "average_ratings = average_ratings.sort_values(ascending=False)\n",
        "\n",
        "# Display the results\n",
        "print(average_ratings.to_markdown(numalign=\"left\", stralign=\"left\"))"
      ],
      "metadata": {
        "colab": {
          "base_uri": "https://localhost:8080/"
        },
        "id": "sBKmkoMteXBg",
        "outputId": "79ed50f9-0856-47e0-814a-b7bc27f90e00"
      },
      "execution_count": 25,
      "outputs": [
        {
          "output_type": "stream",
          "name": "stdout",
          "text": [
            "| product_id   | product_name                                                                                                                                                                                            | category                                                                          | discounted_price   | actual_price   | discount_percentage   | rating   | rating_count   | about_product                                                                                                                                                                                                                                                                                                                                                                                                                                                                                                                                                                                                                                                                                                                                                                                                                                                                                                                                                                                                                                                                                                                                 | user_id                                                                                                                                                                                                                                 | user_name                                                                                 | review_id                                                                                                              | review_title                                                                                                                                                                          | review_content                                                                                                                                                                                                                                                                                                                                                                                                                                                                                                                                                                                                                                                                                                                                                                                                                                                                                                                                                                                                                                                                                                                                                                                                                                                                                                                                                                                                                                                                                                                                                                                                                                                                                                                                                                                                                                                                                                                                                                                                                                                                                                                                                                                                                                                                                                                                                                                                                                                                                                                                      | img_link                                                                                              | product_link                                                                                                                     |\n",
            "|:-------------|:--------------------------------------------------------------------------------------------------------------------------------------------------------------------------------------------------------|:----------------------------------------------------------------------------------|:-------------------|:---------------|:----------------------|:---------|:---------------|:----------------------------------------------------------------------------------------------------------------------------------------------------------------------------------------------------------------------------------------------------------------------------------------------------------------------------------------------------------------------------------------------------------------------------------------------------------------------------------------------------------------------------------------------------------------------------------------------------------------------------------------------------------------------------------------------------------------------------------------------------------------------------------------------------------------------------------------------------------------------------------------------------------------------------------------------------------------------------------------------------------------------------------------------------------------------------------------------------------------------------------------------|:----------------------------------------------------------------------------------------------------------------------------------------------------------------------------------------------------------------------------------------|:------------------------------------------------------------------------------------------|:-----------------------------------------------------------------------------------------------------------------------|:--------------------------------------------------------------------------------------------------------------------------------------------------------------------------------------|:----------------------------------------------------------------------------------------------------------------------------------------------------------------------------------------------------------------------------------------------------------------------------------------------------------------------------------------------------------------------------------------------------------------------------------------------------------------------------------------------------------------------------------------------------------------------------------------------------------------------------------------------------------------------------------------------------------------------------------------------------------------------------------------------------------------------------------------------------------------------------------------------------------------------------------------------------------------------------------------------------------------------------------------------------------------------------------------------------------------------------------------------------------------------------------------------------------------------------------------------------------------------------------------------------------------------------------------------------------------------------------------------------------------------------------------------------------------------------------------------------------------------------------------------------------------------------------------------------------------------------------------------------------------------------------------------------------------------------------------------------------------------------------------------------------------------------------------------------------------------------------------------------------------------------------------------------------------------------------------------------------------------------------------------------------------------------------------------------------------------------------------------------------------------------------------------------------------------------------------------------------------------------------------------------------------------------------------------------------------------------------------------------------------------------------------------------------------------------------------------------------------------------------------------------|:------------------------------------------------------------------------------------------------------|:---------------------------------------------------------------------------------------------------------------------------------|\n",
            "| B07JW9H4J1   | Wayona Nylon Braided USB to Lightning Fast Charging and Data Sync Cable Compatible for iPhone 13, 12,11, X, 8, 7, 6, 5, iPad Air, Pro, Mini (3 FT Pack of 1, Grey)                                      | Computers&Accessories|Accessories&Peripherals|Cables&Accessories|Cables|USBCables | ₹399               | ₹1,099         | 64%                   | 4.2      | 24,269         | High Compatibility : Compatible With iPhone 12, 11, X/XsMax/Xr ,iPhone 8/8 Plus,iPhone 7/7 Plus,iPhone 6s/6s Plus,iPhone 6/6 Plus,iPhone 5/5s/5c/se,iPad Pro,iPad Air 1/2,iPad mini 1/2/3,iPod nano7,iPod touch and more apple devices.|Fast Charge&Data Sync : It can charge and sync simultaneously at a rapid speed, Compatible with any charging adaptor, multi-port charging station or power bank.|Durability : Durable nylon braided design with premium aluminum housing and toughened nylon fiber wound tightly around the cord lending it superior durability and adding a bit to its flexibility.|High Security Level : It is designed to fully protect your device from damaging excessive current.Copper core thick+Multilayer shielding, Anti-interference, Protective circuit equipment.|WARRANTY: 12 months warranty and friendly customer services, ensures the long-time enjoyment of your purchase. If you meet any question or problem, please don't hesitate to contact us.                                                                                                                                              | AG3D6O4STAQKAY2UVGEUV46KN35Q,AHMY5CWJMMK5BJRBBSNLYT3ONILA,AHCTC6ULH4XB6YHDY6PCH2R772LQ,AGYHHIERNXKA6P5T7CZLXKVPT7IQ,AG4OGOFWXJZTQ2HKYIOCOY3KXF2Q,AENGU523SXMOS7JPDTW52PNNVWGQ,AEQJHCVTNINBS4FKTBGQRQTGTE5Q,AFC3FFC5PKFF5PMA52S3VCHOZ5FQ | Manav,Adarsh gupta,Sundeep,S.Sayeed Ahmed,jaspreet singh,Khaja moin,Anand,S.ARUMUGAM      | R3HXWT0LRP0NMF,R2AJM3LFTLZHFO,R6AQJGUP6P86,R1KD19VHEDV0OR,R3C02RMYQMK6FC,R39GQRVBUZBWGY,R2K9EDOE15QIRJ,R3OI7YT648TL8I  | Satisfied,Charging is really fast,Value for money,Product review,Good quality,Good product,Good Product,As of now seems good                                                          | Looks durable Charging is fine tooNo complains,Charging is really fast, good product.,Till now satisfied with the quality.,This is a good product . The charging speed is slower than the original iPhone cable,Good quality, would recommend,https://m.media-amazon.com/images/W/WEBP_402378-T1/images/I/81---F1ZgHL._SY88.jpg,Product had worked well till date and was having no issue.Cable is also sturdy enough...Have asked for replacement and company is doing the same...,Value for money                                                                                                                                                                                                                                                                                                                                                                                                                                                                                                                                                                                                                                                                                                                                                                                                                                                                                                                                                                                                                                                                                                                                                                                                                                                                                                                                                                                                                                                                                                                                                                                                                                                                                                                                                                                                                                                                                                                                                                                                                                                 | https://m.media-amazon.com/images/W/WEBP_402378-T1/images/I/51UsScvHQNL._SX300_SY300_QL70_FMwebp_.jpg | https://www.amazon.in/Wayona-Braided-WN3LG1-Syncing-Charging/dp/B07JW9H4J1/ref=sr_1_1?qid=1672909124&s=electronics&sr=1-1        |\n",
            "| B098NS6PVG   | Ambrane Unbreakable 60W / 3A Fast Charging 1.5m Braided Type C Cable for Smartphones, Tablets, Laptops & other Type C devices, PD Technology, 480Mbps Data Sync, Quick Charge 3.0 (RCT15A, Black)       | Computers&Accessories|Accessories&Peripherals|Cables&Accessories|Cables|USBCables | ₹199               | ₹349           | 43%                   | 4        | 43,994         | Compatible with all Type C enabled devices, be it an android smartphone (Mi, Samsung, Oppo, Vivo, Realme, OnePlus, etc), tablet, laptop (Macbook, Chromebook, etc)|Supports Quick Charging (2.0/3.0)|Unbreakable – Made of special braided outer with rugged interior bindings, it is ultra-durable cable that won’t be affected by daily rough usage|Ideal Length – It has ideal length of 1.5 meters which is neither too short like your typical 1meter cable or too long like a 2meters cable|Supports maximum 3A fast charging and 480 Mbps data transfer speed|6 months manufacturer warranty from the date of purchase                                                                                                                                                                                                                                                                                                                                                                                                                                                                                                                 | AECPFYFQVRUWC3KGNLJIOREFP5LQ,AGYYVPDD7YG7FYNBXNGXZJT525AQ,AHONIZU3ICIEHQIGQ6R2VFRSBXOQ,AFPHD2CRPDZMWMBL7WXRSVYWS5JA,AEZ346GX3HJ4O4XNRPHCNHXQURMQ,AEPSWFPNECKO34PUC7I56ITGXR6Q,AHWVEHR5DYLVFTO2KF3IZATFQSWQ,AH4QT33M55677I7ISQOAKEQWACYQ | ArdKn,Nirbhay kumar,Sagar Viswanathan,Asp,Placeholder,BharanI,sonia,Niam                  | RGIQEG07R9HS2,R1SMWZQ86XIN8U,R2J3Y1WL29GWDE,RYGGS0M09S3KY,R17KQRUTAN5DKS,R3AAQGS6HP2QUK,R1HDNOG6TO2CCA,R3PHKXYA5AFEOU  | A Good Braided Cable for Your Type C Device,Good quality product from ambrane,Super cable,As,Good quality,Good product,its good,Good quality for the price but one issue with my unit | I ordered this cable to connect my phone to Android Auto of car. The cable is really strong and the connection ports are really well made. I already has a Micro USB cable from Ambrane and it's still in good shape. I connected my phone to the car using the cable and it got connected well and no issues. I also connected it to the charging port and yes it has Fast Charging support.,It quality is good at this price and the main thing is that i didn't ever thought that this cable will be so long it's good one and charging power is too good and also supports fast charging,Value for money, with extra length👍,Good, working fine,Product quality is good,Good,very good,Bought for my daughter's old phone.Brand new cable it was not charging, I already repacked and requested for replacement.I checked again, and there was some green colour paste/fungus inside the micro USB connector. I cleaned with an alcoholic and starts working again.Checked the ampere of charging speed got around 1400ma-1500ma - not bad, came with braided 1.5m long cable, pretty impressive for the price.Can't blame the manufacturer.But quality issues by the distributor, they might have stored in very humid place.                                                                                                                                                                                                                                                                                                                                                                                                                                                                                                                                                                                                                                                                                                                                                                                                                                                                                                                                                                                                                                                                                                                                                                                                                                                                                                                 | https://m.media-amazon.com/images/W/WEBP_402378-T2/images/I/31zOsqQOAOL._SY445_SX342_QL70_FMwebp_.jpg | https://www.amazon.in/Ambrane-Unbreakable-Charging-Braided-Cable/dp/B098NS6PVG/ref=sr_1_2?qid=1672909124&s=electronics&sr=1-2    |\n",
            "| B096MSW6CT   | Sounce Fast Phone Charging Cable & Data Sync USB Cable Compatible for iPhone 13, 12,11, X, 8, 7, 6, 5, iPad Air, Pro, Mini & iOS Devices                                                                | Computers&Accessories|Accessories&Peripherals|Cables&Accessories|Cables|USBCables | ₹199               | ₹1,899         | 90%                   | 3.9      | 7,928          | 【 Fast Charger& Data Sync】-With built-in safety proctections and four-core copper wires promote maximum signal quality and strength and enhance charging & data transfer speed with up to 480 mb/s transferring speed.|【 Compatibility】-Compatible with iPhone 13, 12,11, X, 8, 7, 6, 5, iPad Air, Pro, Mini & iOS devices.|【 Sturdy & Durable】-The jacket and enforced connector made of TPE and premium copper, are resistant to repeatedly bending and coiling.|【 Ultra High Quality】: According to the experimental results, the fishbone design can accept at least 20,000 bending and insertion tests for extra protection and durability. Upgraded 3D aluminum connector and exclusive laser welding technology, which to ensure the metal part won't break and also have a tighter connection which fits well even with a protective case on and will never loose connection.|【 Good After Sales Service】-Our friendly and reliable customer service will respond to you within 24 hours ! you can purchase with confidence,and every sale includes a 365-day worry-free Service to prove the importance we set on quality. | AGU3BBQ2V2DDAMOAKGFAWDDQ6QHA,AESFLDV2PT363T2AQLWQOWZ4N3OA,AHTPQRIMGUD4BYR5YIHBH3CCGEFQ,AEUVWXYP5LT7PZLLZENEO2NODPBQ,AHC7MPW55DOO6WNCOQVA2VHOD26A,AFDI6FRPFBTNBG7BAEB7JDJSMKDQ,AFQKCEEEKXCOHTDG4WUN3XPPHJQQ,AHKUUFNMBZIDLSSPA4FEHIO2EC7Q | Kunal,Himanshu,viswanath,sai niharka,saqib malik,Aashiq,Ramu Challa,Sanjay gupta          | R3J3EQQ9TZI5ZJ,R3E7WBGK7ID0KV,RWU79XKQ6I1QF,R25X4TBMPY91LX,R27OK7G99VK0TR,R207CYDCHJJTCJ,R3PCU8XMU173BT,R1IMONDOWRNU5V | Good speed for earlier versions,Good Product,Working good,Good for the price,Good,Worth for money,Working nice,it's a really nice product                                             | Not quite durable and sturdy,https://m.media-amazon.com/images/W/WEBP_402378-T1/images/I/71rIggrbUCL._SY88.jpg,Working good,https://m.media-amazon.com/images/W/WEBP_402378-T1/images/I/61bKp9YO6wL._SY88.jpg,Product,Very nice product,Working well,It's a really nice product                                                                                                                                                                                                                                                                                                                                                                                                                                                                                                                                                                                                                                                                                                                                                                                                                                                                                                                                                                                                                                                                                                                                                                                                                                                                                                                                                                                                                                                                                                                                                                                                                                                                                                                                                                                                                                                                                                                                                                                                                                                                                                                                                                                                                                                                     | https://m.media-amazon.com/images/W/WEBP_402378-T1/images/I/31IvNJZnmdL._SY445_SX342_QL70_FMwebp_.jpg | https://www.amazon.in/Sounce-iPhone-Charging-Compatible-Devices/dp/B096MSW6CT/ref=sr_1_3?qid=1672909124&s=electronics&sr=1-3     |\n",
            "| B08HDJ86NZ   | boAt Deuce USB 300 2 in 1 Type-C & Micro USB Stress Resistant, Tangle-Free, Sturdy Cable with 3A Fast Charging & 480mbps Data Transmission, 10000+ Bends Lifespan and Extended 1.5m Length(Martian Red) | Computers&Accessories|Accessories&Peripherals|Cables&Accessories|Cables|USBCables | ₹329               | ₹699           | 53%                   | 4.2      | 94,363         | The boAt Deuce USB 300 2 in 1 cable is compatible with smartphones, tablets, PC peripherals, Bluetooth speakers, power banks and all other devices with Type-C as well as Micro USB port|It ensures 3A fast charging and data transmissions with rapid sync at 480 mbps|The premium Nylon braided skin makes it sturdy and invincible against external damage|Its Aluminium alloy shell housing makes it last longer with 10000+ Bends Lifespan with extended frame protection for strain relief|The resilient and flexible design offers a tangle free experience seamlessly|Deuce USB 300 cable offers a perfect 1.5 meters in length for smooth & hassle-free user experience|2 years warranty from the date of purchase                                                                                                                                                                                                                                                                                                                                                                                                                   | AEWAZDZZJLQUYVOVGBEUKSLXHQ5A,AG5HTSFRRE6NL3M5SGCUQBP7YSCA,AH725ST5NW2Y4JZPKUNTIJCUK2BA,AHV3TXIFCJPMS4D5JATCEUR266MQ,AGWIGDEMFIIUAOXYY2QATNBSUGHA,AFSTSLQUV4EVEXWKBOLEFHL2H5YQ,AGAKDNBHY2FKX7I4ACRGILU7QL7A,AFNWJUWJRHCC6HN52KMG5AKZY37Q | Omkar dhale,JD,HEMALATHA,Ajwadh a.,amar singh chouhan,Ravi Siddan,Himanshu Goel,Udaykumar | R3EEUZKKK9J36I,R3HJVYCLYOY554,REDECAZ7AMPQC,R1CLH2ULIVG5U3,R2DMKIBGFKBD6R,RC89B5IAJUTR5,R3B3DDON5FH8DS,R13WAEJDI5RS36  | Good product,Good one,Nice,Really nice product,Very first time change,Good,Fine product but could be better,Very nice it's charging like jet                                          | Good product,long wire,Charges good,Nice,I bought this cable for Rs.339 worthy product for this price, i tested it in various charger adapters 33w and 18w it supports fast charging as well.,Good,Ok,I had got this at good price on sale on Amazon and product is useful with warranty but for warranty you need to go very far not practical for such a cost and mine micro to type c connector stopped working after few days only.,I like this product                                                                                                                                                                                                                                                                                                                                                                                                                                                                                                                                                                                                                                                                                                                                                                                                                                                                                                                                                                                                                                                                                                                                                                                                                                                                                                                                                                                                                                                                                                                                                                                                                                                                                                                                                                                                                                                                                                                                                                                                                                                                                         | https://m.media-amazon.com/images/I/41V5FtEWPkL._SX300_SY300_QL70_FMwebp_.jpg                         | https://www.amazon.in/Deuce-300-Resistant-Tangle-Free-Transmission/dp/B08HDJ86NZ/ref=sr_1_4?qid=1672909124&s=electronics&sr=1-4  |\n",
            "| B08CF3B7N1   | Portronics Konnect L 1.2M Fast Charging 3A 8 Pin USB Cable with Charge & Sync Function for iPhone, iPad (Grey)                                                                                          | Computers&Accessories|Accessories&Peripherals|Cables&Accessories|Cables|USBCables | ₹154               | ₹399           | 61%                   | 4.2      | 16,905         | [CHARGE & SYNC FUNCTION]- This cable comes with charging & Data sync function|[HIGH QUALITY MATERIAL]- TPE + Nylon Material to make sure that the life of the cable is enhanced significantly|[LONG CORD]- The Cable is extra thick 1.2 meter long, optimized for an easy use for your comfort at home or office|[MORE DURABLE]-This cable is unique interms of design and multi-use and is positioned to provide the best comfort and performance while using|[UNIVERSAL COMPATIBILITY]- Compatible with all devices like iPhone XS, X, XR, 8, 7, 6S, 6, 5S, iPad Pro, iPad mini and iPad Air                                                                                                                                                                                                                                                                                                                                                                                                                                                                                                                                                | AE3Q6KSUK5P75D5HFYHCRAOLODSA,AFUGIFH5ZAFXRDSZHM4QB2KPKFUQ,AFK4NJOLFSJGWLOJIUIAROJF6YVA,AFUOTYRFUXVPEBGIXVZZ7DR3CZUA,AFDLRSXKDZ6U3U3KD46SQLFGZQRA,AH5VLM66SIK7J3IRG4NY7XVOQ55A,AE3MQNNHHLUHXURL5S7IAR7JTGNQ,AFSEOFZY67MYC7UAJU264Z5NFTLA | rahuls6099,Swasat Borah,Ajay Wadke,Pranali,RVK,Bhargav,Durai Vignesh,Amazon Customer      | R1BP4L2HH9TFUP,R16PVJEXKV6QZS,R2UPDB81N66T4P,R3KK4GT934ST3I,RCFHMWUSBIJO,RDO7DACXMAJ84,R3A6MEZL3LY66Z,R1ESIEKPGAYA29   | As good as original,Decent,Good one for secondary use,Best quality,GOOD,Amazing product at a mind blowing price!,Nice Quality,Good product                                            | Bought this instead of original apple, does the work for 150rs, not as fast as apple charger but its a good option if you want cheap and good product, bought it for iPad pro 10.5 and it's working flawlessly, build quality is ok, its not like i am gonna hang my clothes on it and i want a very strong cable, even a braided cable stop working after a year, i have used both Anker and Apple store strong braided cable they all stop working after a year so please don't buy high end cables just for that instead choose a this one and even if it's stops working withing a year you only loose 150rs compares to 2000rs.UPDATE------------------------------------pin has stopped charging from one side, now i have to slip the pin to charge from other side, but i will update and let know for how long does it work,,It’s good. Not sure about durability as the pin area feels a bit fragile,Does not support apple carplaySo was little disappointed about thatOther than that cable is made up of very good quality,Best to buy,100% NOT FATHFUL,Writing this review post 10 months and 3 orders of the same product.Honestly Portronics Konnect L lightning cable works like magic with the original Apple charging brick.Seeing the price of the cable I initially hesitated buying as it was as low as ₹99/- with the offers and so I wasn’t sure if it would work well with my iPhone 12 or whether it would impact my iPhone’s battery health because all the other lightning cable brands were costing over ₹350/- like Wayona, Amazon Basics, etc.Earlier I was using Wayona Brand lightning cable with eventually frayed and stopped working.Charging Speed:Charges my iPhone fast enough almost similar compared to the original cable level when used with 12W Original Apple power adapter.Quality and Durability:Great quality braided cable and doesn’t tangle easily and can withstand day-to-day usage.L-Shaped pin:This is very innovative by Portronics and it makes sure the cable doesn’t get damaged even if used while charging.CarPlay and Data Sync:Works smoothly with CarPlay and syncs data effortlessly.PS: I have used this cable only with the Original Apple Charging Brick and extremely satisfied with its performance.,Better than I expect the product I like that Quality and I plan to buy same type cable come with usb C to Lighting cable for emergency purpose that much I love this cable. Buy for this cable only emergency uses only since Good one,Good product and value for money | https://m.media-amazon.com/images/W/WEBP_402378-T2/images/I/31VzNhhqifL._SX300_SY300_QL70_FMwebp_.jpg | https://www.amazon.in/Portronics-Konnect-POR-1080-Charging-Function/dp/B08CF3B7N1/ref=sr_1_5?qid=1672909124&s=electronics&sr=1-5 |\n",
            "<class 'pandas.core.frame.DataFrame'>\n",
            "RangeIndex: 1465 entries, 0 to 1464\n",
            "Data columns (total 16 columns):\n",
            " #   Column               Non-Null Count  Dtype \n",
            "---  ------               --------------  ----- \n",
            " 0   product_id           1465 non-null   object\n",
            " 1   product_name         1465 non-null   object\n",
            " 2   category             1465 non-null   object\n",
            " 3   discounted_price     1465 non-null   object\n",
            " 4   actual_price         1465 non-null   object\n",
            " 5   discount_percentage  1465 non-null   object\n",
            " 6   rating               1465 non-null   object\n",
            " 7   rating_count         1463 non-null   object\n",
            " 8   about_product        1465 non-null   object\n",
            " 9   user_id              1465 non-null   object\n",
            " 10  user_name            1465 non-null   object\n",
            " 11  review_id            1465 non-null   object\n",
            " 12  review_title         1465 non-null   object\n",
            " 13  review_content       1465 non-null   object\n",
            " 14  img_link             1465 non-null   object\n",
            " 15  product_link         1465 non-null   object\n",
            "dtypes: object(16)\n",
            "memory usage: 183.2+ KB\n",
            "None\n",
            "| category                                                                                                                | Average Rating   |\n",
            "|:------------------------------------------------------------------------------------------------------------------------|:-----------------|\n",
            "| Computers&Accessories|Tablets                                                                                           | 4.6              |\n",
            "| Computers&Accessories|NetworkingDevices|NetworkAdapters|PowerLANAdapters                                                | 4.5              |\n",
            "| Electronics|Cameras&Photography|Accessories|Film                                                                        | 4.5              |\n",
            "| Electronics|HomeAudio|MediaStreamingDevices|StreamingClients                                                            | 4.5              |\n",
            "| OfficeProducts|OfficeElectronics|Calculators|Basic                                                                      | 4.5              |\n",
            "| Home&Kitchen|Kitchen&HomeAppliances|Coffee,Tea&Espresso|CoffeePresses                                                   | 4.5              |\n",
            "| Electronics|PowerAccessories|SurgeProtectors                                                                            | 4.5              |\n",
            "| HomeImprovement|Electrical|CordManagement                                                                               | 4.5              |\n",
            "| Home&Kitchen|CraftMaterials|PaintingMaterials                                                                           | 4.5              |\n",
            "| Computers&Accessories|Components|Memory                                                                                 | 4.5              |\n",
            "| Home&Kitchen|Kitchen&HomeAppliances|SmallKitchenAppliances|SmallApplianceParts&Accessories                              | 4.5              |\n",
            "| Electronics|Mobiles&Accessories|MobileAccessories|Maintenance,Upkeep&Repairs|ScreenProtectors                           | 4.47143          |\n",
            "| Home&Kitchen|Kitchen&HomeAppliances|SmallKitchenAppliances|DeepFatFryers|AirFryers                                      | 4.46             |\n",
            "| OfficeProducts|OfficeElectronics|Calculators|Scientific                                                                 | 4.45             |\n",
            "| Home&Kitchen|CraftMaterials|PaintingMaterials|Paints                                                                    | 4.43333          |\n",
            "| Electronics|GeneralPurposeBatteries&BatteryChargers|DisposableBatteries                                                 | 4.41429          |\n",
            "| Computers&Accessories|ExternalDevices&DataStorage|ExternalSolidStateDrives                                              | 4.4              |\n",
            "| Electronics|Accessories|MemoryCards|SecureDigitalCards                                                                  | 4.4              |\n",
            "| Home&Kitchen|Kitchen&HomeAppliances|SmallKitchenAppliances                                                              | 4.4              |\n",
            "| Home&Kitchen|Kitchen&HomeAppliances|SmallKitchenAppliances|RotiMakers                                                   | 4.4              |\n",
            "| Electronics|Cameras&Photography|Accessories|Tripods&Monopods|CompleteTripodUnits                                        | 4.4              |\n",
            "| Home&Kitchen|Kitchen&HomeAppliances|SmallKitchenAppliances|Juicers|ColdPressJuicers                                     | 4.4              |\n",
            "| Electronics|HomeAudio|Accessories|Adapters                                                                              | 4.4              |\n",
            "| OfficeProducts|OfficePaperProducts|Paper|Stationery|Notebooks,WritingPads&Diaries|WireboundNotebooks                    | 4.4              |\n",
            "| Electronics|Mobiles&Accessories|MobileAccessories|Décor|PhoneCharms                                                     | 4.4              |\n",
            "| Computers&Accessories|Accessories&Peripherals|Cables&Accessories|Cables|EthernetCables                                  | 4.4              |\n",
            "| Home&Kitchen|CraftMaterials|DrawingMaterials|DrawingMedia|Pens                                                          | 4.4              |\n",
            "| Computers&Accessories|Accessories&Peripherals|Cables&Accessories|Cables|DVICables                                       | 4.4              |\n",
            "| OfficeProducts|OfficeElectronics|Calculators|Financial&Business                                                         | 4.4              |\n",
            "| Electronics|HomeTheater,TV&Video|Accessories|Cables|SpeakerCables                                                       | 4.4              |\n",
            "| Computers&Accessories|Components|InternalSolidStateDrives                                                               | 4.4              |\n",
            "| Computers&Accessories|ExternalDevices&DataStorage|ExternalHardDisks                                                     | 4.4              |\n",
            "| Computers&Accessories|Accessories&Peripherals|PCGamingPeripherals|GamingMice                                            | 4.38333          |\n",
            "| Electronics|GeneralPurposeBatteries&BatteryChargers                                                                     | 4.375            |\n",
            "| Computers&Accessories|Accessories&Peripherals|Keyboards,Mice&InputDevices|Keyboard&MiceAccessories|MousePads            | 4.375            |\n",
            "| OfficeProducts|OfficePaperProducts|Paper|Stationery|Notebooks,WritingPads&Diaries|CompositionNotebooks                  | 4.37143          |\n",
            "| Computers&Accessories|Accessories&Peripherals|PCGamingPeripherals|GamingKeyboards                                       | 4.36667          |\n",
            "| Electronics|Cameras&Photography|Accessories|Tripods&Monopods|Tabletop&TravelTripods                                     | 4.35             |\n",
            "| Home&Kitchen|Kitchen&HomeAppliances|SmallKitchenAppliances|Pop-upToasters                                               | 4.33333          |\n",
            "| Computers&Accessories|Accessories&Peripherals|HardDiskBags                                                              | 4.33333          |\n",
            "| Electronics|Accessories|MemoryCards|MicroSD                                                                             | 4.33077          |\n",
            "| Electronics|HomeTheater,TV&Video|Accessories|Cables|RCACables                                                           | 4.3              |\n",
            "| Electronics|Cameras&Photography|Accessories|PhotoStudio&Lighting|PhotoBackgroundAccessories|BackgroundSupports          | 4.3              |\n",
            "| Home&Kitchen|Kitchen&HomeAppliances|SmallKitchenAppliances|DigitalKitchenScales|DigitalScales                           | 4.3              |\n",
            "| Electronics|Mobiles&Accessories|MobileAccessories|Mounts|HandlebarMounts                                                | 4.3              |\n",
            "| Home&Kitchen|CraftMaterials|DrawingMaterials|DrawingMedia|Pencils|WoodenPencils                                         | 4.3              |\n",
            "| Electronics|Headphones,Earbuds&Accessories|Cases                                                                        | 4.3              |\n",
            "| Computers&Accessories|Printers,Inks&Accessories|Inks,Toners&Cartridges|InkjetInkRefills&Kits                            | 4.3              |\n",
            "| Home&Kitchen|Heating,Cooling&AirQuality|AirConditioners|Split-SystemAirConditioners                                     | 4.3              |\n",
            "| Toys&Games|Arts&Crafts|Drawing&PaintingSupplies|ColouringPens&Markers                                                   | 4.3              |\n",
            "| OfficeProducts|OfficePaperProducts|Paper|Copy&PrintingPaper|ColouredPaper                                               | 4.3              |\n",
            "| OfficeProducts|OfficePaperProducts|Paper|Stationery|Notebooks,WritingPads&Diaries                                       | 4.3              |\n",
            "| OfficeProducts|OfficePaperProducts|Paper|Stationery|Pens,Pencils&WritingSupplies|Pens&Refills|RetractableBallpointPens  | 4.3              |\n",
            "| Home&Kitchen|Kitchen&HomeAppliances|SmallKitchenAppliances|StandMixers                                                  | 4.3              |\n",
            "| Home&Kitchen|Kitchen&HomeAppliances|SmallKitchenAppliances|SmallApplianceParts&Accessories|StandMixerAccessories        | 4.3              |\n",
            "| OfficeProducts|OfficePaperProducts|Paper|Stationery|Pens,Pencils&WritingSupplies|Pens&Refills|BottledInk                | 4.3              |\n",
            "| Computers&Accessories|Accessories&Peripherals|TabletAccessories|Bags,Cases&Sleeves|Cases                                | 4.3              |\n",
            "| Computers&Accessories|ExternalDevices&DataStorage|ExternalMemoryCardReaders                                             | 4.3              |\n",
            "| Computers&Accessories|Accessories&Peripherals|LaptopAccessories|NotebookComputerStands                                  | 4.3              |\n",
            "| Computers&Accessories|NetworkingDevices|NetworkAdapters|BluetoothAdapters                                               | 4.3              |\n",
            "| Computers&Accessories|Accessories&Peripherals|LaptopAccessories|CameraPrivacyCovers                                     | 4.3              |\n",
            "| Computers&Accessories|Accessories&Peripherals|LaptopAccessories                                                         | 4.3              |\n",
            "| Home&Kitchen|Kitchen&HomeAppliances|Vacuum,Cleaning&Ironing|Vacuums&FloorCare|VacuumAccessories|VacuumBags|HandheldBags | 4.3              |\n",
            "| Home&Kitchen|Kitchen&HomeAppliances|SmallKitchenAppliances|EggBoilers                                                   | 4.29091          |\n",
            "| Computers&Accessories|Accessories&Peripherals|Keyboards,Mice&InputDevices|Mice                                          | 4.2875           |\n",
            "| Home&Kitchen|Heating,Cooling&AirQuality|AirPurifiers|HEPAAirPurifiers                                                   | 4.275            |\n",
            "| Computers&Accessories|Accessories&Peripherals|PCGamingPeripherals|Gamepads                                              | 4.26667          |\n",
            "| Electronics|HomeTheater,TV&Video|SatelliteEquipment|SatelliteReceivers                                                  | 4.26667          |\n",
            "| Computers&Accessories|ExternalDevices&DataStorage|PenDrives                                                             | 4.26             |\n",
            "| Electronics|Mobiles&Accessories|MobileAccessories|Photo&VideoAccessories|SelfieSticks                                   | 4.26             |\n",
            "| Computers&Accessories|NetworkingDevices|Routers                                                                         | 4.25556          |\n",
            "| Electronics|HomeTheater,TV&Video|Accessories|Cables|HDMICables                                                          | 4.25417          |\n",
            "| Electronics|Mobiles&Accessories|MobileAccessories|Cables&Adapters|OTGAdapters                                           | 4.25             |\n",
            "| OfficeProducts|OfficePaperProducts|Paper|Stationery|Notebooks,WritingPads&Diaries|Notepads&MemoBooks                    | 4.25             |\n",
            "| Computers&Accessories|Monitors                                                                                          | 4.25             |\n",
            "| Home&Kitchen|Kitchen&HomeAppliances|Vacuum,Cleaning&Ironing|Vacuums&FloorCare|Vacuums|RoboticVacuums                    | 4.25             |\n",
            "| Computers&Accessories|Accessories&Peripherals|LaptopAccessories|Bags&Sleeves|LaptopSleeves&Slipcases                    | 4.25             |\n",
            "| Home&Kitchen|Kitchen&HomeAppliances|SmallKitchenAppliances|OvenToasterGrills                                            | 4.25             |\n",
            "| Computers&Accessories|Printers,Inks&Accessories|Inks,Toners&Cartridges|InkjetInkCartridges                              | 4.25             |\n",
            "| OfficeProducts|OfficePaperProducts|Paper|Stationery|Pens,Pencils&WritingSupplies|Pens&Refills|GelInkRollerballPens      | 4.25             |\n",
            "| Home&Kitchen|Kitchen&HomeAppliances|SmallKitchenAppliances|HandMixers                                                   | 4.23333          |\n",
            "| Electronics|HomeTheater,TV&Video|Televisions|SmartTelevisions                                                           | 4.20952          |\n",
            "| Electronics|Mobiles&Accessories|MobileAccessories|Cases&Covers|BasicCases                                               | 4.2              |\n",
            "| Electronics|HomeAudio|Speakers|SoundbarSpeakers                                                                         | 4.2              |\n",
            "| Computers&Accessories|NetworkingDevices|Repeaters&Extenders                                                             | 4.2              |\n",
            "| Home&Kitchen|HomeStorage&Organization|LaundryOrganization|LaundryBags                                                   | 4.2              |\n",
            "| Home&Kitchen|Kitchen&HomeAppliances|Coffee,Tea&Espresso|StovetopEspressoPots                                            | 4.2              |\n",
            "| Home&Kitchen|Kitchen&HomeAppliances|Vacuum,Cleaning&Ironing|PressureWashers,Steam&WindowCleaners                        | 4.2              |\n",
            "| Computers&Accessories|Components|InternalHardDrives                                                                     | 4.2              |\n",
            "| Electronics|Cameras&Photography|Accessories|Cleaners|CleaningKits                                                       | 4.2              |\n",
            "| Home&Kitchen|Kitchen&HomeAppliances|Coffee,Tea&Espresso|CoffeeMakerAccessories|MeasuringSpoons                          | 4.2              |\n",
            "| Computers&Accessories|Accessories&Peripherals|Audio&VideoAccessories|Webcams&VoIPEquipment|Webcams                      | 4.2              |\n",
            "| Computers&Accessories|Accessories&Peripherals|TabletAccessories|ScreenProtectors                                        | 4.18             |\n",
            "| Electronics|Mobiles&Accessories|MobileAccessories|Chargers|AutomobileChargers                                           | 4.18             |\n",
            "| Home&Kitchen|Kitchen&HomeAppliances|Vacuum,Cleaning&Ironing|Vacuums&FloorCare|Vacuums|CanisterVacuums                   | 4.175            |\n",
            "| Home&Kitchen|Kitchen&HomeAppliances|WaterPurifiers&Accessories|WaterFilters&Purifiers                                   | 4.175            |\n",
            "| Electronics|GeneralPurposeBatteries&BatteryChargers|RechargeableBatteries                                               | 4.16667          |\n",
            "| Electronics|Mobiles&Accessories|MobileAccessories|Décor                                                                 | 4.16             |\n",
            "| Electronics|Mobiles&Accessories|MobileAccessories|Stands                                                                | 4.16             |\n",
            "| Computers&Accessories|Accessories&Peripherals|Cables&Accessories|Cables|USBCables                                       | 4.15193          |\n",
            "| Computers&Accessories|Accessories&Peripherals|Adapters|USBtoUSBAdapters                                                 | 4.15             |\n",
            "| Home&Kitchen|HomeStorage&Organization|LaundryOrganization|IroningAccessories|SprayBottles                               | 4.15             |\n",
            "| OfficeProducts|OfficePaperProducts|Paper|Stationery|Pens,Pencils&WritingSupplies|Pens&Refills|LiquidInkRollerballPens   | 4.15             |\n",
            "| Electronics|Mobiles&Accessories|MobileAccessories|StylusPens                                                            | 4.15             |\n",
            "| Electronics|Mobiles&Accessories|MobileAccessories|Chargers|WallChargers                                                 | 4.14375          |\n",
            "| Home&Kitchen|Heating,Cooling&AirQuality|WaterHeaters&Geysers|StorageWaterHeaters                                        | 4.14167          |\n",
            "| Electronics|HomeTheater,TV&Video|Accessories|Cables|OpticalCables                                                       | 4.13333          |\n",
            "| Electronics|HomeTheater,TV&Video|Projectors                                                                             | 4.13333          |\n",
            "| OfficeProducts|OfficePaperProducts|Paper|Stationery|Pens,Pencils&WritingSupplies|Pens&Refills|StickBallpointPens        | 4.13333          |\n",
            "| Home&Kitchen|Kitchen&HomeAppliances|Vacuum,Cleaning&Ironing|Irons,Steamers&Accessories|Irons|DryIrons                   | 4.12917          |\n",
            "| Electronics|Mobiles&Accessories|MobileAccessories|Chargers|PowerBanks                                                   | 4.125            |\n",
            "| Computers&Accessories|Accessories&Peripherals|Keyboards,Mice&InputDevices|Keyboards                                     | 4.12             |\n",
            "| Home&Kitchen|Heating,Cooling&AirQuality|Fans|CeilingFans                                                                | 4.10909          |\n",
            "| Home&Kitchen|Kitchen&HomeAppliances|SmallKitchenAppliances|SandwichMakers                                               | 4.1              |\n",
            "| Home&Kitchen|Heating,Cooling&AirQuality|Fans|ExhaustFans                                                                | 4.1              |\n",
            "| Electronics|Mobiles&Accessories|Smartphones&BasicMobiles|Smartphones                                                    | 4.1              |\n",
            "| Computers&Accessories|Accessories&Peripherals|TabletAccessories|Stands                                                  | 4.1              |\n",
            "| Home&Kitchen|Heating,Cooling&AirQuality|Parts&Accessories|FanParts&Accessories                                          | 4.1              |\n",
            "| OfficeProducts|OfficePaperProducts|Paper|Stationery|Pens,Pencils&WritingSupplies|Pens&Refills|FountainPens              | 4.1              |\n",
            "| Computers&Accessories|Printers,Inks&Accessories|Inks,Toners&Cartridges|TonerCartridges                                  | 4.1              |\n",
            "| Computers&Accessories|Accessories&Peripherals|LaptopAccessories|CoolingPads                                             | 4.1              |\n",
            "| Electronics|Mobiles&Accessories|MobileAccessories|Photo&VideoAccessories|Flashes&SelfieLights|SelfieLights              | 4.1              |\n",
            "| Electronics|Mobiles&Accessories|MobileAccessories|Mounts|Shower&WallMounts                                              | 4.1              |\n",
            "| Electronics|Cameras&Photography|SecurityCameras|DomeCameras                                                             | 4.1              |\n",
            "| Home&Kitchen|Heating,Cooling&AirQuality|Fans|PedestalFans                                                               | 4.1              |\n",
            "| Computers&Accessories|Accessories&Peripherals|HardDriveAccessories|Caddies                                              | 4.1              |\n",
            "| Home&Kitchen|Kitchen&Dining|KitchenTools|ManualChoppers&Chippers|Choppers                                               | 4.1              |\n",
            "| Home&Kitchen|Kitchen&HomeAppliances|SmallKitchenAppliances|YogurtMakers                                                 | 4.1              |\n",
            "| Computers&Accessories|NetworkingDevices                                                                                 | 4.1              |\n",
            "| Computers&Accessories|NetworkingDevices|NetworkAdapters|WirelessUSBAdapters                                             | 4.09444          |\n",
            "| Home&Kitchen|Kitchen&HomeAppliances|Coffee,Tea&Espresso|DripCoffeeMachines                                              | 4.08             |\n",
            "| Home&Kitchen|Kitchen&HomeAppliances|SmallKitchenAppliances|DigitalKitchenScales                                         | 4.08             |\n",
            "| Home&Kitchen|Heating,Cooling&AirQuality|WaterHeaters&Geysers|ImmersionRods                                              | 4.07778          |\n",
            "| Electronics|HomeTheater,TV&Video|Televisions|StandardTelevisions                                                        | 4.06667          |\n",
            "| Computers&Accessories|Accessories&Peripherals|LaptopAccessories|Lapdesks                                                | 4.06429          |\n",
            "| Electronics|Headphones,Earbuds&Accessories|Headphones|On-Ear                                                            | 4.0625           |\n",
            "| Home&Kitchen|Kitchen&HomeAppliances|SmallKitchenAppliances|HandBlenders                                                 | 4.05789          |\n",
            "| Home&Kitchen|Heating,Cooling&AirQuality|WaterHeaters&Geysers|InstantWaterHeaters                                        | 4.05217          |\n",
            "| Home&Kitchen|Kitchen&HomeAppliances|SmallKitchenAppliances|InductionCooktop                                             | 4.05             |\n",
            "| Electronics|Cameras&Photography|Accessories|Tripods&Monopods|TripodLegs                                                 | 4.05             |\n",
            "| Computers&Accessories|Accessories&Peripherals|Keyboards,Mice&InputDevices|Keyboard&MouseSets                            | 4.05             |\n",
            "| Computers&Accessories|Accessories&Peripherals|Audio&VideoAccessories|PCSpeakers                                         | 4.05             |\n",
            "| Electronics|HomeAudio|Speakers|BluetoothSpeakers                                                                        | 4.05             |\n",
            "| Home&Kitchen|Kitchen&HomeAppliances|SmallKitchenAppliances|MiniFoodProcessors&Choppers                                  | 4.0375           |\n",
            "| Home&Kitchen|Kitchen&HomeAppliances|Vacuum,Cleaning&Ironing|Irons,Steamers&Accessories|LintShavers                      | 4.03636          |\n",
            "| Home&Kitchen|Kitchen&HomeAppliances|Vacuum,Cleaning&Ironing|Irons,Steamers&Accessories|Irons|SteamIrons                 | 4.03333          |\n",
            "| Home&Kitchen|Kitchen&HomeAppliances|WaterPurifiers&Accessories|WaterCartridges                                          | 4.03333          |\n",
            "| Electronics|HomeTheater,TV&Video|Accessories|TVMounts,Stands&Turntables|TVWall&CeilingMounts                            | 4.03333          |\n",
            "| Computers&Accessories|Accessories&Peripherals|Cables&Accessories|CableConnectionProtectors                              | 4.03333          |\n",
            "| Home&Kitchen|Kitchen&HomeAppliances|SmallKitchenAppliances|WaffleMakers&Irons                                           | 4.03333          |\n",
            "| Computers&Accessories|Accessories&Peripherals|PCGamingPeripherals|Headsets                                              | 4.03333          |\n",
            "| Home&Kitchen|Kitchen&HomeAppliances|Vacuum,Cleaning&Ironing|Vacuums&FloorCare|Vacuums|Wet-DryVacuums                    | 4.03333          |\n",
            "| Home&Kitchen|Kitchen&HomeAppliances|SmallKitchenAppliances|Kettles&HotWaterDispensers|ElectricKettles                   | 4.03158          |\n",
            "| Electronics|WearableTechnology|SmartWatches                                                                             | 4.025            |\n",
            "| Home&Kitchen|Kitchen&HomeAppliances|SmallKitchenAppliances|MixerGrinders                                                | 4.01111          |\n",
            "| Electronics|HomeAudio|Speakers|OutdoorSpeakers                                                                          | 4                |\n",
            "| Computers&Accessories|Laptops|TraditionalLaptops                                                                        | 4                |\n",
            "| Health&PersonalCare|HomeMedicalSupplies&Equipment|HealthMonitors|WeighingScales|DigitalBathroomScales                   | 4                |\n",
            "| Electronics|Headphones,Earbuds&Accessories|Headphones|Over-Ear                                                          | 4                |\n",
            "| HomeImprovement|Electrical|Adapters&Multi-Outlets                                                                       | 4                |\n",
            "| Electronics|HomeTheater,TV&Video|AVReceivers&Amplifiers                                                                 | 4                |\n",
            "| Electronics|HomeAudio|Accessories|SpeakerAccessories|Mounts                                                             | 4                |\n",
            "| Home&Kitchen|HomeStorage&Organization|LaundryOrganization|LaundryBaskets                                                | 3.99231          |\n",
            "| Computers&Accessories|Accessories&Peripherals|Keyboards,Mice&InputDevices|GraphicTablets                                | 3.98182          |\n",
            "| Computers&Accessories|Accessories&Peripherals|LaptopAccessories|LaptopChargers&PowerSupplies                            | 3.98             |\n",
            "| Electronics|Mobiles&Accessories|MobileAccessories|AutomobileAccessories|Cradles                                         | 3.96667          |\n",
            "| Home&Kitchen|Heating,Cooling&AirQuality|Humidifiers                                                                     | 3.96667          |\n",
            "| Home&Kitchen|Kitchen&HomeAppliances|SmallKitchenAppliances|Kettles&HotWaterDispensers|Kettle&ToasterSets                | 3.96154          |\n",
            "| Home&Kitchen|Kitchen&HomeAppliances|SmallKitchenAppliances|Rice&PastaCookers                                            | 3.96             |\n",
            "| Home&Kitchen|Heating,Cooling&AirQuality|Fans|TableFans                                                                  | 3.95             |\n",
            "| Home&Kitchen|Kitchen&HomeAppliances|Vacuum,Cleaning&Ironing|Vacuums&FloorCare|Vacuums|HandheldVacuums                   | 3.94286          |\n",
            "| Computers&Accessories|Accessories&Peripherals|USBGadgets|Lamps                                                          | 3.94             |\n",
            "| Computers&Accessories|Accessories&Peripherals|USBHubs                                                                   | 3.94             |\n",
            "| Home&Kitchen|Kitchen&HomeAppliances|WaterPurifiers&Accessories|WaterPurifierAccessories                                 | 3.91818          |\n",
            "| Electronics|Mobiles&Accessories|Smartphones&BasicMobiles|BasicMobiles                                                   | 3.91111          |\n",
            "| Electronics|Headphones,Earbuds&Accessories|Adapters                                                                     | 3.9              |\n",
            "| Computers&Accessories|Accessories&Peripherals|Cables&Accessories|Cables|SATACables                                      | 3.9              |\n",
            "| Home&Kitchen|CraftMaterials|Scrapbooking|Tape                                                                           | 3.9              |\n",
            "| Electronics|Mobiles&Accessories|MobileAccessories|Mounts|Bedstand&DeskMounts                                            | 3.9              |\n",
            "| Home&Kitchen|Kitchen&HomeAppliances|Coffee,Tea&Espresso|EspressoMachines                                                | 3.9              |\n",
            "| Electronics|HomeAudio|Speakers|MultimediaSpeakerSystems                                                                 | 3.9              |\n",
            "| Computers&Accessories|Accessories&Peripherals|UninterruptedPowerSupplies                                                | 3.9              |\n",
            "| MusicalInstruments|Microphones|Condenser                                                                                | 3.9              |\n",
            "| Home&Kitchen|Heating,Cooling&AirQuality|RoomHeaters                                                                     | 3.9              |\n",
            "| Electronics|Headphones,Earbuds&Accessories|Headphones|In-Ear                                                            | 3.89808          |\n",
            "| Home&Kitchen|Kitchen&HomeAppliances|SmallKitchenAppliances|JuicerMixerGrinders                                          | 3.89167          |\n",
            "| Home&Kitchen|Heating,Cooling&AirQuality|RoomHeaters|ElectricHeaters                                                     | 3.89             |\n",
            "| Home&Kitchen|Heating,Cooling&AirQuality|RoomHeaters|FanHeaters                                                          | 3.81             |\n",
            "| Electronics|Cameras&Photography|Flashes|Macro&RinglightFlashes                                                          | 3.8              |\n",
            "| Car&Motorbike|CarAccessories|InteriorAccessories|AirPurifiers&Ionizers                                                  | 3.8              |\n",
            "| Electronics|Headphones,Earbuds&Accessories|Earpads                                                                      | 3.8              |\n",
            "| Home&Kitchen|Kitchen&HomeAppliances|SmallKitchenAppliances|Mills&Grinders|WetGrinders                                   | 3.8              |\n",
            "| Electronics|HomeTheater,TV&Video|Accessories|RemoteControls                                                             | 3.8              |\n",
            "| Electronics|HomeAudio|Speakers|TowerSpeakers                                                                            | 3.8              |\n",
            "| Electronics|Cameras&Photography|Accessories|Batteries&Chargers|BatteryChargers                                          | 3.8              |\n",
            "| Electronics|Mobiles&Accessories|MobileAccessories|Photo&VideoAccessories|Tripods                                        | 3.8              |\n",
            "| Computers&Accessories|NetworkingDevices|DataCards&Dongles                                                               | 3.8              |\n",
            "| Home&Kitchen|Kitchen&HomeAppliances|Coffee,Tea&Espresso|MilkFrothers                                                    | 3.73333          |\n",
            "| Home&Kitchen|Kitchen&HomeAppliances|SmallKitchenAppliances|Juicers                                                      | 3.7              |\n",
            "| Home&Kitchen|Heating,Cooling&AirQuality|RoomHeaters|HeatConvectors                                                      | 3.7              |\n",
            "| Electronics|Cameras&Photography|VideoCameras                                                                            | 3.7              |\n",
            "| Home&Kitchen|Kitchen&HomeAppliances|SmallKitchenAppliances|VacuumSealers                                                | 3.67143          |\n",
            "| Computers&Accessories|Printers,Inks&Accessories|Printers                                                                | 3.66667          |\n",
            "| Home&Kitchen|Kitchen&HomeAppliances|SewingMachines&Accessories|Sewing&EmbroideryMachines                                | 3.65             |\n",
            "| Home&Kitchen|Heating,Cooling&AirQuality|RoomHeaters|HalogenHeaters                                                      | 3.6              |\n",
            "| Computers&Accessories|Printers,Inks&Accessories|Printers|InkjetPrinters                                                 | 3.6              |\n",
            "| Computers&Accessories|Accessories&Peripherals|Audio&VideoAccessories|PCMicrophones                                      | 3.6              |\n",
            "| Electronics|HomeTheater,TV&Video|Accessories|3DGlasses                                                                  | 3.5              |\n",
            "| Computers&Accessories|Accessories&Peripherals|Audio&VideoAccessories|PCHeadsets                                         | 3.5              |\n",
            "| Computers&Accessories|Accessories&Peripherals|Keyboards,Mice&InputDevices|Keyboard&MiceAccessories|DustCovers           | 3.4              |\n",
            "| Home&Kitchen|Kitchen&HomeAppliances|Coffee,Tea&Espresso|CoffeeGrinders|ElectricGrinders                                 | 3.3              |\n",
            "Non-numeric values in `rating`: [nan]\n",
            "| category                                                                                                                | Average Rating   |\n",
            "|:------------------------------------------------------------------------------------------------------------------------|:-----------------|\n",
            "| Computers&Accessories|Tablets                                                                                           | 4.6              |\n",
            "| Computers&Accessories|NetworkingDevices|NetworkAdapters|PowerLANAdapters                                                | 4.5              |\n",
            "| Electronics|Cameras&Photography|Accessories|Film                                                                        | 4.5              |\n",
            "| Electronics|HomeAudio|MediaStreamingDevices|StreamingClients                                                            | 4.5              |\n",
            "| OfficeProducts|OfficeElectronics|Calculators|Basic                                                                      | 4.5              |\n",
            "| Home&Kitchen|Kitchen&HomeAppliances|Coffee,Tea&Espresso|CoffeePresses                                                   | 4.5              |\n",
            "| Electronics|PowerAccessories|SurgeProtectors                                                                            | 4.5              |\n",
            "| HomeImprovement|Electrical|CordManagement                                                                               | 4.5              |\n",
            "| Home&Kitchen|CraftMaterials|PaintingMaterials                                                                           | 4.5              |\n",
            "| Computers&Accessories|Components|Memory                                                                                 | 4.5              |\n",
            "| Home&Kitchen|Kitchen&HomeAppliances|SmallKitchenAppliances|SmallApplianceParts&Accessories                              | 4.5              |\n",
            "| Electronics|Mobiles&Accessories|MobileAccessories|Maintenance,Upkeep&Repairs|ScreenProtectors                           | 4.47143          |\n",
            "| Home&Kitchen|Kitchen&HomeAppliances|SmallKitchenAppliances|DeepFatFryers|AirFryers                                      | 4.46             |\n",
            "| OfficeProducts|OfficeElectronics|Calculators|Scientific                                                                 | 4.45             |\n",
            "| Home&Kitchen|CraftMaterials|PaintingMaterials|Paints                                                                    | 4.43333          |\n",
            "| Electronics|GeneralPurposeBatteries&BatteryChargers|DisposableBatteries                                                 | 4.41429          |\n",
            "| Computers&Accessories|ExternalDevices&DataStorage|ExternalSolidStateDrives                                              | 4.4              |\n",
            "| Electronics|Accessories|MemoryCards|SecureDigitalCards                                                                  | 4.4              |\n",
            "| Home&Kitchen|Kitchen&HomeAppliances|SmallKitchenAppliances                                                              | 4.4              |\n",
            "| Home&Kitchen|Kitchen&HomeAppliances|SmallKitchenAppliances|RotiMakers                                                   | 4.4              |\n",
            "| Electronics|Cameras&Photography|Accessories|Tripods&Monopods|CompleteTripodUnits                                        | 4.4              |\n",
            "| Home&Kitchen|Kitchen&HomeAppliances|SmallKitchenAppliances|Juicers|ColdPressJuicers                                     | 4.4              |\n",
            "| Electronics|HomeAudio|Accessories|Adapters                                                                              | 4.4              |\n",
            "| OfficeProducts|OfficePaperProducts|Paper|Stationery|Notebooks,WritingPads&Diaries|WireboundNotebooks                    | 4.4              |\n",
            "| Electronics|Mobiles&Accessories|MobileAccessories|Décor|PhoneCharms                                                     | 4.4              |\n",
            "| Computers&Accessories|Accessories&Peripherals|Cables&Accessories|Cables|EthernetCables                                  | 4.4              |\n",
            "| Home&Kitchen|CraftMaterials|DrawingMaterials|DrawingMedia|Pens                                                          | 4.4              |\n",
            "| Computers&Accessories|Accessories&Peripherals|Cables&Accessories|Cables|DVICables                                       | 4.4              |\n",
            "| OfficeProducts|OfficeElectronics|Calculators|Financial&Business                                                         | 4.4              |\n",
            "| Electronics|HomeTheater,TV&Video|Accessories|Cables|SpeakerCables                                                       | 4.4              |\n",
            "| Computers&Accessories|Components|InternalSolidStateDrives                                                               | 4.4              |\n",
            "| Computers&Accessories|ExternalDevices&DataStorage|ExternalHardDisks                                                     | 4.4              |\n",
            "| Computers&Accessories|Accessories&Peripherals|PCGamingPeripherals|GamingMice                                            | 4.38333          |\n",
            "| Electronics|GeneralPurposeBatteries&BatteryChargers                                                                     | 4.375            |\n",
            "| Computers&Accessories|Accessories&Peripherals|Keyboards,Mice&InputDevices|Keyboard&MiceAccessories|MousePads            | 4.375            |\n",
            "| OfficeProducts|OfficePaperProducts|Paper|Stationery|Notebooks,WritingPads&Diaries|CompositionNotebooks                  | 4.37143          |\n",
            "| Computers&Accessories|Accessories&Peripherals|PCGamingPeripherals|GamingKeyboards                                       | 4.36667          |\n",
            "| Electronics|Cameras&Photography|Accessories|Tripods&Monopods|Tabletop&TravelTripods                                     | 4.35             |\n",
            "| Home&Kitchen|Kitchen&HomeAppliances|SmallKitchenAppliances|Pop-upToasters                                               | 4.33333          |\n",
            "| Computers&Accessories|Accessories&Peripherals|HardDiskBags                                                              | 4.33333          |\n",
            "| Electronics|Accessories|MemoryCards|MicroSD                                                                             | 4.33077          |\n",
            "| Electronics|HomeTheater,TV&Video|Accessories|Cables|RCACables                                                           | 4.3              |\n",
            "| Electronics|Cameras&Photography|Accessories|PhotoStudio&Lighting|PhotoBackgroundAccessories|BackgroundSupports          | 4.3              |\n",
            "| Home&Kitchen|Kitchen&HomeAppliances|SmallKitchenAppliances|DigitalKitchenScales|DigitalScales                           | 4.3              |\n",
            "| Electronics|Mobiles&Accessories|MobileAccessories|Mounts|HandlebarMounts                                                | 4.3              |\n",
            "| Home&Kitchen|CraftMaterials|DrawingMaterials|DrawingMedia|Pencils|WoodenPencils                                         | 4.3              |\n",
            "| Electronics|Headphones,Earbuds&Accessories|Cases                                                                        | 4.3              |\n",
            "| Computers&Accessories|Printers,Inks&Accessories|Inks,Toners&Cartridges|InkjetInkRefills&Kits                            | 4.3              |\n",
            "| Home&Kitchen|Heating,Cooling&AirQuality|AirConditioners|Split-SystemAirConditioners                                     | 4.3              |\n",
            "| Toys&Games|Arts&Crafts|Drawing&PaintingSupplies|ColouringPens&Markers                                                   | 4.3              |\n",
            "| OfficeProducts|OfficePaperProducts|Paper|Copy&PrintingPaper|ColouredPaper                                               | 4.3              |\n",
            "| OfficeProducts|OfficePaperProducts|Paper|Stationery|Notebooks,WritingPads&Diaries                                       | 4.3              |\n",
            "| OfficeProducts|OfficePaperProducts|Paper|Stationery|Pens,Pencils&WritingSupplies|Pens&Refills|RetractableBallpointPens  | 4.3              |\n",
            "| Home&Kitchen|Kitchen&HomeAppliances|SmallKitchenAppliances|StandMixers                                                  | 4.3              |\n",
            "| Home&Kitchen|Kitchen&HomeAppliances|SmallKitchenAppliances|SmallApplianceParts&Accessories|StandMixerAccessories        | 4.3              |\n",
            "| OfficeProducts|OfficePaperProducts|Paper|Stationery|Pens,Pencils&WritingSupplies|Pens&Refills|BottledInk                | 4.3              |\n",
            "| Computers&Accessories|Accessories&Peripherals|TabletAccessories|Bags,Cases&Sleeves|Cases                                | 4.3              |\n",
            "| Computers&Accessories|ExternalDevices&DataStorage|ExternalMemoryCardReaders                                             | 4.3              |\n",
            "| Computers&Accessories|Accessories&Peripherals|LaptopAccessories|NotebookComputerStands                                  | 4.3              |\n",
            "| Computers&Accessories|NetworkingDevices|NetworkAdapters|BluetoothAdapters                                               | 4.3              |\n",
            "| Computers&Accessories|Accessories&Peripherals|LaptopAccessories|CameraPrivacyCovers                                     | 4.3              |\n",
            "| Computers&Accessories|Accessories&Peripherals|LaptopAccessories                                                         | 4.3              |\n",
            "| Home&Kitchen|Kitchen&HomeAppliances|Vacuum,Cleaning&Ironing|Vacuums&FloorCare|VacuumAccessories|VacuumBags|HandheldBags | 4.3              |\n",
            "| Home&Kitchen|Kitchen&HomeAppliances|SmallKitchenAppliances|EggBoilers                                                   | 4.29091          |\n",
            "| Computers&Accessories|Accessories&Peripherals|Keyboards,Mice&InputDevices|Mice                                          | 4.2875           |\n",
            "| Home&Kitchen|Heating,Cooling&AirQuality|AirPurifiers|HEPAAirPurifiers                                                   | 4.275            |\n",
            "| Computers&Accessories|Accessories&Peripherals|PCGamingPeripherals|Gamepads                                              | 4.26667          |\n",
            "| Electronics|HomeTheater,TV&Video|SatelliteEquipment|SatelliteReceivers                                                  | 4.26667          |\n",
            "| Computers&Accessories|ExternalDevices&DataStorage|PenDrives                                                             | 4.26             |\n",
            "| Electronics|Mobiles&Accessories|MobileAccessories|Photo&VideoAccessories|SelfieSticks                                   | 4.26             |\n",
            "| Computers&Accessories|NetworkingDevices|Routers                                                                         | 4.25556          |\n",
            "| Electronics|HomeTheater,TV&Video|Accessories|Cables|HDMICables                                                          | 4.25417          |\n",
            "| Electronics|Mobiles&Accessories|MobileAccessories|Cables&Adapters|OTGAdapters                                           | 4.25             |\n",
            "| OfficeProducts|OfficePaperProducts|Paper|Stationery|Notebooks,WritingPads&Diaries|Notepads&MemoBooks                    | 4.25             |\n",
            "| Computers&Accessories|Monitors                                                                                          | 4.25             |\n",
            "| Home&Kitchen|Kitchen&HomeAppliances|Vacuum,Cleaning&Ironing|Vacuums&FloorCare|Vacuums|RoboticVacuums                    | 4.25             |\n",
            "| Computers&Accessories|Accessories&Peripherals|LaptopAccessories|Bags&Sleeves|LaptopSleeves&Slipcases                    | 4.25             |\n",
            "| Home&Kitchen|Kitchen&HomeAppliances|SmallKitchenAppliances|OvenToasterGrills                                            | 4.25             |\n",
            "| Computers&Accessories|Printers,Inks&Accessories|Inks,Toners&Cartridges|InkjetInkCartridges                              | 4.25             |\n",
            "| OfficeProducts|OfficePaperProducts|Paper|Stationery|Pens,Pencils&WritingSupplies|Pens&Refills|GelInkRollerballPens      | 4.25             |\n",
            "| Home&Kitchen|Kitchen&HomeAppliances|SmallKitchenAppliances|HandMixers                                                   | 4.23333          |\n",
            "| Electronics|HomeTheater,TV&Video|Televisions|SmartTelevisions                                                           | 4.20952          |\n",
            "| Electronics|Mobiles&Accessories|MobileAccessories|Cases&Covers|BasicCases                                               | 4.2              |\n",
            "| Electronics|HomeAudio|Speakers|SoundbarSpeakers                                                                         | 4.2              |\n",
            "| Computers&Accessories|NetworkingDevices|Repeaters&Extenders                                                             | 4.2              |\n",
            "| Home&Kitchen|HomeStorage&Organization|LaundryOrganization|LaundryBags                                                   | 4.2              |\n",
            "| Home&Kitchen|Kitchen&HomeAppliances|Coffee,Tea&Espresso|StovetopEspressoPots                                            | 4.2              |\n",
            "| Home&Kitchen|Kitchen&HomeAppliances|Vacuum,Cleaning&Ironing|PressureWashers,Steam&WindowCleaners                        | 4.2              |\n",
            "| Computers&Accessories|Components|InternalHardDrives                                                                     | 4.2              |\n",
            "| Electronics|Cameras&Photography|Accessories|Cleaners|CleaningKits                                                       | 4.2              |\n",
            "| Home&Kitchen|Kitchen&HomeAppliances|Coffee,Tea&Espresso|CoffeeMakerAccessories|MeasuringSpoons                          | 4.2              |\n",
            "| Computers&Accessories|Accessories&Peripherals|Audio&VideoAccessories|Webcams&VoIPEquipment|Webcams                      | 4.2              |\n",
            "| Computers&Accessories|Accessories&Peripherals|TabletAccessories|ScreenProtectors                                        | 4.18             |\n",
            "| Electronics|Mobiles&Accessories|MobileAccessories|Chargers|AutomobileChargers                                           | 4.18             |\n",
            "| Home&Kitchen|Kitchen&HomeAppliances|Vacuum,Cleaning&Ironing|Vacuums&FloorCare|Vacuums|CanisterVacuums                   | 4.175            |\n",
            "| Home&Kitchen|Kitchen&HomeAppliances|WaterPurifiers&Accessories|WaterFilters&Purifiers                                   | 4.175            |\n",
            "| Electronics|GeneralPurposeBatteries&BatteryChargers|RechargeableBatteries                                               | 4.16667          |\n",
            "| Electronics|Mobiles&Accessories|MobileAccessories|Décor                                                                 | 4.16             |\n",
            "| Electronics|Mobiles&Accessories|MobileAccessories|Stands                                                                | 4.16             |\n",
            "| Computers&Accessories|Accessories&Peripherals|Cables&Accessories|Cables|USBCables                                       | 4.15193          |\n",
            "| Computers&Accessories|Accessories&Peripherals|Adapters|USBtoUSBAdapters                                                 | 4.15             |\n",
            "| Home&Kitchen|HomeStorage&Organization|LaundryOrganization|IroningAccessories|SprayBottles                               | 4.15             |\n",
            "| OfficeProducts|OfficePaperProducts|Paper|Stationery|Pens,Pencils&WritingSupplies|Pens&Refills|LiquidInkRollerballPens   | 4.15             |\n",
            "| Electronics|Mobiles&Accessories|MobileAccessories|StylusPens                                                            | 4.15             |\n",
            "| Electronics|Mobiles&Accessories|MobileAccessories|Chargers|WallChargers                                                 | 4.14375          |\n",
            "| Home&Kitchen|Heating,Cooling&AirQuality|WaterHeaters&Geysers|StorageWaterHeaters                                        | 4.14167          |\n",
            "| Electronics|HomeTheater,TV&Video|Accessories|Cables|OpticalCables                                                       | 4.13333          |\n",
            "| Electronics|HomeTheater,TV&Video|Projectors                                                                             | 4.13333          |\n",
            "| OfficeProducts|OfficePaperProducts|Paper|Stationery|Pens,Pencils&WritingSupplies|Pens&Refills|StickBallpointPens        | 4.13333          |\n",
            "| Home&Kitchen|Kitchen&HomeAppliances|Vacuum,Cleaning&Ironing|Irons,Steamers&Accessories|Irons|DryIrons                   | 4.12917          |\n",
            "| Electronics|Mobiles&Accessories|MobileAccessories|Chargers|PowerBanks                                                   | 4.125            |\n",
            "| Computers&Accessories|Accessories&Peripherals|Keyboards,Mice&InputDevices|Keyboards                                     | 4.12             |\n",
            "| Home&Kitchen|Heating,Cooling&AirQuality|Fans|CeilingFans                                                                | 4.10909          |\n",
            "| Home&Kitchen|Kitchen&HomeAppliances|SmallKitchenAppliances|SandwichMakers                                               | 4.1              |\n",
            "| Home&Kitchen|Heating,Cooling&AirQuality|Fans|ExhaustFans                                                                | 4.1              |\n",
            "| Electronics|Mobiles&Accessories|Smartphones&BasicMobiles|Smartphones                                                    | 4.1              |\n",
            "| Computers&Accessories|Accessories&Peripherals|TabletAccessories|Stands                                                  | 4.1              |\n",
            "| Home&Kitchen|Heating,Cooling&AirQuality|Parts&Accessories|FanParts&Accessories                                          | 4.1              |\n",
            "| OfficeProducts|OfficePaperProducts|Paper|Stationery|Pens,Pencils&WritingSupplies|Pens&Refills|FountainPens              | 4.1              |\n",
            "| Computers&Accessories|Printers,Inks&Accessories|Inks,Toners&Cartridges|TonerCartridges                                  | 4.1              |\n",
            "| Computers&Accessories|Accessories&Peripherals|LaptopAccessories|CoolingPads                                             | 4.1              |\n",
            "| Electronics|Mobiles&Accessories|MobileAccessories|Photo&VideoAccessories|Flashes&SelfieLights|SelfieLights              | 4.1              |\n",
            "| Electronics|Mobiles&Accessories|MobileAccessories|Mounts|Shower&WallMounts                                              | 4.1              |\n",
            "| Electronics|Cameras&Photography|SecurityCameras|DomeCameras                                                             | 4.1              |\n",
            "| Home&Kitchen|Heating,Cooling&AirQuality|Fans|PedestalFans                                                               | 4.1              |\n",
            "| Computers&Accessories|Accessories&Peripherals|HardDriveAccessories|Caddies                                              | 4.1              |\n",
            "| Home&Kitchen|Kitchen&Dining|KitchenTools|ManualChoppers&Chippers|Choppers                                               | 4.1              |\n",
            "| Home&Kitchen|Kitchen&HomeAppliances|SmallKitchenAppliances|YogurtMakers                                                 | 4.1              |\n",
            "| Computers&Accessories|NetworkingDevices                                                                                 | 4.1              |\n",
            "| Computers&Accessories|NetworkingDevices|NetworkAdapters|WirelessUSBAdapters                                             | 4.09444          |\n",
            "| Home&Kitchen|Kitchen&HomeAppliances|Coffee,Tea&Espresso|DripCoffeeMachines                                              | 4.08             |\n",
            "| Home&Kitchen|Kitchen&HomeAppliances|SmallKitchenAppliances|DigitalKitchenScales                                         | 4.08             |\n",
            "| Home&Kitchen|Heating,Cooling&AirQuality|WaterHeaters&Geysers|ImmersionRods                                              | 4.07778          |\n",
            "| Electronics|HomeTheater,TV&Video|Televisions|StandardTelevisions                                                        | 4.06667          |\n",
            "| Computers&Accessories|Accessories&Peripherals|LaptopAccessories|Lapdesks                                                | 4.06429          |\n",
            "| Electronics|Headphones,Earbuds&Accessories|Headphones|On-Ear                                                            | 4.0625           |\n",
            "| Home&Kitchen|Kitchen&HomeAppliances|SmallKitchenAppliances|HandBlenders                                                 | 4.05789          |\n",
            "| Home&Kitchen|Heating,Cooling&AirQuality|WaterHeaters&Geysers|InstantWaterHeaters                                        | 4.05217          |\n",
            "| Home&Kitchen|Kitchen&HomeAppliances|SmallKitchenAppliances|InductionCooktop                                             | 4.05             |\n",
            "| Electronics|Cameras&Photography|Accessories|Tripods&Monopods|TripodLegs                                                 | 4.05             |\n",
            "| Computers&Accessories|Accessories&Peripherals|Keyboards,Mice&InputDevices|Keyboard&MouseSets                            | 4.05             |\n",
            "| Computers&Accessories|Accessories&Peripherals|Audio&VideoAccessories|PCSpeakers                                         | 4.05             |\n",
            "| Electronics|HomeAudio|Speakers|BluetoothSpeakers                                                                        | 4.05             |\n",
            "| Home&Kitchen|Kitchen&HomeAppliances|SmallKitchenAppliances|MiniFoodProcessors&Choppers                                  | 4.0375           |\n",
            "| Home&Kitchen|Kitchen&HomeAppliances|Vacuum,Cleaning&Ironing|Irons,Steamers&Accessories|LintShavers                      | 4.03636          |\n",
            "| Home&Kitchen|Kitchen&HomeAppliances|Vacuum,Cleaning&Ironing|Irons,Steamers&Accessories|Irons|SteamIrons                 | 4.03333          |\n",
            "| Home&Kitchen|Kitchen&HomeAppliances|WaterPurifiers&Accessories|WaterCartridges                                          | 4.03333          |\n",
            "| Electronics|HomeTheater,TV&Video|Accessories|TVMounts,Stands&Turntables|TVWall&CeilingMounts                            | 4.03333          |\n",
            "| Computers&Accessories|Accessories&Peripherals|Cables&Accessories|CableConnectionProtectors                              | 4.03333          |\n",
            "| Home&Kitchen|Kitchen&HomeAppliances|SmallKitchenAppliances|WaffleMakers&Irons                                           | 4.03333          |\n",
            "| Computers&Accessories|Accessories&Peripherals|PCGamingPeripherals|Headsets                                              | 4.03333          |\n",
            "| Home&Kitchen|Kitchen&HomeAppliances|Vacuum,Cleaning&Ironing|Vacuums&FloorCare|Vacuums|Wet-DryVacuums                    | 4.03333          |\n",
            "| Home&Kitchen|Kitchen&HomeAppliances|SmallKitchenAppliances|Kettles&HotWaterDispensers|ElectricKettles                   | 4.03158          |\n",
            "| Electronics|WearableTechnology|SmartWatches                                                                             | 4.025            |\n",
            "| Home&Kitchen|Kitchen&HomeAppliances|SmallKitchenAppliances|MixerGrinders                                                | 4.01111          |\n",
            "| Electronics|HomeAudio|Speakers|OutdoorSpeakers                                                                          | 4                |\n",
            "| Computers&Accessories|Laptops|TraditionalLaptops                                                                        | 4                |\n",
            "| Health&PersonalCare|HomeMedicalSupplies&Equipment|HealthMonitors|WeighingScales|DigitalBathroomScales                   | 4                |\n",
            "| Electronics|Headphones,Earbuds&Accessories|Headphones|Over-Ear                                                          | 4                |\n",
            "| HomeImprovement|Electrical|Adapters&Multi-Outlets                                                                       | 4                |\n",
            "| Electronics|HomeTheater,TV&Video|AVReceivers&Amplifiers                                                                 | 4                |\n",
            "| Electronics|HomeAudio|Accessories|SpeakerAccessories|Mounts                                                             | 4                |\n",
            "| Home&Kitchen|HomeStorage&Organization|LaundryOrganization|LaundryBaskets                                                | 3.99231          |\n",
            "| Computers&Accessories|Accessories&Peripherals|Keyboards,Mice&InputDevices|GraphicTablets                                | 3.98182          |\n",
            "| Computers&Accessories|Accessories&Peripherals|LaptopAccessories|LaptopChargers&PowerSupplies                            | 3.98             |\n",
            "| Electronics|Mobiles&Accessories|MobileAccessories|AutomobileAccessories|Cradles                                         | 3.96667          |\n",
            "| Home&Kitchen|Heating,Cooling&AirQuality|Humidifiers                                                                     | 3.96667          |\n",
            "| Home&Kitchen|Kitchen&HomeAppliances|SmallKitchenAppliances|Kettles&HotWaterDispensers|Kettle&ToasterSets                | 3.96154          |\n",
            "| Home&Kitchen|Kitchen&HomeAppliances|SmallKitchenAppliances|Rice&PastaCookers                                            | 3.96             |\n",
            "| Home&Kitchen|Heating,Cooling&AirQuality|Fans|TableFans                                                                  | 3.95             |\n",
            "| Home&Kitchen|Kitchen&HomeAppliances|Vacuum,Cleaning&Ironing|Vacuums&FloorCare|Vacuums|HandheldVacuums                   | 3.94286          |\n",
            "| Computers&Accessories|Accessories&Peripherals|USBGadgets|Lamps                                                          | 3.94             |\n",
            "| Computers&Accessories|Accessories&Peripherals|USBHubs                                                                   | 3.94             |\n",
            "| Home&Kitchen|Kitchen&HomeAppliances|WaterPurifiers&Accessories|WaterPurifierAccessories                                 | 3.91818          |\n",
            "| Electronics|Mobiles&Accessories|Smartphones&BasicMobiles|BasicMobiles                                                   | 3.91111          |\n",
            "| Electronics|Headphones,Earbuds&Accessories|Adapters                                                                     | 3.9              |\n",
            "| Computers&Accessories|Accessories&Peripherals|Cables&Accessories|Cables|SATACables                                      | 3.9              |\n",
            "| Home&Kitchen|CraftMaterials|Scrapbooking|Tape                                                                           | 3.9              |\n",
            "| Electronics|Mobiles&Accessories|MobileAccessories|Mounts|Bedstand&DeskMounts                                            | 3.9              |\n",
            "| Home&Kitchen|Kitchen&HomeAppliances|Coffee,Tea&Espresso|EspressoMachines                                                | 3.9              |\n",
            "| Electronics|HomeAudio|Speakers|MultimediaSpeakerSystems                                                                 | 3.9              |\n",
            "| Computers&Accessories|Accessories&Peripherals|UninterruptedPowerSupplies                                                | 3.9              |\n",
            "| MusicalInstruments|Microphones|Condenser                                                                                | 3.9              |\n",
            "| Home&Kitchen|Heating,Cooling&AirQuality|RoomHeaters                                                                     | 3.9              |\n",
            "| Electronics|Headphones,Earbuds&Accessories|Headphones|In-Ear                                                            | 3.89808          |\n",
            "| Home&Kitchen|Kitchen&HomeAppliances|SmallKitchenAppliances|JuicerMixerGrinders                                          | 3.89167          |\n",
            "| Home&Kitchen|Heating,Cooling&AirQuality|RoomHeaters|ElectricHeaters                                                     | 3.89             |\n",
            "| Home&Kitchen|Heating,Cooling&AirQuality|RoomHeaters|FanHeaters                                                          | 3.81             |\n",
            "| Electronics|Cameras&Photography|Flashes|Macro&RinglightFlashes                                                          | 3.8              |\n",
            "| Car&Motorbike|CarAccessories|InteriorAccessories|AirPurifiers&Ionizers                                                  | 3.8              |\n",
            "| Electronics|Headphones,Earbuds&Accessories|Earpads                                                                      | 3.8              |\n",
            "| Home&Kitchen|Kitchen&HomeAppliances|SmallKitchenAppliances|Mills&Grinders|WetGrinders                                   | 3.8              |\n",
            "| Electronics|HomeTheater,TV&Video|Accessories|RemoteControls                                                             | 3.8              |\n",
            "| Electronics|HomeAudio|Speakers|TowerSpeakers                                                                            | 3.8              |\n",
            "| Electronics|Cameras&Photography|Accessories|Batteries&Chargers|BatteryChargers                                          | 3.8              |\n",
            "| Electronics|Mobiles&Accessories|MobileAccessories|Photo&VideoAccessories|Tripods                                        | 3.8              |\n",
            "| Computers&Accessories|NetworkingDevices|DataCards&Dongles                                                               | 3.8              |\n",
            "| Home&Kitchen|Kitchen&HomeAppliances|Coffee,Tea&Espresso|MilkFrothers                                                    | 3.73333          |\n",
            "| Home&Kitchen|Kitchen&HomeAppliances|SmallKitchenAppliances|Juicers                                                      | 3.7              |\n",
            "| Home&Kitchen|Heating,Cooling&AirQuality|RoomHeaters|HeatConvectors                                                      | 3.7              |\n",
            "| Electronics|Cameras&Photography|VideoCameras                                                                            | 3.7              |\n",
            "| Home&Kitchen|Kitchen&HomeAppliances|SmallKitchenAppliances|VacuumSealers                                                | 3.67143          |\n",
            "| Computers&Accessories|Printers,Inks&Accessories|Printers                                                                | 3.66667          |\n",
            "| Home&Kitchen|Kitchen&HomeAppliances|SewingMachines&Accessories|Sewing&EmbroideryMachines                                | 3.65             |\n",
            "| Home&Kitchen|Heating,Cooling&AirQuality|RoomHeaters|HalogenHeaters                                                      | 3.6              |\n",
            "| Computers&Accessories|Printers,Inks&Accessories|Printers|InkjetPrinters                                                 | 3.6              |\n",
            "| Computers&Accessories|Accessories&Peripherals|Audio&VideoAccessories|PCMicrophones                                      | 3.6              |\n",
            "| Electronics|HomeTheater,TV&Video|Accessories|3DGlasses                                                                  | 3.5              |\n",
            "| Computers&Accessories|Accessories&Peripherals|Audio&VideoAccessories|PCHeadsets                                         | 3.5              |\n",
            "| Computers&Accessories|Accessories&Peripherals|Keyboards,Mice&InputDevices|Keyboard&MiceAccessories|DustCovers           | 3.4              |\n",
            "| Home&Kitchen|Kitchen&HomeAppliances|Coffee,Tea&Espresso|CoffeeGrinders|ElectricGrinders                                 | 3.3              |\n"
          ]
        }
      ]
    },
    {
      "cell_type": "markdown",
      "source": [
        "2. What are the top rating_count products by category?"
      ],
      "metadata": {
        "id": "xuulJKw4fkrb"
      }
    },
    {
      "cell_type": "code",
      "source": [
        "import pandas as pd\n",
        "\n",
        "pd.set_option('display.max_rows', None)\n",
        "pd.set_option('display.max_columns', None)\n",
        "\n",
        "# Read the CSV file into a DataFrame\n",
        "df = pd.read_csv('amazon.csv')\n",
        "\n",
        "# Display the first 5 rows\n",
        "print(df.head().to_markdown(index=False, numalign=\"left\", stralign=\"left\"))\n",
        "\n",
        "# Print the column names and their data types\n",
        "print(df.info())\n",
        "\n",
        "# Drop rows with missing `rating_count` values\n",
        "df.dropna(subset=['rating_count'], inplace=True)\n",
        "\n",
        "# Convert `rating_count` to numeric\n",
        "df['rating_count'] = df['rating_count'].str.replace(',', '', regex=False)\n",
        "df['rating_count'] = pd.to_numeric(df['rating_count'])\n",
        "\n",
        "# Group the data by `category` and sort by `rating_count` in descending order\n",
        "grouped_df = df.groupby('category').apply(lambda x: x.sort_values('rating_count', ascending=False).head(1))\n",
        "\n",
        "# Display the `product_name` and `rating_count` of the top product for each `category`\n",
        "print(grouped_df[['product_name', 'rating_count']].to_markdown(index=False, numalign=\"left\", stralign=\"left\"))"
      ],
      "metadata": {
        "colab": {
          "base_uri": "https://localhost:8080/"
        },
        "id": "A5MZWF4gfo2_",
        "outputId": "4696b98b-af0c-4e75-edff-e71330dbbcfb"
      },
      "execution_count": 17,
      "outputs": [
        {
          "output_type": "stream",
          "name": "stdout",
          "text": [
            "| product_id   | product_name                                                                                                                                                                                            | category                                                                          | discounted_price   | actual_price   | discount_percentage   | rating   | rating_count   | about_product                                                                                                                                                                                                                                                                                                                                                                                                                                                                                                                                                                                                                                                                                                                                                                                                                                                                                                                                                                                                                                                                                                                                 | user_id                                                                                                                                                                                                                                 | user_name                                                                                 | review_id                                                                                                              | review_title                                                                                                                                                                          | review_content                                                                                                                                                                                                                                                                                                                                                                                                                                                                                                                                                                                                                                                                                                                                                                                                                                                                                                                                                                                                                                                                                                                                                                                                                                                                                                                                                                                                                                                                                                                                                                                                                                                                                                                                                                                                                                                                                                                                                                                                                                                                                                                                                                                                                                                                                                                                                                                                                                                                                                                                      | img_link                                                                                              | product_link                                                                                                                     |\n",
            "|:-------------|:--------------------------------------------------------------------------------------------------------------------------------------------------------------------------------------------------------|:----------------------------------------------------------------------------------|:-------------------|:---------------|:----------------------|:---------|:---------------|:----------------------------------------------------------------------------------------------------------------------------------------------------------------------------------------------------------------------------------------------------------------------------------------------------------------------------------------------------------------------------------------------------------------------------------------------------------------------------------------------------------------------------------------------------------------------------------------------------------------------------------------------------------------------------------------------------------------------------------------------------------------------------------------------------------------------------------------------------------------------------------------------------------------------------------------------------------------------------------------------------------------------------------------------------------------------------------------------------------------------------------------------|:----------------------------------------------------------------------------------------------------------------------------------------------------------------------------------------------------------------------------------------|:------------------------------------------------------------------------------------------|:-----------------------------------------------------------------------------------------------------------------------|:--------------------------------------------------------------------------------------------------------------------------------------------------------------------------------------|:----------------------------------------------------------------------------------------------------------------------------------------------------------------------------------------------------------------------------------------------------------------------------------------------------------------------------------------------------------------------------------------------------------------------------------------------------------------------------------------------------------------------------------------------------------------------------------------------------------------------------------------------------------------------------------------------------------------------------------------------------------------------------------------------------------------------------------------------------------------------------------------------------------------------------------------------------------------------------------------------------------------------------------------------------------------------------------------------------------------------------------------------------------------------------------------------------------------------------------------------------------------------------------------------------------------------------------------------------------------------------------------------------------------------------------------------------------------------------------------------------------------------------------------------------------------------------------------------------------------------------------------------------------------------------------------------------------------------------------------------------------------------------------------------------------------------------------------------------------------------------------------------------------------------------------------------------------------------------------------------------------------------------------------------------------------------------------------------------------------------------------------------------------------------------------------------------------------------------------------------------------------------------------------------------------------------------------------------------------------------------------------------------------------------------------------------------------------------------------------------------------------------------------------------------|:------------------------------------------------------------------------------------------------------|:---------------------------------------------------------------------------------------------------------------------------------|\n",
            "| B07JW9H4J1   | Wayona Nylon Braided USB to Lightning Fast Charging and Data Sync Cable Compatible for iPhone 13, 12,11, X, 8, 7, 6, 5, iPad Air, Pro, Mini (3 FT Pack of 1, Grey)                                      | Computers&Accessories|Accessories&Peripherals|Cables&Accessories|Cables|USBCables | ₹399               | ₹1,099         | 64%                   | 4.2      | 24,269         | High Compatibility : Compatible With iPhone 12, 11, X/XsMax/Xr ,iPhone 8/8 Plus,iPhone 7/7 Plus,iPhone 6s/6s Plus,iPhone 6/6 Plus,iPhone 5/5s/5c/se,iPad Pro,iPad Air 1/2,iPad mini 1/2/3,iPod nano7,iPod touch and more apple devices.|Fast Charge&Data Sync : It can charge and sync simultaneously at a rapid speed, Compatible with any charging adaptor, multi-port charging station or power bank.|Durability : Durable nylon braided design with premium aluminum housing and toughened nylon fiber wound tightly around the cord lending it superior durability and adding a bit to its flexibility.|High Security Level : It is designed to fully protect your device from damaging excessive current.Copper core thick+Multilayer shielding, Anti-interference, Protective circuit equipment.|WARRANTY: 12 months warranty and friendly customer services, ensures the long-time enjoyment of your purchase. If you meet any question or problem, please don't hesitate to contact us.                                                                                                                                              | AG3D6O4STAQKAY2UVGEUV46KN35Q,AHMY5CWJMMK5BJRBBSNLYT3ONILA,AHCTC6ULH4XB6YHDY6PCH2R772LQ,AGYHHIERNXKA6P5T7CZLXKVPT7IQ,AG4OGOFWXJZTQ2HKYIOCOY3KXF2Q,AENGU523SXMOS7JPDTW52PNNVWGQ,AEQJHCVTNINBS4FKTBGQRQTGTE5Q,AFC3FFC5PKFF5PMA52S3VCHOZ5FQ | Manav,Adarsh gupta,Sundeep,S.Sayeed Ahmed,jaspreet singh,Khaja moin,Anand,S.ARUMUGAM      | R3HXWT0LRP0NMF,R2AJM3LFTLZHFO,R6AQJGUP6P86,R1KD19VHEDV0OR,R3C02RMYQMK6FC,R39GQRVBUZBWGY,R2K9EDOE15QIRJ,R3OI7YT648TL8I  | Satisfied,Charging is really fast,Value for money,Product review,Good quality,Good product,Good Product,As of now seems good                                                          | Looks durable Charging is fine tooNo complains,Charging is really fast, good product.,Till now satisfied with the quality.,This is a good product . The charging speed is slower than the original iPhone cable,Good quality, would recommend,https://m.media-amazon.com/images/W/WEBP_402378-T1/images/I/81---F1ZgHL._SY88.jpg,Product had worked well till date and was having no issue.Cable is also sturdy enough...Have asked for replacement and company is doing the same...,Value for money                                                                                                                                                                                                                                                                                                                                                                                                                                                                                                                                                                                                                                                                                                                                                                                                                                                                                                                                                                                                                                                                                                                                                                                                                                                                                                                                                                                                                                                                                                                                                                                                                                                                                                                                                                                                                                                                                                                                                                                                                                                 | https://m.media-amazon.com/images/W/WEBP_402378-T1/images/I/51UsScvHQNL._SX300_SY300_QL70_FMwebp_.jpg | https://www.amazon.in/Wayona-Braided-WN3LG1-Syncing-Charging/dp/B07JW9H4J1/ref=sr_1_1?qid=1672909124&s=electronics&sr=1-1        |\n",
            "| B098NS6PVG   | Ambrane Unbreakable 60W / 3A Fast Charging 1.5m Braided Type C Cable for Smartphones, Tablets, Laptops & other Type C devices, PD Technology, 480Mbps Data Sync, Quick Charge 3.0 (RCT15A, Black)       | Computers&Accessories|Accessories&Peripherals|Cables&Accessories|Cables|USBCables | ₹199               | ₹349           | 43%                   | 4        | 43,994         | Compatible with all Type C enabled devices, be it an android smartphone (Mi, Samsung, Oppo, Vivo, Realme, OnePlus, etc), tablet, laptop (Macbook, Chromebook, etc)|Supports Quick Charging (2.0/3.0)|Unbreakable – Made of special braided outer with rugged interior bindings, it is ultra-durable cable that won’t be affected by daily rough usage|Ideal Length – It has ideal length of 1.5 meters which is neither too short like your typical 1meter cable or too long like a 2meters cable|Supports maximum 3A fast charging and 480 Mbps data transfer speed|6 months manufacturer warranty from the date of purchase                                                                                                                                                                                                                                                                                                                                                                                                                                                                                                                 | AECPFYFQVRUWC3KGNLJIOREFP5LQ,AGYYVPDD7YG7FYNBXNGXZJT525AQ,AHONIZU3ICIEHQIGQ6R2VFRSBXOQ,AFPHD2CRPDZMWMBL7WXRSVYWS5JA,AEZ346GX3HJ4O4XNRPHCNHXQURMQ,AEPSWFPNECKO34PUC7I56ITGXR6Q,AHWVEHR5DYLVFTO2KF3IZATFQSWQ,AH4QT33M55677I7ISQOAKEQWACYQ | ArdKn,Nirbhay kumar,Sagar Viswanathan,Asp,Placeholder,BharanI,sonia,Niam                  | RGIQEG07R9HS2,R1SMWZQ86XIN8U,R2J3Y1WL29GWDE,RYGGS0M09S3KY,R17KQRUTAN5DKS,R3AAQGS6HP2QUK,R1HDNOG6TO2CCA,R3PHKXYA5AFEOU  | A Good Braided Cable for Your Type C Device,Good quality product from ambrane,Super cable,As,Good quality,Good product,its good,Good quality for the price but one issue with my unit | I ordered this cable to connect my phone to Android Auto of car. The cable is really strong and the connection ports are really well made. I already has a Micro USB cable from Ambrane and it's still in good shape. I connected my phone to the car using the cable and it got connected well and no issues. I also connected it to the charging port and yes it has Fast Charging support.,It quality is good at this price and the main thing is that i didn't ever thought that this cable will be so long it's good one and charging power is too good and also supports fast charging,Value for money, with extra length👍,Good, working fine,Product quality is good,Good,very good,Bought for my daughter's old phone.Brand new cable it was not charging, I already repacked and requested for replacement.I checked again, and there was some green colour paste/fungus inside the micro USB connector. I cleaned with an alcoholic and starts working again.Checked the ampere of charging speed got around 1400ma-1500ma - not bad, came with braided 1.5m long cable, pretty impressive for the price.Can't blame the manufacturer.But quality issues by the distributor, they might have stored in very humid place.                                                                                                                                                                                                                                                                                                                                                                                                                                                                                                                                                                                                                                                                                                                                                                                                                                                                                                                                                                                                                                                                                                                                                                                                                                                                                                                 | https://m.media-amazon.com/images/W/WEBP_402378-T2/images/I/31zOsqQOAOL._SY445_SX342_QL70_FMwebp_.jpg | https://www.amazon.in/Ambrane-Unbreakable-Charging-Braided-Cable/dp/B098NS6PVG/ref=sr_1_2?qid=1672909124&s=electronics&sr=1-2    |\n",
            "| B096MSW6CT   | Sounce Fast Phone Charging Cable & Data Sync USB Cable Compatible for iPhone 13, 12,11, X, 8, 7, 6, 5, iPad Air, Pro, Mini & iOS Devices                                                                | Computers&Accessories|Accessories&Peripherals|Cables&Accessories|Cables|USBCables | ₹199               | ₹1,899         | 90%                   | 3.9      | 7,928          | 【 Fast Charger& Data Sync】-With built-in safety proctections and four-core copper wires promote maximum signal quality and strength and enhance charging & data transfer speed with up to 480 mb/s transferring speed.|【 Compatibility】-Compatible with iPhone 13, 12,11, X, 8, 7, 6, 5, iPad Air, Pro, Mini & iOS devices.|【 Sturdy & Durable】-The jacket and enforced connector made of TPE and premium copper, are resistant to repeatedly bending and coiling.|【 Ultra High Quality】: According to the experimental results, the fishbone design can accept at least 20,000 bending and insertion tests for extra protection and durability. Upgraded 3D aluminum connector and exclusive laser welding technology, which to ensure the metal part won't break and also have a tighter connection which fits well even with a protective case on and will never loose connection.|【 Good After Sales Service】-Our friendly and reliable customer service will respond to you within 24 hours ! you can purchase with confidence,and every sale includes a 365-day worry-free Service to prove the importance we set on quality. | AGU3BBQ2V2DDAMOAKGFAWDDQ6QHA,AESFLDV2PT363T2AQLWQOWZ4N3OA,AHTPQRIMGUD4BYR5YIHBH3CCGEFQ,AEUVWXYP5LT7PZLLZENEO2NODPBQ,AHC7MPW55DOO6WNCOQVA2VHOD26A,AFDI6FRPFBTNBG7BAEB7JDJSMKDQ,AFQKCEEEKXCOHTDG4WUN3XPPHJQQ,AHKUUFNMBZIDLSSPA4FEHIO2EC7Q | Kunal,Himanshu,viswanath,sai niharka,saqib malik,Aashiq,Ramu Challa,Sanjay gupta          | R3J3EQQ9TZI5ZJ,R3E7WBGK7ID0KV,RWU79XKQ6I1QF,R25X4TBMPY91LX,R27OK7G99VK0TR,R207CYDCHJJTCJ,R3PCU8XMU173BT,R1IMONDOWRNU5V | Good speed for earlier versions,Good Product,Working good,Good for the price,Good,Worth for money,Working nice,it's a really nice product                                             | Not quite durable and sturdy,https://m.media-amazon.com/images/W/WEBP_402378-T1/images/I/71rIggrbUCL._SY88.jpg,Working good,https://m.media-amazon.com/images/W/WEBP_402378-T1/images/I/61bKp9YO6wL._SY88.jpg,Product,Very nice product,Working well,It's a really nice product                                                                                                                                                                                                                                                                                                                                                                                                                                                                                                                                                                                                                                                                                                                                                                                                                                                                                                                                                                                                                                                                                                                                                                                                                                                                                                                                                                                                                                                                                                                                                                                                                                                                                                                                                                                                                                                                                                                                                                                                                                                                                                                                                                                                                                                                     | https://m.media-amazon.com/images/W/WEBP_402378-T1/images/I/31IvNJZnmdL._SY445_SX342_QL70_FMwebp_.jpg | https://www.amazon.in/Sounce-iPhone-Charging-Compatible-Devices/dp/B096MSW6CT/ref=sr_1_3?qid=1672909124&s=electronics&sr=1-3     |\n",
            "| B08HDJ86NZ   | boAt Deuce USB 300 2 in 1 Type-C & Micro USB Stress Resistant, Tangle-Free, Sturdy Cable with 3A Fast Charging & 480mbps Data Transmission, 10000+ Bends Lifespan and Extended 1.5m Length(Martian Red) | Computers&Accessories|Accessories&Peripherals|Cables&Accessories|Cables|USBCables | ₹329               | ₹699           | 53%                   | 4.2      | 94,363         | The boAt Deuce USB 300 2 in 1 cable is compatible with smartphones, tablets, PC peripherals, Bluetooth speakers, power banks and all other devices with Type-C as well as Micro USB port|It ensures 3A fast charging and data transmissions with rapid sync at 480 mbps|The premium Nylon braided skin makes it sturdy and invincible against external damage|Its Aluminium alloy shell housing makes it last longer with 10000+ Bends Lifespan with extended frame protection for strain relief|The resilient and flexible design offers a tangle free experience seamlessly|Deuce USB 300 cable offers a perfect 1.5 meters in length for smooth & hassle-free user experience|2 years warranty from the date of purchase                                                                                                                                                                                                                                                                                                                                                                                                                   | AEWAZDZZJLQUYVOVGBEUKSLXHQ5A,AG5HTSFRRE6NL3M5SGCUQBP7YSCA,AH725ST5NW2Y4JZPKUNTIJCUK2BA,AHV3TXIFCJPMS4D5JATCEUR266MQ,AGWIGDEMFIIUAOXYY2QATNBSUGHA,AFSTSLQUV4EVEXWKBOLEFHL2H5YQ,AGAKDNBHY2FKX7I4ACRGILU7QL7A,AFNWJUWJRHCC6HN52KMG5AKZY37Q | Omkar dhale,JD,HEMALATHA,Ajwadh a.,amar singh chouhan,Ravi Siddan,Himanshu Goel,Udaykumar | R3EEUZKKK9J36I,R3HJVYCLYOY554,REDECAZ7AMPQC,R1CLH2ULIVG5U3,R2DMKIBGFKBD6R,RC89B5IAJUTR5,R3B3DDON5FH8DS,R13WAEJDI5RS36  | Good product,Good one,Nice,Really nice product,Very first time change,Good,Fine product but could be better,Very nice it's charging like jet                                          | Good product,long wire,Charges good,Nice,I bought this cable for Rs.339 worthy product for this price, i tested it in various charger adapters 33w and 18w it supports fast charging as well.,Good,Ok,I had got this at good price on sale on Amazon and product is useful with warranty but for warranty you need to go very far not practical for such a cost and mine micro to type c connector stopped working after few days only.,I like this product                                                                                                                                                                                                                                                                                                                                                                                                                                                                                                                                                                                                                                                                                                                                                                                                                                                                                                                                                                                                                                                                                                                                                                                                                                                                                                                                                                                                                                                                                                                                                                                                                                                                                                                                                                                                                                                                                                                                                                                                                                                                                         | https://m.media-amazon.com/images/I/41V5FtEWPkL._SX300_SY300_QL70_FMwebp_.jpg                         | https://www.amazon.in/Deuce-300-Resistant-Tangle-Free-Transmission/dp/B08HDJ86NZ/ref=sr_1_4?qid=1672909124&s=electronics&sr=1-4  |\n",
            "| B08CF3B7N1   | Portronics Konnect L 1.2M Fast Charging 3A 8 Pin USB Cable with Charge & Sync Function for iPhone, iPad (Grey)                                                                                          | Computers&Accessories|Accessories&Peripherals|Cables&Accessories|Cables|USBCables | ₹154               | ₹399           | 61%                   | 4.2      | 16,905         | [CHARGE & SYNC FUNCTION]- This cable comes with charging & Data sync function|[HIGH QUALITY MATERIAL]- TPE + Nylon Material to make sure that the life of the cable is enhanced significantly|[LONG CORD]- The Cable is extra thick 1.2 meter long, optimized for an easy use for your comfort at home or office|[MORE DURABLE]-This cable is unique interms of design and multi-use and is positioned to provide the best comfort and performance while using|[UNIVERSAL COMPATIBILITY]- Compatible with all devices like iPhone XS, X, XR, 8, 7, 6S, 6, 5S, iPad Pro, iPad mini and iPad Air                                                                                                                                                                                                                                                                                                                                                                                                                                                                                                                                                | AE3Q6KSUK5P75D5HFYHCRAOLODSA,AFUGIFH5ZAFXRDSZHM4QB2KPKFUQ,AFK4NJOLFSJGWLOJIUIAROJF6YVA,AFUOTYRFUXVPEBGIXVZZ7DR3CZUA,AFDLRSXKDZ6U3U3KD46SQLFGZQRA,AH5VLM66SIK7J3IRG4NY7XVOQ55A,AE3MQNNHHLUHXURL5S7IAR7JTGNQ,AFSEOFZY67MYC7UAJU264Z5NFTLA | rahuls6099,Swasat Borah,Ajay Wadke,Pranali,RVK,Bhargav,Durai Vignesh,Amazon Customer      | R1BP4L2HH9TFUP,R16PVJEXKV6QZS,R2UPDB81N66T4P,R3KK4GT934ST3I,RCFHMWUSBIJO,RDO7DACXMAJ84,R3A6MEZL3LY66Z,R1ESIEKPGAYA29   | As good as original,Decent,Good one for secondary use,Best quality,GOOD,Amazing product at a mind blowing price!,Nice Quality,Good product                                            | Bought this instead of original apple, does the work for 150rs, not as fast as apple charger but its a good option if you want cheap and good product, bought it for iPad pro 10.5 and it's working flawlessly, build quality is ok, its not like i am gonna hang my clothes on it and i want a very strong cable, even a braided cable stop working after a year, i have used both Anker and Apple store strong braided cable they all stop working after a year so please don't buy high end cables just for that instead choose a this one and even if it's stops working withing a year you only loose 150rs compares to 2000rs.UPDATE------------------------------------pin has stopped charging from one side, now i have to slip the pin to charge from other side, but i will update and let know for how long does it work,,It’s good. Not sure about durability as the pin area feels a bit fragile,Does not support apple carplaySo was little disappointed about thatOther than that cable is made up of very good quality,Best to buy,100% NOT FATHFUL,Writing this review post 10 months and 3 orders of the same product.Honestly Portronics Konnect L lightning cable works like magic with the original Apple charging brick.Seeing the price of the cable I initially hesitated buying as it was as low as ₹99/- with the offers and so I wasn’t sure if it would work well with my iPhone 12 or whether it would impact my iPhone’s battery health because all the other lightning cable brands were costing over ₹350/- like Wayona, Amazon Basics, etc.Earlier I was using Wayona Brand lightning cable with eventually frayed and stopped working.Charging Speed:Charges my iPhone fast enough almost similar compared to the original cable level when used with 12W Original Apple power adapter.Quality and Durability:Great quality braided cable and doesn’t tangle easily and can withstand day-to-day usage.L-Shaped pin:This is very innovative by Portronics and it makes sure the cable doesn’t get damaged even if used while charging.CarPlay and Data Sync:Works smoothly with CarPlay and syncs data effortlessly.PS: I have used this cable only with the Original Apple Charging Brick and extremely satisfied with its performance.,Better than I expect the product I like that Quality and I plan to buy same type cable come with usb C to Lighting cable for emergency purpose that much I love this cable. Buy for this cable only emergency uses only since Good one,Good product and value for money | https://m.media-amazon.com/images/W/WEBP_402378-T2/images/I/31VzNhhqifL._SX300_SY300_QL70_FMwebp_.jpg | https://www.amazon.in/Portronics-Konnect-POR-1080-Charging-Function/dp/B08CF3B7N1/ref=sr_1_5?qid=1672909124&s=electronics&sr=1-5 |\n",
            "<class 'pandas.core.frame.DataFrame'>\n",
            "RangeIndex: 1465 entries, 0 to 1464\n",
            "Data columns (total 16 columns):\n",
            " #   Column               Non-Null Count  Dtype \n",
            "---  ------               --------------  ----- \n",
            " 0   product_id           1465 non-null   object\n",
            " 1   product_name         1465 non-null   object\n",
            " 2   category             1465 non-null   object\n",
            " 3   discounted_price     1465 non-null   object\n",
            " 4   actual_price         1465 non-null   object\n",
            " 5   discount_percentage  1465 non-null   object\n",
            " 6   rating               1465 non-null   object\n",
            " 7   rating_count         1463 non-null   object\n",
            " 8   about_product        1465 non-null   object\n",
            " 9   user_id              1465 non-null   object\n",
            " 10  user_name            1465 non-null   object\n",
            " 11  review_id            1465 non-null   object\n",
            " 12  review_title         1465 non-null   object\n",
            " 13  review_content       1465 non-null   object\n",
            " 14  img_link             1465 non-null   object\n",
            " 15  product_link         1465 non-null   object\n",
            "dtypes: object(16)\n",
            "memory usage: 183.2+ KB\n",
            "None\n",
            "| product_name                                                                                                                                                                                                                    | rating_count   |\n",
            "|:--------------------------------------------------------------------------------------------------------------------------------------------------------------------------------------------------------------------------------|:---------------|\n",
            "| Reffair AX30 [MAX] Portable Air Purifier for Car, Home & Office | Smart Ionizer Function | H13 Grade True HEPA Filter [Internationally Tested] Aromabuds Fragrance Option - Black                                               | 1118           |\n",
            "| rts [2 Pack] Mini USB C Type C Adapter Plug, Type C Female to USB A Male Charger Charging Cable Adapter Converter compatible for iPhone, Samsung S20 ultra/S21/S10/S8/S9/MacBook Pro iPad Silver                                | 4426           |\n",
            "| Hp Wired On Ear Headphones With Mic With 3.5 Mm Drivers, In-Built Noise Cancelling, Foldable And Adjustable For Laptop/Pc/Office/Home/ 1 Year Warranty (B4B09Pa)                                                                | 7222           |\n",
            "| JBL Commercial CSLM20B Auxiliary Omnidirectional Lavalier Microphone with Battery for Content Creation, Voiceover/Dubbing, Recording (Black,Small)                                                                              | 14969          |\n",
            "| Zebronics Zeb Wonderbar 10 USB Powered 2.0 Computer Speaker with RGB Lights                                                                                                                                                     | 7352           |\n",
            "| Logitech C270 Digital HD Webcam with Widescreen HD Video Calling, HD Light Correction, Noise-Reducing Mic, for Skype, FaceTime, Hangouts, WebEx, PC/Mac/Laptop/MacBook/Tablet - (Black, HD 720p/30fps)                          | 20398          |\n",
            "| LAPSTER Spiral Charger Spiral Charger Cable Protectors for Wires Data Cable Saver Charging Cord Protective Cable Cover Set of 3 (12 Pieces)                                                                                     | 8751           |\n",
            "| AmazonBasics 6 Feet DisplayPort to DisplayPort Cable - (Not HDMI Cable) (Gold)                                                                                                                                                  | 25177          |\n",
            "| Quantum RJ45 Ethernet Patch Cable/LAN Router Cable with Heavy Duty Gold Plated Connectors Supports Hi-Speed Gigabit Upto 1000Mbps, Waterproof and Durable,1-Year Warranty-32.8 Feet (10 Meters)(White)                          | 8372           |\n",
            "| Lapster USB 3.0 sata Cable for 2.5 inch SSD and HDD , USB 3.0 to SATA III Hard Driver Adapter , sata to USB Cable-(Blue)                                                                                                        | 817            |\n",
            "| Amazon Basics USB A to Lightning MFi Certified Charging Cable (White, 1.2 meter)                                                                                                                                                | 178817         |\n",
            "| AirCase Rugged Hard Drive Case for 2.5-inch Western Digital, Seagate, Toshiba, Portable Storage Shell for Gadget Hard Disk USB Cable Power Bank Mobile Charger Earphone, Waterproof (Black)                                     | 21010          |\n",
            "| CARECASE® Optical Bay 2nd Hard Drive Caddy, 9.5 mm CD/DVD Drive Slot for SSD and HDD                                                                                                                                            | 7333           |\n",
            "| Wacom One by CTL-472/K0-CX Digital Drawing Graphics Pen Tablet (Red & Black) Small (6-inch x 3.5-inch)(15x8cm) | Battery Free Cordless Pen with 2048 Pressure Level                                                             | 13544          |\n",
            "| GIZGA essentials Universal Silicone Keyboard Protector Skin for 15.6-inches Laptop (5 x 6 x 3 inches)                                                                                                                           | 15233          |\n",
            "| IT2M Designer Mouse Pad for Laptop/Computer (9.2 X 7.6 Inches, 12788)                                                                                                                                                           | 9998           |\n",
            "| Dell USB Wireless Keyboard and Mouse Set- KM3322W, Anti-Fade & Spill-Resistant Keys, up to 36 Month Battery Life, 3Y Advance Exchange Warranty, Black                                                                           | 33717          |\n",
            "| Zebronics ZEB-KM2100 Multimedia USB Keyboard Comes with 114 Keys Including 12 Dedicated Multimedia Keys & with Rupee Key                                                                                                        | 33735          |\n",
            "| Logitech B170 Wireless Mouse, 2.4 GHz with USB Nano Receiver, Optical Tracking, 12-Months Battery Life, Ambidextrous, PC/Mac/Laptop - Black                                                                                     | 61314          |\n",
            "| TABLE MAGIC Multipurpose Laptop Table Mat Finish Top Work at Home Study Table (TM Regular- Black) (Alloy Steel)                                                                                                                 | 11074          |\n",
            "| GIZGA Club-laptop Neoprene Reversible for 15.6-inches Laptop Sleeve - Black-Red                                                                                                                                                 | 22860          |\n",
            "| LIRAMARK Webcam Cover Slide, Ultra Thin Laptop Camera Cover Slide Blocker for Computer MacBook Pro iMac PC Tablet (Pack of 3)                                                                                                   | 10833          |\n",
            "| Zinq Five Fan Cooling Pad and Laptop Stand with Dual Height Adjustment and Dual USB Port Extension (Black)                                                                                                                      | 27441          |\n",
            "| OFIXO Multi-Purpose Laptop Table/Study Table/Bed Table/Foldable and Portable Wooden/Writing Desk (Wooden)                                                                                                                       | 26423          |\n",
            "| Gizga Essentials Laptop Power Cable Cord- 3 Pin Adapter Isi Certified(1 Meter/3.3 Feet)                                                                                                                                         | 10174          |\n",
            "| STRIFF Adjustable Laptop Tabletop Stand Patented Riser Ventilated Portable Foldable Compatible with MacBook Notebook Tablet Tray Desk Table Book with Free Phone Stand (Black)                                                  | 24791          |\n",
            "| Redgear MP35 Speed-Type Gaming Mousepad (Black/Red)                                                                                                                                                                             | 33434          |\n",
            "| HP K500F Backlit Membrane Wired Gaming Keyboard with Mixed Color Lighting, Metal Panel with Logo Lighting, 26 Anti-Ghosting Keys, and Windows Lock Key / 3 Years Warranty(7ZZ97AA)                                              | 4723           |\n",
            "| Zebronics Zeb-Transformer-M Optical USB Gaming Mouse with LED Effect(Black)                                                                                                                                                     | 18139          |\n",
            "| Redgear Cosmo 7,1 Usb Gaming Wired Over Ear Headphones With Mic With Virtual Surround Sound,50Mm Driver, Rgb Leds & Remote Control(Black)                                                                                       | 14237          |\n",
            "| ProElite Faux Leather Smart Flip Case Cover for Apple iPad 10.2\" 9th Gen (2021) / 8th Gen / 7th Gen with Stylus Pen, Black                                                                                                      | 11006          |\n",
            "| ESR Screen Protector Compatible with iPad Pro 11 Inch (2022/2021/2020/2018) and iPad Air 5/4 (2022/2020, 10.9 Inch), Tempered-Glass Film with Alignment Frame, Scratch Resistant, HD Clarity, 2 Pack                            | 16680          |\n",
            "| GIZGA Essentials Portable Tabletop Tablet Stand Mobile Holder, Desktop Stand, Cradle, Dock for iPad, Smartphone, Kindle, E-Reader, Fully Foldable, Adjustable Angle, Anti-Slip Pads, Black                                      | 25607          |\n",
            "| Inventis 5V 1.2W Portable Flexible USB LED Light Lamp (Colors may vary)                                                                                                                                                         | 13572          |\n",
            "| Zebronics ZEB-90HB USB Hub, 4 Ports, Pocket Sized, Plug & Play, for Laptop & Computers                                                                                                                                          | 9385           |\n",
            "| APC Back-UPS BX600C-IN 600VA / 360W, 230V, UPS System, an Ideal Power Backup & Protection for Home Office, Desktop PC & Home Electronics                                                                                        | 15783          |\n",
            "| Lapster Caddy for ssd and HDD, Optical Bay 2nd Hard Drive Caddy, Caddy 9.5mm for Laptop                                                                                                                                         | 362            |\n",
            "| Crucial BX500 240GB 3D NAND SATA 6.35 cm (2.5-inch) SSD (CT240BX500SSD1)                                                                                                                                                        | 92925          |\n",
            "| Crucial RAM 8GB DDR4 3200MHz CL22 (or 2933MHz or 2666MHz) Laptop Memory CT8G4SFRA32A                                                                                                                                            | 26194          |\n",
            "| Western Digital WD 2TB My Passport Portable Hard Disk Drive, USB 3.0 with  Automatic Backup, 256 Bit AES Hardware Encryption,Password Protection,Compatible with Windows and Mac, External HDD-Black                            | 73005          |\n",
            "| Brand Conquer 6 in 1 with OTG, SD Card Reader, USB Type C, USB 3.0 and Micro USB, for Memory Card | Portable Card Reader | Compatible with TF, SD, Micro SD, SDHC, SDXC, MMC, RS-MMC, Micro SDXC                                | 7758           |\n",
            "| SanDisk 1TB Extreme Portable SSD 1050MB/s R, 1000MB/s W,Upto 2 Meter Drop Protection with IP55 Water/dust Resistance, HW Encryption, PC,MAC & TypeC Smartphone Compatible, 5Y Warranty, External SSD                            | 41398          |\n",
            "| SanDisk Cruzer Blade 32GB USB Flash Drive                                                                                                                                                                                       | 253105         |\n",
            "| Lenovo IdeaPad 3 11th Gen Intel Core i3 15.6\" FHD Thin & Light Laptop(8GB/512GB SSD/Windows 11/Office 2021/2Yr Warranty/3months Xbox Game Pass/Platinum Grey/1.7Kg), 81X800LGIN                                                 | 323            |\n",
            "| Samsung 24-inch(60.46cm) FHD Monitor, IPS, 75 Hz, Bezel Less Design, AMD FreeSync, Flicker Free, HDMI, D-sub, (LF24T350FHWXXL, Dark Blue Gray)                                                                                  | 2623           |\n",
            "| Oakter Mini UPS for 12V WiFi Router Broadband Modem | Backup Upto 4 Hours | WiFi Router UPS Power Backup During Power Cuts | UPS for 12V Router Broadband Modem | Current Surge & Deep Discharge Protection                     | 11716          |\n",
            "| Airtel AMF-311WW Data Card (Black), 4g Hotspot Support with 2300 Mah Battery                                                                                                                                                    | 11213          |\n",
            "| TP-Link USB Bluetooth Adapter for PC, 5.0 Bluetooth Dongle Receiver (UB500) Supports Windows 11/10/8.1/7 for Desktop, Laptop, Mouse, Keyboard, Printers, Headsets, Speakers, PS4/ Xbox Controllers                              | 95116          |\n",
            "| TP-Link UE300C USB Type-C to RJ45 Gigabit Ethernet Network Adapter/RJ45 LAN Wired Adapter for Ultrabook, Chromebook, Laptop, Desktop, Plug & Play, USB 3.0, Foldable and Portable Design                                        | 22420          |\n",
            "| TP-Link Nano USB WiFi Dongle 150Mbps High Gain Wireless Network Wi-Fi Adapter for PC Desktop and Laptops, Supports Windows 10/8.1/8/7/XP, Linux, Mac OS X (TL-WN722N)                                                           | 179692         |\n",
            "| TP-Link TL-WA850RE Single_Band 300Mbps RJ45 Wireless Range Extender, Broadband/Wi-Fi Extender, Wi-Fi Booster/Hotspot with 1 Ethernet Port, Plug and Play, Built-in Access Point Mode, White                                     | 156638         |\n",
            "| TP-link N300 WiFi Wireless Router TL-WR845N | 300Mbps Wi-Fi Speed | Three 5dBi high gain Antennas | IPv6 Compatible | AP/RE/WISP Mode | Parental Control | Guest Network                                                        | 122478         |\n",
            "| Epson 003 65 ml for EcoTank L1110/L3100/L3101/L3110/L3115/L3116/L3150/L3151/L3152/L3156/L5190 Black Ink Bottle                                                                                                                  | 8614           |\n",
            "| RC PRINT GI 790 Ink Refill for Canon G1000, G1010, G1100, G2000, G2002, G2010, G2012, G2100, G3000, G3010, G3012, G3100, G4000, G4010                                                                                           | 1367           |\n",
            "| Foxin FTC 12A / Q2612A Black Laser Toner Cartridge Compatible with Laserjet 1020,M1005,1018,1010,1012,1015,1020 Plus,1022,3015,3020,3030,3050, 3050Z, 3052,3055 (Black)                                                         | 2535           |\n",
            "| HP Deskjet 2331 Colour Printer, Scanner and Copier for Home/Small Office, Compact Size, Reliable, Easy Set-Up Through Smart App On Your Pc Connected Through USB, Ideal for Home.                                               | 21762          |\n",
            "| Canon PIXMA MG2577s All-in-One Inkjet Colour Printer with 1 Additional Colour Cartridge                                                                                                                                         | 12185          |\n",
            "| Xiaomi Pad 5| Qualcomm Snapdragon 860| 120Hz Refresh Rate| 6GB, 128GB| 2.5K+ Display (10.95-inch/27.81cm)|1 Billion Colours| Dolby Vision Atmos| Quad Speakers| Wi-Fi| Gray                                                     | 2886           |\n",
            "| SanDisk Extreme SD UHS I 64GB Card for 4K Video for DSLR and Mirrorless Cameras 170MB/s Read & 80MB/s Write                                                                                                                     | 205052         |\n",
            "| SanDisk Ultra SDHC UHS-I Card 32GB 120MB/s R for DSLR Cameras, for Full HD Recording, 10Y Warranty                                                                                                                              | 69585          |\n",
            "| ENVIE ECR-20 Charger for AA & AAA Rechargeable Batteries                                                                                                                                                                        | 40895          |\n",
            "| Gizga Essentials Professional 3-in-1 Cleaning Kit for Camera, Lens, Binocular, Laptop, TV, Monitor, Smartphone, Tablet (Includes: Cleaning Liquid 100ml, Plush Microfiber Cloth, Dust Removal Brush)                            | 24432          |\n",
            "| Fujifilm Instax Mini Single Pack 10 Sheets Instant Film for Fuji Instant Cameras                                                                                                                                                | 4875           |\n",
            "| DIGITEK® (DLS-9FT) Lightweight & Portable Aluminum Alloy Light Stand for Ring Light, Reflector, Flash Units, Diffuser, Portrait, Softbox, Studio Lighting & More Ideal for Outdoor & Indoor Shoots                              | 6183           |\n",
            "| Digitek DTR 550 LW (67 Inch) Tripod For DSLR, Camera |Operating Height: 5.57 Feet | Maximum Load Capacity up to 4.5kg | Portable Lightweight Aluminum Tripod with 360 Degree Ball Head | Carry Bag Included (Black) (DTR 550LW) | 15137          |\n",
            "| SYVO WT 3130 Aluminum Tripod (133CM), Universal Lightweight Tripod with Mobile Phone Holder Mount & Carry Bag for All Smart Phones, Gopro, Cameras - Brown                                                                      | 27139          |\n",
            "| DIGITEK® (DTR 260 GT) Gorilla Tripod/Mini 33 cm (13 Inch) Tripod for Mobile Phone with Phone Mount & Remote, Flexible Gorilla Stand for DSLR & Action Cameras                                                                   | 21372          |\n",
            "| Tygot 10 Inches Big LED Ring Light for Camera, Phone tiktok YouTube Video Shooting and Makeup, 10\" inch Ring Light with 7 Feet Long Foldable and Lightweight Tripod Stand                                                       | 12958          |\n",
            "| TP-Link Tapo 360° 2MP 1080p Full HD Pan/Tilt Home Security Wi-Fi Smart Camera| Alexa Enabled| 2-Way Audio| Night Vision| Motion Detection| Sound and Light Alarm| Indoor CCTV (Tapo C200) White                                 | 93112          |\n",
            "| HP w100 480P 30 FPS Digital Webcam with Built-in Mic, Plug and Play Setup, Wide-Angle View for Video Calling on Skype, Zoom, Microsoft Teams and Other Apps (Black)                                                             | 3369           |\n",
            "| Panasonic CR-2032/5BE Lithium Coin Battery - Pack of 5                                                                                                                                                                          | 26556          |\n",
            "| Duracell Rechargeable AA 2500mAh Batteries, 4 Pcs                                                                                                                                                                               | 31599          |\n",
            "| Duracell Plus AAA Rechargeable Batteries (750 mAh) Pack of 4                                                                                                                                                                    | 27201          |\n",
            "| Sounce Gold Plated 3.5 mm Headphone Splitter for Computer 2 Male to 1 Female 3.5mm Headphone Mic Audio Y Splitter Cable Smartphone Headset to PC Adapter – (Black,20cm)                                                         | 6491           |\n",
            "| Gizga Essentials Earphone Carrying Case, Multi-Purpose Pocket Storage Travel Organizer for Earphones, Headset, Pen Drives, SD Cards, Shock-Proof Ballistic Nylon, Soft Fabric, Mesh Pocket, Green                               | 15032          |\n",
            "| Silicone Rubber Earbuds Tips, Eartips, Earpads, Earplugs, for Replacement in Earphones and Bluetooth Medium Size (10 Pcs Black)                                                                                                 | 594            |\n",
            "| boAt Bassheads 100 in Ear Wired Earphones with Mic(Taffy Pink)                                                                                                                                                                  | 363713         |\n",
            "| boAt Rockerz 450 Bluetooth On Ear Headphones with Mic, Upto 15 Hours Playback, 40MM Drivers, Padded Ear Cushions, Integrated Controls and Dual Modes(Luscious Black)                                                            | 107151         |\n",
            "| boAt Rockerz 550 Over Ear Bluetooth Headphones with Upto 20 Hours Playback, 50MM Drivers, Soft Padded Ear Cushions and Physical Noise Isolation, Without Mic (Black)                                                            | 55192          |\n",
            "| Amazon Basics HDMI Coupler,Black                                                                                                                                                                                                | 18872          |\n",
            "| Saifsmart Outlet Wall Mount Hanger Holder for Dot 3rd Gen, Compact Bracket Case Plug and Built-in Cable Management for Kitchen Bathroom, Bedroom (Black)                                                                        | 3295           |\n",
            "| Realme Smart TV Stick 4K                                                                                                                                                                                                        | 224            |\n",
            "| Zebronics ZEB-COUNTY 3W Wireless Bluetooth Portable Speaker With Supporting Carry Handle, USB, SD Card, AUX, FM & Call Function. (Green)                                                                                        | 64705          |\n",
            "| ZEBRONICS Zeb-Fame 5watts 2.0 Multi Media Speakers with AUX, USB and Volume Control (Black)                                                                                                                                     | 6742           |\n",
            "| Infinity (JBL Fuze Pint, Wireless Ultra Portable Mini Speaker with Mic, Deep Bass, Dual Equalizer, Bluetooth 5.0 with Voice Assistant Support for Mobiles (Black)                                                               | 30469          |\n",
            "| Zebronics Zeb-JUKEBAR 3900, 80W Multimedia soundbar with subwoofer Supporting Bluetooth, HDMI(ARC), Coaxial Input, AUX, USB & Remote Control (Black)                                                                            | 4541           |\n",
            "| KRISONS Thunder Speaker, Multimedia Home Theatre, Floor Standing Speaker, LED Display with Bluetooth, FM, USB, Micro SD Card, AUX Connectivity                                                                                  | 282            |\n",
            "| Cubetek 3 in 1 LCD Display V5.0 Bluetooth Transmitter Receiver, Bypass Audio Adapter with Aux, Optical, Dual Link Support for TV, Home Stereo, PC, Headphones, Speakers, Model: CB-BT27                                         | 897            |\n",
            "| Irusu Play VR Plus Virtual Reality Headset with Headphones for Gaming (Black)                                                                                                                                                   | 621            |\n",
            "| AmazonBasics Flexible Premium HDMI Cable (Black, 4K@60Hz, 18Gbps), 3-Foot                                                                                                                                                       | 426973         |\n",
            "| BlueRigger Digital Optical Audio Toslink Cable (3.3 Feet / 1 Meter) With 8 Channel (7.1) Audio Support (for Home Theatre, Xbox, Playstation etc.)                                                                               | 30023          |\n",
            "| AmazonBasics 3.5mm to 2-Male RCA Adapter Cable For Tablet, Smartphone (Black, 15 feet)                                                                                                                                          | 69538          |\n",
            "| Amazon Basics 16-Gauge Speaker Wire - 50 Feet                                                                                                                                                                                   | 12091          |\n",
            "| Dealfreez Case Compatible with Fire TV Stick 3rd Gen 2021 Full Wrap Silicone Remote Cover Anti-Lost with Loop (D-Black)                                                                                                         | 4145           |\n",
            "| Model-P4 6 Way Swivel Tilt Wall Mount 32-55-inch Full Motion Cantilever for LED,LCD and Plasma TV's                                                                                                                             | 2727           |\n",
            "| EGate i9 Pro-Max 1080p Native Full HD Projector 4k Support | 3600 L (330 ANSI ) | 150\" (381 cm) Large Screen | VGA, AV, HDMI, SD Card, USB, Audio Out | (E03i31 / E04i32) Black                                                 | 10480          |\n",
            "| TATA SKY HD Connection with 1 month basic package and free installation                                                                                                                                                         | 7636           |\n",
            "| Redmi 126 cm (50 inches) 4K Ultra HD Android Smart LED TV X50 | L50M6-RA (Black)                                                                                                                                                | 45238          |\n",
            "| VW 80 cm (32 inches) Frameless Series HD Ready LED TV VW32A (Black)                                                                                                                                                             | 4003           |\n",
            "| ELV Car Mount Adjustable Car Phone Holder Universal Long Arm, Windshield for Smartphones - Black                                                                                                                                | 46399          |\n",
            "| AGARO Blaze USB 3.0 to USB Type C OTG Adapter                                                                                                                                                                                   | 14185          |\n",
            "| Sounce Protective Case Cover Compatible Boat Xtend Overall Protective Case TPU HD Clear Ultra-Thin Cover with Unbreakable Screen Guard                                                                                          | 4740           |\n",
            "| boAt Dual Port Rapid Car Charger (Qualcomm Certified) with Quick Charge 3.0 + Free Micro USB Cable - (Black)                                                                                                                    | 38221          |\n",
            "| MI Power Bank 3i 20000mAh Lithium Polymer 18W Fast Power Delivery Charging | Input- Type C | Micro USB| Triple Output | Sandstone Black                                                                                         | 178912         |\n",
            "| Mi 10W Wall Charger for Mobile Phones with Micro USB Cable (Black)                                                                                                                                                              | 21916          |\n",
            "| Gizga Essentials Spiral Cable Protector Cord Saver for Mac Charger, iPhone Charger, Wire Protector, Lightweight Durable Flexible Wire Winder for Charging Cables, Data Cables, Earphones, Pack of 10                            | 5999           |\n",
            "| LAPSTER 12pcs Spiral Cable Protectors for Charger, Wires, Data Charger Cable Protector for Computers, Cell Phones etc.(Grey)                                                                                                    | 305            |\n",
            "| Spigen EZ Fit Tempered Glass Screen Protector Guard for iPhone 14/13/13 Pro - 2 Pack                                                                                                                                            | 26603          |\n",
            "| SWAPKART Flexible Mobile Tabletop Stand, Metal Built, Heavy Duty Foldable Lazy Bracket Clip Mount Multi Angle Clamp for All Smartphones (Pack of 1), Multi Color                                                                | 3234           |\n",
            "| WeCool B1 Mobile Holder for Bikes or Bike Mobile Holder for Maps and GPS Navigation, one Click Locking, Firm Gripping, Anti Shake and Stable Cradle Clamp with 360° Rotation Bicycle Phone Mount                                | 1193           |\n",
            "| STRIFF Wall Mount Phone Holder Wall Mount with Adhesive Strips, Charging Holder Compatible with iPhone, Smartphone and Mini Tablet (Pack of 1) (White)                                                                          | 9340           |\n",
            "| DIGITEK® (DRL-14C) Professional (31cm) Dual Temperature LED Ring Light with Tripod Stand & Mini Tripod for YouTube, Photo-Shoot, Video Shoot, Live Stream, Makeup, Vlogging & More                                              | 14371          |\n",
            "| Mobilife Bluetooth Extendable Selfie Stick with Tripod Stand and Wireless Remote,3-in-1 Multifunctional Selfie Stick Tripod for iPhone Samsung Mi Realme Oppo Vivo Google More,Black                                            | 14560          |\n",
            "| WeCool Bluetooth Extendable Selfie Sticks with Wireless Remote and Tripod Stand, 3-in-1 Multifunctional Selfie Stick with Tripod Stand Compatible with iPhone/OnePlus/Samsung/Oppo/Vivo and All Phones                          | 14648          |\n",
            "| STRIFF PS2_01 Multi Angle Mobile/Tablet Tabletop Stand. Phone Holder for iPhone, Android, Samsung, OnePlus, Xiaomi. Portable, Foldable Cell Phone Stand. Perfect for Bed, Office, Home & Desktop (Black)                        | 42641          |\n",
            "| KINGONE Upgraded Stylus Pen, iPad Pencil, Ultra High Precision & Sensitivity, Palm Rejection, Prevents False ON/Off Touch, Power Display, Tilt Sensitivity, Magnetic Adsorption for iPad 2018 and Later                         | 17129          |\n",
            "| Nokia 105 Single SIM, Keypad Mobile Phone with Wireless FM Radio | Charcoal                                                                                                                                                     | 128311         |\n",
            "| Redmi 9A Sport (Coral Green, 2GB RAM, 32GB Storage) | 2GHz Octa-core Helio G25 Processor | 5000 mAh Battery                                                                                                                     | 313836         |\n",
            "| Belkin Essential Series 4-Socket Surge Protector Universal Socket with 5ft Heavy Duty Cable (Grey)                                                                                                                              | 20668          |\n",
            "| Noise ColorFit Pro 2 Full Touch Control Smart Watch with 35g Weight & Upgraded LCD Display (Deep Wine)                                                                                                                          | 92588          |\n",
            "| Dr Trust Electronic Kitchen Digital Scale Weighing Machine (Blue)                                                                                                                                                               | 3663           |\n",
            "| Apsara Platinum Pencils Value Pack - Pack of 20                                                                                                                                                                                 | 5036           |\n",
            "| Classmate Octane Colour Burst-Multicolour Gel Pens (Pack of 10) | Gold & Silver Glitter Sparkle Pens|10 colour ink shades for art lovers and kids|Fun at home essentials                                                        | 10718          |\n",
            "| Camel Oil Pastel with Reusable Plastic Box - 50 Shades                                                                                                                                                                          | 9427           |\n",
            "| Camel Fabrica Acrylic Ultra Color - 15ml each, 10 Shades                                                                                                                                                                        | 10170          |\n",
            "| 3M Scotch Double Sided Heavy Duty Tape(1m holds 4.5Kgs) for indoor hanging applications (Photo frames, Mirrors, Key Holders, Car Interiors, Extension Boards, Wall decoration, etc)(L: 3m, W: 24mm)                             | 14778          |\n",
            "| LG 1.5 Ton 5 Star AI DUAL Inverter Split AC (Copper, Super Convertible 6-in-1 Cooling, HD Filter with Anti-Virus Protection, 2022 Model, PS-Q19YNZE, White)                                                                     | 3231           |\n",
            "| Philips AC1215/20 Air purifier, removes 99.97% airborne pollutants, 4-stage filtration with True HEPA filter (white)                                                                                                            | 4157           |\n",
            "| atomberg Renesa 1200mm BLDC Motor with Remote 3 Blade Energy Saving Ceiling Fan (Matt Black)                                                                                                                                    | 28629          |\n",
            "| Luminous Vento Deluxe 150 mm Exhaust Fan for Kitchen, Bathroom with Strong Air Suction, Rust Proof Body and Dust Protection Shutters (2-Year Warranty, White)                                                                   | 12999          |\n",
            "| AmazonBasics High Speed 55 Watt Oscillating Pedestal Fan, 400mm Sweep Length, White (Without Remote)                                                                                                                            | 5873           |\n",
            "| BAJAJ PYGMY MINI 110 MM 10 W HIGH SPEED OPERATION, USB CHARGING, MULTI-CLIP FUNCTION PERSONAL FAN                                                                                                                               | 4370           |\n",
            "| Allin Exporters J66 Ultrasonic Humidifier Cool Mist Air Purifier for Dryness, Cold & Cough Large Capacity for Room, Baby, Plants, Bedroom (2.4 L) (1 Year Warranty)                                                             | 3973           |\n",
            "| Monitor AC Stand/Heavy Duty Air Conditioner Outdoor Unit Mounting Bracket                                                                                                                                                       | 3524           |\n",
            "| Morphy Richards OFR Room Heater, 09 Fin 2000 Watts Oil Filled Room Heater , ISI Approved (OFR 9 Grey)                                                                                                                           | 2961           |\n",
            "| USHA Quartz Room Heater with Overheating Protection (3002, Ivory, 800 Watts)                                                                                                                                                    | 13300          |\n",
            "| Amazon Brand - Solimo 2000/1000 Watts Room Heater with Adjustable Thermostat (ISI certified, White colour, Ideal for small to medium room/area)                                                                                 | 18543          |\n",
            "| Bajaj Deluxe 2000 Watts Halogen Room Heater (Steel, ISI Approved), Multicolor                                                                                                                                                   | 787            |\n",
            "| USHA Heat Convector 812 T 2000-Watt with Instant Heating Feature (Black)                                                                                                                                                        | 1558           |\n",
            "| Bajaj Immersion Rod Water Heater 1500 Watts, Silver                                                                                                                                                                             | 36017          |\n",
            "| Swiffer Instant Electric Water Heater Faucet Tap Home-Kitchen Instantaneous Water Heater Tank less for Tap, LED Electric Head Water Heaters Tail Gallon Comfort(3000W) ((Pack of 1))                                            | 53803          |\n",
            "| Crompton Arno Neo 15-L 5 Star Rated Storage Water Heater (Geyser) with Advanced 3 Level Safety (Grey)                                                                                                                           | 14391          |\n",
            "| Vedini Transparent Empty Refillable Reusable Fine Mist Spray Bottle for Perfume, Travel with DIY Sticker Set ( 100ml, Pack of 4)                                                                                                | 2737           |\n",
            "| PrettyKrafts Laundry Bag / Basket for Dirty Clothes, Folding Round Laundry Bag,Set of 2, Black Wave                                                                                                                             | 3846           |\n",
            "| Kuber Industries Waterproof Canvas Laundry Bag/Hamper|Metalic Printed With Handles|Foldable Bin & 45 Liter Capicity|Size 37 x 37 x 46, Pack of 1 (Brown)                                                                        | 10234          |\n",
            "| Pigeon Polypropylene Mini Handy and Compact Chopper with 3 Blades for Effortlessly Chopping Vegetables and Fruits for Your Kitchen (12420, Green, 400 ml)                                                                       | 270563         |\n",
            "| IKEA Frother for Milk                                                                                                                                                                                                           | 478            |\n",
            "| Dynore Stainless Steel Set of 4 Measuring Cup and 4 Measuring Spoon                                                                                                                                                             | 4971           |\n",
            "| Cafe JEI French Press Coffee and Tea Maker 600ml with 4 Level Filtration System, Heat Resistant Borosilicate Glass (Black, 600ml)                                                                                               | 1065           |\n",
            "| Kitchen Mart Stainless Steel South Indian Filter Coffee Drip Maker, Madras Kappi, Drip Decotion Maker160ml (2 Cup)                                                                                                              | 4238           |\n",
            "| Morphy Richards New Europa 800-Watt Espresso and Cappuccino 4-Cup Coffee Maker (Black)                                                                                                                                          | 3815           |\n",
            "| InstaCuppa Milk Frother for Coffee - Handheld Battery-Operated Electric Milk and Coffee Frother, Stainless Steel Whisk and Stand, Portable Foam Maker for Coffee, Cappuccino, Lattes, and Egg Beaters                           | 4401           |\n",
            "| Saiyam Stainless Steel Espresso Maker Stovetop Coffee Percolator Italian Coffee Maker Moka Pot (4 Cup - 200 ml, Silver)                                                                                                         | 590            |\n",
            "| Usha Janome Dream Stitch Automatic Zig-Zag Electric Sewing Machine with 14 Stitch Function (White and Blue) with Free Sewing KIT Worth RS 500                                                                                   | 13251          |\n",
            "| Balzano High Speed Nutri Blender/Mixer/Smoothie Maker - 500 Watt - Silver, 2 Jar                                                                                                                                                | 2116           |\n",
            "| Instant Pot Air Fryer, Vortex 2QT, Touch Control Panel, 360° EvenCrisp™ Technology, Uses 95 % less Oil, 4-in-1 Appliance: Air Fry, Roast, Bake, Reheat (Vortex 1.97Litre, Black)                                                | 3964           |\n",
            "| Glun Multipurpose Portable Electronic Digital Weighing Scale Weight Machine (10 Kg - with Back Light)                                                                                                                           | 44994          |\n",
            "| HealthSense Weight Machine for Kitchen, Kitchen Food Weighing Scale for Health, Fitness, Home Baking & Cooking with Hanging Design, Touch Button, Tare Function & 1 Year Warranty – Chef-Mate KS 40                             | 9695           |\n",
            "| Simxen Egg Boiler Electric Automatic Off 7 Egg Poacher for Steaming, Cooking Also Boiling and Frying 400 W (Blue, Pink)                                                                                                         | 15646          |\n",
            "| Orpat HHB-100E WOB 250-Watt Hand Blender (White)                                                                                                                                                                                | 18462          |\n",
            "| Inalsa Hand Blender| Hand Mixer|Beater - Easy Mix, Powerful 250 Watt Motor | Variable 7 Speed Control | 1 Year Warranty | (White/Red)                                                                                           | 15252          |\n",
            "| Pigeon by Stovekraft Cruise 1800 watt Induction Cooktop (Black)                                                                                                                                                                 | 54032          |\n",
            "| Wonderchef Nutri-blend Mixer, Grinder & Blender | Powerful 400W 22000 RPM motor | Stainless steel Blades | 2 unbreakable jars | 2 Years warranty | Online recipe book by Chef Sanjeev Kapoor | Black                            | 26164          |\n",
            "| ROYAL STEP - AMAZON'S BRAND - Portable Electric USB Juice Maker Juicer Bottle Blender Grinder Mixer,4 Blades Rechargeable Bottle with (Multi color) (MULTI)                                                                     | 3527           |\n",
            "| AGARO Imperial 240-Watt Slow Juicer with Cold Press Technology                                                                                                                                                                  | 2288           |\n",
            "| Pigeon by Stovekraft Amaze Plus Electric Kettle (14289) with Stainless Steel Body, 1.5 litre, used for boiling Water, making tea and coffee, instant noodles, soup etc. 1500 Watt (Silver)                                      | 123365         |\n",
            "| Butterfly EKN 1.5-Litre Electric Kettle (Silver with Black)                                                                                                                                                                     | 35693          |\n",
            "| Butterfly Smart Wet Grinder, 2L (White) with Coconut Scrapper Attachment, Output - 150 W, Input 260 W                                                                                                                           | 12837          |\n",
            "| Borosil Chef Delite BCH20DBB21 300-Watt Chopper (Black)                                                                                                                                                                         | 7946           |\n",
            "| Lifelong LLMG23 Power Pro 500-Watt Mixer Grinder with 3 Jars (Liquidizing, Wet Grinding and Chutney Jar), Stainless Steel blades, 1 Year Warranty (Black)                                                                       | 44050          |\n",
            "| Philips HD6975/00 25 Litre Digital Oven Toaster Grill, Grey, 25 liter                                                                                                                                                           | 9734           |\n",
            "| Bajaj ATX 4 750-Watt Pop-up Toaster (White)                                                                                                                                                                                     | 9331           |\n",
            "| Prestige PRWO 1.8-2 700-Watts Delight Electric Rice Cooker with 2 Aluminium Cooking Pans - 1.8 Liters, White                                                                                                                    | 13406          |\n",
            "| Libra Roti Maker Electric Automatic | chapati Maker Electric Automatic | roti Maker Machine with 900 Watts for Making Roti/Chapati/Parathas - Stainless Steel                                                                   | 388            |\n",
            "| Prestige Sandwich Maker PGMFD 01, Black                                                                                                                                                                                         | 40106          |\n",
            "| Sujata Chutney Steel Jar, 400 ml, (White), Stainless Steel                                                                                                                                                                      | 2280           |\n",
            "| Preethi MGA-502 0.4-Litre Grind and Store Jar (White), stainless steel, Set of 1                                                                                                                                                | 4570           |\n",
            "| AGARO Royal Stand 1000W Mixer with 5L SS Bowl and 8 Speed Setting, Includes Whisking Cone, Mixing Beater & Dough Hook, and Splash Guard, 2 Years Warranty, (Black), Medium (33554)                                              | 534            |\n",
            "| VR 18 Pcs - 3 Different Size Plastic Food Snack Bag Pouch Clip Sealer Large, Medium, Small Plastic Snack Seal Sealing Bag Clips Vacuum Sealer (Set of 18, Multi-Color) (Multicolor)                                             | 19621          |\n",
            "| Lifelong LLWM105 750-Watt Belgian Waffle Maker for Home| Makes 2 Square Shape Waffles| Non-stick Plates| Easy to Use with Indicator Lights (1 Year Warranty, Black)                                                             | 1202           |\n",
            "| AGARO Classic Portable Yogurt Maker, 1.2L Capacity, Electric, Automatic, Grey and White, Medium (33603)                                                                                                                         | 557            |\n",
            "| Bajaj DX-7 1000W Dry Iron with Advance Soleplate and Anti-bacterial German Coating Technology, White                                                                                                                            | 46647          |\n",
            "| Philips GC1905 1440-Watt Steam Iron with Spray (Blue)                                                                                                                                                                           | 37974          |\n",
            "| SHOPTOSHOP Electric Lint Remover, Best Lint Shaver for Clothes,Lint Remover for Woolen Clothes ,Lint Remover for Sweaters                                                                                                       | 4859           |\n",
            "| AGARO Supreme High Pressure Washer, 1800 Watts, 120 Bars, 6.5L/Min Flow Rate, 8 Meters Outlet Hose, Portable, for Car,Bike and Home Cleaning Purpose, Black and Orange                                                          | 1017           |\n",
            "| Eureka Forbes Euroclean Paper Vacuum Cleaner Dust Bags for Excel, Ace, 300, Jet Models - Set of 10                                                                                                                              | 2664           |\n",
            "| Eureka Forbes Trendy Zip 1000 Watts powerful suction vacuum cleaner with resuable dust bag & 5 accessories,1 year warrantycompact,light weight & easy to use (Black)                                                            | 32931          |\n",
            "| AGARO Regal 800 Watts Handheld Vacuum Cleaner, Lightweight & Durable Body, Small/Mini Size ( Black)                                                                                                                             | 14368          |\n",
            "| ECOVACS DEEBOT N8 2-in-1 Robotic Vacuum Cleaner, 2022 New Launch, Most Powerful Suction, Covers 2000+ Sq. Ft in One Charge, Advanced dToF Technology with OZMO Mopping (DEEBOT N8) - White                                      | 5298           |\n",
            "| Karcher WD3 EU Wet and Dry Vacuum Cleaner, 1000 Watts Powerful Suction, 17 L Capacity, Blower Function, Easy Filter Removal for Home and Garden Cleaning  (Yellow/Black)                                                        | 10429          |\n",
            "| HUL Pureit Germkill kit for Classic 23 L water purifier - 3000 L Capacity                                                                                                                                                       | 13250          |\n",
            "| Aquasure From Aquaguard Amaze RO+UV+MTDS,7L storage water purifier,suitable for borewell,tanker,municipal water (Grey) from Eureka Forbes                                                                                       | 18497          |\n",
            "| HUL Pureit Germkill kit for Classic 23 L water purifier - 1500 L Capacity                                                                                                                                                       | 10907          |\n",
            "| ESnipe Mart Worldwide Travel Adapter with Build in Dual USB Charger Ports with 125V 6A, 250V Protected Electrical Plug for Laptops, Cameras (White)                                                                             | 2581           |\n",
            "| Gizga Essentials Cable Organiser, Cord Management System for PC, TV, Home Theater, Speaker & Cables, Reusable Cable Organizer for Desk, WFH Accessories, Organizer Tape Roll, Reusable Cable Ties Strap                         | 5985           |\n",
            "| Boya ByM1 Auxiliary Omnidirectional Lavalier Condenser Microphone with 20ft Audio Cable (Black)                                                                                                                                 | 68664          |\n",
            "| Casio MJ-12D 150 Steps Check and Correct Desktop Calculator                                                                                                                                                                     | 8610           |\n",
            "| Casio MJ-120D 150 Steps Check and Correct Desktop Calculator with Tax Keys, Black                                                                                                                                               | 4426           |\n",
            "| Casio FX-82MS 2nd Gen Non-Programmable Scientific Calculator, 240 Functions and 2-line Display, Black                                                                                                                           | 12179          |\n",
            "| BRUSTRO Copytinta Coloured Craft Paper A4 Size 80 GSM Mixed Bright Colour 40 Sheets Pack (10 cols X 4 Sheets) Double Side Color for Office Printing, Art and Craft.                                                             | 388            |\n",
            "| Portronics Ruffpad 15 Re-Writable LCD Screen 38.1cm (15-inch) Writing Pad for Drawing, Playing, Handwriting Gifts for Kids & Adults (Grey)                                                                                      | 3530           |\n",
            "| Luxor 5 Subject Single Ruled Notebook - A5 Size, 70 GSM, 300 Pages                                                                                                                                                              | 8053           |\n",
            "| COI Note Pad/Memo Book with Sticky Notes & Clip Holder with Pen for Gifting                                                                                                                                                     | 9344           |\n",
            "| Classmate Pulse 6 Subject Notebook - Unruled, 300 Pages, Spiral Binding, 240mm*180mm                                                                                                                                            | 8938           |\n",
            "| Parker Quink Ink Bottle, Blue                                                                                                                                                                                                   | 3095           |\n",
            "| Camlin Elegante Fountain Pen - Black/Blue/Red                                                                                                                                                                                   | 4798           |\n",
            "| Classmate Octane Neon- Blue Gel Pens(Pack of 5)|Smooth Writing Pen|Attractive body colour for Boys & Girls|Waterproof ink for smudge free writing|Preferred by Students for Exam|Study at home essential                        | 5792           |\n",
            "| Pilot Frixion Clicker Roller Pen (Blue), (9000019529)                                                                                                                                                                           | 6199           |\n",
            "| Parker Classic Gold Gold Trim Ball Pen                                                                                                                                                                                          | 5719           |\n",
            "| Pentonic Multicolor Ball Point Pen, Pack of 10                                                                                                                                                                                  | 4308           |\n",
            "| Faber-Castell Connector Pen Set - Pack of 25 (Assorted)                                                                                                                                                                         | 15867          |\n"
          ]
        },
        {
          "output_type": "stream",
          "name": "stderr",
          "text": [
            "<ipython-input-17-eda36a8cae5b>:23: DeprecationWarning: DataFrameGroupBy.apply operated on the grouping columns. This behavior is deprecated, and in a future version of pandas the grouping columns will be excluded from the operation. Either pass `include_groups=False` to exclude the groupings or explicitly select the grouping columns after groupby to silence this warning.\n",
            "  grouped_df = df.groupby('category').apply(lambda x: x.sort_values('rating_count', ascending=False).head(1))\n"
          ]
        }
      ]
    },
    {
      "cell_type": "markdown",
      "source": [
        "3. What is the distribution of discounted prices vs. actual prices?"
      ],
      "metadata": {
        "id": "-eXQ8bNIjXxx"
      }
    },
    {
      "cell_type": "code",
      "source": [
        "import pandas as pd\n",
        "import altair as alt\n",
        "\n",
        "pd.set_option('display.max_rows', None)\n",
        "pd.set_option('display.max_columns', None)\n",
        "\n",
        "# Read the CSV file into a DataFrame\n",
        "df_amazon = pd.read_csv('amazon.csv')\n",
        "\n",
        "# Remove '₹' and ',' from the `actual_price` and `discounted_price` columns and convert them to numeric\n",
        "df_amazon['actual_price'] = df_amazon['actual_price'].astype(str).str.replace(r'[₹,]', '', regex=True)\n",
        "df_amazon['actual_price'] = pd.to_numeric(df_amazon['actual_price'])\n",
        "df_amazon['discounted_price'] = df_amazon['discounted_price'].astype(str).str.replace(r'[₹,]', '', regex=True)\n",
        "df_amazon['discounted_price'] = pd.to_numeric(df_amazon['discounted_price'])\n",
        "\n",
        "# Print descriptive statistics of the `actual_price` and `discounted_price` columns\n",
        "print(df_amazon[['actual_price', 'discounted_price']].describe().to_markdown(numalign=\"left\", stralign=\"left\"))\n",
        "\n",
        "# Create a scatter plot of `discounted_price` (y-axis) as `actual_price` (x-axis)\n",
        "chart = alt.Chart(df_amazon).mark_point().encode(\n",
        "    x=alt.X('actual_price', title='Actual Price'),\n",
        "    y=alt.Y('discounted_price', title='Discounted Price'),\n",
        "    tooltip=['actual_price', 'discounted_price']\n",
        ").properties(title='Discounted Price vs. Actual Price').interactive()\n",
        "\n",
        "# Save the chart in a JSON file\n",
        "chart.save('discounted_price_vs_actual_price.json')"
      ],
      "metadata": {
        "colab": {
          "base_uri": "https://localhost:8080/"
        },
        "id": "A--QPe60kUxW",
        "outputId": "ace66d8c-51cc-4c11-9f53-63f23fa8b4f8"
      },
      "execution_count": 18,
      "outputs": [
        {
          "output_type": "stream",
          "name": "stdout",
          "text": [
            "|       | actual_price   | discounted_price   |\n",
            "|:------|:---------------|:-------------------|\n",
            "| count | 1465           | 1465               |\n",
            "| mean  | 5444.99        | 3125.31            |\n",
            "| std   | 10874.8        | 6944.3             |\n",
            "| min   | 39             | 39                 |\n",
            "| 25%   | 800            | 325                |\n",
            "| 50%   | 1650           | 799                |\n",
            "| 75%   | 4295           | 1999               |\n",
            "| max   | 139900         | 77990              |\n"
          ]
        }
      ]
    },
    {
      "cell_type": "markdown",
      "source": [
        "4. How does the average discount percentage vary across categories?"
      ],
      "metadata": {
        "id": "9ee4Ec5zka9i"
      }
    },
    {
      "cell_type": "code",
      "source": [
        "import pandas as pd\n",
        "\n",
        "pd.set_option('display.max_rows', None)\n",
        "pd.set_option('display.max_columns', None)\n",
        "\n",
        "# Read the CSV file into a DataFrame\n",
        "df_amazon = pd.read_csv('amazon.csv')\n",
        "\n",
        "# Display the first 5 rows\n",
        "print(df_amazon.head().to_markdown(index=False, numalign=\"left\", stralign=\"left\"))\n",
        "\n",
        "# Print the column names and their data types\n",
        "print(df_amazon.info())\n",
        "# Convert the `discount_percentage` column to numeric\n",
        "df_amazon['discount_percentage'] = df_amazon['discount_percentage'].astype(str).str.replace('%', '', regex=False)\n",
        "df_amazon['discount_percentage'] = pd.to_numeric(df_amazon['discount_percentage'])\n",
        "\n",
        "# Group the data by `category` and calculate the average `discount_percentage` for each `category`\n",
        "average_discount_percentage = df_amazon.groupby('category')['discount_percentage'].mean()\n",
        "\n",
        "# Rename the column from `discount_percentage` to `Average Discount Percentage`\n",
        "average_discount_percentage = average_discount_percentage.rename('Average Discount Percentage')\n",
        "\n",
        "# Sort the results in descending order of `Average Discount Percentage`\n",
        "average_discount_percentage = average_discount_percentage.sort_values(ascending=False)\n",
        "\n",
        "# Print the results\n",
        "print(average_discount_percentage.to_markdown(numalign=\"left\", stralign=\"left\"))"
      ],
      "metadata": {
        "colab": {
          "base_uri": "https://localhost:8080/"
        },
        "id": "H6E8eCaMkr4l",
        "outputId": "2ceeaa84-db9f-4f65-d5ef-b76bb872b4af"
      },
      "execution_count": 19,
      "outputs": [
        {
          "output_type": "stream",
          "name": "stdout",
          "text": [
            "| product_id   | product_name                                                                                                                                                                                            | category                                                                          | discounted_price   | actual_price   | discount_percentage   | rating   | rating_count   | about_product                                                                                                                                                                                                                                                                                                                                                                                                                                                                                                                                                                                                                                                                                                                                                                                                                                                                                                                                                                                                                                                                                                                                 | user_id                                                                                                                                                                                                                                 | user_name                                                                                 | review_id                                                                                                              | review_title                                                                                                                                                                          | review_content                                                                                                                                                                                                                                                                                                                                                                                                                                                                                                                                                                                                                                                                                                                                                                                                                                                                                                                                                                                                                                                                                                                                                                                                                                                                                                                                                                                                                                                                                                                                                                                                                                                                                                                                                                                                                                                                                                                                                                                                                                                                                                                                                                                                                                                                                                                                                                                                                                                                                                                                      | img_link                                                                                              | product_link                                                                                                                     |\n",
            "|:-------------|:--------------------------------------------------------------------------------------------------------------------------------------------------------------------------------------------------------|:----------------------------------------------------------------------------------|:-------------------|:---------------|:----------------------|:---------|:---------------|:----------------------------------------------------------------------------------------------------------------------------------------------------------------------------------------------------------------------------------------------------------------------------------------------------------------------------------------------------------------------------------------------------------------------------------------------------------------------------------------------------------------------------------------------------------------------------------------------------------------------------------------------------------------------------------------------------------------------------------------------------------------------------------------------------------------------------------------------------------------------------------------------------------------------------------------------------------------------------------------------------------------------------------------------------------------------------------------------------------------------------------------------|:----------------------------------------------------------------------------------------------------------------------------------------------------------------------------------------------------------------------------------------|:------------------------------------------------------------------------------------------|:-----------------------------------------------------------------------------------------------------------------------|:--------------------------------------------------------------------------------------------------------------------------------------------------------------------------------------|:----------------------------------------------------------------------------------------------------------------------------------------------------------------------------------------------------------------------------------------------------------------------------------------------------------------------------------------------------------------------------------------------------------------------------------------------------------------------------------------------------------------------------------------------------------------------------------------------------------------------------------------------------------------------------------------------------------------------------------------------------------------------------------------------------------------------------------------------------------------------------------------------------------------------------------------------------------------------------------------------------------------------------------------------------------------------------------------------------------------------------------------------------------------------------------------------------------------------------------------------------------------------------------------------------------------------------------------------------------------------------------------------------------------------------------------------------------------------------------------------------------------------------------------------------------------------------------------------------------------------------------------------------------------------------------------------------------------------------------------------------------------------------------------------------------------------------------------------------------------------------------------------------------------------------------------------------------------------------------------------------------------------------------------------------------------------------------------------------------------------------------------------------------------------------------------------------------------------------------------------------------------------------------------------------------------------------------------------------------------------------------------------------------------------------------------------------------------------------------------------------------------------------------------------------|:------------------------------------------------------------------------------------------------------|:---------------------------------------------------------------------------------------------------------------------------------|\n",
            "| B07JW9H4J1   | Wayona Nylon Braided USB to Lightning Fast Charging and Data Sync Cable Compatible for iPhone 13, 12,11, X, 8, 7, 6, 5, iPad Air, Pro, Mini (3 FT Pack of 1, Grey)                                      | Computers&Accessories|Accessories&Peripherals|Cables&Accessories|Cables|USBCables | ₹399               | ₹1,099         | 64%                   | 4.2      | 24,269         | High Compatibility : Compatible With iPhone 12, 11, X/XsMax/Xr ,iPhone 8/8 Plus,iPhone 7/7 Plus,iPhone 6s/6s Plus,iPhone 6/6 Plus,iPhone 5/5s/5c/se,iPad Pro,iPad Air 1/2,iPad mini 1/2/3,iPod nano7,iPod touch and more apple devices.|Fast Charge&Data Sync : It can charge and sync simultaneously at a rapid speed, Compatible with any charging adaptor, multi-port charging station or power bank.|Durability : Durable nylon braided design with premium aluminum housing and toughened nylon fiber wound tightly around the cord lending it superior durability and adding a bit to its flexibility.|High Security Level : It is designed to fully protect your device from damaging excessive current.Copper core thick+Multilayer shielding, Anti-interference, Protective circuit equipment.|WARRANTY: 12 months warranty and friendly customer services, ensures the long-time enjoyment of your purchase. If you meet any question or problem, please don't hesitate to contact us.                                                                                                                                              | AG3D6O4STAQKAY2UVGEUV46KN35Q,AHMY5CWJMMK5BJRBBSNLYT3ONILA,AHCTC6ULH4XB6YHDY6PCH2R772LQ,AGYHHIERNXKA6P5T7CZLXKVPT7IQ,AG4OGOFWXJZTQ2HKYIOCOY3KXF2Q,AENGU523SXMOS7JPDTW52PNNVWGQ,AEQJHCVTNINBS4FKTBGQRQTGTE5Q,AFC3FFC5PKFF5PMA52S3VCHOZ5FQ | Manav,Adarsh gupta,Sundeep,S.Sayeed Ahmed,jaspreet singh,Khaja moin,Anand,S.ARUMUGAM      | R3HXWT0LRP0NMF,R2AJM3LFTLZHFO,R6AQJGUP6P86,R1KD19VHEDV0OR,R3C02RMYQMK6FC,R39GQRVBUZBWGY,R2K9EDOE15QIRJ,R3OI7YT648TL8I  | Satisfied,Charging is really fast,Value for money,Product review,Good quality,Good product,Good Product,As of now seems good                                                          | Looks durable Charging is fine tooNo complains,Charging is really fast, good product.,Till now satisfied with the quality.,This is a good product . The charging speed is slower than the original iPhone cable,Good quality, would recommend,https://m.media-amazon.com/images/W/WEBP_402378-T1/images/I/81---F1ZgHL._SY88.jpg,Product had worked well till date and was having no issue.Cable is also sturdy enough...Have asked for replacement and company is doing the same...,Value for money                                                                                                                                                                                                                                                                                                                                                                                                                                                                                                                                                                                                                                                                                                                                                                                                                                                                                                                                                                                                                                                                                                                                                                                                                                                                                                                                                                                                                                                                                                                                                                                                                                                                                                                                                                                                                                                                                                                                                                                                                                                 | https://m.media-amazon.com/images/W/WEBP_402378-T1/images/I/51UsScvHQNL._SX300_SY300_QL70_FMwebp_.jpg | https://www.amazon.in/Wayona-Braided-WN3LG1-Syncing-Charging/dp/B07JW9H4J1/ref=sr_1_1?qid=1672909124&s=electronics&sr=1-1        |\n",
            "| B098NS6PVG   | Ambrane Unbreakable 60W / 3A Fast Charging 1.5m Braided Type C Cable for Smartphones, Tablets, Laptops & other Type C devices, PD Technology, 480Mbps Data Sync, Quick Charge 3.0 (RCT15A, Black)       | Computers&Accessories|Accessories&Peripherals|Cables&Accessories|Cables|USBCables | ₹199               | ₹349           | 43%                   | 4        | 43,994         | Compatible with all Type C enabled devices, be it an android smartphone (Mi, Samsung, Oppo, Vivo, Realme, OnePlus, etc), tablet, laptop (Macbook, Chromebook, etc)|Supports Quick Charging (2.0/3.0)|Unbreakable – Made of special braided outer with rugged interior bindings, it is ultra-durable cable that won’t be affected by daily rough usage|Ideal Length – It has ideal length of 1.5 meters which is neither too short like your typical 1meter cable or too long like a 2meters cable|Supports maximum 3A fast charging and 480 Mbps data transfer speed|6 months manufacturer warranty from the date of purchase                                                                                                                                                                                                                                                                                                                                                                                                                                                                                                                 | AECPFYFQVRUWC3KGNLJIOREFP5LQ,AGYYVPDD7YG7FYNBXNGXZJT525AQ,AHONIZU3ICIEHQIGQ6R2VFRSBXOQ,AFPHD2CRPDZMWMBL7WXRSVYWS5JA,AEZ346GX3HJ4O4XNRPHCNHXQURMQ,AEPSWFPNECKO34PUC7I56ITGXR6Q,AHWVEHR5DYLVFTO2KF3IZATFQSWQ,AH4QT33M55677I7ISQOAKEQWACYQ | ArdKn,Nirbhay kumar,Sagar Viswanathan,Asp,Placeholder,BharanI,sonia,Niam                  | RGIQEG07R9HS2,R1SMWZQ86XIN8U,R2J3Y1WL29GWDE,RYGGS0M09S3KY,R17KQRUTAN5DKS,R3AAQGS6HP2QUK,R1HDNOG6TO2CCA,R3PHKXYA5AFEOU  | A Good Braided Cable for Your Type C Device,Good quality product from ambrane,Super cable,As,Good quality,Good product,its good,Good quality for the price but one issue with my unit | I ordered this cable to connect my phone to Android Auto of car. The cable is really strong and the connection ports are really well made. I already has a Micro USB cable from Ambrane and it's still in good shape. I connected my phone to the car using the cable and it got connected well and no issues. I also connected it to the charging port and yes it has Fast Charging support.,It quality is good at this price and the main thing is that i didn't ever thought that this cable will be so long it's good one and charging power is too good and also supports fast charging,Value for money, with extra length👍,Good, working fine,Product quality is good,Good,very good,Bought for my daughter's old phone.Brand new cable it was not charging, I already repacked and requested for replacement.I checked again, and there was some green colour paste/fungus inside the micro USB connector. I cleaned with an alcoholic and starts working again.Checked the ampere of charging speed got around 1400ma-1500ma - not bad, came with braided 1.5m long cable, pretty impressive for the price.Can't blame the manufacturer.But quality issues by the distributor, they might have stored in very humid place.                                                                                                                                                                                                                                                                                                                                                                                                                                                                                                                                                                                                                                                                                                                                                                                                                                                                                                                                                                                                                                                                                                                                                                                                                                                                                                                 | https://m.media-amazon.com/images/W/WEBP_402378-T2/images/I/31zOsqQOAOL._SY445_SX342_QL70_FMwebp_.jpg | https://www.amazon.in/Ambrane-Unbreakable-Charging-Braided-Cable/dp/B098NS6PVG/ref=sr_1_2?qid=1672909124&s=electronics&sr=1-2    |\n",
            "| B096MSW6CT   | Sounce Fast Phone Charging Cable & Data Sync USB Cable Compatible for iPhone 13, 12,11, X, 8, 7, 6, 5, iPad Air, Pro, Mini & iOS Devices                                                                | Computers&Accessories|Accessories&Peripherals|Cables&Accessories|Cables|USBCables | ₹199               | ₹1,899         | 90%                   | 3.9      | 7,928          | 【 Fast Charger& Data Sync】-With built-in safety proctections and four-core copper wires promote maximum signal quality and strength and enhance charging & data transfer speed with up to 480 mb/s transferring speed.|【 Compatibility】-Compatible with iPhone 13, 12,11, X, 8, 7, 6, 5, iPad Air, Pro, Mini & iOS devices.|【 Sturdy & Durable】-The jacket and enforced connector made of TPE and premium copper, are resistant to repeatedly bending and coiling.|【 Ultra High Quality】: According to the experimental results, the fishbone design can accept at least 20,000 bending and insertion tests for extra protection and durability. Upgraded 3D aluminum connector and exclusive laser welding technology, which to ensure the metal part won't break and also have a tighter connection which fits well even with a protective case on and will never loose connection.|【 Good After Sales Service】-Our friendly and reliable customer service will respond to you within 24 hours ! you can purchase with confidence,and every sale includes a 365-day worry-free Service to prove the importance we set on quality. | AGU3BBQ2V2DDAMOAKGFAWDDQ6QHA,AESFLDV2PT363T2AQLWQOWZ4N3OA,AHTPQRIMGUD4BYR5YIHBH3CCGEFQ,AEUVWXYP5LT7PZLLZENEO2NODPBQ,AHC7MPW55DOO6WNCOQVA2VHOD26A,AFDI6FRPFBTNBG7BAEB7JDJSMKDQ,AFQKCEEEKXCOHTDG4WUN3XPPHJQQ,AHKUUFNMBZIDLSSPA4FEHIO2EC7Q | Kunal,Himanshu,viswanath,sai niharka,saqib malik,Aashiq,Ramu Challa,Sanjay gupta          | R3J3EQQ9TZI5ZJ,R3E7WBGK7ID0KV,RWU79XKQ6I1QF,R25X4TBMPY91LX,R27OK7G99VK0TR,R207CYDCHJJTCJ,R3PCU8XMU173BT,R1IMONDOWRNU5V | Good speed for earlier versions,Good Product,Working good,Good for the price,Good,Worth for money,Working nice,it's a really nice product                                             | Not quite durable and sturdy,https://m.media-amazon.com/images/W/WEBP_402378-T1/images/I/71rIggrbUCL._SY88.jpg,Working good,https://m.media-amazon.com/images/W/WEBP_402378-T1/images/I/61bKp9YO6wL._SY88.jpg,Product,Very nice product,Working well,It's a really nice product                                                                                                                                                                                                                                                                                                                                                                                                                                                                                                                                                                                                                                                                                                                                                                                                                                                                                                                                                                                                                                                                                                                                                                                                                                                                                                                                                                                                                                                                                                                                                                                                                                                                                                                                                                                                                                                                                                                                                                                                                                                                                                                                                                                                                                                                     | https://m.media-amazon.com/images/W/WEBP_402378-T1/images/I/31IvNJZnmdL._SY445_SX342_QL70_FMwebp_.jpg | https://www.amazon.in/Sounce-iPhone-Charging-Compatible-Devices/dp/B096MSW6CT/ref=sr_1_3?qid=1672909124&s=electronics&sr=1-3     |\n",
            "| B08HDJ86NZ   | boAt Deuce USB 300 2 in 1 Type-C & Micro USB Stress Resistant, Tangle-Free, Sturdy Cable with 3A Fast Charging & 480mbps Data Transmission, 10000+ Bends Lifespan and Extended 1.5m Length(Martian Red) | Computers&Accessories|Accessories&Peripherals|Cables&Accessories|Cables|USBCables | ₹329               | ₹699           | 53%                   | 4.2      | 94,363         | The boAt Deuce USB 300 2 in 1 cable is compatible with smartphones, tablets, PC peripherals, Bluetooth speakers, power banks and all other devices with Type-C as well as Micro USB port|It ensures 3A fast charging and data transmissions with rapid sync at 480 mbps|The premium Nylon braided skin makes it sturdy and invincible against external damage|Its Aluminium alloy shell housing makes it last longer with 10000+ Bends Lifespan with extended frame protection for strain relief|The resilient and flexible design offers a tangle free experience seamlessly|Deuce USB 300 cable offers a perfect 1.5 meters in length for smooth & hassle-free user experience|2 years warranty from the date of purchase                                                                                                                                                                                                                                                                                                                                                                                                                   | AEWAZDZZJLQUYVOVGBEUKSLXHQ5A,AG5HTSFRRE6NL3M5SGCUQBP7YSCA,AH725ST5NW2Y4JZPKUNTIJCUK2BA,AHV3TXIFCJPMS4D5JATCEUR266MQ,AGWIGDEMFIIUAOXYY2QATNBSUGHA,AFSTSLQUV4EVEXWKBOLEFHL2H5YQ,AGAKDNBHY2FKX7I4ACRGILU7QL7A,AFNWJUWJRHCC6HN52KMG5AKZY37Q | Omkar dhale,JD,HEMALATHA,Ajwadh a.,amar singh chouhan,Ravi Siddan,Himanshu Goel,Udaykumar | R3EEUZKKK9J36I,R3HJVYCLYOY554,REDECAZ7AMPQC,R1CLH2ULIVG5U3,R2DMKIBGFKBD6R,RC89B5IAJUTR5,R3B3DDON5FH8DS,R13WAEJDI5RS36  | Good product,Good one,Nice,Really nice product,Very first time change,Good,Fine product but could be better,Very nice it's charging like jet                                          | Good product,long wire,Charges good,Nice,I bought this cable for Rs.339 worthy product for this price, i tested it in various charger adapters 33w and 18w it supports fast charging as well.,Good,Ok,I had got this at good price on sale on Amazon and product is useful with warranty but for warranty you need to go very far not practical for such a cost and mine micro to type c connector stopped working after few days only.,I like this product                                                                                                                                                                                                                                                                                                                                                                                                                                                                                                                                                                                                                                                                                                                                                                                                                                                                                                                                                                                                                                                                                                                                                                                                                                                                                                                                                                                                                                                                                                                                                                                                                                                                                                                                                                                                                                                                                                                                                                                                                                                                                         | https://m.media-amazon.com/images/I/41V5FtEWPkL._SX300_SY300_QL70_FMwebp_.jpg                         | https://www.amazon.in/Deuce-300-Resistant-Tangle-Free-Transmission/dp/B08HDJ86NZ/ref=sr_1_4?qid=1672909124&s=electronics&sr=1-4  |\n",
            "| B08CF3B7N1   | Portronics Konnect L 1.2M Fast Charging 3A 8 Pin USB Cable with Charge & Sync Function for iPhone, iPad (Grey)                                                                                          | Computers&Accessories|Accessories&Peripherals|Cables&Accessories|Cables|USBCables | ₹154               | ₹399           | 61%                   | 4.2      | 16,905         | [CHARGE & SYNC FUNCTION]- This cable comes with charging & Data sync function|[HIGH QUALITY MATERIAL]- TPE + Nylon Material to make sure that the life of the cable is enhanced significantly|[LONG CORD]- The Cable is extra thick 1.2 meter long, optimized for an easy use for your comfort at home or office|[MORE DURABLE]-This cable is unique interms of design and multi-use and is positioned to provide the best comfort and performance while using|[UNIVERSAL COMPATIBILITY]- Compatible with all devices like iPhone XS, X, XR, 8, 7, 6S, 6, 5S, iPad Pro, iPad mini and iPad Air                                                                                                                                                                                                                                                                                                                                                                                                                                                                                                                                                | AE3Q6KSUK5P75D5HFYHCRAOLODSA,AFUGIFH5ZAFXRDSZHM4QB2KPKFUQ,AFK4NJOLFSJGWLOJIUIAROJF6YVA,AFUOTYRFUXVPEBGIXVZZ7DR3CZUA,AFDLRSXKDZ6U3U3KD46SQLFGZQRA,AH5VLM66SIK7J3IRG4NY7XVOQ55A,AE3MQNNHHLUHXURL5S7IAR7JTGNQ,AFSEOFZY67MYC7UAJU264Z5NFTLA | rahuls6099,Swasat Borah,Ajay Wadke,Pranali,RVK,Bhargav,Durai Vignesh,Amazon Customer      | R1BP4L2HH9TFUP,R16PVJEXKV6QZS,R2UPDB81N66T4P,R3KK4GT934ST3I,RCFHMWUSBIJO,RDO7DACXMAJ84,R3A6MEZL3LY66Z,R1ESIEKPGAYA29   | As good as original,Decent,Good one for secondary use,Best quality,GOOD,Amazing product at a mind blowing price!,Nice Quality,Good product                                            | Bought this instead of original apple, does the work for 150rs, not as fast as apple charger but its a good option if you want cheap and good product, bought it for iPad pro 10.5 and it's working flawlessly, build quality is ok, its not like i am gonna hang my clothes on it and i want a very strong cable, even a braided cable stop working after a year, i have used both Anker and Apple store strong braided cable they all stop working after a year so please don't buy high end cables just for that instead choose a this one and even if it's stops working withing a year you only loose 150rs compares to 2000rs.UPDATE------------------------------------pin has stopped charging from one side, now i have to slip the pin to charge from other side, but i will update and let know for how long does it work,,It’s good. Not sure about durability as the pin area feels a bit fragile,Does not support apple carplaySo was little disappointed about thatOther than that cable is made up of very good quality,Best to buy,100% NOT FATHFUL,Writing this review post 10 months and 3 orders of the same product.Honestly Portronics Konnect L lightning cable works like magic with the original Apple charging brick.Seeing the price of the cable I initially hesitated buying as it was as low as ₹99/- with the offers and so I wasn’t sure if it would work well with my iPhone 12 or whether it would impact my iPhone’s battery health because all the other lightning cable brands were costing over ₹350/- like Wayona, Amazon Basics, etc.Earlier I was using Wayona Brand lightning cable with eventually frayed and stopped working.Charging Speed:Charges my iPhone fast enough almost similar compared to the original cable level when used with 12W Original Apple power adapter.Quality and Durability:Great quality braided cable and doesn’t tangle easily and can withstand day-to-day usage.L-Shaped pin:This is very innovative by Portronics and it makes sure the cable doesn’t get damaged even if used while charging.CarPlay and Data Sync:Works smoothly with CarPlay and syncs data effortlessly.PS: I have used this cable only with the Original Apple Charging Brick and extremely satisfied with its performance.,Better than I expect the product I like that Quality and I plan to buy same type cable come with usb C to Lighting cable for emergency purpose that much I love this cable. Buy for this cable only emergency uses only since Good one,Good product and value for money | https://m.media-amazon.com/images/W/WEBP_402378-T2/images/I/31VzNhhqifL._SX300_SY300_QL70_FMwebp_.jpg | https://www.amazon.in/Portronics-Konnect-POR-1080-Charging-Function/dp/B08CF3B7N1/ref=sr_1_5?qid=1672909124&s=electronics&sr=1-5 |\n",
            "<class 'pandas.core.frame.DataFrame'>\n",
            "RangeIndex: 1465 entries, 0 to 1464\n",
            "Data columns (total 16 columns):\n",
            " #   Column               Non-Null Count  Dtype \n",
            "---  ------               --------------  ----- \n",
            " 0   product_id           1465 non-null   object\n",
            " 1   product_name         1465 non-null   object\n",
            " 2   category             1465 non-null   object\n",
            " 3   discounted_price     1465 non-null   object\n",
            " 4   actual_price         1465 non-null   object\n",
            " 5   discount_percentage  1465 non-null   object\n",
            " 6   rating               1465 non-null   object\n",
            " 7   rating_count         1463 non-null   object\n",
            " 8   about_product        1465 non-null   object\n",
            " 9   user_id              1465 non-null   object\n",
            " 10  user_name            1465 non-null   object\n",
            " 11  review_id            1465 non-null   object\n",
            " 12  review_title         1465 non-null   object\n",
            " 13  review_content       1465 non-null   object\n",
            " 14  img_link             1465 non-null   object\n",
            " 15  product_link         1465 non-null   object\n",
            "dtypes: object(16)\n",
            "memory usage: 183.2+ KB\n",
            "None\n",
            "| category                                                                                                                | Average Discount Percentage   |\n",
            "|:------------------------------------------------------------------------------------------------------------------------|:------------------------------|\n",
            "| Electronics|Mobiles&Accessories|MobileAccessories|Décor|PhoneCharms                                                     | 90                            |\n",
            "| Computers&Accessories|Accessories&Peripherals|Cables&Accessories|CableConnectionProtectors                              | 90                            |\n",
            "| Electronics|Headphones,Earbuds&Accessories|Earpads                                                                      | 90                            |\n",
            "| Electronics|Headphones,Earbuds&Accessories|Adapters                                                                     | 88                            |\n",
            "| Computers&Accessories|Accessories&Peripherals|Keyboards,Mice&InputDevices|Keyboard&MiceAccessories|DustCovers           | 87.5                          |\n",
            "| Electronics|Mobiles&Accessories|MobileAccessories|Mounts|Shower&WallMounts                                              | 82                            |\n",
            "| Computers&Accessories|Components|InternalHardDrives                                                                     | 80                            |\n",
            "| Computers&Accessories|Accessories&Peripherals|Adapters|USBtoUSBAdapters                                                 | 78.5                          |\n",
            "| Electronics|Mobiles&Accessories|MobileAccessories|Stands                                                                | 76.4                          |\n",
            "| Electronics|Headphones,Earbuds&Accessories|Cases                                                                        | 76                            |\n",
            "| Computers&Accessories|Accessories&Peripherals|LaptopAccessories|NotebookComputerStands                                  | 75.6667                       |\n",
            "| Electronics|Cameras&Photography|VideoCameras                                                                            | 75                            |\n",
            "| Computers&Accessories|Accessories&Peripherals|HardDriveAccessories|Caddies                                              | 75                            |\n",
            "| Electronics|Mobiles&Accessories|MobileAccessories|Mounts|Bedstand&DeskMounts                                            | 74.5                          |\n",
            "| Electronics|Mobiles&Accessories|MobileAccessories|Décor                                                                 | 73.2                          |\n",
            "| Electronics|HomeAudio|Accessories|SpeakerAccessories|Mounts                                                             | 73                            |\n",
            "| Computers&Accessories|Printers,Inks&Accessories|Inks,Toners&Cartridges|InkjetInkRefills&Kits                            | 73                            |\n",
            "| Electronics|Mobiles&Accessories|MobileAccessories|Cables&Adapters|OTGAdapters                                           | 72                            |\n",
            "| Electronics|Mobiles&Accessories|MobileAccessories|Cases&Covers|BasicCases                                               | 70.75                         |\n",
            "| Computers&Accessories|Accessories&Peripherals|TabletAccessories|Bags,Cases&Sleeves|Cases                                | 70.5                          |\n",
            "| Computers&Accessories|Accessories&Peripherals|TabletAccessories|Stands                                                  | 70                            |\n",
            "| Electronics|WearableTechnology|SmartWatches                                                                             | 69.8158                       |\n",
            "| Electronics|Cameras&Photography|Accessories|Tripods&Monopods|Tabletop&TravelTripods                                     | 69.5                          |\n",
            "| Electronics|Headphones,Earbuds&Accessories|Headphones|Over-Ear                                                          | 69                            |\n",
            "| Computers&Accessories|ExternalDevices&DataStorage|ExternalSolidStateDrives                                              | 68                            |\n",
            "| Electronics|Mobiles&Accessories|MobileAccessories|Maintenance,Upkeep&Repairs|ScreenProtectors                           | 66.8571                       |\n",
            "| Computers&Accessories|NetworkingDevices                                                                                 | 66                            |\n",
            "| Electronics|Mobiles&Accessories|MobileAccessories|Mounts|HandlebarMounts                                                | 66                            |\n",
            "| Electronics|Mobiles&Accessories|MobileAccessories|Photo&VideoAccessories|Tripods                                        | 66                            |\n",
            "| Electronics|Mobiles&Accessories|MobileAccessories|Photo&VideoAccessories|SelfieSticks                                   | 65.4                          |\n",
            "| Electronics|HomeAudio|Accessories|Adapters                                                                              | 65                            |\n",
            "| Computers&Accessories|Accessories&Peripherals|Cables&Accessories|Cables|SATACables                                      | 65                            |\n",
            "| Electronics|Mobiles&Accessories|MobileAccessories|StylusPens                                                            | 64.625                        |\n",
            "| Computers&Accessories|Accessories&Peripherals|TabletAccessories|ScreenProtectors                                        | 63.8                          |\n",
            "| Electronics|Cameras&Photography|Accessories|Tripods&Monopods|TripodLegs                                                 | 62.5                          |\n",
            "| OfficeProducts|OfficePaperProducts|Paper|Stationery|Notebooks,WritingPads&Diaries|Notepads&MemoBooks                    | 62                            |\n",
            "| Computers&Accessories|Accessories&Peripherals|LaptopAccessories|Bags&Sleeves|LaptopSleeves&Slipcases                    | 61.8333                       |\n",
            "| Computers&Accessories|Accessories&Peripherals|Keyboards,Mice&InputDevices|Keyboard&MiceAccessories|MousePads            | 61.25                         |\n",
            "| Computers&Accessories|Accessories&Peripherals|LaptopAccessories|LaptopChargers&PowerSupplies                            | 61                            |\n",
            "| Computers&Accessories|Accessories&Peripherals|Keyboards,Mice&InputDevices|GraphicTablets                                | 60.8182                       |\n",
            "| Electronics|Mobiles&Accessories|MobileAccessories|AutomobileAccessories|Cradles                                         | 60.3333                       |\n",
            "| Home&Kitchen|HomeStorage&Organization|LaundryOrganization|LaundryBags                                                   | 60                            |\n",
            "| Electronics|HomeAudio|Speakers|SoundbarSpeakers                                                                         | 60                            |\n",
            "| Electronics|Cameras&Photography|Flashes|Macro&RinglightFlashes                                                          | 60                            |\n",
            "| Home&Kitchen|Kitchen&Dining|KitchenTools|ManualChoppers&Chippers|Choppers                                               | 60                            |\n",
            "| Electronics|HomeTheater,TV&Video|Accessories|Cables|HDMICables                                                          | 59.7917                       |\n",
            "| Electronics|HomeTheater,TV&Video|Accessories|RemoteControls                                                             | 59.5102                       |\n",
            "| Computers&Accessories|Accessories&Peripherals|Cables&Accessories|Cables|USBCables                                       | 59.3777                       |\n",
            "| Home&Kitchen|Heating,Cooling&AirQuality|Parts&Accessories|FanParts&Accessories                                          | 59                            |\n",
            "| Computers&Accessories|Accessories&Peripherals|LaptopAccessories|Lapdesks                                                | 58.9286                       |\n",
            "| Electronics|Accessories|MemoryCards|MicroSD                                                                             | 58.8462                       |\n",
            "| Electronics|Headphones,Earbuds&Accessories|Headphones|In-Ear                                                            | 58.2692                       |\n",
            "| HomeImprovement|Electrical|CordManagement                                                                               | 58                            |\n",
            "| Electronics|Mobiles&Accessories|MobileAccessories|Chargers|AutomobileChargers                                           | 58                            |\n",
            "| HomeImprovement|Electrical|Adapters&Multi-Outlets                                                                       | 57                            |\n",
            "| Computers&Accessories|ExternalDevices&DataStorage|PenDrives                                                             | 56.9                          |\n",
            "| Computers&Accessories|Accessories&Peripherals|PCGamingPeripherals|Headsets                                              | 56.6667                       |\n",
            "| Computers&Accessories|Accessories&Peripherals|Audio&VideoAccessories|PCMicrophones                                      | 56.5                          |\n",
            "| Home&Kitchen|Kitchen&HomeAppliances|Coffee,Tea&Espresso|CoffeeMakerAccessories|MeasuringSpoons                          | 56.3333                       |\n",
            "| Electronics|HomeAudio|Speakers|OutdoorSpeakers                                                                          | 56.25                         |\n",
            "| Computers&Accessories|Accessories&Peripherals|Cables&Accessories|Cables|DVICables                                       | 55                            |\n",
            "| Home&Kitchen|Kitchen&HomeAppliances|SmallKitchenAppliances|YogurtMakers                                                 | 55                            |\n",
            "| Computers&Accessories|NetworkingDevices|Repeaters&Extenders                                                             | 54.3333                       |\n",
            "| Computers&Accessories|Accessories&Peripherals|HardDiskBags                                                              | 54.3333                       |\n",
            "| Computers&Accessories|Accessories&Peripherals|Cables&Accessories|Cables|EthernetCables                                  | 54                            |\n",
            "| Home&Kitchen|Kitchen&HomeAppliances|Coffee,Tea&Espresso|StovetopEspressoPots                                            | 54                            |\n",
            "| Home&Kitchen|Kitchen&HomeAppliances|SmallKitchenAppliances|DigitalKitchenScales                                         | 53.9                          |\n",
            "| Home&Kitchen|Kitchen&HomeAppliances|SmallKitchenAppliances|WaffleMakers&Irons                                           | 53.3333                       |\n",
            "| Health&PersonalCare|HomeMedicalSupplies&Equipment|HealthMonitors|WeighingScales|DigitalBathroomScales                   | 53                            |\n",
            "| OfficeProducts|OfficePaperProducts|Paper|Stationery|Notebooks,WritingPads&Diaries                                       | 53                            |\n",
            "| Home&Kitchen|Kitchen&HomeAppliances|SmallKitchenAppliances|EggBoilers                                                   | 52.9091                       |\n",
            "| Home&Kitchen|Kitchen&HomeAppliances|SmallKitchenAppliances|Juicers                                                      | 52.5                          |\n",
            "| Electronics|Headphones,Earbuds&Accessories|Headphones|On-Ear                                                            | 52.375                        |\n",
            "| Computers&Accessories|Accessories&Peripherals|PCGamingPeripherals|Gamepads                                              | 52.3333                       |\n",
            "| Electronics|HomeTheater,TV&Video|Televisions|StandardTelevisions                                                        | 52.1667                       |\n",
            "| Home&Kitchen|Heating,Cooling&AirQuality|RoomHeaters                                                                     | 51.5                          |\n",
            "| Electronics|Mobiles&Accessories|MobileAccessories|Chargers|WallChargers                                                 | 51.4375                       |\n",
            "| Electronics|HomeTheater,TV&Video|SatelliteEquipment|SatelliteReceivers                                                  | 51.3333                       |\n",
            "| Home&Kitchen|Kitchen&HomeAppliances|Vacuum,Cleaning&Ironing|Irons,Steamers&Accessories|LintShavers                      | 51.3182                       |\n",
            "| Electronics|HomeTheater,TV&Video|Accessories|TVMounts,Stands&Turntables|TVWall&CeilingMounts                            | 51.1667                       |\n",
            "| Electronics|Mobiles&Accessories|MobileAccessories|Photo&VideoAccessories|Flashes&SelfieLights|SelfieLights              | 51                            |\n",
            "| Home&Kitchen|Kitchen&HomeAppliances|Coffee,Tea&Espresso|CoffeeGrinders|ElectricGrinders                                 | 51                            |\n",
            "| Electronics|HomeTheater,TV&Video|Accessories|Cables|RCACables                                                           | 50.5                          |\n",
            "| Computers&Accessories|Monitors                                                                                          | 50.5                          |\n",
            "| Electronics|HomeTheater,TV&Video|Accessories|Cables|SpeakerCables                                                       | 50                            |\n",
            "| Computers&Accessories|NetworkingDevices|NetworkAdapters|WirelessUSBAdapters                                             | 49.1111                       |\n",
            "| Computers&Accessories|Components|Memory                                                                                 | 49                            |\n",
            "| Home&Kitchen|Kitchen&HomeAppliances|Vacuum,Cleaning&Ironing|Vacuums&FloorCare|VacuumAccessories|VacuumBags|HandheldBags | 49                            |\n",
            "| Electronics|HomeAudio|Speakers|BluetoothSpeakers                                                                        | 48.5                          |\n",
            "| Home&Kitchen|Heating,Cooling&AirQuality|WaterHeaters&Geysers|InstantWaterHeaters                                        | 48.0435                       |\n",
            "| Computers&Accessories|Printers,Inks&Accessories|Inks,Toners&Cartridges|TonerCartridges                                  | 48                            |\n",
            "| Computers&Accessories|Components|InternalSolidStateDrives                                                               | 48                            |\n",
            "| Home&Kitchen|Kitchen&HomeAppliances|SmallKitchenAppliances|StandMixers                                                  | 48                            |\n",
            "| Home&Kitchen|HomeStorage&Organization|LaundryOrganization|IroningAccessories|SprayBottles                               | 47                            |\n",
            "| Home&Kitchen|Kitchen&HomeAppliances|SmallKitchenAppliances|Juicers|ColdPressJuicers                                     | 47                            |\n",
            "| Computers&Accessories|Accessories&Peripherals|Audio&VideoAccessories|PCSpeakers                                         | 46.5                          |\n",
            "| Electronics|HomeTheater,TV&Video|Accessories|Cables|OpticalCables                                                       | 46.3333                       |\n",
            "| Electronics|Cameras&Photography|Accessories|PhotoStudio&Lighting|PhotoBackgroundAccessories|BackgroundSupports          | 46                            |\n",
            "| MusicalInstruments|Microphones|Condenser                                                                                | 46                            |\n",
            "| Home&Kitchen|Heating,Cooling&AirQuality|WaterHeaters&Geysers|StorageWaterHeaters                                        | 45.0833                       |\n",
            "| Computers&Accessories|ExternalDevices&DataStorage|ExternalMemoryCardReaders                                             | 45                            |\n",
            "| Computers&Accessories|Accessories&Peripherals|LaptopAccessories|CoolingPads                                             | 45                            |\n",
            "| Home&Kitchen|Kitchen&HomeAppliances|Vacuum,Cleaning&Ironing|Vacuums&FloorCare|Vacuums|RoboticVacuums                    | 45                            |\n",
            "| Home&Kitchen|Kitchen&HomeAppliances|SmallKitchenAppliances|InductionCooktop                                             | 44.9                          |\n",
            "| Home&Kitchen|HomeStorage&Organization|LaundryOrganization|LaundryBaskets                                                | 44.8462                       |\n",
            "| Computers&Accessories|NetworkingDevices|Routers                                                                         | 44.6667                       |\n",
            "| Computers&Accessories|Accessories&Peripherals|Audio&VideoAccessories|Webcams&VoIPEquipment|Webcams                      | 44.5                          |\n",
            "| Home&Kitchen|Kitchen&HomeAppliances|Vacuum,Cleaning&Ironing|PressureWashers,Steam&WindowCleaners                        | 44.3333                       |\n",
            "| Home&Kitchen|Kitchen&HomeAppliances|SmallKitchenAppliances|Kettles&HotWaterDispensers|Kettle&ToasterSets                | 44.2308                       |\n",
            "| Home&Kitchen|Kitchen&HomeAppliances|SmallKitchenAppliances|JuicerMixerGrinders                                          | 44.1667                       |\n",
            "| Home&Kitchen|Kitchen&HomeAppliances|SmallKitchenAppliances|DeepFatFryers|AirFryers                                      | 44                            |\n",
            "| Computers&Accessories|Accessories&Peripherals|LaptopAccessories                                                         | 44                            |\n",
            "| Electronics|Accessories|MemoryCards|SecureDigitalCards                                                                  | 44                            |\n",
            "| Home&Kitchen|Kitchen&HomeAppliances|SmallKitchenAppliances|MixerGrinders                                                | 43.963                        |\n",
            "| Home&Kitchen|Kitchen&HomeAppliances|Vacuum,Cleaning&Ironing|Vacuums&FloorCare|Vacuums|Wet-DryVacuums                    | 43.6667                       |\n",
            "| Computers&Accessories|Accessories&Peripherals|USBHubs                                                                   | 43.4                          |\n",
            "| Home&Kitchen|Heating,Cooling&AirQuality|AirConditioners|Split-SystemAirConditioners                                     | 43                            |\n",
            "| Electronics|HomeAudio|Speakers|TowerSpeakers                                                                            | 43                            |\n",
            "| Electronics|HomeTheater,TV&Video|Projectors                                                                             | 42.6667                       |\n",
            "| Electronics|Cameras&Photography|SecurityCameras|DomeCameras                                                             | 42.6                          |\n",
            "| Home&Kitchen|Kitchen&HomeAppliances|WaterPurifiers&Accessories|WaterFilters&Purifiers                                   | 42.5                          |\n",
            "| Home&Kitchen|Heating,Cooling&AirQuality|RoomHeaters|FanHeaters                                                          | 42.45                         |\n",
            "| Computers&Accessories|Accessories&Peripherals|Keyboards,Mice&InputDevices|Mice                                          | 42.0417                       |\n",
            "| Home&Kitchen|Kitchen&HomeAppliances|SmallKitchenAppliances|HandMixers                                                   | 42                            |\n",
            "| Home&Kitchen|Heating,Cooling&AirQuality|Fans|TableFans                                                                  | 42                            |\n",
            "| Car&Motorbike|CarAccessories|InteriorAccessories|AirPurifiers&Ionizers                                                  | 42                            |\n",
            "| Home&Kitchen|Kitchen&HomeAppliances|SmallKitchenAppliances|MiniFoodProcessors&Choppers                                  | 41.875                        |\n",
            "| Home&Kitchen|Kitchen&HomeAppliances|SmallKitchenAppliances|HandBlenders                                                 | 41.6842                       |\n",
            "| Home&Kitchen|Kitchen&HomeAppliances|Coffee,Tea&Espresso|MilkFrothers                                                    | 41.3333                       |\n",
            "| Home&Kitchen|Heating,Cooling&AirQuality|AirPurifiers|HEPAAirPurifiers                                                   | 41                            |\n",
            "| Home&Kitchen|Kitchen&HomeAppliances|WaterPurifiers&Accessories|WaterPurifierAccessories                                 | 40.8182                       |\n",
            "| Home&Kitchen|Kitchen&HomeAppliances|SewingMachines&Accessories|Sewing&EmbroideryMachines                                | 40.5                          |\n",
            "| Computers&Accessories|NetworkingDevices|NetworkAdapters|PowerLANAdapters                                                | 40                            |\n",
            "| Electronics|Cameras&Photography|Accessories|Cleaners|CleaningKits                                                       | 40                            |\n",
            "| Home&Kitchen|Heating,Cooling&AirQuality|Fans|PedestalFans                                                               | 40                            |\n",
            "| Home&Kitchen|Heating,Cooling&AirQuality|Humidifiers                                                                     | 39.3333                       |\n",
            "| Home&Kitchen|Kitchen&HomeAppliances|SmallKitchenAppliances|Kettles&HotWaterDispensers|ElectricKettles                   | 39                            |\n",
            "| Home&Kitchen|Kitchen&HomeAppliances|SmallKitchenAppliances                                                              | 39                            |\n",
            "| Computers&Accessories|Accessories&Peripherals|PCGamingPeripherals|GamingKeyboards                                       | 39                            |\n",
            "| Electronics|HomeTheater,TV&Video|Televisions|SmartTelevisions                                                           | 38.2857                       |\n",
            "| Home&Kitchen|Heating,Cooling&AirQuality|Fans|CeilingFans                                                                | 38.1818                       |\n",
            "| Electronics|HomeAudio|Speakers|MultimediaSpeakerSystems                                                                 | 38                            |\n",
            "| Computers&Accessories|Laptops|TraditionalLaptops                                                                        | 38                            |\n",
            "| Electronics|Cameras&Photography|Accessories|Tripods&Monopods|CompleteTripodUnits                                        | 38                            |\n",
            "| Electronics|Mobiles&Accessories|MobileAccessories|Chargers|PowerBanks                                                   | 38                            |\n",
            "| Home&Kitchen|Kitchen&HomeAppliances|Vacuum,Cleaning&Ironing|Vacuums&FloorCare|Vacuums|HandheldVacuums                   | 37.75                         |\n",
            "| Home&Kitchen|Kitchen&HomeAppliances|Coffee,Tea&Espresso|DripCoffeeMachines                                              | 37.4                          |\n",
            "| Electronics|HomeTheater,TV&Video|AVReceivers&Amplifiers                                                                 | 36                            |\n",
            "| Home&Kitchen|Heating,Cooling&AirQuality|RoomHeaters|ElectricHeaters                                                     | 36                            |\n",
            "| Computers&Accessories|Accessories&Peripherals|Keyboards,Mice&InputDevices|Keyboards                                     | 35                            |\n",
            "| Computers&Accessories|Accessories&Peripherals|Audio&VideoAccessories|PCHeadsets                                         | 35                            |\n",
            "| Computers&Accessories|NetworkingDevices|DataCards&Dongles                                                               | 35                            |\n",
            "| Home&Kitchen|Kitchen&HomeAppliances|Vacuum,Cleaning&Ironing|Irons,Steamers&Accessories|Irons|DryIrons                   | 34.25                         |\n",
            "| Computers&Accessories|Accessories&Peripherals|PCGamingPeripherals|GamingMice                                            | 33.5                          |\n",
            "| Home&Kitchen|Kitchen&HomeAppliances|SmallKitchenAppliances|RotiMakers                                                   | 33                            |\n",
            "| Computers&Accessories|NetworkingDevices|NetworkAdapters|BluetoothAdapters                                               | 33                            |\n",
            "| Home&Kitchen|Kitchen&HomeAppliances|SmallKitchenAppliances|SandwichMakers                                               | 32.3636                       |\n",
            "| Computers&Accessories|Accessories&Peripherals|Keyboards,Mice&InputDevices|Keyboard&MouseSets                            | 32.1                          |\n",
            "| Home&Kitchen|Kitchen&HomeAppliances|SmallKitchenAppliances|Rice&PastaCookers                                            | 31.8                          |\n",
            "| Home&Kitchen|Heating,Cooling&AirQuality|WaterHeaters&Geysers|ImmersionRods                                              | 31.7778                       |\n",
            "| Home&Kitchen|Kitchen&HomeAppliances|SmallKitchenAppliances|VacuumSealers                                                | 31.4286                       |\n",
            "| Home&Kitchen|Heating,Cooling&AirQuality|RoomHeaters|HalogenHeaters                                                      | 29.5                          |\n",
            "| Computers&Accessories|Tablets                                                                                           | 29                            |\n",
            "| Home&Kitchen|Kitchen&HomeAppliances|Vacuum,Cleaning&Ironing|Vacuums&FloorCare|Vacuums|CanisterVacuums                   | 28.25                         |\n",
            "| Home&Kitchen|Kitchen&HomeAppliances|Coffee,Tea&Espresso|CoffeePresses                                                   | 27                            |\n",
            "| Computers&Accessories|ExternalDevices&DataStorage|ExternalHardDisks                                                     | 27                            |\n",
            "| Home&Kitchen|Heating,Cooling&AirQuality|RoomHeaters|HeatConvectors                                                      | 27                            |\n",
            "| Computers&Accessories|Accessories&Peripherals|LaptopAccessories|CameraPrivacyCovers                                     | 25.6667                       |\n",
            "| Electronics|Cameras&Photography|Accessories|Batteries&Chargers|BatteryChargers                                          | 25                            |\n",
            "| Home&Kitchen|Heating,Cooling&AirQuality|Fans|ExhaustFans                                                                | 24.6667                       |\n",
            "| Home&Kitchen|Kitchen&HomeAppliances|Vacuum,Cleaning&Ironing|Irons,Steamers&Accessories|Irons|SteamIrons                 | 23.8333                       |\n",
            "| Electronics|GeneralPurposeBatteries&BatteryChargers                                                                     | 23.5                          |\n",
            "| Home&Kitchen|Kitchen&HomeAppliances|SmallKitchenAppliances|DigitalKitchenScales|DigitalScales                           | 23.5                          |\n",
            "| Electronics|Mobiles&Accessories|Smartphones&BasicMobiles|Smartphones                                                    | 23.2941                       |\n",
            "| Electronics|HomeTheater,TV&Video|Accessories|3DGlasses                                                                  | 23                            |\n",
            "| Home&Kitchen|Kitchen&HomeAppliances|SmallKitchenAppliances|Mills&Grinders|WetGrinders                                   | 21.5                          |\n",
            "| Home&Kitchen|CraftMaterials|Scrapbooking|Tape                                                                           | 21                            |\n",
            "| Computers&Accessories|Accessories&Peripherals|UninterruptedPowerSupplies                                                | 20                            |\n",
            "| Electronics|Mobiles&Accessories|Smartphones&BasicMobiles|BasicMobiles                                                   | 18.5556                       |\n",
            "| OfficeProducts|OfficePaperProducts|Paper|Stationery|Pens,Pencils&WritingSupplies|Pens&Refills|RetractableBallpointPens  | 17.5                          |\n",
            "| Home&Kitchen|Kitchen&HomeAppliances|Coffee,Tea&Espresso|EspressoMachines                                                | 17                            |\n",
            "| Computers&Accessories|Accessories&Peripherals|USBGadgets|Lamps                                                          | 16                            |\n",
            "| Electronics|GeneralPurposeBatteries&BatteryChargers|DisposableBatteries                                                 | 14.2857                       |\n",
            "| Electronics|PowerAccessories|SurgeProtectors                                                                            | 14                            |\n",
            "| Computers&Accessories|Printers,Inks&Accessories|Printers                                                                | 13.6667                       |\n",
            "| Electronics|GeneralPurposeBatteries&BatteryChargers|RechargeableBatteries                                               | 13.3333                       |\n",
            "| Computers&Accessories|Printers,Inks&Accessories|Inks,Toners&Cartridges|InkjetInkCartridges                              | 13                            |\n",
            "| OfficeProducts|OfficePaperProducts|Paper|Stationery|Pens,Pencils&WritingSupplies|Pens&Refills|StickBallpointPens        | 13                            |\n",
            "| Home&Kitchen|Kitchen&HomeAppliances|SmallKitchenAppliances|Pop-upToasters                                               | 13                            |\n",
            "| OfficeProducts|OfficePaperProducts|Paper|Stationery|Notebooks,WritingPads&Diaries|CompositionNotebooks                  | 12                            |\n",
            "| Computers&Accessories|Printers,Inks&Accessories|Printers|InkjetPrinters                                                 | 11.5                          |\n",
            "| Home&Kitchen|CraftMaterials|DrawingMaterials|DrawingMedia|Pens                                                          | 10                            |\n",
            "| Home&Kitchen|Kitchen&HomeAppliances|SmallKitchenAppliances|OvenToasterGrills                                            | 9.5                           |\n",
            "| Home&Kitchen|CraftMaterials|PaintingMaterials|Paints                                                                    | 9.33333                       |\n",
            "| Home&Kitchen|Kitchen&HomeAppliances|SmallKitchenAppliances|SmallApplianceParts&Accessories                              | 8                             |\n",
            "| OfficeProducts|OfficePaperProducts|Paper|Stationery|Notebooks,WritingPads&Diaries|WireboundNotebooks                    | 5.75                          |\n",
            "| OfficeProducts|OfficePaperProducts|Paper|Stationery|Pens,Pencils&WritingSupplies|Pens&Refills|LiquidInkRollerballPens   | 5                             |\n",
            "| OfficeProducts|OfficePaperProducts|Paper|Stationery|Pens,Pencils&WritingSupplies|Pens&Refills|BottledInk                | 5                             |\n",
            "| Home&Kitchen|Kitchen&HomeAppliances|WaterPurifiers&Accessories|WaterCartridges                                          | 3                             |\n",
            "| OfficeProducts|OfficeElectronics|Calculators|Scientific                                                                 | 2.5                           |\n",
            "| OfficeProducts|OfficePaperProducts|Paper|Stationery|Pens,Pencils&WritingSupplies|Pens&Refills|GelInkRollerballPens      | 0                             |\n",
            "| OfficeProducts|OfficePaperProducts|Paper|Stationery|Pens,Pencils&WritingSupplies|Pens&Refills|FountainPens              | 0                             |\n",
            "| Home&Kitchen|CraftMaterials|DrawingMaterials|DrawingMedia|Pencils|WoodenPencils                                         | 0                             |\n",
            "| Home&Kitchen|CraftMaterials|PaintingMaterials                                                                           | 0                             |\n",
            "| OfficeProducts|OfficePaperProducts|Paper|Copy&PrintingPaper|ColouredPaper                                               | 0                             |\n",
            "| OfficeProducts|OfficeElectronics|Calculators|Financial&Business                                                         | 0                             |\n",
            "| OfficeProducts|OfficeElectronics|Calculators|Basic                                                                      | 0                             |\n",
            "| Home&Kitchen|Kitchen&HomeAppliances|SmallKitchenAppliances|SmallApplianceParts&Accessories|StandMixerAccessories        | 0                             |\n",
            "| Electronics|HomeAudio|MediaStreamingDevices|StreamingClients                                                            | 0                             |\n",
            "| Electronics|Cameras&Photography|Accessories|Film                                                                        | 0                             |\n",
            "| Toys&Games|Arts&Crafts|Drawing&PaintingSupplies|ColouringPens&Markers                                                   | 0                             |\n"
          ]
        }
      ]
    },
    {
      "cell_type": "markdown",
      "source": [
        "5. What are the most popular product names?"
      ],
      "metadata": {
        "id": "NtNfttw9nNPS"
      }
    },
    {
      "cell_type": "code",
      "source": [
        "import pandas as pd\n",
        "\n",
        "pd.set_option('display.max_rows', None)\n",
        "pd.set_option('display.max_columns', None)\n",
        "\n",
        "# Count the number of times each product name appears in the dataset\n",
        "product_name_counts = df['product_name'].value_counts()\n",
        "\n",
        "# Get the top 5 most popular product names\n",
        "top_5_product_names = product_name_counts.head(5)\n",
        "\n",
        "# Filter the original dataset to retain only the rows where the `product_name` is one of the `top_5_product_names`.\n",
        "df_top_product_names = df[df['product_name'].isin(top_5_product_names.index)]\n",
        "\n",
        "# Display the result\n",
        "print(top_5_product_names.to_markdown(numalign=\"left\", stralign=\"left\"))\n",
        "\n",
        "# Display the first 5 rows\n",
        "print(df_top_product_names.head().to_markdown(index=False, numalign=\"left\", stralign=\"left\"))\n",
        "\n",
        "# Print the column names and their data types\n",
        "print(df_top_product_names.info())\n",
        "# Print the column names of `df`\n",
        "print(df.columns)"
      ],
      "metadata": {
        "colab": {
          "base_uri": "https://localhost:8080/"
        },
        "id": "JrnlylWGnmjE",
        "outputId": "03b3b943-c4e6-4cb7-8a1e-4185e7ea2402"
      },
      "execution_count": 28,
      "outputs": [
        {
          "output_type": "stream",
          "name": "stdout",
          "text": [
            "| product_name                                                                                                                                                                                      | count   |\n",
            "|:--------------------------------------------------------------------------------------------------------------------------------------------------------------------------------------------------|:--------|\n",
            "| Fire-Boltt Ninja Call Pro Plus 1.83\" Smart Watch with Bluetooth Calling, AI Voice Assistance, 100 Sports Modes IP67 Rating, 240*280 Pixel High Resolution                                         | 5       |\n",
            "| Fire-Boltt Phoenix Smart Watch with Bluetooth Calling 1.3\",120+ Sports Modes, 240*240 PX High Res with SpO2, Heart Rate Monitoring & IP67 Rating                                                  | 4       |\n",
            "| Wayona Nylon Braided USB to Lightning Fast Charging and Data Sync Cable Compatible for iPhone 13, 12,11, X, 8, 7, 6, 5, iPad Air, Pro, Mini (3 FT Pack of 1, Grey)                                | 3       |\n",
            "| Pinnaclz Original Combo of 2 Micro USB Fast Charging Cable, USB Charging Cable for Data Transfer Perfect for Android Smart Phones White 1.2 Meter Made in India (Pack of 2)                       | 3       |\n",
            "| Ambrane Unbreakable 60W / 3A Fast Charging 1.5m Braided Type C Cable for Smartphones, Tablets, Laptops & other Type C devices, PD Technology, 480Mbps Data Sync, Quick Charge 3.0 (RCT15A, Black) | 3       |\n",
            "| product_id   | product_name                                                                                                                                                                                      | category                                                                          | discounted_price   | actual_price   | discount_percentage   | rating   | rating_count   | about_product                                                                                                                                                                                                                                                                                                                                                                                                                                                                                                                                                                                                                                                                                                                                                                                                                                                                                                                                                                                                                                                                                                                                                                                                                                                                                                                                                                                                                                                                                                                                                                                                                                                                                                                                                                                                                                                                                                                                                                                                                                                                                                  | user_id                                                                                                                                                                                                                                 | user_name                                                                                         | review_id                                                                                                               | review_title                                                                                                                                                                                                                                                                                                                  | review_content                                                                                                                                                                                                                                                                                                                                                                                                                                                                                                                                                                                                                                                                                                                                                                                                                                                                                                                                                                                                                                                                                                                                                                                                                                                                                                                                                                                                                                                                                                                                                                                                                                                                                                                                                                                                                                                                                                                                                                                                                                                                                                                                                                                                                                                                                                                                                                                                                                                                                                                                                                                                                                                                                                                                                                                                                                                                                                                                                                                                                                                                                                                                                                                                                                                                                                                                                                                                                                                                                                                                                                                                                                                                                                                                                                                                                                                                                                                                                                                                                                                                                                                                                                                                                                                                                                                                                                                                                                                                                            | img_link                                                                                              | product_link                                                                                                                          |\n",
            "|:-------------|:--------------------------------------------------------------------------------------------------------------------------------------------------------------------------------------------------|:----------------------------------------------------------------------------------|:-------------------|:---------------|:----------------------|:---------|:---------------|:---------------------------------------------------------------------------------------------------------------------------------------------------------------------------------------------------------------------------------------------------------------------------------------------------------------------------------------------------------------------------------------------------------------------------------------------------------------------------------------------------------------------------------------------------------------------------------------------------------------------------------------------------------------------------------------------------------------------------------------------------------------------------------------------------------------------------------------------------------------------------------------------------------------------------------------------------------------------------------------------------------------------------------------------------------------------------------------------------------------------------------------------------------------------------------------------------------------------------------------------------------------------------------------------------------------------------------------------------------------------------------------------------------------------------------------------------------------------------------------------------------------------------------------------------------------------------------------------------------------------------------------------------------------------------------------------------------------------------------------------------------------------------------------------------------------------------------------------------------------------------------------------------------------------------------------------------------------------------------------------------------------------------------------------------------------------------------------------------------------|:----------------------------------------------------------------------------------------------------------------------------------------------------------------------------------------------------------------------------------------|:--------------------------------------------------------------------------------------------------|:------------------------------------------------------------------------------------------------------------------------|:------------------------------------------------------------------------------------------------------------------------------------------------------------------------------------------------------------------------------------------------------------------------------------------------------------------------------|:----------------------------------------------------------------------------------------------------------------------------------------------------------------------------------------------------------------------------------------------------------------------------------------------------------------------------------------------------------------------------------------------------------------------------------------------------------------------------------------------------------------------------------------------------------------------------------------------------------------------------------------------------------------------------------------------------------------------------------------------------------------------------------------------------------------------------------------------------------------------------------------------------------------------------------------------------------------------------------------------------------------------------------------------------------------------------------------------------------------------------------------------------------------------------------------------------------------------------------------------------------------------------------------------------------------------------------------------------------------------------------------------------------------------------------------------------------------------------------------------------------------------------------------------------------------------------------------------------------------------------------------------------------------------------------------------------------------------------------------------------------------------------------------------------------------------------------------------------------------------------------------------------------------------------------------------------------------------------------------------------------------------------------------------------------------------------------------------------------------------------------------------------------------------------------------------------------------------------------------------------------------------------------------------------------------------------------------------------------------------------------------------------------------------------------------------------------------------------------------------------------------------------------------------------------------------------------------------------------------------------------------------------------------------------------------------------------------------------------------------------------------------------------------------------------------------------------------------------------------------------------------------------------------------------------------------------------------------------------------------------------------------------------------------------------------------------------------------------------------------------------------------------------------------------------------------------------------------------------------------------------------------------------------------------------------------------------------------------------------------------------------------------------------------------------------------------------------------------------------------------------------------------------------------------------------------------------------------------------------------------------------------------------------------------------------------------------------------------------------------------------------------------------------------------------------------------------------------------------------------------------------------------------------------------------------------------------------------------------------------------------------------------------------------------------------------------------------------------------------------------------------------------------------------------------------------------------------------------------------------------------------------------------------------------------------------------------------------------------------------------------------------------------------------------------------------------------------------------------------------------------|:------------------------------------------------------------------------------------------------------|:--------------------------------------------------------------------------------------------------------------------------------------|\n",
            "| B07JW9H4J1   | Wayona Nylon Braided USB to Lightning Fast Charging and Data Sync Cable Compatible for iPhone 13, 12,11, X, 8, 7, 6, 5, iPad Air, Pro, Mini (3 FT Pack of 1, Grey)                                | Computers&Accessories|Accessories&Peripherals|Cables&Accessories|Cables|USBCables | ₹399               | ₹1,099         | 64%                   | 4.2      | 24269          | High Compatibility : Compatible With iPhone 12, 11, X/XsMax/Xr ,iPhone 8/8 Plus,iPhone 7/7 Plus,iPhone 6s/6s Plus,iPhone 6/6 Plus,iPhone 5/5s/5c/se,iPad Pro,iPad Air 1/2,iPad mini 1/2/3,iPod nano7,iPod touch and more apple devices.|Fast Charge&Data Sync : It can charge and sync simultaneously at a rapid speed, Compatible with any charging adaptor, multi-port charging station or power bank.|Durability : Durable nylon braided design with premium aluminum housing and toughened nylon fiber wound tightly around the cord lending it superior durability and adding a bit to its flexibility.|High Security Level : It is designed to fully protect your device from damaging excessive current.Copper core thick+Multilayer shielding, Anti-interference, Protective circuit equipment.|WARRANTY: 12 months warranty and friendly customer services, ensures the long-time enjoyment of your purchase. If you meet any question or problem, please don't hesitate to contact us.                                                                                                                                                                                                                                                                                                                                                                                                                                                                                                                                                                                                                                                                                                                                                                                                                                                                                                                                                                                                                                                                                                               | AG3D6O4STAQKAY2UVGEUV46KN35Q,AHMY5CWJMMK5BJRBBSNLYT3ONILA,AHCTC6ULH4XB6YHDY6PCH2R772LQ,AGYHHIERNXKA6P5T7CZLXKVPT7IQ,AG4OGOFWXJZTQ2HKYIOCOY3KXF2Q,AENGU523SXMOS7JPDTW52PNNVWGQ,AEQJHCVTNINBS4FKTBGQRQTGTE5Q,AFC3FFC5PKFF5PMA52S3VCHOZ5FQ | Manav,Adarsh gupta,Sundeep,S.Sayeed Ahmed,jaspreet singh,Khaja moin,Anand,S.ARUMUGAM              | R3HXWT0LRP0NMF,R2AJM3LFTLZHFO,R6AQJGUP6P86,R1KD19VHEDV0OR,R3C02RMYQMK6FC,R39GQRVBUZBWGY,R2K9EDOE15QIRJ,R3OI7YT648TL8I   | Satisfied,Charging is really fast,Value for money,Product review,Good quality,Good product,Good Product,As of now seems good                                                                                                                                                                                                  | Looks durable Charging is fine tooNo complains,Charging is really fast, good product.,Till now satisfied with the quality.,This is a good product . The charging speed is slower than the original iPhone cable,Good quality, would recommend,https://m.media-amazon.com/images/W/WEBP_402378-T1/images/I/81---F1ZgHL._SY88.jpg,Product had worked well till date and was having no issue.Cable is also sturdy enough...Have asked for replacement and company is doing the same...,Value for money                                                                                                                                                                                                                                                                                                                                                                                                                                                                                                                                                                                                                                                                                                                                                                                                                                                                                                                                                                                                                                                                                                                                                                                                                                                                                                                                                                                                                                                                                                                                                                                                                                                                                                                                                                                                                                                                                                                                                                                                                                                                                                                                                                                                                                                                                                                                                                                                                                                                                                                                                                                                                                                                                                                                                                                                                                                                                                                                                                                                                                                                                                                                                                                                                                                                                                                                                                                                                                                                                                                                                                                                                                                                                                                                                                                                                                                                                                                                                                                                       | https://m.media-amazon.com/images/W/WEBP_402378-T1/images/I/51UsScvHQNL._SX300_SY300_QL70_FMwebp_.jpg | https://www.amazon.in/Wayona-Braided-WN3LG1-Syncing-Charging/dp/B07JW9H4J1/ref=sr_1_1?qid=1672909124&s=electronics&sr=1-1             |\n",
            "| B098NS6PVG   | Ambrane Unbreakable 60W / 3A Fast Charging 1.5m Braided Type C Cable for Smartphones, Tablets, Laptops & other Type C devices, PD Technology, 480Mbps Data Sync, Quick Charge 3.0 (RCT15A, Black) | Computers&Accessories|Accessories&Peripherals|Cables&Accessories|Cables|USBCables | ₹199               | ₹349           | 43%                   | 4        | 43994          | Compatible with all Type C enabled devices, be it an android smartphone (Mi, Samsung, Oppo, Vivo, Realme, OnePlus, etc), tablet, laptop (Macbook, Chromebook, etc)|Supports Quick Charging (2.0/3.0)|Unbreakable – Made of special braided outer with rugged interior bindings, it is ultra-durable cable that won’t be affected by daily rough usage|Ideal Length – It has ideal length of 1.5 meters which is neither too short like your typical 1meter cable or too long like a 2meters cable|Supports maximum 3A fast charging and 480 Mbps data transfer speed|6 months manufacturer warranty from the date of purchase                                                                                                                                                                                                                                                                                                                                                                                                                                                                                                                                                                                                                                                                                                                                                                                                                                                                                                                                                                                                                                                                                                                                                                                                                                                                                                                                                                                                                                                                                  | AECPFYFQVRUWC3KGNLJIOREFP5LQ,AGYYVPDD7YG7FYNBXNGXZJT525AQ,AHONIZU3ICIEHQIGQ6R2VFRSBXOQ,AFPHD2CRPDZMWMBL7WXRSVYWS5JA,AEZ346GX3HJ4O4XNRPHCNHXQURMQ,AEPSWFPNECKO34PUC7I56ITGXR6Q,AHWVEHR5DYLVFTO2KF3IZATFQSWQ,AH4QT33M55677I7ISQOAKEQWACYQ | ArdKn,Nirbhay kumar,Sagar Viswanathan,Asp,Placeholder,BharanI,sonia,Niam                          | RGIQEG07R9HS2,R1SMWZQ86XIN8U,R2J3Y1WL29GWDE,RYGGS0M09S3KY,R17KQRUTAN5DKS,R3AAQGS6HP2QUK,R1HDNOG6TO2CCA,R3PHKXYA5AFEOU   | A Good Braided Cable for Your Type C Device,Good quality product from ambrane,Super cable,As,Good quality,Good product,its good,Good quality for the price but one issue with my unit                                                                                                                                         | I ordered this cable to connect my phone to Android Auto of car. The cable is really strong and the connection ports are really well made. I already has a Micro USB cable from Ambrane and it's still in good shape. I connected my phone to the car using the cable and it got connected well and no issues. I also connected it to the charging port and yes it has Fast Charging support.,It quality is good at this price and the main thing is that i didn't ever thought that this cable will be so long it's good one and charging power is too good and also supports fast charging,Value for money, with extra length👍,Good, working fine,Product quality is good,Good,very good,Bought for my daughter's old phone.Brand new cable it was not charging, I already repacked and requested for replacement.I checked again, and there was some green colour paste/fungus inside the micro USB connector. I cleaned with an alcoholic and starts working again.Checked the ampere of charging speed got around 1400ma-1500ma - not bad, came with braided 1.5m long cable, pretty impressive for the price.Can't blame the manufacturer.But quality issues by the distributor, they might have stored in very humid place.                                                                                                                                                                                                                                                                                                                                                                                                                                                                                                                                                                                                                                                                                                                                                                                                                                                                                                                                                                                                                                                                                                                                                                                                                                                                                                                                                                                                                                                                                                                                                                                                                                                                                                                                                                                                                                                                                                                                                                                                                                                                                                                                                                                                                                                                                                                                                                                                                                                                                                                                                                                                                                                                                                                                                                                                                                                                                                                                                                                                                                                                                                                                                                                                                                                                       | https://m.media-amazon.com/images/W/WEBP_402378-T2/images/I/31zOsqQOAOL._SY445_SX342_QL70_FMwebp_.jpg | https://www.amazon.in/Ambrane-Unbreakable-Charging-Braided-Cable/dp/B098NS6PVG/ref=sr_1_2?qid=1672909124&s=electronics&sr=1-2         |\n",
            "| B08R69VDHT   | Pinnaclz Original Combo of 2 Micro USB Fast Charging Cable, USB Charging Cable for Data Transfer Perfect for Android Smart Phones White 1.2 Meter Made in India (Pack of 2)                       | Computers&Accessories|Accessories&Peripherals|Cables&Accessories|Cables|USBCables | ₹115               | ₹499           | 77%                   | 4        | 7732           | [SYNC & CHARGE] : Ideal for charging and powering Micro USB port devices, as well as syncing data, photos and music.|[EASE OF USE] : Smoothly insert the Micro USB connector in a right way in your device.|[SYNC DATA] : Transfer data at high speeds.|[WARRANTY] : 6 Months hassle free warranty from the manufacturer.                                                                                                                                                                                                                                                                                                                                                                                                                                                                                                                                                                                                                                                                                                                                                                                                                                                                                                                                                                                                                                                                                                                                                                                                                                                                                                                                                                                                                                                                                                                                                                                                                                                                                                                                                                                      | AEGZSNGSJJAEMJ3RRNVZTKUILOHA,AGX46OTZ7C4VDXH4UA7ZAZIZUMYQ,AEDLLY6JXNCVYIW227SBCPVYHNUA,AGTJ44UNO6K5X567YLQPYGN3TV4Q,AFYCBABBI2GCQRSCKIRHPLQNO72A,AG55XGEMTFKS7BXQTNFKHFTMMW5A,AGQYGAK76B74HUWOOUOFTXH2LAZA,AHFHIY2KE5PQIJ6H7PKV6N7OLIZA | Vijayan C V,Sanjay P.,keshav,Dharemesh K.,Amazon Customer,Rajesh,Sagar Yadav,Vaibhav              | R2VUNGNI96EEJ7,R2JGNI2T5LVFRQ,R9ISXRV6DA0OY,RZFW11UFTCBVH,R1WGHB13Q2OLYA,R11ETJ640KDIRW,R2IA54QBAYAGND,R23Y3AD6E6GE9N   | Very good product and met my need.  Thanks,Decent value,Nice quality… trustable…,Just well in this price.,supports 2.4 amps fast charging,Nice,Nice.,Value for money                                                                                                                                                          | Liked the product.  Accurate to my usb apparatus.,Good value,Till now i had purchased about 20 cables both micro and c type for myself and my family in this last one year. Its all because this brand wins my trust by provinding great quality with reasonable price,na,tested with 2.4 amps charger and phone. gives full 2.4 amps power to phone.the cable LOOKS thick and it has nice texture. despite that, i am sure it is not very durable. the usb connectors are extremely sturdy and they dont bend or flex. the wire will break before the connector does!!warning: usb micro connector has a strong hook. be careful while plugging and unplugging, or you may damage your device.very cheap and usable cable for 120 rs,Super power,Nice product.,In this price this is the best one                                                                                                                                                                                                                                                                                                                                                                                                                                                                                                                                                                                                                                                                                                                                                                                                                                                                                                                                                                                                                                                                                                                                                                                                                                                                                                                                                                                                                                                                                                                                                                                                                                                                                                                                                                                                                                                                                                                                                                                                                                                                                                                                                                                                                                                                                                                                                                                                                                                                                                                                                                                                                                                                                                                                                                                                                                                                                                                                                                                                                                                                                                                                                                                                                                                                                                                                                                                                                                                                                                                                                                                                                                                                                                        | https://m.media-amazon.com/images/I/41gFqSHngyL._SX300_SY300_QL70_FMwebp_.jpg                         | https://www.amazon.in/Pinnaclz-Original-Micro-USB-Charging/dp/B08R69VDHT/ref=sr_1_82?qid=1672909128&s=electronics&sr=1-82             |\n",
            "| B0BF57RN3K   | Fire-Boltt Ninja Call Pro Plus 1.83\" Smart Watch with Bluetooth Calling, AI Voice Assistance, 100 Sports Modes IP67 Rating, 240*280 Pixel High Resolution                                         | Electronics|WearableTechnology|SmartWatches                                       | ₹1,799             | ₹19,999        | 91%                   | 4.2      | 13937          | Fire-Boltt is India' No 1 Wearable Watch Brand Q122 by IDC Worldwide quarterly wearable device tracker Q122.【Bluetooth Calling Watch】- Fire-Boltt Ninja Call Pro Plus Smartwatch enables you to make and receive calls directly from your watch via the built-in speaker and microphone. This smartwatch features a dial pad, option to access recent calls & sync your phone’s contacts.|【1.83\" HD Display Smart Watch】- The 46.48mm (1.83-inch) HD display makes the display clear and true-to-life, with vivid colours ensuring smooth readability and keeping the watch as exquisite to look at as when you first lay your eyes on it.|【AI Voice Assistant】- With built-in Voice assistant, you can simply speak to the smartwatch & get things done on your command|【100 Sport Modes】- Track every trek you take or every football, cricket kabaddi match you play. With over 100 sports modes Fire-Boltt Ninja Call Pro Plus has you covered.|【Fire-Boltt Health Suite】- With advanced technology and HRS chipset the smartwatch can give out near to accurate SpO2, Heart Rate readings. This mini health device tracks your sleep to ensure glowing and fresh look each day                                                                                                                                                                                                                                                                                                                                                                                                                                                                                                                                                                                                                                                                                                                                                                                                                                                                                                                  | AEC6UDCEAUIBIFHGQDQ4KR67GC4A,AHRKSUOZXKKDERRY3VZBVMMWX37Q,AH4F4OZIOIIBXGLL6IZIJAXSTDXA,AEGBGS574C35NMBICCMQLC5ODEKQ,AGM7ETOYBL3UFKCLZW36JM6POQ6A,AHM4G7MHKTEAZ7KQ6ADSZOTL5BEA,AHHYFEVKBVQB52YMNNKAZT6C75LA,AGZ54F47MOFAEMWXXR76OUBC75SQ | venkatesh kg,Raghuram,YOGESH,Manan Parmar,Nikunj .R. kukadiya,Shivansh Sharma,KAPIL NIMKER,Suriya | R1PKIMKR1E8X8T,R23UV7ZBIEEZD3,RYRHNVDKS5RFY,RS1V5P4B8NSAO,R1H7L32HFCGUIR,R1Y0X6TPG7EJ3V,R3UZD33WNT4AD,R2MLZRSEQB0C49    | Worth the money,Good smart watch,the screen does not turn on and off on double tap, for that you have to press the button.,User friendly UI,Best Allrounder Budget SmartWatch Under 2K 🔥,This smart watch is awesome,Nice watch in budget,The step count is not that accurate but the call quality and other things are good | I liked it, worth the money, light weight and comfortable at every situation.this one i got here has stable ui,no lag even,feels premium (mainly the soft strap and the cool crown button adds up much)..the main reason I bought this because it brings all the features everyone needs today with out of the box looks.If someone feels that they have a thin wrist and it wouldn't fit them,don't worry.Even i thought it wouldn't fit me coz i have a thin wrist but it was just fine.,,In this watch, the screen does not turn on and off on double tap, for that you have to press the button and the battery also takes more than 1 hour instead of 35 minutes to get fully charged.  And the battery also lasts only 3-4 days, just hope that in the future, if I update the software, then the double tap option will come.,Watch is user friendly, UI is great.Calling feature is great.This watch is different from others in music playing in watch speaker.Great experience.Watchfaces option is good.We can add watchfaces as we can.In my other watch this feature is missing.Love this watch.,This Smartwatch is perfect for beginners who's buy first time smartwatch. ninja call pro plus is recently launched so it comes with latest features and specifications. Display Is top Notched and and brightness is enough for use at outdoor. Heart measure and Spo2 is well accurate all sensors are efficiently worked. Reading of data is accurate near 90 to 95% you can trust on it at emergency situations. It comes with 100 sports mods all types of activities and sports are coverd. Calling experience is also very nice, speaker and microphone is quite decent sufficient voice at indoor. But battery should be better it has require charge 1 time in day. 3D curved display give awasome visual experience. Strap quality is very soft and female also use it very smoothly. So overall it has best smartwatch under 2K Display, Calling, Sensors, Bulit quality, Battery Back-up, sports Mods, Waterproof, etc. You should definitely go for this one. Satisfied Product.👍🔥👍,This watch is very good but 1 problem im using this watch from 1 week and a few days back its pixels were droping, the screen was not working properly but after restarting, it was working properly and from then i didn,t face that problem again.,Nice watch with good UI interface with calling feature. Power packed with features in very low price. If you are on tight budget and looking for caling smartwatch you should definitely go for this one.,The build quality is great.The review about this watches are as follows:Good call quality and Google assistant supportThe UI experience is very smooth except the split screen feature it's a little bit laggyThe only thing that is only bad about this product is the step accuracy I feel like its a little bit lagging back but it catches up to it after a half an hourYou can buy this product if you are on a tight budget and want calling and good UI experience you can buy this product                                                                                                                                                                                                                                                                                                                                                                                                                                                                                                                                                                                                                                                                                                                                                                                                                                                                                                                                                                                                                                                                                                                                                                                                                                                                                                                                                                                                                        | https://m.media-amazon.com/images/I/41WCgGbvwhL._SX300_SY300_QL70_ML2_.jpg                            | https://www.amazon.in/Fire-Boltt-Bluetooth-Calling-Assistance-Resolution/dp/B0BF57RN3K/ref=sr_1_1?qid=1672895748&s=electronics&sr=1-1 |\n",
            "| B0B3RRWSF6   | Fire-Boltt Phoenix Smart Watch with Bluetooth Calling 1.3\",120+ Sports Modes, 240*240 PX High Res with SpO2, Heart Rate Monitoring & IP67 Rating                                                  | Electronics|WearableTechnology|SmartWatches                                       | ₹1,998             | ₹9,999         | 80%                   | 4.3      | 27696          | Fire-Boltt is India' No 1 Wearable Watch Brand Q122 by IDC Worldwide quarterly wearable device tracker Q122.【Bluetooth Calling Watch】- Fire-Boltt Phoenix enables you to make and receive calls directly from your watch via the built-in speaker and microphone. This smartwatch features a dial pad, option to access recent calls & sync your phone’s contacts.;【High Resolution Display】- Comes with a 1.3\" TFT Color Full Touch Screen and a 240*240 Pixel High Resolution this watch is covered to flaunt the sleek and stylish look always.|【120+ Sports Modes】- Track each activity effectively with this smartwatch & activity tracker. Track your calories, steps and much more while you are on your fitness journey. This fitness tracker has it all;【In Built Mic & Speaker】- Get HD calling experience with this power-packed watch. Enhance the look of your wrist with attractive colors and sleek finish|【Smart Health】- With the latest HRS3300 technology track your heart rate anytime of the day or even while you perform some activity. The optical sensors assure results so accurate. Monitor your blood oxygen levels to stay fit and healthy;【Smartphone Notifications】- Get all your mobile phone notifications on this 1.3\" Round Display Full touch smartwatch and never be late for a meeting, party or date.|【Gaming On Wrist】- Enjoy playing games on the wrist itself as you are on the go. 【Breathe Function】- Ensure your breathing exercise is fit and healthy with the breathing function.; 【Multiple Watch Faces】- Over 100 Cloud based watch faces to choose from and match your outfit and look each day everyday|Included Components: 1 Smartwatch, 1 Manual, 1 Magnetic Charger, 1 Warranty Card; Band Color: Black; Band Material Type: Silicone; Color Name: Black; Human Interface Input: Buttons touch Screen; Case Material Type: Stainless Steel; Clasp Type: Tang Buckle; Compatible Devices: Smartphone tablet iphone android, **Disclaimer** The charging USB needs to be connected to a 4.7V to 5V adapter only for best battery backup | AHUGCKS7YANTMDYINXQG2UDTU4JQ,AGHQ2VHXMPWZV5SV25S5N3OENXSQ,AH3GZWZM5RVOFCJCXRU7QFBAJ5NQ,AGQ2RWOECSEFEQMIGE7VTXP65OKQ,AEVUBEFT2MRH2PRVW53SJEL7H42A,AENY7L4XGCQMI627A27G3NVIBJNA,AHQISETKX3OXMZ4IX3YO7YV4UZ6Q,AGESGUTIYJQOZ7PU563DHLYSPRTQ | yogita ratre,Arun k.,Amol Basutkar,janarthanan,Naman,keshav Chelmeti,Hritik jain,Jatin Shah       | R34816YEM3Y2VJ,R3P1QZDIWJJYVR,R2HXC35HKL6S3E,R2CUWR6SL0MMRR,R3PWLUFNP117X0,R2PK2034NVCPNH,R2YJZKVTCUJAVZ,R27X5G6UFUKCM9 | 7-8/10, Decent, good for day to day use,Good choice under budget of Rs2000,Average product.,Budget friendly,Overall it's a good watch,Good product,Best in design, accuracy and looks fancy. A must buy for every person who is watch enthusiast.,Having a great experience                                                   | 2 months review- its been working fine, there's been no problem as of now.. some things-the whole step tracking thing, i bought it due to that reason, it didn't basically satisfy me to that level with that, but it does count steps accurately in the walking mode(activity)Its got some scratches in it.. but its not that noticeable at first glancethe backgrounds, I believe it could've been wayyyy better if we could change 4-5 backgrounds of 10, but we can only have 2, 1 customised and 1 download from the app(which has limited options)  the other backgrounds are just.. eh..the looks, I'll give it 9/10, it's good looking stylish differenttouch screen is goodthe sleep tracking too is kinda accurate(i still haven't understood it that well lol)battery life is muah, I use it without Bluetooth and it easily survives for 6-7 daysspo2 and heart rate, I just believe what it says as i can't check prove if that's correct.the water resistance, I haven't used it in water (ofc am scared) the calling feature works fine.. its got good sound overall its a decent watch and can be used in day to day activities, am quite satisfied with it as my first smart watch 😗,I've used this product for 4 days, and i'm going to rate the various features and different aspects of this smartwatch which could help the customers here -So, Bluetooth calling (4/5) - the in-built mic of this watch is excellent and the voice gets to the other side without any disturbance, watch connects smoothly with the mobile and don't get disconnected automatically until you do it yourself through watch or phone. Only con is you can't silent the incoming call which is annoying sometime, hope they fix it with an update.Built quality and looks (4.5/5) - metallic built which looks premium and straps are also quite smooth and comforting. Best thing is, it also looks good over skinny wrists(poor me, with 5.6 inch wrist). Only con is you can get scratches on display so protect with it some sort of screen guard.Touch screen (5/5) - it's almost buttery smooth without any lag which is pretty impressive for a smartwatch under 2k. I bet you will not get any laggy experience ever.Accuracy (3.5/5) - SpO2 and HR has fairly decent accuracies, it gives you a rough idea of your being, so its quite reasonable for a watch under 2k. Count steps with decent accuracy as well. Sleep accuracy is also just acceptable.To sum up, you should definitely go for this watch if you've a budget, constrained under 2000 rs,,I recently purchased the Fire Bolt Phoniex watch, which is quite stylish, and the Bluetooth calling is excellent. The voice gets to the other side without any disturbance.The build quality is good over the wrists, but you can get scratches on the display, so protect it with some screen guard. You should go for this watch if you want a budget-friendly smartwatch under 2000.,It's a good watch but i have faced two problems in it the first one is there is no feature of raise to wake and the second one is there is no option to silent it when someone calls you.....i think you should purchase it if in future company add these two features...,I recently purchased the Fire Boltt Phoenix Watch, and I am very happy with my purchase. The watch is quite stylish, and I get compliments every time I wear it. The watch is also quite comfortable to wear, and the strap is adjustable to fit any wrist size. The watch also has a great battery life, and I can go for days without having to charge it. The watch also has a number of features, including a step counter, heart rate monitor, and sleep tracker. All of these features are very useful and make it easy to track my activity and health. Overall, I am very pleased with my purchase and would highly recommend the Fire Boltt Phoenix Watch to anyone who is looking for a stylish and functional watch.,This watch is absolutely stunning and great value for money. Really pleased with the design and shape of watch, definitely a must buy for every person .loved the colour, durability and accuracy is super 👍. just go for it.,I liked the product it has so many features like sleep tracking, sp02, Heart rate measuring, music player, temperature checker my only nitpick would be that it only have 2 games and secondly it has good wallpapers but a Ben 10 Omnitrix wallpaper would give it an even more awesome look | https://m.media-amazon.com/images/I/41sHRWXCfvL._SX300_SY300_QL70_ML2_.jpg                            | https://www.amazon.in/Fire-Boltt-Phoenix-Bluetooth-Calling-Monitoring/dp/B0B3RRWSF6/ref=sr_1_4?qid=1672895748&s=electronics&sr=1-4    |\n",
            "<class 'pandas.core.frame.DataFrame'>\n",
            "Index: 18 entries, 0 to 983\n",
            "Data columns (total 16 columns):\n",
            " #   Column               Non-Null Count  Dtype \n",
            "---  ------               --------------  ----- \n",
            " 0   product_id           18 non-null     object\n",
            " 1   product_name         18 non-null     object\n",
            " 2   category             18 non-null     object\n",
            " 3   discounted_price     18 non-null     object\n",
            " 4   actual_price         18 non-null     object\n",
            " 5   discount_percentage  18 non-null     object\n",
            " 6   rating               18 non-null     object\n",
            " 7   rating_count         18 non-null     int64 \n",
            " 8   about_product        18 non-null     object\n",
            " 9   user_id              18 non-null     object\n",
            " 10  user_name            18 non-null     object\n",
            " 11  review_id            18 non-null     object\n",
            " 12  review_title         18 non-null     object\n",
            " 13  review_content       18 non-null     object\n",
            " 14  img_link             18 non-null     object\n",
            " 15  product_link         18 non-null     object\n",
            "dtypes: int64(1), object(15)\n",
            "memory usage: 2.4+ KB\n",
            "None\n",
            "Index(['product_id', 'product_name', 'category', 'discounted_price',\n",
            "       'actual_price', 'discount_percentage', 'rating', 'rating_count',\n",
            "       'about_product', 'user_id', 'user_name', 'review_id', 'review_title',\n",
            "       'review_content', 'img_link', 'product_link'],\n",
            "      dtype='object')\n"
          ]
        }
      ]
    },
    {
      "cell_type": "markdown",
      "source": [
        "6.What are the most popular product keywords?"
      ],
      "metadata": {
        "id": "JhU-sHrApU6-"
      }
    },
    {
      "cell_type": "code",
      "source": [
        "import pandas as pd\n",
        "\n",
        "pd.set_option('display.max_rows', None)\n",
        "pd.set_option('display.max_columns', None)\n",
        "\n",
        "# Read the CSV file into a DataFrame\n",
        "df = pd.read_csv('amazon.csv')\n",
        "\n",
        "# Display the first 5 rows\n",
        "print(df.head().to_markdown(index=False, numalign=\"left\", stralign=\"left\"))\n",
        "\n",
        "# Print the column names and their data types\n",
        "print(df.info())\n",
        "from collections import Counter\n",
        "\n",
        "# Extract the `product_name` column from `df`\n",
        "product_names = df['product_name']\n",
        "\n",
        "# Convert the product names to lowercase\n",
        "product_names = product_names.str.lower()\n",
        "\n",
        "# Split the product names into individual keywords\n",
        "keywords = []\n",
        "for product_name in product_names:\n",
        "    keywords.extend(product_name.split())\n",
        "\n",
        "# Count the frequency of each keyword\n",
        "keyword_counts = Counter(keywords)\n",
        "\n",
        "# Display the 20 most frequent keywords\n",
        "print(\"20 most frequent keywords:\")\n",
        "for keyword, count in keyword_counts.most_common(20):\n",
        "    print(f\"  {keyword}: {count}\")\n",
        "# Define a list of common words to remove\n",
        "common_words = ['with', 'for', '|', '&', 'and', '-', 'to', '(', ')', 'c']\n",
        "\n",
        "# Remove the common words from the `keyword_counts`\n",
        "for word in common_words:\n",
        "    if word in keyword_counts:\n",
        "        del keyword_counts[word]\n",
        "\n",
        "# Display the 20 most frequent keywords after removing the common words\n",
        "print(\"\\n20 most frequent keywords after removing common words:\")\n",
        "for keyword, count in keyword_counts.most_common(20):\n",
        "    print(f\"  {keyword}: {count}\")"
      ],
      "metadata": {
        "colab": {
          "base_uri": "https://localhost:8080/"
        },
        "id": "HrI6PiOjqryA",
        "outputId": "6894ff36-8f30-45b2-be8a-590cd1b4c40f"
      },
      "execution_count": 29,
      "outputs": [
        {
          "output_type": "stream",
          "name": "stdout",
          "text": [
            "| product_id   | product_name                                                                                                                                                                                            | category                                                                          | discounted_price   | actual_price   | discount_percentage   | rating   | rating_count   | about_product                                                                                                                                                                                                                                                                                                                                                                                                                                                                                                                                                                                                                                                                                                                                                                                                                                                                                                                                                                                                                                                                                                                                 | user_id                                                                                                                                                                                                                                 | user_name                                                                                 | review_id                                                                                                              | review_title                                                                                                                                                                          | review_content                                                                                                                                                                                                                                                                                                                                                                                                                                                                                                                                                                                                                                                                                                                                                                                                                                                                                                                                                                                                                                                                                                                                                                                                                                                                                                                                                                                                                                                                                                                                                                                                                                                                                                                                                                                                                                                                                                                                                                                                                                                                                                                                                                                                                                                                                                                                                                                                                                                                                                                                      | img_link                                                                                              | product_link                                                                                                                     |\n",
            "|:-------------|:--------------------------------------------------------------------------------------------------------------------------------------------------------------------------------------------------------|:----------------------------------------------------------------------------------|:-------------------|:---------------|:----------------------|:---------|:---------------|:----------------------------------------------------------------------------------------------------------------------------------------------------------------------------------------------------------------------------------------------------------------------------------------------------------------------------------------------------------------------------------------------------------------------------------------------------------------------------------------------------------------------------------------------------------------------------------------------------------------------------------------------------------------------------------------------------------------------------------------------------------------------------------------------------------------------------------------------------------------------------------------------------------------------------------------------------------------------------------------------------------------------------------------------------------------------------------------------------------------------------------------------|:----------------------------------------------------------------------------------------------------------------------------------------------------------------------------------------------------------------------------------------|:------------------------------------------------------------------------------------------|:-----------------------------------------------------------------------------------------------------------------------|:--------------------------------------------------------------------------------------------------------------------------------------------------------------------------------------|:----------------------------------------------------------------------------------------------------------------------------------------------------------------------------------------------------------------------------------------------------------------------------------------------------------------------------------------------------------------------------------------------------------------------------------------------------------------------------------------------------------------------------------------------------------------------------------------------------------------------------------------------------------------------------------------------------------------------------------------------------------------------------------------------------------------------------------------------------------------------------------------------------------------------------------------------------------------------------------------------------------------------------------------------------------------------------------------------------------------------------------------------------------------------------------------------------------------------------------------------------------------------------------------------------------------------------------------------------------------------------------------------------------------------------------------------------------------------------------------------------------------------------------------------------------------------------------------------------------------------------------------------------------------------------------------------------------------------------------------------------------------------------------------------------------------------------------------------------------------------------------------------------------------------------------------------------------------------------------------------------------------------------------------------------------------------------------------------------------------------------------------------------------------------------------------------------------------------------------------------------------------------------------------------------------------------------------------------------------------------------------------------------------------------------------------------------------------------------------------------------------------------------------------------------|:------------------------------------------------------------------------------------------------------|:---------------------------------------------------------------------------------------------------------------------------------|\n",
            "| B07JW9H4J1   | Wayona Nylon Braided USB to Lightning Fast Charging and Data Sync Cable Compatible for iPhone 13, 12,11, X, 8, 7, 6, 5, iPad Air, Pro, Mini (3 FT Pack of 1, Grey)                                      | Computers&Accessories|Accessories&Peripherals|Cables&Accessories|Cables|USBCables | ₹399               | ₹1,099         | 64%                   | 4.2      | 24,269         | High Compatibility : Compatible With iPhone 12, 11, X/XsMax/Xr ,iPhone 8/8 Plus,iPhone 7/7 Plus,iPhone 6s/6s Plus,iPhone 6/6 Plus,iPhone 5/5s/5c/se,iPad Pro,iPad Air 1/2,iPad mini 1/2/3,iPod nano7,iPod touch and more apple devices.|Fast Charge&Data Sync : It can charge and sync simultaneously at a rapid speed, Compatible with any charging adaptor, multi-port charging station or power bank.|Durability : Durable nylon braided design with premium aluminum housing and toughened nylon fiber wound tightly around the cord lending it superior durability and adding a bit to its flexibility.|High Security Level : It is designed to fully protect your device from damaging excessive current.Copper core thick+Multilayer shielding, Anti-interference, Protective circuit equipment.|WARRANTY: 12 months warranty and friendly customer services, ensures the long-time enjoyment of your purchase. If you meet any question or problem, please don't hesitate to contact us.                                                                                                                                              | AG3D6O4STAQKAY2UVGEUV46KN35Q,AHMY5CWJMMK5BJRBBSNLYT3ONILA,AHCTC6ULH4XB6YHDY6PCH2R772LQ,AGYHHIERNXKA6P5T7CZLXKVPT7IQ,AG4OGOFWXJZTQ2HKYIOCOY3KXF2Q,AENGU523SXMOS7JPDTW52PNNVWGQ,AEQJHCVTNINBS4FKTBGQRQTGTE5Q,AFC3FFC5PKFF5PMA52S3VCHOZ5FQ | Manav,Adarsh gupta,Sundeep,S.Sayeed Ahmed,jaspreet singh,Khaja moin,Anand,S.ARUMUGAM      | R3HXWT0LRP0NMF,R2AJM3LFTLZHFO,R6AQJGUP6P86,R1KD19VHEDV0OR,R3C02RMYQMK6FC,R39GQRVBUZBWGY,R2K9EDOE15QIRJ,R3OI7YT648TL8I  | Satisfied,Charging is really fast,Value for money,Product review,Good quality,Good product,Good Product,As of now seems good                                                          | Looks durable Charging is fine tooNo complains,Charging is really fast, good product.,Till now satisfied with the quality.,This is a good product . The charging speed is slower than the original iPhone cable,Good quality, would recommend,https://m.media-amazon.com/images/W/WEBP_402378-T1/images/I/81---F1ZgHL._SY88.jpg,Product had worked well till date and was having no issue.Cable is also sturdy enough...Have asked for replacement and company is doing the same...,Value for money                                                                                                                                                                                                                                                                                                                                                                                                                                                                                                                                                                                                                                                                                                                                                                                                                                                                                                                                                                                                                                                                                                                                                                                                                                                                                                                                                                                                                                                                                                                                                                                                                                                                                                                                                                                                                                                                                                                                                                                                                                                 | https://m.media-amazon.com/images/W/WEBP_402378-T1/images/I/51UsScvHQNL._SX300_SY300_QL70_FMwebp_.jpg | https://www.amazon.in/Wayona-Braided-WN3LG1-Syncing-Charging/dp/B07JW9H4J1/ref=sr_1_1?qid=1672909124&s=electronics&sr=1-1        |\n",
            "| B098NS6PVG   | Ambrane Unbreakable 60W / 3A Fast Charging 1.5m Braided Type C Cable for Smartphones, Tablets, Laptops & other Type C devices, PD Technology, 480Mbps Data Sync, Quick Charge 3.0 (RCT15A, Black)       | Computers&Accessories|Accessories&Peripherals|Cables&Accessories|Cables|USBCables | ₹199               | ₹349           | 43%                   | 4        | 43,994         | Compatible with all Type C enabled devices, be it an android smartphone (Mi, Samsung, Oppo, Vivo, Realme, OnePlus, etc), tablet, laptop (Macbook, Chromebook, etc)|Supports Quick Charging (2.0/3.0)|Unbreakable – Made of special braided outer with rugged interior bindings, it is ultra-durable cable that won’t be affected by daily rough usage|Ideal Length – It has ideal length of 1.5 meters which is neither too short like your typical 1meter cable or too long like a 2meters cable|Supports maximum 3A fast charging and 480 Mbps data transfer speed|6 months manufacturer warranty from the date of purchase                                                                                                                                                                                                                                                                                                                                                                                                                                                                                                                 | AECPFYFQVRUWC3KGNLJIOREFP5LQ,AGYYVPDD7YG7FYNBXNGXZJT525AQ,AHONIZU3ICIEHQIGQ6R2VFRSBXOQ,AFPHD2CRPDZMWMBL7WXRSVYWS5JA,AEZ346GX3HJ4O4XNRPHCNHXQURMQ,AEPSWFPNECKO34PUC7I56ITGXR6Q,AHWVEHR5DYLVFTO2KF3IZATFQSWQ,AH4QT33M55677I7ISQOAKEQWACYQ | ArdKn,Nirbhay kumar,Sagar Viswanathan,Asp,Placeholder,BharanI,sonia,Niam                  | RGIQEG07R9HS2,R1SMWZQ86XIN8U,R2J3Y1WL29GWDE,RYGGS0M09S3KY,R17KQRUTAN5DKS,R3AAQGS6HP2QUK,R1HDNOG6TO2CCA,R3PHKXYA5AFEOU  | A Good Braided Cable for Your Type C Device,Good quality product from ambrane,Super cable,As,Good quality,Good product,its good,Good quality for the price but one issue with my unit | I ordered this cable to connect my phone to Android Auto of car. The cable is really strong and the connection ports are really well made. I already has a Micro USB cable from Ambrane and it's still in good shape. I connected my phone to the car using the cable and it got connected well and no issues. I also connected it to the charging port and yes it has Fast Charging support.,It quality is good at this price and the main thing is that i didn't ever thought that this cable will be so long it's good one and charging power is too good and also supports fast charging,Value for money, with extra length👍,Good, working fine,Product quality is good,Good,very good,Bought for my daughter's old phone.Brand new cable it was not charging, I already repacked and requested for replacement.I checked again, and there was some green colour paste/fungus inside the micro USB connector. I cleaned with an alcoholic and starts working again.Checked the ampere of charging speed got around 1400ma-1500ma - not bad, came with braided 1.5m long cable, pretty impressive for the price.Can't blame the manufacturer.But quality issues by the distributor, they might have stored in very humid place.                                                                                                                                                                                                                                                                                                                                                                                                                                                                                                                                                                                                                                                                                                                                                                                                                                                                                                                                                                                                                                                                                                                                                                                                                                                                                                                 | https://m.media-amazon.com/images/W/WEBP_402378-T2/images/I/31zOsqQOAOL._SY445_SX342_QL70_FMwebp_.jpg | https://www.amazon.in/Ambrane-Unbreakable-Charging-Braided-Cable/dp/B098NS6PVG/ref=sr_1_2?qid=1672909124&s=electronics&sr=1-2    |\n",
            "| B096MSW6CT   | Sounce Fast Phone Charging Cable & Data Sync USB Cable Compatible for iPhone 13, 12,11, X, 8, 7, 6, 5, iPad Air, Pro, Mini & iOS Devices                                                                | Computers&Accessories|Accessories&Peripherals|Cables&Accessories|Cables|USBCables | ₹199               | ₹1,899         | 90%                   | 3.9      | 7,928          | 【 Fast Charger& Data Sync】-With built-in safety proctections and four-core copper wires promote maximum signal quality and strength and enhance charging & data transfer speed with up to 480 mb/s transferring speed.|【 Compatibility】-Compatible with iPhone 13, 12,11, X, 8, 7, 6, 5, iPad Air, Pro, Mini & iOS devices.|【 Sturdy & Durable】-The jacket and enforced connector made of TPE and premium copper, are resistant to repeatedly bending and coiling.|【 Ultra High Quality】: According to the experimental results, the fishbone design can accept at least 20,000 bending and insertion tests for extra protection and durability. Upgraded 3D aluminum connector and exclusive laser welding technology, which to ensure the metal part won't break and also have a tighter connection which fits well even with a protective case on and will never loose connection.|【 Good After Sales Service】-Our friendly and reliable customer service will respond to you within 24 hours ! you can purchase with confidence,and every sale includes a 365-day worry-free Service to prove the importance we set on quality. | AGU3BBQ2V2DDAMOAKGFAWDDQ6QHA,AESFLDV2PT363T2AQLWQOWZ4N3OA,AHTPQRIMGUD4BYR5YIHBH3CCGEFQ,AEUVWXYP5LT7PZLLZENEO2NODPBQ,AHC7MPW55DOO6WNCOQVA2VHOD26A,AFDI6FRPFBTNBG7BAEB7JDJSMKDQ,AFQKCEEEKXCOHTDG4WUN3XPPHJQQ,AHKUUFNMBZIDLSSPA4FEHIO2EC7Q | Kunal,Himanshu,viswanath,sai niharka,saqib malik,Aashiq,Ramu Challa,Sanjay gupta          | R3J3EQQ9TZI5ZJ,R3E7WBGK7ID0KV,RWU79XKQ6I1QF,R25X4TBMPY91LX,R27OK7G99VK0TR,R207CYDCHJJTCJ,R3PCU8XMU173BT,R1IMONDOWRNU5V | Good speed for earlier versions,Good Product,Working good,Good for the price,Good,Worth for money,Working nice,it's a really nice product                                             | Not quite durable and sturdy,https://m.media-amazon.com/images/W/WEBP_402378-T1/images/I/71rIggrbUCL._SY88.jpg,Working good,https://m.media-amazon.com/images/W/WEBP_402378-T1/images/I/61bKp9YO6wL._SY88.jpg,Product,Very nice product,Working well,It's a really nice product                                                                                                                                                                                                                                                                                                                                                                                                                                                                                                                                                                                                                                                                                                                                                                                                                                                                                                                                                                                                                                                                                                                                                                                                                                                                                                                                                                                                                                                                                                                                                                                                                                                                                                                                                                                                                                                                                                                                                                                                                                                                                                                                                                                                                                                                     | https://m.media-amazon.com/images/W/WEBP_402378-T1/images/I/31IvNJZnmdL._SY445_SX342_QL70_FMwebp_.jpg | https://www.amazon.in/Sounce-iPhone-Charging-Compatible-Devices/dp/B096MSW6CT/ref=sr_1_3?qid=1672909124&s=electronics&sr=1-3     |\n",
            "| B08HDJ86NZ   | boAt Deuce USB 300 2 in 1 Type-C & Micro USB Stress Resistant, Tangle-Free, Sturdy Cable with 3A Fast Charging & 480mbps Data Transmission, 10000+ Bends Lifespan and Extended 1.5m Length(Martian Red) | Computers&Accessories|Accessories&Peripherals|Cables&Accessories|Cables|USBCables | ₹329               | ₹699           | 53%                   | 4.2      | 94,363         | The boAt Deuce USB 300 2 in 1 cable is compatible with smartphones, tablets, PC peripherals, Bluetooth speakers, power banks and all other devices with Type-C as well as Micro USB port|It ensures 3A fast charging and data transmissions with rapid sync at 480 mbps|The premium Nylon braided skin makes it sturdy and invincible against external damage|Its Aluminium alloy shell housing makes it last longer with 10000+ Bends Lifespan with extended frame protection for strain relief|The resilient and flexible design offers a tangle free experience seamlessly|Deuce USB 300 cable offers a perfect 1.5 meters in length for smooth & hassle-free user experience|2 years warranty from the date of purchase                                                                                                                                                                                                                                                                                                                                                                                                                   | AEWAZDZZJLQUYVOVGBEUKSLXHQ5A,AG5HTSFRRE6NL3M5SGCUQBP7YSCA,AH725ST5NW2Y4JZPKUNTIJCUK2BA,AHV3TXIFCJPMS4D5JATCEUR266MQ,AGWIGDEMFIIUAOXYY2QATNBSUGHA,AFSTSLQUV4EVEXWKBOLEFHL2H5YQ,AGAKDNBHY2FKX7I4ACRGILU7QL7A,AFNWJUWJRHCC6HN52KMG5AKZY37Q | Omkar dhale,JD,HEMALATHA,Ajwadh a.,amar singh chouhan,Ravi Siddan,Himanshu Goel,Udaykumar | R3EEUZKKK9J36I,R3HJVYCLYOY554,REDECAZ7AMPQC,R1CLH2ULIVG5U3,R2DMKIBGFKBD6R,RC89B5IAJUTR5,R3B3DDON5FH8DS,R13WAEJDI5RS36  | Good product,Good one,Nice,Really nice product,Very first time change,Good,Fine product but could be better,Very nice it's charging like jet                                          | Good product,long wire,Charges good,Nice,I bought this cable for Rs.339 worthy product for this price, i tested it in various charger adapters 33w and 18w it supports fast charging as well.,Good,Ok,I had got this at good price on sale on Amazon and product is useful with warranty but for warranty you need to go very far not practical for such a cost and mine micro to type c connector stopped working after few days only.,I like this product                                                                                                                                                                                                                                                                                                                                                                                                                                                                                                                                                                                                                                                                                                                                                                                                                                                                                                                                                                                                                                                                                                                                                                                                                                                                                                                                                                                                                                                                                                                                                                                                                                                                                                                                                                                                                                                                                                                                                                                                                                                                                         | https://m.media-amazon.com/images/I/41V5FtEWPkL._SX300_SY300_QL70_FMwebp_.jpg                         | https://www.amazon.in/Deuce-300-Resistant-Tangle-Free-Transmission/dp/B08HDJ86NZ/ref=sr_1_4?qid=1672909124&s=electronics&sr=1-4  |\n",
            "| B08CF3B7N1   | Portronics Konnect L 1.2M Fast Charging 3A 8 Pin USB Cable with Charge & Sync Function for iPhone, iPad (Grey)                                                                                          | Computers&Accessories|Accessories&Peripherals|Cables&Accessories|Cables|USBCables | ₹154               | ₹399           | 61%                   | 4.2      | 16,905         | [CHARGE & SYNC FUNCTION]- This cable comes with charging & Data sync function|[HIGH QUALITY MATERIAL]- TPE + Nylon Material to make sure that the life of the cable is enhanced significantly|[LONG CORD]- The Cable is extra thick 1.2 meter long, optimized for an easy use for your comfort at home or office|[MORE DURABLE]-This cable is unique interms of design and multi-use and is positioned to provide the best comfort and performance while using|[UNIVERSAL COMPATIBILITY]- Compatible with all devices like iPhone XS, X, XR, 8, 7, 6S, 6, 5S, iPad Pro, iPad mini and iPad Air                                                                                                                                                                                                                                                                                                                                                                                                                                                                                                                                                | AE3Q6KSUK5P75D5HFYHCRAOLODSA,AFUGIFH5ZAFXRDSZHM4QB2KPKFUQ,AFK4NJOLFSJGWLOJIUIAROJF6YVA,AFUOTYRFUXVPEBGIXVZZ7DR3CZUA,AFDLRSXKDZ6U3U3KD46SQLFGZQRA,AH5VLM66SIK7J3IRG4NY7XVOQ55A,AE3MQNNHHLUHXURL5S7IAR7JTGNQ,AFSEOFZY67MYC7UAJU264Z5NFTLA | rahuls6099,Swasat Borah,Ajay Wadke,Pranali,RVK,Bhargav,Durai Vignesh,Amazon Customer      | R1BP4L2HH9TFUP,R16PVJEXKV6QZS,R2UPDB81N66T4P,R3KK4GT934ST3I,RCFHMWUSBIJO,RDO7DACXMAJ84,R3A6MEZL3LY66Z,R1ESIEKPGAYA29   | As good as original,Decent,Good one for secondary use,Best quality,GOOD,Amazing product at a mind blowing price!,Nice Quality,Good product                                            | Bought this instead of original apple, does the work for 150rs, not as fast as apple charger but its a good option if you want cheap and good product, bought it for iPad pro 10.5 and it's working flawlessly, build quality is ok, its not like i am gonna hang my clothes on it and i want a very strong cable, even a braided cable stop working after a year, i have used both Anker and Apple store strong braided cable they all stop working after a year so please don't buy high end cables just for that instead choose a this one and even if it's stops working withing a year you only loose 150rs compares to 2000rs.UPDATE------------------------------------pin has stopped charging from one side, now i have to slip the pin to charge from other side, but i will update and let know for how long does it work,,It’s good. Not sure about durability as the pin area feels a bit fragile,Does not support apple carplaySo was little disappointed about thatOther than that cable is made up of very good quality,Best to buy,100% NOT FATHFUL,Writing this review post 10 months and 3 orders of the same product.Honestly Portronics Konnect L lightning cable works like magic with the original Apple charging brick.Seeing the price of the cable I initially hesitated buying as it was as low as ₹99/- with the offers and so I wasn’t sure if it would work well with my iPhone 12 or whether it would impact my iPhone’s battery health because all the other lightning cable brands were costing over ₹350/- like Wayona, Amazon Basics, etc.Earlier I was using Wayona Brand lightning cable with eventually frayed and stopped working.Charging Speed:Charges my iPhone fast enough almost similar compared to the original cable level when used with 12W Original Apple power adapter.Quality and Durability:Great quality braided cable and doesn’t tangle easily and can withstand day-to-day usage.L-Shaped pin:This is very innovative by Portronics and it makes sure the cable doesn’t get damaged even if used while charging.CarPlay and Data Sync:Works smoothly with CarPlay and syncs data effortlessly.PS: I have used this cable only with the Original Apple Charging Brick and extremely satisfied with its performance.,Better than I expect the product I like that Quality and I plan to buy same type cable come with usb C to Lighting cable for emergency purpose that much I love this cable. Buy for this cable only emergency uses only since Good one,Good product and value for money | https://m.media-amazon.com/images/W/WEBP_402378-T2/images/I/31VzNhhqifL._SX300_SY300_QL70_FMwebp_.jpg | https://www.amazon.in/Portronics-Konnect-POR-1080-Charging-Function/dp/B08CF3B7N1/ref=sr_1_5?qid=1672909124&s=electronics&sr=1-5 |\n",
            "<class 'pandas.core.frame.DataFrame'>\n",
            "RangeIndex: 1465 entries, 0 to 1464\n",
            "Data columns (total 16 columns):\n",
            " #   Column               Non-Null Count  Dtype \n",
            "---  ------               --------------  ----- \n",
            " 0   product_id           1465 non-null   object\n",
            " 1   product_name         1465 non-null   object\n",
            " 2   category             1465 non-null   object\n",
            " 3   discounted_price     1465 non-null   object\n",
            " 4   actual_price         1465 non-null   object\n",
            " 5   discount_percentage  1465 non-null   object\n",
            " 6   rating               1465 non-null   object\n",
            " 7   rating_count         1463 non-null   object\n",
            " 8   about_product        1465 non-null   object\n",
            " 9   user_id              1465 non-null   object\n",
            " 10  user_name            1465 non-null   object\n",
            " 11  review_id            1465 non-null   object\n",
            " 12  review_title         1465 non-null   object\n",
            " 13  review_content       1465 non-null   object\n",
            " 14  img_link             1465 non-null   object\n",
            " 15  product_link         1465 non-null   object\n",
            "dtypes: object(16)\n",
            "memory usage: 183.2+ KB\n",
            "None\n",
            "20 most frequent keywords:\n",
            "  with: 751\n",
            "  for: 672\n",
            "  |: 457\n",
            "  &: 432\n",
            "  usb: 377\n",
            "  and: 330\n",
            "  cable: 320\n",
            "  -: 220\n",
            "  charging: 219\n",
            "  to: 218\n",
            "  fast: 211\n",
            "  (black): 187\n",
            "  c: 182\n",
            "  smart: 171\n",
            "  type: 144\n",
            "  compatible: 138\n",
            "  tv: 138\n",
            "  data: 131\n",
            "  hd: 130\n",
            "  in: 118\n",
            "\n",
            "20 most frequent keywords after removing common words:\n",
            "  usb: 377\n",
            "  cable: 320\n",
            "  charging: 219\n",
            "  fast: 211\n",
            "  (black): 187\n",
            "  smart: 171\n",
            "  type: 144\n",
            "  compatible: 138\n",
            "  tv: 138\n",
            "  data: 131\n",
            "  hd: 130\n",
            "  in: 118\n",
            "  led: 118\n",
            "  wireless: 114\n",
            "  black: 114\n",
            "  black): 112\n",
            "  water: 104\n",
            "  of: 101\n",
            "  1: 101\n",
            "  bluetooth: 100\n"
          ]
        }
      ]
    },
    {
      "cell_type": "markdown",
      "source": [
        "7. What are the most popular product reviews?"
      ],
      "metadata": {
        "id": "JnwTAo5iq7XU"
      }
    },
    {
      "cell_type": "code",
      "source": [
        "import pandas as pd\n",
        "\n",
        "pd.set_option('display.max_rows', None)\n",
        "pd.set_option('display.max_columns', None)\n",
        "\n",
        "# Read the CSV file into a DataFrame\n",
        "df = pd.read_csv('amazon.csv')\n",
        "\n",
        "# Display the first 5 rows\n",
        "print(df.head().to_markdown(index=False, numalign=\"left\", stralign=\"left\"))\n",
        "\n",
        "# Print the column names and their data types\n",
        "print(df.info())\n",
        "# Count the occurrences of each value in the `product_name` column\n",
        "product_counts = df['product_name'].value_counts()\n",
        "\n",
        "# Sort the products in descending order by count\n",
        "sorted_products = product_counts.sort_values(ascending=False)\n",
        "\n",
        "# Display the top 5 most frequent products\n",
        "print(sorted_products.head().to_markdown(numalign=\"left\", stralign=\"left\"))\n"
      ],
      "metadata": {
        "colab": {
          "base_uri": "https://localhost:8080/"
        },
        "id": "GUKKejNXrDE4",
        "outputId": "43386cc8-8ccf-43f1-ffd0-09d2b8d8bdd1"
      },
      "execution_count": 30,
      "outputs": [
        {
          "output_type": "stream",
          "name": "stdout",
          "text": [
            "| product_id   | product_name                                                                                                                                                                                            | category                                                                          | discounted_price   | actual_price   | discount_percentage   | rating   | rating_count   | about_product                                                                                                                                                                                                                                                                                                                                                                                                                                                                                                                                                                                                                                                                                                                                                                                                                                                                                                                                                                                                                                                                                                                                 | user_id                                                                                                                                                                                                                                 | user_name                                                                                 | review_id                                                                                                              | review_title                                                                                                                                                                          | review_content                                                                                                                                                                                                                                                                                                                                                                                                                                                                                                                                                                                                                                                                                                                                                                                                                                                                                                                                                                                                                                                                                                                                                                                                                                                                                                                                                                                                                                                                                                                                                                                                                                                                                                                                                                                                                                                                                                                                                                                                                                                                                                                                                                                                                                                                                                                                                                                                                                                                                                                                      | img_link                                                                                              | product_link                                                                                                                     |\n",
            "|:-------------|:--------------------------------------------------------------------------------------------------------------------------------------------------------------------------------------------------------|:----------------------------------------------------------------------------------|:-------------------|:---------------|:----------------------|:---------|:---------------|:----------------------------------------------------------------------------------------------------------------------------------------------------------------------------------------------------------------------------------------------------------------------------------------------------------------------------------------------------------------------------------------------------------------------------------------------------------------------------------------------------------------------------------------------------------------------------------------------------------------------------------------------------------------------------------------------------------------------------------------------------------------------------------------------------------------------------------------------------------------------------------------------------------------------------------------------------------------------------------------------------------------------------------------------------------------------------------------------------------------------------------------------|:----------------------------------------------------------------------------------------------------------------------------------------------------------------------------------------------------------------------------------------|:------------------------------------------------------------------------------------------|:-----------------------------------------------------------------------------------------------------------------------|:--------------------------------------------------------------------------------------------------------------------------------------------------------------------------------------|:----------------------------------------------------------------------------------------------------------------------------------------------------------------------------------------------------------------------------------------------------------------------------------------------------------------------------------------------------------------------------------------------------------------------------------------------------------------------------------------------------------------------------------------------------------------------------------------------------------------------------------------------------------------------------------------------------------------------------------------------------------------------------------------------------------------------------------------------------------------------------------------------------------------------------------------------------------------------------------------------------------------------------------------------------------------------------------------------------------------------------------------------------------------------------------------------------------------------------------------------------------------------------------------------------------------------------------------------------------------------------------------------------------------------------------------------------------------------------------------------------------------------------------------------------------------------------------------------------------------------------------------------------------------------------------------------------------------------------------------------------------------------------------------------------------------------------------------------------------------------------------------------------------------------------------------------------------------------------------------------------------------------------------------------------------------------------------------------------------------------------------------------------------------------------------------------------------------------------------------------------------------------------------------------------------------------------------------------------------------------------------------------------------------------------------------------------------------------------------------------------------------------------------------------------|:------------------------------------------------------------------------------------------------------|:---------------------------------------------------------------------------------------------------------------------------------|\n",
            "| B07JW9H4J1   | Wayona Nylon Braided USB to Lightning Fast Charging and Data Sync Cable Compatible for iPhone 13, 12,11, X, 8, 7, 6, 5, iPad Air, Pro, Mini (3 FT Pack of 1, Grey)                                      | Computers&Accessories|Accessories&Peripherals|Cables&Accessories|Cables|USBCables | ₹399               | ₹1,099         | 64%                   | 4.2      | 24,269         | High Compatibility : Compatible With iPhone 12, 11, X/XsMax/Xr ,iPhone 8/8 Plus,iPhone 7/7 Plus,iPhone 6s/6s Plus,iPhone 6/6 Plus,iPhone 5/5s/5c/se,iPad Pro,iPad Air 1/2,iPad mini 1/2/3,iPod nano7,iPod touch and more apple devices.|Fast Charge&Data Sync : It can charge and sync simultaneously at a rapid speed, Compatible with any charging adaptor, multi-port charging station or power bank.|Durability : Durable nylon braided design with premium aluminum housing and toughened nylon fiber wound tightly around the cord lending it superior durability and adding a bit to its flexibility.|High Security Level : It is designed to fully protect your device from damaging excessive current.Copper core thick+Multilayer shielding, Anti-interference, Protective circuit equipment.|WARRANTY: 12 months warranty and friendly customer services, ensures the long-time enjoyment of your purchase. If you meet any question or problem, please don't hesitate to contact us.                                                                                                                                              | AG3D6O4STAQKAY2UVGEUV46KN35Q,AHMY5CWJMMK5BJRBBSNLYT3ONILA,AHCTC6ULH4XB6YHDY6PCH2R772LQ,AGYHHIERNXKA6P5T7CZLXKVPT7IQ,AG4OGOFWXJZTQ2HKYIOCOY3KXF2Q,AENGU523SXMOS7JPDTW52PNNVWGQ,AEQJHCVTNINBS4FKTBGQRQTGTE5Q,AFC3FFC5PKFF5PMA52S3VCHOZ5FQ | Manav,Adarsh gupta,Sundeep,S.Sayeed Ahmed,jaspreet singh,Khaja moin,Anand,S.ARUMUGAM      | R3HXWT0LRP0NMF,R2AJM3LFTLZHFO,R6AQJGUP6P86,R1KD19VHEDV0OR,R3C02RMYQMK6FC,R39GQRVBUZBWGY,R2K9EDOE15QIRJ,R3OI7YT648TL8I  | Satisfied,Charging is really fast,Value for money,Product review,Good quality,Good product,Good Product,As of now seems good                                                          | Looks durable Charging is fine tooNo complains,Charging is really fast, good product.,Till now satisfied with the quality.,This is a good product . The charging speed is slower than the original iPhone cable,Good quality, would recommend,https://m.media-amazon.com/images/W/WEBP_402378-T1/images/I/81---F1ZgHL._SY88.jpg,Product had worked well till date and was having no issue.Cable is also sturdy enough...Have asked for replacement and company is doing the same...,Value for money                                                                                                                                                                                                                                                                                                                                                                                                                                                                                                                                                                                                                                                                                                                                                                                                                                                                                                                                                                                                                                                                                                                                                                                                                                                                                                                                                                                                                                                                                                                                                                                                                                                                                                                                                                                                                                                                                                                                                                                                                                                 | https://m.media-amazon.com/images/W/WEBP_402378-T1/images/I/51UsScvHQNL._SX300_SY300_QL70_FMwebp_.jpg | https://www.amazon.in/Wayona-Braided-WN3LG1-Syncing-Charging/dp/B07JW9H4J1/ref=sr_1_1?qid=1672909124&s=electronics&sr=1-1        |\n",
            "| B098NS6PVG   | Ambrane Unbreakable 60W / 3A Fast Charging 1.5m Braided Type C Cable for Smartphones, Tablets, Laptops & other Type C devices, PD Technology, 480Mbps Data Sync, Quick Charge 3.0 (RCT15A, Black)       | Computers&Accessories|Accessories&Peripherals|Cables&Accessories|Cables|USBCables | ₹199               | ₹349           | 43%                   | 4        | 43,994         | Compatible with all Type C enabled devices, be it an android smartphone (Mi, Samsung, Oppo, Vivo, Realme, OnePlus, etc), tablet, laptop (Macbook, Chromebook, etc)|Supports Quick Charging (2.0/3.0)|Unbreakable – Made of special braided outer with rugged interior bindings, it is ultra-durable cable that won’t be affected by daily rough usage|Ideal Length – It has ideal length of 1.5 meters which is neither too short like your typical 1meter cable or too long like a 2meters cable|Supports maximum 3A fast charging and 480 Mbps data transfer speed|6 months manufacturer warranty from the date of purchase                                                                                                                                                                                                                                                                                                                                                                                                                                                                                                                 | AECPFYFQVRUWC3KGNLJIOREFP5LQ,AGYYVPDD7YG7FYNBXNGXZJT525AQ,AHONIZU3ICIEHQIGQ6R2VFRSBXOQ,AFPHD2CRPDZMWMBL7WXRSVYWS5JA,AEZ346GX3HJ4O4XNRPHCNHXQURMQ,AEPSWFPNECKO34PUC7I56ITGXR6Q,AHWVEHR5DYLVFTO2KF3IZATFQSWQ,AH4QT33M55677I7ISQOAKEQWACYQ | ArdKn,Nirbhay kumar,Sagar Viswanathan,Asp,Placeholder,BharanI,sonia,Niam                  | RGIQEG07R9HS2,R1SMWZQ86XIN8U,R2J3Y1WL29GWDE,RYGGS0M09S3KY,R17KQRUTAN5DKS,R3AAQGS6HP2QUK,R1HDNOG6TO2CCA,R3PHKXYA5AFEOU  | A Good Braided Cable for Your Type C Device,Good quality product from ambrane,Super cable,As,Good quality,Good product,its good,Good quality for the price but one issue with my unit | I ordered this cable to connect my phone to Android Auto of car. The cable is really strong and the connection ports are really well made. I already has a Micro USB cable from Ambrane and it's still in good shape. I connected my phone to the car using the cable and it got connected well and no issues. I also connected it to the charging port and yes it has Fast Charging support.,It quality is good at this price and the main thing is that i didn't ever thought that this cable will be so long it's good one and charging power is too good and also supports fast charging,Value for money, with extra length👍,Good, working fine,Product quality is good,Good,very good,Bought for my daughter's old phone.Brand new cable it was not charging, I already repacked and requested for replacement.I checked again, and there was some green colour paste/fungus inside the micro USB connector. I cleaned with an alcoholic and starts working again.Checked the ampere of charging speed got around 1400ma-1500ma - not bad, came with braided 1.5m long cable, pretty impressive for the price.Can't blame the manufacturer.But quality issues by the distributor, they might have stored in very humid place.                                                                                                                                                                                                                                                                                                                                                                                                                                                                                                                                                                                                                                                                                                                                                                                                                                                                                                                                                                                                                                                                                                                                                                                                                                                                                                                 | https://m.media-amazon.com/images/W/WEBP_402378-T2/images/I/31zOsqQOAOL._SY445_SX342_QL70_FMwebp_.jpg | https://www.amazon.in/Ambrane-Unbreakable-Charging-Braided-Cable/dp/B098NS6PVG/ref=sr_1_2?qid=1672909124&s=electronics&sr=1-2    |\n",
            "| B096MSW6CT   | Sounce Fast Phone Charging Cable & Data Sync USB Cable Compatible for iPhone 13, 12,11, X, 8, 7, 6, 5, iPad Air, Pro, Mini & iOS Devices                                                                | Computers&Accessories|Accessories&Peripherals|Cables&Accessories|Cables|USBCables | ₹199               | ₹1,899         | 90%                   | 3.9      | 7,928          | 【 Fast Charger& Data Sync】-With built-in safety proctections and four-core copper wires promote maximum signal quality and strength and enhance charging & data transfer speed with up to 480 mb/s transferring speed.|【 Compatibility】-Compatible with iPhone 13, 12,11, X, 8, 7, 6, 5, iPad Air, Pro, Mini & iOS devices.|【 Sturdy & Durable】-The jacket and enforced connector made of TPE and premium copper, are resistant to repeatedly bending and coiling.|【 Ultra High Quality】: According to the experimental results, the fishbone design can accept at least 20,000 bending and insertion tests for extra protection and durability. Upgraded 3D aluminum connector and exclusive laser welding technology, which to ensure the metal part won't break and also have a tighter connection which fits well even with a protective case on and will never loose connection.|【 Good After Sales Service】-Our friendly and reliable customer service will respond to you within 24 hours ! you can purchase with confidence,and every sale includes a 365-day worry-free Service to prove the importance we set on quality. | AGU3BBQ2V2DDAMOAKGFAWDDQ6QHA,AESFLDV2PT363T2AQLWQOWZ4N3OA,AHTPQRIMGUD4BYR5YIHBH3CCGEFQ,AEUVWXYP5LT7PZLLZENEO2NODPBQ,AHC7MPW55DOO6WNCOQVA2VHOD26A,AFDI6FRPFBTNBG7BAEB7JDJSMKDQ,AFQKCEEEKXCOHTDG4WUN3XPPHJQQ,AHKUUFNMBZIDLSSPA4FEHIO2EC7Q | Kunal,Himanshu,viswanath,sai niharka,saqib malik,Aashiq,Ramu Challa,Sanjay gupta          | R3J3EQQ9TZI5ZJ,R3E7WBGK7ID0KV,RWU79XKQ6I1QF,R25X4TBMPY91LX,R27OK7G99VK0TR,R207CYDCHJJTCJ,R3PCU8XMU173BT,R1IMONDOWRNU5V | Good speed for earlier versions,Good Product,Working good,Good for the price,Good,Worth for money,Working nice,it's a really nice product                                             | Not quite durable and sturdy,https://m.media-amazon.com/images/W/WEBP_402378-T1/images/I/71rIggrbUCL._SY88.jpg,Working good,https://m.media-amazon.com/images/W/WEBP_402378-T1/images/I/61bKp9YO6wL._SY88.jpg,Product,Very nice product,Working well,It's a really nice product                                                                                                                                                                                                                                                                                                                                                                                                                                                                                                                                                                                                                                                                                                                                                                                                                                                                                                                                                                                                                                                                                                                                                                                                                                                                                                                                                                                                                                                                                                                                                                                                                                                                                                                                                                                                                                                                                                                                                                                                                                                                                                                                                                                                                                                                     | https://m.media-amazon.com/images/W/WEBP_402378-T1/images/I/31IvNJZnmdL._SY445_SX342_QL70_FMwebp_.jpg | https://www.amazon.in/Sounce-iPhone-Charging-Compatible-Devices/dp/B096MSW6CT/ref=sr_1_3?qid=1672909124&s=electronics&sr=1-3     |\n",
            "| B08HDJ86NZ   | boAt Deuce USB 300 2 in 1 Type-C & Micro USB Stress Resistant, Tangle-Free, Sturdy Cable with 3A Fast Charging & 480mbps Data Transmission, 10000+ Bends Lifespan and Extended 1.5m Length(Martian Red) | Computers&Accessories|Accessories&Peripherals|Cables&Accessories|Cables|USBCables | ₹329               | ₹699           | 53%                   | 4.2      | 94,363         | The boAt Deuce USB 300 2 in 1 cable is compatible with smartphones, tablets, PC peripherals, Bluetooth speakers, power banks and all other devices with Type-C as well as Micro USB port|It ensures 3A fast charging and data transmissions with rapid sync at 480 mbps|The premium Nylon braided skin makes it sturdy and invincible against external damage|Its Aluminium alloy shell housing makes it last longer with 10000+ Bends Lifespan with extended frame protection for strain relief|The resilient and flexible design offers a tangle free experience seamlessly|Deuce USB 300 cable offers a perfect 1.5 meters in length for smooth & hassle-free user experience|2 years warranty from the date of purchase                                                                                                                                                                                                                                                                                                                                                                                                                   | AEWAZDZZJLQUYVOVGBEUKSLXHQ5A,AG5HTSFRRE6NL3M5SGCUQBP7YSCA,AH725ST5NW2Y4JZPKUNTIJCUK2BA,AHV3TXIFCJPMS4D5JATCEUR266MQ,AGWIGDEMFIIUAOXYY2QATNBSUGHA,AFSTSLQUV4EVEXWKBOLEFHL2H5YQ,AGAKDNBHY2FKX7I4ACRGILU7QL7A,AFNWJUWJRHCC6HN52KMG5AKZY37Q | Omkar dhale,JD,HEMALATHA,Ajwadh a.,amar singh chouhan,Ravi Siddan,Himanshu Goel,Udaykumar | R3EEUZKKK9J36I,R3HJVYCLYOY554,REDECAZ7AMPQC,R1CLH2ULIVG5U3,R2DMKIBGFKBD6R,RC89B5IAJUTR5,R3B3DDON5FH8DS,R13WAEJDI5RS36  | Good product,Good one,Nice,Really nice product,Very first time change,Good,Fine product but could be better,Very nice it's charging like jet                                          | Good product,long wire,Charges good,Nice,I bought this cable for Rs.339 worthy product for this price, i tested it in various charger adapters 33w and 18w it supports fast charging as well.,Good,Ok,I had got this at good price on sale on Amazon and product is useful with warranty but for warranty you need to go very far not practical for such a cost and mine micro to type c connector stopped working after few days only.,I like this product                                                                                                                                                                                                                                                                                                                                                                                                                                                                                                                                                                                                                                                                                                                                                                                                                                                                                                                                                                                                                                                                                                                                                                                                                                                                                                                                                                                                                                                                                                                                                                                                                                                                                                                                                                                                                                                                                                                                                                                                                                                                                         | https://m.media-amazon.com/images/I/41V5FtEWPkL._SX300_SY300_QL70_FMwebp_.jpg                         | https://www.amazon.in/Deuce-300-Resistant-Tangle-Free-Transmission/dp/B08HDJ86NZ/ref=sr_1_4?qid=1672909124&s=electronics&sr=1-4  |\n",
            "| B08CF3B7N1   | Portronics Konnect L 1.2M Fast Charging 3A 8 Pin USB Cable with Charge & Sync Function for iPhone, iPad (Grey)                                                                                          | Computers&Accessories|Accessories&Peripherals|Cables&Accessories|Cables|USBCables | ₹154               | ₹399           | 61%                   | 4.2      | 16,905         | [CHARGE & SYNC FUNCTION]- This cable comes with charging & Data sync function|[HIGH QUALITY MATERIAL]- TPE + Nylon Material to make sure that the life of the cable is enhanced significantly|[LONG CORD]- The Cable is extra thick 1.2 meter long, optimized for an easy use for your comfort at home or office|[MORE DURABLE]-This cable is unique interms of design and multi-use and is positioned to provide the best comfort and performance while using|[UNIVERSAL COMPATIBILITY]- Compatible with all devices like iPhone XS, X, XR, 8, 7, 6S, 6, 5S, iPad Pro, iPad mini and iPad Air                                                                                                                                                                                                                                                                                                                                                                                                                                                                                                                                                | AE3Q6KSUK5P75D5HFYHCRAOLODSA,AFUGIFH5ZAFXRDSZHM4QB2KPKFUQ,AFK4NJOLFSJGWLOJIUIAROJF6YVA,AFUOTYRFUXVPEBGIXVZZ7DR3CZUA,AFDLRSXKDZ6U3U3KD46SQLFGZQRA,AH5VLM66SIK7J3IRG4NY7XVOQ55A,AE3MQNNHHLUHXURL5S7IAR7JTGNQ,AFSEOFZY67MYC7UAJU264Z5NFTLA | rahuls6099,Swasat Borah,Ajay Wadke,Pranali,RVK,Bhargav,Durai Vignesh,Amazon Customer      | R1BP4L2HH9TFUP,R16PVJEXKV6QZS,R2UPDB81N66T4P,R3KK4GT934ST3I,RCFHMWUSBIJO,RDO7DACXMAJ84,R3A6MEZL3LY66Z,R1ESIEKPGAYA29   | As good as original,Decent,Good one for secondary use,Best quality,GOOD,Amazing product at a mind blowing price!,Nice Quality,Good product                                            | Bought this instead of original apple, does the work for 150rs, not as fast as apple charger but its a good option if you want cheap and good product, bought it for iPad pro 10.5 and it's working flawlessly, build quality is ok, its not like i am gonna hang my clothes on it and i want a very strong cable, even a braided cable stop working after a year, i have used both Anker and Apple store strong braided cable they all stop working after a year so please don't buy high end cables just for that instead choose a this one and even if it's stops working withing a year you only loose 150rs compares to 2000rs.UPDATE------------------------------------pin has stopped charging from one side, now i have to slip the pin to charge from other side, but i will update and let know for how long does it work,,It’s good. Not sure about durability as the pin area feels a bit fragile,Does not support apple carplaySo was little disappointed about thatOther than that cable is made up of very good quality,Best to buy,100% NOT FATHFUL,Writing this review post 10 months and 3 orders of the same product.Honestly Portronics Konnect L lightning cable works like magic with the original Apple charging brick.Seeing the price of the cable I initially hesitated buying as it was as low as ₹99/- with the offers and so I wasn’t sure if it would work well with my iPhone 12 or whether it would impact my iPhone’s battery health because all the other lightning cable brands were costing over ₹350/- like Wayona, Amazon Basics, etc.Earlier I was using Wayona Brand lightning cable with eventually frayed and stopped working.Charging Speed:Charges my iPhone fast enough almost similar compared to the original cable level when used with 12W Original Apple power adapter.Quality and Durability:Great quality braided cable and doesn’t tangle easily and can withstand day-to-day usage.L-Shaped pin:This is very innovative by Portronics and it makes sure the cable doesn’t get damaged even if used while charging.CarPlay and Data Sync:Works smoothly with CarPlay and syncs data effortlessly.PS: I have used this cable only with the Original Apple Charging Brick and extremely satisfied with its performance.,Better than I expect the product I like that Quality and I plan to buy same type cable come with usb C to Lighting cable for emergency purpose that much I love this cable. Buy for this cable only emergency uses only since Good one,Good product and value for money | https://m.media-amazon.com/images/W/WEBP_402378-T2/images/I/31VzNhhqifL._SX300_SY300_QL70_FMwebp_.jpg | https://www.amazon.in/Portronics-Konnect-POR-1080-Charging-Function/dp/B08CF3B7N1/ref=sr_1_5?qid=1672909124&s=electronics&sr=1-5 |\n",
            "<class 'pandas.core.frame.DataFrame'>\n",
            "RangeIndex: 1465 entries, 0 to 1464\n",
            "Data columns (total 16 columns):\n",
            " #   Column               Non-Null Count  Dtype \n",
            "---  ------               --------------  ----- \n",
            " 0   product_id           1465 non-null   object\n",
            " 1   product_name         1465 non-null   object\n",
            " 2   category             1465 non-null   object\n",
            " 3   discounted_price     1465 non-null   object\n",
            " 4   actual_price         1465 non-null   object\n",
            " 5   discount_percentage  1465 non-null   object\n",
            " 6   rating               1465 non-null   object\n",
            " 7   rating_count         1463 non-null   object\n",
            " 8   about_product        1465 non-null   object\n",
            " 9   user_id              1465 non-null   object\n",
            " 10  user_name            1465 non-null   object\n",
            " 11  review_id            1465 non-null   object\n",
            " 12  review_title         1465 non-null   object\n",
            " 13  review_content       1465 non-null   object\n",
            " 14  img_link             1465 non-null   object\n",
            " 15  product_link         1465 non-null   object\n",
            "dtypes: object(16)\n",
            "memory usage: 183.2+ KB\n",
            "None\n",
            "| product_name                                                                                                                                                                               | count   |\n",
            "|:-------------------------------------------------------------------------------------------------------------------------------------------------------------------------------------------|:--------|\n",
            "| Fire-Boltt Ninja Call Pro Plus 1.83\" Smart Watch with Bluetooth Calling, AI Voice Assistance, 100 Sports Modes IP67 Rating, 240*280 Pixel High Resolution                                  | 5       |\n",
            "| Fire-Boltt Phoenix Smart Watch with Bluetooth Calling 1.3\",120+ Sports Modes, 240*240 PX High Res with SpO2, Heart Rate Monitoring & IP67 Rating                                           | 4       |\n",
            "| Ambrane 2 in 1 Type-C & Micro USB Cable with 60W / 3A Fast Charging, 480 mbps High Data, PD Technology & Quick Charge 3.0, Compatible with All Type-C & Micro USB Devices (ABDC-10, Black) | 3       |\n",
            "| Pinnaclz Original Combo of 2 Micro USB Fast Charging Cable, USB Charging Cable for Data Transfer Perfect for Android Smart Phones White 1.2 Meter Made in India (Pack of 2)                | 3       |\n",
            "| Portronics Konnect L POR-1081 Fast Charging 3A Type-C Cable 1.2Meter with Charge & Sync Function for All Type-C Devices (Grey)                                                             | 3       |\n"
          ]
        }
      ]
    },
    {
      "cell_type": "markdown",
      "source": [
        "8. What is the correlation between discounted_price and rating?"
      ],
      "metadata": {
        "id": "xkm1aycPsOYd"
      }
    },
    {
      "cell_type": "code",
      "source": [
        "import pandas as pd\n",
        "\n",
        "pd.set_option('display.max_rows', None)\n",
        "pd.set_option('display.max_columns', None)\n",
        "\n",
        "# Read the CSV file into a DataFrame\n",
        "df = pd.read_csv('amazon.csv')\n",
        "\n",
        "# Display the first 5 rows\n",
        "print(df.head().to_markdown(index=False, numalign=\"left\", stralign=\"left\"))\n",
        "\n",
        "# Print the column names and their data types\n",
        "print(df.info())\n",
        "# Get all unique values from `discounted_price`\n",
        "unique_values = df['discounted_price'].unique()\n",
        "\n",
        "# Check the number of unique values in `discounted_price`\n",
        "if len(unique_values) > 50:\n",
        "  # If there are too many unique values, sample the top 50\n",
        "  top_occurring_values = df['discounted_price'].value_counts().head(50).index.tolist()\n",
        "  print(top_occurring_values)\n",
        "else:\n",
        "  # Otherwise print all unique valus in `discounted_price`\n",
        "  print(unique_values)\n",
        "\n",
        "# Get all unique values from `rating`\n",
        "unique_values = df['rating'].unique()\n",
        "\n",
        "# Check the number of unique values in `rating`\n",
        "if len(unique_values) > 50:\n",
        "  # If there are too many unique values, sample the top 50\n",
        "  top_occurring_values = df['rating'].value_counts().head(50).index.tolist()\n",
        "  print(top_occurring_values)\n",
        "else:\n",
        "  # Otherwise print all unique valus in `rating`\n",
        "  print(unique_values)\n",
        "# Remove '₹' and ',' from `discounted_price` column\n",
        "df['discounted_price'] = df['discounted_price'].astype(str).str.replace('₹', '', regex=False).str.replace(',', '', regex=False)\n",
        "\n",
        "# Convert `discounted_price` column to numeric\n",
        "df['discounted_price'] = pd.to_numeric(df['discounted_price'])\n",
        "# Convert 'discounted_price' and 'rating' to numeric and handle missing values\n",
        "df['discounted_price'] = pd.to_numeric(df['discounted_price'], errors='coerce')\n",
        "df['rating'] = pd.to_numeric(df['rating'], errors='coerce')\n",
        "# df.dropna(subset=['discounted_price', 'rating'], inplace=True) # uncomment to drop NaN\n",
        "\n",
        "# Compute the correlation between `discounted_price` and `rating`\n",
        "correlation = df[['discounted_price', 'rating']].corr()['discounted_price']['rating']\n",
        "\n",
        "# Print the correlation between `discounted_price` and `rating`\n",
        "print(f'The correlation between discounted_price and rating is: {correlation}')\n",
        "# Print the column names of `df`\n",
        "print(df.columns)\n",
        "# Compute the correlation between `discounted_price` and `rating`\n",
        "correlation = df[['discounted_price', 'rating']].corr()['discounted_price']['rating']\n",
        "\n",
        "# Print the correlation between `discounted_price` and `rating`\n",
        "print(f'The correlation between discounted_price and rating is: {correlation}')\n",
        "# Print the column names of `df`\n",
        "print(df.columns)\n",
        "import numpy as np\n",
        "\n",
        "# Get all unique non-numeric values from `rating`\n",
        "non_numeric_rating_value = df[pd.to_numeric(df['rating'], errors='coerce').isna()]['rating'].unique()\n",
        "\n",
        "if (len(non_numeric_rating_value) > 20):\n",
        "  # Sample 20 of them if there are too many unique values\n",
        "  print(np.random.choice(non_numeric_rating_value, 20, replace=False))\n",
        "else:\n",
        "  # Otherwise print all unique non-numeric values from `rating`\n",
        "  print(non_numeric_rating_value)\n",
        "# Remove '|' from `rating` column\n",
        "df['rating'] = df['rating'].astype(str).str.replace('|', '', regex=False)\n",
        "\n",
        "# Convert `rating` column to numeric\n",
        "df['rating'] = pd.to_numeric(df['rating'], errors='coerce')\n",
        "\n",
        "# Compute the correlation between `discounted_price` and `rating`\n",
        "correlation = df[['discounted_price', 'rating']].corr()['discounted_price']['rating']\n",
        "\n",
        "# Print the correlation between `discounted_price` and `rating`\n",
        "print(f'The correlation between discounted_price and rating is: {correlation}')\n"
      ],
      "metadata": {
        "colab": {
          "base_uri": "https://localhost:8080/"
        },
        "id": "1nqUyYN-uHH2",
        "outputId": "45a07935-68d7-4888-852c-b09fa95bf915"
      },
      "execution_count": 33,
      "outputs": [
        {
          "output_type": "stream",
          "name": "stdout",
          "text": [
            "| product_id   | product_name                                                                                                                                                                                            | category                                                                          | discounted_price   | actual_price   | discount_percentage   | rating   | rating_count   | about_product                                                                                                                                                                                                                                                                                                                                                                                                                                                                                                                                                                                                                                                                                                                                                                                                                                                                                                                                                                                                                                                                                                                                 | user_id                                                                                                                                                                                                                                 | user_name                                                                                 | review_id                                                                                                              | review_title                                                                                                                                                                          | review_content                                                                                                                                                                                                                                                                                                                                                                                                                                                                                                                                                                                                                                                                                                                                                                                                                                                                                                                                                                                                                                                                                                                                                                                                                                                                                                                                                                                                                                                                                                                                                                                                                                                                                                                                                                                                                                                                                                                                                                                                                                                                                                                                                                                                                                                                                                                                                                                                                                                                                                                                      | img_link                                                                                              | product_link                                                                                                                     |\n",
            "|:-------------|:--------------------------------------------------------------------------------------------------------------------------------------------------------------------------------------------------------|:----------------------------------------------------------------------------------|:-------------------|:---------------|:----------------------|:---------|:---------------|:----------------------------------------------------------------------------------------------------------------------------------------------------------------------------------------------------------------------------------------------------------------------------------------------------------------------------------------------------------------------------------------------------------------------------------------------------------------------------------------------------------------------------------------------------------------------------------------------------------------------------------------------------------------------------------------------------------------------------------------------------------------------------------------------------------------------------------------------------------------------------------------------------------------------------------------------------------------------------------------------------------------------------------------------------------------------------------------------------------------------------------------------|:----------------------------------------------------------------------------------------------------------------------------------------------------------------------------------------------------------------------------------------|:------------------------------------------------------------------------------------------|:-----------------------------------------------------------------------------------------------------------------------|:--------------------------------------------------------------------------------------------------------------------------------------------------------------------------------------|:----------------------------------------------------------------------------------------------------------------------------------------------------------------------------------------------------------------------------------------------------------------------------------------------------------------------------------------------------------------------------------------------------------------------------------------------------------------------------------------------------------------------------------------------------------------------------------------------------------------------------------------------------------------------------------------------------------------------------------------------------------------------------------------------------------------------------------------------------------------------------------------------------------------------------------------------------------------------------------------------------------------------------------------------------------------------------------------------------------------------------------------------------------------------------------------------------------------------------------------------------------------------------------------------------------------------------------------------------------------------------------------------------------------------------------------------------------------------------------------------------------------------------------------------------------------------------------------------------------------------------------------------------------------------------------------------------------------------------------------------------------------------------------------------------------------------------------------------------------------------------------------------------------------------------------------------------------------------------------------------------------------------------------------------------------------------------------------------------------------------------------------------------------------------------------------------------------------------------------------------------------------------------------------------------------------------------------------------------------------------------------------------------------------------------------------------------------------------------------------------------------------------------------------------------|:------------------------------------------------------------------------------------------------------|:---------------------------------------------------------------------------------------------------------------------------------|\n",
            "| B07JW9H4J1   | Wayona Nylon Braided USB to Lightning Fast Charging and Data Sync Cable Compatible for iPhone 13, 12,11, X, 8, 7, 6, 5, iPad Air, Pro, Mini (3 FT Pack of 1, Grey)                                      | Computers&Accessories|Accessories&Peripherals|Cables&Accessories|Cables|USBCables | ₹399               | ₹1,099         | 64%                   | 4.2      | 24,269         | High Compatibility : Compatible With iPhone 12, 11, X/XsMax/Xr ,iPhone 8/8 Plus,iPhone 7/7 Plus,iPhone 6s/6s Plus,iPhone 6/6 Plus,iPhone 5/5s/5c/se,iPad Pro,iPad Air 1/2,iPad mini 1/2/3,iPod nano7,iPod touch and more apple devices.|Fast Charge&Data Sync : It can charge and sync simultaneously at a rapid speed, Compatible with any charging adaptor, multi-port charging station or power bank.|Durability : Durable nylon braided design with premium aluminum housing and toughened nylon fiber wound tightly around the cord lending it superior durability and adding a bit to its flexibility.|High Security Level : It is designed to fully protect your device from damaging excessive current.Copper core thick+Multilayer shielding, Anti-interference, Protective circuit equipment.|WARRANTY: 12 months warranty and friendly customer services, ensures the long-time enjoyment of your purchase. If you meet any question or problem, please don't hesitate to contact us.                                                                                                                                              | AG3D6O4STAQKAY2UVGEUV46KN35Q,AHMY5CWJMMK5BJRBBSNLYT3ONILA,AHCTC6ULH4XB6YHDY6PCH2R772LQ,AGYHHIERNXKA6P5T7CZLXKVPT7IQ,AG4OGOFWXJZTQ2HKYIOCOY3KXF2Q,AENGU523SXMOS7JPDTW52PNNVWGQ,AEQJHCVTNINBS4FKTBGQRQTGTE5Q,AFC3FFC5PKFF5PMA52S3VCHOZ5FQ | Manav,Adarsh gupta,Sundeep,S.Sayeed Ahmed,jaspreet singh,Khaja moin,Anand,S.ARUMUGAM      | R3HXWT0LRP0NMF,R2AJM3LFTLZHFO,R6AQJGUP6P86,R1KD19VHEDV0OR,R3C02RMYQMK6FC,R39GQRVBUZBWGY,R2K9EDOE15QIRJ,R3OI7YT648TL8I  | Satisfied,Charging is really fast,Value for money,Product review,Good quality,Good product,Good Product,As of now seems good                                                          | Looks durable Charging is fine tooNo complains,Charging is really fast, good product.,Till now satisfied with the quality.,This is a good product . The charging speed is slower than the original iPhone cable,Good quality, would recommend,https://m.media-amazon.com/images/W/WEBP_402378-T1/images/I/81---F1ZgHL._SY88.jpg,Product had worked well till date and was having no issue.Cable is also sturdy enough...Have asked for replacement and company is doing the same...,Value for money                                                                                                                                                                                                                                                                                                                                                                                                                                                                                                                                                                                                                                                                                                                                                                                                                                                                                                                                                                                                                                                                                                                                                                                                                                                                                                                                                                                                                                                                                                                                                                                                                                                                                                                                                                                                                                                                                                                                                                                                                                                 | https://m.media-amazon.com/images/W/WEBP_402378-T1/images/I/51UsScvHQNL._SX300_SY300_QL70_FMwebp_.jpg | https://www.amazon.in/Wayona-Braided-WN3LG1-Syncing-Charging/dp/B07JW9H4J1/ref=sr_1_1?qid=1672909124&s=electronics&sr=1-1        |\n",
            "| B098NS6PVG   | Ambrane Unbreakable 60W / 3A Fast Charging 1.5m Braided Type C Cable for Smartphones, Tablets, Laptops & other Type C devices, PD Technology, 480Mbps Data Sync, Quick Charge 3.0 (RCT15A, Black)       | Computers&Accessories|Accessories&Peripherals|Cables&Accessories|Cables|USBCables | ₹199               | ₹349           | 43%                   | 4        | 43,994         | Compatible with all Type C enabled devices, be it an android smartphone (Mi, Samsung, Oppo, Vivo, Realme, OnePlus, etc), tablet, laptop (Macbook, Chromebook, etc)|Supports Quick Charging (2.0/3.0)|Unbreakable – Made of special braided outer with rugged interior bindings, it is ultra-durable cable that won’t be affected by daily rough usage|Ideal Length – It has ideal length of 1.5 meters which is neither too short like your typical 1meter cable or too long like a 2meters cable|Supports maximum 3A fast charging and 480 Mbps data transfer speed|6 months manufacturer warranty from the date of purchase                                                                                                                                                                                                                                                                                                                                                                                                                                                                                                                 | AECPFYFQVRUWC3KGNLJIOREFP5LQ,AGYYVPDD7YG7FYNBXNGXZJT525AQ,AHONIZU3ICIEHQIGQ6R2VFRSBXOQ,AFPHD2CRPDZMWMBL7WXRSVYWS5JA,AEZ346GX3HJ4O4XNRPHCNHXQURMQ,AEPSWFPNECKO34PUC7I56ITGXR6Q,AHWVEHR5DYLVFTO2KF3IZATFQSWQ,AH4QT33M55677I7ISQOAKEQWACYQ | ArdKn,Nirbhay kumar,Sagar Viswanathan,Asp,Placeholder,BharanI,sonia,Niam                  | RGIQEG07R9HS2,R1SMWZQ86XIN8U,R2J3Y1WL29GWDE,RYGGS0M09S3KY,R17KQRUTAN5DKS,R3AAQGS6HP2QUK,R1HDNOG6TO2CCA,R3PHKXYA5AFEOU  | A Good Braided Cable for Your Type C Device,Good quality product from ambrane,Super cable,As,Good quality,Good product,its good,Good quality for the price but one issue with my unit | I ordered this cable to connect my phone to Android Auto of car. The cable is really strong and the connection ports are really well made. I already has a Micro USB cable from Ambrane and it's still in good shape. I connected my phone to the car using the cable and it got connected well and no issues. I also connected it to the charging port and yes it has Fast Charging support.,It quality is good at this price and the main thing is that i didn't ever thought that this cable will be so long it's good one and charging power is too good and also supports fast charging,Value for money, with extra length👍,Good, working fine,Product quality is good,Good,very good,Bought for my daughter's old phone.Brand new cable it was not charging, I already repacked and requested for replacement.I checked again, and there was some green colour paste/fungus inside the micro USB connector. I cleaned with an alcoholic and starts working again.Checked the ampere of charging speed got around 1400ma-1500ma - not bad, came with braided 1.5m long cable, pretty impressive for the price.Can't blame the manufacturer.But quality issues by the distributor, they might have stored in very humid place.                                                                                                                                                                                                                                                                                                                                                                                                                                                                                                                                                                                                                                                                                                                                                                                                                                                                                                                                                                                                                                                                                                                                                                                                                                                                                                                 | https://m.media-amazon.com/images/W/WEBP_402378-T2/images/I/31zOsqQOAOL._SY445_SX342_QL70_FMwebp_.jpg | https://www.amazon.in/Ambrane-Unbreakable-Charging-Braided-Cable/dp/B098NS6PVG/ref=sr_1_2?qid=1672909124&s=electronics&sr=1-2    |\n",
            "| B096MSW6CT   | Sounce Fast Phone Charging Cable & Data Sync USB Cable Compatible for iPhone 13, 12,11, X, 8, 7, 6, 5, iPad Air, Pro, Mini & iOS Devices                                                                | Computers&Accessories|Accessories&Peripherals|Cables&Accessories|Cables|USBCables | ₹199               | ₹1,899         | 90%                   | 3.9      | 7,928          | 【 Fast Charger& Data Sync】-With built-in safety proctections and four-core copper wires promote maximum signal quality and strength and enhance charging & data transfer speed with up to 480 mb/s transferring speed.|【 Compatibility】-Compatible with iPhone 13, 12,11, X, 8, 7, 6, 5, iPad Air, Pro, Mini & iOS devices.|【 Sturdy & Durable】-The jacket and enforced connector made of TPE and premium copper, are resistant to repeatedly bending and coiling.|【 Ultra High Quality】: According to the experimental results, the fishbone design can accept at least 20,000 bending and insertion tests for extra protection and durability. Upgraded 3D aluminum connector and exclusive laser welding technology, which to ensure the metal part won't break and also have a tighter connection which fits well even with a protective case on and will never loose connection.|【 Good After Sales Service】-Our friendly and reliable customer service will respond to you within 24 hours ! you can purchase with confidence,and every sale includes a 365-day worry-free Service to prove the importance we set on quality. | AGU3BBQ2V2DDAMOAKGFAWDDQ6QHA,AESFLDV2PT363T2AQLWQOWZ4N3OA,AHTPQRIMGUD4BYR5YIHBH3CCGEFQ,AEUVWXYP5LT7PZLLZENEO2NODPBQ,AHC7MPW55DOO6WNCOQVA2VHOD26A,AFDI6FRPFBTNBG7BAEB7JDJSMKDQ,AFQKCEEEKXCOHTDG4WUN3XPPHJQQ,AHKUUFNMBZIDLSSPA4FEHIO2EC7Q | Kunal,Himanshu,viswanath,sai niharka,saqib malik,Aashiq,Ramu Challa,Sanjay gupta          | R3J3EQQ9TZI5ZJ,R3E7WBGK7ID0KV,RWU79XKQ6I1QF,R25X4TBMPY91LX,R27OK7G99VK0TR,R207CYDCHJJTCJ,R3PCU8XMU173BT,R1IMONDOWRNU5V | Good speed for earlier versions,Good Product,Working good,Good for the price,Good,Worth for money,Working nice,it's a really nice product                                             | Not quite durable and sturdy,https://m.media-amazon.com/images/W/WEBP_402378-T1/images/I/71rIggrbUCL._SY88.jpg,Working good,https://m.media-amazon.com/images/W/WEBP_402378-T1/images/I/61bKp9YO6wL._SY88.jpg,Product,Very nice product,Working well,It's a really nice product                                                                                                                                                                                                                                                                                                                                                                                                                                                                                                                                                                                                                                                                                                                                                                                                                                                                                                                                                                                                                                                                                                                                                                                                                                                                                                                                                                                                                                                                                                                                                                                                                                                                                                                                                                                                                                                                                                                                                                                                                                                                                                                                                                                                                                                                     | https://m.media-amazon.com/images/W/WEBP_402378-T1/images/I/31IvNJZnmdL._SY445_SX342_QL70_FMwebp_.jpg | https://www.amazon.in/Sounce-iPhone-Charging-Compatible-Devices/dp/B096MSW6CT/ref=sr_1_3?qid=1672909124&s=electronics&sr=1-3     |\n",
            "| B08HDJ86NZ   | boAt Deuce USB 300 2 in 1 Type-C & Micro USB Stress Resistant, Tangle-Free, Sturdy Cable with 3A Fast Charging & 480mbps Data Transmission, 10000+ Bends Lifespan and Extended 1.5m Length(Martian Red) | Computers&Accessories|Accessories&Peripherals|Cables&Accessories|Cables|USBCables | ₹329               | ₹699           | 53%                   | 4.2      | 94,363         | The boAt Deuce USB 300 2 in 1 cable is compatible with smartphones, tablets, PC peripherals, Bluetooth speakers, power banks and all other devices with Type-C as well as Micro USB port|It ensures 3A fast charging and data transmissions with rapid sync at 480 mbps|The premium Nylon braided skin makes it sturdy and invincible against external damage|Its Aluminium alloy shell housing makes it last longer with 10000+ Bends Lifespan with extended frame protection for strain relief|The resilient and flexible design offers a tangle free experience seamlessly|Deuce USB 300 cable offers a perfect 1.5 meters in length for smooth & hassle-free user experience|2 years warranty from the date of purchase                                                                                                                                                                                                                                                                                                                                                                                                                   | AEWAZDZZJLQUYVOVGBEUKSLXHQ5A,AG5HTSFRRE6NL3M5SGCUQBP7YSCA,AH725ST5NW2Y4JZPKUNTIJCUK2BA,AHV3TXIFCJPMS4D5JATCEUR266MQ,AGWIGDEMFIIUAOXYY2QATNBSUGHA,AFSTSLQUV4EVEXWKBOLEFHL2H5YQ,AGAKDNBHY2FKX7I4ACRGILU7QL7A,AFNWJUWJRHCC6HN52KMG5AKZY37Q | Omkar dhale,JD,HEMALATHA,Ajwadh a.,amar singh chouhan,Ravi Siddan,Himanshu Goel,Udaykumar | R3EEUZKKK9J36I,R3HJVYCLYOY554,REDECAZ7AMPQC,R1CLH2ULIVG5U3,R2DMKIBGFKBD6R,RC89B5IAJUTR5,R3B3DDON5FH8DS,R13WAEJDI5RS36  | Good product,Good one,Nice,Really nice product,Very first time change,Good,Fine product but could be better,Very nice it's charging like jet                                          | Good product,long wire,Charges good,Nice,I bought this cable for Rs.339 worthy product for this price, i tested it in various charger adapters 33w and 18w it supports fast charging as well.,Good,Ok,I had got this at good price on sale on Amazon and product is useful with warranty but for warranty you need to go very far not practical for such a cost and mine micro to type c connector stopped working after few days only.,I like this product                                                                                                                                                                                                                                                                                                                                                                                                                                                                                                                                                                                                                                                                                                                                                                                                                                                                                                                                                                                                                                                                                                                                                                                                                                                                                                                                                                                                                                                                                                                                                                                                                                                                                                                                                                                                                                                                                                                                                                                                                                                                                         | https://m.media-amazon.com/images/I/41V5FtEWPkL._SX300_SY300_QL70_FMwebp_.jpg                         | https://www.amazon.in/Deuce-300-Resistant-Tangle-Free-Transmission/dp/B08HDJ86NZ/ref=sr_1_4?qid=1672909124&s=electronics&sr=1-4  |\n",
            "| B08CF3B7N1   | Portronics Konnect L 1.2M Fast Charging 3A 8 Pin USB Cable with Charge & Sync Function for iPhone, iPad (Grey)                                                                                          | Computers&Accessories|Accessories&Peripherals|Cables&Accessories|Cables|USBCables | ₹154               | ₹399           | 61%                   | 4.2      | 16,905         | [CHARGE & SYNC FUNCTION]- This cable comes with charging & Data sync function|[HIGH QUALITY MATERIAL]- TPE + Nylon Material to make sure that the life of the cable is enhanced significantly|[LONG CORD]- The Cable is extra thick 1.2 meter long, optimized for an easy use for your comfort at home or office|[MORE DURABLE]-This cable is unique interms of design and multi-use and is positioned to provide the best comfort and performance while using|[UNIVERSAL COMPATIBILITY]- Compatible with all devices like iPhone XS, X, XR, 8, 7, 6S, 6, 5S, iPad Pro, iPad mini and iPad Air                                                                                                                                                                                                                                                                                                                                                                                                                                                                                                                                                | AE3Q6KSUK5P75D5HFYHCRAOLODSA,AFUGIFH5ZAFXRDSZHM4QB2KPKFUQ,AFK4NJOLFSJGWLOJIUIAROJF6YVA,AFUOTYRFUXVPEBGIXVZZ7DR3CZUA,AFDLRSXKDZ6U3U3KD46SQLFGZQRA,AH5VLM66SIK7J3IRG4NY7XVOQ55A,AE3MQNNHHLUHXURL5S7IAR7JTGNQ,AFSEOFZY67MYC7UAJU264Z5NFTLA | rahuls6099,Swasat Borah,Ajay Wadke,Pranali,RVK,Bhargav,Durai Vignesh,Amazon Customer      | R1BP4L2HH9TFUP,R16PVJEXKV6QZS,R2UPDB81N66T4P,R3KK4GT934ST3I,RCFHMWUSBIJO,RDO7DACXMAJ84,R3A6MEZL3LY66Z,R1ESIEKPGAYA29   | As good as original,Decent,Good one for secondary use,Best quality,GOOD,Amazing product at a mind blowing price!,Nice Quality,Good product                                            | Bought this instead of original apple, does the work for 150rs, not as fast as apple charger but its a good option if you want cheap and good product, bought it for iPad pro 10.5 and it's working flawlessly, build quality is ok, its not like i am gonna hang my clothes on it and i want a very strong cable, even a braided cable stop working after a year, i have used both Anker and Apple store strong braided cable they all stop working after a year so please don't buy high end cables just for that instead choose a this one and even if it's stops working withing a year you only loose 150rs compares to 2000rs.UPDATE------------------------------------pin has stopped charging from one side, now i have to slip the pin to charge from other side, but i will update and let know for how long does it work,,It’s good. Not sure about durability as the pin area feels a bit fragile,Does not support apple carplaySo was little disappointed about thatOther than that cable is made up of very good quality,Best to buy,100% NOT FATHFUL,Writing this review post 10 months and 3 orders of the same product.Honestly Portronics Konnect L lightning cable works like magic with the original Apple charging brick.Seeing the price of the cable I initially hesitated buying as it was as low as ₹99/- with the offers and so I wasn’t sure if it would work well with my iPhone 12 or whether it would impact my iPhone’s battery health because all the other lightning cable brands were costing over ₹350/- like Wayona, Amazon Basics, etc.Earlier I was using Wayona Brand lightning cable with eventually frayed and stopped working.Charging Speed:Charges my iPhone fast enough almost similar compared to the original cable level when used with 12W Original Apple power adapter.Quality and Durability:Great quality braided cable and doesn’t tangle easily and can withstand day-to-day usage.L-Shaped pin:This is very innovative by Portronics and it makes sure the cable doesn’t get damaged even if used while charging.CarPlay and Data Sync:Works smoothly with CarPlay and syncs data effortlessly.PS: I have used this cable only with the Original Apple Charging Brick and extremely satisfied with its performance.,Better than I expect the product I like that Quality and I plan to buy same type cable come with usb C to Lighting cable for emergency purpose that much I love this cable. Buy for this cable only emergency uses only since Good one,Good product and value for money | https://m.media-amazon.com/images/W/WEBP_402378-T2/images/I/31VzNhhqifL._SX300_SY300_QL70_FMwebp_.jpg | https://www.amazon.in/Portronics-Konnect-POR-1080-Charging-Function/dp/B08CF3B7N1/ref=sr_1_5?qid=1672909124&s=electronics&sr=1-5 |\n",
            "<class 'pandas.core.frame.DataFrame'>\n",
            "RangeIndex: 1465 entries, 0 to 1464\n",
            "Data columns (total 16 columns):\n",
            " #   Column               Non-Null Count  Dtype \n",
            "---  ------               --------------  ----- \n",
            " 0   product_id           1465 non-null   object\n",
            " 1   product_name         1465 non-null   object\n",
            " 2   category             1465 non-null   object\n",
            " 3   discounted_price     1465 non-null   object\n",
            " 4   actual_price         1465 non-null   object\n",
            " 5   discount_percentage  1465 non-null   object\n",
            " 6   rating               1465 non-null   object\n",
            " 7   rating_count         1463 non-null   object\n",
            " 8   about_product        1465 non-null   object\n",
            " 9   user_id              1465 non-null   object\n",
            " 10  user_name            1465 non-null   object\n",
            " 11  review_id            1465 non-null   object\n",
            " 12  review_title         1465 non-null   object\n",
            " 13  review_content       1465 non-null   object\n",
            " 14  img_link             1465 non-null   object\n",
            " 15  product_link         1465 non-null   object\n",
            "dtypes: object(16)\n",
            "memory usage: 183.2+ KB\n",
            "None\n",
            "['₹199', '₹299', '₹399', '₹499', '₹349', '₹599', '₹1,499', '₹999', '₹1,199', '₹1,799', '₹1,999', '₹799', '₹899', '₹249', '₹1,299', '₹149', '₹1,399', '₹99', '₹699', '₹1,599', '₹649', '₹2,499', '₹179', '₹1,099', '₹549', '₹13,999', '₹379', '₹449', '₹1,699', '₹970', '₹2,599', '₹949', '₹12,999', '₹2,199', '₹269', '₹2,999', '₹154', '₹139', '₹329', '₹1,149', '₹279', '₹749', '₹6,499', '₹209', '₹219', '₹229', '₹849', '₹3,999', '₹8,999', '₹16,999']\n",
            "['4.2' '4.0' '3.9' '4.1' '4.3' '4.4' '4.5' '3.7' '3.3' '3.6' '3.4' '3.8'\n",
            " '3.5' '4.6' '3.2' '5.0' '4.7' '3.0' '2.8' '4' '3.1' '4.8' '2.3' '|' '2'\n",
            " '3' '2.6' '2.9']\n",
            "The correlation between discounted_price and rating is: 0.12033741712288648\n",
            "Index(['product_id', 'product_name', 'category', 'discounted_price',\n",
            "       'actual_price', 'discount_percentage', 'rating', 'rating_count',\n",
            "       'about_product', 'user_id', 'user_name', 'review_id', 'review_title',\n",
            "       'review_content', 'img_link', 'product_link'],\n",
            "      dtype='object')\n",
            "The correlation between discounted_price and rating is: 0.12033741712288648\n",
            "Index(['product_id', 'product_name', 'category', 'discounted_price',\n",
            "       'actual_price', 'discount_percentage', 'rating', 'rating_count',\n",
            "       'about_product', 'user_id', 'user_name', 'review_id', 'review_title',\n",
            "       'review_content', 'img_link', 'product_link'],\n",
            "      dtype='object')\n",
            "[nan]\n",
            "The correlation between discounted_price and rating is: 0.12033741712288648\n"
          ]
        }
      ]
    },
    {
      "cell_type": "markdown",
      "source": [
        "9. What are the Top 5 categories based on the highest ratings?"
      ],
      "metadata": {
        "id": "G7R4P2yGwAWP"
      }
    },
    {
      "cell_type": "code",
      "source": [
        "import pandas as pd\n",
        "\n",
        "pd.set_option('display.max_rows', None)\n",
        "pd.set_option('display.max_columns', None)\n",
        "\n",
        "# Read the CSV file into a DataFrame\n",
        "df = pd.read_csv('amazon.csv')\n",
        "\n",
        "# Display the first 5 rows\n",
        "print(df.head().to_markdown(index=False, numalign=\"left\", stralign=\"left\"))\n",
        "\n",
        "# Print the column names and their data types\n",
        "print(df.info())\n",
        "# Get all unique values from `category`\n",
        "unique_values = df['category'].unique()\n",
        "\n",
        "# Check the number of unique values in `category`\n",
        "if len(unique_values) > 50:\n",
        "  # If there are too many unique values, sample the top 50\n",
        "  top_occurring_values = df['category'].value_counts().head(50).index.tolist()\n",
        "  print(top_occurring_values)\n",
        "else:\n",
        "  # Otherwise print all unique valus in `category`\n",
        "  print(unique_values)\n",
        "# Convert 'rating' to numeric and handle missing values\n",
        "df['rating'] = pd.to_numeric(df['rating'], errors='coerce')\n",
        "# df.dropna(subset=['rating'], inplace=True)  # Uncomment to drop NaN\n",
        "# Filter the DataFrame to include only rows where `rating` is greater than or equal to 4\n",
        "filtered_df = df[df['rating'] >= 4]\n",
        "\n",
        "# Display the first 10 rows\n",
        "print(filtered_df.head(10).to_markdown(index=False, numalign=\"left\", stralign=\"left\"))\n",
        "# Convert `rating` column to numeric\n",
        "df['rating'] = pd.to_numeric(df['rating'], errors='coerce')\n",
        "\n",
        "# Filter the DataFrame to include only rows where `rating` is greater than or equal to 4\n",
        "filtered_df = df[df['rating'] >= 4]\n",
        "\n",
        "# Display the first 10 rows\n",
        "print(filtered_df.head(10).to_markdown(index=False, numalign=\"left\", stralign=\"left\"))\n",
        "# Aggregate the data using `category` and `rating` with `agg` function\n",
        "aggregated_df = filtered_df.groupby('category').agg({'rating': 'mean'}).reset_index()\n",
        "\n",
        "# Sort the aggregated dataframe in descending order of the mean `rating`\n",
        "sorted_df = aggregated_df.sort_values(by='rating', ascending=False)\n",
        "\n",
        "# Calculate the number of rows in the aggregated dataframe\n",
        "total_rows = len(sorted_df)\n",
        "\n",
        "# Display the output\n",
        "if total_rows > 5:\n",
        "    print(sorted_df.head().to_markdown(index=False, numalign=\"left\", stralign=\"left\"))\n",
        "else:\n",
        "    print(sorted_df.to_markdown(index=False, numalign=\"left\", stralign=\"left\"))"
      ],
      "metadata": {
        "colab": {
          "base_uri": "https://localhost:8080/"
        },
        "id": "75VmAWHswG4h",
        "outputId": "54f5c6bc-7d30-4a7d-fc2d-6a7addf6d731"
      },
      "execution_count": 35,
      "outputs": [
        {
          "output_type": "stream",
          "name": "stdout",
          "text": [
            "| product_id   | product_name                                                                                                                                                                                            | category                                                                          | discounted_price   | actual_price   | discount_percentage   | rating   | rating_count   | about_product                                                                                                                                                                                                                                                                                                                                                                                                                                                                                                                                                                                                                                                                                                                                                                                                                                                                                                                                                                                                                                                                                                                                 | user_id                                                                                                                                                                                                                                 | user_name                                                                                 | review_id                                                                                                              | review_title                                                                                                                                                                          | review_content                                                                                                                                                                                                                                                                                                                                                                                                                                                                                                                                                                                                                                                                                                                                                                                                                                                                                                                                                                                                                                                                                                                                                                                                                                                                                                                                                                                                                                                                                                                                                                                                                                                                                                                                                                                                                                                                                                                                                                                                                                                                                                                                                                                                                                                                                                                                                                                                                                                                                                                                      | img_link                                                                                              | product_link                                                                                                                     |\n",
            "|:-------------|:--------------------------------------------------------------------------------------------------------------------------------------------------------------------------------------------------------|:----------------------------------------------------------------------------------|:-------------------|:---------------|:----------------------|:---------|:---------------|:----------------------------------------------------------------------------------------------------------------------------------------------------------------------------------------------------------------------------------------------------------------------------------------------------------------------------------------------------------------------------------------------------------------------------------------------------------------------------------------------------------------------------------------------------------------------------------------------------------------------------------------------------------------------------------------------------------------------------------------------------------------------------------------------------------------------------------------------------------------------------------------------------------------------------------------------------------------------------------------------------------------------------------------------------------------------------------------------------------------------------------------------|:----------------------------------------------------------------------------------------------------------------------------------------------------------------------------------------------------------------------------------------|:------------------------------------------------------------------------------------------|:-----------------------------------------------------------------------------------------------------------------------|:--------------------------------------------------------------------------------------------------------------------------------------------------------------------------------------|:----------------------------------------------------------------------------------------------------------------------------------------------------------------------------------------------------------------------------------------------------------------------------------------------------------------------------------------------------------------------------------------------------------------------------------------------------------------------------------------------------------------------------------------------------------------------------------------------------------------------------------------------------------------------------------------------------------------------------------------------------------------------------------------------------------------------------------------------------------------------------------------------------------------------------------------------------------------------------------------------------------------------------------------------------------------------------------------------------------------------------------------------------------------------------------------------------------------------------------------------------------------------------------------------------------------------------------------------------------------------------------------------------------------------------------------------------------------------------------------------------------------------------------------------------------------------------------------------------------------------------------------------------------------------------------------------------------------------------------------------------------------------------------------------------------------------------------------------------------------------------------------------------------------------------------------------------------------------------------------------------------------------------------------------------------------------------------------------------------------------------------------------------------------------------------------------------------------------------------------------------------------------------------------------------------------------------------------------------------------------------------------------------------------------------------------------------------------------------------------------------------------------------------------------------|:------------------------------------------------------------------------------------------------------|:---------------------------------------------------------------------------------------------------------------------------------|\n",
            "| B07JW9H4J1   | Wayona Nylon Braided USB to Lightning Fast Charging and Data Sync Cable Compatible for iPhone 13, 12,11, X, 8, 7, 6, 5, iPad Air, Pro, Mini (3 FT Pack of 1, Grey)                                      | Computers&Accessories|Accessories&Peripherals|Cables&Accessories|Cables|USBCables | ₹399               | ₹1,099         | 64%                   | 4.2      | 24,269         | High Compatibility : Compatible With iPhone 12, 11, X/XsMax/Xr ,iPhone 8/8 Plus,iPhone 7/7 Plus,iPhone 6s/6s Plus,iPhone 6/6 Plus,iPhone 5/5s/5c/se,iPad Pro,iPad Air 1/2,iPad mini 1/2/3,iPod nano7,iPod touch and more apple devices.|Fast Charge&Data Sync : It can charge and sync simultaneously at a rapid speed, Compatible with any charging adaptor, multi-port charging station or power bank.|Durability : Durable nylon braided design with premium aluminum housing and toughened nylon fiber wound tightly around the cord lending it superior durability and adding a bit to its flexibility.|High Security Level : It is designed to fully protect your device from damaging excessive current.Copper core thick+Multilayer shielding, Anti-interference, Protective circuit equipment.|WARRANTY: 12 months warranty and friendly customer services, ensures the long-time enjoyment of your purchase. If you meet any question or problem, please don't hesitate to contact us.                                                                                                                                              | AG3D6O4STAQKAY2UVGEUV46KN35Q,AHMY5CWJMMK5BJRBBSNLYT3ONILA,AHCTC6ULH4XB6YHDY6PCH2R772LQ,AGYHHIERNXKA6P5T7CZLXKVPT7IQ,AG4OGOFWXJZTQ2HKYIOCOY3KXF2Q,AENGU523SXMOS7JPDTW52PNNVWGQ,AEQJHCVTNINBS4FKTBGQRQTGTE5Q,AFC3FFC5PKFF5PMA52S3VCHOZ5FQ | Manav,Adarsh gupta,Sundeep,S.Sayeed Ahmed,jaspreet singh,Khaja moin,Anand,S.ARUMUGAM      | R3HXWT0LRP0NMF,R2AJM3LFTLZHFO,R6AQJGUP6P86,R1KD19VHEDV0OR,R3C02RMYQMK6FC,R39GQRVBUZBWGY,R2K9EDOE15QIRJ,R3OI7YT648TL8I  | Satisfied,Charging is really fast,Value for money,Product review,Good quality,Good product,Good Product,As of now seems good                                                          | Looks durable Charging is fine tooNo complains,Charging is really fast, good product.,Till now satisfied with the quality.,This is a good product . The charging speed is slower than the original iPhone cable,Good quality, would recommend,https://m.media-amazon.com/images/W/WEBP_402378-T1/images/I/81---F1ZgHL._SY88.jpg,Product had worked well till date and was having no issue.Cable is also sturdy enough...Have asked for replacement and company is doing the same...,Value for money                                                                                                                                                                                                                                                                                                                                                                                                                                                                                                                                                                                                                                                                                                                                                                                                                                                                                                                                                                                                                                                                                                                                                                                                                                                                                                                                                                                                                                                                                                                                                                                                                                                                                                                                                                                                                                                                                                                                                                                                                                                 | https://m.media-amazon.com/images/W/WEBP_402378-T1/images/I/51UsScvHQNL._SX300_SY300_QL70_FMwebp_.jpg | https://www.amazon.in/Wayona-Braided-WN3LG1-Syncing-Charging/dp/B07JW9H4J1/ref=sr_1_1?qid=1672909124&s=electronics&sr=1-1        |\n",
            "| B098NS6PVG   | Ambrane Unbreakable 60W / 3A Fast Charging 1.5m Braided Type C Cable for Smartphones, Tablets, Laptops & other Type C devices, PD Technology, 480Mbps Data Sync, Quick Charge 3.0 (RCT15A, Black)       | Computers&Accessories|Accessories&Peripherals|Cables&Accessories|Cables|USBCables | ₹199               | ₹349           | 43%                   | 4        | 43,994         | Compatible with all Type C enabled devices, be it an android smartphone (Mi, Samsung, Oppo, Vivo, Realme, OnePlus, etc), tablet, laptop (Macbook, Chromebook, etc)|Supports Quick Charging (2.0/3.0)|Unbreakable – Made of special braided outer with rugged interior bindings, it is ultra-durable cable that won’t be affected by daily rough usage|Ideal Length – It has ideal length of 1.5 meters which is neither too short like your typical 1meter cable or too long like a 2meters cable|Supports maximum 3A fast charging and 480 Mbps data transfer speed|6 months manufacturer warranty from the date of purchase                                                                                                                                                                                                                                                                                                                                                                                                                                                                                                                 | AECPFYFQVRUWC3KGNLJIOREFP5LQ,AGYYVPDD7YG7FYNBXNGXZJT525AQ,AHONIZU3ICIEHQIGQ6R2VFRSBXOQ,AFPHD2CRPDZMWMBL7WXRSVYWS5JA,AEZ346GX3HJ4O4XNRPHCNHXQURMQ,AEPSWFPNECKO34PUC7I56ITGXR6Q,AHWVEHR5DYLVFTO2KF3IZATFQSWQ,AH4QT33M55677I7ISQOAKEQWACYQ | ArdKn,Nirbhay kumar,Sagar Viswanathan,Asp,Placeholder,BharanI,sonia,Niam                  | RGIQEG07R9HS2,R1SMWZQ86XIN8U,R2J3Y1WL29GWDE,RYGGS0M09S3KY,R17KQRUTAN5DKS,R3AAQGS6HP2QUK,R1HDNOG6TO2CCA,R3PHKXYA5AFEOU  | A Good Braided Cable for Your Type C Device,Good quality product from ambrane,Super cable,As,Good quality,Good product,its good,Good quality for the price but one issue with my unit | I ordered this cable to connect my phone to Android Auto of car. The cable is really strong and the connection ports are really well made. I already has a Micro USB cable from Ambrane and it's still in good shape. I connected my phone to the car using the cable and it got connected well and no issues. I also connected it to the charging port and yes it has Fast Charging support.,It quality is good at this price and the main thing is that i didn't ever thought that this cable will be so long it's good one and charging power is too good and also supports fast charging,Value for money, with extra length👍,Good, working fine,Product quality is good,Good,very good,Bought for my daughter's old phone.Brand new cable it was not charging, I already repacked and requested for replacement.I checked again, and there was some green colour paste/fungus inside the micro USB connector. I cleaned with an alcoholic and starts working again.Checked the ampere of charging speed got around 1400ma-1500ma - not bad, came with braided 1.5m long cable, pretty impressive for the price.Can't blame the manufacturer.But quality issues by the distributor, they might have stored in very humid place.                                                                                                                                                                                                                                                                                                                                                                                                                                                                                                                                                                                                                                                                                                                                                                                                                                                                                                                                                                                                                                                                                                                                                                                                                                                                                                                 | https://m.media-amazon.com/images/W/WEBP_402378-T2/images/I/31zOsqQOAOL._SY445_SX342_QL70_FMwebp_.jpg | https://www.amazon.in/Ambrane-Unbreakable-Charging-Braided-Cable/dp/B098NS6PVG/ref=sr_1_2?qid=1672909124&s=electronics&sr=1-2    |\n",
            "| B096MSW6CT   | Sounce Fast Phone Charging Cable & Data Sync USB Cable Compatible for iPhone 13, 12,11, X, 8, 7, 6, 5, iPad Air, Pro, Mini & iOS Devices                                                                | Computers&Accessories|Accessories&Peripherals|Cables&Accessories|Cables|USBCables | ₹199               | ₹1,899         | 90%                   | 3.9      | 7,928          | 【 Fast Charger& Data Sync】-With built-in safety proctections and four-core copper wires promote maximum signal quality and strength and enhance charging & data transfer speed with up to 480 mb/s transferring speed.|【 Compatibility】-Compatible with iPhone 13, 12,11, X, 8, 7, 6, 5, iPad Air, Pro, Mini & iOS devices.|【 Sturdy & Durable】-The jacket and enforced connector made of TPE and premium copper, are resistant to repeatedly bending and coiling.|【 Ultra High Quality】: According to the experimental results, the fishbone design can accept at least 20,000 bending and insertion tests for extra protection and durability. Upgraded 3D aluminum connector and exclusive laser welding technology, which to ensure the metal part won't break and also have a tighter connection which fits well even with a protective case on and will never loose connection.|【 Good After Sales Service】-Our friendly and reliable customer service will respond to you within 24 hours ! you can purchase with confidence,and every sale includes a 365-day worry-free Service to prove the importance we set on quality. | AGU3BBQ2V2DDAMOAKGFAWDDQ6QHA,AESFLDV2PT363T2AQLWQOWZ4N3OA,AHTPQRIMGUD4BYR5YIHBH3CCGEFQ,AEUVWXYP5LT7PZLLZENEO2NODPBQ,AHC7MPW55DOO6WNCOQVA2VHOD26A,AFDI6FRPFBTNBG7BAEB7JDJSMKDQ,AFQKCEEEKXCOHTDG4WUN3XPPHJQQ,AHKUUFNMBZIDLSSPA4FEHIO2EC7Q | Kunal,Himanshu,viswanath,sai niharka,saqib malik,Aashiq,Ramu Challa,Sanjay gupta          | R3J3EQQ9TZI5ZJ,R3E7WBGK7ID0KV,RWU79XKQ6I1QF,R25X4TBMPY91LX,R27OK7G99VK0TR,R207CYDCHJJTCJ,R3PCU8XMU173BT,R1IMONDOWRNU5V | Good speed for earlier versions,Good Product,Working good,Good for the price,Good,Worth for money,Working nice,it's a really nice product                                             | Not quite durable and sturdy,https://m.media-amazon.com/images/W/WEBP_402378-T1/images/I/71rIggrbUCL._SY88.jpg,Working good,https://m.media-amazon.com/images/W/WEBP_402378-T1/images/I/61bKp9YO6wL._SY88.jpg,Product,Very nice product,Working well,It's a really nice product                                                                                                                                                                                                                                                                                                                                                                                                                                                                                                                                                                                                                                                                                                                                                                                                                                                                                                                                                                                                                                                                                                                                                                                                                                                                                                                                                                                                                                                                                                                                                                                                                                                                                                                                                                                                                                                                                                                                                                                                                                                                                                                                                                                                                                                                     | https://m.media-amazon.com/images/W/WEBP_402378-T1/images/I/31IvNJZnmdL._SY445_SX342_QL70_FMwebp_.jpg | https://www.amazon.in/Sounce-iPhone-Charging-Compatible-Devices/dp/B096MSW6CT/ref=sr_1_3?qid=1672909124&s=electronics&sr=1-3     |\n",
            "| B08HDJ86NZ   | boAt Deuce USB 300 2 in 1 Type-C & Micro USB Stress Resistant, Tangle-Free, Sturdy Cable with 3A Fast Charging & 480mbps Data Transmission, 10000+ Bends Lifespan and Extended 1.5m Length(Martian Red) | Computers&Accessories|Accessories&Peripherals|Cables&Accessories|Cables|USBCables | ₹329               | ₹699           | 53%                   | 4.2      | 94,363         | The boAt Deuce USB 300 2 in 1 cable is compatible with smartphones, tablets, PC peripherals, Bluetooth speakers, power banks and all other devices with Type-C as well as Micro USB port|It ensures 3A fast charging and data transmissions with rapid sync at 480 mbps|The premium Nylon braided skin makes it sturdy and invincible against external damage|Its Aluminium alloy shell housing makes it last longer with 10000+ Bends Lifespan with extended frame protection for strain relief|The resilient and flexible design offers a tangle free experience seamlessly|Deuce USB 300 cable offers a perfect 1.5 meters in length for smooth & hassle-free user experience|2 years warranty from the date of purchase                                                                                                                                                                                                                                                                                                                                                                                                                   | AEWAZDZZJLQUYVOVGBEUKSLXHQ5A,AG5HTSFRRE6NL3M5SGCUQBP7YSCA,AH725ST5NW2Y4JZPKUNTIJCUK2BA,AHV3TXIFCJPMS4D5JATCEUR266MQ,AGWIGDEMFIIUAOXYY2QATNBSUGHA,AFSTSLQUV4EVEXWKBOLEFHL2H5YQ,AGAKDNBHY2FKX7I4ACRGILU7QL7A,AFNWJUWJRHCC6HN52KMG5AKZY37Q | Omkar dhale,JD,HEMALATHA,Ajwadh a.,amar singh chouhan,Ravi Siddan,Himanshu Goel,Udaykumar | R3EEUZKKK9J36I,R3HJVYCLYOY554,REDECAZ7AMPQC,R1CLH2ULIVG5U3,R2DMKIBGFKBD6R,RC89B5IAJUTR5,R3B3DDON5FH8DS,R13WAEJDI5RS36  | Good product,Good one,Nice,Really nice product,Very first time change,Good,Fine product but could be better,Very nice it's charging like jet                                          | Good product,long wire,Charges good,Nice,I bought this cable for Rs.339 worthy product for this price, i tested it in various charger adapters 33w and 18w it supports fast charging as well.,Good,Ok,I had got this at good price on sale on Amazon and product is useful with warranty but for warranty you need to go very far not practical for such a cost and mine micro to type c connector stopped working after few days only.,I like this product                                                                                                                                                                                                                                                                                                                                                                                                                                                                                                                                                                                                                                                                                                                                                                                                                                                                                                                                                                                                                                                                                                                                                                                                                                                                                                                                                                                                                                                                                                                                                                                                                                                                                                                                                                                                                                                                                                                                                                                                                                                                                         | https://m.media-amazon.com/images/I/41V5FtEWPkL._SX300_SY300_QL70_FMwebp_.jpg                         | https://www.amazon.in/Deuce-300-Resistant-Tangle-Free-Transmission/dp/B08HDJ86NZ/ref=sr_1_4?qid=1672909124&s=electronics&sr=1-4  |\n",
            "| B08CF3B7N1   | Portronics Konnect L 1.2M Fast Charging 3A 8 Pin USB Cable with Charge & Sync Function for iPhone, iPad (Grey)                                                                                          | Computers&Accessories|Accessories&Peripherals|Cables&Accessories|Cables|USBCables | ₹154               | ₹399           | 61%                   | 4.2      | 16,905         | [CHARGE & SYNC FUNCTION]- This cable comes with charging & Data sync function|[HIGH QUALITY MATERIAL]- TPE + Nylon Material to make sure that the life of the cable is enhanced significantly|[LONG CORD]- The Cable is extra thick 1.2 meter long, optimized for an easy use for your comfort at home or office|[MORE DURABLE]-This cable is unique interms of design and multi-use and is positioned to provide the best comfort and performance while using|[UNIVERSAL COMPATIBILITY]- Compatible with all devices like iPhone XS, X, XR, 8, 7, 6S, 6, 5S, iPad Pro, iPad mini and iPad Air                                                                                                                                                                                                                                                                                                                                                                                                                                                                                                                                                | AE3Q6KSUK5P75D5HFYHCRAOLODSA,AFUGIFH5ZAFXRDSZHM4QB2KPKFUQ,AFK4NJOLFSJGWLOJIUIAROJF6YVA,AFUOTYRFUXVPEBGIXVZZ7DR3CZUA,AFDLRSXKDZ6U3U3KD46SQLFGZQRA,AH5VLM66SIK7J3IRG4NY7XVOQ55A,AE3MQNNHHLUHXURL5S7IAR7JTGNQ,AFSEOFZY67MYC7UAJU264Z5NFTLA | rahuls6099,Swasat Borah,Ajay Wadke,Pranali,RVK,Bhargav,Durai Vignesh,Amazon Customer      | R1BP4L2HH9TFUP,R16PVJEXKV6QZS,R2UPDB81N66T4P,R3KK4GT934ST3I,RCFHMWUSBIJO,RDO7DACXMAJ84,R3A6MEZL3LY66Z,R1ESIEKPGAYA29   | As good as original,Decent,Good one for secondary use,Best quality,GOOD,Amazing product at a mind blowing price!,Nice Quality,Good product                                            | Bought this instead of original apple, does the work for 150rs, not as fast as apple charger but its a good option if you want cheap and good product, bought it for iPad pro 10.5 and it's working flawlessly, build quality is ok, its not like i am gonna hang my clothes on it and i want a very strong cable, even a braided cable stop working after a year, i have used both Anker and Apple store strong braided cable they all stop working after a year so please don't buy high end cables just for that instead choose a this one and even if it's stops working withing a year you only loose 150rs compares to 2000rs.UPDATE------------------------------------pin has stopped charging from one side, now i have to slip the pin to charge from other side, but i will update and let know for how long does it work,,It’s good. Not sure about durability as the pin area feels a bit fragile,Does not support apple carplaySo was little disappointed about thatOther than that cable is made up of very good quality,Best to buy,100% NOT FATHFUL,Writing this review post 10 months and 3 orders of the same product.Honestly Portronics Konnect L lightning cable works like magic with the original Apple charging brick.Seeing the price of the cable I initially hesitated buying as it was as low as ₹99/- with the offers and so I wasn’t sure if it would work well with my iPhone 12 or whether it would impact my iPhone’s battery health because all the other lightning cable brands were costing over ₹350/- like Wayona, Amazon Basics, etc.Earlier I was using Wayona Brand lightning cable with eventually frayed and stopped working.Charging Speed:Charges my iPhone fast enough almost similar compared to the original cable level when used with 12W Original Apple power adapter.Quality and Durability:Great quality braided cable and doesn’t tangle easily and can withstand day-to-day usage.L-Shaped pin:This is very innovative by Portronics and it makes sure the cable doesn’t get damaged even if used while charging.CarPlay and Data Sync:Works smoothly with CarPlay and syncs data effortlessly.PS: I have used this cable only with the Original Apple Charging Brick and extremely satisfied with its performance.,Better than I expect the product I like that Quality and I plan to buy same type cable come with usb C to Lighting cable for emergency purpose that much I love this cable. Buy for this cable only emergency uses only since Good one,Good product and value for money | https://m.media-amazon.com/images/W/WEBP_402378-T2/images/I/31VzNhhqifL._SX300_SY300_QL70_FMwebp_.jpg | https://www.amazon.in/Portronics-Konnect-POR-1080-Charging-Function/dp/B08CF3B7N1/ref=sr_1_5?qid=1672909124&s=electronics&sr=1-5 |\n",
            "<class 'pandas.core.frame.DataFrame'>\n",
            "RangeIndex: 1465 entries, 0 to 1464\n",
            "Data columns (total 16 columns):\n",
            " #   Column               Non-Null Count  Dtype \n",
            "---  ------               --------------  ----- \n",
            " 0   product_id           1465 non-null   object\n",
            " 1   product_name         1465 non-null   object\n",
            " 2   category             1465 non-null   object\n",
            " 3   discounted_price     1465 non-null   object\n",
            " 4   actual_price         1465 non-null   object\n",
            " 5   discount_percentage  1465 non-null   object\n",
            " 6   rating               1465 non-null   object\n",
            " 7   rating_count         1463 non-null   object\n",
            " 8   about_product        1465 non-null   object\n",
            " 9   user_id              1465 non-null   object\n",
            " 10  user_name            1465 non-null   object\n",
            " 11  review_id            1465 non-null   object\n",
            " 12  review_title         1465 non-null   object\n",
            " 13  review_content       1465 non-null   object\n",
            " 14  img_link             1465 non-null   object\n",
            " 15  product_link         1465 non-null   object\n",
            "dtypes: object(16)\n",
            "memory usage: 183.2+ KB\n",
            "None\n",
            "['Computers&Accessories|Accessories&Peripherals|Cables&Accessories|Cables|USBCables', 'Electronics|WearableTechnology|SmartWatches', 'Electronics|Mobiles&Accessories|Smartphones&BasicMobiles|Smartphones', 'Electronics|HomeTheater,TV&Video|Televisions|SmartTelevisions', 'Electronics|Headphones,Earbuds&Accessories|Headphones|In-Ear', 'Electronics|HomeTheater,TV&Video|Accessories|RemoteControls', 'Home&Kitchen|Kitchen&HomeAppliances|SmallKitchenAppliances|MixerGrinders', 'Electronics|HomeTheater,TV&Video|Accessories|Cables|HDMICables', 'Home&Kitchen|Kitchen&HomeAppliances|Vacuum,Cleaning&Ironing|Irons,Steamers&Accessories|Irons|DryIrons', 'Computers&Accessories|Accessories&Peripherals|Keyboards,Mice&InputDevices|Mice', 'Home&Kitchen|Heating,Cooling&AirQuality|WaterHeaters&Geysers|InstantWaterHeaters', 'Home&Kitchen|Kitchen&HomeAppliances|Vacuum,Cleaning&Ironing|Irons,Steamers&Accessories|LintShavers', 'Home&Kitchen|Heating,Cooling&AirQuality|RoomHeaters|FanHeaters', 'Home&Kitchen|Heating,Cooling&AirQuality|RoomHeaters|ElectricHeaters', 'Home&Kitchen|Kitchen&HomeAppliances|SmallKitchenAppliances|HandBlenders', 'Home&Kitchen|Kitchen&HomeAppliances|SmallKitchenAppliances|Kettles&HotWaterDispensers|ElectricKettles', 'Computers&Accessories|NetworkingDevices|NetworkAdapters|WirelessUSBAdapters', 'Electronics|Mobiles&Accessories|MobileAccessories|Chargers|WallChargers', 'Computers&Accessories|Accessories&Peripherals|LaptopAccessories|Lapdesks', 'Home&Kitchen|HomeStorage&Organization|LaundryOrganization|LaundryBaskets', 'Home&Kitchen|Kitchen&HomeAppliances|SmallKitchenAppliances|Kettles&HotWaterDispensers|Kettle&ToasterSets', 'Electronics|Accessories|MemoryCards|MicroSD', 'Electronics|Mobiles&Accessories|MobileAccessories|Chargers|PowerBanks', 'Home&Kitchen|Heating,Cooling&AirQuality|WaterHeaters&Geysers|StorageWaterHeaters', 'Home&Kitchen|Kitchen&HomeAppliances|Vacuum,Cleaning&Ironing|Irons,Steamers&Accessories|Irons|SteamIrons', 'Home&Kitchen|Kitchen&HomeAppliances|WaterPurifiers&Accessories|WaterFilters&Purifiers', 'Home&Kitchen|Kitchen&HomeAppliances|SmallKitchenAppliances|JuicerMixerGrinders', 'Computers&Accessories|Accessories&Peripherals|Keyboards,Mice&InputDevices|GraphicTablets', 'Home&Kitchen|Kitchen&HomeAppliances|SmallKitchenAppliances|SandwichMakers', 'Home&Kitchen|Kitchen&HomeAppliances|SmallKitchenAppliances|EggBoilers', 'Home&Kitchen|Heating,Cooling&AirQuality|Fans|CeilingFans', 'Home&Kitchen|Kitchen&HomeAppliances|WaterPurifiers&Accessories|WaterPurifierAccessories', 'Computers&Accessories|ExternalDevices&DataStorage|PenDrives', 'Computers&Accessories|Accessories&Peripherals|Keyboards,Mice&InputDevices|Keyboard&MouseSets', 'Electronics|Mobiles&Accessories|MobileAccessories|Stands', 'Home&Kitchen|Kitchen&HomeAppliances|SmallKitchenAppliances|InductionCooktop', 'Home&Kitchen|Kitchen&HomeAppliances|SmallKitchenAppliances|DigitalKitchenScales', 'Electronics|Mobiles&Accessories|Smartphones&BasicMobiles|BasicMobiles', 'Computers&Accessories|NetworkingDevices|Routers', 'Home&Kitchen|Heating,Cooling&AirQuality|WaterHeaters&Geysers|ImmersionRods', 'Electronics|Mobiles&Accessories|MobileAccessories|StylusPens', 'Home&Kitchen|Kitchen&HomeAppliances|Vacuum,Cleaning&Ironing|Vacuums&FloorCare|Vacuums|HandheldVacuums', 'Electronics|Headphones,Earbuds&Accessories|Headphones|On-Ear', 'Computers&Accessories|Accessories&Peripherals|Keyboards,Mice&InputDevices|Keyboard&MiceAccessories|MousePads', 'Home&Kitchen|Kitchen&HomeAppliances|SmallKitchenAppliances|MiniFoodProcessors&Choppers', 'Home&Kitchen|Kitchen&HomeAppliances|SmallKitchenAppliances|VacuumSealers', 'Electronics|Mobiles&Accessories|MobileAccessories|Maintenance,Upkeep&Repairs|ScreenProtectors', 'OfficeProducts|OfficePaperProducts|Paper|Stationery|Notebooks,WritingPads&Diaries|CompositionNotebooks', 'Electronics|GeneralPurposeBatteries&BatteryChargers|DisposableBatteries', 'Computers&Accessories|Accessories&Peripherals|PCGamingPeripherals|GamingMice']\n",
            "| product_id   | product_name                                                                                                                                                                                            | category                                                                          | discounted_price   | actual_price   | discount_percentage   | rating   | rating_count   | about_product                                                                                                                                                                                                                                                                                                                                                                                                                                                                                                                                                                                                                                                                                                                                                                                                                                                                                                                                                                                    | user_id                                                                                                                                                                                                                                 | user_name                                                                                                | review_id                                                                                                               | review_title                                                                                                                                                                                                                                                                            | review_content                                                                                                                                                                                                                                                                                                                                                                                                                                                                                                                                                                                                                                                                                                                                                                                                                                                                                                                                                                                                                                                                                                                                                                                                                                                                                                                                                                                                                                                                                                                                                                                                                                                                                                                                                                                                                                                                                                                                                                                                                                                                                                                                                                                                                                                                                                                                                                                                                                                                                                                                                                                                                                                                                                                                                                                                                                                                                                                                                                                                                                                                                                                                                                                                                                                                                                                                                                                                                                                                                                                                                                                                                                                                                                                                                                                                                                                                                                                                                                                                                                                                                                                                        | img_link                                                                                              | product_link                                                                                                                        |\n",
            "|:-------------|:--------------------------------------------------------------------------------------------------------------------------------------------------------------------------------------------------------|:----------------------------------------------------------------------------------|:-------------------|:---------------|:----------------------|:---------|:---------------|:-------------------------------------------------------------------------------------------------------------------------------------------------------------------------------------------------------------------------------------------------------------------------------------------------------------------------------------------------------------------------------------------------------------------------------------------------------------------------------------------------------------------------------------------------------------------------------------------------------------------------------------------------------------------------------------------------------------------------------------------------------------------------------------------------------------------------------------------------------------------------------------------------------------------------------------------------------------------------------------------------|:----------------------------------------------------------------------------------------------------------------------------------------------------------------------------------------------------------------------------------------|:---------------------------------------------------------------------------------------------------------|:------------------------------------------------------------------------------------------------------------------------|:----------------------------------------------------------------------------------------------------------------------------------------------------------------------------------------------------------------------------------------------------------------------------------------|:------------------------------------------------------------------------------------------------------------------------------------------------------------------------------------------------------------------------------------------------------------------------------------------------------------------------------------------------------------------------------------------------------------------------------------------------------------------------------------------------------------------------------------------------------------------------------------------------------------------------------------------------------------------------------------------------------------------------------------------------------------------------------------------------------------------------------------------------------------------------------------------------------------------------------------------------------------------------------------------------------------------------------------------------------------------------------------------------------------------------------------------------------------------------------------------------------------------------------------------------------------------------------------------------------------------------------------------------------------------------------------------------------------------------------------------------------------------------------------------------------------------------------------------------------------------------------------------------------------------------------------------------------------------------------------------------------------------------------------------------------------------------------------------------------------------------------------------------------------------------------------------------------------------------------------------------------------------------------------------------------------------------------------------------------------------------------------------------------------------------------------------------------------------------------------------------------------------------------------------------------------------------------------------------------------------------------------------------------------------------------------------------------------------------------------------------------------------------------------------------------------------------------------------------------------------------------------------------------------------------------------------------------------------------------------------------------------------------------------------------------------------------------------------------------------------------------------------------------------------------------------------------------------------------------------------------------------------------------------------------------------------------------------------------------------------------------------------------------------------------------------------------------------------------------------------------------------------------------------------------------------------------------------------------------------------------------------------------------------------------------------------------------------------------------------------------------------------------------------------------------------------------------------------------------------------------------------------------------------------------------------------------------------------------------------------------------------------------------------------------------------------------------------------------------------------------------------------------------------------------------------------------------------------------------------------------------------------------------------------------------------------------------------------------------------------------------------------------------------------------------------------------------|:------------------------------------------------------------------------------------------------------|:------------------------------------------------------------------------------------------------------------------------------------|\n",
            "| B07JW9H4J1   | Wayona Nylon Braided USB to Lightning Fast Charging and Data Sync Cable Compatible for iPhone 13, 12,11, X, 8, 7, 6, 5, iPad Air, Pro, Mini (3 FT Pack of 1, Grey)                                      | Computers&Accessories|Accessories&Peripherals|Cables&Accessories|Cables|USBCables | ₹399               | ₹1,099         | 64%                   | 4.2      | 24,269         | High Compatibility : Compatible With iPhone 12, 11, X/XsMax/Xr ,iPhone 8/8 Plus,iPhone 7/7 Plus,iPhone 6s/6s Plus,iPhone 6/6 Plus,iPhone 5/5s/5c/se,iPad Pro,iPad Air 1/2,iPad mini 1/2/3,iPod nano7,iPod touch and more apple devices.|Fast Charge&Data Sync : It can charge and sync simultaneously at a rapid speed, Compatible with any charging adaptor, multi-port charging station or power bank.|Durability : Durable nylon braided design with premium aluminum housing and toughened nylon fiber wound tightly around the cord lending it superior durability and adding a bit to its flexibility.|High Security Level : It is designed to fully protect your device from damaging excessive current.Copper core thick+Multilayer shielding, Anti-interference, Protective circuit equipment.|WARRANTY: 12 months warranty and friendly customer services, ensures the long-time enjoyment of your purchase. If you meet any question or problem, please don't hesitate to contact us. | AG3D6O4STAQKAY2UVGEUV46KN35Q,AHMY5CWJMMK5BJRBBSNLYT3ONILA,AHCTC6ULH4XB6YHDY6PCH2R772LQ,AGYHHIERNXKA6P5T7CZLXKVPT7IQ,AG4OGOFWXJZTQ2HKYIOCOY3KXF2Q,AENGU523SXMOS7JPDTW52PNNVWGQ,AEQJHCVTNINBS4FKTBGQRQTGTE5Q,AFC3FFC5PKFF5PMA52S3VCHOZ5FQ | Manav,Adarsh gupta,Sundeep,S.Sayeed Ahmed,jaspreet singh,Khaja moin,Anand,S.ARUMUGAM                     | R3HXWT0LRP0NMF,R2AJM3LFTLZHFO,R6AQJGUP6P86,R1KD19VHEDV0OR,R3C02RMYQMK6FC,R39GQRVBUZBWGY,R2K9EDOE15QIRJ,R3OI7YT648TL8I   | Satisfied,Charging is really fast,Value for money,Product review,Good quality,Good product,Good Product,As of now seems good                                                                                                                                                            | Looks durable Charging is fine tooNo complains,Charging is really fast, good product.,Till now satisfied with the quality.,This is a good product . The charging speed is slower than the original iPhone cable,Good quality, would recommend,https://m.media-amazon.com/images/W/WEBP_402378-T1/images/I/81---F1ZgHL._SY88.jpg,Product had worked well till date and was having no issue.Cable is also sturdy enough...Have asked for replacement and company is doing the same...,Value for money                                                                                                                                                                                                                                                                                                                                                                                                                                                                                                                                                                                                                                                                                                                                                                                                                                                                                                                                                                                                                                                                                                                                                                                                                                                                                                                                                                                                                                                                                                                                                                                                                                                                                                                                                                                                                                                                                                                                                                                                                                                                                                                                                                                                                                                                                                                                                                                                                                                                                                                                                                                                                                                                                                                                                                                                                                                                                                                                                                                                                                                                                                                                                                                                                                                                                                                                                                                                                                                                                                                                                                                                                                                   | https://m.media-amazon.com/images/W/WEBP_402378-T1/images/I/51UsScvHQNL._SX300_SY300_QL70_FMwebp_.jpg | https://www.amazon.in/Wayona-Braided-WN3LG1-Syncing-Charging/dp/B07JW9H4J1/ref=sr_1_1?qid=1672909124&s=electronics&sr=1-1           |\n",
            "| B098NS6PVG   | Ambrane Unbreakable 60W / 3A Fast Charging 1.5m Braided Type C Cable for Smartphones, Tablets, Laptops & other Type C devices, PD Technology, 480Mbps Data Sync, Quick Charge 3.0 (RCT15A, Black)       | Computers&Accessories|Accessories&Peripherals|Cables&Accessories|Cables|USBCables | ₹199               | ₹349           | 43%                   | 4        | 43,994         | Compatible with all Type C enabled devices, be it an android smartphone (Mi, Samsung, Oppo, Vivo, Realme, OnePlus, etc), tablet, laptop (Macbook, Chromebook, etc)|Supports Quick Charging (2.0/3.0)|Unbreakable – Made of special braided outer with rugged interior bindings, it is ultra-durable cable that won’t be affected by daily rough usage|Ideal Length – It has ideal length of 1.5 meters which is neither too short like your typical 1meter cable or too long like a 2meters cable|Supports maximum 3A fast charging and 480 Mbps data transfer speed|6 months manufacturer warranty from the date of purchase                                                                                                                                                                                                                                                                                                                                                                    | AECPFYFQVRUWC3KGNLJIOREFP5LQ,AGYYVPDD7YG7FYNBXNGXZJT525AQ,AHONIZU3ICIEHQIGQ6R2VFRSBXOQ,AFPHD2CRPDZMWMBL7WXRSVYWS5JA,AEZ346GX3HJ4O4XNRPHCNHXQURMQ,AEPSWFPNECKO34PUC7I56ITGXR6Q,AHWVEHR5DYLVFTO2KF3IZATFQSWQ,AH4QT33M55677I7ISQOAKEQWACYQ | ArdKn,Nirbhay kumar,Sagar Viswanathan,Asp,Placeholder,BharanI,sonia,Niam                                 | RGIQEG07R9HS2,R1SMWZQ86XIN8U,R2J3Y1WL29GWDE,RYGGS0M09S3KY,R17KQRUTAN5DKS,R3AAQGS6HP2QUK,R1HDNOG6TO2CCA,R3PHKXYA5AFEOU   | A Good Braided Cable for Your Type C Device,Good quality product from ambrane,Super cable,As,Good quality,Good product,its good,Good quality for the price but one issue with my unit                                                                                                   | I ordered this cable to connect my phone to Android Auto of car. The cable is really strong and the connection ports are really well made. I already has a Micro USB cable from Ambrane and it's still in good shape. I connected my phone to the car using the cable and it got connected well and no issues. I also connected it to the charging port and yes it has Fast Charging support.,It quality is good at this price and the main thing is that i didn't ever thought that this cable will be so long it's good one and charging power is too good and also supports fast charging,Value for money, with extra length👍,Good, working fine,Product quality is good,Good,very good,Bought for my daughter's old phone.Brand new cable it was not charging, I already repacked and requested for replacement.I checked again, and there was some green colour paste/fungus inside the micro USB connector. I cleaned with an alcoholic and starts working again.Checked the ampere of charging speed got around 1400ma-1500ma - not bad, came with braided 1.5m long cable, pretty impressive for the price.Can't blame the manufacturer.But quality issues by the distributor, they might have stored in very humid place.                                                                                                                                                                                                                                                                                                                                                                                                                                                                                                                                                                                                                                                                                                                                                                                                                                                                                                                                                                                                                                                                                                                                                                                                                                                                                                                                                                                                                                                                                                                                                                                                                                                                                                                                                                                                                                                                                                                                                                                                                                                                                                                                                                                                                                                                                                                                                                                                                                                                                                                                                                                                                                                                                                                                                                                                                                                                                                                   | https://m.media-amazon.com/images/W/WEBP_402378-T2/images/I/31zOsqQOAOL._SY445_SX342_QL70_FMwebp_.jpg | https://www.amazon.in/Ambrane-Unbreakable-Charging-Braided-Cable/dp/B098NS6PVG/ref=sr_1_2?qid=1672909124&s=electronics&sr=1-2       |\n",
            "| B08HDJ86NZ   | boAt Deuce USB 300 2 in 1 Type-C & Micro USB Stress Resistant, Tangle-Free, Sturdy Cable with 3A Fast Charging & 480mbps Data Transmission, 10000+ Bends Lifespan and Extended 1.5m Length(Martian Red) | Computers&Accessories|Accessories&Peripherals|Cables&Accessories|Cables|USBCables | ₹329               | ₹699           | 53%                   | 4.2      | 94,363         | The boAt Deuce USB 300 2 in 1 cable is compatible with smartphones, tablets, PC peripherals, Bluetooth speakers, power banks and all other devices with Type-C as well as Micro USB port|It ensures 3A fast charging and data transmissions with rapid sync at 480 mbps|The premium Nylon braided skin makes it sturdy and invincible against external damage|Its Aluminium alloy shell housing makes it last longer with 10000+ Bends Lifespan with extended frame protection for strain relief|The resilient and flexible design offers a tangle free experience seamlessly|Deuce USB 300 cable offers a perfect 1.5 meters in length for smooth & hassle-free user experience|2 years warranty from the date of purchase                                                                                                                                                                                                                                                                      | AEWAZDZZJLQUYVOVGBEUKSLXHQ5A,AG5HTSFRRE6NL3M5SGCUQBP7YSCA,AH725ST5NW2Y4JZPKUNTIJCUK2BA,AHV3TXIFCJPMS4D5JATCEUR266MQ,AGWIGDEMFIIUAOXYY2QATNBSUGHA,AFSTSLQUV4EVEXWKBOLEFHL2H5YQ,AGAKDNBHY2FKX7I4ACRGILU7QL7A,AFNWJUWJRHCC6HN52KMG5AKZY37Q | Omkar dhale,JD,HEMALATHA,Ajwadh a.,amar singh chouhan,Ravi Siddan,Himanshu Goel,Udaykumar                | R3EEUZKKK9J36I,R3HJVYCLYOY554,REDECAZ7AMPQC,R1CLH2ULIVG5U3,R2DMKIBGFKBD6R,RC89B5IAJUTR5,R3B3DDON5FH8DS,R13WAEJDI5RS36   | Good product,Good one,Nice,Really nice product,Very first time change,Good,Fine product but could be better,Very nice it's charging like jet                                                                                                                                            | Good product,long wire,Charges good,Nice,I bought this cable for Rs.339 worthy product for this price, i tested it in various charger adapters 33w and 18w it supports fast charging as well.,Good,Ok,I had got this at good price on sale on Amazon and product is useful with warranty but for warranty you need to go very far not practical for such a cost and mine micro to type c connector stopped working after few days only.,I like this product                                                                                                                                                                                                                                                                                                                                                                                                                                                                                                                                                                                                                                                                                                                                                                                                                                                                                                                                                                                                                                                                                                                                                                                                                                                                                                                                                                                                                                                                                                                                                                                                                                                                                                                                                                                                                                                                                                                                                                                                                                                                                                                                                                                                                                                                                                                                                                                                                                                                                                                                                                                                                                                                                                                                                                                                                                                                                                                                                                                                                                                                                                                                                                                                                                                                                                                                                                                                                                                                                                                                                                                                                                                                                           | https://m.media-amazon.com/images/I/41V5FtEWPkL._SX300_SY300_QL70_FMwebp_.jpg                         | https://www.amazon.in/Deuce-300-Resistant-Tangle-Free-Transmission/dp/B08HDJ86NZ/ref=sr_1_4?qid=1672909124&s=electronics&sr=1-4     |\n",
            "| B08CF3B7N1   | Portronics Konnect L 1.2M Fast Charging 3A 8 Pin USB Cable with Charge & Sync Function for iPhone, iPad (Grey)                                                                                          | Computers&Accessories|Accessories&Peripherals|Cables&Accessories|Cables|USBCables | ₹154               | ₹399           | 61%                   | 4.2      | 16,905         | [CHARGE & SYNC FUNCTION]- This cable comes with charging & Data sync function|[HIGH QUALITY MATERIAL]- TPE + Nylon Material to make sure that the life of the cable is enhanced significantly|[LONG CORD]- The Cable is extra thick 1.2 meter long, optimized for an easy use for your comfort at home or office|[MORE DURABLE]-This cable is unique interms of design and multi-use and is positioned to provide the best comfort and performance while using|[UNIVERSAL COMPATIBILITY]- Compatible with all devices like iPhone XS, X, XR, 8, 7, 6S, 6, 5S, iPad Pro, iPad mini and iPad Air                                                                                                                                                                                                                                                                                                                                                                                                   | AE3Q6KSUK5P75D5HFYHCRAOLODSA,AFUGIFH5ZAFXRDSZHM4QB2KPKFUQ,AFK4NJOLFSJGWLOJIUIAROJF6YVA,AFUOTYRFUXVPEBGIXVZZ7DR3CZUA,AFDLRSXKDZ6U3U3KD46SQLFGZQRA,AH5VLM66SIK7J3IRG4NY7XVOQ55A,AE3MQNNHHLUHXURL5S7IAR7JTGNQ,AFSEOFZY67MYC7UAJU264Z5NFTLA | rahuls6099,Swasat Borah,Ajay Wadke,Pranali,RVK,Bhargav,Durai Vignesh,Amazon Customer                     | R1BP4L2HH9TFUP,R16PVJEXKV6QZS,R2UPDB81N66T4P,R3KK4GT934ST3I,RCFHMWUSBIJO,RDO7DACXMAJ84,R3A6MEZL3LY66Z,R1ESIEKPGAYA29    | As good as original,Decent,Good one for secondary use,Best quality,GOOD,Amazing product at a mind blowing price!,Nice Quality,Good product                                                                                                                                              | Bought this instead of original apple, does the work for 150rs, not as fast as apple charger but its a good option if you want cheap and good product, bought it for iPad pro 10.5 and it's working flawlessly, build quality is ok, its not like i am gonna hang my clothes on it and i want a very strong cable, even a braided cable stop working after a year, i have used both Anker and Apple store strong braided cable they all stop working after a year so please don't buy high end cables just for that instead choose a this one and even if it's stops working withing a year you only loose 150rs compares to 2000rs.UPDATE------------------------------------pin has stopped charging from one side, now i have to slip the pin to charge from other side, but i will update and let know for how long does it work,,It’s good. Not sure about durability as the pin area feels a bit fragile,Does not support apple carplaySo was little disappointed about thatOther than that cable is made up of very good quality,Best to buy,100% NOT FATHFUL,Writing this review post 10 months and 3 orders of the same product.Honestly Portronics Konnect L lightning cable works like magic with the original Apple charging brick.Seeing the price of the cable I initially hesitated buying as it was as low as ₹99/- with the offers and so I wasn’t sure if it would work well with my iPhone 12 or whether it would impact my iPhone’s battery health because all the other lightning cable brands were costing over ₹350/- like Wayona, Amazon Basics, etc.Earlier I was using Wayona Brand lightning cable with eventually frayed and stopped working.Charging Speed:Charges my iPhone fast enough almost similar compared to the original cable level when used with 12W Original Apple power adapter.Quality and Durability:Great quality braided cable and doesn’t tangle easily and can withstand day-to-day usage.L-Shaped pin:This is very innovative by Portronics and it makes sure the cable doesn’t get damaged even if used while charging.CarPlay and Data Sync:Works smoothly with CarPlay and syncs data effortlessly.PS: I have used this cable only with the Original Apple Charging Brick and extremely satisfied with its performance.,Better than I expect the product I like that Quality and I plan to buy same type cable come with usb C to Lighting cable for emergency purpose that much I love this cable. Buy for this cable only emergency uses only since Good one,Good product and value for money                                                                                                                                                                                                                                                                                                                                                                                                                                                                                                                                                                                                                                                                                                                                                                                                                                                                                                                                                                                                                                                                                                                                                                                                                                                                                                                                                                                                                                                                                                                                                                                                   | https://m.media-amazon.com/images/W/WEBP_402378-T2/images/I/31VzNhhqifL._SX300_SY300_QL70_FMwebp_.jpg | https://www.amazon.in/Portronics-Konnect-POR-1080-Charging-Function/dp/B08CF3B7N1/ref=sr_1_5?qid=1672909124&s=electronics&sr=1-5    |\n",
            "| B08WRWPM22   | boAt Micro USB 55 Tangle-free, Sturdy Micro USB Cable with 3A Fast Charging & 480mbps Data Transmission (Black)                                                                                         | Computers&Accessories|Accessories&Peripherals|Cables&Accessories|Cables|USBCables | ₹176.63            | ₹499           | 65%                   | 4.1      | 15,188         | It Ensures High Speed Transmission And Charging By Offering 3A Fast Charging And Data Transmissions With Rapid Sync At 480 Mbps|The Braided Skin Makes It Durable And Invincible Against External Damage So You Can Have An Absolute Hassle-Free & Tangle Free Experience|Its Durable Pvc Housing And The Flexible Design Makes It Last 6 Times Longer Than Other Cables|Usb Cable Offers A Perfect 1.5 Meters In Length For Smooth & Hassle-Free User Experience For Superior Charging & Data Transfer Tasks|The Compact And Smooth Aluminium Connector Fits Most Cases Seamlessly And Resists Corrosion For Signal Purity|Micro Usb 55 Cable Offers Universal Compatibility As It Is Compatible With Most Android Smartphones, Tablets, Pc Peripherals, Bluetooth Speakers, Power Banks, Game Consoles & All Micro-Usb Enabled Devices|2 years warranty from the date of purchase                                                                                                              | AG7C6DAADCTRQJG2BRS3RIKDT52Q,AFU7BOMPVJ7Q3TTA4G67RASTGYIQ,AER5ZGIXXVYG3AWZTRZT7M2BYCEA,AHE76XQSOLGOP5ZEKTIW6KUPDWBQ,AGXTMB2XHZBEWZ2UIX7ODZ4XTU6Q,AHNM2XVU745EDPNGUOAG74PTSNRA,AH5RWQ4S72IVLZD6O75OPCFIVDXQ,AG322TYKVPLPBDXE7ABEUK5QTALQ | Vivek kumar,Amazon Customer,SARTHAK,Chiranjeevi,V V GIRI KUMAR,Rajnandini,Akshay Talla,sudhanshu chaubey | R8E73K2KWJRDS,RSD0JTIIWQQL8,R64CRSTE9SLW1,R2FRTNIIUFJE1F,RWGNX3W7UOJ7W,R32TYHHODHTF5D,RQL9ZMQUTY7P2,R280XJ5VZUBOXV      | Long durable.,good,Does not charge Lenovo m8 tab,Best charging cable,good,Boat,Product was good,1.5 m का केबल मेरे लिए बहुत ही लाभदायक है ।                                                                                                                                                       | Build quality is good and it is comes with 2 year warranty.,Good Product,Bought it for charging my mobile & tab but it doesn't work for Lenovo m8 tab,Guys this cable is is best compare of everyone over heat protection, quickly charging, but chance to shock circuit,good,Nice,Good quality,1.5एम का डाटा केबल मेरे लिए बहुत ही लाभदायक है ।  मैं इस केबल को लाइन में चार्ज करते समय फोन बहुत आराम से उपयोग  कर पा रहा हु । आप इस केबल से 15watt का  चार्जर उसे कर सकते है (इससे जड़ा नही) । लोकल बाजार में इसका दाम 150 है ,  अमेजन पे ये केबल मुझे 67 में मिला । गर्व से कहो हम हिंदू है , जय हिंद जय भारत ,                                                                                                                                                                                                                                                                                                                                                                                                                                                                                                                                                                                                                                                                                                                                                                                                                                                                                                                                                                                                                                                                                                                                                                                                                                                                                                                                                                                                                                                                                                                                                                                                                                                                                                                                                                                                                                                                                                                                                                                                                                                                                                                                                                                                                                                                                                                                                                                                                                                                                                                                                                                                                                                                                                                                                                                                                                                                                                                                                                                                                                                                                                                                                                                                                                                                                                                                                                                                                                                                                                                                                                                                          | https://m.media-amazon.com/images/W/WEBP_402378-T2/images/I/41jlwEZpa5L._SX300_SY300_QL70_FMwebp_.jpg | https://www.amazon.in/boAt-Micro-USB-Tangle-Free-Transmission/dp/B08WRWPM22/ref=sr_1_8?qid=1672909124&s=electronics&sr=1-8          |\n",
            "| B08DDRGWTJ   | MI Usb Type-C Cable Smartphone (Black)                                                                                                                                                                  | Computers&Accessories|Accessories&Peripherals|Cables&Accessories|Cables|USBCables | ₹229               | ₹299           | 23%                   | 4.3      | 30,411         | 1m long Type-C USB Cable|Sturdy and Durable. With USB cable you can transfer data with speeds of upto 480 Mbps|Upto 3A output|6months warranty|Sturdy and Durable. With USB cable you can transfer data with speeds of upto 480 Mbps|6months warranty|Up To 3A Output                                                                                                                                                                                                                                                                                                                                                                                                                                                                                                                                                                                                                                                                                                                            | AHW6E5LQ2BDYOIVLAJGDH45J5V5Q,AF74RSGCHPZITVFSZN76K6GKPICA,AHDD7ZNB47QA2JLYU53HD4ML3VNQ,AHV3ELGDSOWBYUQLXSPDCSHBQRHQ,AEJU4L3ZM2GTILSJZZSNSF6VUOIA,AFVD66VQMSHPDT3A6HBBBGKRXBZA,AELKHQXVSSG6NHXLFJLLNEFRQQUQ,AGYSMAC6V6RFJJOHG2FIRPOZ6CSQ | Pavan A H,Jayesh bagad,Shridhar,rajendran,karuppu k,Akshay wani,Abbimaniu Singh,VISHAL H BADSHE          | R2X090D1YHACKR,R32ZCIH9AFNJ60,R3N57EVVG0EHAF,R3QWLE8JHROKC1,R2VTSDOOUTSQ5X,R3E6FZ75Q074KH,R1SYBQLTPFCW20,RYQT96J8HPIXE  | Worth for money - suitable for Android auto,Good Product,Length,Nice,Original,Very good quay Cable support fast charging.,Original MI cable for charging upto 33 watt,I am veri happy with this product as it provide turbo charging.                                                   | Worth for money - suitable for Android auto... my purpose served in car....got it for Rs.150,Everything is Okay. But packaging is not good feeling like seller gave is used cable.,Good product,Good product but cost is more.,Original cable,I bought this cable at 129. Using this cable for Android auto in my car. Perfectly works without any glitch.,Original MI cable. Will charge upto 33 watts. Got it for Rs 150.  I have 67 watt charger and I want a cable for my car so I went for it. I checked the performance with battery charging app. The charging speed is exactly half of my 67 watt original cable. Go for it.,It provided me turbo charging. I recommend for all Redmi note 10s mobile phones. As it provide turbo charging. I am veri happy with this product.                                                                                                                                                                                                                                                                                                                                                                                                                                                                                                                                                                                                                                                                                                                                                                                                                                                                                                                                                                                                                                                                                                                                                                                                                                                                                                                                                                                                                                                                                                                                                                                                                                                                                                                                                                                                                                                                                                                                                                                                                                                                                                                                                                                                                                                                                                                                                                                                                                                                                                                                                                                                                                                                                                                                                                                                                                                                                                                                                                                                                                                                                                                                                                                                                                                                                                                                                                | https://m.media-amazon.com/images/I/31XO-wfGGGL._SX300_SY300_QL70_FMwebp_.jpg                         | https://www.amazon.in/MI-MTCY001IN-USB-Type-C-Cable/dp/B08DDRGWTJ/ref=sr_1_9?qid=1672909124&s=electronics&sr=1-9                    |\n",
            "| B008IFXQFU   | TP-Link USB WiFi Adapter for PC(TL-WN725N), N150 Wireless Network Adapter for Desktop - Nano Size WiFi Dongle Compatible with Windows 11/10/7/8/8.1/XP/ Mac OS 10.9-10.15 Linux Kernel 2.6.18-4.4.3     | Computers&Accessories|NetworkingDevices|NetworkAdapters|WirelessUSBAdapters       | ₹499               | ₹999           | 50%                   | 4.2      | 1,79,691       | USB WiFi Adapter —— Speedy wireless transmission at up to 150Mbps ideal for video streaming or internet calls|Mini Design —— Sleek miniature design so small that once plugged in, can be left in a Laptop’s USB port|Advanced Security —— Supports 64/128 WEP, WPA, PA2/WPA-PSK/WPA2-PSK(TKIP/AES)|Compatibility —— Windows 11/10/8.1/8/7/XP, Mac OS 10.15 and earlier, Linux|Easy Setup —— Connect in no time with easy setup utility in 14 languages|In an unlikely case of product quality related issue, we may ask you to reach out to brand’s customer service support and seek resolution. We will require brand proof of issue to process replacement request                                                                                                                                                                                                                                                                                                                           | AGV3IEFANZCKECFGUM42MRH5FNOA,AEBO7NWCNXKT4AESAN443HQH35FQ,AE7GD3VRRYQEAHDR7FXJIR23INYA,AHPAW24BI5X2GCX5M2LHI72VSJJQ,AE2VXY4CFO36MDSIMPG43XHNF4GA,AHHQEKUNVETALN7DTRHUQ2WAWEKQ,AFMIFTNTUD5PIHGONWOTRMMZ5EBA,AHOJBIZVVIIFJKRREY4B6ESVA4KA | Azhar JuMan,Anirudh Sood,Hari Krishnan PS,Akash Jindal,PRADEEP,Rajesh,Divya Kothari,abhijit              | R1LW6NWSVTVZ2H,R3VR5WFKUS15C5,R2F6GC79OYWUKQ,R3QZ19MECGWG9A,R2MPU42MYK7GPO,R33DVXFB4VYPZZ,R1SQ7OGFR4JRUR,R1S5F9QI0M1VBZ | Works on linux for me. Get the model with antenna.,Does what it say but other brands available at lesser price,Easy Handle,Great product,Perfect working,Speed is perfect,Great Design, Build, Connectivity Range, Packaging and other features but no linux support since v2,Very good | I use this to connect an old PC to internet. I tried lubuntu 20 and ubuntu 22, it worked out of the box in both, didn't have to do any setup. There's an extender cable so you can place this in a comfortable place. Get the model with antenna because otherwise you'll have range problems if you're not directly in line of sight from your wifi router.,The wifi dongle is a simple plug & play device, will start catching available networks right after you plug it into your USB port, no additional installations/ softwares requires. Signal strength is good.... just wonder what would be different in other adapters of lesser known brands which are available at a much more competitive pricing, hence a star less.,Pros:*Easy to use & Portable*Can be connected to Mobile Hotspot and used in PC( Budget Friendly)*Less installation process*No heating issues & Good Coverage*Best alternative for USB Tethering (phone's battery may get damaged for long term run with Tethering)Cons:*Internet connection speed varies at times, also depends on your modem or cellular connection*Issues occur while installing via CD, which is available along with the product( Installation driver can be downloaded from TP-Link site)*Needed to reconnect the adapter every time system is turned ON*Will not work if your software has some issues, so encountered any just update your system(worked for me)*Support Center is worse, calls are unattended most of the times or just visit nearby storeConclusion:Brought this @499/-Ideal for users who don't need very high speed internet usage,a good alternative for USB Tethering and are on Budge(1080p Youtube videos can be easily played with this without any interruptions),wifi connectivity is a great good result for me. however, some jitter problems did exist.,This is perfect device to connect wifi. Go for it.,This wifi adopter is good working,(Pictures attached)Size/Design:  ★ ★ ★ ★ ★Build Quality: ★ ★ ★ ★ ★Packaging:  ★ ★ ★ ★ ★Software:  ★ ★ ★ ★Speed:  ★ ★ ★ ★ ★Connectivity:  ★ ★ ★ ★ ★Experience:  ★ ★ ★ ★ ★Warranty:  ★ ★ ★ ★ ★Size and Design:The best part about this is that it is very compact in size and very sober and elegant in design. This is a big plus as it is easy plug in and use, add to it the good sober design.Build Quality:The build quality is undoubtedly superb. Just no qualms about that, at all. When held, it doesnt give off that cheap and flimsy product-like feeling. It is good sturdy with its build quality.Packaging:This part is also a big plus as the item was well cushioned and packaged with all the necessary items that ensured that no damage could have been caused to the product during transportation. This ensures that I as a customer have received something not damaged internally already.Software:This is actually good but not great part with the product.The good part is that a CD has been provided with it along with a manual.The not great part is that NO LINUX SUPPORT has been given from Version 2 onwards. This is bad, really.Speed:It easily supports net speeds upto 300 Mbps. Practically speaking, I have tested it at my home and it easily supports net speed of over 100-150 Mbps without a sigh.On testing I found that it did connect to 5GHz network, without any issue.Connectivity:Please mark its not feet its metres. Multiply metres x 3 to get the distance in feet.It easily connects to my laptop or phone from 7 metres across one room. So thats 21 feet. I mean even our old bluetooth used to connect to about 15 ft.So 20-25 feet is not at all an issue with this. This is the big plus I found with the product.Experience:From this point of view, so far except the linux non-compatibility issue, I found no other flaws with this product.So overall its a great product.Warranty:Its 3 years so I am assured that atleast for 3 years I am tension-free and not just 1 year, contrary to most electronic items today that only provide 1 year warranty with their items.,Best adapter I have bought ever. Works nicely seemless connectivity | https://m.media-amazon.com/images/W/WEBP_402378-T2/images/I/31e6ElWRymL._SX300_SY300_QL70_FMwebp_.jpg | https://www.amazon.in/TP-Link-TL-WN725N-150Mbps-Wireless-Adapter/dp/B008IFXQFU/ref=sr_1_10?qid=1672909124&s=electronics&sr=1-10     |\n",
            "| B082LZGK39   | Ambrane Unbreakable 60W / 3A Fast Charging 1.5m Braided Micro USB Cable for Smartphones, Tablets, Laptops & Other Micro USB Devices, 480Mbps Data Sync, Quick Charge 3.0 (RCM15, Black)                 | Computers&Accessories|Accessories&Peripherals|Cables&Accessories|Cables|USBCables | ₹199               | ₹299           | 33%                   | 4        | 43,994         | Universal Compatibility – It is compatible with all Micro USB enabled devices, be it an android smartphone, tablet, PC peripheral or any other micro USB compatible device|Unbreakable – Made of special braided outer with rugged interior bindings, it is ultra-durable cable that won’t be affected by daily rough usage|Ideal Length – It has ideal length of 1.5 meters which is neither too short like your typical 1meter cable or too long like a 2meters cable|Supports maximum 3A fast charging and 480 Mbps data transfer speed|6 Months manufacturer warranty from the date of purchase.                                                                                                                                                                                                                                                                                                                                                                                             | AECPFYFQVRUWC3KGNLJIOREFP5LQ,AGYYVPDD7YG7FYNBXNGXZJT525AQ,AHONIZU3ICIEHQIGQ6R2VFRSBXOQ,AFPHD2CRPDZMWMBL7WXRSVYWS5JA,AEZ346GX3HJ4O4XNRPHCNHXQURMQ,AEPSWFPNECKO34PUC7I56ITGXR6Q,AHWVEHR5DYLVFTO2KF3IZATFQSWQ,AH4QT33M55677I7ISQOAKEQWACYQ | ArdKn,Nirbhay kumar,Sagar Viswanathan,Asp,Placeholder,BharanI,sonia,Niam                                 | RGIQEG07R9HS2,R1SMWZQ86XIN8U,R2J3Y1WL29GWDE,RYGGS0M09S3KY,R17KQRUTAN5DKS,R3AAQGS6HP2QUK,R1HDNOG6TO2CCA,R3PHKXYA5AFEOU   | A Good Braided Cable for Your Type C Device,Good quality product from ambrane,Super cable,As,Good quality,Good product,its good,Good quality for the price but one issue with my unit                                                                                                   | I ordered this cable to connect my phone to Android Auto of car. The cable is really strong and the connection ports are really well made. I already has a Micro USB cable from Ambrane and it's still in good shape. I connected my phone to the car using the cable and it got connected well and no issues. I also connected it to the charging port and yes it has Fast Charging support.,It quality is good at this price and the main thing is that i didn't ever thought that this cable will be so long it's good one and charging power is too good and also supports fast charging,Value for money, with extra length👍,Good, working fine,Product quality is good,Good,very good,Bought for my daughter's old phone.Brand new cable it was not charging, I already repacked and requested for replacement.I checked again, and there was some green colour paste/fungus inside the micro USB connector. I cleaned with an alcoholic and starts working again.Checked the ampere of charging speed got around 1400ma-1500ma - not bad, came with braided 1.5m long cable, pretty impressive for the price.Can't blame the manufacturer.But quality issues by the distributor, they might have stored in very humid place.                                                                                                                                                                                                                                                                                                                                                                                                                                                                                                                                                                                                                                                                                                                                                                                                                                                                                                                                                                                                                                                                                                                                                                                                                                                                                                                                                                                                                                                                                                                                                                                                                                                                                                                                                                                                                                                                                                                                                                                                                                                                                                                                                                                                                                                                                                                                                                                                                                                                                                                                                                                                                                                                                                                                                                                                                                                                                                                   | https://m.media-amazon.com/images/W/WEBP_402378-T2/images/I/31kj3q4SepL._SY445_SX342_QL70_FMwebp_.jpg | https://www.amazon.in/Ambrane-Unbreakable-Charging-Braided-Android/dp/B082LZGK39/ref=sr_1_11?qid=1672909124&s=electronics&sr=1-11   |\n",
            "| B08CF3D7QR   | Portronics Konnect L POR-1081 Fast Charging 3A Type-C Cable 1.2Meter with Charge & Sync Function for All Type-C Devices (Grey)                                                                          | Computers&Accessories|Accessories&Peripherals|Cables&Accessories|Cables|USBCables | ₹154               | ₹339           | 55%                   | 4.3      | 13,391         | [CHARGE & SYNC FUNCTION]- This cable comes with charging & Data sync function for smartphones|[HIGH QUALITY MATERIAL]- TPE + Nylon Material to make sure that the life of the cable is enhanced significantly|[LONG CORD]- The Cable is extra thick 1.2 meter long, optimized for an easy use for your comfort at home or office|[MORE DURABLE]-This cable is unique interms of design and multi-use and is positioned to provide the best comfort and performance while using                                                                                                                                                                                                                                                                                                                                                                                                                                                                                                                   | AGYLPKPZHVYKKZHOTHCTYVEDAJ4A,AGTTU64JMX722LYCN3SOWLFPKPAQ,AFWD4ZTM7473CDWARHCDQKK73MTA,AEXCQM3FDLX3YL3UJWWUIAIUJT4A,AHUKYUWRUVRTB3IQGISXWTSPAWLQ,AFWW4UEXAJH7EAB5LTMKMSGLUN2Q,AFM5JL37WY7G6MLQUI4WAXUJME7Q,AFECO24WYFOU2KL7C3DMHTEHRU7Q | Tanya,Anu,Akshay,Vishal Sagara Shetty,Swatilekha Sarkar,Jithindas,IBRAHIM S,Sundaram J.                  | R11MQS7WD9C3I0,R2AKH69XQY8BY4,R8GBOLYUN5UP6,R1AYVO4R25KJTA,R1HT6XM787V7FV,R339XJL1GMKHA3,R175VFSB2A32HG,R35T9LXYBSP09G  | Good for fast charge but not for data transfer,Good cable compares to local the brand.,good but doesnt last,Good product,Good Product,Good and worth it,very good material quality charging speed is 15 watt,Not a fast charger                                                         | The cable is efficient in fast charging but in quick data transfer. Overall fine.,I like the usb c  L shape. Nylon Shielded core wire it improves the life of the cable.,i think i buy these every 6 months or so. fast charging stops working after a while. probbly something to do with the cable design. the cable gets twisted over time and I suspect that breaks the high capacity wires inside. but i keep buying it because there arent too many options in an L shaped design,Good and durable product. Sometime the charges doesn't work on few adapters. there might be few cut off or something but works fine on apple adapter, Car charger, USB,The product is really good at affordable price.,Good and fast charging, and value for money,பொருள் உடைய கடினத்தன்மையின் நன்றாக உள்ளது சார்ஜ் ஏறும் வேகம் 15wat,Not a fast charger.  Very slow charging with 65w.  L-shape pin is very useful.                                                                                                                                                                                                                                                                                                                                                                                                                                                                                                                                                                                                                                                                                                                                                                                                                                                                                                                                                                                                                                                                                                                                                                                                                                                                                                                                                                                                                                                                                                                                                                                                                                                                                                                                                                                                                                                                                                                                                                                                                                                                                                                                                                                                                                                                                                                                                                                                                                                                                                                                                                                                                                                                                                                                                                                                                                                                                                                                                                                                                                                                                                                                                                                                                                                               | https://m.media-amazon.com/images/I/31dJ+lXJq3L._SY300_SX300_.jpg                                     | https://www.amazon.in/Portronics-POR-1081-Charging-1-2Meter-Function/dp/B08CF3D7QR/ref=sr_1_12?qid=1672909124&s=electronics&sr=1-12 |\n",
            "| B0789LZTCJ   | boAt Rugged v3 Extra Tough Unbreakable Braided Micro USB Cable 1.5 Meter (Black)                                                                                                                        | Computers&Accessories|Accessories&Peripherals|Cables&Accessories|Cables|USBCables | ₹299               | ₹799           | 63%                   | 4.2      | 94,363         | The boAt rugged cable features our special toughest polyethylene braided jacket and this unique jacket provides greater protection than anything else you have seen in its class. Round Cable|Extra tough polyethylene terephthalate cable skin ensures 10000 plus bend lifespan, stress and stretch resistance|The boAt rugged Micro USB cable is compatible with most android smartphones, windows phone, tablets, PC peripherals and other micro USB compatible devices|2.4A rapid charge, fast data transmission and rapid speed to sync your device at the speed up to 480mbps|boAt rugged micro USB cable offers a perfect 1.5 meters in length, optimized for an easy use for your comfort at home or office|2 years warranty from the date of purchase                                                                                                                                                                                                                                   | AEWAZDZZJLQUYVOVGBEUKSLXHQ5A,AG5HTSFRRE6NL3M5SGCUQBP7YSCA,AH725ST5NW2Y4JZPKUNTIJCUK2BA,AHV3TXIFCJPMS4D5JATCEUR266MQ,AGWIGDEMFIIUAOXYY2QATNBSUGHA,AFSTSLQUV4EVEXWKBOLEFHL2H5YQ,AGAKDNBHY2FKX7I4ACRGILU7QL7A,AFNWJUWJRHCC6HN52KMG5AKZY37Q | Omkar dhale,JD,HEMALATHA,Ajwadh a.,amar singh chouhan,Ravi Siddan,Himanshu Goel,Udaykumar                | R3EEUZKKK9J36I,R3HJVYCLYOY554,REDECAZ7AMPQC,R1CLH2ULIVG5U3,R2DMKIBGFKBD6R,RC89B5IAJUTR5,R3B3DDON5FH8DS,R13WAEJDI5RS36   | Good product,Good one,Nice,Really nice product,Very first time change,Good,Fine product but could be better,Very nice it's charging like jet                                                                                                                                            | Good product,long wire,Charges good,Nice,I bought this cable for Rs.339 worthy product for this price, i tested it in various charger adapters 33w and 18w it supports fast charging as well.,Good,Ok,I had got this at good price on sale on Amazon and product is useful with warranty but for warranty you need to go very far not practical for such a cost and mine micro to type c connector stopped working after few days only.,I like this product                                                                                                                                                                                                                                                                                                                                                                                                                                                                                                                                                                                                                                                                                                                                                                                                                                                                                                                                                                                                                                                                                                                                                                                                                                                                                                                                                                                                                                                                                                                                                                                                                                                                                                                                                                                                                                                                                                                                                                                                                                                                                                                                                                                                                                                                                                                                                                                                                                                                                                                                                                                                                                                                                                                                                                                                                                                                                                                                                                                                                                                                                                                                                                                                                                                                                                                                                                                                                                                                                                                                                                                                                                                                                           | https://m.media-amazon.com/images/I/41SDfuK7L2L._SX300_SY300_QL70_FMwebp_.jpg                         | https://www.amazon.in/Rugged-Extra-Tough-Unbreakable-Braided/dp/B0789LZTCJ/ref=sr_1_13?qid=1672909124&s=electronics&sr=1-13         |\n",
            "| product_id   | product_name                                                                                                                                                                                            | category                                                                          | discounted_price   | actual_price   | discount_percentage   | rating   | rating_count   | about_product                                                                                                                                                                                                                                                                                                                                                                                                                                                                                                                                                                                                                                                                                                                                                                                                                                                                                                                                                                                    | user_id                                                                                                                                                                                                                                 | user_name                                                                                                | review_id                                                                                                               | review_title                                                                                                                                                                                                                                                                            | review_content                                                                                                                                                                                                                                                                                                                                                                                                                                                                                                                                                                                                                                                                                                                                                                                                                                                                                                                                                                                                                                                                                                                                                                                                                                                                                                                                                                                                                                                                                                                                                                                                                                                                                                                                                                                                                                                                                                                                                                                                                                                                                                                                                                                                                                                                                                                                                                                                                                                                                                                                                                                                                                                                                                                                                                                                                                                                                                                                                                                                                                                                                                                                                                                                                                                                                                                                                                                                                                                                                                                                                                                                                                                                                                                                                                                                                                                                                                                                                                                                                                                                                                                                        | img_link                                                                                              | product_link                                                                                                                        |\n",
            "|:-------------|:--------------------------------------------------------------------------------------------------------------------------------------------------------------------------------------------------------|:----------------------------------------------------------------------------------|:-------------------|:---------------|:----------------------|:---------|:---------------|:-------------------------------------------------------------------------------------------------------------------------------------------------------------------------------------------------------------------------------------------------------------------------------------------------------------------------------------------------------------------------------------------------------------------------------------------------------------------------------------------------------------------------------------------------------------------------------------------------------------------------------------------------------------------------------------------------------------------------------------------------------------------------------------------------------------------------------------------------------------------------------------------------------------------------------------------------------------------------------------------------|:----------------------------------------------------------------------------------------------------------------------------------------------------------------------------------------------------------------------------------------|:---------------------------------------------------------------------------------------------------------|:------------------------------------------------------------------------------------------------------------------------|:----------------------------------------------------------------------------------------------------------------------------------------------------------------------------------------------------------------------------------------------------------------------------------------|:------------------------------------------------------------------------------------------------------------------------------------------------------------------------------------------------------------------------------------------------------------------------------------------------------------------------------------------------------------------------------------------------------------------------------------------------------------------------------------------------------------------------------------------------------------------------------------------------------------------------------------------------------------------------------------------------------------------------------------------------------------------------------------------------------------------------------------------------------------------------------------------------------------------------------------------------------------------------------------------------------------------------------------------------------------------------------------------------------------------------------------------------------------------------------------------------------------------------------------------------------------------------------------------------------------------------------------------------------------------------------------------------------------------------------------------------------------------------------------------------------------------------------------------------------------------------------------------------------------------------------------------------------------------------------------------------------------------------------------------------------------------------------------------------------------------------------------------------------------------------------------------------------------------------------------------------------------------------------------------------------------------------------------------------------------------------------------------------------------------------------------------------------------------------------------------------------------------------------------------------------------------------------------------------------------------------------------------------------------------------------------------------------------------------------------------------------------------------------------------------------------------------------------------------------------------------------------------------------------------------------------------------------------------------------------------------------------------------------------------------------------------------------------------------------------------------------------------------------------------------------------------------------------------------------------------------------------------------------------------------------------------------------------------------------------------------------------------------------------------------------------------------------------------------------------------------------------------------------------------------------------------------------------------------------------------------------------------------------------------------------------------------------------------------------------------------------------------------------------------------------------------------------------------------------------------------------------------------------------------------------------------------------------------------------------------------------------------------------------------------------------------------------------------------------------------------------------------------------------------------------------------------------------------------------------------------------------------------------------------------------------------------------------------------------------------------------------------------------------------------------------------------------|:------------------------------------------------------------------------------------------------------|:------------------------------------------------------------------------------------------------------------------------------------|\n",
            "| B07JW9H4J1   | Wayona Nylon Braided USB to Lightning Fast Charging and Data Sync Cable Compatible for iPhone 13, 12,11, X, 8, 7, 6, 5, iPad Air, Pro, Mini (3 FT Pack of 1, Grey)                                      | Computers&Accessories|Accessories&Peripherals|Cables&Accessories|Cables|USBCables | ₹399               | ₹1,099         | 64%                   | 4.2      | 24,269         | High Compatibility : Compatible With iPhone 12, 11, X/XsMax/Xr ,iPhone 8/8 Plus,iPhone 7/7 Plus,iPhone 6s/6s Plus,iPhone 6/6 Plus,iPhone 5/5s/5c/se,iPad Pro,iPad Air 1/2,iPad mini 1/2/3,iPod nano7,iPod touch and more apple devices.|Fast Charge&Data Sync : It can charge and sync simultaneously at a rapid speed, Compatible with any charging adaptor, multi-port charging station or power bank.|Durability : Durable nylon braided design with premium aluminum housing and toughened nylon fiber wound tightly around the cord lending it superior durability and adding a bit to its flexibility.|High Security Level : It is designed to fully protect your device from damaging excessive current.Copper core thick+Multilayer shielding, Anti-interference, Protective circuit equipment.|WARRANTY: 12 months warranty and friendly customer services, ensures the long-time enjoyment of your purchase. If you meet any question or problem, please don't hesitate to contact us. | AG3D6O4STAQKAY2UVGEUV46KN35Q,AHMY5CWJMMK5BJRBBSNLYT3ONILA,AHCTC6ULH4XB6YHDY6PCH2R772LQ,AGYHHIERNXKA6P5T7CZLXKVPT7IQ,AG4OGOFWXJZTQ2HKYIOCOY3KXF2Q,AENGU523SXMOS7JPDTW52PNNVWGQ,AEQJHCVTNINBS4FKTBGQRQTGTE5Q,AFC3FFC5PKFF5PMA52S3VCHOZ5FQ | Manav,Adarsh gupta,Sundeep,S.Sayeed Ahmed,jaspreet singh,Khaja moin,Anand,S.ARUMUGAM                     | R3HXWT0LRP0NMF,R2AJM3LFTLZHFO,R6AQJGUP6P86,R1KD19VHEDV0OR,R3C02RMYQMK6FC,R39GQRVBUZBWGY,R2K9EDOE15QIRJ,R3OI7YT648TL8I   | Satisfied,Charging is really fast,Value for money,Product review,Good quality,Good product,Good Product,As of now seems good                                                                                                                                                            | Looks durable Charging is fine tooNo complains,Charging is really fast, good product.,Till now satisfied with the quality.,This is a good product . The charging speed is slower than the original iPhone cable,Good quality, would recommend,https://m.media-amazon.com/images/W/WEBP_402378-T1/images/I/81---F1ZgHL._SY88.jpg,Product had worked well till date and was having no issue.Cable is also sturdy enough...Have asked for replacement and company is doing the same...,Value for money                                                                                                                                                                                                                                                                                                                                                                                                                                                                                                                                                                                                                                                                                                                                                                                                                                                                                                                                                                                                                                                                                                                                                                                                                                                                                                                                                                                                                                                                                                                                                                                                                                                                                                                                                                                                                                                                                                                                                                                                                                                                                                                                                                                                                                                                                                                                                                                                                                                                                                                                                                                                                                                                                                                                                                                                                                                                                                                                                                                                                                                                                                                                                                                                                                                                                                                                                                                                                                                                                                                                                                                                                                                   | https://m.media-amazon.com/images/W/WEBP_402378-T1/images/I/51UsScvHQNL._SX300_SY300_QL70_FMwebp_.jpg | https://www.amazon.in/Wayona-Braided-WN3LG1-Syncing-Charging/dp/B07JW9H4J1/ref=sr_1_1?qid=1672909124&s=electronics&sr=1-1           |\n",
            "| B098NS6PVG   | Ambrane Unbreakable 60W / 3A Fast Charging 1.5m Braided Type C Cable for Smartphones, Tablets, Laptops & other Type C devices, PD Technology, 480Mbps Data Sync, Quick Charge 3.0 (RCT15A, Black)       | Computers&Accessories|Accessories&Peripherals|Cables&Accessories|Cables|USBCables | ₹199               | ₹349           | 43%                   | 4        | 43,994         | Compatible with all Type C enabled devices, be it an android smartphone (Mi, Samsung, Oppo, Vivo, Realme, OnePlus, etc), tablet, laptop (Macbook, Chromebook, etc)|Supports Quick Charging (2.0/3.0)|Unbreakable – Made of special braided outer with rugged interior bindings, it is ultra-durable cable that won’t be affected by daily rough usage|Ideal Length – It has ideal length of 1.5 meters which is neither too short like your typical 1meter cable or too long like a 2meters cable|Supports maximum 3A fast charging and 480 Mbps data transfer speed|6 months manufacturer warranty from the date of purchase                                                                                                                                                                                                                                                                                                                                                                    | AECPFYFQVRUWC3KGNLJIOREFP5LQ,AGYYVPDD7YG7FYNBXNGXZJT525AQ,AHONIZU3ICIEHQIGQ6R2VFRSBXOQ,AFPHD2CRPDZMWMBL7WXRSVYWS5JA,AEZ346GX3HJ4O4XNRPHCNHXQURMQ,AEPSWFPNECKO34PUC7I56ITGXR6Q,AHWVEHR5DYLVFTO2KF3IZATFQSWQ,AH4QT33M55677I7ISQOAKEQWACYQ | ArdKn,Nirbhay kumar,Sagar Viswanathan,Asp,Placeholder,BharanI,sonia,Niam                                 | RGIQEG07R9HS2,R1SMWZQ86XIN8U,R2J3Y1WL29GWDE,RYGGS0M09S3KY,R17KQRUTAN5DKS,R3AAQGS6HP2QUK,R1HDNOG6TO2CCA,R3PHKXYA5AFEOU   | A Good Braided Cable for Your Type C Device,Good quality product from ambrane,Super cable,As,Good quality,Good product,its good,Good quality for the price but one issue with my unit                                                                                                   | I ordered this cable to connect my phone to Android Auto of car. The cable is really strong and the connection ports are really well made. I already has a Micro USB cable from Ambrane and it's still in good shape. I connected my phone to the car using the cable and it got connected well and no issues. I also connected it to the charging port and yes it has Fast Charging support.,It quality is good at this price and the main thing is that i didn't ever thought that this cable will be so long it's good one and charging power is too good and also supports fast charging,Value for money, with extra length👍,Good, working fine,Product quality is good,Good,very good,Bought for my daughter's old phone.Brand new cable it was not charging, I already repacked and requested for replacement.I checked again, and there was some green colour paste/fungus inside the micro USB connector. I cleaned with an alcoholic and starts working again.Checked the ampere of charging speed got around 1400ma-1500ma - not bad, came with braided 1.5m long cable, pretty impressive for the price.Can't blame the manufacturer.But quality issues by the distributor, they might have stored in very humid place.                                                                                                                                                                                                                                                                                                                                                                                                                                                                                                                                                                                                                                                                                                                                                                                                                                                                                                                                                                                                                                                                                                                                                                                                                                                                                                                                                                                                                                                                                                                                                                                                                                                                                                                                                                                                                                                                                                                                                                                                                                                                                                                                                                                                                                                                                                                                                                                                                                                                                                                                                                                                                                                                                                                                                                                                                                                                                                                   | https://m.media-amazon.com/images/W/WEBP_402378-T2/images/I/31zOsqQOAOL._SY445_SX342_QL70_FMwebp_.jpg | https://www.amazon.in/Ambrane-Unbreakable-Charging-Braided-Cable/dp/B098NS6PVG/ref=sr_1_2?qid=1672909124&s=electronics&sr=1-2       |\n",
            "| B08HDJ86NZ   | boAt Deuce USB 300 2 in 1 Type-C & Micro USB Stress Resistant, Tangle-Free, Sturdy Cable with 3A Fast Charging & 480mbps Data Transmission, 10000+ Bends Lifespan and Extended 1.5m Length(Martian Red) | Computers&Accessories|Accessories&Peripherals|Cables&Accessories|Cables|USBCables | ₹329               | ₹699           | 53%                   | 4.2      | 94,363         | The boAt Deuce USB 300 2 in 1 cable is compatible with smartphones, tablets, PC peripherals, Bluetooth speakers, power banks and all other devices with Type-C as well as Micro USB port|It ensures 3A fast charging and data transmissions with rapid sync at 480 mbps|The premium Nylon braided skin makes it sturdy and invincible against external damage|Its Aluminium alloy shell housing makes it last longer with 10000+ Bends Lifespan with extended frame protection for strain relief|The resilient and flexible design offers a tangle free experience seamlessly|Deuce USB 300 cable offers a perfect 1.5 meters in length for smooth & hassle-free user experience|2 years warranty from the date of purchase                                                                                                                                                                                                                                                                      | AEWAZDZZJLQUYVOVGBEUKSLXHQ5A,AG5HTSFRRE6NL3M5SGCUQBP7YSCA,AH725ST5NW2Y4JZPKUNTIJCUK2BA,AHV3TXIFCJPMS4D5JATCEUR266MQ,AGWIGDEMFIIUAOXYY2QATNBSUGHA,AFSTSLQUV4EVEXWKBOLEFHL2H5YQ,AGAKDNBHY2FKX7I4ACRGILU7QL7A,AFNWJUWJRHCC6HN52KMG5AKZY37Q | Omkar dhale,JD,HEMALATHA,Ajwadh a.,amar singh chouhan,Ravi Siddan,Himanshu Goel,Udaykumar                | R3EEUZKKK9J36I,R3HJVYCLYOY554,REDECAZ7AMPQC,R1CLH2ULIVG5U3,R2DMKIBGFKBD6R,RC89B5IAJUTR5,R3B3DDON5FH8DS,R13WAEJDI5RS36   | Good product,Good one,Nice,Really nice product,Very first time change,Good,Fine product but could be better,Very nice it's charging like jet                                                                                                                                            | Good product,long wire,Charges good,Nice,I bought this cable for Rs.339 worthy product for this price, i tested it in various charger adapters 33w and 18w it supports fast charging as well.,Good,Ok,I had got this at good price on sale on Amazon and product is useful with warranty but for warranty you need to go very far not practical for such a cost and mine micro to type c connector stopped working after few days only.,I like this product                                                                                                                                                                                                                                                                                                                                                                                                                                                                                                                                                                                                                                                                                                                                                                                                                                                                                                                                                                                                                                                                                                                                                                                                                                                                                                                                                                                                                                                                                                                                                                                                                                                                                                                                                                                                                                                                                                                                                                                                                                                                                                                                                                                                                                                                                                                                                                                                                                                                                                                                                                                                                                                                                                                                                                                                                                                                                                                                                                                                                                                                                                                                                                                                                                                                                                                                                                                                                                                                                                                                                                                                                                                                                           | https://m.media-amazon.com/images/I/41V5FtEWPkL._SX300_SY300_QL70_FMwebp_.jpg                         | https://www.amazon.in/Deuce-300-Resistant-Tangle-Free-Transmission/dp/B08HDJ86NZ/ref=sr_1_4?qid=1672909124&s=electronics&sr=1-4     |\n",
            "| B08CF3B7N1   | Portronics Konnect L 1.2M Fast Charging 3A 8 Pin USB Cable with Charge & Sync Function for iPhone, iPad (Grey)                                                                                          | Computers&Accessories|Accessories&Peripherals|Cables&Accessories|Cables|USBCables | ₹154               | ₹399           | 61%                   | 4.2      | 16,905         | [CHARGE & SYNC FUNCTION]- This cable comes with charging & Data sync function|[HIGH QUALITY MATERIAL]- TPE + Nylon Material to make sure that the life of the cable is enhanced significantly|[LONG CORD]- The Cable is extra thick 1.2 meter long, optimized for an easy use for your comfort at home or office|[MORE DURABLE]-This cable is unique interms of design and multi-use and is positioned to provide the best comfort and performance while using|[UNIVERSAL COMPATIBILITY]- Compatible with all devices like iPhone XS, X, XR, 8, 7, 6S, 6, 5S, iPad Pro, iPad mini and iPad Air                                                                                                                                                                                                                                                                                                                                                                                                   | AE3Q6KSUK5P75D5HFYHCRAOLODSA,AFUGIFH5ZAFXRDSZHM4QB2KPKFUQ,AFK4NJOLFSJGWLOJIUIAROJF6YVA,AFUOTYRFUXVPEBGIXVZZ7DR3CZUA,AFDLRSXKDZ6U3U3KD46SQLFGZQRA,AH5VLM66SIK7J3IRG4NY7XVOQ55A,AE3MQNNHHLUHXURL5S7IAR7JTGNQ,AFSEOFZY67MYC7UAJU264Z5NFTLA | rahuls6099,Swasat Borah,Ajay Wadke,Pranali,RVK,Bhargav,Durai Vignesh,Amazon Customer                     | R1BP4L2HH9TFUP,R16PVJEXKV6QZS,R2UPDB81N66T4P,R3KK4GT934ST3I,RCFHMWUSBIJO,RDO7DACXMAJ84,R3A6MEZL3LY66Z,R1ESIEKPGAYA29    | As good as original,Decent,Good one for secondary use,Best quality,GOOD,Amazing product at a mind blowing price!,Nice Quality,Good product                                                                                                                                              | Bought this instead of original apple, does the work for 150rs, not as fast as apple charger but its a good option if you want cheap and good product, bought it for iPad pro 10.5 and it's working flawlessly, build quality is ok, its not like i am gonna hang my clothes on it and i want a very strong cable, even a braided cable stop working after a year, i have used both Anker and Apple store strong braided cable they all stop working after a year so please don't buy high end cables just for that instead choose a this one and even if it's stops working withing a year you only loose 150rs compares to 2000rs.UPDATE------------------------------------pin has stopped charging from one side, now i have to slip the pin to charge from other side, but i will update and let know for how long does it work,,It’s good. Not sure about durability as the pin area feels a bit fragile,Does not support apple carplaySo was little disappointed about thatOther than that cable is made up of very good quality,Best to buy,100% NOT FATHFUL,Writing this review post 10 months and 3 orders of the same product.Honestly Portronics Konnect L lightning cable works like magic with the original Apple charging brick.Seeing the price of the cable I initially hesitated buying as it was as low as ₹99/- with the offers and so I wasn’t sure if it would work well with my iPhone 12 or whether it would impact my iPhone’s battery health because all the other lightning cable brands were costing over ₹350/- like Wayona, Amazon Basics, etc.Earlier I was using Wayona Brand lightning cable with eventually frayed and stopped working.Charging Speed:Charges my iPhone fast enough almost similar compared to the original cable level when used with 12W Original Apple power adapter.Quality and Durability:Great quality braided cable and doesn’t tangle easily and can withstand day-to-day usage.L-Shaped pin:This is very innovative by Portronics and it makes sure the cable doesn’t get damaged even if used while charging.CarPlay and Data Sync:Works smoothly with CarPlay and syncs data effortlessly.PS: I have used this cable only with the Original Apple Charging Brick and extremely satisfied with its performance.,Better than I expect the product I like that Quality and I plan to buy same type cable come with usb C to Lighting cable for emergency purpose that much I love this cable. Buy for this cable only emergency uses only since Good one,Good product and value for money                                                                                                                                                                                                                                                                                                                                                                                                                                                                                                                                                                                                                                                                                                                                                                                                                                                                                                                                                                                                                                                                                                                                                                                                                                                                                                                                                                                                                                                                                                                                                                                                   | https://m.media-amazon.com/images/W/WEBP_402378-T2/images/I/31VzNhhqifL._SX300_SY300_QL70_FMwebp_.jpg | https://www.amazon.in/Portronics-Konnect-POR-1080-Charging-Function/dp/B08CF3B7N1/ref=sr_1_5?qid=1672909124&s=electronics&sr=1-5    |\n",
            "| B08WRWPM22   | boAt Micro USB 55 Tangle-free, Sturdy Micro USB Cable with 3A Fast Charging & 480mbps Data Transmission (Black)                                                                                         | Computers&Accessories|Accessories&Peripherals|Cables&Accessories|Cables|USBCables | ₹176.63            | ₹499           | 65%                   | 4.1      | 15,188         | It Ensures High Speed Transmission And Charging By Offering 3A Fast Charging And Data Transmissions With Rapid Sync At 480 Mbps|The Braided Skin Makes It Durable And Invincible Against External Damage So You Can Have An Absolute Hassle-Free & Tangle Free Experience|Its Durable Pvc Housing And The Flexible Design Makes It Last 6 Times Longer Than Other Cables|Usb Cable Offers A Perfect 1.5 Meters In Length For Smooth & Hassle-Free User Experience For Superior Charging & Data Transfer Tasks|The Compact And Smooth Aluminium Connector Fits Most Cases Seamlessly And Resists Corrosion For Signal Purity|Micro Usb 55 Cable Offers Universal Compatibility As It Is Compatible With Most Android Smartphones, Tablets, Pc Peripherals, Bluetooth Speakers, Power Banks, Game Consoles & All Micro-Usb Enabled Devices|2 years warranty from the date of purchase                                                                                                              | AG7C6DAADCTRQJG2BRS3RIKDT52Q,AFU7BOMPVJ7Q3TTA4G67RASTGYIQ,AER5ZGIXXVYG3AWZTRZT7M2BYCEA,AHE76XQSOLGOP5ZEKTIW6KUPDWBQ,AGXTMB2XHZBEWZ2UIX7ODZ4XTU6Q,AHNM2XVU745EDPNGUOAG74PTSNRA,AH5RWQ4S72IVLZD6O75OPCFIVDXQ,AG322TYKVPLPBDXE7ABEUK5QTALQ | Vivek kumar,Amazon Customer,SARTHAK,Chiranjeevi,V V GIRI KUMAR,Rajnandini,Akshay Talla,sudhanshu chaubey | R8E73K2KWJRDS,RSD0JTIIWQQL8,R64CRSTE9SLW1,R2FRTNIIUFJE1F,RWGNX3W7UOJ7W,R32TYHHODHTF5D,RQL9ZMQUTY7P2,R280XJ5VZUBOXV      | Long durable.,good,Does not charge Lenovo m8 tab,Best charging cable,good,Boat,Product was good,1.5 m का केबल मेरे लिए बहुत ही लाभदायक है ।                                                                                                                                                       | Build quality is good and it is comes with 2 year warranty.,Good Product,Bought it for charging my mobile & tab but it doesn't work for Lenovo m8 tab,Guys this cable is is best compare of everyone over heat protection, quickly charging, but chance to shock circuit,good,Nice,Good quality,1.5एम का डाटा केबल मेरे लिए बहुत ही लाभदायक है ।  मैं इस केबल को लाइन में चार्ज करते समय फोन बहुत आराम से उपयोग  कर पा रहा हु । आप इस केबल से 15watt का  चार्जर उसे कर सकते है (इससे जड़ा नही) । लोकल बाजार में इसका दाम 150 है ,  अमेजन पे ये केबल मुझे 67 में मिला । गर्व से कहो हम हिंदू है , जय हिंद जय भारत ,                                                                                                                                                                                                                                                                                                                                                                                                                                                                                                                                                                                                                                                                                                                                                                                                                                                                                                                                                                                                                                                                                                                                                                                                                                                                                                                                                                                                                                                                                                                                                                                                                                                                                                                                                                                                                                                                                                                                                                                                                                                                                                                                                                                                                                                                                                                                                                                                                                                                                                                                                                                                                                                                                                                                                                                                                                                                                                                                                                                                                                                                                                                                                                                                                                                                                                                                                                                                                                                                                                                                                                                                          | https://m.media-amazon.com/images/W/WEBP_402378-T2/images/I/41jlwEZpa5L._SX300_SY300_QL70_FMwebp_.jpg | https://www.amazon.in/boAt-Micro-USB-Tangle-Free-Transmission/dp/B08WRWPM22/ref=sr_1_8?qid=1672909124&s=electronics&sr=1-8          |\n",
            "| B08DDRGWTJ   | MI Usb Type-C Cable Smartphone (Black)                                                                                                                                                                  | Computers&Accessories|Accessories&Peripherals|Cables&Accessories|Cables|USBCables | ₹229               | ₹299           | 23%                   | 4.3      | 30,411         | 1m long Type-C USB Cable|Sturdy and Durable. With USB cable you can transfer data with speeds of upto 480 Mbps|Upto 3A output|6months warranty|Sturdy and Durable. With USB cable you can transfer data with speeds of upto 480 Mbps|6months warranty|Up To 3A Output                                                                                                                                                                                                                                                                                                                                                                                                                                                                                                                                                                                                                                                                                                                            | AHW6E5LQ2BDYOIVLAJGDH45J5V5Q,AF74RSGCHPZITVFSZN76K6GKPICA,AHDD7ZNB47QA2JLYU53HD4ML3VNQ,AHV3ELGDSOWBYUQLXSPDCSHBQRHQ,AEJU4L3ZM2GTILSJZZSNSF6VUOIA,AFVD66VQMSHPDT3A6HBBBGKRXBZA,AELKHQXVSSG6NHXLFJLLNEFRQQUQ,AGYSMAC6V6RFJJOHG2FIRPOZ6CSQ | Pavan A H,Jayesh bagad,Shridhar,rajendran,karuppu k,Akshay wani,Abbimaniu Singh,VISHAL H BADSHE          | R2X090D1YHACKR,R32ZCIH9AFNJ60,R3N57EVVG0EHAF,R3QWLE8JHROKC1,R2VTSDOOUTSQ5X,R3E6FZ75Q074KH,R1SYBQLTPFCW20,RYQT96J8HPIXE  | Worth for money - suitable for Android auto,Good Product,Length,Nice,Original,Very good quay Cable support fast charging.,Original MI cable for charging upto 33 watt,I am veri happy with this product as it provide turbo charging.                                                   | Worth for money - suitable for Android auto... my purpose served in car....got it for Rs.150,Everything is Okay. But packaging is not good feeling like seller gave is used cable.,Good product,Good product but cost is more.,Original cable,I bought this cable at 129. Using this cable for Android auto in my car. Perfectly works without any glitch.,Original MI cable. Will charge upto 33 watts. Got it for Rs 150.  I have 67 watt charger and I want a cable for my car so I went for it. I checked the performance with battery charging app. The charging speed is exactly half of my 67 watt original cable. Go for it.,It provided me turbo charging. I recommend for all Redmi note 10s mobile phones. As it provide turbo charging. I am veri happy with this product.                                                                                                                                                                                                                                                                                                                                                                                                                                                                                                                                                                                                                                                                                                                                                                                                                                                                                                                                                                                                                                                                                                                                                                                                                                                                                                                                                                                                                                                                                                                                                                                                                                                                                                                                                                                                                                                                                                                                                                                                                                                                                                                                                                                                                                                                                                                                                                                                                                                                                                                                                                                                                                                                                                                                                                                                                                                                                                                                                                                                                                                                                                                                                                                                                                                                                                                                                                | https://m.media-amazon.com/images/I/31XO-wfGGGL._SX300_SY300_QL70_FMwebp_.jpg                         | https://www.amazon.in/MI-MTCY001IN-USB-Type-C-Cable/dp/B08DDRGWTJ/ref=sr_1_9?qid=1672909124&s=electronics&sr=1-9                    |\n",
            "| B008IFXQFU   | TP-Link USB WiFi Adapter for PC(TL-WN725N), N150 Wireless Network Adapter for Desktop - Nano Size WiFi Dongle Compatible with Windows 11/10/7/8/8.1/XP/ Mac OS 10.9-10.15 Linux Kernel 2.6.18-4.4.3     | Computers&Accessories|NetworkingDevices|NetworkAdapters|WirelessUSBAdapters       | ₹499               | ₹999           | 50%                   | 4.2      | 1,79,691       | USB WiFi Adapter —— Speedy wireless transmission at up to 150Mbps ideal for video streaming or internet calls|Mini Design —— Sleek miniature design so small that once plugged in, can be left in a Laptop’s USB port|Advanced Security —— Supports 64/128 WEP, WPA, PA2/WPA-PSK/WPA2-PSK(TKIP/AES)|Compatibility —— Windows 11/10/8.1/8/7/XP, Mac OS 10.15 and earlier, Linux|Easy Setup —— Connect in no time with easy setup utility in 14 languages|In an unlikely case of product quality related issue, we may ask you to reach out to brand’s customer service support and seek resolution. We will require brand proof of issue to process replacement request                                                                                                                                                                                                                                                                                                                           | AGV3IEFANZCKECFGUM42MRH5FNOA,AEBO7NWCNXKT4AESAN443HQH35FQ,AE7GD3VRRYQEAHDR7FXJIR23INYA,AHPAW24BI5X2GCX5M2LHI72VSJJQ,AE2VXY4CFO36MDSIMPG43XHNF4GA,AHHQEKUNVETALN7DTRHUQ2WAWEKQ,AFMIFTNTUD5PIHGONWOTRMMZ5EBA,AHOJBIZVVIIFJKRREY4B6ESVA4KA | Azhar JuMan,Anirudh Sood,Hari Krishnan PS,Akash Jindal,PRADEEP,Rajesh,Divya Kothari,abhijit              | R1LW6NWSVTVZ2H,R3VR5WFKUS15C5,R2F6GC79OYWUKQ,R3QZ19MECGWG9A,R2MPU42MYK7GPO,R33DVXFB4VYPZZ,R1SQ7OGFR4JRUR,R1S5F9QI0M1VBZ | Works on linux for me. Get the model with antenna.,Does what it say but other brands available at lesser price,Easy Handle,Great product,Perfect working,Speed is perfect,Great Design, Build, Connectivity Range, Packaging and other features but no linux support since v2,Very good | I use this to connect an old PC to internet. I tried lubuntu 20 and ubuntu 22, it worked out of the box in both, didn't have to do any setup. There's an extender cable so you can place this in a comfortable place. Get the model with antenna because otherwise you'll have range problems if you're not directly in line of sight from your wifi router.,The wifi dongle is a simple plug & play device, will start catching available networks right after you plug it into your USB port, no additional installations/ softwares requires. Signal strength is good.... just wonder what would be different in other adapters of lesser known brands which are available at a much more competitive pricing, hence a star less.,Pros:*Easy to use & Portable*Can be connected to Mobile Hotspot and used in PC( Budget Friendly)*Less installation process*No heating issues & Good Coverage*Best alternative for USB Tethering (phone's battery may get damaged for long term run with Tethering)Cons:*Internet connection speed varies at times, also depends on your modem or cellular connection*Issues occur while installing via CD, which is available along with the product( Installation driver can be downloaded from TP-Link site)*Needed to reconnect the adapter every time system is turned ON*Will not work if your software has some issues, so encountered any just update your system(worked for me)*Support Center is worse, calls are unattended most of the times or just visit nearby storeConclusion:Brought this @499/-Ideal for users who don't need very high speed internet usage,a good alternative for USB Tethering and are on Budge(1080p Youtube videos can be easily played with this without any interruptions),wifi connectivity is a great good result for me. however, some jitter problems did exist.,This is perfect device to connect wifi. Go for it.,This wifi adopter is good working,(Pictures attached)Size/Design:  ★ ★ ★ ★ ★Build Quality: ★ ★ ★ ★ ★Packaging:  ★ ★ ★ ★ ★Software:  ★ ★ ★ ★Speed:  ★ ★ ★ ★ ★Connectivity:  ★ ★ ★ ★ ★Experience:  ★ ★ ★ ★ ★Warranty:  ★ ★ ★ ★ ★Size and Design:The best part about this is that it is very compact in size and very sober and elegant in design. This is a big plus as it is easy plug in and use, add to it the good sober design.Build Quality:The build quality is undoubtedly superb. Just no qualms about that, at all. When held, it doesnt give off that cheap and flimsy product-like feeling. It is good sturdy with its build quality.Packaging:This part is also a big plus as the item was well cushioned and packaged with all the necessary items that ensured that no damage could have been caused to the product during transportation. This ensures that I as a customer have received something not damaged internally already.Software:This is actually good but not great part with the product.The good part is that a CD has been provided with it along with a manual.The not great part is that NO LINUX SUPPORT has been given from Version 2 onwards. This is bad, really.Speed:It easily supports net speeds upto 300 Mbps. Practically speaking, I have tested it at my home and it easily supports net speed of over 100-150 Mbps without a sigh.On testing I found that it did connect to 5GHz network, without any issue.Connectivity:Please mark its not feet its metres. Multiply metres x 3 to get the distance in feet.It easily connects to my laptop or phone from 7 metres across one room. So thats 21 feet. I mean even our old bluetooth used to connect to about 15 ft.So 20-25 feet is not at all an issue with this. This is the big plus I found with the product.Experience:From this point of view, so far except the linux non-compatibility issue, I found no other flaws with this product.So overall its a great product.Warranty:Its 3 years so I am assured that atleast for 3 years I am tension-free and not just 1 year, contrary to most electronic items today that only provide 1 year warranty with their items.,Best adapter I have bought ever. Works nicely seemless connectivity | https://m.media-amazon.com/images/W/WEBP_402378-T2/images/I/31e6ElWRymL._SX300_SY300_QL70_FMwebp_.jpg | https://www.amazon.in/TP-Link-TL-WN725N-150Mbps-Wireless-Adapter/dp/B008IFXQFU/ref=sr_1_10?qid=1672909124&s=electronics&sr=1-10     |\n",
            "| B082LZGK39   | Ambrane Unbreakable 60W / 3A Fast Charging 1.5m Braided Micro USB Cable for Smartphones, Tablets, Laptops & Other Micro USB Devices, 480Mbps Data Sync, Quick Charge 3.0 (RCM15, Black)                 | Computers&Accessories|Accessories&Peripherals|Cables&Accessories|Cables|USBCables | ₹199               | ₹299           | 33%                   | 4        | 43,994         | Universal Compatibility – It is compatible with all Micro USB enabled devices, be it an android smartphone, tablet, PC peripheral or any other micro USB compatible device|Unbreakable – Made of special braided outer with rugged interior bindings, it is ultra-durable cable that won’t be affected by daily rough usage|Ideal Length – It has ideal length of 1.5 meters which is neither too short like your typical 1meter cable or too long like a 2meters cable|Supports maximum 3A fast charging and 480 Mbps data transfer speed|6 Months manufacturer warranty from the date of purchase.                                                                                                                                                                                                                                                                                                                                                                                             | AECPFYFQVRUWC3KGNLJIOREFP5LQ,AGYYVPDD7YG7FYNBXNGXZJT525AQ,AHONIZU3ICIEHQIGQ6R2VFRSBXOQ,AFPHD2CRPDZMWMBL7WXRSVYWS5JA,AEZ346GX3HJ4O4XNRPHCNHXQURMQ,AEPSWFPNECKO34PUC7I56ITGXR6Q,AHWVEHR5DYLVFTO2KF3IZATFQSWQ,AH4QT33M55677I7ISQOAKEQWACYQ | ArdKn,Nirbhay kumar,Sagar Viswanathan,Asp,Placeholder,BharanI,sonia,Niam                                 | RGIQEG07R9HS2,R1SMWZQ86XIN8U,R2J3Y1WL29GWDE,RYGGS0M09S3KY,R17KQRUTAN5DKS,R3AAQGS6HP2QUK,R1HDNOG6TO2CCA,R3PHKXYA5AFEOU   | A Good Braided Cable for Your Type C Device,Good quality product from ambrane,Super cable,As,Good quality,Good product,its good,Good quality for the price but one issue with my unit                                                                                                   | I ordered this cable to connect my phone to Android Auto of car. The cable is really strong and the connection ports are really well made. I already has a Micro USB cable from Ambrane and it's still in good shape. I connected my phone to the car using the cable and it got connected well and no issues. I also connected it to the charging port and yes it has Fast Charging support.,It quality is good at this price and the main thing is that i didn't ever thought that this cable will be so long it's good one and charging power is too good and also supports fast charging,Value for money, with extra length👍,Good, working fine,Product quality is good,Good,very good,Bought for my daughter's old phone.Brand new cable it was not charging, I already repacked and requested for replacement.I checked again, and there was some green colour paste/fungus inside the micro USB connector. I cleaned with an alcoholic and starts working again.Checked the ampere of charging speed got around 1400ma-1500ma - not bad, came with braided 1.5m long cable, pretty impressive for the price.Can't blame the manufacturer.But quality issues by the distributor, they might have stored in very humid place.                                                                                                                                                                                                                                                                                                                                                                                                                                                                                                                                                                                                                                                                                                                                                                                                                                                                                                                                                                                                                                                                                                                                                                                                                                                                                                                                                                                                                                                                                                                                                                                                                                                                                                                                                                                                                                                                                                                                                                                                                                                                                                                                                                                                                                                                                                                                                                                                                                                                                                                                                                                                                                                                                                                                                                                                                                                                                                                   | https://m.media-amazon.com/images/W/WEBP_402378-T2/images/I/31kj3q4SepL._SY445_SX342_QL70_FMwebp_.jpg | https://www.amazon.in/Ambrane-Unbreakable-Charging-Braided-Android/dp/B082LZGK39/ref=sr_1_11?qid=1672909124&s=electronics&sr=1-11   |\n",
            "| B08CF3D7QR   | Portronics Konnect L POR-1081 Fast Charging 3A Type-C Cable 1.2Meter with Charge & Sync Function for All Type-C Devices (Grey)                                                                          | Computers&Accessories|Accessories&Peripherals|Cables&Accessories|Cables|USBCables | ₹154               | ₹339           | 55%                   | 4.3      | 13,391         | [CHARGE & SYNC FUNCTION]- This cable comes with charging & Data sync function for smartphones|[HIGH QUALITY MATERIAL]- TPE + Nylon Material to make sure that the life of the cable is enhanced significantly|[LONG CORD]- The Cable is extra thick 1.2 meter long, optimized for an easy use for your comfort at home or office|[MORE DURABLE]-This cable is unique interms of design and multi-use and is positioned to provide the best comfort and performance while using                                                                                                                                                                                                                                                                                                                                                                                                                                                                                                                   | AGYLPKPZHVYKKZHOTHCTYVEDAJ4A,AGTTU64JMX722LYCN3SOWLFPKPAQ,AFWD4ZTM7473CDWARHCDQKK73MTA,AEXCQM3FDLX3YL3UJWWUIAIUJT4A,AHUKYUWRUVRTB3IQGISXWTSPAWLQ,AFWW4UEXAJH7EAB5LTMKMSGLUN2Q,AFM5JL37WY7G6MLQUI4WAXUJME7Q,AFECO24WYFOU2KL7C3DMHTEHRU7Q | Tanya,Anu,Akshay,Vishal Sagara Shetty,Swatilekha Sarkar,Jithindas,IBRAHIM S,Sundaram J.                  | R11MQS7WD9C3I0,R2AKH69XQY8BY4,R8GBOLYUN5UP6,R1AYVO4R25KJTA,R1HT6XM787V7FV,R339XJL1GMKHA3,R175VFSB2A32HG,R35T9LXYBSP09G  | Good for fast charge but not for data transfer,Good cable compares to local the brand.,good but doesnt last,Good product,Good Product,Good and worth it,very good material quality charging speed is 15 watt,Not a fast charger                                                         | The cable is efficient in fast charging but in quick data transfer. Overall fine.,I like the usb c  L shape. Nylon Shielded core wire it improves the life of the cable.,i think i buy these every 6 months or so. fast charging stops working after a while. probbly something to do with the cable design. the cable gets twisted over time and I suspect that breaks the high capacity wires inside. but i keep buying it because there arent too many options in an L shaped design,Good and durable product. Sometime the charges doesn't work on few adapters. there might be few cut off or something but works fine on apple adapter, Car charger, USB,The product is really good at affordable price.,Good and fast charging, and value for money,பொருள் உடைய கடினத்தன்மையின் நன்றாக உள்ளது சார்ஜ் ஏறும் வேகம் 15wat,Not a fast charger.  Very slow charging with 65w.  L-shape pin is very useful.                                                                                                                                                                                                                                                                                                                                                                                                                                                                                                                                                                                                                                                                                                                                                                                                                                                                                                                                                                                                                                                                                                                                                                                                                                                                                                                                                                                                                                                                                                                                                                                                                                                                                                                                                                                                                                                                                                                                                                                                                                                                                                                                                                                                                                                                                                                                                                                                                                                                                                                                                                                                                                                                                                                                                                                                                                                                                                                                                                                                                                                                                                                                                                                                                                                               | https://m.media-amazon.com/images/I/31dJ+lXJq3L._SY300_SX300_.jpg                                     | https://www.amazon.in/Portronics-POR-1081-Charging-1-2Meter-Function/dp/B08CF3D7QR/ref=sr_1_12?qid=1672909124&s=electronics&sr=1-12 |\n",
            "| B0789LZTCJ   | boAt Rugged v3 Extra Tough Unbreakable Braided Micro USB Cable 1.5 Meter (Black)                                                                                                                        | Computers&Accessories|Accessories&Peripherals|Cables&Accessories|Cables|USBCables | ₹299               | ₹799           | 63%                   | 4.2      | 94,363         | The boAt rugged cable features our special toughest polyethylene braided jacket and this unique jacket provides greater protection than anything else you have seen in its class. Round Cable|Extra tough polyethylene terephthalate cable skin ensures 10000 plus bend lifespan, stress and stretch resistance|The boAt rugged Micro USB cable is compatible with most android smartphones, windows phone, tablets, PC peripherals and other micro USB compatible devices|2.4A rapid charge, fast data transmission and rapid speed to sync your device at the speed up to 480mbps|boAt rugged micro USB cable offers a perfect 1.5 meters in length, optimized for an easy use for your comfort at home or office|2 years warranty from the date of purchase                                                                                                                                                                                                                                   | AEWAZDZZJLQUYVOVGBEUKSLXHQ5A,AG5HTSFRRE6NL3M5SGCUQBP7YSCA,AH725ST5NW2Y4JZPKUNTIJCUK2BA,AHV3TXIFCJPMS4D5JATCEUR266MQ,AGWIGDEMFIIUAOXYY2QATNBSUGHA,AFSTSLQUV4EVEXWKBOLEFHL2H5YQ,AGAKDNBHY2FKX7I4ACRGILU7QL7A,AFNWJUWJRHCC6HN52KMG5AKZY37Q | Omkar dhale,JD,HEMALATHA,Ajwadh a.,amar singh chouhan,Ravi Siddan,Himanshu Goel,Udaykumar                | R3EEUZKKK9J36I,R3HJVYCLYOY554,REDECAZ7AMPQC,R1CLH2ULIVG5U3,R2DMKIBGFKBD6R,RC89B5IAJUTR5,R3B3DDON5FH8DS,R13WAEJDI5RS36   | Good product,Good one,Nice,Really nice product,Very first time change,Good,Fine product but could be better,Very nice it's charging like jet                                                                                                                                            | Good product,long wire,Charges good,Nice,I bought this cable for Rs.339 worthy product for this price, i tested it in various charger adapters 33w and 18w it supports fast charging as well.,Good,Ok,I had got this at good price on sale on Amazon and product is useful with warranty but for warranty you need to go very far not practical for such a cost and mine micro to type c connector stopped working after few days only.,I like this product                                                                                                                                                                                                                                                                                                                                                                                                                                                                                                                                                                                                                                                                                                                                                                                                                                                                                                                                                                                                                                                                                                                                                                                                                                                                                                                                                                                                                                                                                                                                                                                                                                                                                                                                                                                                                                                                                                                                                                                                                                                                                                                                                                                                                                                                                                                                                                                                                                                                                                                                                                                                                                                                                                                                                                                                                                                                                                                                                                                                                                                                                                                                                                                                                                                                                                                                                                                                                                                                                                                                                                                                                                                                                           | https://m.media-amazon.com/images/I/41SDfuK7L2L._SX300_SY300_QL70_FMwebp_.jpg                         | https://www.amazon.in/Rugged-Extra-Tough-Unbreakable-Braided/dp/B0789LZTCJ/ref=sr_1_13?qid=1672909124&s=electronics&sr=1-13         |\n",
            "| category                                                                                   | rating   |\n",
            "|:-------------------------------------------------------------------------------------------|:---------|\n",
            "| Computers&Accessories|Tablets                                                              | 4.6      |\n",
            "| Electronics|HomeAudio|MediaStreamingDevices|StreamingClients                               | 4.5      |\n",
            "| Home&Kitchen|Kitchen&HomeAppliances|SmallKitchenAppliances|SmallApplianceParts&Accessories | 4.5      |\n",
            "| Electronics|Cameras&Photography|Accessories|Film                                           | 4.5      |\n",
            "| OfficeProducts|OfficeElectronics|Calculators|Basic                                         | 4.5      |\n"
          ]
        }
      ]
    },
    {
      "cell_type": "markdown",
      "source": [
        " 10. Identify any potential areas for improvement or optimization based on the data analysis?"
      ],
      "metadata": {
        "id": "a8XFWWtJxGEt"
      }
    },
    {
      "cell_type": "code",
      "source": [
        "import pandas as pd\n",
        "\n",
        "pd.set_option('display.max_rows', None)\n",
        "pd.set_option('display.max_columns', None)\n",
        "\n",
        "# Read the CSV file into a DataFrame\n",
        "df = pd.read_csv('amazon.csv')\n",
        "\n",
        "# Display the first 5 rows\n",
        "print(df.head().to_markdown(index=False, numalign=\"left\", stralign=\"left\"))\n",
        "\n",
        "# Print the column names and their data types\n",
        "print(df.info())\n",
        "# Get all unique values from `category`\n",
        "unique_values = df['category'].unique()\n",
        "\n",
        "# Check the number of unique values in `category`\n",
        "if len(unique_values) > 50:\n",
        "  # If there are too many unique values, sample the top 50\n",
        "  top_occurring_values = df['category'].value_counts().head(50).index.tolist()\n",
        "  print(top_occurring_values)\n",
        "else:\n",
        "  # Otherwise print all unique valus in `category`\n",
        "  print(unique_values)\n",
        "# Drop rows with null values in `category`\n",
        "df.dropna(subset=['category'], inplace=True)\n",
        "# 1. Clean the 'rating' column, including whitespace:\n",
        "df['rating'] = df['rating'].astype(str).str.replace(\"|\", \"\", regex=False)  # Remove \"|\"\n",
        "df['rating'] = df['rating'].str.strip()  # Remove leading/trailing whitespace\n",
        "df['rating'] = pd.to_numeric(df['rating'], errors='coerce')  # Convert to numeric\n",
        "# Group by `category`, count the number of rows, and calculate average `rating`\n",
        "aggregated_df = df.groupby('category').agg(count=('product_id', 'count'), average_rating=('rating', 'mean')).reset_index()\n",
        "\n",
        "# Sort in descending order by count\n",
        "aggregated_df.sort_values(by='count', ascending=False, inplace=True)\n",
        "\n",
        "# Display the first 5 rows\n",
        "print(aggregated_df.head().to_markdown(index=False, numalign=\"left\", stralign=\"left\"))\n",
        "\n",
        "# Print the column names and their data types\n",
        "print(aggregated_df.info())\n",
        "import numpy as np\n",
        "\n",
        "# Get all unique non-numeric values from `rating`\n",
        "non_numeric_rating_value = df[pd.to_numeric(df['rating'], errors='coerce').isna()]['rating'].unique()\n",
        "\n",
        "if (len(non_numeric_rating_value) > 20):\n",
        "  # Sample 20 of them if there are too many unique values\n",
        "  print(np.random.choice(non_numeric_rating_value, 20, replace=False))\n",
        "\n",
        "else:\n",
        "  # Otherwise print all unique non-numeric values from `rating`\n",
        "  print(non_numeric_rating_value)\n",
        "# Remove \"|\" from `rating`\n",
        "df['rating'] = df['rating'].astype(str).str.replace(\"|\", \"\", regex=False)\n",
        "\n",
        "# Convert `rating` to numeric\n",
        "df['rating'] = pd.to_numeric(df['rating'], errors='coerce')\n",
        "\n",
        "# Group by `category`, count the number of rows, and calculate average `rating`\n",
        "aggregated_df = df.groupby('category').agg(count=('product_id', 'count'), average_rating=('rating', 'mean')).reset_index()\n",
        "\n",
        "# Sort in descending order by count\n",
        "aggregated_df.sort_values(by='count', ascending=False, inplace=True)\n",
        "\n",
        "# Display the first 5 rows\n",
        "print(aggregated_df.head().to_markdown(index=False, numalign=\"left\", stralign=\"left\"))\n",
        "\n",
        "# Print the column names and their data types\n",
        "print(aggregated_df.info())\n",
        "import altair as alt\n",
        "\n",
        "# Create a bar chart for the top 10 categories by count\n",
        "chart = alt.Chart(aggregated_df.head(10)).mark_bar().encode(\n",
        "    x=alt.X('category', axis=alt.Axis(title='Category', labelAngle=-45)),\n",
        "    y=alt.Y('count', axis=alt.Axis(title='Number of Products')),\n",
        "    tooltip=['category', 'count']\n",
        ").properties(\n",
        "    title='Top 10 Categories by Number of Products'\n",
        ")\n",
        "\n",
        "# Save the chart\n",
        "chart.save('top_10_categories_by_products.json')"
      ],
      "metadata": {
        "colab": {
          "base_uri": "https://localhost:8080/"
        },
        "id": "5EgkrAuAxMOL",
        "outputId": "7eda9001-875c-41ae-82f2-5d5076f05ecd"
      },
      "execution_count": 37,
      "outputs": [
        {
          "output_type": "stream",
          "name": "stdout",
          "text": [
            "| product_id   | product_name                                                                                                                                                                                            | category                                                                          | discounted_price   | actual_price   | discount_percentage   | rating   | rating_count   | about_product                                                                                                                                                                                                                                                                                                                                                                                                                                                                                                                                                                                                                                                                                                                                                                                                                                                                                                                                                                                                                                                                                                                                 | user_id                                                                                                                                                                                                                                 | user_name                                                                                 | review_id                                                                                                              | review_title                                                                                                                                                                          | review_content                                                                                                                                                                                                                                                                                                                                                                                                                                                                                                                                                                                                                                                                                                                                                                                                                                                                                                                                                                                                                                                                                                                                                                                                                                                                                                                                                                                                                                                                                                                                                                                                                                                                                                                                                                                                                                                                                                                                                                                                                                                                                                                                                                                                                                                                                                                                                                                                                                                                                                                                      | img_link                                                                                              | product_link                                                                                                                     |\n",
            "|:-------------|:--------------------------------------------------------------------------------------------------------------------------------------------------------------------------------------------------------|:----------------------------------------------------------------------------------|:-------------------|:---------------|:----------------------|:---------|:---------------|:----------------------------------------------------------------------------------------------------------------------------------------------------------------------------------------------------------------------------------------------------------------------------------------------------------------------------------------------------------------------------------------------------------------------------------------------------------------------------------------------------------------------------------------------------------------------------------------------------------------------------------------------------------------------------------------------------------------------------------------------------------------------------------------------------------------------------------------------------------------------------------------------------------------------------------------------------------------------------------------------------------------------------------------------------------------------------------------------------------------------------------------------|:----------------------------------------------------------------------------------------------------------------------------------------------------------------------------------------------------------------------------------------|:------------------------------------------------------------------------------------------|:-----------------------------------------------------------------------------------------------------------------------|:--------------------------------------------------------------------------------------------------------------------------------------------------------------------------------------|:----------------------------------------------------------------------------------------------------------------------------------------------------------------------------------------------------------------------------------------------------------------------------------------------------------------------------------------------------------------------------------------------------------------------------------------------------------------------------------------------------------------------------------------------------------------------------------------------------------------------------------------------------------------------------------------------------------------------------------------------------------------------------------------------------------------------------------------------------------------------------------------------------------------------------------------------------------------------------------------------------------------------------------------------------------------------------------------------------------------------------------------------------------------------------------------------------------------------------------------------------------------------------------------------------------------------------------------------------------------------------------------------------------------------------------------------------------------------------------------------------------------------------------------------------------------------------------------------------------------------------------------------------------------------------------------------------------------------------------------------------------------------------------------------------------------------------------------------------------------------------------------------------------------------------------------------------------------------------------------------------------------------------------------------------------------------------------------------------------------------------------------------------------------------------------------------------------------------------------------------------------------------------------------------------------------------------------------------------------------------------------------------------------------------------------------------------------------------------------------------------------------------------------------------------|:------------------------------------------------------------------------------------------------------|:---------------------------------------------------------------------------------------------------------------------------------|\n",
            "| B07JW9H4J1   | Wayona Nylon Braided USB to Lightning Fast Charging and Data Sync Cable Compatible for iPhone 13, 12,11, X, 8, 7, 6, 5, iPad Air, Pro, Mini (3 FT Pack of 1, Grey)                                      | Computers&Accessories|Accessories&Peripherals|Cables&Accessories|Cables|USBCables | ₹399               | ₹1,099         | 64%                   | 4.2      | 24,269         | High Compatibility : Compatible With iPhone 12, 11, X/XsMax/Xr ,iPhone 8/8 Plus,iPhone 7/7 Plus,iPhone 6s/6s Plus,iPhone 6/6 Plus,iPhone 5/5s/5c/se,iPad Pro,iPad Air 1/2,iPad mini 1/2/3,iPod nano7,iPod touch and more apple devices.|Fast Charge&Data Sync : It can charge and sync simultaneously at a rapid speed, Compatible with any charging adaptor, multi-port charging station or power bank.|Durability : Durable nylon braided design with premium aluminum housing and toughened nylon fiber wound tightly around the cord lending it superior durability and adding a bit to its flexibility.|High Security Level : It is designed to fully protect your device from damaging excessive current.Copper core thick+Multilayer shielding, Anti-interference, Protective circuit equipment.|WARRANTY: 12 months warranty and friendly customer services, ensures the long-time enjoyment of your purchase. If you meet any question or problem, please don't hesitate to contact us.                                                                                                                                              | AG3D6O4STAQKAY2UVGEUV46KN35Q,AHMY5CWJMMK5BJRBBSNLYT3ONILA,AHCTC6ULH4XB6YHDY6PCH2R772LQ,AGYHHIERNXKA6P5T7CZLXKVPT7IQ,AG4OGOFWXJZTQ2HKYIOCOY3KXF2Q,AENGU523SXMOS7JPDTW52PNNVWGQ,AEQJHCVTNINBS4FKTBGQRQTGTE5Q,AFC3FFC5PKFF5PMA52S3VCHOZ5FQ | Manav,Adarsh gupta,Sundeep,S.Sayeed Ahmed,jaspreet singh,Khaja moin,Anand,S.ARUMUGAM      | R3HXWT0LRP0NMF,R2AJM3LFTLZHFO,R6AQJGUP6P86,R1KD19VHEDV0OR,R3C02RMYQMK6FC,R39GQRVBUZBWGY,R2K9EDOE15QIRJ,R3OI7YT648TL8I  | Satisfied,Charging is really fast,Value for money,Product review,Good quality,Good product,Good Product,As of now seems good                                                          | Looks durable Charging is fine tooNo complains,Charging is really fast, good product.,Till now satisfied with the quality.,This is a good product . The charging speed is slower than the original iPhone cable,Good quality, would recommend,https://m.media-amazon.com/images/W/WEBP_402378-T1/images/I/81---F1ZgHL._SY88.jpg,Product had worked well till date and was having no issue.Cable is also sturdy enough...Have asked for replacement and company is doing the same...,Value for money                                                                                                                                                                                                                                                                                                                                                                                                                                                                                                                                                                                                                                                                                                                                                                                                                                                                                                                                                                                                                                                                                                                                                                                                                                                                                                                                                                                                                                                                                                                                                                                                                                                                                                                                                                                                                                                                                                                                                                                                                                                 | https://m.media-amazon.com/images/W/WEBP_402378-T1/images/I/51UsScvHQNL._SX300_SY300_QL70_FMwebp_.jpg | https://www.amazon.in/Wayona-Braided-WN3LG1-Syncing-Charging/dp/B07JW9H4J1/ref=sr_1_1?qid=1672909124&s=electronics&sr=1-1        |\n",
            "| B098NS6PVG   | Ambrane Unbreakable 60W / 3A Fast Charging 1.5m Braided Type C Cable for Smartphones, Tablets, Laptops & other Type C devices, PD Technology, 480Mbps Data Sync, Quick Charge 3.0 (RCT15A, Black)       | Computers&Accessories|Accessories&Peripherals|Cables&Accessories|Cables|USBCables | ₹199               | ₹349           | 43%                   | 4        | 43,994         | Compatible with all Type C enabled devices, be it an android smartphone (Mi, Samsung, Oppo, Vivo, Realme, OnePlus, etc), tablet, laptop (Macbook, Chromebook, etc)|Supports Quick Charging (2.0/3.0)|Unbreakable – Made of special braided outer with rugged interior bindings, it is ultra-durable cable that won’t be affected by daily rough usage|Ideal Length – It has ideal length of 1.5 meters which is neither too short like your typical 1meter cable or too long like a 2meters cable|Supports maximum 3A fast charging and 480 Mbps data transfer speed|6 months manufacturer warranty from the date of purchase                                                                                                                                                                                                                                                                                                                                                                                                                                                                                                                 | AECPFYFQVRUWC3KGNLJIOREFP5LQ,AGYYVPDD7YG7FYNBXNGXZJT525AQ,AHONIZU3ICIEHQIGQ6R2VFRSBXOQ,AFPHD2CRPDZMWMBL7WXRSVYWS5JA,AEZ346GX3HJ4O4XNRPHCNHXQURMQ,AEPSWFPNECKO34PUC7I56ITGXR6Q,AHWVEHR5DYLVFTO2KF3IZATFQSWQ,AH4QT33M55677I7ISQOAKEQWACYQ | ArdKn,Nirbhay kumar,Sagar Viswanathan,Asp,Placeholder,BharanI,sonia,Niam                  | RGIQEG07R9HS2,R1SMWZQ86XIN8U,R2J3Y1WL29GWDE,RYGGS0M09S3KY,R17KQRUTAN5DKS,R3AAQGS6HP2QUK,R1HDNOG6TO2CCA,R3PHKXYA5AFEOU  | A Good Braided Cable for Your Type C Device,Good quality product from ambrane,Super cable,As,Good quality,Good product,its good,Good quality for the price but one issue with my unit | I ordered this cable to connect my phone to Android Auto of car. The cable is really strong and the connection ports are really well made. I already has a Micro USB cable from Ambrane and it's still in good shape. I connected my phone to the car using the cable and it got connected well and no issues. I also connected it to the charging port and yes it has Fast Charging support.,It quality is good at this price and the main thing is that i didn't ever thought that this cable will be so long it's good one and charging power is too good and also supports fast charging,Value for money, with extra length👍,Good, working fine,Product quality is good,Good,very good,Bought for my daughter's old phone.Brand new cable it was not charging, I already repacked and requested for replacement.I checked again, and there was some green colour paste/fungus inside the micro USB connector. I cleaned with an alcoholic and starts working again.Checked the ampere of charging speed got around 1400ma-1500ma - not bad, came with braided 1.5m long cable, pretty impressive for the price.Can't blame the manufacturer.But quality issues by the distributor, they might have stored in very humid place.                                                                                                                                                                                                                                                                                                                                                                                                                                                                                                                                                                                                                                                                                                                                                                                                                                                                                                                                                                                                                                                                                                                                                                                                                                                                                                                 | https://m.media-amazon.com/images/W/WEBP_402378-T2/images/I/31zOsqQOAOL._SY445_SX342_QL70_FMwebp_.jpg | https://www.amazon.in/Ambrane-Unbreakable-Charging-Braided-Cable/dp/B098NS6PVG/ref=sr_1_2?qid=1672909124&s=electronics&sr=1-2    |\n",
            "| B096MSW6CT   | Sounce Fast Phone Charging Cable & Data Sync USB Cable Compatible for iPhone 13, 12,11, X, 8, 7, 6, 5, iPad Air, Pro, Mini & iOS Devices                                                                | Computers&Accessories|Accessories&Peripherals|Cables&Accessories|Cables|USBCables | ₹199               | ₹1,899         | 90%                   | 3.9      | 7,928          | 【 Fast Charger& Data Sync】-With built-in safety proctections and four-core copper wires promote maximum signal quality and strength and enhance charging & data transfer speed with up to 480 mb/s transferring speed.|【 Compatibility】-Compatible with iPhone 13, 12,11, X, 8, 7, 6, 5, iPad Air, Pro, Mini & iOS devices.|【 Sturdy & Durable】-The jacket and enforced connector made of TPE and premium copper, are resistant to repeatedly bending and coiling.|【 Ultra High Quality】: According to the experimental results, the fishbone design can accept at least 20,000 bending and insertion tests for extra protection and durability. Upgraded 3D aluminum connector and exclusive laser welding technology, which to ensure the metal part won't break and also have a tighter connection which fits well even with a protective case on and will never loose connection.|【 Good After Sales Service】-Our friendly and reliable customer service will respond to you within 24 hours ! you can purchase with confidence,and every sale includes a 365-day worry-free Service to prove the importance we set on quality. | AGU3BBQ2V2DDAMOAKGFAWDDQ6QHA,AESFLDV2PT363T2AQLWQOWZ4N3OA,AHTPQRIMGUD4BYR5YIHBH3CCGEFQ,AEUVWXYP5LT7PZLLZENEO2NODPBQ,AHC7MPW55DOO6WNCOQVA2VHOD26A,AFDI6FRPFBTNBG7BAEB7JDJSMKDQ,AFQKCEEEKXCOHTDG4WUN3XPPHJQQ,AHKUUFNMBZIDLSSPA4FEHIO2EC7Q | Kunal,Himanshu,viswanath,sai niharka,saqib malik,Aashiq,Ramu Challa,Sanjay gupta          | R3J3EQQ9TZI5ZJ,R3E7WBGK7ID0KV,RWU79XKQ6I1QF,R25X4TBMPY91LX,R27OK7G99VK0TR,R207CYDCHJJTCJ,R3PCU8XMU173BT,R1IMONDOWRNU5V | Good speed for earlier versions,Good Product,Working good,Good for the price,Good,Worth for money,Working nice,it's a really nice product                                             | Not quite durable and sturdy,https://m.media-amazon.com/images/W/WEBP_402378-T1/images/I/71rIggrbUCL._SY88.jpg,Working good,https://m.media-amazon.com/images/W/WEBP_402378-T1/images/I/61bKp9YO6wL._SY88.jpg,Product,Very nice product,Working well,It's a really nice product                                                                                                                                                                                                                                                                                                                                                                                                                                                                                                                                                                                                                                                                                                                                                                                                                                                                                                                                                                                                                                                                                                                                                                                                                                                                                                                                                                                                                                                                                                                                                                                                                                                                                                                                                                                                                                                                                                                                                                                                                                                                                                                                                                                                                                                                     | https://m.media-amazon.com/images/W/WEBP_402378-T1/images/I/31IvNJZnmdL._SY445_SX342_QL70_FMwebp_.jpg | https://www.amazon.in/Sounce-iPhone-Charging-Compatible-Devices/dp/B096MSW6CT/ref=sr_1_3?qid=1672909124&s=electronics&sr=1-3     |\n",
            "| B08HDJ86NZ   | boAt Deuce USB 300 2 in 1 Type-C & Micro USB Stress Resistant, Tangle-Free, Sturdy Cable with 3A Fast Charging & 480mbps Data Transmission, 10000+ Bends Lifespan and Extended 1.5m Length(Martian Red) | Computers&Accessories|Accessories&Peripherals|Cables&Accessories|Cables|USBCables | ₹329               | ₹699           | 53%                   | 4.2      | 94,363         | The boAt Deuce USB 300 2 in 1 cable is compatible with smartphones, tablets, PC peripherals, Bluetooth speakers, power banks and all other devices with Type-C as well as Micro USB port|It ensures 3A fast charging and data transmissions with rapid sync at 480 mbps|The premium Nylon braided skin makes it sturdy and invincible against external damage|Its Aluminium alloy shell housing makes it last longer with 10000+ Bends Lifespan with extended frame protection for strain relief|The resilient and flexible design offers a tangle free experience seamlessly|Deuce USB 300 cable offers a perfect 1.5 meters in length for smooth & hassle-free user experience|2 years warranty from the date of purchase                                                                                                                                                                                                                                                                                                                                                                                                                   | AEWAZDZZJLQUYVOVGBEUKSLXHQ5A,AG5HTSFRRE6NL3M5SGCUQBP7YSCA,AH725ST5NW2Y4JZPKUNTIJCUK2BA,AHV3TXIFCJPMS4D5JATCEUR266MQ,AGWIGDEMFIIUAOXYY2QATNBSUGHA,AFSTSLQUV4EVEXWKBOLEFHL2H5YQ,AGAKDNBHY2FKX7I4ACRGILU7QL7A,AFNWJUWJRHCC6HN52KMG5AKZY37Q | Omkar dhale,JD,HEMALATHA,Ajwadh a.,amar singh chouhan,Ravi Siddan,Himanshu Goel,Udaykumar | R3EEUZKKK9J36I,R3HJVYCLYOY554,REDECAZ7AMPQC,R1CLH2ULIVG5U3,R2DMKIBGFKBD6R,RC89B5IAJUTR5,R3B3DDON5FH8DS,R13WAEJDI5RS36  | Good product,Good one,Nice,Really nice product,Very first time change,Good,Fine product but could be better,Very nice it's charging like jet                                          | Good product,long wire,Charges good,Nice,I bought this cable for Rs.339 worthy product for this price, i tested it in various charger adapters 33w and 18w it supports fast charging as well.,Good,Ok,I had got this at good price on sale on Amazon and product is useful with warranty but for warranty you need to go very far not practical for such a cost and mine micro to type c connector stopped working after few days only.,I like this product                                                                                                                                                                                                                                                                                                                                                                                                                                                                                                                                                                                                                                                                                                                                                                                                                                                                                                                                                                                                                                                                                                                                                                                                                                                                                                                                                                                                                                                                                                                                                                                                                                                                                                                                                                                                                                                                                                                                                                                                                                                                                         | https://m.media-amazon.com/images/I/41V5FtEWPkL._SX300_SY300_QL70_FMwebp_.jpg                         | https://www.amazon.in/Deuce-300-Resistant-Tangle-Free-Transmission/dp/B08HDJ86NZ/ref=sr_1_4?qid=1672909124&s=electronics&sr=1-4  |\n",
            "| B08CF3B7N1   | Portronics Konnect L 1.2M Fast Charging 3A 8 Pin USB Cable with Charge & Sync Function for iPhone, iPad (Grey)                                                                                          | Computers&Accessories|Accessories&Peripherals|Cables&Accessories|Cables|USBCables | ₹154               | ₹399           | 61%                   | 4.2      | 16,905         | [CHARGE & SYNC FUNCTION]- This cable comes with charging & Data sync function|[HIGH QUALITY MATERIAL]- TPE + Nylon Material to make sure that the life of the cable is enhanced significantly|[LONG CORD]- The Cable is extra thick 1.2 meter long, optimized for an easy use for your comfort at home or office|[MORE DURABLE]-This cable is unique interms of design and multi-use and is positioned to provide the best comfort and performance while using|[UNIVERSAL COMPATIBILITY]- Compatible with all devices like iPhone XS, X, XR, 8, 7, 6S, 6, 5S, iPad Pro, iPad mini and iPad Air                                                                                                                                                                                                                                                                                                                                                                                                                                                                                                                                                | AE3Q6KSUK5P75D5HFYHCRAOLODSA,AFUGIFH5ZAFXRDSZHM4QB2KPKFUQ,AFK4NJOLFSJGWLOJIUIAROJF6YVA,AFUOTYRFUXVPEBGIXVZZ7DR3CZUA,AFDLRSXKDZ6U3U3KD46SQLFGZQRA,AH5VLM66SIK7J3IRG4NY7XVOQ55A,AE3MQNNHHLUHXURL5S7IAR7JTGNQ,AFSEOFZY67MYC7UAJU264Z5NFTLA | rahuls6099,Swasat Borah,Ajay Wadke,Pranali,RVK,Bhargav,Durai Vignesh,Amazon Customer      | R1BP4L2HH9TFUP,R16PVJEXKV6QZS,R2UPDB81N66T4P,R3KK4GT934ST3I,RCFHMWUSBIJO,RDO7DACXMAJ84,R3A6MEZL3LY66Z,R1ESIEKPGAYA29   | As good as original,Decent,Good one for secondary use,Best quality,GOOD,Amazing product at a mind blowing price!,Nice Quality,Good product                                            | Bought this instead of original apple, does the work for 150rs, not as fast as apple charger but its a good option if you want cheap and good product, bought it for iPad pro 10.5 and it's working flawlessly, build quality is ok, its not like i am gonna hang my clothes on it and i want a very strong cable, even a braided cable stop working after a year, i have used both Anker and Apple store strong braided cable they all stop working after a year so please don't buy high end cables just for that instead choose a this one and even if it's stops working withing a year you only loose 150rs compares to 2000rs.UPDATE------------------------------------pin has stopped charging from one side, now i have to slip the pin to charge from other side, but i will update and let know for how long does it work,,It’s good. Not sure about durability as the pin area feels a bit fragile,Does not support apple carplaySo was little disappointed about thatOther than that cable is made up of very good quality,Best to buy,100% NOT FATHFUL,Writing this review post 10 months and 3 orders of the same product.Honestly Portronics Konnect L lightning cable works like magic with the original Apple charging brick.Seeing the price of the cable I initially hesitated buying as it was as low as ₹99/- with the offers and so I wasn’t sure if it would work well with my iPhone 12 or whether it would impact my iPhone’s battery health because all the other lightning cable brands were costing over ₹350/- like Wayona, Amazon Basics, etc.Earlier I was using Wayona Brand lightning cable with eventually frayed and stopped working.Charging Speed:Charges my iPhone fast enough almost similar compared to the original cable level when used with 12W Original Apple power adapter.Quality and Durability:Great quality braided cable and doesn’t tangle easily and can withstand day-to-day usage.L-Shaped pin:This is very innovative by Portronics and it makes sure the cable doesn’t get damaged even if used while charging.CarPlay and Data Sync:Works smoothly with CarPlay and syncs data effortlessly.PS: I have used this cable only with the Original Apple Charging Brick and extremely satisfied with its performance.,Better than I expect the product I like that Quality and I plan to buy same type cable come with usb C to Lighting cable for emergency purpose that much I love this cable. Buy for this cable only emergency uses only since Good one,Good product and value for money | https://m.media-amazon.com/images/W/WEBP_402378-T2/images/I/31VzNhhqifL._SX300_SY300_QL70_FMwebp_.jpg | https://www.amazon.in/Portronics-Konnect-POR-1080-Charging-Function/dp/B08CF3B7N1/ref=sr_1_5?qid=1672909124&s=electronics&sr=1-5 |\n",
            "<class 'pandas.core.frame.DataFrame'>\n",
            "RangeIndex: 1465 entries, 0 to 1464\n",
            "Data columns (total 16 columns):\n",
            " #   Column               Non-Null Count  Dtype \n",
            "---  ------               --------------  ----- \n",
            " 0   product_id           1465 non-null   object\n",
            " 1   product_name         1465 non-null   object\n",
            " 2   category             1465 non-null   object\n",
            " 3   discounted_price     1465 non-null   object\n",
            " 4   actual_price         1465 non-null   object\n",
            " 5   discount_percentage  1465 non-null   object\n",
            " 6   rating               1465 non-null   object\n",
            " 7   rating_count         1463 non-null   object\n",
            " 8   about_product        1465 non-null   object\n",
            " 9   user_id              1465 non-null   object\n",
            " 10  user_name            1465 non-null   object\n",
            " 11  review_id            1465 non-null   object\n",
            " 12  review_title         1465 non-null   object\n",
            " 13  review_content       1465 non-null   object\n",
            " 14  img_link             1465 non-null   object\n",
            " 15  product_link         1465 non-null   object\n",
            "dtypes: object(16)\n",
            "memory usage: 183.2+ KB\n",
            "None\n",
            "['Computers&Accessories|Accessories&Peripherals|Cables&Accessories|Cables|USBCables', 'Electronics|WearableTechnology|SmartWatches', 'Electronics|Mobiles&Accessories|Smartphones&BasicMobiles|Smartphones', 'Electronics|HomeTheater,TV&Video|Televisions|SmartTelevisions', 'Electronics|Headphones,Earbuds&Accessories|Headphones|In-Ear', 'Electronics|HomeTheater,TV&Video|Accessories|RemoteControls', 'Home&Kitchen|Kitchen&HomeAppliances|SmallKitchenAppliances|MixerGrinders', 'Electronics|HomeTheater,TV&Video|Accessories|Cables|HDMICables', 'Home&Kitchen|Kitchen&HomeAppliances|Vacuum,Cleaning&Ironing|Irons,Steamers&Accessories|Irons|DryIrons', 'Computers&Accessories|Accessories&Peripherals|Keyboards,Mice&InputDevices|Mice', 'Home&Kitchen|Heating,Cooling&AirQuality|WaterHeaters&Geysers|InstantWaterHeaters', 'Home&Kitchen|Kitchen&HomeAppliances|Vacuum,Cleaning&Ironing|Irons,Steamers&Accessories|LintShavers', 'Home&Kitchen|Heating,Cooling&AirQuality|RoomHeaters|FanHeaters', 'Home&Kitchen|Heating,Cooling&AirQuality|RoomHeaters|ElectricHeaters', 'Home&Kitchen|Kitchen&HomeAppliances|SmallKitchenAppliances|HandBlenders', 'Home&Kitchen|Kitchen&HomeAppliances|SmallKitchenAppliances|Kettles&HotWaterDispensers|ElectricKettles', 'Computers&Accessories|NetworkingDevices|NetworkAdapters|WirelessUSBAdapters', 'Electronics|Mobiles&Accessories|MobileAccessories|Chargers|WallChargers', 'Computers&Accessories|Accessories&Peripherals|LaptopAccessories|Lapdesks', 'Home&Kitchen|HomeStorage&Organization|LaundryOrganization|LaundryBaskets', 'Home&Kitchen|Kitchen&HomeAppliances|SmallKitchenAppliances|Kettles&HotWaterDispensers|Kettle&ToasterSets', 'Electronics|Accessories|MemoryCards|MicroSD', 'Electronics|Mobiles&Accessories|MobileAccessories|Chargers|PowerBanks', 'Home&Kitchen|Heating,Cooling&AirQuality|WaterHeaters&Geysers|StorageWaterHeaters', 'Home&Kitchen|Kitchen&HomeAppliances|Vacuum,Cleaning&Ironing|Irons,Steamers&Accessories|Irons|SteamIrons', 'Home&Kitchen|Kitchen&HomeAppliances|WaterPurifiers&Accessories|WaterFilters&Purifiers', 'Home&Kitchen|Kitchen&HomeAppliances|SmallKitchenAppliances|JuicerMixerGrinders', 'Computers&Accessories|Accessories&Peripherals|Keyboards,Mice&InputDevices|GraphicTablets', 'Home&Kitchen|Kitchen&HomeAppliances|SmallKitchenAppliances|SandwichMakers', 'Home&Kitchen|Kitchen&HomeAppliances|SmallKitchenAppliances|EggBoilers', 'Home&Kitchen|Heating,Cooling&AirQuality|Fans|CeilingFans', 'Home&Kitchen|Kitchen&HomeAppliances|WaterPurifiers&Accessories|WaterPurifierAccessories', 'Computers&Accessories|ExternalDevices&DataStorage|PenDrives', 'Computers&Accessories|Accessories&Peripherals|Keyboards,Mice&InputDevices|Keyboard&MouseSets', 'Electronics|Mobiles&Accessories|MobileAccessories|Stands', 'Home&Kitchen|Kitchen&HomeAppliances|SmallKitchenAppliances|InductionCooktop', 'Home&Kitchen|Kitchen&HomeAppliances|SmallKitchenAppliances|DigitalKitchenScales', 'Electronics|Mobiles&Accessories|Smartphones&BasicMobiles|BasicMobiles', 'Computers&Accessories|NetworkingDevices|Routers', 'Home&Kitchen|Heating,Cooling&AirQuality|WaterHeaters&Geysers|ImmersionRods', 'Electronics|Mobiles&Accessories|MobileAccessories|StylusPens', 'Home&Kitchen|Kitchen&HomeAppliances|Vacuum,Cleaning&Ironing|Vacuums&FloorCare|Vacuums|HandheldVacuums', 'Electronics|Headphones,Earbuds&Accessories|Headphones|On-Ear', 'Computers&Accessories|Accessories&Peripherals|Keyboards,Mice&InputDevices|Keyboard&MiceAccessories|MousePads', 'Home&Kitchen|Kitchen&HomeAppliances|SmallKitchenAppliances|MiniFoodProcessors&Choppers', 'Home&Kitchen|Kitchen&HomeAppliances|SmallKitchenAppliances|VacuumSealers', 'Electronics|Mobiles&Accessories|MobileAccessories|Maintenance,Upkeep&Repairs|ScreenProtectors', 'OfficeProducts|OfficePaperProducts|Paper|Stationery|Notebooks,WritingPads&Diaries|CompositionNotebooks', 'Electronics|GeneralPurposeBatteries&BatteryChargers|DisposableBatteries', 'Computers&Accessories|Accessories&Peripherals|PCGamingPeripherals|GamingMice']\n",
            "| category                                                                          | count   | average_rating   |\n",
            "|:----------------------------------------------------------------------------------|:--------|:-----------------|\n",
            "| Computers&Accessories|Accessories&Peripherals|Cables&Accessories|Cables|USBCables | 233     | 4.15193          |\n",
            "| Electronics|WearableTechnology|SmartWatches                                       | 76      | 4.025            |\n",
            "| Electronics|Mobiles&Accessories|Smartphones&BasicMobiles|Smartphones              | 68      | 4.1              |\n",
            "| Electronics|HomeTheater,TV&Video|Televisions|SmartTelevisions                     | 63      | 4.20952          |\n",
            "| Electronics|Headphones,Earbuds&Accessories|Headphones|In-Ear                      | 52      | 3.89808          |\n",
            "<class 'pandas.core.frame.DataFrame'>\n",
            "Index: 211 entries, 10 to 210\n",
            "Data columns (total 3 columns):\n",
            " #   Column          Non-Null Count  Dtype  \n",
            "---  ------          --------------  -----  \n",
            " 0   category        211 non-null    object \n",
            " 1   count           211 non-null    int64  \n",
            " 2   average_rating  211 non-null    float64\n",
            "dtypes: float64(1), int64(1), object(1)\n",
            "memory usage: 6.6+ KB\n",
            "None\n",
            "[nan]\n",
            "| category                                                                          | count   | average_rating   |\n",
            "|:----------------------------------------------------------------------------------|:--------|:-----------------|\n",
            "| Computers&Accessories|Accessories&Peripherals|Cables&Accessories|Cables|USBCables | 233     | 4.15193          |\n",
            "| Electronics|WearableTechnology|SmartWatches                                       | 76      | 4.025            |\n",
            "| Electronics|Mobiles&Accessories|Smartphones&BasicMobiles|Smartphones              | 68      | 4.1              |\n",
            "| Electronics|HomeTheater,TV&Video|Televisions|SmartTelevisions                     | 63      | 4.20952          |\n",
            "| Electronics|Headphones,Earbuds&Accessories|Headphones|In-Ear                      | 52      | 3.89808          |\n",
            "<class 'pandas.core.frame.DataFrame'>\n",
            "Index: 211 entries, 10 to 210\n",
            "Data columns (total 3 columns):\n",
            " #   Column          Non-Null Count  Dtype  \n",
            "---  ------          --------------  -----  \n",
            " 0   category        211 non-null    object \n",
            " 1   count           211 non-null    int64  \n",
            " 2   average_rating  211 non-null    float64\n",
            "dtypes: float64(1), int64(1), object(1)\n",
            "memory usage: 6.6+ KB\n",
            "None\n"
          ]
        }
      ]
    },
    {
      "cell_type": "code",
      "source": [
        "from google.colab import files\n",
        "\n",
        "\n",
        "uploaded = files.upload()"
      ],
      "metadata": {
        "colab": {
          "base_uri": "https://localhost:8080/",
          "height": 73
        },
        "id": "zml4_GDv3cXv",
        "outputId": "a439c2a7-396a-4703-cb0d-e9a4b34f6065"
      },
      "execution_count": 38,
      "outputs": [
        {
          "output_type": "display_data",
          "data": {
            "text/plain": [
              "<IPython.core.display.HTML object>"
            ],
            "text/html": [
              "\n",
              "     <input type=\"file\" id=\"files-c9f38337-0970-46cf-9d73-df09f0a26148\" name=\"files[]\" multiple disabled\n",
              "        style=\"border:none\" />\n",
              "     <output id=\"result-c9f38337-0970-46cf-9d73-df09f0a26148\">\n",
              "      Upload widget is only available when the cell has been executed in the\n",
              "      current browser session. Please rerun this cell to enable.\n",
              "      </output>\n",
              "      <script>// Copyright 2017 Google LLC\n",
              "//\n",
              "// Licensed under the Apache License, Version 2.0 (the \"License\");\n",
              "// you may not use this file except in compliance with the License.\n",
              "// You may obtain a copy of the License at\n",
              "//\n",
              "//      http://www.apache.org/licenses/LICENSE-2.0\n",
              "//\n",
              "// Unless required by applicable law or agreed to in writing, software\n",
              "// distributed under the License is distributed on an \"AS IS\" BASIS,\n",
              "// WITHOUT WARRANTIES OR CONDITIONS OF ANY KIND, either express or implied.\n",
              "// See the License for the specific language governing permissions and\n",
              "// limitations under the License.\n",
              "\n",
              "/**\n",
              " * @fileoverview Helpers for google.colab Python module.\n",
              " */\n",
              "(function(scope) {\n",
              "function span(text, styleAttributes = {}) {\n",
              "  const element = document.createElement('span');\n",
              "  element.textContent = text;\n",
              "  for (const key of Object.keys(styleAttributes)) {\n",
              "    element.style[key] = styleAttributes[key];\n",
              "  }\n",
              "  return element;\n",
              "}\n",
              "\n",
              "// Max number of bytes which will be uploaded at a time.\n",
              "const MAX_PAYLOAD_SIZE = 100 * 1024;\n",
              "\n",
              "function _uploadFiles(inputId, outputId) {\n",
              "  const steps = uploadFilesStep(inputId, outputId);\n",
              "  const outputElement = document.getElementById(outputId);\n",
              "  // Cache steps on the outputElement to make it available for the next call\n",
              "  // to uploadFilesContinue from Python.\n",
              "  outputElement.steps = steps;\n",
              "\n",
              "  return _uploadFilesContinue(outputId);\n",
              "}\n",
              "\n",
              "// This is roughly an async generator (not supported in the browser yet),\n",
              "// where there are multiple asynchronous steps and the Python side is going\n",
              "// to poll for completion of each step.\n",
              "// This uses a Promise to block the python side on completion of each step,\n",
              "// then passes the result of the previous step as the input to the next step.\n",
              "function _uploadFilesContinue(outputId) {\n",
              "  const outputElement = document.getElementById(outputId);\n",
              "  const steps = outputElement.steps;\n",
              "\n",
              "  const next = steps.next(outputElement.lastPromiseValue);\n",
              "  return Promise.resolve(next.value.promise).then((value) => {\n",
              "    // Cache the last promise value to make it available to the next\n",
              "    // step of the generator.\n",
              "    outputElement.lastPromiseValue = value;\n",
              "    return next.value.response;\n",
              "  });\n",
              "}\n",
              "\n",
              "/**\n",
              " * Generator function which is called between each async step of the upload\n",
              " * process.\n",
              " * @param {string} inputId Element ID of the input file picker element.\n",
              " * @param {string} outputId Element ID of the output display.\n",
              " * @return {!Iterable<!Object>} Iterable of next steps.\n",
              " */\n",
              "function* uploadFilesStep(inputId, outputId) {\n",
              "  const inputElement = document.getElementById(inputId);\n",
              "  inputElement.disabled = false;\n",
              "\n",
              "  const outputElement = document.getElementById(outputId);\n",
              "  outputElement.innerHTML = '';\n",
              "\n",
              "  const pickedPromise = new Promise((resolve) => {\n",
              "    inputElement.addEventListener('change', (e) => {\n",
              "      resolve(e.target.files);\n",
              "    });\n",
              "  });\n",
              "\n",
              "  const cancel = document.createElement('button');\n",
              "  inputElement.parentElement.appendChild(cancel);\n",
              "  cancel.textContent = 'Cancel upload';\n",
              "  const cancelPromise = new Promise((resolve) => {\n",
              "    cancel.onclick = () => {\n",
              "      resolve(null);\n",
              "    };\n",
              "  });\n",
              "\n",
              "  // Wait for the user to pick the files.\n",
              "  const files = yield {\n",
              "    promise: Promise.race([pickedPromise, cancelPromise]),\n",
              "    response: {\n",
              "      action: 'starting',\n",
              "    }\n",
              "  };\n",
              "\n",
              "  cancel.remove();\n",
              "\n",
              "  // Disable the input element since further picks are not allowed.\n",
              "  inputElement.disabled = true;\n",
              "\n",
              "  if (!files) {\n",
              "    return {\n",
              "      response: {\n",
              "        action: 'complete',\n",
              "      }\n",
              "    };\n",
              "  }\n",
              "\n",
              "  for (const file of files) {\n",
              "    const li = document.createElement('li');\n",
              "    li.append(span(file.name, {fontWeight: 'bold'}));\n",
              "    li.append(span(\n",
              "        `(${file.type || 'n/a'}) - ${file.size} bytes, ` +\n",
              "        `last modified: ${\n",
              "            file.lastModifiedDate ? file.lastModifiedDate.toLocaleDateString() :\n",
              "                                    'n/a'} - `));\n",
              "    const percent = span('0% done');\n",
              "    li.appendChild(percent);\n",
              "\n",
              "    outputElement.appendChild(li);\n",
              "\n",
              "    const fileDataPromise = new Promise((resolve) => {\n",
              "      const reader = new FileReader();\n",
              "      reader.onload = (e) => {\n",
              "        resolve(e.target.result);\n",
              "      };\n",
              "      reader.readAsArrayBuffer(file);\n",
              "    });\n",
              "    // Wait for the data to be ready.\n",
              "    let fileData = yield {\n",
              "      promise: fileDataPromise,\n",
              "      response: {\n",
              "        action: 'continue',\n",
              "      }\n",
              "    };\n",
              "\n",
              "    // Use a chunked sending to avoid message size limits. See b/62115660.\n",
              "    let position = 0;\n",
              "    do {\n",
              "      const length = Math.min(fileData.byteLength - position, MAX_PAYLOAD_SIZE);\n",
              "      const chunk = new Uint8Array(fileData, position, length);\n",
              "      position += length;\n",
              "\n",
              "      const base64 = btoa(String.fromCharCode.apply(null, chunk));\n",
              "      yield {\n",
              "        response: {\n",
              "          action: 'append',\n",
              "          file: file.name,\n",
              "          data: base64,\n",
              "        },\n",
              "      };\n",
              "\n",
              "      let percentDone = fileData.byteLength === 0 ?\n",
              "          100 :\n",
              "          Math.round((position / fileData.byteLength) * 100);\n",
              "      percent.textContent = `${percentDone}% done`;\n",
              "\n",
              "    } while (position < fileData.byteLength);\n",
              "  }\n",
              "\n",
              "  // All done.\n",
              "  yield {\n",
              "    response: {\n",
              "      action: 'complete',\n",
              "    }\n",
              "  };\n",
              "}\n",
              "\n",
              "scope.google = scope.google || {};\n",
              "scope.google.colab = scope.google.colab || {};\n",
              "scope.google.colab._files = {\n",
              "  _uploadFiles,\n",
              "  _uploadFilesContinue,\n",
              "};\n",
              "})(self);\n",
              "</script> "
            ]
          },
          "metadata": {}
        },
        {
          "output_type": "stream",
          "name": "stdout",
          "text": [
            "Saving spotify.csv to spotify.csv\n"
          ]
        }
      ]
    },
    {
      "cell_type": "markdown",
      "source": [
        "1.Read the dataframe, check null value if present then do the needful, check duplicate row , if present then do the needful?"
      ],
      "metadata": {
        "id": "1ttg6oMi3qWs"
      }
    },
    {
      "cell_type": "code",
      "source": [
        "import pandas as pd\n",
        "\n",
        "pd.set_option('display.max_rows', None)\n",
        "pd.set_option('display.max_columns', None)\n",
        "\n",
        "# Read the CSV file into a DataFrame\n",
        "df_spotify = pd.read_csv('spotify.csv')\n",
        "\n",
        "# Display the first 5 rows\n",
        "print(df_spotify.head().to_markdown(index=False, numalign=\"left\", stralign=\"left\"))\n",
        "\n",
        "# Print the column names and their data types\n",
        "print(df_spotify.info())\n",
        "# Get the number of rows in the DataFrame\n",
        "num_rows = df_spotify.shape[0]\n",
        "\n",
        "# Iterate over the columns\n",
        "for col in df_spotify.columns:\n",
        "    # Calculate the percentage of null values in the column\n",
        "    null_percentage = (df_spotify[col].isnull().sum() / num_rows) * 100\n",
        "\n",
        "    # If there are more than 20% null values, drop the column\n",
        "    if null_percentage > 20:\n",
        "        df_spotify.drop(col, axis=1, inplace=True)\n",
        "\n",
        "    # Otherwise, fill null values based on the column's data type\n",
        "    else:\n",
        "        if pd.api.types.is_numeric_dtype(df_spotify[col]):\n",
        "            df_spotify[col].fillna(df_spotify[col].mean(), inplace=True)\n",
        "        else:\n",
        "            df_spotify[col].fillna(df_spotify[col].mode()[0], inplace=True)\n",
        "\n",
        "# Drop any duplicate rows\n",
        "df_spotify.drop_duplicates(inplace=True)\n",
        "\n",
        "# Print the number of null values in each column\n",
        "print(\"Null values in each column:\")\n",
        "print(df_spotify.isnull().sum().to_markdown(numalign=\"left\", stralign=\"left\"))\n",
        "\n",
        "# Print the number of duplicate rows\n",
        "print(\"\\nNumber of duplicate rows:\", df_spotify.duplicated().sum())\n"
      ],
      "metadata": {
        "colab": {
          "base_uri": "https://localhost:8080/"
        },
        "id": "UZtz9X963xL2",
        "outputId": "bc403b64-9c34-4cb0-e457-818a80d450ac"
      },
      "execution_count": 39,
      "outputs": [
        {
          "output_type": "stream",
          "name": "stdout",
          "text": [
            "| Artist   | Track Name                              | Popularity   | Duration (ms)   | Track ID               |\n",
            "|:---------|:----------------------------------------|:-------------|:----------------|:-----------------------|\n",
            "| Drake    | Rich Baby Daddy (feat. Sexyy Red & SZA) | 92           | 319191          | 1yeB8MUNeLo9Ek1UEpsyz6 |\n",
            "| Drake    | One Dance                               | 91           | 173986          | 1zi7xx7UVEFkmKfv06H8x0 |\n",
            "| Drake    | IDGAF (feat. Yeat)                      | 90           | 260111          | 2YSzYUF3jWqb9YP9VXmpjE |\n",
            "| Drake    | First Person Shooter (feat. J. Cole)    | 88           | 247444          | 7aqfrAY2p9BUSiupwk3svU |\n",
            "| Drake    | Jimmy Cooks (feat. 21 Savage)           | 88           | 218364          | 3F5CgOj3wFlRv51JsHbxhe |\n",
            "<class 'pandas.core.frame.DataFrame'>\n",
            "RangeIndex: 440 entries, 0 to 439\n",
            "Data columns (total 5 columns):\n",
            " #   Column         Non-Null Count  Dtype \n",
            "---  ------         --------------  ----- \n",
            " 0   Artist         440 non-null    object\n",
            " 1   Track Name     440 non-null    object\n",
            " 2   Popularity     440 non-null    int64 \n",
            " 3   Duration (ms)  440 non-null    int64 \n",
            " 4   Track ID       440 non-null    object\n",
            "dtypes: int64(2), object(3)\n",
            "memory usage: 17.3+ KB\n",
            "None\n",
            "Null values in each column:\n",
            "|               | 0   |\n",
            "|:--------------|:----|\n",
            "| Artist        | 0   |\n",
            "| Track Name    | 0   |\n",
            "| Popularity    | 0   |\n",
            "| Duration (ms) | 0   |\n",
            "| Track ID      | 0   |\n",
            "\n",
            "Number of duplicate rows: 0\n"
          ]
        },
        {
          "output_type": "stream",
          "name": "stderr",
          "text": [
            "<ipython-input-39-91374d9f1c36>:31: FutureWarning: A value is trying to be set on a copy of a DataFrame or Series through chained assignment using an inplace method.\n",
            "The behavior will change in pandas 3.0. This inplace method will never work because the intermediate object on which we are setting values always behaves as a copy.\n",
            "\n",
            "For example, when doing 'df[col].method(value, inplace=True)', try using 'df.method({col: value}, inplace=True)' or df[col] = df[col].method(value) instead, to perform the operation inplace on the original object.\n",
            "\n",
            "\n",
            "  df_spotify[col].fillna(df_spotify[col].mode()[0], inplace=True)\n",
            "<ipython-input-39-91374d9f1c36>:29: FutureWarning: A value is trying to be set on a copy of a DataFrame or Series through chained assignment using an inplace method.\n",
            "The behavior will change in pandas 3.0. This inplace method will never work because the intermediate object on which we are setting values always behaves as a copy.\n",
            "\n",
            "For example, when doing 'df[col].method(value, inplace=True)', try using 'df.method({col: value}, inplace=True)' or df[col] = df[col].method(value) instead, to perform the operation inplace on the original object.\n",
            "\n",
            "\n",
            "  df_spotify[col].fillna(df_spotify[col].mean(), inplace=True)\n"
          ]
        }
      ]
    },
    {
      "cell_type": "markdown",
      "source": [
        "2. What is the distribution of popularity among the tracks in the dataset? Visualize it using a histogram?"
      ],
      "metadata": {
        "id": "EV0UvDhO37nR"
      }
    },
    {
      "cell_type": "code",
      "source": [
        "import pandas as pd\n",
        "\n",
        "pd.set_option('display.max_rows', None)\n",
        "pd.set_option('display.max_columns', None)\n",
        "\n",
        "# Read the CSV file into a DataFrame\n",
        "df = pd.read_csv('spotify.csv')\n",
        "\n",
        "# Display the first 5 rows\n",
        "print(df.head().to_markdown(index=False, numalign=\"left\", stralign=\"left\"))\n",
        "\n",
        "# Print the column names and their data types\n",
        "print(df.info())\n",
        "import altair as alt\n",
        "\n",
        "# Create a histogram of the `Popularity` column\n",
        "chart = alt.Chart(df).mark_bar().encode(\n",
        "    # Use `Popularity` on the x-axis and bin it. Set the title to 'Popularity'\n",
        "    alt.X('Popularity', bin=True, title='Popularity'),\n",
        "    # Use `count()` on the y-axis. Set the title to 'Count'\n",
        "    alt.Y('count()', title='Count'),\n",
        "    # Add tooltip details on hover\n",
        "    tooltip=[alt.Tooltip('Popularity', bin=True, title='Popularity'), 'count()']\n",
        ").properties(\n",
        "    # Set the title of the plot to 'Popularity Distribution of Tracks'\n",
        "    title='Popularity Distribution of Tracks'\n",
        ").interactive()\n",
        "\n",
        "# Save the chart as a JSON file\n",
        "chart.save('popularity_distribution_of_tracks.json')"
      ],
      "metadata": {
        "colab": {
          "base_uri": "https://localhost:8080/"
        },
        "id": "cDa6ZQr14AS8",
        "outputId": "394687c2-11a5-474c-fa35-bf023f63d621"
      },
      "execution_count": 40,
      "outputs": [
        {
          "output_type": "stream",
          "name": "stdout",
          "text": [
            "| Artist   | Track Name                              | Popularity   | Duration (ms)   | Track ID               |\n",
            "|:---------|:----------------------------------------|:-------------|:----------------|:-----------------------|\n",
            "| Drake    | Rich Baby Daddy (feat. Sexyy Red & SZA) | 92           | 319191          | 1yeB8MUNeLo9Ek1UEpsyz6 |\n",
            "| Drake    | One Dance                               | 91           | 173986          | 1zi7xx7UVEFkmKfv06H8x0 |\n",
            "| Drake    | IDGAF (feat. Yeat)                      | 90           | 260111          | 2YSzYUF3jWqb9YP9VXmpjE |\n",
            "| Drake    | First Person Shooter (feat. J. Cole)    | 88           | 247444          | 7aqfrAY2p9BUSiupwk3svU |\n",
            "| Drake    | Jimmy Cooks (feat. 21 Savage)           | 88           | 218364          | 3F5CgOj3wFlRv51JsHbxhe |\n",
            "<class 'pandas.core.frame.DataFrame'>\n",
            "RangeIndex: 440 entries, 0 to 439\n",
            "Data columns (total 5 columns):\n",
            " #   Column         Non-Null Count  Dtype \n",
            "---  ------         --------------  ----- \n",
            " 0   Artist         440 non-null    object\n",
            " 1   Track Name     440 non-null    object\n",
            " 2   Popularity     440 non-null    int64 \n",
            " 3   Duration (ms)  440 non-null    int64 \n",
            " 4   Track ID       440 non-null    object\n",
            "dtypes: int64(2), object(3)\n",
            "memory usage: 17.3+ KB\n",
            "None\n"
          ]
        }
      ]
    },
    {
      "cell_type": "markdown",
      "source": [
        "3. Is there any relationship between the popularity and the duration of tracks? Explore this using a scatter plot?"
      ],
      "metadata": {
        "id": "_PFvIKlp4ZH0"
      }
    },
    {
      "cell_type": "code",
      "source": [
        "import pandas as pd\n",
        "\n",
        "pd.set_option('display.max_rows', None)\n",
        "pd.set_option('display.max_columns', None)\n",
        "\n",
        "# Read the CSV file into a DataFrame\n",
        "df = pd.read_csv('spotify.csv')\n",
        "\n",
        "# Display the first 5 rows\n",
        "print(df.head().to_markdown(index=False, numalign=\"left\", stralign=\"left\"))\n",
        "\n",
        "# Print the column names and their data types\n",
        "print(df.info())\n",
        "import altair as alt\n",
        "\n",
        "# Create a scatter plot to show the relationship between the `Popularity` and `Duration (ms)` column.\n",
        "chart = alt.Chart(df).mark_point().encode(\n",
        "    x=alt.X('Popularity', title='Popularity'),\n",
        "    y=alt.Y('Duration (ms)', title='Duration (ms)'),\n",
        "    tooltip=['Popularity', 'Duration (ms)']\n",
        ").properties(title='Relationship between Popularity and Duration of Tracks').interactive()\n",
        "\n",
        "# Save the chart as a JSON file\n",
        "chart.save('relationship_between_popularity_and_duration_of_tracks.json')"
      ],
      "metadata": {
        "colab": {
          "base_uri": "https://localhost:8080/"
        },
        "id": "bhZEhm8W4lZL",
        "outputId": "14fd905c-f894-4ca2-fad0-500dbe72639c"
      },
      "execution_count": 41,
      "outputs": [
        {
          "output_type": "stream",
          "name": "stdout",
          "text": [
            "| Artist   | Track Name                              | Popularity   | Duration (ms)   | Track ID               |\n",
            "|:---------|:----------------------------------------|:-------------|:----------------|:-----------------------|\n",
            "| Drake    | Rich Baby Daddy (feat. Sexyy Red & SZA) | 92           | 319191          | 1yeB8MUNeLo9Ek1UEpsyz6 |\n",
            "| Drake    | One Dance                               | 91           | 173986          | 1zi7xx7UVEFkmKfv06H8x0 |\n",
            "| Drake    | IDGAF (feat. Yeat)                      | 90           | 260111          | 2YSzYUF3jWqb9YP9VXmpjE |\n",
            "| Drake    | First Person Shooter (feat. J. Cole)    | 88           | 247444          | 7aqfrAY2p9BUSiupwk3svU |\n",
            "| Drake    | Jimmy Cooks (feat. 21 Savage)           | 88           | 218364          | 3F5CgOj3wFlRv51JsHbxhe |\n",
            "<class 'pandas.core.frame.DataFrame'>\n",
            "RangeIndex: 440 entries, 0 to 439\n",
            "Data columns (total 5 columns):\n",
            " #   Column         Non-Null Count  Dtype \n",
            "---  ------         --------------  ----- \n",
            " 0   Artist         440 non-null    object\n",
            " 1   Track Name     440 non-null    object\n",
            " 2   Popularity     440 non-null    int64 \n",
            " 3   Duration (ms)  440 non-null    int64 \n",
            " 4   Track ID       440 non-null    object\n",
            "dtypes: int64(2), object(3)\n",
            "memory usage: 17.3+ KB\n",
            "None\n"
          ]
        }
      ]
    },
    {
      "cell_type": "markdown",
      "source": [
        "4. Which artist has the highest number of tracks in the dataset? Display the count of tracks for each artist using a countplot?"
      ],
      "metadata": {
        "id": "zMM8f7cH458s"
      }
    },
    {
      "cell_type": "code",
      "source": [
        "import pandas as pd\n",
        "import seaborn as sns\n",
        "import matplotlib.pyplot as plt\n",
        "\n",
        "# Read the data from the CSV file into a pandas DataFrame\n",
        "df = pd.read_csv(\"spotify.csv\")\n",
        "\n",
        "# Create a countplot of the `Artist` column\n",
        "sns.countplot(x=\"Artist\", data=df)\n",
        "\n",
        "# Add a title to the plot\n",
        "plt.title(\"Count of tracks for each artist\")\n",
        "\n",
        "# Show the plot\n",
        "plt.show()"
      ],
      "metadata": {
        "colab": {
          "base_uri": "https://localhost:8080/",
          "height": 472
        },
        "id": "1YxxyPzs5EAR",
        "outputId": "1946bbf8-d59b-487e-b932-cb42299827cc"
      },
      "execution_count": 42,
      "outputs": [
        {
          "output_type": "display_data",
          "data": {
            "text/plain": [
              "<Figure size 640x480 with 1 Axes>"
            ],
            "image/png": "[encoded data removed]"
          },
          "metadata": {}
        }
      ]
    },
    {
      "cell_type": "markdown",
      "source": [
        "5. What are the top 5 least popular tracks in the dataset? Provide the artist name and track name for each."
      ],
      "metadata": {
        "id": "QjVoZdwx54YL"
      }
    },
    {
      "cell_type": "code",
      "source": [
        "import pandas as pd\n",
        "\n",
        "pd.set_option('display.max_rows', None)\n",
        "pd.set_option('display.max_columns', None)\n",
        "\n",
        "# Read the CSV file into a DataFrame\n",
        "df_spotify = pd.read_csv('spotify.csv')\n",
        "\n",
        "# Display the first 5 rows\n",
        "print(df_spotify.head().to_markdown(index=False, numalign=\"left\", stralign=\"left\"))\n",
        "\n",
        "# Print the column names and their data types\n",
        "print(df_spotify.info())\n",
        "# Sort the DataFrame by `Popularity` in ascending order and `Track Name` in descending order\n",
        "df_sorted = df_spotify.sort_values(by=['Popularity', 'Track Name'], ascending=[True, False])\n",
        "\n",
        "# Display the top 5 rows\n",
        "print(df_sorted.head(5).to_markdown(index=False, numalign=\"left\", stralign=\"left\"))"
      ],
      "metadata": {
        "colab": {
          "base_uri": "https://localhost:8080/"
        },
        "id": "_ZpXqg1v6H0a",
        "outputId": "f9a674ec-eaec-4d89-e35e-5589993cae5f"
      },
      "execution_count": 43,
      "outputs": [
        {
          "output_type": "stream",
          "name": "stdout",
          "text": [
            "| Artist   | Track Name                              | Popularity   | Duration (ms)   | Track ID               |\n",
            "|:---------|:----------------------------------------|:-------------|:----------------|:-----------------------|\n",
            "| Drake    | Rich Baby Daddy (feat. Sexyy Red & SZA) | 92           | 319191          | 1yeB8MUNeLo9Ek1UEpsyz6 |\n",
            "| Drake    | One Dance                               | 91           | 173986          | 1zi7xx7UVEFkmKfv06H8x0 |\n",
            "| Drake    | IDGAF (feat. Yeat)                      | 90           | 260111          | 2YSzYUF3jWqb9YP9VXmpjE |\n",
            "| Drake    | First Person Shooter (feat. J. Cole)    | 88           | 247444          | 7aqfrAY2p9BUSiupwk3svU |\n",
            "| Drake    | Jimmy Cooks (feat. 21 Savage)           | 88           | 218364          | 3F5CgOj3wFlRv51JsHbxhe |\n",
            "<class 'pandas.core.frame.DataFrame'>\n",
            "RangeIndex: 440 entries, 0 to 439\n",
            "Data columns (total 5 columns):\n",
            " #   Column         Non-Null Count  Dtype \n",
            "---  ------         --------------  ----- \n",
            " 0   Artist         440 non-null    object\n",
            " 1   Track Name     440 non-null    object\n",
            " 2   Popularity     440 non-null    int64 \n",
            " 3   Duration (ms)  440 non-null    int64 \n",
            " 4   Track ID       440 non-null    object\n",
            "dtypes: int64(2), object(3)\n",
            "memory usage: 17.3+ KB\n",
            "None\n",
            "| Artist         | Track Name                    | Popularity   | Duration (ms)   | Track ID               |\n",
            "|:---------------|:------------------------------|:-------------|:----------------|:-----------------------|\n",
            "| Pressa         | Attachments (feat. Coi Leray) | 29           | 171000          | 6EfJ8Ct3GHbBz2YlyPnMYb |\n",
            "| Justin Bieber  | Intentions                    | 35           | 212853          | 7jAVt70Xdg8EwOtsFB1ZqK |\n",
            "| French Montana | Splash Brothers               | 44           | 221863          | 3fBsEOnzwtlkpS0LxXAZhN |\n",
            "| French Montana | Splash Brothers               | 44           | 221863          | 3fBsEOnzwtlkpS0LxXAZhN |\n",
            "| Lil Baby       | On Me - Remix                 | 47           | 135444          | 2uUFVnVFERNxUdcmvEs7LB |\n"
          ]
        }
      ]
    },
    {
      "cell_type": "markdown",
      "source": [
        "6. Among the top 5 most popular artists, which artist has the highest popularity on average? Calculate and display the average popularity for each artist."
      ],
      "metadata": {
        "id": "tupBJePY6bqY"
      }
    },
    {
      "cell_type": "code",
      "source": [
        "import pandas as pd\n",
        "\n",
        "pd.set_option('display.max_rows', None)\n",
        "pd.set_option('display.max_columns', None)\n",
        "\n",
        "# Read the CSV file into a DataFrame\n",
        "df_spotify = pd.read_csv('spotify.csv')\n",
        "\n",
        "# Display the first 5 rows\n",
        "print(df_spotify.head().to_markdown(index=False, numalign=\"left\", stralign=\"left\"))\n",
        "\n",
        "# Print the column names and their data types\n",
        "print(df_spotify.info())\n",
        "# Get all unique values from `Artist`\n",
        "unique_values = df_spotify['Artist'].unique()\n",
        "\n",
        "# Check the number of unique values in `Artist`\n",
        "if len(unique_values) > 50:\n",
        "  # If there are too many unique values, sample the top 50\n",
        "  top_occurring_values = df_spotify['Artist'].value_counts().head(50).index.tolist()\n",
        "  print(top_occurring_values)\n",
        "else:\n",
        "  # Otherwise print all unique valus in `Artist`\n",
        "  print(unique_values)\n",
        "# Filter the data to include only rows with the top 5 most popular artists\n",
        "df_spotify_filtered = df_spotify[df_spotify['Artist'].isin(['Drake', 'Travis Scott', '21 Savage', '¥$', 'Lil Nas X'])]\n",
        "\n",
        "# Aggregate this data by `Artist`, calculating the mean of `Popularity`\n",
        "df_spotify_agg = df_spotify_filtered.groupby('Artist')['Popularity'].mean().reset_index()\n",
        "\n",
        "# Sort the aggregated data in descending order of average popularity\n",
        "df_spotify_agg = df_spotify_agg.sort_values(by='Popularity', ascending=False)\n",
        "\n",
        "# Print the result\n",
        "print(df_spotify_agg.to_markdown(index=False, numalign=\"left\", stralign=\"left\"))"
      ],
      "metadata": {
        "colab": {
          "base_uri": "https://localhost:8080/"
        },
        "id": "a6KZ2hHf66TJ",
        "outputId": "613ab0e7-4ec4-4af9-a149-f4f76ae99d94"
      },
      "execution_count": 44,
      "outputs": [
        {
          "output_type": "stream",
          "name": "stdout",
          "text": [
            "| Artist   | Track Name                              | Popularity   | Duration (ms)   | Track ID               |\n",
            "|:---------|:----------------------------------------|:-------------|:----------------|:-----------------------|\n",
            "| Drake    | Rich Baby Daddy (feat. Sexyy Red & SZA) | 92           | 319191          | 1yeB8MUNeLo9Ek1UEpsyz6 |\n",
            "| Drake    | One Dance                               | 91           | 173986          | 1zi7xx7UVEFkmKfv06H8x0 |\n",
            "| Drake    | IDGAF (feat. Yeat)                      | 90           | 260111          | 2YSzYUF3jWqb9YP9VXmpjE |\n",
            "| Drake    | First Person Shooter (feat. J. Cole)    | 88           | 247444          | 7aqfrAY2p9BUSiupwk3svU |\n",
            "| Drake    | Jimmy Cooks (feat. 21 Savage)           | 88           | 218364          | 3F5CgOj3wFlRv51JsHbxhe |\n",
            "<class 'pandas.core.frame.DataFrame'>\n",
            "RangeIndex: 440 entries, 0 to 439\n",
            "Data columns (total 5 columns):\n",
            " #   Column         Non-Null Count  Dtype \n",
            "---  ------         --------------  ----- \n",
            " 0   Artist         440 non-null    object\n",
            " 1   Track Name     440 non-null    object\n",
            " 2   Popularity     440 non-null    int64 \n",
            " 3   Duration (ms)  440 non-null    int64 \n",
            " 4   Track ID       440 non-null    object\n",
            "dtypes: int64(2), object(3)\n",
            "memory usage: 17.3+ KB\n",
            "None\n",
            "['Drake', 'Travis Scott', '21 Savage', '¥$', 'Lil Nas X', 'Eminem', 'Flo Rida', 'JAY-Z', 'Ludacris', 'Lil Baby', 'Timbaland', 'Metro Boomin', 'Post Malone', 'Cardi B', 'Nicki Minaj', 'D-Block Europe', 'Bizarrap', 'Snoop Dogg', 'Lil Wayne', 'J. Cole', 'Kendrick Lamar', 'Lil Uzi Vert', 'Kodak Black', 'Lil Durk', 'Jack Harlow', 'DaBaby', 'French Montana', 'Ice Spice', 'Wiz Khalifa', 'Quevedo', 'Gunna', 'Offset', 'Fugees', 'Central Cee', 'Future', 'Playboi Carti', 'Quavo', 'Tyga', 'Coi Leray', 'Megan Thee Stallion', 'Latto', 'Rick Ross', 'Wyclef Jean', 'Young Thug', 'Leslie Odom Jr.', 'Jung Kook', 'Justin Timberlake', 'DJ Snake', 'Justin Bieber', 'KAROL G']\n",
            "| Artist       | Popularity   |\n",
            "|:-------------|:-------------|\n",
            "| Travis Scott | 87           |\n",
            "| ¥$           | 86.0909      |\n",
            "| 21 Savage    | 84.1818      |\n",
            "| Drake        | 83.5         |\n",
            "| Lil Nas X    | 76.0909      |\n"
          ]
        }
      ]
    },
    {
      "cell_type": "markdown",
      "source": [
        "7. For the top 5 most popular artists, what are their most popular tracks?List the track name for each artist."
      ],
      "metadata": {
        "id": "eJNx7sDS7Lun"
      }
    },
    {
      "cell_type": "code",
      "source": [
        "import pandas as pd\n",
        "\n",
        "pd.set_option('display.max_rows', None)\n",
        "pd.set_option('display.max_columns', None)\n",
        "\n",
        "# Read the CSV file into a DataFrame\n",
        "df_spotify = pd.read_csv('spotify.csv')\n",
        "\n",
        "# Display the first 5 rows\n",
        "print(df_spotify.head().to_markdown(index=False, numalign=\"left\", stralign=\"left\"))\n",
        "\n",
        "# Print the column names and their data types\n",
        "print(df_spotify.info())\n",
        "# Get all unique values from `Artist`\n",
        "unique_values = df_spotify['Artist'].unique()\n",
        "\n",
        "# Check the number of unique values in `Artist`\n",
        "if len(unique_values) > 50:\n",
        "  # If there are too many unique values, sample the top 50\n",
        "  top_occurring_values = df_spotify['Artist'].value_counts().head(50).index.tolist()\n",
        "  print(top_occurring_values)\n",
        "else:\n",
        "  # Otherwise print all unique valus in `Artist`\n",
        "  print(unique_values)\n",
        "# Group by `Artist` and `Track Name`, and find the most popular `Track Name` for each `Artist` based on the sum of `Popularity`\n",
        "top_five_artists = df_spotify.groupby(['Artist', 'Track Name'])['Popularity'].sum().reset_index()\n",
        "top_five_artists = top_five_artists.sort_values(by='Popularity', ascending=[False]).groupby('Artist').head(1)\n",
        "top_five_artists = top_five_artists[top_five_artists['Artist'].isin(['Drake', 'Travis Scott', '21 Savage', '¥$', 'Lil Nas X'])]\n",
        "\n",
        "# Display the first 5 rows\n",
        "print(top_five_artists.head().to_markdown(index=False, numalign=\"left\", stralign=\"left\"))\n",
        "\n",
        "# Print the column names and their data types\n",
        "print(top_five_artists.info())\n",
        "import altair as alt\n",
        "\n",
        "# Format the `Popularity` column to a string with thousand separators\n",
        "top_five_artists['Popularity'] = top_five_artists['Popularity'].apply(lambda x: f'{x:,}')\n",
        "\n",
        "# Create a table with `Artist`, `Track Name`, and `Popularity`\n",
        "table = alt.Chart(top_five_artists).mark_text().encode(\n",
        "    x=alt.X('Artist', title='Artist', axis=None),\n",
        "    y=alt.Y('row_number:O', axis=None),\n",
        "    text='Popularity',\n",
        "    tooltip=['Artist', 'Track Name', 'Popularity']\n",
        ").transform_window(\n",
        "    row_number='row_number()'\n",
        ").properties(\n",
        "    title='Most Popular Track Name by Top 5 Artists'\n",
        ")\n",
        "\n",
        "# Display the table\n",
        "table.save('most_popular_track_name_by_top_five_artists.json')"
      ],
      "metadata": {
        "colab": {
          "base_uri": "https://localhost:8080/"
        },
        "id": "kpHuJ5Oa7y8Y",
        "outputId": "a9ad39f8-05e1-421e-885e-4cdb345329ce"
      },
      "execution_count": 45,
      "outputs": [
        {
          "output_type": "stream",
          "name": "stdout",
          "text": [
            "| Artist   | Track Name                              | Popularity   | Duration (ms)   | Track ID               |\n",
            "|:---------|:----------------------------------------|:-------------|:----------------|:-----------------------|\n",
            "| Drake    | Rich Baby Daddy (feat. Sexyy Red & SZA) | 92           | 319191          | 1yeB8MUNeLo9Ek1UEpsyz6 |\n",
            "| Drake    | One Dance                               | 91           | 173986          | 1zi7xx7UVEFkmKfv06H8x0 |\n",
            "| Drake    | IDGAF (feat. Yeat)                      | 90           | 260111          | 2YSzYUF3jWqb9YP9VXmpjE |\n",
            "| Drake    | First Person Shooter (feat. J. Cole)    | 88           | 247444          | 7aqfrAY2p9BUSiupwk3svU |\n",
            "| Drake    | Jimmy Cooks (feat. 21 Savage)           | 88           | 218364          | 3F5CgOj3wFlRv51JsHbxhe |\n",
            "<class 'pandas.core.frame.DataFrame'>\n",
            "RangeIndex: 440 entries, 0 to 439\n",
            "Data columns (total 5 columns):\n",
            " #   Column         Non-Null Count  Dtype \n",
            "---  ------         --------------  ----- \n",
            " 0   Artist         440 non-null    object\n",
            " 1   Track Name     440 non-null    object\n",
            " 2   Popularity     440 non-null    int64 \n",
            " 3   Duration (ms)  440 non-null    int64 \n",
            " 4   Track ID       440 non-null    object\n",
            "dtypes: int64(2), object(3)\n",
            "memory usage: 17.3+ KB\n",
            "None\n",
            "['Drake', 'Travis Scott', '21 Savage', '¥$', 'Lil Nas X', 'Eminem', 'Flo Rida', 'JAY-Z', 'Ludacris', 'Lil Baby', 'Timbaland', 'Metro Boomin', 'Post Malone', 'Cardi B', 'Nicki Minaj', 'D-Block Europe', 'Bizarrap', 'Snoop Dogg', 'Lil Wayne', 'J. Cole', 'Kendrick Lamar', 'Lil Uzi Vert', 'Kodak Black', 'Lil Durk', 'Jack Harlow', 'DaBaby', 'French Montana', 'Ice Spice', 'Wiz Khalifa', 'Quevedo', 'Gunna', 'Offset', 'Fugees', 'Central Cee', 'Future', 'Playboi Carti', 'Quavo', 'Tyga', 'Coi Leray', 'Megan Thee Stallion', 'Latto', 'Rick Ross', 'Wyclef Jean', 'Young Thug', 'Leslie Odom Jr.', 'Jung Kook', 'Justin Timberlake', 'DJ Snake', 'Justin Bieber', 'KAROL G']\n",
            "| Artist       | Track Name                           | Popularity   |\n",
            "|:-------------|:-------------------------------------|:-------------|\n",
            "| ¥$           | CARNIVAL                             | 192          |\n",
            "| Travis Scott | FE!N (feat. Playboi Carti)           | 186          |\n",
            "| Drake        | First Person Shooter (feat. J. Cole) | 176          |\n",
            "| 21 Savage    | née-nah                              | 176          |\n",
            "| Lil Nas X    | INDUSTRY BABY (feat. Jack Harlow)    | 156          |\n",
            "<class 'pandas.core.frame.DataFrame'>\n",
            "Index: 5 entries, 404 to 234\n",
            "Data columns (total 3 columns):\n",
            " #   Column      Non-Null Count  Dtype \n",
            "---  ------      --------------  ----- \n",
            " 0   Artist      5 non-null      object\n",
            " 1   Track Name  5 non-null      object\n",
            " 2   Popularity  5 non-null      int64 \n",
            "dtypes: int64(1), object(2)\n",
            "memory usage: 160.0+ bytes\n",
            "None\n"
          ]
        }
      ]
    },
    {
      "cell_type": "markdown",
      "source": [
        "8. Visualize relationships between multiple numerical variables simultaneously using a pair plot."
      ],
      "metadata": {
        "id": "A2NbtYFp8EQm"
      }
    },
    {
      "cell_type": "code",
      "source": [
        "import pandas as pd\n",
        "\n",
        "pd.set_option('display.max_rows', None)\n",
        "pd.set_option('display.max_columns', None)\n",
        "\n",
        "# Read the CSV file into a DataFrame\n",
        "df_spotify = pd.read_csv('spotify.csv')\n",
        "\n",
        "# Display the first 5 rows\n",
        "print(df_spotify.head().to_markdown(index=False, numalign=\"left\", stralign=\"left\"))\n",
        "\n",
        "# Print the column names and their data types\n",
        "print(df_spotify.info())\n",
        "import altair as alt\n",
        "\n",
        "# Create a pair plot using the columns `Popularity` and `Duration (ms)`\n",
        "chart = alt.Chart(df_spotify).mark_circle().encode(\n",
        "    x=alt.X(alt.repeat(\"column\"), type='quantitative'),\n",
        "    y=alt.Y(alt.repeat(\"row\"), type='quantitative')\n",
        ").properties(\n",
        "    title='Pair Plot of Popularity and Duration (ms)'\n",
        ").repeat(\n",
        "    row=['Popularity', 'Duration (ms)'],\n",
        "    column=['Popularity', 'Duration (ms)']\n",
        ").interactive()\n",
        "\n",
        "# Save the plot\n",
        "chart.save('pair_plot_popularity_duration.json')"
      ],
      "metadata": {
        "colab": {
          "base_uri": "https://localhost:8080/"
        },
        "id": "A1shkGdA8Y7u",
        "outputId": "10a38f88-b471-461f-e38f-a7f9c0ee2869"
      },
      "execution_count": 46,
      "outputs": [
        {
          "output_type": "stream",
          "name": "stdout",
          "text": [
            "| Artist   | Track Name                              | Popularity   | Duration (ms)   | Track ID               |\n",
            "|:---------|:----------------------------------------|:-------------|:----------------|:-----------------------|\n",
            "| Drake    | Rich Baby Daddy (feat. Sexyy Red & SZA) | 92           | 319191          | 1yeB8MUNeLo9Ek1UEpsyz6 |\n",
            "| Drake    | One Dance                               | 91           | 173986          | 1zi7xx7UVEFkmKfv06H8x0 |\n",
            "| Drake    | IDGAF (feat. Yeat)                      | 90           | 260111          | 2YSzYUF3jWqb9YP9VXmpjE |\n",
            "| Drake    | First Person Shooter (feat. J. Cole)    | 88           | 247444          | 7aqfrAY2p9BUSiupwk3svU |\n",
            "| Drake    | Jimmy Cooks (feat. 21 Savage)           | 88           | 218364          | 3F5CgOj3wFlRv51JsHbxhe |\n",
            "<class 'pandas.core.frame.DataFrame'>\n",
            "RangeIndex: 440 entries, 0 to 439\n",
            "Data columns (total 5 columns):\n",
            " #   Column         Non-Null Count  Dtype \n",
            "---  ------         --------------  ----- \n",
            " 0   Artist         440 non-null    object\n",
            " 1   Track Name     440 non-null    object\n",
            " 2   Popularity     440 non-null    int64 \n",
            " 3   Duration (ms)  440 non-null    int64 \n",
            " 4   Track ID       440 non-null    object\n",
            "dtypes: int64(2), object(3)\n",
            "memory usage: 17.3+ KB\n",
            "None\n"
          ]
        }
      ]
    },
    {
      "cell_type": "markdown",
      "source": [
        "9. Does the duration of tracks vary significantly across different artists? Explore this visually using a box plot or\n",
        "violin plot."
      ],
      "metadata": {
        "id": "ggYSIFzI9I5d"
      }
    },
    {
      "cell_type": "code",
      "source": [
        "import pandas as pd\n",
        "\n",
        "pd.set_option('display.max_rows', None)\n",
        "pd.set_option('display.max_columns', None)\n",
        "\n",
        "# Read the CSV file into a DataFrame\n",
        "df = pd.read_csv('spotify.csv')\n",
        "\n",
        "# Display the first 5 rows\n",
        "print(df.head().to_markdown(index=False, numalign=\"left\", stralign=\"left\"))\n",
        "\n",
        "# Print the column names and their data types\n",
        "print(df.info())\n",
        "import altair as alt\n",
        "\n",
        "# Create a box plot of track durations by artist\n",
        "chart = alt.Chart(df).mark_boxplot().encode(\n",
        "    x='Artist',\n",
        "    y='Duration (ms)'\n",
        ").properties(\n",
        "    title='Distribution of Track Durations by Artist'\n",
        ").interactive()\n",
        "\n",
        "# Save the chart\n",
        "chart.save('track_durations_by_artist_boxplot.json')"
      ],
      "metadata": {
        "colab": {
          "base_uri": "https://localhost:8080/"
        },
        "id": "9i6WkhzE9Q-j",
        "outputId": "97c5db86-3704-4d95-9ab7-cff1d4e026c4"
      },
      "execution_count": 47,
      "outputs": [
        {
          "output_type": "stream",
          "name": "stdout",
          "text": [
            "| Artist   | Track Name                              | Popularity   | Duration (ms)   | Track ID               |\n",
            "|:---------|:----------------------------------------|:-------------|:----------------|:-----------------------|\n",
            "| Drake    | Rich Baby Daddy (feat. Sexyy Red & SZA) | 92           | 319191          | 1yeB8MUNeLo9Ek1UEpsyz6 |\n",
            "| Drake    | One Dance                               | 91           | 173986          | 1zi7xx7UVEFkmKfv06H8x0 |\n",
            "| Drake    | IDGAF (feat. Yeat)                      | 90           | 260111          | 2YSzYUF3jWqb9YP9VXmpjE |\n",
            "| Drake    | First Person Shooter (feat. J. Cole)    | 88           | 247444          | 7aqfrAY2p9BUSiupwk3svU |\n",
            "| Drake    | Jimmy Cooks (feat. 21 Savage)           | 88           | 218364          | 3F5CgOj3wFlRv51JsHbxhe |\n",
            "<class 'pandas.core.frame.DataFrame'>\n",
            "RangeIndex: 440 entries, 0 to 439\n",
            "Data columns (total 5 columns):\n",
            " #   Column         Non-Null Count  Dtype \n",
            "---  ------         --------------  ----- \n",
            " 0   Artist         440 non-null    object\n",
            " 1   Track Name     440 non-null    object\n",
            " 2   Popularity     440 non-null    int64 \n",
            " 3   Duration (ms)  440 non-null    int64 \n",
            " 4   Track ID       440 non-null    object\n",
            "dtypes: int64(2), object(3)\n",
            "memory usage: 17.3+ KB\n",
            "None\n"
          ]
        }
      ]
    },
    {
      "cell_type": "markdown",
      "source": [
        "10. How does the distribution of track popularity vary for different artists? Visualize this using a swarm plot or a violin plot."
      ],
      "metadata": {
        "id": "4XPwcccQ9p2i"
      }
    },
    {
      "cell_type": "code",
      "source": [
        "import pandas as pd\n",
        "\n",
        "pd.set_option('display.max_rows', None)\n",
        "pd.set_option('display.max_columns', None)\n",
        "\n",
        "# Read the CSV file into a DataFrame\n",
        "df = pd.read_csv('spotify.csv')\n",
        "\n",
        "# Display the first 5 rows\n",
        "print(df.head().to_markdown(index=False, numalign=\"left\", stralign=\"left\"))\n",
        "\n",
        "# Print the column names and their data types\n",
        "print(df.info())\n",
        "import altair as alt\n",
        "\n",
        "# Create the swarm plot\n",
        "chart = alt.Chart(df).mark_circle(opacity=0.7).encode(\n",
        "    x=alt.X('Artist', title='Artist', axis=alt.Axis(labelAngle=-45)),\n",
        "    y=alt.Y('Popularity', title='Popularity'),\n",
        "    color='Artist',\n",
        "    tooltip=['Artist', 'Popularity']\n",
        ").properties(\n",
        "    title='Distribution of Track Popularity by Artist'\n",
        ").interactive()\n",
        "\n",
        "# Save the chart\n",
        "chart.save('track_popularity_by_artist_swarmplot.json')"
      ],
      "metadata": {
        "colab": {
          "base_uri": "https://localhost:8080/"
        },
        "id": "Esp8ThUJ9xko",
        "outputId": "d230ee81-44d5-4b4c-d284-c6699edcb826"
      },
      "execution_count": 48,
      "outputs": [
        {
          "output_type": "stream",
          "name": "stdout",
          "text": [
            "| Artist   | Track Name                              | Popularity   | Duration (ms)   | Track ID               |\n",
            "|:---------|:----------------------------------------|:-------------|:----------------|:-----------------------|\n",
            "| Drake    | Rich Baby Daddy (feat. Sexyy Red & SZA) | 92           | 319191          | 1yeB8MUNeLo9Ek1UEpsyz6 |\n",
            "| Drake    | One Dance                               | 91           | 173986          | 1zi7xx7UVEFkmKfv06H8x0 |\n",
            "| Drake    | IDGAF (feat. Yeat)                      | 90           | 260111          | 2YSzYUF3jWqb9YP9VXmpjE |\n",
            "| Drake    | First Person Shooter (feat. J. Cole)    | 88           | 247444          | 7aqfrAY2p9BUSiupwk3svU |\n",
            "| Drake    | Jimmy Cooks (feat. 21 Savage)           | 88           | 218364          | 3F5CgOj3wFlRv51JsHbxhe |\n",
            "<class 'pandas.core.frame.DataFrame'>\n",
            "RangeIndex: 440 entries, 0 to 439\n",
            "Data columns (total 5 columns):\n",
            " #   Column         Non-Null Count  Dtype \n",
            "---  ------         --------------  ----- \n",
            " 0   Artist         440 non-null    object\n",
            " 1   Track Name     440 non-null    object\n",
            " 2   Popularity     440 non-null    int64 \n",
            " 3   Duration (ms)  440 non-null    int64 \n",
            " 4   Track ID       440 non-null    object\n",
            "dtypes: int64(2), object(3)\n",
            "memory usage: 17.3+ KB\n",
            "None\n"
          ]
        }
      ]
    },
    {
      "cell_type": "code",
      "source": [],
      "metadata": {
        "id": "M5evO4Pz-Rff"
      },
      "execution_count": null,
      "outputs": []
    }
  ]
}