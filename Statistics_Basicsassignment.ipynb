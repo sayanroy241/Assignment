{
  "nbformat": 4,
  "nbformat_minor": 0,
  "metadata": {
    "colab": {
      "provenance": []
    },
    "kernelspec": {
      "name": "python3",
      "display_name": "Python 3"
    },
    "language_info": {
      "name": "python"
    }
  },
  "cells": [
    {
      "cell_type": "markdown",
      "source": [
        "1. Explain the different types of data (qualitative and quantitative) and provide examples of each. Discuss\n",
        "nominal, ordinal, interval, and ratio scales."
      ],
      "metadata": {
        "id": "dWH8cnzN5eqw"
      }
    },
    {
      "cell_type": "markdown",
      "source": [
        "Data can be broadly classified into two primary categories: qualitative and quantitative.  \n",
        "\n",
        "1. Qualitative Data\n",
        "\n",
        "Description: Qualitative data is descriptive in nature and represents characteristics or qualities. It's often subjective and can be difficult to measure numerically.  \n",
        "Examples:\n",
        "Gender (male, female, non-binary)  \n",
        "Hair color (brown, black, blonde, red)\n",
        "Country of origin  \n",
        "Favorite color\n",
        "Customer feedback (positive, negative, neutral)\n",
        "2. Quantitative Data\n",
        "\n",
        "Description: Quantitative data is numerical and represents measurable quantities. It's often objective and can be analyzed statistically.  \n",
        "Examples:\n",
        "Age (in years)  \n",
        "Height (in centimeters)  \n",
        "Weight (in kilograms)  \n",
        "Income (in dollars)  \n",
        "Number of children  \n",
        "Scales of Measurement\n",
        "\n",
        "Quantitative data can be further classified based on the level of measurement or scale:  \n",
        "\n",
        "1. Nominal Scale\n",
        "\n",
        "Description: Nominal data categorizes variables without any inherent order or ranking.  \n",
        "Examples:\n",
        "Gender  \n",
        "Marital status  \n",
        "Eye color  \n",
        "Brand of car  \n",
        "2. Ordinal Scale\n",
        "\n",
        "Description: Ordinal data categorizes variables with a specific order or rank, but the differences between categories are not equal.\n",
        "Examples:\n",
        "Educational level (high school, bachelor's, master's, Ph.D.)\n",
        "Satisfaction level (very dissatisfied, dissatisfied, neutral, satisfied, very satisfied)  \n",
        "Ranking of preferences (first, second, third)  \n",
        "3. Interval Scale\n",
        "\n",
        "Description: Interval data categorizes variables with equal intervals between categories, but there's no true zero point.\n",
        "Examples:\n",
        "Temperature (Celsius or Fahrenheit)\n",
        "IQ scores  \n",
        "Calendar years\n",
        "4. Ratio Scale\n",
        "\n",
        "Description: Ratio data categorizes variables with equal intervals and a true zero point, allowing for meaningful ratios.  \n",
        "Examples:\n",
        "Height  \n",
        "Weight  \n",
        "Income  \n",
        "Age  \n",
        "Understanding the Differences\n",
        "\n",
        "Nominal and Ordinal: Categorical data that cannot be measured numerically.\n",
        "Interval and Ratio: Numerical data that can be measured.\n",
        "Interval: No true zero point, so ratios are not meaningful.\n",
        "Ratio: True zero point, so ratios are meaningful.\n",
        "\n"
      ],
      "metadata": {
        "id": "4N1LRMUF6Xlz"
      }
    },
    {
      "cell_type": "markdown",
      "source": [
        "2. What are the measures of central tendency, and when should you use each? Discuss the mean, median,\n",
        "and mode with examples and situations where each is appropriate."
      ],
      "metadata": {
        "id": "ysx9SCQA7QMe"
      }
    },
    {
      "cell_type": "markdown",
      "source": [
        "Measures of Central Tendency\n",
        "\n",
        "Measures of central tendency are statistical tools used to describe the central or typical value of a dataset. They help us understand the distribution of data and draw meaningful insights. The three primary measures of central tendency are:\n",
        "\n",
        "1. Mean (Arithmetic Mean):\n",
        "\n",
        "Definition: The sum of all values in a dataset divided by the number of values.\n",
        "When to use: When the data is normally distributed without significant outliers.\n",
        "Example: Consider the following dataset of exam scores: 85, 92, 78, 95, 88.\n",
        "Mean = (85 + 92 + 78 + 95 + 88) / 5 = 87.6\n",
        "2. Median:\n",
        "\n",
        "Definition: The middle value in a dataset when the values are arranged in ascending or descending order. If the dataset has an even number of values, the median is the average of the two middle values.  \n",
        "When to use: When the data is skewed or has outliers, as the median is less affected by extreme values.\n",
        "Example: For the same dataset of exam scores: 78, 85, 88, 92, 95.\n",
        "Median = 88\n",
        "3. Mode:\n",
        "\n",
        "Definition: The value that appears most frequently in a dataset.\n",
        "When to use: To identify the most common category or value in a dataset, especially for categorical data.\n",
        "Example: Consider the following dataset of shoe sizes: 7, 8, 9, 8, 7, 10, 8.\n",
        "Mode = 8\n",
        "Choosing the Right Measure:\n",
        "\n",
        "Mean: Ideal for normally distributed data without outliers. It's sensitive to extreme values.\n",
        "Median: Better for skewed data or data with outliers. It provides a robust measure of central tendency.\n",
        "Mode: Useful for categorical data or identifying the most frequent value in a dataset."
      ],
      "metadata": {
        "id": "iZvoRydD7k7y"
      }
    },
    {
      "cell_type": "markdown",
      "source": [
        "3. Explain the concept of dispersion. How do variance and standard deviation measure the spread of data?"
      ],
      "metadata": {
        "id": "DrwEnfiz7rL4"
      }
    },
    {
      "cell_type": "markdown",
      "source": [
        "1. Variance:\n",
        "\n",
        "Definition: Variance measures the average squared deviation of each data point from the mean.\n",
        "\n",
        "Calculation:\n",
        "\n",
        "Calculate the mean (average) of the dataset.\n",
        "Subtract the mean from each data point to get the deviation.\n",
        "Square each deviation.\n",
        "Calculate the average of these squared deviations.\n",
        "Interpretation: A higher variance indicates greater spread, while a lower variance suggests less spread. However, the units of variance are squared units of the original data, making it difficult to interpret directly.  \n",
        "\n",
        "2. Standard Deviation:\n",
        "\n",
        "Definition: Standard deviation is the square root of the variance.  \n",
        "\n",
        "Calculation:\n",
        "\n",
        "Calculate the variance.\n",
        "Take the square root of the variance.  \n",
        "Interpretation: Standard deviation is expressed in the same units as the original data, making it easier to interpret. It provides a measure of how much, on average, data points deviate from the mean. A higher standard deviation indicates greater spread, and a lower standard deviation indicates less spread.  \n",
        "\n",
        "Why are Variance and Standard Deviation Important?\n",
        "\n",
        "These measures are crucial in various fields, including:\n",
        "\n",
        "Finance: To assess the risk associated with investments.\n",
        "Quality Control: To monitor product quality and consistency.  \n",
        "Research: To analyze the variability of experimental results.\n",
        "Data Analysis: To understand the distribution and characteristics of datasets.\n",
        "\n"
      ],
      "metadata": {
        "id": "F0up9mBEFOSw"
      }
    },
    {
      "cell_type": "markdown",
      "source": [
        "4. What is a box plot, and what can it tell you about the distribution of data"
      ],
      "metadata": {
        "id": "bhPxPxCjFnau"
      }
    },
    {
      "cell_type": "markdown",
      "source": [
        "What is a Box Plot?\n",
        "\n",
        "A box plot (also called a box-and-whisker plot) is a visual representation of a dataset's distribution using five key summary statistics:\n",
        "Minimum: The smallest value in the dataset (excluding outliers).  \n",
        "First Quartile (Q1): 25% of the data points fall below this value.  \n",
        "Median (Q2): The middle value of the dataset. 50% of the data points lie below and above this value.  \n",
        "Third Quartile (Q3): 75% of the data points fall below this value.\n",
        "Maximum:\n",
        "\n",
        " The largest value in the dataset (excluding outliers).\n",
        "\n",
        "What Box Plots Tell Us About Data Distribution\n",
        "\n",
        "Center: The median line within the box indicates the central tendency of the data.  \n",
        "Spread: The box itself shows the spread or variability of the middle 50% of the data. A wider box means more spread.  \n",
        "Symmetry:\n",
        "If the median line is in the middle of the box and the whiskers are roughly the same length, the data is likely symmetric.\n",
        "If the median line is closer to one end of the box or the whiskers are different lengths, the data is likely skewed (either positively or negatively).\n",
        "\n",
        "Outliers: The whiskers extend to the minimum and maximum values, excluding any outliers. Outliers are data points that fall significantly outside the range of the rest of the data and are often plotted as individual points beyond the whiskers.\n",
        "Comparison: Box plots are excellent for comparing the distribution of multiple datasets. You can easily see differences in center, spread, symmetry, and outliers between groups.\n",
        "Example\n",
        "\n",
        "Let's say we have box plots showing the distribution of test scores for two classes:\n",
        "Opens in a new window\n",
        "www.chegg.com\n",
        "two box plots comparing test scores of two classes\n",
        "\n",
        "From these plots, we can see:\n",
        "\n",
        "Class A has a higher median score (the median line is higher).  \n",
        "Class B has a larger spread (the box is wider).\n",
        "Class A has a slight positive skew (the median is closer to the lower end of the box).\n",
        "Class B has an outlier (the point beyond the whisker)."
      ],
      "metadata": {
        "id": "xGwPF1F8HUPr"
      }
    },
    {
      "cell_type": "markdown",
      "source": [
        "5. Discuss the role of random sampling in making inferences about populations."
      ],
      "metadata": {
        "id": "yG2jM1nuH-aT"
      }
    },
    {
      "cell_type": "markdown",
      "source": [
        "Random sampling is a cornerstone of statistical inference, a process where we draw conclusions about a larger population based on a smaller sample. By selecting individuals randomly, we aim to ensure that the sample is representative of the population, minimizing bias and increasing the reliability of our inferences.  \n",
        "\n",
        "Key Role of Random Sampling:\n",
        "\n",
        "Unbiased Representation:\n",
        "\n",
        "Equal Chance: Each member of the population has an equal chance of being selected.  \n",
        "Reduced Bias: This randomness helps to reduce systematic biases that might occur if certain individuals or groups were more likely to be chosen.  \n",
        "Statistical Inference:\n",
        "\n",
        "Confidence Intervals: Random sampling enables us to calculate confidence intervals, which provide a range of values within which the true population parameter likely lies.  \n",
        "Hypothesis Testing: By using statistical tests, we can assess the significance of differences or relationships observed in the sample and draw conclusions about the population.  \n",
        "Generalizability:\n",
        "\n",
        "Extending Findings: If the sample is truly representative, we can generalize the findings from the sample to the entire population with a certain degree of confidence.  \n",
        "Reliable Conclusions: Random sampling increases the likelihood that our conclusions are accurate and reliable.  \n",
        "Types of Random Sampling:\n",
        "\n",
        "Simple Random Sampling: Every individual has an equal chance of being selected.\n",
        "\n",
        "Stratified Random Sampling: The population is divided into subgroups (strata), and a random sample is drawn from each stratum.  \n",
        "Cluster Random Sampling: The population is divided into clusters, and a random sample of clusters is selected.  \n",
        "Systematic Random Sampling: Individuals are selected from a list at regular intervals (e.g., every 10th person).\n",
        "\n",
        ""
      ],
      "metadata": {
        "id": "aYxBbtRkMlwv"
      }
    },
    {
      "cell_type": "markdown",
      "source": [
        "6. Explain the concept of skewness and its types. How does skewness affect the interpretation of data?"
      ],
      "metadata": {
        "id": "Tp626pdUNCid"
      }
    },
    {
      "cell_type": "markdown",
      "source": [
        "What is Skewness?\n",
        "\n",
        "Skewness describes the asymmetry of a distribution. In simpler terms, it tells us if the data is bunched up on one side or the other.  \n",
        "\n",
        "Types of Skewness\n",
        "\n",
        "Positive Skewness (Right Skewed):\n",
        "\n",
        "The tail of the distribution is longer on the right side.  \n",
        "The mean is greater than the median.\n",
        "\n",
        "Example: Income distribution (a few very high incomes pull the mean up).  \n",
        "\n",
        "Positive Skewness\n",
        " Negative Skewness (Left Skewed):  \n",
        "\n",
        "The tail of the distribution is longer on the left side.  \n",
        "The mean is less than the median.  \n",
        "Example: Exam scores where most students do well, but a few score very low.  \n",
        "\n",
        "Negative Skewness\n",
        "Zero Skewness (Symmetrical):\n",
        "\n",
        "The distribution is perfectly balanced.\n",
        "The mean, median, and mode are equal.\n",
        "Example: A normal distribution (bell curve).  \n",
        "\n",
        "Zero Skewness\n",
        "How Skewness Affects Data Interpretation\n",
        "\n",
        "Skewness can significantly impact how we interpret data:\n",
        "\n",
        "Mean vs. Median: In skewed distributions, the mean is often pulled towards the tail, making it less representative of the \"typical\" value. The median, which is less affected by outliers, might be a better measure of central tendency.  \n",
        "Standard Deviation: Skewness can affect the interpretation of standard deviation. In a skewed distribution, a large standard deviation might not necessarily mean a wide spread of data.\n",
        "Data Transformations: Sometimes, data with severe skewness is transformed (e.g., taking the log or square root) to make it more normally distributed, which can improve the fit of certain statistical models.  \n",
        "Choosing the Right Statistical Tests: Some statistical tests assume a normal distribution. If your data is highly skewed, you might need to use non-parametric tests that don't make this assumption."
      ],
      "metadata": {
        "id": "Sgzk29_xNV6m"
      }
    },
    {
      "cell_type": "markdown",
      "source": [
        "7. What is the interquartile range (IQR), and how is it used to detect outliers?\n"
      ],
      "metadata": {
        "id": "9UG3AuLGNpO0"
      }
    },
    {
      "cell_type": "markdown",
      "source": [
        "What is the Interquartile Range (IQR)?\n",
        "\n",
        "The IQR is a statistical measure that tells us how spread out the middle 50% of your data is.  \n",
        "It's calculated by finding the difference between the third quartile (Q3) and the first quartile (Q1).  \n",
        "How to Calculate IQR\n",
        "\n",
        "Order your data: Arrange your data points from smallest to largest.  \n",
        "Find Q1 and Q3:\n",
        "Q1 (First Quartile): The median of the lower half of your data.  \n",
        "Q3 (Third Quartile): The median of the upper half of your data.  \n",
        "Calculate IQR:\n",
        "IQR = Q3 - Q1  \n",
        "Using IQR to Detect Outliers\n",
        "\n",
        "Outliers are data points that are significantly different from the rest of the data. The IQR helps us identify them using a simple rule:  \n",
        "\n",
        "Lower Fence: Q1 - (1.5 * IQR)\n",
        "Upper Fence: Q3 + (1.5 * IQR)\n",
        "Interpretation\n",
        "\n",
        "Any data point that falls below the lower fence or above the upper fence is considered an outlier.  \n",
        "Why IQR is Useful\n",
        "\n",
        "Robustness: Unlike the range (which is sensitive to extreme values), the IQR focuses on the middle 50% of the data, making it less susceptible to outliers.\n",
        "\n",
        "Box Plots: The IQR is visually represented in box plots, making it easy to see the spread of the data and identify potential outliers.\n",
        "\n",
        "Let's do a quick example:\n",
        "\n",
        "Data: 2, 3, 5, 7, 9, 11, 15, 18, 22\n",
        "\n",
        "Q1 = 5\n",
        "\n",
        "Q3 = 15\n",
        "\n",
        "IQR = 15 - 5 = 10\n",
        "\n",
        "Lower Fence = 5 - (1.5 * 10) = -10\n",
        "\n",
        "Upper Fence = 15 + (1.5 * 10) = 30\n",
        "\n",
        "In this example, all data points fall within the fences, so there are no outliers."
      ],
      "metadata": {
        "id": "i-TmEfYWdAa5"
      }
    },
    {
      "cell_type": "markdown",
      "source": [
        "8. Discuss the conditions under which the binomial distribution is used."
      ],
      "metadata": {
        "id": "2NyOpl9edV3t"
      }
    },
    {
      "cell_type": "markdown",
      "source": [
        "The binomial distribution is a statistical distribution that describes the probability of a certain number of successes in a fixed number of trials, given a fixed probability of success on each trial. It's a discrete probability distribution, meaning the variable can only take on certain values (whole numbers).  \n",
        "\n",
        "Conditions for Binomial Distribution:\n",
        "\n",
        "Fixed Number of Trials (n): The experiment must be conducted a specific number of times. This number is represented by 'n'.  \n",
        "\n",
        "Two Possible Outcomes: Each trial can have only two possible outcomes: success or failure.  \n",
        "\n",
        "Independent Trials: The outcome of one trial must not affect the outcome of any other trial.  \n",
        "\n",
        "Constant Probability of Success (p): The probability of success (p) must remain the same for each trial. The probability of failure (q) is then 1-p.  \n",
        "\n",
        "Example:\n",
        "\n",
        "Flipping a coin 10 times is a binomial experiment. Each flip is a trial, and there are two possible outcomes: heads (success) or tails (failure). The probability of getting heads on each flip is 0.5, and the flips are independent of each other.  \n",
        "\n",
        "Applications of Binomial Distribution:\n",
        "\n",
        "Quality Control: Checking for defects in a batch of products.  \n",
        "Medical Trials: Analyzing the success rate of a new drug.  \n",
        "Genetics: Studying the probability of inheriting certain traits.  \n",
        "Surveys and Polls: Predicting election outcomes or public opinion.  \n",
        "Key Points:\n",
        "\n",
        "The binomial distribution is a discrete probability distribution.  \n",
        "It describes the probability of a certain number of successes in a fixed number of trials.  \n",
        "The four conditions for binomial distribution must be met for it to be applicable.  \n",
        "It has various applications in different fields of study.\n",
        "\n"
      ],
      "metadata": {
        "id": "IgcTs_f7dlNE"
      }
    },
    {
      "cell_type": "markdown",
      "source": [
        "9. Explain the properties of the normal distribution and the empirical rule (68-95-99.7 rule)."
      ],
      "metadata": {
        "id": "5KbbhMjUduGU"
      }
    },
    {
      "cell_type": "markdown",
      "source": [
        "Properties of the Normal Distribution\n",
        "\n",
        "The normal distribution, also known as the bell curve, is a fundamental concept in statistics. Here are its key properties:  \n",
        "\n",
        "Symmetry:\n",
        "\n",
        " The curve is perfectly symmetrical around the mean. This means half the data falls below the mean, and the other half falls above it.  \n",
        "\n",
        "Normal distribution curve\n",
        "\n",
        "Unimodal: The curve has a single peak, which corresponds to the mean, median, and mode of the distribution. In a normal distribution, these three measures of central tendency are all equal.  \n",
        "\n",
        "Bell-shaped: The curve resembles a bell, with the highest point at the mean and gradually tapering off on both sides.  \n",
        "\n",
        "Standard Deviation: The spread of the data is determined by the standard deviation (σ). A larger standard deviation indicates a wider, flatter curve, while a smaller standard deviation results in a narrower, taller curve.  \n",
        "\n",
        "The Empirical Rule (68-95-99.7 Rule)\n",
        "\n",
        "The empirical rule, also known as the 68-95-99.7 rule, is a handy tool for understanding how data is distributed in a normal distribution. It states:  \n",
        "\n",
        "68% of the data falls within one standard deviation of the mean. This means that approximately 68% of the data points lie between (mean - σ) and (mean + σ).  \n",
        "95% of the data falls within two standard deviations of the mean. About 95% of the data points are between (mean - 2σ) and (mean + 2σ).  \n",
        "99.7% of the data falls within three standard deviations of the mean. Nearly all the data (99.7%) lies between (mean - 3σ) and (mean + 3σ).  \n",
        "\n",
        "Empirical rule on a normal distribution curve\n",
        "Why is the Normal Distribution Important?\n",
        "\n",
        "Natural Occurrence: Many natural phenomena follow a normal distribution, such as height, weight, IQ scores, and measurement errors.  \n",
        "Central Limit Theorem: The central limit theorem states that the distribution of sample means tends to be normal, regardless of the underlying population distribution, as the sample size increases. This makes the normal distribution crucial for statistical inference.  \n",
        "Standardization: The normal distribution allows us to standardize data using z-scores, which makes it easier to compare and analyze data from different distributions.  \n"
      ],
      "metadata": {
        "id": "oNnc3ZnCdzb0"
      }
    },
    {
      "cell_type": "markdown",
      "source": [
        "10. Provide a real-life example of a Poisson process and calculate the probability for a specific event"
      ],
      "metadata": {
        "id": "yir6JA98ehNu"
      }
    },
    {
      "cell_type": "markdown",
      "source": [
        "Real-life example of a Poisson process:\n",
        "\n",
        "Customer arrivals at a store: The number of customers arriving at a store in a given time interval can be modeled as a Poisson process. The arrivals are random, independent, and occur at a constant average rate (e.g., 10 customers per hour).\n",
        "Calculating probability:\n",
        "\n",
        "Let's say we know that, on average, 10 customers arrive at the store per hour. We want to calculate the probability that exactly 15 customers arrive in the next hour.\n",
        "\n",
        "We can use the Poisson probability mass function (PMF) to calculate this:\n",
        "\n",
        "P(X = k) = (e^(-λ) * λ^k) / k!\n",
        "Where:\n",
        "\n",
        "P(X = k) is the probability of k events occurring.\n",
        "λ is the average rate of events (in our case, 10 customers per hour).\n",
        "k is the number of events we're interested in (15 customers).\n",
        "e is the base of the natural logarithm (approximately 2.71828).\n",
        "Plugging in the values:\n",
        "\n",
        "P(X = 15) = (e^(-10) * 10^15) / 15!\n",
        "Using a calculator or statistical software, we can calculate this probability to be approximately 0.0347.\n",
        "\n",
        "This means there's a 3.47% chance that exactly 15 customers will arrive at the store in the next hour."
      ],
      "metadata": {
        "id": "2qujgeMUemoS"
      }
    },
    {
      "cell_type": "markdown",
      "source": [
        "11. Explain what a random variable is and differentiate between discrete and continuous random variables."
      ],
      "metadata": {
        "id": "xBI4lmpnfOHB"
      }
    },
    {
      "cell_type": "markdown",
      "source": [
        "Random Variable\n",
        "\n",
        "A random variable is a variable whose value is a numerical outcome of a random phenomenon or experiment. In simpler terms, it's a variable that can take on different values based on chance. We often use capital letters like X or Y to represent random variables.  \n",
        "\n",
        "Discrete Random Variable\n",
        "\n",
        "A discrete random variable can only take on a finite or countably infinite number of distinct values. This means you can list all the possible values the variable can take. Examples include:  \n",
        "\n",
        "The number of heads when flipping a coin three times (0, 1, 2, or 3)\n",
        "\n",
        "\n",
        "Discrete random variable\n",
        "The number of cars passing through an intersection in an hour (0, 1, 2, 3, ...)\n",
        "The number of children in a family (0, 1, 2, 3, ...)  \n",
        "Continuous Random Variable\n",
        "\n",
        "A continuous random variable can take on any value within a specific range or interval. The possible values are infinite and uncountable. Examples include:  \n",
        "\n",
        "Height of a person (any value between a certain range)  \n",
        "\n",
        "Continuous random variable\n",
        "Weight of a fruit (any value within a certain range)\n",
        "Time taken to complete a task (any value within a certain range)\n",
        "Key Differences\n",
        "\n",
        "Possible Values: Discrete variables have a finite or countable number of values, while continuous variables have an infinite number of values.  \n",
        "\n",
        "Probability: The probability of a discrete variable taking on a specific value is a non-zero number. For continuous variables, the probability of taking on a specific value is technically zero, but the probability of falling within a range is non-zero.  \n",
        "\n",
        "Representation: Discrete variables are often represented by bar graphs or histograms, while continuous variables are typically represented by smooth curves or probability density functions."
      ],
      "metadata": {
        "id": "woUsN14QfnVh"
      }
    },
    {
      "cell_type": "markdown",
      "source": [
        "12. Provide an example dataset, calculate both covariance and correlation, and interpret the results."
      ],
      "metadata": {
        "id": "8HoZ16kugbGX"
      }
    },
    {
      "cell_type": "markdown",
      "source": [
        "Example Dataset: Ice Cream Sales and Temperature\n",
        "\n",
        "Let's consider a simple dataset:\n",
        "\n",
        "Day\tIce Cream Sales (units)\tTemperature (°C)\n",
        "1\t20\t25\n",
        "2\t30\t30\n",
        "3\t40\t35\n",
        "4\t50\t40\n",
        "5\t60\t45\n",
        "\n",
        "Export to Sheets\n",
        "Calculating Covariance:\n",
        "\n",
        "Covariance measures how two variables change together. A positive covariance indicates that as one variable increases, the other tends to increase as well. A negative covariance indicates that as one variable increases, the other tends to decrease.\n",
        "\n",
        "The formula for covariance is:\n",
        "\n",
        "Cov(X, Y) = Σ[(Xi - μX) * (Yi - μY)] / (n-1)\n",
        "Where:\n",
        "\n",
        "Cov(X, Y): Covariance between X and Y\n",
        "Xi: Individual value of X\n",
        "μX: Mean of X\n",
        "Yi: Individual value of Y\n",
        "μY: Mean of Y\n",
        "n: Number of data points\n",
        "Calculating the covariance for the given dataset:\n",
        "\n",
        "Calculate the means:\n",
        "\n",
        "Mean of Ice Cream Sales (μX) = (20+30+40+50+60)/5 = 40\n",
        "Mean of Temperature (μY) = (25+30+35+40+45)/5 = 35\n",
        "Calculate the differences from the means:\n",
        "\n",
        "For each data point, subtract the mean from the value for both variables.\n",
        "Multiply the differences:\n",
        "\n",
        "For each data point, multiply the difference in X by the difference in Y.\n",
        "Sum the products:\n",
        "\n",
        "Add up all the products from step 3.\n",
        "Divide by (n-1):\n",
        "\n",
        "Divide the sum from step 4 by (n-1) = 4.\n",
        "Calculating the covariance using a calculator or statistical software, we get:\n",
        "\n",
        "Cov(Ice Cream Sales, Temperature) ≈ 100\n",
        "Interpreting Covariance:\n",
        "\n",
        "The positive covariance of 100 indicates that as the temperature increases, the ice cream sales also tend to increase. This aligns with our intuition: warmer weather often leads to increased demand for ice cream.\n",
        "\n",
        "Calculating Correlation:\n",
        "\n",
        "Correlation is a standardized measure of the linear relationship between two variables. It ranges from -1 to 1, where:\n",
        "\n",
        "-1: Perfect negative correlation\n",
        "0: No correlation\n",
        "1: Perfect positive correlation\n",
        "The formula for Pearson's correlation coefficient is:\n",
        "\n",
        "r = Cov(X, Y) / (σX * σY)\n",
        "Where:\n",
        "\n",
        "r: Pearson's correlation coefficient\n",
        "Cov(X, Y): Covariance between X and Y\n",
        "σX: Standard deviation of X\n",
        "σY: Standard deviation of Y\n",
        "Calculating the correlation coefficient for the given dataset:\n",
        "\n",
        "Calculate the standard deviations:\n",
        "\n",
        "Calculate the standard deviation for both Ice Cream Sales and Temperature.\n",
        "Divide the covariance by the product of the standard deviations:\n",
        "\n",
        "Use the covariance calculated earlier and the standard deviations calculated in step 1.\n",
        "Calculating the correlation coefficient using a calculator or statistical software, we get:\n",
        "r ≈ 1"
      ],
      "metadata": {
        "id": "CM__Jdsphy-f"
      }
    }
  ]
}