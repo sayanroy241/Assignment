{
  "nbformat": 4,
  "nbformat_minor": 0,
  "metadata": {
    "colab": {
      "provenance": []
    },
    "kernelspec": {
      "name": "python3",
      "display_name": "Python 3"
    },
    "language_info": {
      "name": "python"
    }
  },
  "cells": [
    {
      "cell_type": "markdown",
      "source": [
        "1. Explain the key features of Python that make it a popular choice for\n",
        "   programming.   "
      ],
      "metadata": {
        "id": "9WOoJF5EbmV7"
      }
    },
    {
      "cell_type": "markdown",
      "source": [
        "Key features of Python that make it a popular choice\n",
        "\n",
        "\n",
        "1.   Ease of learning as Python is easy to learn.\n",
        "2.   Versatility as Python can be used in anywhere like frontend & backend\n",
        "     development, machine learning, data analysis, automation, image processing etc.\n",
        "3.   Readability as it is very easy to read the Python code.\n",
        "4.   Python has a lot of libraries(137000).\n",
        "5.   Python has Huge active community.\n",
        "6.   Python is a portable language that means we can run a python code in any\n",
        "     platform\n",
        "\n",
        "\n",
        "\n",
        "\n",
        "\n",
        "\n",
        "\n",
        "\n",
        "\n",
        "\n"
      ],
      "metadata": {
        "id": "HXewcOwScxko"
      }
    },
    {
      "cell_type": "markdown",
      "source": [
        " 2. Describe the role of predefined keywords in Python & provide examples of  \n",
        "    how they are used in a program.\n"
      ],
      "metadata": {
        "id": "FJfV5LlqkvAH"
      }
    },
    {
      "cell_type": "markdown",
      "source": [
        "Predefined keywords are predefined & reserved words that have special meaning & specific purpose. They should not be used as a variable, function or identifier. There are 35 keywords in python & all are written in lowercase except True & False.\n"
      ],
      "metadata": {
        "id": "E6Rse2RZor4y"
      }
    },
    {
      "cell_type": "code",
      "source": [
        "# Examples of keywords used in a program\n",
        "# Examples of True, False, and, or, not, if keywords\n",
        "print(True & True)"
      ],
      "metadata": {
        "colab": {
          "base_uri": "https://localhost:8080/"
        },
        "id": "u8kkYnH43qCu",
        "outputId": "cad3accc-88ce-4202-f985-28cd92d91c54"
      },
      "execution_count": null,
      "outputs": [
        {
          "output_type": "stream",
          "name": "stdout",
          "text": [
            "True\n"
          ]
        }
      ]
    },
    {
      "cell_type": "code",
      "source": [
        "print(True & False)"
      ],
      "metadata": {
        "colab": {
          "base_uri": "https://localhost:8080/"
        },
        "id": "wlGAOAfl5NHF",
        "outputId": "44039d56-a694-430b-df75-12f592223080"
      },
      "execution_count": null,
      "outputs": [
        {
          "output_type": "stream",
          "name": "stdout",
          "text": [
            "False\n"
          ]
        }
      ]
    },
    {
      "cell_type": "code",
      "source": [
        "print(True or False)"
      ],
      "metadata": {
        "colab": {
          "base_uri": "https://localhost:8080/"
        },
        "id": "wEaSPaxu5X__",
        "outputId": "a2132c29-ad86-4f88-d9df-0ecf56618b72"
      },
      "execution_count": null,
      "outputs": [
        {
          "output_type": "stream",
          "name": "stdout",
          "text": [
            "True\n"
          ]
        }
      ]
    },
    {
      "cell_type": "code",
      "source": [
        "print(not False)"
      ],
      "metadata": {
        "colab": {
          "base_uri": "https://localhost:8080/"
        },
        "id": "ZHb0LnMR5nZ9",
        "outputId": "b694270b-78bf-42a5-9e0c-9601c3c8ecd3"
      },
      "execution_count": null,
      "outputs": [
        {
          "output_type": "stream",
          "name": "stdout",
          "text": [
            "True\n"
          ]
        }
      ]
    },
    {
      "cell_type": "code",
      "source": [
        "x=100\n",
        "if (x%2==0):\n",
        "  print(\"the number is even\")\n"
      ],
      "metadata": {
        "colab": {
          "base_uri": "https://localhost:8080/"
        },
        "id": "dZX-OCTP5s02",
        "outputId": "7878b7ce-0191-4f61-96d7-3c2a755f2b83"
      },
      "execution_count": null,
      "outputs": [
        {
          "output_type": "stream",
          "name": "stdout",
          "text": [
            "the number is even\n"
          ]
        }
      ]
    },
    {
      "cell_type": "markdown",
      "source": [
        "3. Compare and contrast mutable and immutable objects in python with examples."
      ],
      "metadata": {
        "id": "8-lIkhS-6_FY"
      }
    },
    {
      "cell_type": "code",
      "source": [
        "# Objects or containers whose value can be changed after creation are called mutable objects or containers.\n",
        "# examples\n",
        "list_sr = [2,3,\"sayan\", 4.5]\n",
        "list_sr[0] = 45\n",
        "list_sr"
      ],
      "metadata": {
        "colab": {
          "base_uri": "https://localhost:8080/"
        },
        "id": "59PPX40X81gp",
        "outputId": "09f4f028-0a15-4fce-c30f-78485a451522"
      },
      "execution_count": null,
      "outputs": [
        {
          "output_type": "execute_result",
          "data": {
            "text/plain": [
              "[45, 3, 'sayan', 4.5]"
            ]
          },
          "metadata": {},
          "execution_count": 1
        }
      ]
    },
    {
      "cell_type": "code",
      "source": [
        "# conversely objects whose value can't be changed after creation are called immutable objects.\n",
        "# examples\n",
        "b = \"Sayan\"\n",
        "b[0]"
      ],
      "metadata": {
        "colab": {
          "base_uri": "https://localhost:8080/",
          "height": 35
        },
        "id": "DUMpjcD8iRUk",
        "outputId": "968981bd-057f-46c3-8805-a398ea5019fa"
      },
      "execution_count": null,
      "outputs": [
        {
          "output_type": "execute_result",
          "data": {
            "text/plain": [
              "'S'"
            ],
            "application/vnd.google.colaboratory.intrinsic+json": {
              "type": "string"
            }
          },
          "metadata": {},
          "execution_count": 2
        }
      ]
    },
    {
      "cell_type": "code",
      "source": [
        "b[0] = \"s\""
      ],
      "metadata": {
        "colab": {
          "base_uri": "https://localhost:8080/",
          "height": 141
        },
        "id": "q3EHm1xEotfA",
        "outputId": "07942a8a-a8ba-4278-c43b-00ba0505b064"
      },
      "execution_count": null,
      "outputs": [
        {
          "output_type": "error",
          "ename": "TypeError",
          "evalue": "'str' object does not support item assignment",
          "traceback": [
            "\u001b[0;31m---------------------------------------------------------------------------\u001b[0m",
            "\u001b[0;31mTypeError\u001b[0m                                 Traceback (most recent call last)",
            "\u001b[0;32m<ipython-input-3-b0d27d3022a5>\u001b[0m in \u001b[0;36m<cell line: 1>\u001b[0;34m()\u001b[0m\n\u001b[0;32m----> 1\u001b[0;31m \u001b[0mb\u001b[0m\u001b[0;34m[\u001b[0m\u001b[0;36m0\u001b[0m\u001b[0;34m]\u001b[0m \u001b[0;34m=\u001b[0m \u001b[0;34m\"s\"\u001b[0m\u001b[0;34m\u001b[0m\u001b[0;34m\u001b[0m\u001b[0m\n\u001b[0m",
            "\u001b[0;31mTypeError\u001b[0m: 'str' object does not support item assignment"
          ]
        }
      ]
    },
    {
      "cell_type": "code",
      "source": [
        "# Here we see list support item assignment but string doesn't support item assignment. So list is mutable object but string is immutable object.\n"
      ],
      "metadata": {
        "id": "QAL6Q6EEo8TT"
      },
      "execution_count": null,
      "outputs": []
    },
    {
      "cell_type": "markdown",
      "source": [
        "4. Discuss the different types of operators in Python and provide examples of how they are used."
      ],
      "metadata": {
        "id": "dBeAwwEwrO4j"
      }
    },
    {
      "cell_type": "code",
      "source": [
        "# In Python operators are used to perform operations on values & variables\n",
        "# Types of Operators- 1. Arithmatic operators, 2.Comparison operators, 3. Logical operators, 4. Bitwise operators, 5. Assignment operators, 6. Membership operators, 7. Identity operators\n",
        "# 1.Arithmatic operators perform arithmatic operations on variables.\n",
        "# example of Arithmatic operators\n",
        "a=4.5\n",
        "b=2\n",
        "print(a+b) # addition\n",
        "print(a-b) # subtraction\n",
        "print(a*b) # multiplication\n",
        "print(a/b) # division\n",
        "print(a//b) # floor\n",
        "print(a%b) # modulus"
      ],
      "metadata": {
        "colab": {
          "base_uri": "https://localhost:8080/"
        },
        "id": "iDYaanhNrvJF",
        "outputId": "2f670579-4db9-4f02-b579-51813274a812"
      },
      "execution_count": null,
      "outputs": [
        {
          "output_type": "stream",
          "name": "stdout",
          "text": [
            "6.5\n",
            "2.5\n",
            "9.0\n",
            "2.25\n",
            "2.0\n",
            "0.5\n"
          ]
        }
      ]
    },
    {
      "cell_type": "code",
      "source": [
        "# 2. Comparison operators compares values.\n",
        "# example of comparison operators\n",
        "a=20\n",
        "b=13\n",
        "print(a>b) # greater than\n",
        "print(a<b) # less than\n",
        "print(a==b) # equal to\n",
        "print(a!=b) # not equal to\n",
        "print(a>=b) # greater than or equal to\n",
        "print(a<=b) # less than or equal to\n"
      ],
      "metadata": {
        "colab": {
          "base_uri": "https://localhost:8080/"
        },
        "id": "3AKIT9JMxoZP",
        "outputId": "0fa1c9c9-8d74-4134-9e25-d77c1be468c9"
      },
      "execution_count": null,
      "outputs": [
        {
          "output_type": "stream",
          "name": "stdout",
          "text": [
            "True\n",
            "False\n",
            "False\n",
            "True\n",
            "True\n",
            "False\n"
          ]
        }
      ]
    },
    {
      "cell_type": "code",
      "source": [
        "# 3. Logical operators are used to combine multiple conditions together and evaluate them as a single boolean expression.\n",
        "# example of logical operators\n",
        "a = True\n",
        "b = False\n",
        "print(a and b) # logical AND\n",
        "print(a or b) # logical OR\n",
        "print(not a) # logical NOT"
      ],
      "metadata": {
        "id": "PlLQ11Bb9rEZ",
        "colab": {
          "base_uri": "https://localhost:8080/"
        },
        "outputId": "415184ba-d165-4b30-a8d2-8ee7c15610d7"
      },
      "execution_count": 1,
      "outputs": [
        {
          "output_type": "stream",
          "name": "stdout",
          "text": [
            "False\n",
            "True\n",
            "False\n"
          ]
        }
      ]
    },
    {
      "cell_type": "code",
      "source": [
        "# 4. Bitwise operators acts on bits & perform bit-by-bit operations. It operates on binary numbers.\n",
        " # example of bitwise operators\n",
        "q = 12\n",
        "r = 8\n",
        "print(q & r) # Bitwise AND\n",
        "print(q | r) # Bitwise OR\n",
        "print(~q)    # Bitwise NOT\n",
        "print(q ^ r) # Bitwise XOR\n",
        "print(q >> 3) # Bitwise RIGHT SHIFT\n",
        "print(q << 3) # Bitwise LEFT SHIFT\n",
        "\n",
        "\n"
      ],
      "metadata": {
        "colab": {
          "base_uri": "https://localhost:8080/"
        },
        "id": "z81ArUZWACpI",
        "outputId": "402a8ab1-1c52-4491-f14f-19a6e0aab999"
      },
      "execution_count": 2,
      "outputs": [
        {
          "output_type": "stream",
          "name": "stdout",
          "text": [
            "8\n",
            "12\n",
            "-13\n",
            "4\n",
            "1\n",
            "96\n"
          ]
        }
      ]
    },
    {
      "cell_type": "code",
      "source": [
        "\n",
        "# 5. Assignment operators are used to assign values to the variables.\n",
        "# Example of Assignment operators\n",
        "m = 10\n",
        "n = m # Assign the value of the right side of the expression to the left side operand\n",
        "print(n)\n",
        "n+=m # n= n+m\n",
        "print(n)\n",
        "n-=m # n= n-m\n",
        "print(n)\n",
        "n*=m # n=n*m\n",
        "print(n)\n",
        "n<<=m #n= n<<m\n",
        "print(n)\n",
        "n>>=m # n=n>>m\n",
        "print(n)\n",
        "n/=m # n= n/m\n",
        "print(n)"
      ],
      "metadata": {
        "colab": {
          "base_uri": "https://localhost:8080/"
        },
        "id": "ko-e43UCGDS_",
        "outputId": "b2bba00d-b9ef-4689-fbee-f0207de4ed2a"
      },
      "execution_count": 3,
      "outputs": [
        {
          "output_type": "stream",
          "name": "stdout",
          "text": [
            "10\n",
            "20\n",
            "10\n",
            "100\n",
            "102400\n",
            "100\n",
            "10.0\n"
          ]
        }
      ]
    },
    {
      "cell_type": "code",
      "source": [
        "# 6. Membership operators in python are used to test whether a value or variable is in a sequence.\n",
        "# Example of Membership operators\n",
        "a=12\n",
        "b=15\n",
        "c=[12, 16, 20, 24]\n",
        "if a in c:\n",
        "  print(\"a exist in c\")\n",
        "else:\n",
        "  print(\"a doesn't exist in c\")\n",
        "if b not in c:\n",
        "  print(\"b doesn't exist in c\")\n",
        "else:\n",
        "  print(\"b exist in c\")\n"
      ],
      "metadata": {
        "colab": {
          "base_uri": "https://localhost:8080/"
        },
        "id": "ihKVJMPfJIta",
        "outputId": "ad017de9-7b9a-4d52-9a74-9d72630f5711"
      },
      "execution_count": 5,
      "outputs": [
        {
          "output_type": "stream",
          "name": "stdout",
          "text": [
            "a exist in c\n",
            "b doesn't exist in c\n"
          ]
        }
      ]
    },
    {
      "cell_type": "code",
      "source": [
        "# 7. Identity operators in Python are used to check whether two values are located in the same part of the memory or not.\n",
        "# Examples of Identity operators\n",
        "a=12\n",
        "b=16\n",
        "c=a\n",
        "print(a is not b) # is not identity operator returns True if both are not identical\n",
        "print(a is c) # is operator returns true if both are identical\n"
      ],
      "metadata": {
        "colab": {
          "base_uri": "https://localhost:8080/"
        },
        "id": "AIO6cvbFMF11",
        "outputId": "48104068-f8a6-4d58-c90b-02e81b32a4ce"
      },
      "execution_count": 6,
      "outputs": [
        {
          "output_type": "stream",
          "name": "stdout",
          "text": [
            "True\n",
            "True\n"
          ]
        }
      ]
    },
    {
      "cell_type": "markdown",
      "source": [
        "5. Explain the concept of type casting in Python with examples.\n",
        "\n"
      ],
      "metadata": {
        "id": "LurDMZPQa7z7"
      }
    },
    {
      "cell_type": "code",
      "source": [
        "# Type casting or type conversion is a process to convert the data type of a value or object. It is required when there is mismatch between two datatypes while performing any operation on those.\n",
        "# There are two types of type casting,  a) implicit type conversion , b) explicit conversion\n",
        "# Example of implicit type conversion or type casting\n",
        "a=8\n",
        "b=2.5\n",
        "c=\"sayan\"\n",
        "print(type(a)) # here Python automatically converts a to int\n",
        "print(type(b)) # here Python automatically converts b to float\n",
        "print(type(c)) # here Python automatically converts c to string\n"
      ],
      "metadata": {
        "colab": {
          "base_uri": "https://localhost:8080/"
        },
        "id": "bTUpP2p0cdOY",
        "outputId": "1d3b7986-3372-4480-e280-403e437500bf"
      },
      "execution_count": 7,
      "outputs": [
        {
          "output_type": "stream",
          "name": "stdout",
          "text": [
            "<class 'int'>\n",
            "<class 'float'>\n",
            "<class 'str'>\n"
          ]
        }
      ]
    },
    {
      "cell_type": "code",
      "source": [
        "# Example of explicit type casting or type conversion\n",
        "a = 6\n",
        "print(type(a))\n",
        "a = float(a) # here we are changing the data type a from integer to float.\n",
        "print(type(a))"
      ],
      "metadata": {
        "colab": {
          "base_uri": "https://localhost:8080/"
        },
        "id": "Mn4oNyMgffSS",
        "outputId": "4e11615c-99cd-402b-84e9-a31e7360c120"
      },
      "execution_count": 8,
      "outputs": [
        {
          "output_type": "stream",
          "name": "stdout",
          "text": [
            "<class 'int'>\n",
            "<class 'float'>\n"
          ]
        }
      ]
    },
    {
      "cell_type": "code",
      "source": [],
      "metadata": {
        "id": "MAb_dEgvgqYH"
      },
      "execution_count": null,
      "outputs": []
    },
    {
      "cell_type": "markdown",
      "source": [
        "6. How do conditional statements work in Python? illustrate with examples.\n"
      ],
      "metadata": {
        "id": "6H5zjZAxhe4o"
      }
    },
    {
      "cell_type": "code",
      "source": [
        "# Conditional statements allow us to control the flow of Python programming based on conditions that we will specify.\n",
        "# Types of conditional statements- 1. if, 2. if else, 3. if elif else, 4. nested if else\n",
        "# Example of if statement\n",
        "a=50\n",
        "if (a%2==0): # condition\n",
        "  print(\"number is even\") # if above condition satisfied this block will be executed"
      ],
      "metadata": {
        "colab": {
          "base_uri": "https://localhost:8080/"
        },
        "id": "dZhNL-lvh3yy",
        "outputId": "aac69d32-d200-4773-e3eb-f1c3ae42b71f"
      },
      "execution_count": 9,
      "outputs": [
        {
          "output_type": "stream",
          "name": "stdout",
          "text": [
            "number is even\n"
          ]
        }
      ]
    },
    {
      "cell_type": "code",
      "source": [
        "# Example of if else statement\n",
        "b=25\n",
        "if b==20: # condition\n",
        "  print(\"yes\") # if above condition satisfied this block will be executed\n",
        "else:\n",
        "  print(\"no\") # if above condition not satisfied this block will be executed"
      ],
      "metadata": {
        "colab": {
          "base_uri": "https://localhost:8080/"
        },
        "id": "Pvi7caKoqV-w",
        "outputId": "9d566f3b-d223-4489-d850-0d107e2aceff"
      },
      "execution_count": 10,
      "outputs": [
        {
          "output_type": "stream",
          "name": "stdout",
          "text": [
            "no\n"
          ]
        }
      ]
    },
    {
      "cell_type": "code",
      "source": [
        "# Example of if elif else statement\n",
        "a=60\n",
        "if a>60: # condition\n",
        "  print(\"value is greater than 60\") # if above condition satisfied this block will be executed\n",
        "elif a<60: # condition\n",
        "  print(\"value is less than 60\") # if above condition satisfied this block will be executed\n",
        "elif a<150: # condition\n",
        "  print(\"value is less than 150\") # here above condition satisfied so this block will be executed\n",
        "else: # condition\n",
        "  print(\"value is equal to 60\") # this block will not be executed as previous condition already satisfied so this block will not be checked"
      ],
      "metadata": {
        "colab": {
          "base_uri": "https://localhost:8080/"
        },
        "id": "v9f43tQ1rlCx",
        "outputId": "3f19d2c9-f5cd-42d8-f4bf-17b0bb5ea3f5"
      },
      "execution_count": 1,
      "outputs": [
        {
          "output_type": "stream",
          "name": "stdout",
          "text": [
            "value is less than 150\n"
          ]
        }
      ]
    },
    {
      "cell_type": "code",
      "source": [
        "# Example of nested if else statement\n",
        "a = 2\n",
        "b = 7\n",
        "if a>5: # condition\n",
        "  if b>5: # if above condition satisfies then it will enter this nested if block & will check this condition\n",
        "    print(\"both a & b greater than 5\") # if above nested if condition satisfies then it will be executed\n",
        "  else:\n",
        "    print(\"only a is greater than 5\") # if above nested if condition doesn't satisfy then this else block will be executed\n",
        "elif b>5: # if condition of line number 3 doesn't satisfy then this condition will be checked\n",
        "    print(\"only b is greater than 5 \") # if above condition satisfies then this line will be executed\n",
        "else:\n",
        "  print(\"neither a nor b is greater than 5\") # if all the above condition doesn't satisfy then this line will be executed\n",
        "\n"
      ],
      "metadata": {
        "colab": {
          "base_uri": "https://localhost:8080/"
        },
        "id": "CBxRJy_lSZ9U",
        "outputId": "bc519706-df57-4c55-a4bf-9a47a27191f4"
      },
      "execution_count": 3,
      "outputs": [
        {
          "output_type": "stream",
          "name": "stdout",
          "text": [
            "only b is greater than 5 \n"
          ]
        }
      ]
    },
    {
      "cell_type": "markdown",
      "source": [
        "7. Describe the different types of loops in Python and their use cases with\n",
        "   examples"
      ],
      "metadata": {
        "id": "Lk9Z1dNDdGTv"
      }
    },
    {
      "cell_type": "code",
      "source": [
        "# Loops allow us to execute a block of code repeatedly\n",
        "# Loops are of two types. 1) While loop, 2) For loop\n",
        "# 1) While loop is used to execute a block of statements repeatedly until a given condition is satisfied. When the condition becomes false it will come out from the loop.\n",
        "# Example of while loop\n",
        "row=4 # initialisation\n",
        "while row>=1: # check the condition & will be checked repeatedly until condition becomes false & the body will also be executed same number of times the condition satisfies\n",
        "    col=1 # if above condition is satisfied then it will enter the loop & this initialisation will be executed\n",
        "    while col<=row: # now it will check this while condition will be continued until condition becomes false & the body will also be executed same number of times the condition satisfies.\n",
        "        print(\"*\", end=\"\") # this line will be executed continuously until above while condition becomes false\n",
        "        col=col+1 # it will increase the value of column by 1 from last assigned value\n",
        "    print() # if above while condition becomes false then this line will be executed\n",
        "    row=row-1 # after the above line this line will be executed where value of row variable will be decreased by 1 from last assigned value if previous while condition is failed\n"
      ],
      "metadata": {
        "colab": {
          "base_uri": "https://localhost:8080/"
        },
        "id": "oEk5p0t5dkwm",
        "outputId": "c01afe81-05f6-4b90-e70e-cd0486a0149c"
      },
      "execution_count": 4,
      "outputs": [
        {
          "output_type": "stream",
          "name": "stdout",
          "text": [
            "****\n",
            "***\n",
            "**\n",
            "*\n"
          ]
        }
      ]
    },
    {
      "cell_type": "code",
      "source": [
        "# 2) For loops iterate over a sequence of elements like string, list.\n",
        "# Example of for loop\n",
        "for i in range(6): # it iterates value from 0 to 5. First it will take 0.\n",
        "    for j in range (i+1): # First it will take 1 as i=0.\n",
        "        print(\"*\", end=\"\") # It will print \"*\" 1 time at first as range is 1 at first. Then it gets out of the loop & take i as 1 & range of j will be 2 then so wil print * two times.\n",
        "    print() # after printing \"*\" it helps to enter new line\n"
      ],
      "metadata": {
        "colab": {
          "base_uri": "https://localhost:8080/"
        },
        "id": "RpAqVeD5l68C",
        "outputId": "c51e2477-c363-4b08-91b8-c760f161a028"
      },
      "execution_count": 5,
      "outputs": [
        {
          "output_type": "stream",
          "name": "stdout",
          "text": [
            "*\n",
            "**\n",
            "***\n",
            "****\n",
            "*****\n",
            "******\n"
          ]
        }
      ]
    },
    {
      "cell_type": "code",
      "source": [],
      "metadata": {
        "id": "pprrC85V6-nC"
      },
      "execution_count": null,
      "outputs": []
    }
  ]
}