{
  "nbformat": 4,
  "nbformat_minor": 0,
  "metadata": {
    "colab": {
      "provenance": []
    },
    "kernelspec": {
      "name": "python3",
      "display_name": "Python 3"
    },
    "language_info": {
      "name": "python"
    }
  },
  "cells": [
    {
      "cell_type": "markdown",
      "source": [
        "# **Theoretical**"
      ],
      "metadata": {
        "id": "CMulAtIDTzHL"
      }
    },
    {
      "cell_type": "markdown",
      "source": [
        "1. What is a Support Vector Machine (SVM)?"
      ],
      "metadata": {
        "id": "9RKdvOaxUZ8X"
      }
    },
    {
      "cell_type": "markdown",
      "source": [
        "A Support Vector Machine (SVM) is a supervised machine learning algorithm primarily used for classification, regression, and outlier detection tasks. The core idea behind SVM is to find the optimal boundary—called a hyperplane—that best separates data points of different classes in a high-dimensional space"
      ],
      "metadata": {
        "id": "Xpyzie0AVABq"
      }
    },
    {
      "cell_type": "markdown",
      "source": [
        "2. What is the difference between Hard Margin and Soft Margin SVM?"
      ],
      "metadata": {
        "id": "5NzcrVZIVA_U"
      }
    },
    {
      "cell_type": "markdown",
      "source": [
        "| Feature             | Hard Margin SVM              | Soft Margin SVM               |\n",
        "| ------------------- | ---------------------------- | ----------------------------- |\n",
        "| Misclassification   | Not allowed                  | Allowed with penalty          |\n",
        "| Data requirement    | Perfectly linearly separable | Can be non-linearly separable |\n",
        "| Outlier sensitivity | High                         | Lower                         |\n",
        "| Use of slack vars   | No                           | Yes                           |\n",
        "| Regularization (C)  | Not used                     | Used to control trade-off     |\n"
      ],
      "metadata": {
        "id": "VNWK5au_VFhL"
      }
    },
    {
      "cell_type": "markdown",
      "source": [
        "3. What is the mathematical intuition behind SVM?"
      ],
      "metadata": {
        "id": "nxAzqnCYVgO6"
      }
    },
    {
      "cell_type": "markdown",
      "source": [
        "Core Idea:\n",
        "SVM aims to find the optimal hyperplane that separates data points of different classes with the maximum possible margin in an n-dimensional space. The margin is the distance between the hyperplane and the nearest data points from each class, known as support vectors.\n",
        "\n",
        "Mathematical Formulation:\n",
        "\n",
        "The equation of the hyperplane is:\n",
        "\n",
        "$w\n",
        "⋅\n",
        "x\n",
        "+\n",
        "b\n",
        "=\n",
        "0$\n",
        "\n",
        "where w is the weight vector (normal to the hyperplane),\n",
        "x is the input vector, and\n",
        "b is the bias.\n",
        "For a binary classification problem, SVM seeks to ensure:\n",
        "$y_i\n",
        "(\n",
        "w\n",
        "⋅\n",
        "x_i\n",
        "+\n",
        "b\n",
        ")\n",
        "≥ 1$\n",
        "for all training samples\n",
        "$(\n",
        "x_i\n",
        ",\n",
        "y_i\n",
        ")$, where $y_i$ is the class label (+1 or −1).\n",
        "\n",
        "The optimization objective is to maximize the margin, which is equivalent to minimize $∥w∥^2$\n",
        "  (the squared norm of w), subject to the above constraint.\n",
        "\n",
        "For non-separable data (soft margin), slack variables\n",
        "$ζ_i$ are introduced to allow some misclassifications:\n",
        "$y_i\n",
        " (w⋅x_i\n",
        " +b)≥1−\\zeta_i,$  \n",
        "\n",
        " $\\zeta_i ≥0$\n",
        "\n",
        "The objective becomes:\n",
        "$$\\min\\left(\\frac{1}{n} \\sum_{i=1}^{N} \\zeta_i + \\lambda \\|w\\|^2 \\right)$$\n",
        "\n",
        "where λ controls the trade-off between maximizing the margin and minimizing classification errors.\n",
        "\n",
        "Support Vectors:\n",
        "Only the data points closest to the hyperplane (the support vectors) influence the position and orientation of the hyperplane. The optimal hyperplane is fully determined by these points; removing them would change the boundary.\n",
        "\n",
        "Dual Formulation:\n",
        "The problem is often solved using Lagrange multipliers, leading to a dual formulation where the solution for $w$ is:\n",
        "$$w = \\sum_{i=1}^{m} \\alpha_i y_i x_i$$\n",
        "\n",
        "\n",
        "Prediction:\n",
        "\n",
        "A new point x is classified using:\n",
        "$h(x)=sign(w⋅x+b)$\n"
      ],
      "metadata": {
        "id": "ejr173paVmFz"
      }
    },
    {
      "cell_type": "markdown",
      "source": [
        "4. What is the role of Lagrange Multipliers in SVM?"
      ],
      "metadata": {
        "id": "U7G1zPUxABbb"
      }
    },
    {
      "cell_type": "markdown",
      "source": [
        "The role of Lagrange multipliers in Support Vector Machines (SVM) is to transform the constrained optimization problem of finding the maximum-margin hyperplane into an unconstrained problem, which can be solved more efficiently. This is achieved by introducing a Lagrangian function that incorporates both the objective function and the constraints.\n",
        "\n",
        "Given the primal optimization problem for a hard-margin SVM:\n",
        "\n",
        "$\\[\n",
        "\\min_{w, b} \\frac{1}{2} \\|w\\|^2\n",
        "\\]$\n",
        "subject to\n",
        "$\\[\n",
        "y_i (w \\cdot x_i + b) \\geq 1, \\quad \\forall i\n",
        "\\]$\n",
        "\n",
        "We introduce a Lagrange multiplier $\\alpha_i \\geq 0$ for each constraint and construct the Lagrangian:\n",
        "\n",
        "$\\[\n",
        "L(w, b, \\alpha) = \\frac{1}{2} \\|w\\|^2 - \\sum_{i=1}^m \\alpha_i \\left[ y_i (w \\cdot x_i + b) - 1 \\right]\n",
        "\\]$\n",
        "\n",
        "The solution involves:\n",
        "- Minimizing $L(w, b, \\alpha)$ with respect to $w$ and $b$\n",
        "- Maximizing with respect to $\\alpha_i \\geq 0$\n",
        "\n",
        "The optimal weight vector $w$ can be expressed in terms of the Lagrange multipliers:\n",
        "\n",
        "$\\[\n",
        "w = \\sum_{i=1}^m \\alpha_i y_i x_i\n",
        "\\]$\n",
        "\n",
        "Only those data points with $\\alpha_i > 0$ (the support vectors) contribute to $w$.\n",
        "\n",
        "**Summary:**  \n",
        "Lagrange multipliers allow the SVM optimization to be solved via its dual formulation, focusing computation on the support vectors and enabling the use of kernel functions for non-linear separation.\n"
      ],
      "metadata": {
        "id": "FYJq-L9GAKzQ"
      }
    },
    {
      "cell_type": "markdown",
      "source": [
        "5. What are Support Vectors in SVM?"
      ],
      "metadata": {
        "id": "UjARrGfoEk2V"
      }
    },
    {
      "cell_type": "markdown",
      "source": [
        "Support vectors are the data points in a dataset that lie closest to the decision boundary (or hyperplane) constructed by a Support Vector Machine (SVM). These points are critical because they define the position and orientation of the hyperplane that separates different classes.\n",
        "\n",
        "Key Points:\n",
        "\n",
        "The SVM algorithm seeks to maximize the margin, which is the distance between the hyperplane and the nearest data points from each class. The data points that lie on or within this margin are called support vectors.\n",
        "\n",
        "Support vectors are the most challenging points to classify correctly, as they are closest to the decision boundary. They have the most influence on how the boundary is drawn.\n",
        "\n",
        "Only the support vectors directly affect the final model; other data points do not influence the hyperplane's position.\n",
        "\n",
        "In the mathematical formulation, support vectors are the data points with non-zero Lagrange multipliers, meaning they contribute to the decision function used for classification."
      ],
      "metadata": {
        "id": "RFGnRCSRErXj"
      }
    },
    {
      "cell_type": "markdown",
      "source": [
        "6.  What is a Support Vector Classifier (SVC)?"
      ],
      "metadata": {
        "id": "5x7Df5fpE5Tq"
      }
    },
    {
      "cell_type": "markdown",
      "source": [
        "A Support Vector Classifier (SVC) is a type of machine learning model used for classification tasks, based on the principles of Support Vector Machines (SVM). The primary goal of an SVC is to find the optimal decision boundary (hyperplane) that best separates data points of different classes in a feature space.\n",
        "\n",
        "Key Characteristics:\n",
        "\n",
        "Decision Boundary: The SVC seeks a hyperplane that maximizes the margin—the distance between the hyperplane and the nearest data points from each class, which are called support vectors.\n",
        "\n",
        "Classification Rule: For a given input, the SVC predicts its class by determining which side of the hyperplane the point falls on.\n",
        "\n",
        "Linear and Nonlinear Data: While a linear SVC is used for linearly separable data, SVCs can also handle nonlinear data by employing kernel functions. Kernels transform the data into a higher-dimensional space where a linear separation is possible.\n",
        "\n",
        "Robustness: SVCs are effective in high-dimensional spaces and are robust to overfitting, especially when the number of features exceeds the number of samples."
      ],
      "metadata": {
        "id": "FXghwurOE-Xg"
      }
    },
    {
      "cell_type": "markdown",
      "source": [
        "7.  What is a Support Vector Regressor (SVR)?"
      ],
      "metadata": {
        "id": "U7462h-sFPKg"
      }
    },
    {
      "cell_type": "markdown",
      "source": [
        "A Support Vector Regressor (SVR) is a machine learning algorithm based on Support Vector Machines (SVM), specifically adapted for regression tasks where the goal is to predict continuous outcomes rather than discrete class labels.\n",
        "\n",
        "Key Concepts:\n",
        "\n",
        "Objective:\n",
        "SVR aims to find a function that approximates the relationship between input variables and a continuous target variable, ensuring that the predictions deviate from the actual values by no more than a specified margin (ε) for each training point.\n",
        "\n",
        "Epsilon-Insensitive Margin:\n",
        "SVR introduces an ε-insensitive tube around the regression function. Points within this tube are considered correctly predicted, and only points outside the tube contribute to the error. The algorithm seeks the flattest possible function (minimizing model complexity) while keeping most data points within this ε margin.\n",
        "\n",
        "Support Vectors:\n",
        "Similar to SVM for classification, only data points lying outside the ε margin (the support vectors) influence the position and shape of the regression function.\n",
        "\n",
        "Handling Nonlinearity:\n",
        "SVR can model nonlinear relationships by using kernel functions (such as polynomial or radial basis function kernels) to map data into higher-dimensional spaces, where a linear regression can be performed."
      ],
      "metadata": {
        "id": "Nl2KqbecFWrC"
      }
    },
    {
      "cell_type": "markdown",
      "source": [
        "8. What is the Kernel Trick in SVM?"
      ],
      "metadata": {
        "id": "mjc34j9wFj-R"
      }
    },
    {
      "cell_type": "markdown",
      "source": [
        "The Kernel Trick is a technique used in Support Vector Machines (SVM) to enable the algorithm to solve nonlinear classification and regression problems by implicitly mapping input data into a higher-dimensional feature space, without explicitly performing the transformation.\n",
        "\n",
        "How It Works:\n",
        "\n",
        "By default, SVMs find a linear decision boundary (hyperplane) to separate classes. However, many real-world datasets are not linearly separable in their original feature space.\n",
        "\n",
        "The kernel trick uses a kernel function to compute the inner product of data points as if they were mapped into a higher-dimensional space, but without actually computing the new coordinates. This allows SVMs to efficiently find linear boundaries in this new space, which correspond to nonlinear boundaries in the original space.\n",
        "\n",
        "Common kernel functions include the linear kernel, polynomial kernel, and radial basis function (RBF) kernel.\n",
        "\n",
        "Key Advantages:\n",
        "\n",
        "Computational Efficiency: The kernel trick avoids the computational cost of explicitly transforming data into high or infinite dimensional spaces.\n",
        "\n",
        "Flexibility: It allows SVMs to model complex, nonlinear relationships in data by choosing appropriate kernel functions."
      ],
      "metadata": {
        "id": "HCk3Aan1Fs-P"
      }
    },
    {
      "cell_type": "markdown",
      "source": [
        "9. Compare Linear Kernel, Polynomial Kernel, and RBF Kernel."
      ],
      "metadata": {
        "id": "OnqXHwpNF_pN"
      }
    },
    {
      "cell_type": "markdown",
      "source": [
        "| Feature             | Hard Margin SVM              | Soft Margin SVM               |\n",
        "| ------------------- | ---------------------------- | ----------------------------- |\n",
        "| Misclassification   | Not allowed                  | Allowed with penalty          |\n",
        "| Data requirement    | Perfectly linearly separable | Can be non-linearly separable |\n",
        "| Outlier sensitivity | High                         | Lower                         |\n",
        "| Use of slack vars   | No                           | Yes                           |\n",
        "| Regularization (C)  | Not used                     | Used to control trade-off     |\n"
      ],
      "metadata": {
        "id": "QccgX8egGMrL"
      }
    },
    {
      "cell_type": "markdown",
      "source": [
        "10.  What is the effect of the C parameter in SVM?"
      ],
      "metadata": {
        "id": "o0Wl2cRxG6Cn"
      }
    },
    {
      "cell_type": "markdown",
      "source": [
        "The C parameter in Support Vector Machines controls the trade-off between maximizing the margin (the distance between the decision boundary and the nearest data points) and minimizing classification errors on the training data.\n",
        "\n",
        "Small C Value:\n",
        "\n",
        "Emphasizes a wider margin, allowing more misclassifications.\n",
        "\n",
        "The model becomes less sensitive to individual data points, improving generalization and reducing the risk of overfitting, especially with noisy or overlapping data.\n",
        "\n",
        "The decision boundary is smoother, but training accuracy may decrease.\n",
        "\n",
        "Large C Value:\n",
        "\n",
        "Prioritizes classifying all training examples correctly, even at the cost of a narrower margin.\n",
        "\n",
        "The model becomes more sensitive to individual data points, potentially leading to overfitting if the data is not well-separated.\n",
        "\n",
        "The decision boundary may be more complex and closely fit the training data."
      ],
      "metadata": {
        "id": "2rHLuI7BG_Zc"
      }
    },
    {
      "cell_type": "markdown",
      "source": [
        "11.  What is the role of the Gamma parameter in RBF Kernel SVM?"
      ],
      "metadata": {
        "id": "irJx9JlaHSvD"
      }
    },
    {
      "cell_type": "markdown",
      "source": [
        "The gamma (γ) parameter in an RBF (Radial Basis Function) kernel SVM controls how much influence a single training example has on the decision boundary.\n",
        "\n",
        "Low Gamma:\n",
        "A small gamma value means that each data point has a far-reaching influence, resulting in a smoother, less complex decision boundary. The model considers points farther apart as similar, leading to broader generalization and potentially underfitting if the value is too low.\n",
        "\n",
        "High Gamma:\n",
        "A large gamma value means that each data point’s influence is limited to its close neighbors, resulting in a more complex, wiggly decision boundary. The model focuses on fitting the training data closely, which can lead to overfitting if gamma is too high.\n",
        "\n",
        "Intuitive Summary:\n",
        "\n",
        "Gamma determines the \"radius of influence\" of support vectors:\n",
        "\n",
        "Low gamma: Wide radius, smooth decision boundary.\n",
        "\n",
        "High gamma: Narrow radius, complex and potentially overfit boundary.\n",
        "\n",
        "The optimal gamma value balances bias and variance, and should be tuned for each dataset."
      ],
      "metadata": {
        "id": "TJdMQkdTH23i"
      }
    },
    {
      "cell_type": "markdown",
      "source": [
        "12. What is the Naïve Bayes classifier, and why is it called \"Naïve\"?"
      ],
      "metadata": {
        "id": "MdRNXINjH4Xq"
      }
    },
    {
      "cell_type": "markdown",
      "source": [
        "The Naïve Bayes classifier is a family of supervised machine learning algorithms used for classification tasks. It is based on Bayes’ Theorem, which describes the probability of a class given a set of features. Naïve Bayes models are probabilistic classifiers that learn the likelihood of features given a class and use these probabilities, along with the prior probability of each class, to compute the most probable class for a given input.\n",
        "\n",
        "The classifier is called naïve because it makes a strong assumption: all features are conditionally independent given the class label. In other words, it assumes that the presence or absence of a particular feature is unrelated to the presence or absence of any other feature, given the class.\n",
        "\n",
        "Why is it called \"Naïve\"?\n",
        "It is called \"naïve\" because the assumption of conditional independence between features is rarely true in real-world data. In practice, features often exhibit dependencies, but the algorithm ignores these and treats each feature as contributing independently to the final classification. This simplification makes the model computationally efficient and easy to implement, but also \"naïve\" in its approach to modeling the data."
      ],
      "metadata": {
        "id": "CLdv8HrXIQLv"
      }
    },
    {
      "cell_type": "markdown",
      "source": [
        "13. What is Bayes’ Theorem?"
      ],
      "metadata": {
        "id": "3bKjz43tM7Lw"
      }
    },
    {
      "cell_type": "markdown",
      "source": [
        "Bayes’ Theorem is a fundamental result in probability theory that describes how to update the probability of a hypothesis or event based on new evidence or information. It provides a way to calculate the conditional probability of an event, given the occurrence of another related event.\n",
        "\n",
        "Mathematical Formula\n",
        "Bayes’ Theorem is mathematically stated as:\n",
        "\n",
        "$$P(A|B) = \\frac{P(B|A) P(A)}{P(B)}$$\n",
        "Where:\n",
        "\n",
        "$P(A∣B)$: Posterior probability — the probability of event\n",
        "A occurring given that B has occurred.\n",
        "\n",
        "$P(B∣A)$: Likelihood — the probability of event\n",
        "B occurring given that A is true.\n",
        "\n",
        "$P(A)$: Prior probability — the probability of event\n",
        "A occurring independently.\n",
        "\n",
        "$P(B)$: Marginal probability — the probability of event\n",
        "B occurring independently"
      ],
      "metadata": {
        "id": "q4WpYfyFNMqo"
      }
    },
    {
      "cell_type": "markdown",
      "source": [
        "14. Explain the differences between Gaussian Naïve Bayes, Multinomial Naïve Bayes, and Bernoulli Naïve Bayes."
      ],
      "metadata": {
        "id": "KLSiI5qrRtsO"
      }
    },
    {
      "cell_type": "markdown",
      "source": [
        "| Model                   | Feature Type      | Feature Values | Typical Use Case             |\n",
        "| ----------------------- | ----------------- | -------------- | ---------------------------- |\n",
        "| Gaussian Naïve Bayes    | Continuous        | Real-valued    | Sensor data, measurements    |\n",
        "| Multinomial Naïve Bayes | Discrete (Counts) | Integers ≥ 0   | Text classification (TF/IDF) |\n",
        "| Bernoulli Naïve Bayes   | Binary            | 0 or 1         | Text with binary features    |\n"
      ],
      "metadata": {
        "id": "kmKpDuXNTRZO"
      }
    },
    {
      "cell_type": "markdown",
      "source": [
        "15. When should you use Gaussian Naïve Bayes over other variants?\n"
      ],
      "metadata": {
        "id": "Z6KfBdmLTpUt"
      }
    },
    {
      "cell_type": "markdown",
      "source": [
        "You should use Gaussian Naïve Bayes when your features are continuous and can be reasonably assumed to follow a normal (Gaussian) distribution. This variant models each feature’s distribution for every class using the mean and variance, making it mathematically tractable and efficient for continuous data.\n",
        "\n",
        "Key Scenarios for Gaussian Naïve Bayes:\n",
        "Continuous Data:\n",
        "Ideal when your input variables are real-valued measurements, such as height, weight, temperature, or pixel intensities in images.\n",
        "\n",
        "Assumption of Normality:\n",
        "Works best if the distribution of each feature within each class is approximately normal (bell-shaped curve).\n",
        "\n",
        "Fast, Scalable Classification:\n",
        "Suitable for large datasets and real-time applications due to its computational efficiency.\n",
        "\n",
        "High-Dimensional Data:\n",
        "Performs well even when the number of features is large, such as in text classification with TF-IDF or word embeddings.\n",
        "\n",
        "When Not to Use Gaussian Naïve Bayes:\n",
        "Discrete or Count Data:\n",
        "If your features are counts (e.g., word frequencies), use Multinomial Naïve Bayes.\n",
        "\n",
        "Binary/Boolean Data:\n",
        "If your features indicate presence/absence (0/1), use Bernoulli Naïve Bayes."
      ],
      "metadata": {
        "id": "-hc7AvLxT2I9"
      }
    },
    {
      "cell_type": "markdown",
      "source": [
        "16. What are the key assumptions made by Naïve Bayes?"
      ],
      "metadata": {
        "id": "JHiWHjQQUzd2"
      }
    },
    {
      "cell_type": "markdown",
      "source": [
        "Key Assumptions Made by Naïve Bayes\n",
        "Conditional Independence of Features:\n",
        "Naïve Bayes assumes that all features (predictors) are conditionally independent of each other given the class label. This means the presence or value of one feature does not affect or provide information about another feature, once the class is known.\n",
        "\n",
        "Equal Contribution of Features:\n",
        "Each feature is assumed to contribute equally and independently to the outcome. No feature is considered irrelevant or more important than another in determining the class.\n",
        "\n",
        "These assumptions simplify the computation of probabilities, making the model efficient and easy to implement. However, in real-world data, features are often correlated, so the independence assumption is rarely strictly true. Despite this, Naïve Bayes often performs well in practice, especially with large datasets or when feature dependencies are weak."
      ],
      "metadata": {
        "id": "-XkQYQm-U65T"
      }
    },
    {
      "cell_type": "markdown",
      "source": [
        "17. What are the advantages and disadvantages of Naïve Bayes?"
      ],
      "metadata": {
        "id": "MBpM6KmaVGeU"
      }
    },
    {
      "cell_type": "markdown",
      "source": [
        "Advantages:\n",
        "\n",
        "Simplicity and Speed:\n",
        "Naïve Bayes is one of the simplest machine learning algorithms to implement and understand. It is computationally efficient, making it suitable for large datasets and real-time predictions.\n",
        "\n",
        "Performs Well with High-Dimensional Data:\n",
        "The algorithm handles high-dimensional data effectively, which is particularly useful for text classification tasks where the number of features (e.g., words) can be very large.\n",
        "\n",
        "Requires Less Training Data:\n",
        "Naïve Bayes can achieve good performance even with relatively small amounts of training data, making it practical for applications with limited labeled examples.\n",
        "\n",
        "Works Well for Certain Applications:\n",
        "It is especially effective in domains like spam detection, sentiment analysis, and document classification, where the independence assumption is often approximately true.\n",
        "\n",
        "Not Sensitive to Irrelevant Features:\n",
        "Due to its independence assumption, the presence of irrelevant features does not drastically impact its performance.\n",
        "\n",
        "Handles Both Discrete and Continuous Data:\n",
        "With variants like Gaussian, Multinomial, and Bernoulli Naïve Bayes, the algorithm can model both continuous and categorical features.\n",
        "\n",
        "Disadvantages:\n",
        "\n",
        "Strong Independence Assumption:\n",
        "The main limitation is the assumption that all features are independent given the class label, which is rarely true in real-world data. This can lead to lower accuracy when features are correlated or interact with each other.\n",
        "\n",
        "Zero-Frequency Problem:\n",
        "If a category or feature value in the test data was not observed in the training data, the model assigns it a probability of zero, potentially leading to incorrect predictions. This can be mitigated with techniques like Laplace smoothing.\n",
        "\n",
        "Unreliable Probability Estimates:\n",
        "While Naïve Bayes often predicts the correct class, the probability estimates it produces can be poorly calibrated and should not be interpreted as true confidence levels.\n",
        "\n",
        "Limited Flexibility with Continuous Data:\n",
        "Gaussian Naïve Bayes assumes features follow a normal distribution, which may not always be appropriate for real-world continuous data.\n",
        "\n",
        "Struggles with Highly Correlated Features:\n",
        "When features are highly correlated, Naïve Bayes tends to underperform compared to more sophisticated models like Random Forests or Support Vector Machines."
      ],
      "metadata": {
        "id": "C37tvGcpVLx_"
      }
    },
    {
      "cell_type": "markdown",
      "source": [
        "18. Why is Naïve Bayes a good choice for text classification?"
      ],
      "metadata": {
        "id": "YuJDWKlFVc83"
      }
    },
    {
      "cell_type": "markdown",
      "source": [
        "Naïve Bayes is a good choice for text classification because of several key strengths:\n",
        "\n",
        "Handles High-Dimensional Data Efficiently:\n",
        "Text data often results in thousands or even tens of thousands of features (words or tokens). Naïve Bayes can efficiently process this high-dimensional data, making it ideal for tasks like spam detection, sentiment analysis, and topic categorization.\n",
        "\n",
        "Simplicity and Speed:\n",
        "The algorithm is simple to implement and extremely fast to train and predict, even on large datasets. This makes it suitable for real-time applications and scenarios where quick turnaround is essential.\n",
        "\n",
        "Performs Well with Small Datasets:\n",
        "Naïve Bayes often achieves good results even when the amount of labeled training data is limited, which is common in many text classification problems.\n",
        "\n",
        "Robust to Irrelevant Features:\n",
        "The independence assumption means Naïve Bayes is not easily distracted by irrelevant or redundant features, which are common in text data.\n",
        "\n",
        "Effective Baseline:\n",
        "Despite its \"naïve\" independence assumption, Naïve Bayes often performs surprisingly well and serves as a strong baseline for more complex models in text classification tasks.\n",
        "\n",
        "Probabilistic Output:\n",
        "It provides the probability of a document belonging to each class, which can be useful for ranking or further decision-making."
      ],
      "metadata": {
        "id": "kEGyXB4wVhij"
      }
    },
    {
      "cell_type": "markdown",
      "source": [
        "19. Compare SVM and Naïve Bayes for classification tasks.\n"
      ],
      "metadata": {
        "id": "OK1-nD2fVqov"
      }
    },
    {
      "cell_type": "markdown",
      "source": [
        "# 1. Underlying Approach\n",
        "| Feature        | **Naïve Bayes**                                        | **SVM**                                        |\n",
        "| -------------- | ------------------------------------------------------ | ---------------------------------------------- |\n",
        "| **Model Type** | Probabilistic (Bayesian)                               | Discriminative (margin-based)                  |\n",
        "| **Core Idea**  | Applies Bayes' Theorem with feature independence       | Finds the optimal separating hyperplane        |\n",
        "| **Assumption** | Features are conditionally independent given the class | No probabilistic assumption; focuses on margin |\n",
        "\n",
        "# 2. Input Feature Types\n",
        "| Feature              | **Naïve Bayes**                                                          | **SVM**                                |\n",
        "| -------------------- | ------------------------------------------------------------------------ | -------------------------------------- |\n",
        "| Feature Support      | Gaussian NB (continuous), Multinomial NB (counts), Bernoulli NB (binary) | Works with all types via kernel tricks |\n",
        "| Feature Independence | Assumes feature independence                                             | No such assumption                     |\n",
        "| Feature Scaling      | Usually not critical                                                     | **Very important** for performance     |\n",
        "\n",
        "#  3. Performance and Accuracy\n",
        "| Feature                           | **Naïve Bayes**                   | **SVM**                                           |\n",
        "| --------------------------------- | --------------------------------- | ------------------------------------------------- |\n",
        "| General Accuracy                  | Good with simple, clean data      | Often **higher accuracy**, especially with tuning |\n",
        "| Robustness to Correlated Features | Poor (assumption of independence) | Good                                              |\n",
        "| Overfitting Risk                  | Low (very simplistic model)       | Can overfit if not regularized properly           |\n",
        "\n",
        "# 4. Training Time and Scalability\n",
        "| Feature       | **Naïve Bayes**              | **SVM**                                           |\n",
        "| ------------- | ---------------------------- | ------------------------------------------------- |\n",
        "| Training Time | **Very fast** (linear)       | Slower, especially on large datasets              |\n",
        "| Scalability   | Excellent for large datasets | Struggles with large datasets unless approximated |\n",
        "\n",
        "# 5. Interpretability and Output\n",
        "| Feature          | **Naïve Bayes**                     | **SVM**                                                       |\n",
        "| ---------------- | ----------------------------------- | ------------------------------------------------------------- |\n",
        "| Output           | Probabilistic (class probabilities) | Hard class decision (can be probabilistic with Platt scaling) |\n",
        "| Interpretability | Easy to interpret                   | Harder to interpret decision boundaries                       |\n",
        "\n",
        "#  6. Use Case Suitability\n",
        "| Scenario                              | Best Choice                                           |\n",
        "| ------------------------------------- | ----------------------------------------------------- |\n",
        "| Text classification (spam, sentiment) | **Naïve Bayes** (fast and effective with word counts) |\n",
        "| High-dimensional feature spaces       | **SVM** (especially with kernels)                     |\n",
        "| When data is noisy or overlapping     | **SVM** (margin maximization handles this well)       |\n",
        "| Real-time systems or small devices    | **Naïve Bayes** (lightweight)                         |\n"
      ],
      "metadata": {
        "id": "j8qSVoYvWSs6"
      }
    },
    {
      "cell_type": "markdown",
      "source": [
        "20. How does Laplace Smoothing help in Naïve Bayes?"
      ],
      "metadata": {
        "id": "B2K2qlO0YGiO"
      }
    },
    {
      "cell_type": "markdown",
      "source": [
        "Laplace Smoothing (also called Laplacian Smoothing or Add-One Smoothing) helps Naïve Bayes classifiers avoid the problem of zero probability. This occurs when a categorical feature value in the test data was not observed in the training data, causing the probability estimate for that class to become zero and potentially leading to misclassification[1][2][4].\n",
        "\n",
        "Laplace Smoothing addresses this by adding a small positive value (usually 1) to all feature counts, ensuring that no probability is ever exactly zero. The formula for the smoothed conditional probability estimate is:\n",
        "\n",
        "\\$[\n",
        "\\hat{P}(w_i|c) = \\frac{\\text{count}(w_i, c) + 1}{\\sum_{w \\in V} \\left[\\text{count}(w, c) + 1\\right]} = \\frac{\\text{count}(w_i, c) + 1}{\\sum_{w \\in V} \\text{count}(w, c) + |V|}\n",
        "\\]$\n",
        "\n",
        "where:\n",
        "- \\( $\\text{count}(w_i, c) $\\) is the number of times word $( w_i ) $appears in class \\( c \\),\n",
        "- $( V )$ is the vocabulary (the set of all possible words/features),\n",
        "- $( |V| )$ is the size of the vocabulary.\n",
        "\n",
        "**In summary:**  \n",
        "Laplace Smoothing ensures that every possible feature value has a non-zero probability, making the Naïve Bayes classifier more robust, especially when dealing with rare or previously unseen features.\n"
      ],
      "metadata": {
        "id": "TYtkYb8GY7CI"
      }
    },
    {
      "cell_type": "markdown",
      "source": [
        "21. Write a Python program to train an SVM Classifier on the Iris dataset and evaluate accuracy."
      ],
      "metadata": {
        "id": "50HHShXqIHUr"
      }
    },
    {
      "cell_type": "code",
      "source": [
        "# Import necessary libraries\n",
        "from sklearn import datasets\n",
        "from sklearn.model_selection import train_test_split\n",
        "from sklearn.svm import SVC\n",
        "from sklearn.metrics import accuracy_score\n",
        "\n",
        "# Load the Iris dataset\n",
        "iris = datasets.load_iris()\n",
        "X = iris.data  # Features: sepal length, sepal width, petal length, petal width\n",
        "y = iris.target  # Labels: 3 classes of Iris\n",
        "\n",
        "# Split dataset into training and testing sets (e.g., 70% train, 30% test)\n",
        "X_train, X_test, y_train, y_test = train_test_split(X, y, test_size=0.3, random_state=42)\n",
        "\n",
        "# Create an SVM classifier with a linear kernel (you can change kernel='rbf' or 'poly')\n",
        "svm_classifier = SVC(kernel='linear', C=1.0, random_state=42)\n",
        "\n",
        "# Train the classifier on the training data\n",
        "svm_classifier.fit(X_train, y_train)\n",
        "\n",
        "# Predict the labels for the test set\n",
        "y_pred = svm_classifier.predict(X_test)\n",
        "\n",
        "# Evaluate accuracy\n",
        "accuracy = accuracy_score(y_test, y_pred)\n",
        "print(f\"Accuracy of SVM classifier on Iris dataset: {accuracy:.4f}\")\n"
      ],
      "metadata": {
        "colab": {
          "base_uri": "https://localhost:8080/"
        },
        "id": "WbowqQRFIfkj",
        "outputId": "02c3ecdb-5985-4713-f595-b99ac9b063a3"
      },
      "execution_count": null,
      "outputs": [
        {
          "output_type": "stream",
          "name": "stdout",
          "text": [
            "Accuracy of SVM classifier on Iris dataset: 1.0000\n"
          ]
        }
      ]
    },
    {
      "cell_type": "markdown",
      "source": [
        "22. Write a Python program to train two SVM classifiers with Linear and RBF kernels on the Wine dataset, then\n",
        "compare their accuracies."
      ],
      "metadata": {
        "id": "m-JwmHekIzOl"
      }
    },
    {
      "cell_type": "code",
      "source": [
        "# Import necessary libraries\n",
        "from sklearn import datasets\n",
        "from sklearn.model_selection import train_test_split\n",
        "from sklearn.svm import SVC\n",
        "from sklearn.metrics import accuracy_score\n",
        "\n",
        "# Load the Wine dataset\n",
        "wine = datasets.load_wine()\n",
        "X = wine.data\n",
        "y = wine.target\n",
        "\n",
        "# Split the data into training and testing sets (e.g., 70% train, 30% test)\n",
        "X_train, X_test, y_train, y_test = train_test_split(X, y, test_size=0.3, random_state=42, stratify=y)\n",
        "\n",
        "# Train SVM with Linear kernel\n",
        "svm_linear = SVC(kernel='linear', random_state=42)\n",
        "svm_linear.fit(X_train, y_train)\n",
        "y_pred_linear = svm_linear.predict(X_test)\n",
        "accuracy_linear = accuracy_score(y_test, y_pred_linear)\n",
        "\n",
        "# Train SVM with RBF kernel\n",
        "svm_rbf = SVC(kernel='rbf', random_state=42)\n",
        "svm_rbf.fit(X_train, y_train)\n",
        "y_pred_rbf = svm_rbf.predict(X_test)\n",
        "accuracy_rbf = accuracy_score(y_test, y_pred_rbf)\n",
        "\n",
        "# Compare accuracies\n",
        "print(f\"Accuracy with Linear Kernel: {accuracy_linear:.4f}\")\n",
        "print(f\"Accuracy with RBF Kernel:    {accuracy_rbf:.4f}\")\n",
        "\n",
        "if accuracy_linear > accuracy_rbf:\n",
        "    print(\"Linear kernel performed better on this split.\")\n",
        "elif accuracy_linear < accuracy_rbf:\n",
        "    print(\"RBF kernel performed better on this split.\")\n",
        "else:\n",
        "    print(\"Both kernels achieved the same accuracy.\")\n"
      ],
      "metadata": {
        "colab": {
          "base_uri": "https://localhost:8080/"
        },
        "id": "7nogMoa7I__G",
        "outputId": "a530ef3b-4684-4441-84a0-8e1ff39094de"
      },
      "execution_count": null,
      "outputs": [
        {
          "output_type": "stream",
          "name": "stdout",
          "text": [
            "Accuracy with Linear Kernel: 0.9444\n",
            "Accuracy with RBF Kernel:    0.6667\n",
            "Linear kernel performed better on this split.\n"
          ]
        }
      ]
    },
    {
      "cell_type": "markdown",
      "source": [
        "23.  Write a Python program to train an SVM Regressor (SVR) on a housing dataset and evaluate it using Mean\n",
        "Squared Error (MSE)."
      ],
      "metadata": {
        "id": "s2iSEoHuJDJy"
      }
    },
    {
      "cell_type": "code",
      "source": [
        "# Import necessary libraries\n",
        "from sklearn.datasets import fetch_california_housing\n",
        "from sklearn.model_selection import train_test_split\n",
        "from sklearn.svm import SVR\n",
        "from sklearn.metrics import mean_squared_error\n",
        "from sklearn.preprocessing import StandardScaler\n",
        "\n",
        "# Load the California housing dataset\n",
        "data = fetch_california_housing()\n",
        "X = data.data\n",
        "y = data.target\n",
        "\n",
        "# Split into training and testing sets (e.g., 80% train, 20% test)\n",
        "X_train, X_test, y_train, y_test = train_test_split(X, y, test_size=0.2, random_state=42)\n",
        "\n",
        "# Feature scaling is important for SVR\n",
        "scaler = StandardScaler()\n",
        "X_train_scaled = scaler.fit_transform(X_train)\n",
        "X_test_scaled = scaler.transform(X_test)\n",
        "\n",
        "# Initialize and train the SVR model (default kernel='rbf')\n",
        "svr = SVR()\n",
        "svr.fit(X_train_scaled, y_train)\n",
        "\n",
        "# Predict on the test set\n",
        "y_pred = svr.predict(X_test_scaled)\n",
        "\n",
        "# Evaluate using Mean Squared Error (MSE)\n",
        "mse = mean_squared_error(y_test, y_pred)\n",
        "print(f\"Mean Squared Error (MSE) of SVR on housing dataset: {mse:.4f}\")\n"
      ],
      "metadata": {
        "colab": {
          "base_uri": "https://localhost:8080/"
        },
        "id": "1-cXf-pOIu8J",
        "outputId": "b931fe1f-cdca-4ede-a5e0-2209fca54f14"
      },
      "execution_count": null,
      "outputs": [
        {
          "output_type": "stream",
          "name": "stdout",
          "text": [
            "Mean Squared Error (MSE) of SVR on housing dataset: 0.3570\n"
          ]
        }
      ]
    },
    {
      "cell_type": "markdown",
      "source": [
        "24.  Write a Python program to train an SVM Classifier with a Polynomial Kernel and visualize the decision\n",
        "boundary."
      ],
      "metadata": {
        "id": "wOQLFic-JXvj"
      }
    },
    {
      "cell_type": "code",
      "source": [
        "import numpy as np\n",
        "import matplotlib.pyplot as plt\n",
        "from sklearn.datasets import make_moons\n",
        "from sklearn.svm import SVC\n",
        "\n",
        "# Generate a 2D non-linearly separable dataset\n",
        "X, y = make_moons(n_samples=200, noise=0.2, random_state=42)\n",
        "\n",
        "# Train SVM Classifier with a Polynomial Kernel\n",
        "svm_poly = SVC(kernel='poly', degree=3, coef0=1, C=1.0)\n",
        "svm_poly.fit(X, y)\n",
        "\n",
        "# Function to plot decision boundary\n",
        "def plot_decision_boundary(clf, X, y, title):\n",
        "    h = 0.02\n",
        "    x_min, x_max = X[:, 0].min() - 0.5, X[:, 0].max() + 0.5\n",
        "    y_min, y_max = X[:, 1].min() - 0.5, X[:, 1].max() + 0.5\n",
        "    xx, yy = np.meshgrid(np.arange(x_min, x_max, h),\n",
        "                         np.arange(y_min, y_max, h))\n",
        "    Z = clf.predict(np.c_[xx.ravel(), yy.ravel()])\n",
        "    Z = Z.reshape(xx.shape)\n",
        "    plt.figure(figsize=(8, 6))\n",
        "    plt.contourf(xx, yy, Z, cmap=plt.cm.Pastel1, alpha=0.8)\n",
        "    plt.scatter(X[:, 0], X[:, 1], c=y, cmap=plt.cm.Set1, edgecolors='k')\n",
        "    plt.title(title)\n",
        "    plt.xlabel('Feature 1')\n",
        "    plt.ylabel('Feature 2')\n",
        "    plt.show()\n",
        "\n",
        "# Visualize the decision boundary\n",
        "plot_decision_boundary(svm_poly, X, y, \"SVM with Polynomial Kernel (degree=3)\")\n"
      ],
      "metadata": {
        "colab": {
          "base_uri": "https://localhost:8080/",
          "height": 564
        },
        "id": "BcN9Ff50JNas",
        "outputId": "a697e4bc-c473-4baf-9f63-b1efde161b80"
      },
      "execution_count": null,
      "outputs": [
        {
          "output_type": "display_data",
          "data": {
            "text/plain": [
              "<Figure size 800x600 with 1 Axes>"
            ],
            "image/png": "[encoded data removed]"
          },
          "metadata": {}
        }
      ]
    },
    {
      "cell_type": "markdown",
      "source": [
        "25.  Write a Python program to train a Gaussian Naïve Bayes classifier on the Breast Cancer dataset and\n",
        "evaluate accuracy."
      ],
      "metadata": {
        "id": "0Y63V56fJsP7"
      }
    },
    {
      "cell_type": "code",
      "source": [
        "# Import necessary libraries\n",
        "from sklearn.datasets import load_breast_cancer\n",
        "from sklearn.model_selection import train_test_split\n",
        "from sklearn.naive_bayes import GaussianNB\n",
        "from sklearn.metrics import accuracy_score\n",
        "\n",
        "# Load the Breast Cancer dataset\n",
        "data = load_breast_cancer()\n",
        "X = data.data\n",
        "y = data.target\n",
        "\n",
        "# Split the dataset into training and testing sets (80% train, 20% test)\n",
        "X_train, X_test, y_train, y_test = train_test_split(X, y, test_size=0.2, random_state=42)\n",
        "\n",
        "# Initialize the Gaussian Naïve Bayes classifier\n",
        "gnb = GaussianNB()\n",
        "\n",
        "# Train the classifier\n",
        "gnb.fit(X_train, y_train)\n",
        "\n",
        "# Make predictions on the test set\n",
        "y_pred = gnb.predict(X_test)\n",
        "\n",
        "# Evaluate and print the accuracy\n",
        "accuracy = accuracy_score(y_test, y_pred)\n",
        "print(f\"Accuracy of Gaussian Naïve Bayes on Breast Cancer dataset: {accuracy:.4f}\")\n"
      ],
      "metadata": {
        "colab": {
          "base_uri": "https://localhost:8080/"
        },
        "id": "LvhWkTKZJoW-",
        "outputId": "e9ec5561-223b-463d-e451-71cf2431f6b7"
      },
      "execution_count": null,
      "outputs": [
        {
          "output_type": "stream",
          "name": "stdout",
          "text": [
            "Accuracy of Gaussian Naïve Bayes on Breast Cancer dataset: 0.9737\n"
          ]
        }
      ]
    },
    {
      "cell_type": "markdown",
      "source": [
        "26. Write a Python program to train a Multinomial Naïve Bayes classifier for text classification using the 20\n",
        "Newsgroups dataset."
      ],
      "metadata": {
        "id": "60vI7vkAJ2YE"
      }
    },
    {
      "cell_type": "code",
      "source": [
        "# Import necessary libraries\n",
        "from sklearn.datasets import fetch_20newsgroups\n",
        "from sklearn.feature_extraction.text import CountVectorizer\n",
        "from sklearn.model_selection import train_test_split\n",
        "from sklearn.naive_bayes import MultinomialNB\n",
        "from sklearn.metrics import accuracy_score\n",
        "\n",
        "# Load the 20 Newsgroups dataset (using a subset for speed, or use 'all' for full dataset)\n",
        "categories = ['alt.atheism', 'talk.religion.misc', 'comp.graphics', 'sci.space']\n",
        "newsgroups = fetch_20newsgroups(subset='all', categories=categories, shuffle=True, random_state=42)\n",
        "\n",
        "# Convert text documents to a matrix of token counts\n",
        "vectorizer = CountVectorizer()\n",
        "X = vectorizer.fit_transform(newsgroups.data)\n",
        "y = newsgroups.target\n",
        "\n",
        "# Split into training and testing sets (e.g., 80% train, 20% test)\n",
        "X_train, X_test, y_train, y_test = train_test_split(X, y, test_size=0.2, random_state=42)\n",
        "\n",
        "# Initialize and train the Multinomial Naïve Bayes classifier\n",
        "mnb = MultinomialNB()\n",
        "mnb.fit(X_train, y_train)\n",
        "\n",
        "# Predict on the test set\n",
        "y_pred = mnb.predict(X_test)\n",
        "\n",
        "# Evaluate accuracy\n",
        "accuracy = accuracy_score(y_test, y_pred)\n",
        "print(f\"Accuracy of Multinomial Naïve Bayes on 20 Newsgroups subset: {accuracy:.4f}\")\n"
      ],
      "metadata": {
        "colab": {
          "base_uri": "https://localhost:8080/"
        },
        "id": "FunedvaNJ1mj",
        "outputId": "fd620fa9-d4ec-4d22-a29e-3af2444571a2"
      },
      "execution_count": null,
      "outputs": [
        {
          "output_type": "stream",
          "name": "stdout",
          "text": [
            "Accuracy of Multinomial Naïve Bayes on 20 Newsgroups subset: 0.9366\n"
          ]
        }
      ]
    },
    {
      "cell_type": "markdown",
      "source": [
        "27. Write a Python program to train an SVM Classifier with different C values and compare the decision\n",
        "boundaries visually."
      ],
      "metadata": {
        "id": "CsblQINPZcZF"
      }
    },
    {
      "cell_type": "code",
      "source": [
        "import numpy as np\n",
        "import matplotlib.pyplot as plt\n",
        "from sklearn.datasets import make_classification\n",
        "from sklearn.svm import SVC\n",
        "\n",
        "# Generate a 2D synthetic dataset for visualization\n",
        "X, y = make_classification(\n",
        "    n_samples=200, n_features=2, n_redundant=0, n_informative=2,\n",
        "    n_clusters_per_class=1, class_sep=1.2, random_state=42\n",
        ")\n",
        "\n",
        "# Different C values to try\n",
        "C_values = [0.01, 0.1, 1, 10, 100]\n",
        "\n",
        "# Plotting function for decision boundary\n",
        "def plot_decision_boundary(clf, X, y, ax, title):\n",
        "    h = 0.02\n",
        "    x_min, x_max = X[:, 0].min() - 1, X[:, 0].max() + 1\n",
        "    y_min, y_max = X[:, 1].min() - 1, X[:, 1].max() + 1\n",
        "    xx, yy = np.meshgrid(np.arange(x_min, x_max, h),\n",
        "                         np.arange(y_min, y_max, h))\n",
        "    Z = clf.predict(np.c_[xx.ravel(), yy.ravel()])\n",
        "    Z = Z.reshape(xx.shape)\n",
        "    ax.contourf(xx, yy, Z, cmap=plt.cm.Pastel1, alpha=0.8)\n",
        "    ax.scatter(X[:, 0], X[:, 1], c=y, cmap=plt.cm.Set1, edgecolors='k')\n",
        "    ax.set_title(title)\n",
        "    ax.set_xlabel('Feature 1')\n",
        "    ax.set_ylabel('Feature 2')\n",
        "\n",
        "# Create subplots\n",
        "fig, axes = plt.subplots(1, len(C_values), figsize=(20, 4))\n",
        "\n",
        "for idx, C in enumerate(C_values):\n",
        "    svm = SVC(kernel='linear', C=C, random_state=42)\n",
        "    svm.fit(X, y)\n",
        "    plot_decision_boundary(svm, X, y, axes[idx], f\"C = {C}\")\n",
        "\n",
        "plt.tight_layout()\n",
        "plt.show()\n"
      ],
      "metadata": {
        "colab": {
          "base_uri": "https://localhost:8080/",
          "height": 369
        },
        "id": "6rAcTiWjZWfp",
        "outputId": "eb305757-b52d-40f3-800c-b89cecc1885b"
      },
      "execution_count": null,
      "outputs": [
        {
          "output_type": "display_data",
          "data": {
            "text/plain": [
              "<Figure size 2000x400 with 5 Axes>"
            ],
            "image/png": "[encoded data removed]"
          },
          "metadata": {}
        }
      ]
    },
    {
      "cell_type": "markdown",
      "source": [
        "28.  Write a Python program to train a Bernoulli Naïve Bayes classifier for binary classification on a dataset with\n",
        "binary features."
      ],
      "metadata": {
        "id": "ENZ5ihRNZqy2"
      }
    },
    {
      "cell_type": "code",
      "source": [
        "# Import necessary libraries\n",
        "import numpy as np\n",
        "from sklearn.naive_bayes import BernoulliNB\n",
        "from sklearn.model_selection import train_test_split\n",
        "from sklearn.metrics import accuracy_score\n",
        "\n",
        "# Create a synthetic binary dataset\n",
        "# 200 samples, 10 binary features (0 or 1)\n",
        "np.random.seed(42)\n",
        "X = np.random.randint(2, size=(200, 10))\n",
        "y = np.random.randint(2, size=200)  # Binary target\n",
        "\n",
        "# Split into training and testing sets (80% train, 20% test)\n",
        "X_train, X_test, y_train, y_test = train_test_split(X, y, test_size=0.2, random_state=42)\n",
        "\n",
        "# Initialize and train the Bernoulli Naïve Bayes classifier\n",
        "bnb = BernoulliNB()\n",
        "bnb.fit(X_train, y_train)\n",
        "\n",
        "# Make predictions on the test set\n",
        "y_pred = bnb.predict(X_test)\n",
        "\n",
        "# Evaluate and print the accuracy\n",
        "accuracy = accuracy_score(y_test, y_pred)\n",
        "print(f\"Accuracy of Bernoulli Naïve Bayes on binary dataset: {accuracy:.4f}\")\n"
      ],
      "metadata": {
        "colab": {
          "base_uri": "https://localhost:8080/"
        },
        "id": "cyHyLv4PZojt",
        "outputId": "d1a9b117-9b30-4f47-c1fb-71f33bae86c1"
      },
      "execution_count": null,
      "outputs": [
        {
          "output_type": "stream",
          "name": "stdout",
          "text": [
            "Accuracy of Bernoulli Naïve Bayes on binary dataset: 0.6500\n"
          ]
        }
      ]
    },
    {
      "cell_type": "markdown",
      "source": [
        "29.  Write a Python program to apply feature scaling before training an SVM model and compare results with\n",
        "unscaled data."
      ],
      "metadata": {
        "id": "91TtndsAZ8yH"
      }
    },
    {
      "cell_type": "code",
      "source": [
        "from sklearn import datasets\n",
        "from sklearn.model_selection import train_test_split\n",
        "from sklearn.svm import SVC\n",
        "from sklearn.preprocessing import StandardScaler\n",
        "from sklearn.metrics import accuracy_score\n",
        "\n",
        "# Load a dataset (e.g., Wine dataset)\n",
        "data = datasets.load_wine()\n",
        "X = data.data\n",
        "y = data.target\n",
        "\n",
        "# Split into train and test sets\n",
        "X_train, X_test, y_train, y_test = train_test_split(X, y, test_size=0.3, random_state=42)\n",
        "\n",
        "# Train SVM on unscaled data\n",
        "svm_unscaled = SVC()\n",
        "svm_unscaled.fit(X_train, y_train)\n",
        "y_pred_unscaled = svm_unscaled.predict(X_test)\n",
        "acc_unscaled = accuracy_score(y_test, y_pred_unscaled)\n",
        "print(f\"Accuracy on unscaled data: {acc_unscaled:.4f}\")\n",
        "\n",
        "# Apply feature scaling (standardization)\n",
        "scaler = StandardScaler()\n",
        "X_train_scaled = scaler.fit_transform(X_train)\n",
        "X_test_scaled = scaler.transform(X_test)\n",
        "\n",
        "# Train SVM on scaled data\n",
        "svm_scaled = SVC()\n",
        "svm_scaled.fit(X_train_scaled, y_train)\n",
        "y_pred_scaled = svm_scaled.predict(X_test_scaled)\n",
        "acc_scaled = accuracy_score(y_test, y_pred_scaled)\n",
        "print(f\"Accuracy on scaled data:   {acc_scaled:.4f}\")\n"
      ],
      "metadata": {
        "colab": {
          "base_uri": "https://localhost:8080/"
        },
        "id": "xoR6uFwWZ8CO",
        "outputId": "64703a2b-5b68-40ee-a835-eb2f0fd64208"
      },
      "execution_count": null,
      "outputs": [
        {
          "output_type": "stream",
          "name": "stdout",
          "text": [
            "Accuracy on unscaled data: 0.7593\n",
            "Accuracy on scaled data:   0.9815\n"
          ]
        }
      ]
    },
    {
      "cell_type": "markdown",
      "source": [
        "30.  Write a Python program to train a Gaussian Naïve Bayes model and compare the predictions before and\n",
        "after Laplace Smoothing."
      ],
      "metadata": {
        "id": "ggC1YRvgaH51"
      }
    },
    {
      "cell_type": "code",
      "source": [
        "from sklearn.datasets import load_iris\n",
        "from sklearn.model_selection import train_test_split\n",
        "from sklearn.naive_bayes import GaussianNB\n",
        "from sklearn.metrics import accuracy_score\n",
        "\n",
        "# Load dataset\n",
        "X, y = load_iris(return_X_y=True)\n",
        "X_train, X_test, y_train, y_test = train_test_split(X, y, test_size=0.3, random_state=42)\n",
        "\n",
        "# Train Gaussian Naive Bayes\n",
        "gnb = GaussianNB()\n",
        "gnb.fit(X_train, y_train)\n",
        "y_pred = gnb.predict(X_test)\n",
        "print(\"Accuracy (GaussianNB):\", accuracy_score(y_test, y_pred))\n"
      ],
      "metadata": {
        "colab": {
          "base_uri": "https://localhost:8080/"
        },
        "id": "4xJ_j5-DaFyk",
        "outputId": "75aeb9cf-f229-41cb-caa6-ce0b8bb98734"
      },
      "execution_count": null,
      "outputs": [
        {
          "output_type": "stream",
          "name": "stdout",
          "text": [
            "Accuracy (GaussianNB): 0.9777777777777777\n"
          ]
        }
      ]
    },
    {
      "cell_type": "markdown",
      "source": [
        "31.  Write a Python program to train an SVM Classifier and use GridSearchCV to tune the hyperparameters (C,\n",
        "gamma, kernel)."
      ],
      "metadata": {
        "id": "5DkBmT4_abLO"
      }
    },
    {
      "cell_type": "code",
      "source": [
        "from sklearn import datasets\n",
        "from sklearn.model_selection import train_test_split, GridSearchCV\n",
        "from sklearn.svm import SVC\n",
        "from sklearn.metrics import classification_report, accuracy_score, confusion_matrix\n",
        "import pandas as pd\n",
        "\n",
        "# Step 1: Load dataset\n",
        "iris = datasets.load_iris()\n",
        "X, y = iris.data, iris.target\n",
        "\n",
        "# Step 2: Split into training and testing sets\n",
        "X_train, X_test, y_train, y_test = train_test_split(X, y, test_size=0.3, random_state=42, stratify=y)\n",
        "\n",
        "# Step 3: Define the SVM model\n",
        "svc = SVC()\n",
        "\n",
        "# Step 4: Define the hyperparameter grid\n",
        "param_grid = {\n",
        "    'C': [0.1, 1, 10, 100],\n",
        "    'gamma': [1, 0.1, 0.01, 0.001],\n",
        "    'kernel': ['rbf', 'linear', 'poly']\n",
        "}\n",
        "\n",
        "# Step 5: Grid Search with 5-fold cross-validation\n",
        "grid_search = GridSearchCV(svc, param_grid, cv=5, scoring='accuracy', verbose=2, n_jobs=-1)\n",
        "grid_search.fit(X_train, y_train)\n",
        "\n",
        "# Step 6: Best parameters and score\n",
        "print(\"\\nBest Parameters Found:\")\n",
        "print(grid_search.best_params_)\n",
        "print(\"\\nBest Cross-Validation Score: {:.4f}\".format(grid_search.best_score_))\n",
        "\n",
        "# Step 7: Test on test set\n",
        "best_model = grid_search.best_estimator_\n",
        "y_pred = best_model.predict(X_test)\n",
        "\n",
        "# Step 8: Evaluation\n",
        "print(\"\\nTest Accuracy: {:.4f}\".format(accuracy_score(y_test, y_pred)))\n",
        "print(\"\\nClassification Report:\")\n",
        "print(classification_report(y_test, y_pred))\n",
        "print(\"Confusion Matrix:\\n\", confusion_matrix(y_test, y_pred))\n",
        "\n",
        "# Optional: Show results in DataFrame\n",
        "results_df = pd.DataFrame(grid_search.cv_results_)\n",
        "print(\"\\nGrid Search Summary:\")\n",
        "print(results_df[['params', 'mean_test_score', 'rank_test_score']].sort_values(by='rank_test_score'))\n"
      ],
      "metadata": {
        "colab": {
          "base_uri": "https://localhost:8080/"
        },
        "id": "mtC3y9bBZBe1",
        "outputId": "f4c13119-58b1-459f-bbb0-97958c3511bf"
      },
      "execution_count": 2,
      "outputs": [
        {
          "output_type": "stream",
          "name": "stdout",
          "text": [
            "Fitting 5 folds for each of 48 candidates, totalling 240 fits\n",
            "\n",
            "Best Parameters Found:\n",
            "{'C': 0.1, 'gamma': 1, 'kernel': 'linear'}\n",
            "\n",
            "Best Cross-Validation Score: 0.9810\n",
            "\n",
            "Test Accuracy: 0.9556\n",
            "\n",
            "Classification Report:\n",
            "              precision    recall  f1-score   support\n",
            "\n",
            "           0       1.00      1.00      1.00        15\n",
            "           1       0.93      0.93      0.93        15\n",
            "           2       0.93      0.93      0.93        15\n",
            "\n",
            "    accuracy                           0.96        45\n",
            "   macro avg       0.96      0.96      0.96        45\n",
            "weighted avg       0.96      0.96      0.96        45\n",
            "\n",
            "Confusion Matrix:\n",
            " [[15  0  0]\n",
            " [ 0 14  1]\n",
            " [ 0  1 14]]\n",
            "\n",
            "Grid Search Summary:\n",
            "                                            params  mean_test_score  \\\n",
            "1       {'C': 0.1, 'gamma': 1, 'kernel': 'linear'}         0.980952   \n",
            "4     {'C': 0.1, 'gamma': 0.1, 'kernel': 'linear'}         0.980952   \n",
            "7    {'C': 0.1, 'gamma': 0.01, 'kernel': 'linear'}         0.980952   \n",
            "10  {'C': 0.1, 'gamma': 0.001, 'kernel': 'linear'}         0.980952   \n",
            "5       {'C': 0.1, 'gamma': 0.1, 'kernel': 'poly'}         0.971429   \n",
            "15         {'C': 1, 'gamma': 0.1, 'kernel': 'rbf'}         0.971429   \n",
            "12           {'C': 1, 'gamma': 1, 'kernel': 'rbf'}         0.971429   \n",
            "0          {'C': 0.1, 'gamma': 1, 'kernel': 'rbf'}         0.971429   \n",
            "27        {'C': 10, 'gamma': 0.1, 'kernel': 'rbf'}         0.971429   \n",
            "30       {'C': 10, 'gamma': 0.01, 'kernel': 'rbf'}         0.971429   \n",
            "40    {'C': 100, 'gamma': 0.1, 'kernel': 'linear'}         0.971429   \n",
            "44     {'C': 100, 'gamma': 0.01, 'kernel': 'poly'}         0.971429   \n",
            "46  {'C': 100, 'gamma': 0.001, 'kernel': 'linear'}         0.971429   \n",
            "45     {'C': 100, 'gamma': 0.001, 'kernel': 'rbf'}         0.971429   \n",
            "43   {'C': 100, 'gamma': 0.01, 'kernel': 'linear'}         0.971429   \n",
            "37      {'C': 100, 'gamma': 1, 'kernel': 'linear'}         0.971429   \n",
            "42      {'C': 100, 'gamma': 0.01, 'kernel': 'rbf'}         0.971429   \n",
            "32      {'C': 10, 'gamma': 0.01, 'kernel': 'poly'}         0.961905   \n",
            "13        {'C': 1, 'gamma': 1, 'kernel': 'linear'}         0.961905   \n",
            "22    {'C': 1, 'gamma': 0.001, 'kernel': 'linear'}         0.961905   \n",
            "17        {'C': 1, 'gamma': 0.1, 'kernel': 'poly'}         0.961905   \n",
            "16      {'C': 1, 'gamma': 0.1, 'kernel': 'linear'}         0.961905   \n",
            "29       {'C': 10, 'gamma': 0.1, 'kernel': 'poly'}         0.961905   \n",
            "36         {'C': 100, 'gamma': 1, 'kernel': 'rbf'}         0.961905   \n",
            "19     {'C': 1, 'gamma': 0.01, 'kernel': 'linear'}         0.961905   \n",
            "26         {'C': 10, 'gamma': 1, 'kernel': 'poly'}         0.952381   \n",
            "28     {'C': 10, 'gamma': 0.1, 'kernel': 'linear'}         0.952381   \n",
            "25       {'C': 10, 'gamma': 1, 'kernel': 'linear'}         0.952381   \n",
            "14          {'C': 1, 'gamma': 1, 'kernel': 'poly'}         0.952381   \n",
            "2         {'C': 0.1, 'gamma': 1, 'kernel': 'poly'}         0.952381   \n",
            "24          {'C': 10, 'gamma': 1, 'kernel': 'rbf'}         0.952381   \n",
            "31    {'C': 10, 'gamma': 0.01, 'kernel': 'linear'}         0.952381   \n",
            "41      {'C': 100, 'gamma': 0.1, 'kernel': 'poly'}         0.952381   \n",
            "34   {'C': 10, 'gamma': 0.001, 'kernel': 'linear'}         0.952381   \n",
            "39       {'C': 100, 'gamma': 0.1, 'kernel': 'rbf'}         0.952381   \n",
            "38        {'C': 100, 'gamma': 1, 'kernel': 'poly'}         0.952381   \n",
            "3        {'C': 0.1, 'gamma': 0.1, 'kernel': 'rbf'}         0.923810   \n",
            "9      {'C': 0.1, 'gamma': 0.001, 'kernel': 'rbf'}         0.914286   \n",
            "18        {'C': 1, 'gamma': 0.01, 'kernel': 'rbf'}         0.914286   \n",
            "21       {'C': 1, 'gamma': 0.001, 'kernel': 'rbf'}         0.914286   \n",
            "33      {'C': 10, 'gamma': 0.001, 'kernel': 'rbf'}         0.914286   \n",
            "6       {'C': 0.1, 'gamma': 0.01, 'kernel': 'rbf'}         0.904762   \n",
            "20       {'C': 1, 'gamma': 0.01, 'kernel': 'poly'}         0.876190   \n",
            "11    {'C': 0.1, 'gamma': 0.001, 'kernel': 'poly'}         0.771429   \n",
            "23      {'C': 1, 'gamma': 0.001, 'kernel': 'poly'}         0.771429   \n",
            "8      {'C': 0.1, 'gamma': 0.01, 'kernel': 'poly'}         0.771429   \n",
            "35     {'C': 10, 'gamma': 0.001, 'kernel': 'poly'}         0.771429   \n",
            "47    {'C': 100, 'gamma': 0.001, 'kernel': 'poly'}         0.771429   \n",
            "\n",
            "    rank_test_score  \n",
            "1                 1  \n",
            "4                 1  \n",
            "7                 1  \n",
            "10                1  \n",
            "5                 5  \n",
            "15                5  \n",
            "12                5  \n",
            "0                 5  \n",
            "27                5  \n",
            "30                5  \n",
            "40                5  \n",
            "44                5  \n",
            "46                5  \n",
            "45                5  \n",
            "43                5  \n",
            "37                5  \n",
            "42                5  \n",
            "32               18  \n",
            "13               18  \n",
            "22               18  \n",
            "17               18  \n",
            "16               18  \n",
            "29               18  \n",
            "36               18  \n",
            "19               18  \n",
            "26               26  \n",
            "28               26  \n",
            "25               26  \n",
            "14               26  \n",
            "2                26  \n",
            "24               26  \n",
            "31               26  \n",
            "41               26  \n",
            "34               26  \n",
            "39               26  \n",
            "38               26  \n",
            "3                37  \n",
            "9                38  \n",
            "18               38  \n",
            "21               38  \n",
            "33               38  \n",
            "6                42  \n",
            "20               43  \n",
            "11               44  \n",
            "23               44  \n",
            "8                44  \n",
            "35               44  \n",
            "47               44  \n"
          ]
        }
      ]
    },
    {
      "cell_type": "markdown",
      "source": [
        "32.  Write a Python program to train an SVM Classifier on an imbalanced dataset and apply class weighting and\n",
        "check it improve accuracy."
      ],
      "metadata": {
        "id": "tmv0QC9FatrO"
      }
    },
    {
      "cell_type": "code",
      "source": [
        "import numpy as np\n",
        "from sklearn.datasets import make_classification\n",
        "from sklearn.model_selection import train_test_split\n",
        "from sklearn.svm import SVC\n",
        "from sklearn.metrics import accuracy_score, classification_report, confusion_matrix\n",
        "import matplotlib.pyplot as plt\n",
        "\n",
        "# Step 1: Generate imbalanced data\n",
        "X, y = make_classification(n_classes=2, class_sep=2,\n",
        "                           weights=[0.9, 0.1],  # Imbalance\n",
        "                           n_informative=3, n_redundant=1, flip_y=0,\n",
        "                           n_features=5, n_clusters_per_class=1,\n",
        "                           n_samples=1000, random_state=42)\n",
        "\n",
        "# Split data\n",
        "X_train, X_test, y_train, y_test = train_test_split(X, y, test_size=0.3, stratify=y, random_state=42)\n",
        "\n",
        "# Step 2: Train SVM without class weight\n",
        "svm_no_weight = SVC(kernel='rbf', class_weight=None)\n",
        "svm_no_weight.fit(X_train, y_train)\n",
        "y_pred_no_weight = svm_no_weight.predict(X_test)\n",
        "\n",
        "# Step 3: Train SVM with class weight\n",
        "svm_weighted = SVC(kernel='rbf', class_weight='balanced')\n",
        "svm_weighted.fit(X_train, y_train)\n",
        "y_pred_weighted = svm_weighted.predict(X_test)\n",
        "\n",
        "# Step 4: Evaluation\n",
        "print(\"\\n--- Without Class Weight ---\")\n",
        "print(\"Accuracy:\", accuracy_score(y_test, y_pred_no_weight))\n",
        "print(classification_report(y_test, y_pred_no_weight))\n",
        "print(\"Confusion Matrix:\\n\", confusion_matrix(y_test, y_pred_no_weight))\n",
        "\n",
        "print(\"\\n--- With Class Weight (balanced) ---\")\n",
        "print(\"Accuracy:\", accuracy_score(y_test, y_pred_weighted))\n",
        "print(classification_report(y_test, y_pred_weighted))\n",
        "print(\"Confusion Matrix:\\n\", confusion_matrix(y_test, y_pred_weighted))\n",
        "\n",
        "# Optional: Visualize class distribution\n",
        "plt.hist(y, bins=2, edgecolor='k')\n",
        "plt.title(\"Class Distribution\")\n",
        "plt.xlabel(\"Class\")\n",
        "plt.ylabel(\"Count\")\n",
        "plt.show()\n"
      ],
      "metadata": {
        "colab": {
          "base_uri": "https://localhost:8080/",
          "height": 993
        },
        "id": "ePbqYXOOYXtD",
        "outputId": "fdd5fd04-dc87-44dd-b025-c0b9a13a89bb"
      },
      "execution_count": 3,
      "outputs": [
        {
          "output_type": "stream",
          "name": "stdout",
          "text": [
            "\n",
            "--- Without Class Weight ---\n",
            "Accuracy: 1.0\n",
            "              precision    recall  f1-score   support\n",
            "\n",
            "           0       1.00      1.00      1.00       270\n",
            "           1       1.00      1.00      1.00        30\n",
            "\n",
            "    accuracy                           1.00       300\n",
            "   macro avg       1.00      1.00      1.00       300\n",
            "weighted avg       1.00      1.00      1.00       300\n",
            "\n",
            "Confusion Matrix:\n",
            " [[270   0]\n",
            " [  0  30]]\n",
            "\n",
            "--- With Class Weight (balanced) ---\n",
            "Accuracy: 1.0\n",
            "              precision    recall  f1-score   support\n",
            "\n",
            "           0       1.00      1.00      1.00       270\n",
            "           1       1.00      1.00      1.00        30\n",
            "\n",
            "    accuracy                           1.00       300\n",
            "   macro avg       1.00      1.00      1.00       300\n",
            "weighted avg       1.00      1.00      1.00       300\n",
            "\n",
            "Confusion Matrix:\n",
            " [[270   0]\n",
            " [  0  30]]\n"
          ]
        },
        {
          "output_type": "display_data",
          "data": {
            "text/plain": [
              "<Figure size 640x480 with 1 Axes>"
            ],
            "image/png": "[encoded data removed]"
          },
          "metadata": {}
        }
      ]
    },
    {
      "cell_type": "markdown",
      "source": [
        "33. Write a Python program to implement a Naïve Bayes classifier for spam detection using email data."
      ],
      "metadata": {
        "id": "ejFe5LHKZU65"
      }
    },
    {
      "cell_type": "code",
      "source": [
        "import pandas as pd\n",
        "from sklearn.model_selection import train_test_split\n",
        "from sklearn.feature_extraction.text import CountVectorizer\n",
        "from sklearn.naive_bayes import MultinomialNB\n",
        "from sklearn.metrics import accuracy_score, classification_report, confusion_matrix\n",
        "\n",
        "# Step 1: Load dataset\n",
        "# You can download the dataset from: https://www.kaggle.com/datasets/uciml/sms-spam-collection-dataset\n",
        "# Or simulate loading it here:\n",
        "url = \"https://raw.githubusercontent.com/justmarkham/pycon-2016-tutorial/master/data/sms.tsv\"\n",
        "df = pd.read_csv(url, sep='\\t', header=None, names=['label', 'message'])\n",
        "\n",
        "# Step 2: Encode labels\n",
        "df['label_num'] = df.label.map({'ham': 0, 'spam': 1})\n",
        "\n",
        "# Step 3: Split the dataset\n",
        "X_train, X_test, y_train, y_test = train_test_split(df['message'], df['label_num'], test_size=0.2, random_state=42)\n",
        "\n",
        "# Step 4: Vectorize text using CountVectorizer\n",
        "vectorizer = CountVectorizer(stop_words='english')\n",
        "X_train_vec = vectorizer.fit_transform(X_train)\n",
        "X_test_vec = vectorizer.transform(X_test)\n",
        "\n",
        "# Step 5: Train Naive Bayes classifier\n",
        "model = MultinomialNB()\n",
        "model.fit(X_train_vec, y_train)\n",
        "\n",
        "# Step 6: Predictions and Evaluation\n",
        "y_pred = model.predict(X_test_vec)\n",
        "\n",
        "print(\"Accuracy:\", accuracy_score(y_test, y_pred))\n",
        "print(\"\\nClassification Report:\\n\", classification_report(y_test, y_pred))\n",
        "print(\"Confusion Matrix:\\n\", confusion_matrix(y_test, y_pred))\n"
      ],
      "metadata": {
        "colab": {
          "base_uri": "https://localhost:8080/"
        },
        "id": "IH2-0LT7ZTQL",
        "outputId": "dd7b5ea6-ea7b-4538-8dd4-498827e4d9ed"
      },
      "execution_count": 4,
      "outputs": [
        {
          "output_type": "stream",
          "name": "stdout",
          "text": [
            "Accuracy: 0.9883408071748879\n",
            "\n",
            "Classification Report:\n",
            "               precision    recall  f1-score   support\n",
            "\n",
            "           0       0.99      0.99      0.99       966\n",
            "           1       0.97      0.95      0.96       149\n",
            "\n",
            "    accuracy                           0.99      1115\n",
            "   macro avg       0.98      0.97      0.97      1115\n",
            "weighted avg       0.99      0.99      0.99      1115\n",
            "\n",
            "Confusion Matrix:\n",
            " [[961   5]\n",
            " [  8 141]]\n"
          ]
        }
      ]
    },
    {
      "cell_type": "markdown",
      "source": [
        "34.  Write a Python program to train an SVM Classifier and a Naïve Bayes Classifier on the same dataset and\n",
        "compare their accuracy."
      ],
      "metadata": {
        "id": "ZiV9AGEYZlBB"
      }
    },
    {
      "cell_type": "code",
      "source": [
        "import pandas as pd\n",
        "from sklearn.model_selection import train_test_split\n",
        "from sklearn.feature_extraction.text import CountVectorizer\n",
        "from sklearn.naive_bayes import MultinomialNB\n",
        "from sklearn.svm import LinearSVC\n",
        "from sklearn.metrics import accuracy_score, classification_report, confusion_matrix\n",
        "\n",
        "# Step 1: Load dataset\n",
        "url = \"https://raw.githubusercontent.com/justmarkham/pycon-2016-tutorial/master/data/sms.tsv\"\n",
        "df = pd.read_csv(url, sep='\\t', header=None, names=['label', 'message'])\n",
        "\n",
        "# Step 2: Encode labels\n",
        "df['label_num'] = df.label.map({'ham': 0, 'spam': 1})\n",
        "\n",
        "# Step 3: Train/test split\n",
        "X_train, X_test, y_train, y_test = train_test_split(df['message'], df['label_num'], test_size=0.2, random_state=42)\n",
        "\n",
        "# Step 4: Text Vectorization\n",
        "vectorizer = CountVectorizer(stop_words='english')\n",
        "X_train_vec = vectorizer.fit_transform(X_train)\n",
        "X_test_vec = vectorizer.transform(X_test)\n",
        "\n",
        "# Step 5: Train Naïve Bayes Classifier\n",
        "nb_model = MultinomialNB()\n",
        "nb_model.fit(X_train_vec, y_train)\n",
        "y_pred_nb = nb_model.predict(X_test_vec)\n",
        "\n",
        "# Step 6: Train SVM Classifier\n",
        "svm_model = LinearSVC()\n",
        "svm_model.fit(X_train_vec, y_train)\n",
        "y_pred_svm = svm_model.predict(X_test_vec)\n",
        "\n",
        "# Step 7: Evaluate and Compare\n",
        "print(\"=== Naïve Bayes ===\")\n",
        "print(\"Accuracy:\", accuracy_score(y_test, y_pred_nb))\n",
        "print(classification_report(y_test, y_pred_nb))\n",
        "print(\"Confusion Matrix:\\n\", confusion_matrix(y_test, y_pred_nb))\n",
        "\n",
        "print(\"\\n=== SVM Classifier ===\")\n",
        "print(\"Accuracy:\", accuracy_score(y_test, y_pred_svm))\n",
        "print(classification_report(y_test, y_pred_svm))\n",
        "print(\"Confusion Matrix:\\n\", confusion_matrix(y_test, y_pred_svm))\n"
      ],
      "metadata": {
        "colab": {
          "base_uri": "https://localhost:8080/"
        },
        "id": "G5Y36w35ZjYL",
        "outputId": "d316eea5-d516-4142-d97d-e1c40d10cc60"
      },
      "execution_count": 5,
      "outputs": [
        {
          "output_type": "stream",
          "name": "stdout",
          "text": [
            "=== Naïve Bayes ===\n",
            "Accuracy: 0.9883408071748879\n",
            "              precision    recall  f1-score   support\n",
            "\n",
            "           0       0.99      0.99      0.99       966\n",
            "           1       0.97      0.95      0.96       149\n",
            "\n",
            "    accuracy                           0.99      1115\n",
            "   macro avg       0.98      0.97      0.97      1115\n",
            "weighted avg       0.99      0.99      0.99      1115\n",
            "\n",
            "Confusion Matrix:\n",
            " [[961   5]\n",
            " [  8 141]]\n",
            "\n",
            "=== SVM Classifier ===\n",
            "Accuracy: 0.9865470852017937\n",
            "              precision    recall  f1-score   support\n",
            "\n",
            "           0       0.98      1.00      0.99       966\n",
            "           1       1.00      0.90      0.95       149\n",
            "\n",
            "    accuracy                           0.99      1115\n",
            "   macro avg       0.99      0.95      0.97      1115\n",
            "weighted avg       0.99      0.99      0.99      1115\n",
            "\n",
            "Confusion Matrix:\n",
            " [[966   0]\n",
            " [ 15 134]]\n"
          ]
        }
      ]
    },
    {
      "cell_type": "markdown",
      "source": [
        "35.  Write a Python program to perform feature selection before training a Naïve Bayes classifier and compare\n",
        "results."
      ],
      "metadata": {
        "id": "J_epd97BZyoY"
      }
    },
    {
      "cell_type": "code",
      "source": [
        "import pandas as pd\n",
        "from sklearn.model_selection import train_test_split\n",
        "from sklearn.feature_extraction.text import CountVectorizer\n",
        "from sklearn.naive_bayes import MultinomialNB\n",
        "from sklearn.feature_selection import SelectKBest, chi2\n",
        "from sklearn.metrics import accuracy_score, classification_report, confusion_matrix\n",
        "\n",
        "# Load dataset\n",
        "url = \"https://raw.githubusercontent.com/justmarkham/pycon-2016-tutorial/master/data/sms.tsv\"\n",
        "df = pd.read_csv(url, sep='\\t', header=None, names=['label', 'message'])\n",
        "\n",
        "# Encode labels: 'spam' = 1, 'ham' = 0\n",
        "df['label_num'] = df.label.map({'ham': 0, 'spam': 1})\n",
        "\n",
        "# Split dataset\n",
        "X_train, X_test, y_train, y_test = train_test_split(df['message'], df['label_num'], test_size=0.2, random_state=42)\n",
        "\n",
        "# Convert text to feature vectors\n",
        "vectorizer = CountVectorizer(stop_words='english')\n",
        "X_train_vec = vectorizer.fit_transform(X_train)\n",
        "X_test_vec = vectorizer.transform(X_test)\n",
        "\n",
        "# === Without Feature Selection ===\n",
        "nb_model = MultinomialNB()\n",
        "nb_model.fit(X_train_vec, y_train)\n",
        "y_pred_no_fs = nb_model.predict(X_test_vec)\n",
        "\n",
        "print(\"\\n=== Without Feature Selection ===\")\n",
        "print(\"Accuracy:\", accuracy_score(y_test, y_pred_no_fs))\n",
        "print(\"Classification Report:\\n\", classification_report(y_test, y_pred_no_fs))\n",
        "print(\"Confusion Matrix:\\n\", confusion_matrix(y_test, y_pred_no_fs))\n",
        "\n",
        "# === With Feature Selection ===\n",
        "# Select top K best features based on chi-squared test\n",
        "k = 1000  # you can tune this\n",
        "selector = SelectKBest(chi2, k=k)\n",
        "X_train_kbest = selector.fit_transform(X_train_vec, y_train)\n",
        "X_test_kbest = selector.transform(X_test_vec)\n",
        "\n",
        "nb_model_fs = MultinomialNB()\n",
        "nb_model_fs.fit(X_train_kbest, y_train)\n",
        "y_pred_fs = nb_model_fs.predict(X_test_kbest)\n",
        "\n",
        "print(\"\\n=== With Feature Selection (Top {} Features) ===\".format(k))\n",
        "print(\"Accuracy:\", accuracy_score(y_test, y_pred_fs))\n",
        "print(\"Classification Report:\\n\", classification_report(y_test, y_pred_fs))\n",
        "print(\"Confusion Matrix:\\n\", confusion_matrix(y_test, y_pred_fs))\n"
      ],
      "metadata": {
        "colab": {
          "base_uri": "https://localhost:8080/"
        },
        "id": "KEfI-NukZxZC",
        "outputId": "2e81d832-5338-4cb4-d2d9-d87ca4c5050f"
      },
      "execution_count": 6,
      "outputs": [
        {
          "output_type": "stream",
          "name": "stdout",
          "text": [
            "\n",
            "=== Without Feature Selection ===\n",
            "Accuracy: 0.9883408071748879\n",
            "Classification Report:\n",
            "               precision    recall  f1-score   support\n",
            "\n",
            "           0       0.99      0.99      0.99       966\n",
            "           1       0.97      0.95      0.96       149\n",
            "\n",
            "    accuracy                           0.99      1115\n",
            "   macro avg       0.98      0.97      0.97      1115\n",
            "weighted avg       0.99      0.99      0.99      1115\n",
            "\n",
            "Confusion Matrix:\n",
            " [[961   5]\n",
            " [  8 141]]\n",
            "\n",
            "=== With Feature Selection (Top 1000 Features) ===\n",
            "Accuracy: 0.9820627802690582\n",
            "Classification Report:\n",
            "               precision    recall  f1-score   support\n",
            "\n",
            "           0       0.99      0.99      0.99       966\n",
            "           1       0.93      0.93      0.93       149\n",
            "\n",
            "    accuracy                           0.98      1115\n",
            "   macro avg       0.96      0.96      0.96      1115\n",
            "weighted avg       0.98      0.98      0.98      1115\n",
            "\n",
            "Confusion Matrix:\n",
            " [[956  10]\n",
            " [ 10 139]]\n"
          ]
        }
      ]
    },
    {
      "cell_type": "markdown",
      "source": [
        "36.  Write a Python program to train an SVM Classifier using One-vs-Rest (OvR) and One-vs-One (OvO)\n",
        "strategies on the Wine dataset and compare their accuracy."
      ],
      "metadata": {
        "id": "uaKvdch5aAUI"
      }
    },
    {
      "cell_type": "code",
      "source": [
        "from sklearn.datasets import load_wine\n",
        "from sklearn.model_selection import train_test_split\n",
        "from sklearn.svm import SVC\n",
        "from sklearn.multiclass import OneVsRestClassifier, OneVsOneClassifier\n",
        "from sklearn.metrics import accuracy_score, classification_report, confusion_matrix\n",
        "\n",
        "# Step 1: Load Wine dataset\n",
        "wine = load_wine()\n",
        "X = wine.data\n",
        "y = wine.target\n",
        "\n",
        "# Step 2: Train-test split\n",
        "X_train, X_test, y_train, y_test = train_test_split(X, y, test_size=0.3, random_state=42, stratify=y)\n",
        "\n",
        "# Step 3: SVM base model\n",
        "base_svc = SVC(kernel='rbf', gamma='scale', C=1)\n",
        "\n",
        "# Step 4: One-vs-Rest Strategy\n",
        "ovr_clf = OneVsRestClassifier(base_svc)\n",
        "ovr_clf.fit(X_train, y_train)\n",
        "y_pred_ovr = ovr_clf.predict(X_test)\n",
        "\n",
        "# Step 5: One-vs-One Strategy\n",
        "ovo_clf = OneVsOneClassifier(base_svc)\n",
        "ovo_clf.fit(X_train, y_train)\n",
        "y_pred_ovo = ovo_clf.predict(X_test)\n",
        "\n",
        "# Step 6: Evaluation\n",
        "print(\"=== One-vs-Rest (OvR) ===\")\n",
        "print(\"Accuracy:\", accuracy_score(y_test, y_pred_ovr))\n",
        "print(\"Classification Report:\\n\", classification_report(y_test, y_pred_ovr))\n",
        "print(\"Confusion Matrix:\\n\", confusion_matrix(y_test, y_pred_ovr))\n",
        "\n",
        "print(\"\\n=== One-vs-One (OvO) ===\")\n",
        "print(\"Accuracy:\", accuracy_score(y_test, y_pred_ovo))\n",
        "print(\"Classification Report:\\n\", classification_report(y_test, y_pred_ovo))\n",
        "print(\"Confusion Matrix:\\n\", confusion_matrix(y_test, y_pred_ovo))\n"
      ],
      "metadata": {
        "colab": {
          "base_uri": "https://localhost:8080/"
        },
        "id": "h2GpMlbGZ-kK",
        "outputId": "325bf9aa-6851-4d15-b71d-43fccff71b69"
      },
      "execution_count": 7,
      "outputs": [
        {
          "output_type": "stream",
          "name": "stdout",
          "text": [
            "=== One-vs-Rest (OvR) ===\n",
            "Accuracy: 0.7222222222222222\n",
            "Classification Report:\n",
            "               precision    recall  f1-score   support\n",
            "\n",
            "           0       0.90      1.00      0.95        18\n",
            "           1       0.62      1.00      0.76        21\n",
            "           2       0.00      0.00      0.00        15\n",
            "\n",
            "    accuracy                           0.72        54\n",
            "   macro avg       0.51      0.67      0.57        54\n",
            "weighted avg       0.54      0.72      0.61        54\n",
            "\n",
            "Confusion Matrix:\n",
            " [[18  0  0]\n",
            " [ 0 21  0]\n",
            " [ 2 13  0]]\n",
            "\n",
            "=== One-vs-One (OvO) ===\n",
            "Accuracy: 0.6851851851851852\n",
            "Classification Report:\n",
            "               precision    recall  f1-score   support\n",
            "\n",
            "           0       0.94      0.83      0.88        18\n",
            "           1       0.65      0.81      0.72        21\n",
            "           2       0.42      0.33      0.37        15\n",
            "\n",
            "    accuracy                           0.69        54\n",
            "   macro avg       0.67      0.66      0.66        54\n",
            "weighted avg       0.68      0.69      0.68        54\n",
            "\n",
            "Confusion Matrix:\n",
            " [[15  0  3]\n",
            " [ 0 17  4]\n",
            " [ 1  9  5]]\n"
          ]
        },
        {
          "output_type": "stream",
          "name": "stderr",
          "text": [
            "/usr/local/lib/python3.11/dist-packages/sklearn/metrics/_classification.py:1565: UndefinedMetricWarning: Precision is ill-defined and being set to 0.0 in labels with no predicted samples. Use `zero_division` parameter to control this behavior.\n",
            "  _warn_prf(average, modifier, f\"{metric.capitalize()} is\", len(result))\n",
            "/usr/local/lib/python3.11/dist-packages/sklearn/metrics/_classification.py:1565: UndefinedMetricWarning: Precision is ill-defined and being set to 0.0 in labels with no predicted samples. Use `zero_division` parameter to control this behavior.\n",
            "  _warn_prf(average, modifier, f\"{metric.capitalize()} is\", len(result))\n",
            "/usr/local/lib/python3.11/dist-packages/sklearn/metrics/_classification.py:1565: UndefinedMetricWarning: Precision is ill-defined and being set to 0.0 in labels with no predicted samples. Use `zero_division` parameter to control this behavior.\n",
            "  _warn_prf(average, modifier, f\"{metric.capitalize()} is\", len(result))\n"
          ]
        }
      ]
    },
    {
      "cell_type": "markdown",
      "source": [
        "37.  Write a Python program to train an SVM Classifier using Linear, Polynomial, and RBF kernels on the Breast\n",
        "Cancer dataset and compare their accuracy."
      ],
      "metadata": {
        "id": "QTFdRUd0aPsQ"
      }
    },
    {
      "cell_type": "code",
      "source": [
        "from sklearn.datasets import load_breast_cancer\n",
        "from sklearn.model_selection import train_test_split\n",
        "from sklearn.svm import SVC\n",
        "from sklearn.preprocessing import StandardScaler\n",
        "from sklearn.metrics import accuracy_score, classification_report, confusion_matrix\n",
        "\n",
        "# Step 1: Load Breast Cancer dataset\n",
        "data = load_breast_cancer()\n",
        "X, y = data.data, data.target\n",
        "\n",
        "# Step 2: Train-test split\n",
        "X_train, X_test, y_train, y_test = train_test_split(X, y, test_size=0.2, random_state=42, stratify=y)\n",
        "\n",
        "# Step 3: Feature scaling (important for SVMs)\n",
        "scaler = StandardScaler()\n",
        "X_train = scaler.fit_transform(X_train)\n",
        "X_test = scaler.transform(X_test)\n",
        "\n",
        "# Step 4: Define kernels to test\n",
        "kernels = ['linear', 'poly', 'rbf']\n",
        "\n",
        "# Step 5: Train and evaluate models\n",
        "for kernel in kernels:\n",
        "    print(f\"\\n=== SVM with {kernel.upper()} kernel ===\")\n",
        "\n",
        "    # Initialize SVM with current kernel\n",
        "    model = SVC(kernel=kernel, gamma='scale', C=1)\n",
        "    model.fit(X_train, y_train)\n",
        "\n",
        "    # Predict and evaluate\n",
        "    y_pred = model.predict(X_test)\n",
        "\n",
        "    print(\"Accuracy:\", accuracy_score(y_test, y_pred))\n",
        "    print(\"Classification Report:\\n\", classification_report(y_test, y_pred))\n",
        "    print(\"Confusion Matrix:\\n\", confusion_matrix(y_test, y_pred))\n"
      ],
      "metadata": {
        "colab": {
          "base_uri": "https://localhost:8080/"
        },
        "id": "33XcEGAlaPDS",
        "outputId": "4acfedc5-5b92-4876-bc20-17bca4b6a062"
      },
      "execution_count": 8,
      "outputs": [
        {
          "output_type": "stream",
          "name": "stdout",
          "text": [
            "\n",
            "=== SVM with LINEAR kernel ===\n",
            "Accuracy: 0.9736842105263158\n",
            "Classification Report:\n",
            "               precision    recall  f1-score   support\n",
            "\n",
            "           0       0.95      0.98      0.96        42\n",
            "           1       0.99      0.97      0.98        72\n",
            "\n",
            "    accuracy                           0.97       114\n",
            "   macro avg       0.97      0.97      0.97       114\n",
            "weighted avg       0.97      0.97      0.97       114\n",
            "\n",
            "Confusion Matrix:\n",
            " [[41  1]\n",
            " [ 2 70]]\n",
            "\n",
            "=== SVM with POLY kernel ===\n",
            "Accuracy: 0.9122807017543859\n",
            "Classification Report:\n",
            "               precision    recall  f1-score   support\n",
            "\n",
            "           0       1.00      0.76      0.86        42\n",
            "           1       0.88      1.00      0.94        72\n",
            "\n",
            "    accuracy                           0.91       114\n",
            "   macro avg       0.94      0.88      0.90       114\n",
            "weighted avg       0.92      0.91      0.91       114\n",
            "\n",
            "Confusion Matrix:\n",
            " [[32 10]\n",
            " [ 0 72]]\n",
            "\n",
            "=== SVM with RBF kernel ===\n",
            "Accuracy: 0.9824561403508771\n",
            "Classification Report:\n",
            "               precision    recall  f1-score   support\n",
            "\n",
            "           0       0.98      0.98      0.98        42\n",
            "           1       0.99      0.99      0.99        72\n",
            "\n",
            "    accuracy                           0.98       114\n",
            "   macro avg       0.98      0.98      0.98       114\n",
            "weighted avg       0.98      0.98      0.98       114\n",
            "\n",
            "Confusion Matrix:\n",
            " [[41  1]\n",
            " [ 1 71]]\n"
          ]
        }
      ]
    },
    {
      "cell_type": "markdown",
      "source": [
        "38.  Write a Python program to train an SVM Classifier using Stratified K-Fold Cross-Validation and compute the\n",
        "average accuracy."
      ],
      "metadata": {
        "id": "5hTVwzyyabWP"
      }
    },
    {
      "cell_type": "code",
      "source": [
        "from sklearn.datasets import load_breast_cancer\n",
        "from sklearn.svm import SVC\n",
        "from sklearn.model_selection import StratifiedKFold\n",
        "from sklearn.preprocessing import StandardScaler\n",
        "from sklearn.metrics import accuracy_score\n",
        "import numpy as np\n",
        "\n",
        "# Load dataset\n",
        "data = load_breast_cancer()\n",
        "X, y = data.data, data.target\n",
        "\n",
        "# Standardize features (important for SVM)\n",
        "scaler = StandardScaler()\n",
        "X = scaler.fit_transform(X)\n",
        "\n",
        "# Define Stratified K-Fold cross-validator\n",
        "k = 5  # number of folds\n",
        "skf = StratifiedKFold(n_splits=k, shuffle=True, random_state=42)\n",
        "\n",
        "# Initialize SVM classifier\n",
        "svm = SVC(kernel='rbf', gamma='scale', C=1)\n",
        "\n",
        "# Track accuracies\n",
        "accuracies = []\n",
        "\n",
        "# Perform Stratified K-Fold cross-validation\n",
        "for fold, (train_index, test_index) in enumerate(skf.split(X, y), 1):\n",
        "    X_train, X_test = X[train_index], X[test_index]\n",
        "    y_train, y_test = y[train_index], y[test_index]\n",
        "\n",
        "    svm.fit(X_train, y_train)\n",
        "    y_pred = svm.predict(X_test)\n",
        "\n",
        "    acc = accuracy_score(y_test, y_pred)\n",
        "    accuracies.append(acc)\n",
        "    print(f\"Fold {fold} Accuracy: {acc:.4f}\")\n",
        "\n",
        "# Average accuracy\n",
        "average_accuracy = np.mean(accuracies)\n",
        "print(f\"\\nAverage Accuracy over {k} folds: {average_accuracy:.4f}\")\n"
      ],
      "metadata": {
        "colab": {
          "base_uri": "https://localhost:8080/"
        },
        "id": "75T8A9bAaaIR",
        "outputId": "386eb9c7-5c26-405d-e64d-c71247067689"
      },
      "execution_count": 9,
      "outputs": [
        {
          "output_type": "stream",
          "name": "stdout",
          "text": [
            "Fold 1 Accuracy: 0.9912\n",
            "Fold 2 Accuracy: 0.9386\n",
            "Fold 3 Accuracy: 0.9737\n",
            "Fold 4 Accuracy: 0.9912\n",
            "Fold 5 Accuracy: 0.9823\n",
            "\n",
            "Average Accuracy over 5 folds: 0.9754\n"
          ]
        }
      ]
    },
    {
      "cell_type": "markdown",
      "source": [
        "39. Write a Python program to train a Naïve Bayes classifier using different prior probabilities and compare\n",
        "performance."
      ],
      "metadata": {
        "id": "Ld4KtOCjasn-"
      }
    },
    {
      "cell_type": "code",
      "source": [
        "import pandas as pd\n",
        "from sklearn.model_selection import train_test_split\n",
        "from sklearn.feature_extraction.text import CountVectorizer\n",
        "from sklearn.naive_bayes import MultinomialNB\n",
        "from sklearn.metrics import accuracy_score, classification_report, confusion_matrix\n",
        "\n",
        "# Step 1: Load dataset\n",
        "url = \"https://raw.githubusercontent.com/justmarkham/pycon-2016-tutorial/master/data/sms.tsv\"\n",
        "df = pd.read_csv(url, sep='\\t', header=None, names=['label', 'message'])\n",
        "\n",
        "# Step 2: Encode labels: spam = 1, ham = 0\n",
        "df['label_num'] = df.label.map({'ham': 0, 'spam': 1})\n",
        "X = df['message']\n",
        "y = df['label_num']\n",
        "\n",
        "# Step 3: Train/test split\n",
        "X_train, X_test, y_train, y_test = train_test_split(X, y, test_size=0.2, stratify=y, random_state=42)\n",
        "\n",
        "# Step 4: Vectorize text data\n",
        "vectorizer = CountVectorizer(stop_words='english')\n",
        "X_train_vec = vectorizer.fit_transform(X_train)\n",
        "X_test_vec = vectorizer.transform(X_test)\n",
        "\n",
        "# Step 5: Define different class priors\n",
        "# Format: (name, [prior for class 0 (ham), class 1 (spam)])\n",
        "priors = [\n",
        "    (\"Default (learned from data)\", None),\n",
        "    (\"Equal Prior\", [0.5, 0.5]),\n",
        "    (\"Bias Toward Ham\", [0.9, 0.1]),\n",
        "    (\"Bias Toward Spam\", [0.3, 0.7])\n",
        "]\n",
        "\n",
        "# Step 6: Train and evaluate models\n",
        "for name, prior in priors:\n",
        "    model = MultinomialNB(class_prior=prior)\n",
        "    model.fit(X_train_vec, y_train)\n",
        "    y_pred = model.predict(X_test_vec)\n",
        "\n",
        "    print(f\"\\n=== {name} ===\")\n",
        "    print(\"Accuracy:\", accuracy_score(y_test, y_pred))\n",
        "    print(\"Classification Report:\\n\", classification_report(y_test, y_pred))\n",
        "    print(\"Confusion Matrix:\\n\", confusion_matrix(y_test, y_pred))\n"
      ],
      "metadata": {
        "colab": {
          "base_uri": "https://localhost:8080/"
        },
        "id": "4aoBG5Otaroo",
        "outputId": "7b60b992-196f-4d47-d48d-4f5b07cc6134"
      },
      "execution_count": 10,
      "outputs": [
        {
          "output_type": "stream",
          "name": "stdout",
          "text": [
            "\n",
            "=== Default (learned from data) ===\n",
            "Accuracy: 0.9847533632286996\n",
            "Classification Report:\n",
            "               precision    recall  f1-score   support\n",
            "\n",
            "           0       0.99      0.99      0.99       966\n",
            "           1       0.96      0.92      0.94       149\n",
            "\n",
            "    accuracy                           0.98      1115\n",
            "   macro avg       0.98      0.96      0.97      1115\n",
            "weighted avg       0.98      0.98      0.98      1115\n",
            "\n",
            "Confusion Matrix:\n",
            " [[961   5]\n",
            " [ 12 137]]\n",
            "\n",
            "=== Equal Prior ===\n",
            "Accuracy: 0.9650224215246637\n",
            "Classification Report:\n",
            "               precision    recall  f1-score   support\n",
            "\n",
            "           0       0.99      0.97      0.98       966\n",
            "           1       0.81      0.96      0.88       149\n",
            "\n",
            "    accuracy                           0.97      1115\n",
            "   macro avg       0.90      0.96      0.93      1115\n",
            "weighted avg       0.97      0.97      0.97      1115\n",
            "\n",
            "Confusion Matrix:\n",
            " [[933  33]\n",
            " [  6 143]]\n",
            "\n",
            "=== Bias Toward Ham ===\n",
            "Accuracy: 0.9856502242152466\n",
            "Classification Report:\n",
            "               precision    recall  f1-score   support\n",
            "\n",
            "           0       0.99      1.00      0.99       966\n",
            "           1       0.97      0.92      0.94       149\n",
            "\n",
            "    accuracy                           0.99      1115\n",
            "   macro avg       0.98      0.96      0.97      1115\n",
            "weighted avg       0.99      0.99      0.99      1115\n",
            "\n",
            "Confusion Matrix:\n",
            " [[962   4]\n",
            " [ 12 137]]\n",
            "\n",
            "=== Bias Toward Spam ===\n",
            "Accuracy: 0.9237668161434978\n",
            "Classification Report:\n",
            "               precision    recall  f1-score   support\n",
            "\n",
            "           0       0.99      0.92      0.95       966\n",
            "           1       0.64      0.97      0.77       149\n",
            "\n",
            "    accuracy                           0.92      1115\n",
            "   macro avg       0.82      0.94      0.86      1115\n",
            "weighted avg       0.95      0.92      0.93      1115\n",
            "\n",
            "Confusion Matrix:\n",
            " [[886  80]\n",
            " [  5 144]]\n"
          ]
        }
      ]
    },
    {
      "cell_type": "markdown",
      "source": [
        "40.  Write a Python program to perform Recursive Feature Elimination (RFE) before training an SVM Classifier and\n",
        "compare accuracy."
      ],
      "metadata": {
        "id": "XrecJjp6a_Q-"
      }
    },
    {
      "cell_type": "code",
      "source": [
        "import numpy as np\n",
        "from sklearn.datasets import load_breast_cancer\n",
        "from sklearn.model_selection import train_test_split\n",
        "from sklearn.svm import SVC\n",
        "from sklearn.feature_selection import RFE\n",
        "from sklearn.metrics import accuracy_score\n",
        "\n",
        "# Load dataset\n",
        "data = load_breast_cancer()\n",
        "X, y = data.data, data.target\n",
        "\n",
        "# Split dataset\n",
        "X_train, X_test, y_train, y_test = train_test_split(X, y, test_size=0.3, random_state=42)\n",
        "\n",
        "# 1. Train SVM without RFE\n",
        "svm = SVC(kernel='linear', random_state=42)\n",
        "svm.fit(X_train, y_train)\n",
        "y_pred = svm.predict(X_test)\n",
        "acc_no_rfe = accuracy_score(y_test, y_pred)\n",
        "\n",
        "# 2. Train SVM with RFE\n",
        "n_features_to_select = 10  # Select top 10 features\n",
        "rfe = RFE(estimator=SVC(kernel='linear', random_state=42), n_features_to_select=n_features_to_select)\n",
        "rfe.fit(X_train, y_train)\n",
        "\n",
        "# Transform training and test sets\n",
        "X_train_rfe = rfe.transform(X_train)\n",
        "X_test_rfe = rfe.transform(X_test)\n",
        "\n",
        "# Train SVM on selected features\n",
        "svm_rfe = SVC(kernel='linear', random_state=42)\n",
        "svm_rfe.fit(X_train_rfe, y_train)\n",
        "y_pred_rfe = svm_rfe.predict(X_test_rfe)\n",
        "acc_rfe = accuracy_score(y_test, y_pred_rfe)\n",
        "\n",
        "# Output results\n",
        "print(f\"Accuracy without RFE: {acc_no_rfe:.4f}\")\n",
        "print(f\"Accuracy with RFE (top {n_features_to_select} features): {acc_rfe:.4f}\")\n"
      ],
      "metadata": {
        "colab": {
          "base_uri": "https://localhost:8080/"
        },
        "id": "_4QAB_Pza97A",
        "outputId": "50ba2ef6-4d61-4e58-efff-144e06d2cd7c"
      },
      "execution_count": 11,
      "outputs": [
        {
          "output_type": "stream",
          "name": "stdout",
          "text": [
            "Accuracy without RFE: 0.9649\n",
            "Accuracy with RFE (top 10 features): 0.9298\n"
          ]
        }
      ]
    },
    {
      "cell_type": "markdown",
      "source": [
        "41.  Write a Python program to train an SVM Classifier and evaluate its performance using Precision, Recall, and\n",
        "F1-Score instead of accuracy."
      ],
      "metadata": {
        "id": "aWWEOtyXbTXV"
      }
    },
    {
      "cell_type": "code",
      "source": [
        "from sklearn.datasets import load_breast_cancer\n",
        "from sklearn.model_selection import train_test_split\n",
        "from sklearn.svm import SVC\n",
        "from sklearn.metrics import precision_score, recall_score, f1_score, classification_report\n",
        "\n",
        "# Load dataset\n",
        "data = load_breast_cancer()\n",
        "X, y = data.data, data.target\n",
        "\n",
        "# Split dataset\n",
        "X_train, X_test, y_train, y_test = train_test_split(X, y, test_size=0.3, random_state=42)\n",
        "\n",
        "# Train SVM classifier\n",
        "clf = SVC(kernel='linear', random_state=42)\n",
        "clf.fit(X_train, y_train)\n",
        "y_pred = clf.predict(X_test)\n",
        "\n",
        "# Evaluate using precision, recall, and F1-score\n",
        "precision = precision_score(y_test, y_pred, average='binary')\n",
        "recall = recall_score(y_test, y_pred, average='binary')\n",
        "f1 = f1_score(y_test, y_pred, average='binary')\n",
        "\n",
        "print(f\"Precision: {precision:.4f}\")\n",
        "print(f\"Recall:    {recall:.4f}\")\n",
        "print(f\"F1-Score:  {f1:.4f}\")\n",
        "print(\"\\nDetailed classification report:\\n\")\n",
        "print(classification_report(y_test, y_pred))\n"
      ],
      "metadata": {
        "colab": {
          "base_uri": "https://localhost:8080/"
        },
        "id": "TNIxynFAbR-P",
        "outputId": "feeaca08-f5f7-44a1-9364-bc022f457e3a"
      },
      "execution_count": 12,
      "outputs": [
        {
          "output_type": "stream",
          "name": "stdout",
          "text": [
            "Precision: 0.9636\n",
            "Recall:    0.9815\n",
            "F1-Score:  0.9725\n",
            "\n",
            "Detailed classification report:\n",
            "\n",
            "              precision    recall  f1-score   support\n",
            "\n",
            "           0       0.97      0.94      0.95        63\n",
            "           1       0.96      0.98      0.97       108\n",
            "\n",
            "    accuracy                           0.96       171\n",
            "   macro avg       0.97      0.96      0.96       171\n",
            "weighted avg       0.96      0.96      0.96       171\n",
            "\n"
          ]
        }
      ]
    },
    {
      "cell_type": "markdown",
      "source": [
        "42. Write a Python program to train a Naïve Bayes Classifier and evaluate its performance using Log Loss\n",
        "(Cross-Entropy Loss)."
      ],
      "metadata": {
        "id": "cG2p0YXMbgDX"
      }
    },
    {
      "cell_type": "code",
      "source": [
        "from sklearn.datasets import load_breast_cancer\n",
        "from sklearn.model_selection import train_test_split\n",
        "from sklearn.naive_bayes import GaussianNB\n",
        "from sklearn.metrics import log_loss\n",
        "\n",
        "# Load dataset\n",
        "data = load_breast_cancer()\n",
        "X, y = data.data, data.target\n",
        "\n",
        "# Split dataset\n",
        "X_train, X_test, y_train, y_test = train_test_split(X, y, test_size=0.3, random_state=42)\n",
        "\n",
        "# Train Naive Bayes classifier\n",
        "nb = GaussianNB()\n",
        "nb.fit(X_train, y_train)\n",
        "\n",
        "# Predict class probabilities for log loss calculation\n",
        "y_proba = nb.predict_proba(X_test)\n",
        "\n",
        "# Calculate log loss (cross-entropy loss)\n",
        "loss = log_loss(y_test, y_proba)\n",
        "\n",
        "print(f\"Log Loss (Cross-Entropy Loss): {loss:.4f}\")\n"
      ],
      "metadata": {
        "colab": {
          "base_uri": "https://localhost:8080/"
        },
        "id": "f2PL2nxqbfBW",
        "outputId": "a6e9f038-9474-4d73-92e8-c84c383290b2"
      },
      "execution_count": 13,
      "outputs": [
        {
          "output_type": "stream",
          "name": "stdout",
          "text": [
            "Log Loss (Cross-Entropy Loss): 0.4899\n"
          ]
        }
      ]
    },
    {
      "cell_type": "markdown",
      "source": [
        "43.  Write a Python program to train an SVM Classifier and visualize the Confusion Matrix using seaborn."
      ],
      "metadata": {
        "id": "MwuRAncXbu-W"
      }
    },
    {
      "cell_type": "code",
      "source": [
        "import seaborn as sns\n",
        "import matplotlib.pyplot as plt\n",
        "from sklearn.datasets import load_breast_cancer\n",
        "from sklearn.model_selection import train_test_split\n",
        "from sklearn.svm import SVC\n",
        "from sklearn.metrics import confusion_matrix\n",
        "\n",
        "# Load dataset\n",
        "data = load_breast_cancer()\n",
        "X, y = data.data, data.target\n",
        "\n",
        "# Split dataset\n",
        "X_train, X_test, y_train, y_test = train_test_split(X, y, test_size=0.3, random_state=42)\n",
        "\n",
        "# Train SVM classifier\n",
        "clf = SVC(kernel='linear', random_state=42)\n",
        "clf.fit(X_train, y_train)\n",
        "y_pred = clf.predict(X_test)\n",
        "\n",
        "# Compute confusion matrix\n",
        "cm = confusion_matrix(y_test, y_pred)\n",
        "\n",
        "# Visualize confusion matrix using seaborn\n",
        "plt.figure(figsize=(6,4))\n",
        "sns.heatmap(cm, annot=True, fmt='d', cmap='Blues', xticklabels=data.target_names, yticklabels=data.target_names)\n",
        "plt.xlabel('Predicted')\n",
        "plt.ylabel('Actual')\n",
        "plt.title('Confusion Matrix - SVM Classifier')\n",
        "plt.show()\n"
      ],
      "metadata": {
        "colab": {
          "base_uri": "https://localhost:8080/",
          "height": 410
        },
        "id": "ZRsFI4O7buMm",
        "outputId": "f7e7528b-5ea1-48e2-e7c5-b299e2730739"
      },
      "execution_count": 14,
      "outputs": [
        {
          "output_type": "display_data",
          "data": {
            "text/plain": [
              "<Figure size 600x400 with 2 Axes>"
            ],
            "image/png": "[encoded data removed]"
          },
          "metadata": {}
        }
      ]
    },
    {
      "cell_type": "markdown",
      "source": [
        "44. Write a Python program to train an SVM Regressor (SVR) and evaluate its performance using Mean Absolute\n",
        "Error (MAE) instead of MSE."
      ],
      "metadata": {
        "id": "77fwf32cb6w1"
      }
    },
    {
      "cell_type": "code",
      "source": [
        "from sklearn.datasets import load_diabetes\n",
        "from sklearn.model_selection import train_test_split\n",
        "from sklearn.svm import SVR\n",
        "from sklearn.metrics import mean_absolute_error\n",
        "\n",
        "# Load a regression dataset\n",
        "X, y = load_diabetes(return_X_y=True)\n",
        "\n",
        "# Split into train and test sets\n",
        "X_train, X_test, y_train, y_test = train_test_split(X, y, test_size=0.3, random_state=42)\n",
        "\n",
        "# Train the SVR model\n",
        "svr = SVR(kernel='rbf')\n",
        "svr.fit(X_train, y_train)\n",
        "\n",
        "# Predict on the test set\n",
        "y_pred = svr.predict(X_test)\n",
        "\n",
        "# Evaluate performance using Mean Absolute Error (MAE)\n",
        "mae = mean_absolute_error(y_test, y_pred)\n",
        "\n",
        "print(f\"Mean Absolute Error (MAE): {mae:.4f}\")\n"
      ],
      "metadata": {
        "colab": {
          "base_uri": "https://localhost:8080/"
        },
        "id": "SJWJaGxDb4At",
        "outputId": "c0ed88f6-5f3b-4481-d278-f15ce4a4fb93"
      },
      "execution_count": 15,
      "outputs": [
        {
          "output_type": "stream",
          "name": "stdout",
          "text": [
            "Mean Absolute Error (MAE): 56.4147\n"
          ]
        }
      ]
    },
    {
      "cell_type": "markdown",
      "source": [
        "45.  Write a Python program to train a Naïve Bayes classifier and evaluate its performance using the ROC-AUC\n",
        "score."
      ],
      "metadata": {
        "id": "tqvcTc6FcGBV"
      }
    },
    {
      "cell_type": "code",
      "source": [
        "from sklearn.datasets import load_breast_cancer\n",
        "from sklearn.model_selection import train_test_split\n",
        "from sklearn.naive_bayes import GaussianNB\n",
        "from sklearn.metrics import roc_auc_score\n",
        "\n",
        "# Load dataset\n",
        "X, y = load_breast_cancer(return_X_y=True)\n",
        "\n",
        "# Split into train and test sets\n",
        "X_train, X_test, y_train, y_test = train_test_split(X, y, test_size=0.3, random_state=42)\n",
        "\n",
        "# Train Naive Bayes classifier\n",
        "nb = GaussianNB()\n",
        "nb.fit(X_train, y_train)\n",
        "\n",
        "# Predict probabilities for the positive class\n",
        "y_proba = nb.predict_proba(X_test)[:, 1]\n",
        "\n",
        "# Evaluate performance using ROC-AUC score\n",
        "roc_auc = roc_auc_score(y_test, y_proba)\n",
        "\n",
        "print(f\"ROC-AUC Score: {roc_auc:.4f}\")\n"
      ],
      "metadata": {
        "colab": {
          "base_uri": "https://localhost:8080/"
        },
        "id": "6aU8UUUqcEhd",
        "outputId": "5c6cc4f4-c3a7-4fce-9489-9e8cdf8ee90c"
      },
      "execution_count": 16,
      "outputs": [
        {
          "output_type": "stream",
          "name": "stdout",
          "text": [
            "ROC-AUC Score: 0.9922\n"
          ]
        }
      ]
    },
    {
      "cell_type": "markdown",
      "source": [
        "46. Write a Python program to train an SVM Classifier and visualize the Precision-Recall Curve."
      ],
      "metadata": {
        "id": "-8BUWPwmcPb0"
      }
    },
    {
      "cell_type": "code",
      "source": [
        "import matplotlib.pyplot as plt\n",
        "from sklearn.datasets import load_breast_cancer\n",
        "from sklearn.model_selection import train_test_split\n",
        "from sklearn.svm import SVC\n",
        "from sklearn.metrics import precision_recall_curve\n",
        "\n",
        "# Load dataset\n",
        "X, y = load_breast_cancer(return_X_y=True)\n",
        "\n",
        "# Split dataset\n",
        "X_train, X_test, y_train, y_test = train_test_split(X, y, test_size=0.3, random_state=42)\n",
        "\n",
        "# Train SVM classifier with probability estimates enabled\n",
        "clf = SVC(kernel='linear', probability=True, random_state=42)\n",
        "clf.fit(X_train, y_train)\n",
        "\n",
        "# Get predicted probabilities for the positive class\n",
        "y_scores = clf.predict_proba(X_test)[:, 1]\n",
        "\n",
        "# Compute precision-recall pairs\n",
        "precision, recall, thresholds = precision_recall_curve(y_test, y_scores)\n",
        "\n",
        "# Plot the Precision-Recall curve\n",
        "plt.figure(figsize=(8, 6))\n",
        "plt.plot(recall, precision, color='b', linewidth=2)\n",
        "plt.xlabel('Recall')\n",
        "plt.ylabel('Precision')\n",
        "plt.title('Precision-Recall Curve for SVM Classifier')\n",
        "plt.grid(True)\n",
        "plt.show()\n"
      ],
      "metadata": {
        "colab": {
          "base_uri": "https://localhost:8080/",
          "height": 564
        },
        "id": "-ZjEoovvcOPN",
        "outputId": "6a2384df-a154-4121-b1c7-c8a25591dad7"
      },
      "execution_count": 17,
      "outputs": [
        {
          "output_type": "display_data",
          "data": {
            "text/plain": [
              "<Figure size 800x600 with 1 Axes>"
            ],
            "image/png": "[encoded data removed]"
          },
          "metadata": {}
        }
      ]
    },
    {
      "cell_type": "code",
      "source": [],
      "metadata": {
        "id": "mkrJq1cdcaoM"
      },
      "execution_count": null,
      "outputs": []
    }
  ]
}