{
  "nbformat": 4,
  "nbformat_minor": 0,
  "metadata": {
    "colab": {
      "provenance": []
    },
    "kernelspec": {
      "name": "python3",
      "display_name": "Python 3"
    },
    "language_info": {
      "name": "python"
    }
  },
  "cells": [
    {
      "cell_type": "markdown",
      "source": [
        "1. Write a code to reverse a string?"
      ],
      "metadata": {
        "id": "PutttexOeHhN"
      }
    },
    {
      "cell_type": "code",
      "source": [
        "string = input(\"Enter a string: \")\n",
        "print(string[::-1])"
      ],
      "metadata": {
        "colab": {
          "base_uri": "https://localhost:8080/"
        },
        "id": "LTHe24oFeTSX",
        "outputId": "7b9d67b9-564a-477b-973b-6873f4d89681"
      },
      "execution_count": null,
      "outputs": [
        {
          "output_type": "stream",
          "name": "stdout",
          "text": [
            "Enter a string: hello world\n",
            "dlrow olleh\n"
          ]
        }
      ]
    },
    {
      "cell_type": "markdown",
      "source": [
        "2. Write a code to count the number of vowels in a string?"
      ],
      "metadata": {
        "id": "jBwqpm6e2EfE"
      }
    },
    {
      "cell_type": "code",
      "execution_count": null,
      "metadata": {
        "colab": {
          "base_uri": "https://localhost:8080/"
        },
        "id": "i0rinqf9OQQN",
        "outputId": "2bfd9421-1e75-45af-a79e-5208a3a65d79"
      },
      "outputs": [
        {
          "output_type": "stream",
          "name": "stdout",
          "text": [
            "Enter a string: elephant\n",
            "Number of vowels in the string: 3\n"
          ]
        }
      ],
      "source": [
        "string = input(\"Enter a string: \")\n",
        "vowels = \"aeiouAEIOU\"\n",
        "count = 0\n",
        "for char in string:\n",
        "    if char in vowels:\n",
        "        count += 1\n",
        "print(\"Number of vowels in the string:\", count)"
      ]
    },
    {
      "cell_type": "markdown",
      "source": [
        "3. Write a code to check if a given string is a palindrome or not."
      ],
      "metadata": {
        "id": "PNuw4qre5zsj"
      }
    },
    {
      "cell_type": "code",
      "source": [
        "string = input(\"Enter a string: \")\n",
        "if string == string[::-1]:\n",
        "    print(\"The string is a palindrome.\")\n",
        "else:\n",
        "    print(\"The string is not a palindrome.\")"
      ],
      "metadata": {
        "colab": {
          "base_uri": "https://localhost:8080/"
        },
        "id": "DLVW-fGj5tiv",
        "outputId": "c2e139fe-3344-4eda-db55-a5f96f5cb7a8"
      },
      "execution_count": null,
      "outputs": [
        {
          "output_type": "stream",
          "name": "stdout",
          "text": [
            "Enter a string: ABCDDCBA\n",
            "The string is a palindrome.\n"
          ]
        }
      ]
    },
    {
      "cell_type": "markdown",
      "source": [
        "4. Write a code to check if two given strings are anagrams of each other."
      ],
      "metadata": {
        "id": "BaeFaPeG7AwS"
      }
    },
    {
      "cell_type": "code",
      "source": [
        "string1 = input(\"Enter the first string: \")\n",
        "string2 = input(\"Enter the second string: \")\n",
        "if sorted(string1) == sorted(string2):\n",
        "    print(\"The strings are anagrams.\")\n",
        "else:\n",
        "    print(\"The strings are not anagrams.\")"
      ],
      "metadata": {
        "colab": {
          "base_uri": "https://localhost:8080/"
        },
        "id": "xCWpZ-3a6z5b",
        "outputId": "11215d09-bec5-4deb-929c-1c1c14ca12ee"
      },
      "execution_count": null,
      "outputs": [
        {
          "output_type": "stream",
          "name": "stdout",
          "text": [
            "Enter the first string: adcbe\n",
            "Enter the second string: dcaeb\n",
            "The strings are anagrams.\n"
          ]
        }
      ]
    },
    {
      "cell_type": "markdown",
      "source": [
        "5. Write a code to find all occurrences of a given substring within another string."
      ],
      "metadata": {
        "id": "sgZXx6jB8I3o"
      }
    },
    {
      "cell_type": "code",
      "source": [
        "string = input(\"Enter the string: \")\n",
        "substring = input(\"Enter the substring: \")\n",
        "indices = []\n",
        "for i in range(len(string)):\n",
        "    if string[i:i+len(substring)] == substring:\n",
        "        indices.append(i)\n",
        "print(\"The substring occurs at the following indices:\", indices)"
      ],
      "metadata": {
        "colab": {
          "base_uri": "https://localhost:8080/"
        },
        "id": "sKlPTVZn8o3f",
        "outputId": "db007734-a09b-4c38-ad82-f4ec098fa7cf"
      },
      "execution_count": null,
      "outputs": [
        {
          "output_type": "stream",
          "name": "stdout",
          "text": [
            "Enter the string: we are studying, we are preparing for exams\n",
            "Enter the substring: are\n",
            "The substring occurs at the following indices: [3, 20]\n"
          ]
        }
      ]
    },
    {
      "cell_type": "markdown",
      "source": [
        "6. Write a code to perform basic string compression using the counts of repeated characters."
      ],
      "metadata": {
        "id": "v-3pzwzPKOkN"
      }
    },
    {
      "cell_type": "code",
      "source": [
        "def string_compression(input_string):\n",
        "    compressed_string = \"\"\n",
        "    count = 1\n",
        "    for i in range(len(input_string)):\n",
        "        if i + 1 < len(input_string) and input_string[i] == input_string[i + 1]:\n",
        "            count += 1\n",
        "        else:\n",
        "            compressed_string += input_string[i] + str(count)\n",
        "            count = 1\n",
        "    return compressed_string\n",
        "\n",
        "input_string = input(\"Enter a string: \")\n",
        "compressed_string = string_compression(input_string)\n",
        "print(\"Compressed string:\", compressed_string)"
      ],
      "metadata": {
        "colab": {
          "base_uri": "https://localhost:8080/"
        },
        "id": "Rb9HcBWOZ6JS",
        "outputId": "ee115313-035a-447f-8fbd-df9eee4bceca"
      },
      "execution_count": null,
      "outputs": [
        {
          "output_type": "stream",
          "name": "stdout",
          "text": [
            "Enter a string: AAAAOYULLLP\n",
            "Compressed string: A4O1Y1U1L3P1\n"
          ]
        }
      ]
    },
    {
      "cell_type": "markdown",
      "source": [
        "7. Write a code to determine if a string has all unique characters"
      ],
      "metadata": {
        "id": "HeBLSuSZf70H"
      }
    },
    {
      "cell_type": "code",
      "source": [
        "string = input(\"Enter a string: \")\n",
        "if len(string) == len(set(string)):\n",
        "    print(\"The string has all unique characters.\")\n",
        "else:\n",
        "    print(\"The string does not have all unique characters.\")"
      ],
      "metadata": {
        "colab": {
          "base_uri": "https://localhost:8080/"
        },
        "id": "4KzZh_pZft6o",
        "outputId": "04c1f2ca-f0d9-4612-9f3d-d9eafadb9b12"
      },
      "execution_count": null,
      "outputs": [
        {
          "output_type": "stream",
          "name": "stdout",
          "text": [
            "Enter a string: world\n",
            "The string has all unique characters.\n"
          ]
        }
      ]
    },
    {
      "cell_type": "markdown",
      "source": [
        "8. Write a code to convert a given string to uppercase or lowercase."
      ],
      "metadata": {
        "id": "8G3ZJ9y04KE8"
      }
    },
    {
      "cell_type": "code",
      "source": [
        "string = input(\"Enter a string: \")\n",
        "uppercase_string = string.upper()\n",
        "lowercase_string = string.lower()\n",
        "print(\"Uppercase string:\", uppercase_string)\n",
        "print(\"Lowercase string:\", lowercase_string)"
      ],
      "metadata": {
        "colab": {
          "base_uri": "https://localhost:8080/"
        },
        "id": "Bc_YPf-S0t8e",
        "outputId": "feb6bd1b-5ef7-4a20-c886-b223f44a4301"
      },
      "execution_count": null,
      "outputs": [
        {
          "output_type": "stream",
          "name": "stdout",
          "text": [
            "Enter a string: sayaN\n",
            "Uppercase string: SAYAN\n",
            "Lowercase string: sayan\n"
          ]
        }
      ]
    },
    {
      "cell_type": "markdown",
      "source": [
        "9. Write a code to count the number of words in a string?"
      ],
      "metadata": {
        "id": "ho6qAJV6_D2t"
      }
    },
    {
      "cell_type": "code",
      "source": [
        "string = input(\"Enter a string: \")\n",
        "words = string.split()\n",
        "print(\"Number of words in the string:\", len(words))"
      ],
      "metadata": {
        "colab": {
          "base_uri": "https://localhost:8080/"
        },
        "id": "9TQ1npWg-_AC",
        "outputId": "b8a0438e-ed4d-4d5e-8eab-0b88176e57b4"
      },
      "execution_count": null,
      "outputs": [
        {
          "output_type": "stream",
          "name": "stdout",
          "text": [
            "Enter a string: sayan roy\n",
            "Number of words in the string: 2\n"
          ]
        }
      ]
    },
    {
      "cell_type": "code",
      "source": [],
      "metadata": {
        "id": "75zKylQZ_Ts4"
      },
      "execution_count": null,
      "outputs": []
    },
    {
      "cell_type": "markdown",
      "source": [
        "10. Write a code to concatenate two strings without using the + operator."
      ],
      "metadata": {
        "id": "9SWsb8sf_lOQ"
      }
    },
    {
      "cell_type": "code",
      "source": [
        "def concatenate_strings(str1, str2):\n",
        "\n",
        "    # Use join()\n",
        "    return ''.join([str1, str2])\n",
        "\n",
        "# Example usage\n",
        "string1 = \"Hello\"\n",
        "string2 = \" World\"\n",
        "result = concatenate_strings(string1, string2)\n",
        "print(f\"Concatenated string: {result}\")"
      ],
      "metadata": {
        "colab": {
          "base_uri": "https://localhost:8080/"
        },
        "id": "rzddsTAvVmlg",
        "outputId": "5ccd56ef-3b16-43c1-8037-60daa1dd72a1"
      },
      "execution_count": null,
      "outputs": [
        {
          "output_type": "stream",
          "name": "stdout",
          "text": [
            "Concatenated string: Hello World\n"
          ]
        }
      ]
    },
    {
      "cell_type": "markdown",
      "source": [
        "11. Write a code to remove all occurrences of a specific element from a list."
      ],
      "metadata": {
        "id": "ybWVoc41Vo5Z"
      }
    },
    {
      "cell_type": "code",
      "source": [
        "def remove_all_occurrences(input_list, element_to_remove):\n",
        "\n",
        "    return [item for item in input_list if item != element_to_remove]\n",
        "\n",
        "my_list = [1, 2, 3, 4, 2, 5, 2]\n",
        "element_to_remove = 2\n",
        "new_list = remove_all_occurrences(my_list, element_to_remove)\n",
        "print(f\"List with all occurrences of {element_to_remove} removed:\", new_list)"
      ],
      "metadata": {
        "colab": {
          "base_uri": "https://localhost:8080/"
        },
        "id": "9nU7Db_RVniA",
        "outputId": "609abf1c-39f9-432b-a3db-fda22e3e2103"
      },
      "execution_count": null,
      "outputs": [
        {
          "output_type": "stream",
          "name": "stdout",
          "text": [
            "List with all occurrences of 2 removed: [1, 3, 4, 5]\n"
          ]
        }
      ]
    },
    {
      "cell_type": "markdown",
      "source": [
        "12. Implement a code to find the second largest number in a given list of integers."
      ],
      "metadata": {
        "id": "CJN93t30e-eJ"
      }
    },
    {
      "cell_type": "code",
      "source": [
        "def find_second_largest(numbers):\n",
        "    if len(numbers) < 2:\n",
        "        return \"List must contain at least two numbers.\"\n",
        "\n",
        "    unique_numbers = sorted(list(set(numbers)), reverse=True)\n",
        "\n",
        "    if len(unique_numbers) < 2:\n",
        "        return \"There is no second largest number.\"\n",
        "    else:\n",
        "        return unique_numbers[1]\n",
        "\n",
        "# Example usage\n",
        "numbers = [1, 5, 2, 8, 3, 9, 9, 4]\n",
        "second_largest = find_second_largest(numbers)\n",
        "print(\"The second largest number is:\", second_largest)"
      ],
      "metadata": {
        "colab": {
          "base_uri": "https://localhost:8080/"
        },
        "id": "V4rKTYcpl1a9",
        "outputId": "f32f0cf7-397a-4e56-f7a6-6f03846425a2"
      },
      "execution_count": null,
      "outputs": [
        {
          "output_type": "stream",
          "name": "stdout",
          "text": [
            "The second largest number is: 8\n"
          ]
        }
      ]
    },
    {
      "cell_type": "markdown",
      "source": [
        "13. Create a code to count the occurrences of each element in a list and return a dictionary with elements as keys and their counts as values.\n"
      ],
      "metadata": {
        "id": "G_Axyypyl4Ac"
      }
    },
    {
      "cell_type": "code",
      "source": [
        "def count_occurrences(input_list):\n",
        "    element_counts = {}\n",
        "    for element in input_list:\n",
        "        if element in element_counts:\n",
        "            element_counts[element] += 1\n",
        "        else:\n",
        "            element_counts[element] = 1\n",
        "    return element_counts\n",
        "my_list = [1, 2, 2, 3, 4, 4, 4, 5]\n",
        "occurrences = count_occurrences(my_list)\n",
        "print(\"Occurrences of each element:\", occurrences)"
      ],
      "metadata": {
        "colab": {
          "base_uri": "https://localhost:8080/"
        },
        "id": "LAB7ydxsvY7d",
        "outputId": "9c7d08f4-d0f0-4bac-d8f4-5f31e8e351b1"
      },
      "execution_count": null,
      "outputs": [
        {
          "output_type": "stream",
          "name": "stdout",
          "text": [
            "Occurrences of each element: {1: 1, 2: 2, 3: 1, 4: 3, 5: 1}\n"
          ]
        }
      ]
    },
    {
      "cell_type": "markdown",
      "source": [
        "14. Write a code to reverse a list in-place without using any built-in reverse functions."
      ],
      "metadata": {
        "id": "UpfQluZsvfgM"
      }
    },
    {
      "cell_type": "code",
      "source": [
        "def reverse_list_in_place(data):\n",
        "    start = 0\n",
        "    end = len(data) - 1\n",
        "    while start < end:\n",
        "        data[start], data[end] = data[end], data[start]\n",
        "        start += 1\n",
        "        end -= 1\n",
        "    return data\n",
        "my_list = [1, 2, 3, 4, 5]\n",
        "reversed_list = reverse_list_in_place(my_list)\n",
        "print(\"Reversed list:\", reversed_list)"
      ],
      "metadata": {
        "colab": {
          "base_uri": "https://localhost:8080/"
        },
        "id": "uH1eUxn8M9gi",
        "outputId": "4d4f3f44-0a21-4af8-f779-aff9b24f8fe9"
      },
      "execution_count": null,
      "outputs": [
        {
          "output_type": "stream",
          "name": "stdout",
          "text": [
            "Reversed list: [5, 4, 3, 2, 1]\n"
          ]
        }
      ]
    },
    {
      "cell_type": "markdown",
      "source": [
        "15. Implement a code to find and remove duplicates from a list while preserving the original order of elements."
      ],
      "metadata": {
        "id": "d1aUt768cYuA"
      }
    },
    {
      "cell_type": "code",
      "source": [
        "def remove_duplicates_preserve_order(input_list):\n",
        "    seen = set()\n",
        "    result = []\n",
        "    for item in input_list:\n",
        "        if item not in seen:\n",
        "            seen.add(item)\n",
        "            result.append(item)\n",
        "    return result\n",
        "\n",
        "my_list = [1, 2, 2, 3, 4, 4, 4, 5, 1]\n",
        "unique_list = remove_duplicates_preserve_order(my_list)\n",
        "print(\"List with duplicates removed (preserving order):\", unique_list)"
      ],
      "metadata": {
        "colab": {
          "base_uri": "https://localhost:8080/"
        },
        "id": "-1S0aP_MPQ55",
        "outputId": "9843154d-6d10-4198-9f9d-0a1d462565a8"
      },
      "execution_count": null,
      "outputs": [
        {
          "output_type": "stream",
          "name": "stdout",
          "text": [
            "List with duplicates removed (preserving order): [1, 2, 3, 4, 5]\n"
          ]
        }
      ]
    },
    {
      "cell_type": "markdown",
      "source": [
        "16. Create a code to check if a given list is sorted (either in ascending or descending order) or not."
      ],
      "metadata": {
        "id": "_ooZmuddeoeS"
      }
    },
    {
      "cell_type": "code",
      "source": [
        "\n",
        "def is_sorted(input_list):\n",
        "    ascending = all(input_list[i] <= input_list[i+1] for i in range(len(input_list)-1))\n",
        "    descending = all(input_list[i] >= input_list[i+1] for i in range(len(input_list)-1))\n",
        "    return ascending or descending\n",
        "\n",
        "my_list1 = [1, 2, 3, 4, 5]\n",
        "my_list2 = [5, 4, 3, 2, 1]\n",
        "my_list3 = [1, 3, 2, 4, 5]\n",
        "\n",
        "print(f\"Is {my_list1} sorted? {is_sorted(my_list1)}\")\n",
        "print(f\"Is {my_list2} sorted? {is_sorted(my_list2)}\")\n",
        "print(f\"Is {my_list3} sorted? {is_sorted(my_list3)}\")"
      ],
      "metadata": {
        "colab": {
          "base_uri": "https://localhost:8080/"
        },
        "id": "NFlPLjjrLNca",
        "outputId": "cb15b02b-ccb2-422b-c69f-bc768ec1a59f"
      },
      "execution_count": null,
      "outputs": [
        {
          "output_type": "stream",
          "name": "stdout",
          "text": [
            "Is [1, 2, 3, 4, 5] sorted? True\n",
            "Is [5, 4, 3, 2, 1] sorted? True\n",
            "Is [1, 3, 2, 4, 5] sorted? False\n"
          ]
        }
      ]
    },
    {
      "cell_type": "markdown",
      "source": [
        "17. Write a code to merge two sorted lists into a single sorted list."
      ],
      "metadata": {
        "id": "VF2uOWmbMl1d"
      }
    },
    {
      "cell_type": "code",
      "source": [
        "my_list1 = [1, 3, 5, 7, 9]\n",
        "my_list2 = [2, 4, 6, 8, 10]\n",
        "merged_list = sorted(my_list1 + my_list2)\n",
        "print(\"Merged list:\", merged_list)"
      ],
      "metadata": {
        "colab": {
          "base_uri": "https://localhost:8080/"
        },
        "id": "045F9L_vLR64",
        "outputId": "679c4b1a-e676-4a35-985f-953ca6f36260"
      },
      "execution_count": null,
      "outputs": [
        {
          "output_type": "stream",
          "name": "stdout",
          "text": [
            "Merged list: [1, 2, 3, 4, 5, 6, 7, 8, 9, 10]\n"
          ]
        }
      ]
    },
    {
      "cell_type": "markdown",
      "source": [
        "18. Write a code to merge two sorted lists into a single sorted list.\n"
      ],
      "metadata": {
        "id": "_4-Fj86dNv7A"
      }
    },
    {
      "cell_type": "code",
      "source": [
        "my_list1 = [1, 3, 5, 7, 9]\n",
        "my_list2 = [2, 4, 6, 8, 10]\n",
        "merged_list = merge_sorted_lists(my_list1, my_list2)\n",
        "print(\"Merged list:\", merged_list)"
      ],
      "metadata": {
        "colab": {
          "base_uri": "https://localhost:8080/"
        },
        "id": "Jtgfmd6YNWvr",
        "outputId": "b1ac63c3-3ed1-4fe1-c844-1023e6e50436"
      },
      "execution_count": null,
      "outputs": [
        {
          "output_type": "stream",
          "name": "stdout",
          "text": [
            "Merged list: [1, 2, 3, 4, 5, 6, 7, 8, 9, 10]\n"
          ]
        }
      ]
    },
    {
      "cell_type": "markdown",
      "source": [
        "19. Create a code to find the union of two lists without duplicates."
      ],
      "metadata": {
        "id": "LRFqTz2kSNtw"
      }
    },
    {
      "cell_type": "code",
      "source": [
        "my_list1 = [1, 2, 3, 4, 5]\n",
        "my_list2 = [4, 5, 6, 7, 8]\n",
        "union_list = list(set(my_list1 + my_list2))\n",
        "print(\"Union of the two lists:\", union_list)"
      ],
      "metadata": {
        "id": "H90h42WWSX7n"
      },
      "execution_count": null,
      "outputs": []
    },
    {
      "cell_type": "markdown",
      "source": [
        "20. Write a code to shuffle a given list randomly without using any built-in shuffle functions."
      ],
      "metadata": {
        "id": "fPj5-4TFVe8h"
      }
    },
    {
      "cell_type": "code",
      "source": [
        "import random\n",
        "my_list = [1, 2, 3, 4, 5]\n",
        "shuffled_list = my_list.copy()\n",
        "for i in range(len(shuffled_list)):\n",
        "    j = random.randint(0, i)\n",
        "    shuffled_list[i], shuffled_list[j] = shuffled_list[j], shuffled_list[i]\n",
        "print(\"Shuffled list:\", shuffled_list)"
      ],
      "metadata": {
        "colab": {
          "base_uri": "https://localhost:8080/"
        },
        "id": "wlUVgjOEVmdo",
        "outputId": "3978e36e-3905-4461-996d-76ec7b917d57"
      },
      "execution_count": null,
      "outputs": [
        {
          "output_type": "stream",
          "name": "stdout",
          "text": [
            "Shuffled list: [1, 2, 4, 3, 5]\n"
          ]
        }
      ]
    },
    {
      "cell_type": "markdown",
      "source": [
        "21. Write a code that takes two tuples as input and returns a new tuple containing elements that are common to both input tuples."
      ],
      "metadata": {
        "id": "D9Jdi1tHZYnZ"
      }
    },
    {
      "cell_type": "code",
      "source": [
        "tuple1 = (1, 2, 3, 4, 5)\n",
        "tuple2 = (4, 5, 6, 7, 8)\n",
        "common_elements = tuple(item for item in tuple1 if item in tuple2)\n",
        "print(\"Common elements:\", common_elements)"
      ],
      "metadata": {
        "colab": {
          "base_uri": "https://localhost:8080/"
        },
        "id": "NeQlGESIJ7IN",
        "outputId": "dd13879b-9135-4d2f-8507-75655dc48c63"
      },
      "execution_count": null,
      "outputs": [
        {
          "output_type": "stream",
          "name": "stdout",
          "text": [
            "Common elements: (4, 5)\n"
          ]
        }
      ]
    },
    {
      "cell_type": "markdown",
      "source": [
        "22. Create a code that prompts the user to enter two sets of integers separated by commas. Then, print the intersection of these two sets."
      ],
      "metadata": {
        "id": "wVRXnOENKe0S"
      }
    },
    {
      "cell_type": "code",
      "source": [
        "set1 = set(map(int, input(\"Enter the first set of integers separated by commas: \").split(',')))\n",
        "set2 = set(map(int, input(\"Enter the second set of integers separated by commas: \").split(',')))\n",
        "intersection = set1.intersection(set2)\n",
        "print(\"Intersection of the two sets:\", intersection)"
      ],
      "metadata": {
        "colab": {
          "base_uri": "https://localhost:8080/"
        },
        "id": "5Iu1A9ISKEFo",
        "outputId": "02b39e94-1aec-459f-9f6c-087ecb804524"
      },
      "execution_count": null,
      "outputs": [
        {
          "output_type": "stream",
          "name": "stdout",
          "text": [
            "Enter the first set of integers separated by commas: 2,3,4,5\n",
            "Enter the second set of integers separated by commas: 4,5,6,7\n",
            "Intersection of the two sets: {4, 5}\n"
          ]
        }
      ]
    },
    {
      "cell_type": "markdown",
      "source": [
        "23. Write a code to concatenate two tuples. The function should take two tuples as input and return a new tuple containing elements from both input tuples."
      ],
      "metadata": {
        "id": "1ijdFsX-K96q"
      }
    },
    {
      "cell_type": "code",
      "source": [
        "def concatenate_tuples(tuple1, tuple2):\n",
        "    return tuple1 + tuple2\n",
        "tuple1 = (1, 2, 3)\n",
        "tuple2 = (4, 5, 6)\n",
        "concatenated_tuple = concatenate_tuples(tuple1, tuple2)\n",
        "concatenated_tuple"
      ],
      "metadata": {
        "colab": {
          "base_uri": "https://localhost:8080/"
        },
        "id": "nZaiebXdMd-e",
        "outputId": "8aa31e6f-34b7-437a-dd00-950f1e9fca91"
      },
      "execution_count": null,
      "outputs": [
        {
          "output_type": "execute_result",
          "data": {
            "text/plain": [
              "(1, 2, 3, 4, 5, 6)"
            ]
          },
          "metadata": {},
          "execution_count": 4
        }
      ]
    },
    {
      "cell_type": "markdown",
      "source": [
        "24. Develop a code that prompts the user to input two sets of strings. Then, print the elements that are present in the first set but not in the second set."
      ],
      "metadata": {
        "id": "3mYcz3MUMkVl"
      }
    },
    {
      "cell_type": "code",
      "source": [
        "set1 = set(input(\"Enter the first set of strings separated by commas: \").split(','))\n",
        "set2 = set(input(\"Enter the second set of strings separated by commas: \").split(','))\n",
        "difference = set1.difference(set2)\n",
        "print(\"Elements in the first set but not in the second set:\", difference)"
      ],
      "metadata": {
        "colab": {
          "base_uri": "https://localhost:8080/"
        },
        "id": "TCzgQXNCMvsy",
        "outputId": "46442236-8478-4da9-fb2f-394f341f2096"
      },
      "execution_count": null,
      "outputs": [
        {
          "output_type": "stream",
          "name": "stdout",
          "text": [
            "Enter the first set of strings separated by commas: a,b,c,d\n",
            "Enter the second set of strings separated by commas: c,d,e,f\n",
            "Elements in the first set but not in the second set: {'b', 'a'}\n"
          ]
        }
      ]
    },
    {
      "cell_type": "markdown",
      "source": [
        "25.Create a code that takes a tuple and two integers as input. The function should return a new tuple containing elements from the original tuple within the specified range of indices."
      ],
      "metadata": {
        "id": "Tiy5m8x0QFl2"
      }
    },
    {
      "cell_type": "code",
      "source": [
        "def extract_elements(input_tuple, start_index, end_index):\n",
        "    tuple_length = len(input_tuple)\n",
        "\n",
        "    if 0 <= start_index < tuple_length and 0 <= end_index <= tuple_length and start_index < end_index:\n",
        "        return input_tuple[start_index:end_index]\n",
        "    else:\n",
        "        return ()\n",
        "\n",
        "my_tuple = input(\"Enter a tuple of integers separated by commas: \").split(',')\n",
        "my_tuple = tuple(map(int, my_tuple))\n",
        "start_index = int(input(\"Enter the start index: \"))\n",
        "end_index = int(input(\"Enter the end index: \"))\n",
        "new_tuple = extract_elements(my_tuple, start_index, end_index)\n",
        "print(\"New tuple:\", new_tuple)"
      ],
      "metadata": {
        "colab": {
          "base_uri": "https://localhost:8080/"
        },
        "id": "t69J1C7qsz-_",
        "outputId": "74d20cdc-5fcb-4429-e82d-4a21899cb805"
      },
      "execution_count": 6,
      "outputs": [
        {
          "output_type": "stream",
          "name": "stdout",
          "text": [
            "Enter a tuple of integers separated by commas: 20,22,23,25,27\n",
            "Enter the start index: 0\n",
            "Enter the end index: 3\n",
            "New tuple: (20, 22, 23)\n"
          ]
        }
      ]
    },
    {
      "cell_type": "markdown",
      "source": [
        "26. Write a code that prompts the user to input two sets of characters. Then, print the union of these two sets."
      ],
      "metadata": {
        "id": "xzbDurFfyteC"
      }
    },
    {
      "cell_type": "code",
      "source": [
        "set1 = set(input(\"Enter the first set of characters separated by commas: \").split(','))\n",
        "set2 = set(input(\"Enter the second set of characters separated by commas: \").split(','))\n",
        "union = set1.union(set2)\n",
        "print(\"Union of the two sets:\", union)"
      ],
      "metadata": {
        "colab": {
          "base_uri": "https://localhost:8080/"
        },
        "id": "Va3gAwRBy0wC",
        "outputId": "3c973327-05bb-4ca3-c5a5-4934e5163ad2"
      },
      "execution_count": null,
      "outputs": [
        {
          "output_type": "stream",
          "name": "stdout",
          "text": [
            "Enter the first set of characters separated by commas: a,b,c,d,e\n",
            "Enter the second set of characters separated by commas: f,g,h,i,j\n",
            "Union of the two sets: {'c', 'f', 'i', 'b', 'g', 'j', 'e', 'd', 'h', 'a'}\n"
          ]
        }
      ]
    },
    {
      "cell_type": "markdown",
      "source": [
        "27. Develop a code that takes a tuple of integers as input. The function should return the maximum and\n",
        "minimum values from the tuple using tuple unpacking"
      ],
      "metadata": {
        "id": "zX-w_uRN2oY4"
      }
    },
    {
      "cell_type": "code",
      "source": [
        "def find_max_min(input_tuple):\n",
        "    if not input_tuple:\n",
        "        return None, None\n",
        "\n",
        "    max_value = max(input_tuple)\n",
        "    min_value = min(input_tuple)\n",
        "    return max_value, min_value\n",
        "\n",
        "my_tuple = input(\"Enter a tuple of integers separated by commas: \").split(',')\n",
        "my_tuple = tuple(map(int, my_tuple))\n",
        "max_value, min_value = find_max_min(my_tuple)\n",
        "print(\"Maximum value:\", max_value)\n",
        "print(\"Minimum value:\", min_value)\n"
      ],
      "metadata": {
        "id": "x3kglwsdysaS",
        "colab": {
          "base_uri": "https://localhost:8080/"
        },
        "outputId": "0fd0c103-db58-4408-d068-68cf92bf6aea"
      },
      "execution_count": 2,
      "outputs": [
        {
          "output_type": "stream",
          "name": "stdout",
          "text": [
            "Enter a tuple of integers separated by commas: 20,23,25,27\n",
            "Maximum value: 27\n",
            "Minimum value: 20\n"
          ]
        }
      ]
    },
    {
      "cell_type": "markdown",
      "source": [
        "28.  Create a code that defines two sets of integers. Then, print the union, intersection, and difference of these two sets."
      ],
      "metadata": {
        "id": "vNAxAkeq_kwz"
      }
    },
    {
      "cell_type": "code",
      "source": [
        "set1 = set(map(int, input(\"Enter the first set of integers separated by commas: \").split(',')))\n",
        "set2 = set(map(int, input(\"Enter the second set of integers separated by commas: \").split(',')))\n",
        "union = set1.union(set2)\n",
        "intersection = set1.intersection(set2)\n",
        "difference = set1.difference(set2)\n",
        "print(\"Union of the two sets:\", union)\n",
        "print(\"Intersection of the two sets:\", intersection)\n",
        "print(\"Difference of the two sets:\", difference)\n"
      ],
      "metadata": {
        "colab": {
          "base_uri": "https://localhost:8080/"
        },
        "id": "e70ijP_s7_jA",
        "outputId": "6a75e485-9607-4e99-c5f8-418113d0e74a"
      },
      "execution_count": 7,
      "outputs": [
        {
          "output_type": "stream",
          "name": "stdout",
          "text": [
            "Enter the first set of integers separated by commas: 20,22,25,27\n",
            "Enter the second set of integers separated by commas: 25,27,33,35\n",
            "Union of the two sets: {33, 35, 20, 22, 25, 27}\n",
            "Intersection of the two sets: {25, 27}\n",
            "Difference of the two sets: {20, 22}\n"
          ]
        }
      ]
    },
    {
      "cell_type": "markdown",
      "source": [
        "29. Write a code that takes a tuple and an element as input. The function should return the count of occurrences of the given element in the tuple."
      ],
      "metadata": {
        "id": "L21-vfulBhcy"
      }
    },
    {
      "cell_type": "code",
      "source": [
        "def count_occurrences(input_tuple, element):\n",
        "    return input_tuple.count(element)\n",
        "\n",
        "my_tuple = input(\"Enter a tuple of integers separated by commas: \").split(',')\n",
        "my_tuple = tuple(map(int, my_tuple))\n",
        "element = int(input(\"Enter the element to count: \"))\n",
        "count = count_occurrences(my_tuple, element)\n",
        "print(\"Count of occurrences of\", element, \"in the tuple:\", count)\n"
      ],
      "metadata": {
        "colab": {
          "base_uri": "https://localhost:8080/"
        },
        "id": "RB0TyVQbAfg-",
        "outputId": "a5865cd5-1675-47cb-c1bc-70dc3e377fb3"
      },
      "execution_count": 9,
      "outputs": [
        {
          "output_type": "stream",
          "name": "stdout",
          "text": [
            "Enter a tuple of integers separated by commas: 20,20,22,22,22,24,25\n",
            "Enter the element to count: 22\n",
            "Count of occurrences of 22 in the tuple: 3\n"
          ]
        }
      ]
    },
    {
      "cell_type": "markdown",
      "source": [
        "30. Develop a code that prompts the user to input two sets of strings. Then, print the symmetric difference of these two sets."
      ],
      "metadata": {
        "id": "vDrsZbsNCI_I"
      }
    },
    {
      "cell_type": "code",
      "source": [
        "set1 = set(input(\"Enter the first set of strings separated by commas: \").split(','))\n",
        "set2 = set(input(\"Enter the second set of strings separated by commas: \").split(','))\n",
        "symmetric_difference = set1.symmetric_difference(set2)\n",
        "print(\"Symmetric difference of the two sets:\", symmetric_difference)"
      ],
      "metadata": {
        "colab": {
          "base_uri": "https://localhost:8080/"
        },
        "id": "WBjCN1OBCSpe",
        "outputId": "3908aae0-abce-4a60-b350-429e80756d3c"
      },
      "execution_count": 10,
      "outputs": [
        {
          "output_type": "stream",
          "name": "stdout",
          "text": [
            "Enter the first set of strings separated by commas: a,b,c,d,e\n",
            "Enter the second set of strings separated by commas: d,e,f,g,h\n",
            "Symmetric difference of the two sets: {'b', 'f', 'c', 'a', 'g', 'h'}\n"
          ]
        }
      ]
    },
    {
      "cell_type": "markdown",
      "source": [
        "31. Write a code that takes a list of words as input and returns a dictionary where the keys are unique words and the values are the frequencies of those words in the input list."
      ],
      "metadata": {
        "id": "81McSSDeCtuB"
      }
    },
    {
      "cell_type": "code",
      "source": [
        "def count_word_frequencies(word_list):\n",
        "    word_frequency = {}\n",
        "    for word in word_list:\n",
        "        if word in word_frequency:\n",
        "            word_frequency[word] += 1\n",
        "        else:\n",
        "            word_frequency[word] = 1\n",
        "    return word_frequency\n",
        "word_list = input(\"Enter a list of words separated by commas: \").split(',')\n",
        "word_frequencies = count_word_frequencies(word_list)\n",
        "print(\"Word frequencies:\", word_frequencies)"
      ],
      "metadata": {
        "colab": {
          "base_uri": "https://localhost:8080/"
        },
        "id": "k1TGJV8IQRpH",
        "outputId": "b61432f5-9293-46f5-e45b-f8f90ccb1874"
      },
      "execution_count": 15,
      "outputs": [
        {
          "output_type": "stream",
          "name": "stdout",
          "text": [
            "Enter a list of words separated by commas: apple,apple,banana,banana,apple, cherry\n",
            "Word frequencies: {'apple': 3, 'banana': 2, ' cherry': 1}\n"
          ]
        }
      ]
    },
    {
      "cell_type": "markdown",
      "source": [
        "32. Write a code that takes two dictionaries as input and merges them into a single dictionary. If there are common keys, the values should be added together."
      ],
      "metadata": {
        "id": "eU4TFfOERzb8"
      }
    },
    {
      "cell_type": "code",
      "source": [
        "def merge_dictionaries(dict1, dict2):\n",
        "    merged_dict = dict1.copy()\n",
        "    for key, value in dict2.items():\n",
        "        if key in merged_dict:\n",
        "            merged_dict[key] += value\n",
        "        else:\n",
        "            merged_dict[key] = value\n",
        "\n",
        "    return merged_dict\n",
        "dict1 = eval(input(\"Enter the first dictionary as a dictionary literal: \"))\n",
        "dict2 = eval(input(\"Enter the second dictionary as a dictionary literal: \"))\n",
        "merged_dict = merge_dictionaries(dict1, dict2)\n",
        "print(\"Merged dictionary:\", merged_dict)"
      ],
      "metadata": {
        "colab": {
          "base_uri": "https://localhost:8080/"
        },
        "id": "fwYK8RneR6E7",
        "outputId": "af4ea001-7136-4201-b9a7-cda9e2896c0f"
      },
      "execution_count": 17,
      "outputs": [
        {
          "output_type": "stream",
          "name": "stdout",
          "text": [
            "Enter the first dictionary as a dictionary literal: {'a': 100, 'b': 200, 'c': 300}\n",
            "Enter the second dictionary as a dictionary literal: {'b': 300, 'c': 400, 'd': 500}\n",
            "Merged dictionary: {'a': 100, 'b': 500, 'c': 700, 'd': 500}\n"
          ]
        }
      ]
    },
    {
      "cell_type": "markdown",
      "source": [
        "33. Write a code to access a value in a nested dictionary. The function should take the dictionary and a list of keys as input, and return the corresponding value. If any of the keys do not exist in the dictionary, the function should return None."
      ],
      "metadata": {
        "id": "M8Pzi9ioYarn"
      }
    },
    {
      "cell_type": "code",
      "source": [
        "def get_nested_value(dictionary, keys):\n",
        "    try:\n",
        "        value = dictionary\n",
        "        for key in keys:\n",
        "            value = value[key]\n",
        "        return value\n",
        "    except (KeyError, TypeError):\n",
        "        return None\n",
        "nested_dict = {'a': {'b': {'c': 1}}}\n",
        "keys = ['a', 'b', 'c']\n",
        "value = get_nested_value(nested_dict, keys)\n",
        "print(\"Value:\", value)\n"
      ],
      "metadata": {
        "colab": {
          "base_uri": "https://localhost:8080/"
        },
        "id": "JeZYhbe7Yl9u",
        "outputId": "170ff67e-0c82-42d6-efe9-06ed28996816"
      },
      "execution_count": 2,
      "outputs": [
        {
          "output_type": "stream",
          "name": "stdout",
          "text": [
            "Value: 1\n"
          ]
        }
      ]
    },
    {
      "cell_type": "markdown",
      "source": [
        "34. Write a code that takes a dictionary as input and returns a sorted version of it based on the values. You can choose whether to sort in ascending or descending order."
      ],
      "metadata": {
        "id": "uV9EOnLrkXQz"
      }
    },
    {
      "cell_type": "code",
      "source": [
        "def sort_dictionary_by_values(input_dict, ascending=True):\n",
        "    sorted_dict = dict(sorted(input_dict.items(), key=lambda item: item[1], reverse=not ascending))\n",
        "    return sorted_dict\n",
        "my_dict = eval(input(\"Enter a dictionary as a dictionary literal: \"))\n",
        "ascending = input(\"Sort in ascending order? (yes/no): \").lower() == 'yes'\n",
        "sorted_dict = sort_dictionary_by_values(my_dict, ascending)\n",
        "print(\"Sorted dictionary:\", sorted_dict)\n"
      ],
      "metadata": {
        "colab": {
          "base_uri": "https://localhost:8080/"
        },
        "id": "vNbmO2iKkkcf",
        "outputId": "5ab00a97-425c-42bf-a8da-b51447dce74b"
      },
      "execution_count": 6,
      "outputs": [
        {
          "output_type": "stream",
          "name": "stdout",
          "text": [
            "Enter a dictionary as a dictionary literal: {\"a\":6, \"b\":8, \"c\":5}\n",
            "Sort in ascending order? (yes/no): yes\n",
            "Sorted dictionary: {'c': 5, 'a': 6, 'b': 8}\n"
          ]
        }
      ]
    },
    {
      "cell_type": "markdown",
      "source": [
        "35. Write a code that inverts a dictionary, swapping keys and values. Ensure that the inverted dictionary correctly handles cases where multiple keys have the same value by storing the keys as a list in the inverted dictionary."
      ],
      "metadata": {
        "id": "_tU72coqsGec"
      }
    },
    {
      "cell_type": "code",
      "source": [
        "def invert_dictionary(input_dict):\n",
        "    inverted_dict = {}\n",
        "    for key, value in input_dict.items():\n",
        "        if value in inverted_dict:\n",
        "            inverted_dict[value].append(key)\n",
        "        else:\n",
        "            inverted_dict[value] = [key]\n",
        "    return inverted_dict\n",
        "my_dict = eval(input(\"Enter a dictionary as a dictionary literal: \"))\n",
        "inverted_dict = invert_dictionary(my_dict)\n",
        "print(\"Inverted dictionary:\", inverted_dict)"
      ],
      "metadata": {
        "colab": {
          "base_uri": "https://localhost:8080/"
        },
        "id": "QUP90TGTsP3y",
        "outputId": "aaf0c261-2129-45d5-8e84-3877e13ea3dc"
      },
      "execution_count": 7,
      "outputs": [
        {
          "output_type": "stream",
          "name": "stdout",
          "text": [
            "Enter a dictionary as a dictionary literal: {\"a\":6, \"b\":8, \"c\":5,\"b\":9}\n",
            "Inverted dictionary: {6: ['a'], 9: ['b'], 5: ['c']}\n"
          ]
        }
      ]
    }
  ]
}