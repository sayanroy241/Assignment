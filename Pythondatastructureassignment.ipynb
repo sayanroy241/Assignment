{
  "nbformat": 4,
  "nbformat_minor": 0,
  "metadata": {
    "colab": {
      "provenance": []
    },
    "kernelspec": {
      "name": "python3",
      "display_name": "Python 3"
    },
    "language_info": {
      "name": "python"
    }
  },
  "cells": [
    {
      "cell_type": "markdown",
      "source": [
        "1. Discuss string slicing and provide examples."
      ],
      "metadata": {
        "id": "FFfn3HX_1MyJ"
      }
    },
    {
      "cell_type": "code",
      "source": [
        "# String slicing is about obtaining substring from the given string by slicing it from start to end & giving the required step.\n",
        "# examples\n",
        "std = \"good morning sir\"\n",
        "print(std[0:4]) # here 4 is exclusive & it will give result from 0th index to 3rd index. default step is 1\n",
        "print(std[0:4:2]) # here step is 2 so it will print 0 th index & 2nd index\n",
        "print(std[2:]) # here it will print all the index from 2nd index as there is no end index is mentioned & default step is 1\n",
        "print(std[::]) # here it will print all the index from start to end as starting index & ending index is not mentioned & default step is 1\n",
        "print(std[-3:]) # here it will print from 3rd last index to remaining index in forward direction & default step is 1\n",
        "print(std[:-3]) # here it will print all the element except 'sir' which means it will print from 0th index(default sttarting index) to 4th last index (3rd last index will be excluded) & default step is 1\n",
        "print(std[-1::-1]) # here it will print all the element in backward direction as starting index is -1 & ending index is not mentioned so it will print all the remaining index in backward direction as step is -1\n"
      ],
      "metadata": {
        "colab": {
          "base_uri": "https://localhost:8080/"
        },
        "id": "BAD-GQ6f1dSE",
        "outputId": "a3b65ab9-4141-4a11-c578-7445caf1c2e5"
      },
      "execution_count": null,
      "outputs": [
        {
          "output_type": "stream",
          "name": "stdout",
          "text": [
            "good\n",
            "go\n",
            "od morning sir\n",
            "good morning sir\n",
            "sir\n",
            "good morning \n",
            "ris gninrom doog\n"
          ]
        }
      ]
    },
    {
      "cell_type": "markdown",
      "source": [
        "2. Explain the key features of lists in Python.\n",
        "  \n",
        "\n",
        "\n",
        "\n",
        "\n"
      ],
      "metadata": {
        "id": "FttqDkFdmeAr"
      }
    },
    {
      "cell_type": "markdown",
      "source": [
        " Ans: Key features of lists-\n",
        "   \n",
        "   a. Lists are ordered collection of items.\n",
        "\n",
        "   b. We have to use square bracket to enclose list items.\n",
        "\n",
        "   c. List is a collection of different kind of values or items.\n",
        "\n",
        "   d. List can store any data type that's why list is heterogenous.\n",
        "\n",
        "   e. We can change elements of list that's why list is mutable.\n",
        "\n",
        "   f. We can do multiple operations on list elements.\n"
      ],
      "metadata": {
        "id": "oBoqb2FI3z1n"
      }
    },
    {
      "cell_type": "markdown",
      "source": [
        "3. Describe how to access, modify, and delete elements in a list with examples.\n"
      ],
      "metadata": {
        "id": "WM7_7hFz4RYm"
      }
    },
    {
      "cell_type": "code",
      "source": [
        "# Examples of access, modify & delete elements of list\n",
        "identity = [\"name\", \"address\", \"phone number\", \"date of birth\"]\n"
      ],
      "metadata": {
        "id": "xqJT2dlF4ouW"
      },
      "execution_count": null,
      "outputs": []
    },
    {
      "cell_type": "code",
      "source": [
        "# Accessing elements from identity list\n",
        "identity[0:2] # here we want to access first 2 elements from identity list so starting index is 0 & end index 2 & default step is 1\n"
      ],
      "metadata": {
        "colab": {
          "base_uri": "https://localhost:8080/"
        },
        "id": "aEE4xpBJ8p_v",
        "outputId": "efca40ae-5fea-46a3-b81d-e3cb434b0b58"
      },
      "execution_count": null,
      "outputs": [
        {
          "output_type": "execute_result",
          "data": {
            "text/plain": [
              "['name', 'address']"
            ]
          },
          "metadata": {},
          "execution_count": 19
        }
      ]
    },
    {
      "cell_type": "code",
      "source": [
        "# modifying elements from identity list\n",
        "identity[0:2] = [\"NAME\", \"ADDRESS\"] # here we want to replace 1st & 2nd element of identity list \"name\" & \"address\" by \"NAME\" & \"ADDRESS\". It is done by inserting the two new values at 0 th index & 1st index by giving range 0 to 2"
      ],
      "metadata": {
        "id": "ULyLHhJc9IXM"
      },
      "execution_count": null,
      "outputs": []
    },
    {
      "cell_type": "code",
      "source": [
        "identity"
      ],
      "metadata": {
        "colab": {
          "base_uri": "https://localhost:8080/"
        },
        "id": "gJFQ1k1XGvp3",
        "outputId": "d5bfb2e5-ce83-4102-8524-5ccc4ec61414"
      },
      "execution_count": null,
      "outputs": [
        {
          "output_type": "execute_result",
          "data": {
            "text/plain": [
              "['NAME', 'ADDRESS', 'phone number', 'date of birth']"
            ]
          },
          "metadata": {},
          "execution_count": 21
        }
      ]
    },
    {
      "cell_type": "code",
      "source": [
        "# delete first two elements from identity list\n",
        "del identity[0:2] # here we delete first two elements using del keyword\n",
        "print(identity)\n"
      ],
      "metadata": {
        "colab": {
          "base_uri": "https://localhost:8080/"
        },
        "id": "8gYkAM5xGyfy",
        "outputId": "5ccdc2a3-ada2-4b94-ab87-08a565f42770"
      },
      "execution_count": null,
      "outputs": [
        {
          "output_type": "stream",
          "name": "stdout",
          "text": [
            "['phone number', 'date of birth']\n"
          ]
        }
      ]
    },
    {
      "cell_type": "markdown",
      "source": [
        "4. Compare and contrast tuples and lists with examples."
      ],
      "metadata": {
        "id": "QaQvBkeeKUDi"
      }
    },
    {
      "cell_type": "code",
      "source": [
        "# tuples enclosed in parentheses()\n",
        "# example\n",
        "fruit = (\"apple\", \"banana\", \"guava\", \"kiwi\", \"pear\")\n",
        "type(fruit)"
      ],
      "metadata": {
        "colab": {
          "base_uri": "https://localhost:8080/"
        },
        "id": "nq9bQTF8LFfO",
        "outputId": "1cceb7fd-c00c-4d05-c63f-b45ec3a9d73e"
      },
      "execution_count": null,
      "outputs": [
        {
          "output_type": "execute_result",
          "data": {
            "text/plain": [
              "tuple"
            ]
          },
          "metadata": {},
          "execution_count": 1
        }
      ]
    },
    {
      "cell_type": "code",
      "source": [
        "# list enclosed in square bracket[]\n",
        "# example\n",
        "fruit1 = [\"apple\", \"banana\", \"guava\", \"kiwi\", \"pear\"]\n",
        "type(fruit1)"
      ],
      "metadata": {
        "colab": {
          "base_uri": "https://localhost:8080/"
        },
        "id": "VUXUaijWL9Y6",
        "outputId": "93c1c851-35d8-4196-84a0-9e0c6971caf2"
      },
      "execution_count": null,
      "outputs": [
        {
          "output_type": "execute_result",
          "data": {
            "text/plain": [
              "list"
            ]
          },
          "metadata": {},
          "execution_count": 2
        }
      ]
    },
    {
      "cell_type": "code",
      "source": [
        "# tuple is immutable\n",
        "# example\n",
        "fruit = (\"apple\", \"banana\", \"guava\", \"kiwi\", \"pear\")\n",
        "fruit(0) #as tuple is immutable so it gives an error"
      ],
      "metadata": {
        "colab": {
          "base_uri": "https://localhost:8080/",
          "height": 176
        },
        "id": "Az_34FgxMjIc",
        "outputId": "115e4667-8096-4bc1-9843-f6b8d5d678af"
      },
      "execution_count": null,
      "outputs": [
        {
          "output_type": "error",
          "ename": "TypeError",
          "evalue": "'tuple' object is not callable",
          "traceback": [
            "\u001b[0;31m---------------------------------------------------------------------------\u001b[0m",
            "\u001b[0;31mTypeError\u001b[0m                                 Traceback (most recent call last)",
            "\u001b[0;32m<ipython-input-3-040ae93fa39f>\u001b[0m in \u001b[0;36m<cell line: 4>\u001b[0;34m()\u001b[0m\n\u001b[1;32m      2\u001b[0m \u001b[0;31m# example\u001b[0m\u001b[0;34m\u001b[0m\u001b[0;34m\u001b[0m\u001b[0m\n\u001b[1;32m      3\u001b[0m \u001b[0mfruit\u001b[0m \u001b[0;34m=\u001b[0m \u001b[0;34m(\u001b[0m\u001b[0;34m\"apple\"\u001b[0m\u001b[0;34m,\u001b[0m \u001b[0;34m\"banana\"\u001b[0m\u001b[0;34m,\u001b[0m \u001b[0;34m\"guava\"\u001b[0m\u001b[0;34m,\u001b[0m \u001b[0;34m\"kiwi\"\u001b[0m\u001b[0;34m,\u001b[0m \u001b[0;34m\"pear\"\u001b[0m\u001b[0;34m)\u001b[0m\u001b[0;34m\u001b[0m\u001b[0;34m\u001b[0m\u001b[0m\n\u001b[0;32m----> 4\u001b[0;31m \u001b[0mfruit\u001b[0m\u001b[0;34m(\u001b[0m\u001b[0;36m0\u001b[0m\u001b[0;34m)\u001b[0m\u001b[0;34m\u001b[0m\u001b[0;34m\u001b[0m\u001b[0m\n\u001b[0m",
            "\u001b[0;31mTypeError\u001b[0m: 'tuple' object is not callable"
          ]
        }
      ]
    },
    {
      "cell_type": "code",
      "source": [
        "# list is mutable\n",
        "# example\n",
        "fruit1 = [\"apple\", \"banana\", \"guava\", \"kiwi\", \"pear\"]\n",
        "fruit1[0]= \"mango\" #as list is mutable so we are able to assign new value at 0th index\n",
        "fruit1"
      ],
      "metadata": {
        "colab": {
          "base_uri": "https://localhost:8080/"
        },
        "id": "5RgATrZjSce4",
        "outputId": "d7fb61a2-74d0-4f33-f41f-3f4a282daad3"
      },
      "execution_count": null,
      "outputs": [
        {
          "output_type": "execute_result",
          "data": {
            "text/plain": [
              "['mango', 'banana', 'guava', 'kiwi', 'pear']"
            ]
          },
          "metadata": {},
          "execution_count": 6
        }
      ]
    },
    {
      "cell_type": "code",
      "source": [
        "# as tuple is immutable so we can't add, remove or modify element in tuple so length of tuple is same\n",
        "# list is mutable so we can add, remove or modify element in list so length of list can be changed\n",
        "# example\n",
        "fruit1 = [\"apple\", \"banana\", \"guava\", \"kiwi\", \"pear\"]\n",
        "print(len(fruit1)) # initial length of list fruit1\n",
        "fruit1.append(\"lemon\")\n",
        "print(fruit1)\n",
        "fruit1.extend([\"dragon fruit\", \"coconut\"])\n",
        "print(fruit1)\n",
        "fruit1.insert(1,\"mango\")\n",
        "print(fruit1)\n",
        "fruit1.remove(\"guava\")\n",
        "print(fruit1)\n",
        "print(len(fruit1)) # after modifying final length of list fruit1"
      ],
      "metadata": {
        "colab": {
          "base_uri": "https://localhost:8080/"
        },
        "id": "_uJkry6ITE3i",
        "outputId": "f07e37f1-4e1d-4743-d201-464b21a6fd84"
      },
      "execution_count": null,
      "outputs": [
        {
          "output_type": "stream",
          "name": "stdout",
          "text": [
            "5\n",
            "['apple', 'banana', 'guava', 'kiwi', 'pear', 'lemon']\n",
            "['apple', 'banana', 'guava', 'kiwi', 'pear', 'lemon', 'dragon fruit', 'coconut']\n",
            "['apple', 'mango', 'banana', 'guava', 'kiwi', 'pear', 'lemon', 'dragon fruit', 'coconut']\n",
            "['apple', 'mango', 'banana', 'kiwi', 'pear', 'lemon', 'dragon fruit', 'coconut']\n",
            "8\n"
          ]
        }
      ]
    },
    {
      "cell_type": "code",
      "source": [
        "# tuple consumes less memory due to immutability\n",
        "# list consumes more memory due to flexibility or mutability\n",
        "\n",
        "# due to immutability tuple has less built in methods\n",
        "# due to mutability list has more built in methods like remove(), pop(), append() etc.\n"
      ],
      "metadata": {
        "id": "TPu_QzdNX_wv"
      },
      "execution_count": null,
      "outputs": []
    },
    {
      "cell_type": "markdown",
      "source": [
        "5. Describe the key features of sets and provide examples of their use."
      ],
      "metadata": {
        "id": "yuD22pT_a4Og"
      }
    },
    {
      "cell_type": "code",
      "source": [
        "# key features of set:\n",
        "# 1. Set is enclosed in braces{}\n",
        "# 2. Set is unordered collection of elements\n",
        "# 3. Set doesn't consist any duplicate element\n",
        "# 4. As set is unordered so there is no indexing in set\n",
        "# 5. we can't access any element of set as set is unordered.\n",
        "# 6. set is mutable that means we can manipulate the elements of set.\n",
        "# 7. set can store hetergenous elements.\n",
        "# 8. there is frozen set which is immutable.\n",
        "# 9. we can do union, intersection, difference, symmetric difference on two sets\n",
        "# examples\n",
        "a = {1,2,5,\"sayan\", 7,2,7}\n",
        "print(type(a))\n",
        "print(a) # this print only a set which contains only unique element\n",
        "#a[0] # set does not support accessing the element through index as set ccontains unordered elements\n",
        "a.add(3)\n",
        "print(a)\n",
        "a.remove(3)\n",
        "print(a)\n",
        "a.pop()\n",
        "print(a)\n",
        "a.update([\"ayan\"])\n",
        "print(a)\n",
        "b = {1,2,9,\"sayan\"}\n",
        "print(a | b) # union operation on set a & set b\n",
        "print(a & b) # intersection operation on set a & set b\n",
        "print(a - b) # difference operation set a & set b\n",
        "print(a ^ b) # symmetric difference operation on set a & set b\n",
        "a1 = (5,6,7,\"bridge\")\n",
        "x = frozenset(a1)\n",
        "x[1]= 10 # as frozen set is immutable so it doesn't support item assignment\n",
        "print(x)\n"
      ],
      "metadata": {
        "colab": {
          "base_uri": "https://localhost:8080/",
          "height": 367
        },
        "id": "CuJhIa8wbCo2",
        "outputId": "47320e59-99e0-4877-b7dd-ebf9e7f00f0d"
      },
      "execution_count": null,
      "outputs": [
        {
          "output_type": "stream",
          "name": "stdout",
          "text": [
            "<class 'set'>\n",
            "{1, 2, 5, 7, 'sayan'}\n",
            "{1, 2, 3, 5, 7, 'sayan'}\n",
            "{1, 2, 5, 7, 'sayan'}\n",
            "{2, 5, 7, 'sayan'}\n",
            "{2, 5, 7, 'sayan', 'ayan'}\n",
            "{1, 2, 5, 7, 9, 'sayan', 'ayan'}\n",
            "{2, 'sayan'}\n",
            "{'ayan', 5, 7}\n",
            "{1, 5, 7, 9, 'ayan'}\n"
          ]
        },
        {
          "output_type": "error",
          "ename": "TypeError",
          "evalue": "'frozenset' object does not support item assignment",
          "traceback": [
            "\u001b[0;31m---------------------------------------------------------------------------\u001b[0m",
            "\u001b[0;31mTypeError\u001b[0m                                 Traceback (most recent call last)",
            "\u001b[0;32m<ipython-input-26-d66ea6e6fc83>\u001b[0m in \u001b[0;36m<cell line: 31>\u001b[0;34m()\u001b[0m\n\u001b[1;32m     29\u001b[0m \u001b[0ma1\u001b[0m \u001b[0;34m=\u001b[0m \u001b[0;34m(\u001b[0m\u001b[0;36m5\u001b[0m\u001b[0;34m,\u001b[0m\u001b[0;36m6\u001b[0m\u001b[0;34m,\u001b[0m\u001b[0;36m7\u001b[0m\u001b[0;34m,\u001b[0m\u001b[0;34m\"bridge\"\u001b[0m\u001b[0;34m)\u001b[0m\u001b[0;34m\u001b[0m\u001b[0;34m\u001b[0m\u001b[0m\n\u001b[1;32m     30\u001b[0m \u001b[0mx\u001b[0m \u001b[0;34m=\u001b[0m \u001b[0mfrozenset\u001b[0m\u001b[0;34m(\u001b[0m\u001b[0ma1\u001b[0m\u001b[0;34m)\u001b[0m\u001b[0;34m\u001b[0m\u001b[0;34m\u001b[0m\u001b[0m\n\u001b[0;32m---> 31\u001b[0;31m \u001b[0mx\u001b[0m\u001b[0;34m[\u001b[0m\u001b[0;36m1\u001b[0m\u001b[0;34m]\u001b[0m\u001b[0;34m=\u001b[0m \u001b[0;36m10\u001b[0m \u001b[0;31m# as frozen set is immutable so it doesn't support item assignment\u001b[0m\u001b[0;34m\u001b[0m\u001b[0;34m\u001b[0m\u001b[0m\n\u001b[0m\u001b[1;32m     32\u001b[0m \u001b[0mprint\u001b[0m\u001b[0;34m(\u001b[0m\u001b[0mx\u001b[0m\u001b[0;34m)\u001b[0m\u001b[0;34m\u001b[0m\u001b[0;34m\u001b[0m\u001b[0m\n",
            "\u001b[0;31mTypeError\u001b[0m: 'frozenset' object does not support item assignment"
          ]
        }
      ]
    },
    {
      "cell_type": "markdown",
      "source": [
        "6. Discuss the use cases of tuples and sets in Python programming.\n"
      ],
      "metadata": {
        "id": "5hKETuZ-_Oke"
      }
    },
    {
      "cell_type": "code",
      "source": [
        "# Use cases of tuples\n",
        "# 1. we can use tuples as a data structure where we don't want to modify data\n",
        "emp_id = (21, 32, 45,65)\n",
        "emp_id[1] = 150"
      ],
      "metadata": {
        "colab": {
          "base_uri": "https://localhost:8080/",
          "height": 176
        },
        "id": "f7KQL8EMCnW_",
        "outputId": "a5dc683f-6689-41da-ccb4-c25766617ff6"
      },
      "execution_count": 1,
      "outputs": [
        {
          "output_type": "error",
          "ename": "TypeError",
          "evalue": "'tuple' object does not support item assignment",
          "traceback": [
            "\u001b[0;31m---------------------------------------------------------------------------\u001b[0m",
            "\u001b[0;31mTypeError\u001b[0m                                 Traceback (most recent call last)",
            "\u001b[0;32m<ipython-input-1-2828ed371fa8>\u001b[0m in \u001b[0;36m<cell line: 4>\u001b[0;34m()\u001b[0m\n\u001b[1;32m      2\u001b[0m \u001b[0;31m# 1. we can use tuples as a data structure where we don't want to modify data\u001b[0m\u001b[0;34m\u001b[0m\u001b[0;34m\u001b[0m\u001b[0m\n\u001b[1;32m      3\u001b[0m \u001b[0memp_id\u001b[0m \u001b[0;34m=\u001b[0m \u001b[0;34m(\u001b[0m\u001b[0;36m21\u001b[0m\u001b[0;34m,\u001b[0m \u001b[0;36m32\u001b[0m\u001b[0;34m,\u001b[0m \u001b[0;36m45\u001b[0m\u001b[0;34m,\u001b[0m\u001b[0;36m65\u001b[0m\u001b[0;34m)\u001b[0m\u001b[0;34m\u001b[0m\u001b[0;34m\u001b[0m\u001b[0m\n\u001b[0;32m----> 4\u001b[0;31m \u001b[0memp_id\u001b[0m\u001b[0;34m[\u001b[0m\u001b[0;36m1\u001b[0m\u001b[0;34m]\u001b[0m \u001b[0;34m=\u001b[0m \u001b[0;36m150\u001b[0m\u001b[0;34m\u001b[0m\u001b[0;34m\u001b[0m\u001b[0m\n\u001b[0m",
            "\u001b[0;31mTypeError\u001b[0m: 'tuple' object does not support item assignment"
          ]
        }
      ]
    },
    {
      "cell_type": "code",
      "source": [
        "# 2. tuples can be used as dictionary keys as tuple is immutable & hashable.\n",
        "# example\n",
        "words_num = {\"a\": 1, \"b\": 2, \"c\": 3, (\"d\", \"e\", \"f\"): 456}\n",
        "words_num"
      ],
      "metadata": {
        "colab": {
          "base_uri": "https://localhost:8080/"
        },
        "id": "RPrcjALPDkON",
        "outputId": "e0d43c26-32f5-4138-b65d-18d32b57a178"
      },
      "execution_count": 4,
      "outputs": [
        {
          "output_type": "execute_result",
          "data": {
            "text/plain": [
              "{'a': 1, 'b': 2, 'c': 3, ('d', 'e', 'f'): 456}"
            ]
          },
          "metadata": {},
          "execution_count": 4
        }
      ]
    },
    {
      "cell_type": "code",
      "source": [
        "# use cases of sets\n",
        "# 1. since set doesn't contain duplicate value so we can convert list to set to get only unique value.\n",
        "# example\n",
        "list2 = [4,4,6,6,\"apple\", \"apple\"]\n",
        "set2 = set(list2)\n",
        "set2"
      ],
      "metadata": {
        "colab": {
          "base_uri": "https://localhost:8080/"
        },
        "id": "MJqrF69ZHcHm",
        "outputId": "48b14091-b76a-442c-dcd0-4d8bc8c1acbc"
      },
      "execution_count": 5,
      "outputs": [
        {
          "output_type": "execute_result",
          "data": {
            "text/plain": [
              "{4, 6, 'apple'}"
            ]
          },
          "metadata": {},
          "execution_count": 5
        }
      ]
    },
    {
      "cell_type": "code",
      "source": [
        "# 2. As set is unordered so set objects is not accessible through indexing.\n",
        "set2[0]"
      ],
      "metadata": {
        "colab": {
          "base_uri": "https://localhost:8080/",
          "height": 159
        },
        "id": "zs_lXGF5LMMe",
        "outputId": "1401dcf6-1476-4ca3-b55d-ba1753abf550"
      },
      "execution_count": 7,
      "outputs": [
        {
          "output_type": "error",
          "ename": "TypeError",
          "evalue": "'set' object is not subscriptable",
          "traceback": [
            "\u001b[0;31m---------------------------------------------------------------------------\u001b[0m",
            "\u001b[0;31mTypeError\u001b[0m                                 Traceback (most recent call last)",
            "\u001b[0;32m<ipython-input-7-d6b476891274>\u001b[0m in \u001b[0;36m<cell line: 2>\u001b[0;34m()\u001b[0m\n\u001b[1;32m      1\u001b[0m \u001b[0;31m# 2. As set is unordered so set objects is not accessible through indexing.\u001b[0m\u001b[0;34m\u001b[0m\u001b[0;34m\u001b[0m\u001b[0m\n\u001b[0;32m----> 2\u001b[0;31m \u001b[0mset2\u001b[0m\u001b[0;34m[\u001b[0m\u001b[0;36m0\u001b[0m\u001b[0;34m]\u001b[0m\u001b[0;34m\u001b[0m\u001b[0;34m\u001b[0m\u001b[0m\n\u001b[0m",
            "\u001b[0;31mTypeError\u001b[0m: 'set' object is not subscriptable"
          ]
        }
      ]
    },
    {
      "cell_type": "code",
      "source": [
        "# 3. As set is mutable so we can modify unique set elements\n",
        "set2.add(5)\n",
        "print(set2)\n",
        "set2.remove(5)\n",
        "print(set2)\n",
        "set2.pop()\n",
        "print(set2)\n",
        "set2.update([1,10])\n",
        "print(set2)"
      ],
      "metadata": {
        "colab": {
          "base_uri": "https://localhost:8080/"
        },
        "id": "aEeOhrvul2bu",
        "outputId": "88cf2379-a4a4-4bc9-8894-dd2fc0eb9853"
      },
      "execution_count": 16,
      "outputs": [
        {
          "output_type": "stream",
          "name": "stdout",
          "text": [
            "{1, 5, 10, 'apple'}\n",
            "{1, 10, 'apple'}\n",
            "{1, 'apple'}\n",
            "{1, 10, 'apple'}\n"
          ]
        }
      ]
    },
    {
      "cell_type": "code",
      "source": [
        "# 4. we can do multiple operations on two sets like union, intersection, difference, symmetric difference."
      ],
      "metadata": {
        "id": "MeJWDbomnVSv"
      },
      "execution_count": null,
      "outputs": []
    },
    {
      "cell_type": "markdown",
      "source": [
        "7. Describe how to add, modify, and delete items in a dictionary with examples."
      ],
      "metadata": {
        "id": "k2aHQxhEtnLf"
      }
    },
    {
      "cell_type": "code",
      "source": [
        "# Examples of add, modify, and delete items in a dictionary\n",
        "contact_info={\"NAME\": \"SAYAN\", \"EMAIL\": \"sr@gmail.com\", \"MOBILENO\" : \"98765\"}\n",
        "print(contact_info)\n",
        "contact_info[\"NAME\"]=\"AYAN\" # here we modified element by assigning new value to key\n",
        "print(contact_info)\n",
        "contact_info[\"ADDRESS\"] = \"134, XYZ LANE\" # here we add new key value pair to contact_info dictionary\n",
        "print(contact_info)\n",
        "del contact_info[\"ADDRESS\"] # here we delete item using del keyword\n",
        "print(contact_info)"
      ],
      "metadata": {
        "colab": {
          "base_uri": "https://localhost:8080/"
        },
        "id": "F8eqNY52uCDo",
        "outputId": "ea1d6fdc-d69b-4f65-b955-3ae0425cf316"
      },
      "execution_count": 35,
      "outputs": [
        {
          "output_type": "stream",
          "name": "stdout",
          "text": [
            "{'NAME': 'SAYAN', 'EMAIL': 'sr@gmail.com', 'MOBILENO': '98765'}\n",
            "{'NAME': 'AYAN', 'EMAIL': 'sr@gmail.com', 'MOBILENO': '98765'}\n",
            "{'NAME': 'AYAN', 'EMAIL': 'sr@gmail.com', 'MOBILENO': '98765', 'ADDRESS': '134, XYZ LANE'}\n",
            "{'NAME': 'AYAN', 'EMAIL': 'sr@gmail.com', 'MOBILENO': '98765'}\n"
          ]
        }
      ]
    },
    {
      "cell_type": "markdown",
      "source": [
        "8. Discuss the importance of dictionary keys being immutable and provide\n",
        "   examples.\n",
        "   "
      ],
      "metadata": {
        "id": "won7njJX011C"
      }
    },
    {
      "cell_type": "code",
      "source": [
        "# The hash table implementation of dictionaries uses a hash value calculated from the key value to find the key. If the key is a mutable object, its value could change, and thus its hash could also change.\n",
        "# So we will not be able to find old key object as its hash value will also change. So because of this it is very important for the key to be immutable. Because of this we can't use list, set, dictionary as key because all of these are mutable.\n",
        "# If we use these types of data structure as key then we will get unhashable error but we can use tuple as key because tuple is immutable.\n",
        "# Examples\n",
        "contact_info={[\"NAME\", \"TITLE\"]: \"SAYAN ROY\", \"EMAIL\": \"sr@gmail.com\", \"MOBILENO\" : \"98765\"} # as we use list as key so we get unhashable type error\n"
      ],
      "metadata": {
        "colab": {
          "base_uri": "https://localhost:8080/",
          "height": 176
        },
        "id": "9TRDbmnM1D6y",
        "outputId": "9d9db98a-6a96-429c-ddff-f51198ca8812"
      },
      "execution_count": 36,
      "outputs": [
        {
          "output_type": "error",
          "ename": "TypeError",
          "evalue": "unhashable type: 'list'",
          "traceback": [
            "\u001b[0;31m---------------------------------------------------------------------------\u001b[0m",
            "\u001b[0;31mTypeError\u001b[0m                                 Traceback (most recent call last)",
            "\u001b[0;32m<ipython-input-36-122eb7c8d338>\u001b[0m in \u001b[0;36m<cell line: 5>\u001b[0;34m()\u001b[0m\n\u001b[1;32m      3\u001b[0m \u001b[0;31m# If we use these types of data structure as key then we will get unhashable error but we can use tuple as key because tuple is immutable.\u001b[0m\u001b[0;34m\u001b[0m\u001b[0;34m\u001b[0m\u001b[0m\n\u001b[1;32m      4\u001b[0m \u001b[0;31m# Examples\u001b[0m\u001b[0;34m\u001b[0m\u001b[0;34m\u001b[0m\u001b[0m\n\u001b[0;32m----> 5\u001b[0;31m \u001b[0mcontact_info\u001b[0m\u001b[0;34m=\u001b[0m\u001b[0;34m{\u001b[0m\u001b[0;34m[\u001b[0m\u001b[0;34m\"NAME\"\u001b[0m\u001b[0;34m,\u001b[0m \u001b[0;34m\"TITLE\"\u001b[0m\u001b[0;34m]\u001b[0m\u001b[0;34m:\u001b[0m \u001b[0;34m\"SAYAN ROY\"\u001b[0m\u001b[0;34m,\u001b[0m \u001b[0;34m\"EMAIL\"\u001b[0m\u001b[0;34m:\u001b[0m \u001b[0;34m\"sr@gmail.com\"\u001b[0m\u001b[0;34m,\u001b[0m \u001b[0;34m\"MOBILENO\"\u001b[0m \u001b[0;34m:\u001b[0m \u001b[0;34m\"98765\"\u001b[0m\u001b[0;34m}\u001b[0m\u001b[0;34m\u001b[0m\u001b[0;34m\u001b[0m\u001b[0m\n\u001b[0m",
            "\u001b[0;31mTypeError\u001b[0m: unhashable type: 'list'"
          ]
        }
      ]
    },
    {
      "cell_type": "code",
      "source": [
        "contact_info={{\"NAME\", \"TITLE\"}: \"SAYAN ROY\", \"EMAIL\": \"sr@gmail.com\", \"MOBILENO\" : \"98765\"} # as we use set as key so we get unhashable type error"
      ],
      "metadata": {
        "colab": {
          "base_uri": "https://localhost:8080/",
          "height": 141
        },
        "id": "9JkHqvoL6Qnb",
        "outputId": "a2ffd79a-5134-41ce-b6af-5fb1aa992f86"
      },
      "execution_count": 37,
      "outputs": [
        {
          "output_type": "error",
          "ename": "TypeError",
          "evalue": "unhashable type: 'set'",
          "traceback": [
            "\u001b[0;31m---------------------------------------------------------------------------\u001b[0m",
            "\u001b[0;31mTypeError\u001b[0m                                 Traceback (most recent call last)",
            "\u001b[0;32m<ipython-input-37-25f4db6b4ace>\u001b[0m in \u001b[0;36m<cell line: 1>\u001b[0;34m()\u001b[0m\n\u001b[0;32m----> 1\u001b[0;31m \u001b[0mcontact_info\u001b[0m\u001b[0;34m=\u001b[0m\u001b[0;34m{\u001b[0m\u001b[0;34m{\u001b[0m\u001b[0;34m\"NAME\"\u001b[0m\u001b[0;34m,\u001b[0m \u001b[0;34m\"TITLE\"\u001b[0m\u001b[0;34m}\u001b[0m\u001b[0;34m:\u001b[0m \u001b[0;34m\"SAYAN ROY\"\u001b[0m\u001b[0;34m,\u001b[0m \u001b[0;34m\"EMAIL\"\u001b[0m\u001b[0;34m:\u001b[0m \u001b[0;34m\"sr@gmail.com\"\u001b[0m\u001b[0;34m,\u001b[0m \u001b[0;34m\"MOBILENO\"\u001b[0m \u001b[0;34m:\u001b[0m \u001b[0;34m\"98765\"\u001b[0m\u001b[0;34m}\u001b[0m\u001b[0;34m\u001b[0m\u001b[0;34m\u001b[0m\u001b[0m\n\u001b[0m",
            "\u001b[0;31mTypeError\u001b[0m: unhashable type: 'set'"
          ]
        }
      ]
    },
    {
      "cell_type": "code",
      "source": [
        "contact_info={{\"TITLE\":\"ROY\"}: \"SAYAN\", \"EMAIL\": \"sr@gmail.com\", \"MOBILENO\" : \"98765\"} # as we use dictionary as key so we get unhashable type error"
      ],
      "metadata": {
        "colab": {
          "base_uri": "https://localhost:8080/",
          "height": 141
        },
        "id": "a6BZYysz62sY",
        "outputId": "091c8df4-db85-4192-ad9b-c369858f59c6"
      },
      "execution_count": 38,
      "outputs": [
        {
          "output_type": "error",
          "ename": "TypeError",
          "evalue": "unhashable type: 'dict'",
          "traceback": [
            "\u001b[0;31m---------------------------------------------------------------------------\u001b[0m",
            "\u001b[0;31mTypeError\u001b[0m                                 Traceback (most recent call last)",
            "\u001b[0;32m<ipython-input-38-fd4bd0d16420>\u001b[0m in \u001b[0;36m<cell line: 1>\u001b[0;34m()\u001b[0m\n\u001b[0;32m----> 1\u001b[0;31m \u001b[0mcontact_info\u001b[0m\u001b[0;34m=\u001b[0m\u001b[0;34m{\u001b[0m\u001b[0;34m{\u001b[0m\u001b[0;34m\"TITLE\"\u001b[0m\u001b[0;34m:\u001b[0m\u001b[0;34m\"ROY\"\u001b[0m\u001b[0;34m}\u001b[0m\u001b[0;34m:\u001b[0m \u001b[0;34m\"SAYAN\"\u001b[0m\u001b[0;34m,\u001b[0m \u001b[0;34m\"EMAIL\"\u001b[0m\u001b[0;34m:\u001b[0m \u001b[0;34m\"sr@gmail.com\"\u001b[0m\u001b[0;34m,\u001b[0m \u001b[0;34m\"MOBILENO\"\u001b[0m \u001b[0;34m:\u001b[0m \u001b[0;34m\"98765\"\u001b[0m\u001b[0;34m}\u001b[0m\u001b[0;34m\u001b[0m\u001b[0;34m\u001b[0m\u001b[0m\n\u001b[0m",
            "\u001b[0;31mTypeError\u001b[0m: unhashable type: 'dict'"
          ]
        }
      ]
    },
    {
      "cell_type": "code",
      "source": [
        "contact_info={(\"NAME\", \"TITLE\"): \"SAYAN ROY\", \"EMAIL\": \"sr@gmail.com\", \"MOBILENO\" : \"98765\"}\n",
        "contact_info # it doesn't throw any error as we use tuple as key & tuple is immutable & hashable"
      ],
      "metadata": {
        "colab": {
          "base_uri": "https://localhost:8080/"
        },
        "id": "f32KLLeq7PFT",
        "outputId": "f4293e87-34a8-479b-e121-c397a38aa608"
      },
      "execution_count": 40,
      "outputs": [
        {
          "output_type": "execute_result",
          "data": {
            "text/plain": [
              "{('NAME', 'TITLE'): 'SAYAN ROY', 'EMAIL': 'sr@gmail.com', 'MOBILENO': '98765'}"
            ]
          },
          "metadata": {},
          "execution_count": 40
        }
      ]
    },
    {
      "cell_type": "code",
      "source": [
        "# we can use immutable datatypes like string, integer, float, boolean as key in dictionary."
      ],
      "metadata": {
        "id": "17CqCLj97hfu"
      },
      "execution_count": null,
      "outputs": []
    }
  ]
}