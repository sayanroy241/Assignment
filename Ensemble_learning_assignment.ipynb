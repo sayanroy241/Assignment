{
  "nbformat": 4,
  "nbformat_minor": 0,
  "metadata": {
    "colab": {
      "provenance": []
    },
    "kernelspec": {
      "name": "python3",
      "display_name": "Python 3"
    },
    "language_info": {
      "name": "python"
    }
  },
  "cells": [
    {
      "cell_type": "markdown",
      "source": [
        "# **Theoretical**"
      ],
      "metadata": {
        "id": "FVdG5HqG53lE"
      }
    },
    {
      "cell_type": "markdown",
      "source": [
        "1.  Can we use Bagging for regression problems?"
      ],
      "metadata": {
        "id": "gmxpEdOZ6CbJ"
      }
    },
    {
      "cell_type": "markdown",
      "source": [
        "Yes, bagging (Bootstrap Aggregating) can be used for regression problems.\n",
        "\n",
        "Bagging works by creating multiple random subsets of the training data (with replacement), training a base model (such as a decision tree regressor) on each subset, and then aggregating their predictions. For regression tasks, the aggregation is typically done by averaging the predictions from all base models.\n",
        "\n",
        "This approach helps to reduce variance and overfitting, making the model more robust and accurate for regression as well as classification tasks. In scikit-learn, for example, the BaggingRegressor class is specifically designed for this purpose."
      ],
      "metadata": {
        "id": "4_yxb-3U6OwQ"
      }
    },
    {
      "cell_type": "markdown",
      "source": [
        "2. What is the difference between multiple model training and single model training?"
      ],
      "metadata": {
        "id": "t0a63PgR6P6Q"
      }
    },
    {
      "cell_type": "markdown",
      "source": [
        "| Feature          | Single Model Training | Multiple Model Training                    |\n",
        "| ---------------- | --------------------- | ------------------------------------------ |\n",
        "| Number of models | One                   | Multiple                                   |\n",
        "| Complexity       | Simple                | More complex                               |\n",
        "| Performance      | May be limited        | Often better (ensemble or model selection) |\n",
        "| Interpretability | Higher                | Lower                                      |\n",
        "| Training time    | Faster                | Slower                                     |\n",
        "| Example          | Logistic Regression   | Random Forest, AdaBoost, Grid Search       |\n"
      ],
      "metadata": {
        "id": "eUnJ6_4V6WII"
      }
    },
    {
      "cell_type": "markdown",
      "source": [
        "3.  Explain the concept of feature randomness in Random Forest."
      ],
      "metadata": {
        "id": "EwOgjPEE6oVh"
      }
    },
    {
      "cell_type": "markdown",
      "source": [
        "Feature randomness in Random Forest refers to the process where, at each split in every decision tree, only a random subset of the available features is considered for determining the best split, rather than evaluating all features as in a standard decision tree. This is distinct from the randomness introduced by bootstrapping the data for each tree.\n",
        "\n",
        "Key points about feature randomness:\n",
        "\n",
        "How it works: When a node in a tree is split, Random Forest selects a random subset of features (controlled by the max_features parameter) and searches for the best split only among those features.\n",
        "\n",
        "Purpose: This randomness reduces the correlation between individual trees, making each tree more unique. As a result, the ensemble of trees (the forest) is more diverse, which helps improve generalization and reduces overfitting compared to a single decision tree.\n",
        "\n",
        "Benefits: By combining predictions from many decorrelated trees, Random Forest achieves higher accuracy, stability, and robustness. The approach also allows the model to provide valuable insights into feature importance."
      ],
      "metadata": {
        "id": "M3p4AbOd6yTA"
      }
    },
    {
      "cell_type": "markdown",
      "source": [
        "4. What is OOB (Out-of-Bag) Score?"
      ],
      "metadata": {
        "id": "KG5_TPRj78d1"
      }
    },
    {
      "cell_type": "markdown",
      "source": [
        "The OOB (Out-of-Bag) Score is a method for evaluating the performance of ensemble models that use bootstrap aggregating (bagging), such as Random Forests. When building each tree in a Random Forest, only a random subset of the training data (with replacement) is used—this is called the \"in-bag\" data. The remaining data, which is not selected for that tree, is called the \"out-of-bag\" (OOB) data.\n",
        "\n",
        "How it works:\n",
        "\n",
        "For each training sample, there will be several trees in the forest that did not use it during training.\n",
        "\n",
        "The OOB score for a sample is calculated by predicting its value using only those trees that did not see it during their training.\n",
        "\n",
        "The overall OOB score is the average prediction accuracy (for classification) or error (for regression) across all such OOB predictions in the training set.\n",
        "\n",
        "Benefits:\n",
        "\n",
        "The OOB score provides an internal validation estimate, similar to cross-validation, without needing a separate validation set.\n",
        "\n",
        "Typically, about one-third of the data is OOB for each tree, making this evaluation statistically reliable for large enough datasets."
      ],
      "metadata": {
        "id": "24HpE6H18DFf"
      }
    },
    {
      "cell_type": "markdown",
      "source": [
        "5.  How can you measure the importance of features in a Random Forest model?"
      ],
      "metadata": {
        "id": "qC-uI9nI8Zlc"
      }
    },
    {
      "cell_type": "markdown",
      "source": [
        "You can measure the importance of features in a Random Forest model using two main methods:\n",
        "\n",
        "1. Mean Decrease in Impurity (MDI) / Gini Importance\n",
        "\n",
        "This is the default method in most implementations, including scikit-learn.\n",
        "\n",
        "For each feature, Random Forest calculates how much the feature decreases impurity (such as Gini impurity for classification or variance for regression) across all trees in the forest.\n",
        "\n",
        "The importance score for each feature is the sum of all decreases in impurity brought by that feature, averaged over all trees and normalized so the total importance sums to 1.\n",
        "\n",
        "In scikit-learn, you can access these values via the feature_importances_ attribute of the fitted model.\n",
        "\n",
        "2. Permutation Importance (Mean Decrease in Accuracy)\n",
        "\n",
        "This method evaluates the increase in model error when the values of a single feature are randomly shuffled, breaking the relationship between that feature and the target.\n",
        "\n",
        "If shuffling a feature’s values causes a large drop in model accuracy (or increase in error), the feature is considered important.\n",
        "\n",
        "This approach can be applied to out-of-bag samples or a separate test set, and is less biased toward features with many unique values.\n",
        "\n",
        "In scikit-learn, you can use the permutation_importance function to compute this."
      ],
      "metadata": {
        "id": "5eYJX7K_8f02"
      }
    },
    {
      "cell_type": "markdown",
      "source": [
        "6.  Explain the working principle of a Bagging Classifier."
      ],
      "metadata": {
        "id": "kRruLfWr8sxj"
      }
    },
    {
      "cell_type": "markdown",
      "source": [
        "A Bagging Classifier (Bootstrap Aggregating Classifier) is an ensemble learning method designed to improve the accuracy and stability of machine learning models, particularly those prone to high variance like decision trees.\n",
        "\n",
        "Working Principle:\n",
        "\n",
        "Bootstrapping:\n",
        "Multiple subsets of the original training data are created by random sampling with replacement. Each subset may contain duplicate samples and is typically the same size as the original dataset.\n",
        "\n",
        "Training Base Learners:\n",
        "A separate base model (often a weak learner like a decision tree) is trained independently on each bootstrapped subset.\n",
        "\n",
        "Aggregation:\n",
        "For classification, each base learner makes a prediction, and the final output is determined by majority voting across all models. For regression, the predictions are averaged."
      ],
      "metadata": {
        "id": "4QO2T0UO8xML"
      }
    },
    {
      "cell_type": "markdown",
      "source": [
        "7.  How do you evaluate a Bagging Classifier’s performance?"
      ],
      "metadata": {
        "id": "L7Iare3T9T4D"
      }
    },
    {
      "cell_type": "markdown",
      "source": [
        "You can evaluate a Bagging Classifier’s performance using several standard machine learning metrics and validation techniques:\n",
        "\n",
        "Accuracy and Classification Report:\n",
        "After training, predict on the test set and compute metrics such as accuracy, precision, recall, and F1-score. This provides a detailed assessment of model performance, especially for each class in classification tasks.\n",
        "\n",
        "Cross-Validation:\n",
        "Use cross-validation (e.g., 5-fold) to assess the stability and generalizability of the model. This involves training and evaluating the model on different subsets of the data and averaging the results for a reliable performance estimate.\n",
        "\n",
        "Out-of-Bag (OOB) Score:\n",
        "Since Bagging uses bootstrap samples, some observations are left out (out-of-bag) for each base learner. The OOB score estimates model accuracy using these unused samples, providing an internal validation metric without needing a separate test set.\n",
        "\n",
        "Comparison with Base Estimator:\n",
        "Compare the Bagging Classifier’s performance with that of a single base model (e.g., a single decision tree) to demonstrate the improvement due to ensemble learning.\n",
        "\n",
        "Visualization:\n",
        "You can plot accuracy or other metrics against the number of estimators to observe how performance changes as more models are added to the ensemble."
      ],
      "metadata": {
        "id": "Tku1RCQi9gsj"
      }
    },
    {
      "cell_type": "markdown",
      "source": [
        "8.  How does a Bagging Regressor work?"
      ],
      "metadata": {
        "id": "4RQF0pdQ9iXR"
      }
    },
    {
      "cell_type": "markdown",
      "source": [
        "A Bagging Regressor is an ensemble meta-estimator that improves the stability and accuracy of regression models by combining the predictions of multiple base regressors trained on different random subsets of the original dataset.\n",
        "\n",
        "How it works:\n",
        "\n",
        "Bootstrapping:\n",
        "The algorithm generates multiple random subsets of the training data by sampling with replacement (bootstrap samples). Each subset may contain duplicate instances and is typically the same size as the original dataset.\n",
        "\n",
        "Training Base Regressors:\n",
        "For each bootstrap sample, a separate base regressor (such as a decision tree or any other regression model) is trained independently.\n",
        "\n",
        "Aggregation:\n",
        "After all base regressors are trained, their predictions are aggregated—specifically, the final prediction for a new data point is the average of the predictions from all individual regressors."
      ],
      "metadata": {
        "id": "lhrmK3bH9nMi"
      }
    },
    {
      "cell_type": "markdown",
      "source": [
        "9. What is the main advantage of ensemble techniques?"
      ],
      "metadata": {
        "id": "ux0yflLf_f_v"
      }
    },
    {
      "cell_type": "markdown",
      "source": [
        "The main advantage of ensemble techniques is that they improve predictive accuracy and model robustness by combining the strengths of multiple models. By aggregating the predictions of several diverse models, ensemble methods can capture a broader range of patterns in the data, mitigate the weaknesses and biases of individual models, and reduce the risk of overfitting or underfitting. This leads to more reliable, stable, and generalizable predictions compared to relying on a single model.\n",
        "\n",
        "Other key benefits include:\n",
        "\n",
        "Reduced variance: By averaging predictions, ensembles make models less sensitive to noise and outliers.\n",
        "\n",
        "Better generalization: Ensemble models often perform better on new, unseen data.\n",
        "\n",
        "Handling complex data: They are effective in capturing complex relationships that single models might miss."
      ],
      "metadata": {
        "id": "Ag_yJGcP_l5N"
      }
    },
    {
      "cell_type": "markdown",
      "source": [
        "10. What is the main challenge of ensemble methods?"
      ],
      "metadata": {
        "id": "0KBqoDeI_yI8"
      }
    },
    {
      "cell_type": "markdown",
      "source": [
        "The main challenge of ensemble methods is their increased computational cost and complexity. Because ensemble models combine multiple individual models, they require significantly more computation time and resources for both training and deployment compared to single models. This can make them slower and more expensive to use, especially with large datasets or complex base learners.\n",
        "\n",
        "Additional challenges include:\n",
        "\n",
        "Reduced interpretability: Ensemble models, especially complex ones like Random Forests or stacked ensembles, are harder to interpret and explain, making it difficult to understand how decisions are made.\n",
        "\n",
        "Implementation complexity: Combining and tuning multiple models can be technically challenging, requiring careful design and expertise.\n",
        "\n",
        "Risk of overfitting with overly complex ensembles: If not properly managed, combining too many models can still lead to overfitting, particularly if the ensemble is not diverse enough or is too large."
      ],
      "metadata": {
        "id": "uUY2b4lR_7Tt"
      }
    },
    {
      "cell_type": "markdown",
      "source": [
        "11.  Explain the key idea behind ensemble techniques."
      ],
      "metadata": {
        "id": "tO2c_sPkAJZE"
      }
    },
    {
      "cell_type": "markdown",
      "source": [
        "The key idea behind ensemble techniques is to combine the predictions of multiple models to achieve better overall performance than any single model could provide on its own. By aggregating the outputs of several models—each with its own strengths, weaknesses, and perspectives on the data—ensemble methods can reduce errors, improve accuracy, and increase robustness.\n",
        "\n",
        "Ensemble techniques leverage the diversity among base models to compensate for individual model limitations. Some models might capture certain patterns in the data that others miss, and by combining them (through methods like voting, averaging, bagging, boosting, or stacking), the ensemble can generalize better and avoid overfitting."
      ],
      "metadata": {
        "id": "zYSHGOl7AWge"
      }
    },
    {
      "cell_type": "markdown",
      "source": [
        "12. What is a Random Forest Classifier?"
      ],
      "metadata": {
        "id": "ShtMnKuRAXlE"
      }
    },
    {
      "cell_type": "markdown",
      "source": [
        "A Random Forest Classifier is a supervised machine learning algorithm that combines the predictions of multiple decision trees to classify data into categories. It is an ensemble method, meaning it aggregates the outputs of several models (in this case, decision trees) to produce a final prediction.\n",
        "\n",
        "How it works:\n",
        "\n",
        "The algorithm builds many decision trees using different random subsets of the training data and a random subset of features for each split.\n",
        "\n",
        "Each tree makes its own prediction (or \"vote\") for the class label.\n",
        "\n",
        "The Random Forest aggregates these predictions, and the class with the majority of votes becomes the final output."
      ],
      "metadata": {
        "id": "o9OYqGpoAdu8"
      }
    },
    {
      "cell_type": "markdown",
      "source": [
        "13. What are the main types of ensemble techniques?"
      ],
      "metadata": {
        "id": "swhyYnTIAppT"
      }
    },
    {
      "cell_type": "markdown",
      "source": [
        "\n",
        "The main types of ensemble techniques in machine learning are:\n",
        "\n",
        "1. Bagging (Bootstrap Aggregating)\n",
        "Type: Parallel ensemble technique\n",
        "\n",
        "How it works: Multiple models (often of the same type, like decision trees) are trained independently on different random subsets of the data (created via bootstrapping). Their predictions are combined, typically by majority voting for classification or averaging for regression.\n",
        "\n",
        "Example: Random Forest\n",
        "\n",
        "2. Boosting\n",
        "Type: Sequential ensemble technique\n",
        "\n",
        "How it works: Models are trained one after another, with each new model focusing on correcting the errors of the previous ones. The predictions are combined, often with weights reflecting each model's accuracy.\n",
        "\n",
        "Examples: AdaBoost, Gradient Boosting, XGBoost\n",
        "\n",
        "3. Stacking (Stacked Generalization)\n",
        "Type: Meta-ensemble technique\n",
        "\n",
        "How it works: Multiple different models (base learners) are trained, and their predictions are used as inputs for a higher-level model (meta-learner), which makes the final prediction.\n",
        "\n",
        "Use case: Often used to combine diverse model types for improved performance."
      ],
      "metadata": {
        "id": "0tTPx_IgA53C"
      }
    },
    {
      "cell_type": "markdown",
      "source": [
        "14.  What is ensemble learning in machine learning?"
      ],
      "metadata": {
        "id": "MYnU2NhXA7r8"
      }
    },
    {
      "cell_type": "markdown",
      "source": [
        "Ensemble learning in machine learning is a technique that combines the predictions of two or more individual models—often called base learners or base models—to produce more accurate and robust results than any single model could achieve alone. The core idea is that by leveraging the strengths and compensating for the weaknesses of diverse models, the ensemble can improve predictive performance, reduce errors, and increase generalization."
      ],
      "metadata": {
        "id": "nLoPIOzpBHEk"
      }
    },
    {
      "cell_type": "markdown",
      "source": [
        "15. When should we avoid using ensemble methods?"
      ],
      "metadata": {
        "id": "fTM_2QUTBH3z"
      }
    },
    {
      "cell_type": "markdown",
      "source": [
        "ou should avoid using ensemble methods in the following situations:\n",
        "\n",
        "Limited Computational Resources: Ensemble methods require training and maintaining multiple models, which can lead to significant computational overhead in terms of both time and memory. If you have constraints on processing power or need fast predictions, simpler models may be preferable.\n",
        "\n",
        "Need for Model Interpretability: Ensembles, especially those combining many complex models, can be difficult to interpret and explain. If your application demands transparency or explainability (e.g., in healthcare or finance), a single, more interpretable model may be better.\n",
        "\n",
        "Small or Simple Datasets: On small datasets, ensembles can easily overfit, especially if the base models are complex or not diverse enough. In such cases, a single well-regularized model often performs as well or better.\n",
        "\n",
        "Lack of Diversity Among Base Models: If the base models in the ensemble are too similar or weak, the ensemble may not provide significant improvements and could even degrade performance.\n",
        "\n",
        "Time-Critical Applications: If you need rapid training or inference, the added complexity of ensembles might not be justified.\n",
        "\n",
        "When Marginal Gains Are Not Needed: If a single model already achieves satisfactory accuracy and robustness, the extra effort and resources required for an ensemble may not be worthwhile."
      ],
      "metadata": {
        "id": "TYmQGuh_BLu6"
      }
    },
    {
      "cell_type": "markdown",
      "source": [
        "16. How does Bagging help in reducing overfitting?"
      ],
      "metadata": {
        "id": "6O4RbA8OBSPK"
      }
    },
    {
      "cell_type": "markdown",
      "source": [
        "Bagging helps reduce overfitting by decreasing the variance of high-variance models, such as decision trees, through the aggregation of multiple independently trained models on different random subsets of the data. In bagging, each base model is trained on a bootstrap sample (random sampling with replacement) of the original dataset, resulting in models that are exposed to different data distributions and thus make different errors.\n",
        "\n",
        "When these diverse models make predictions, their errors are often uncorrelated. By averaging their predictions (for regression) or taking a majority vote (for classification), bagging effectively cancels out individual model errors, leading to a more stable and generalized ensemble prediction. This process minimizes the risk that the ensemble will overfit to noise or peculiarities in any single training subset, making the overall model less sensitive to overfitting and more robust to new, unseen data."
      ],
      "metadata": {
        "id": "M8pEbRhvBdj6"
      }
    },
    {
      "cell_type": "markdown",
      "source": [
        "17. Why is Random Forest better than a single Decision Tree?"
      ],
      "metadata": {
        "id": "PI-AXO4oBen5"
      }
    },
    {
      "cell_type": "markdown",
      "source": [
        "Random Forest is generally better than a single Decision Tree for several key reasons:\n",
        "\n",
        "Reduced Overfitting: Decision Trees are prone to overfitting, especially on noisy or complex datasets, because they can memorize the training data. Random Forest significantly reduces overfitting by averaging the results of multiple decision trees, each trained on different random subsets of the data and features. This ensemble approach smooths out the predictions, so even if some trees overfit, others compensate, leading to better generalization on unseen data.\n",
        "\n",
        "Higher Accuracy and Robustness: By combining the outputs of many trees, Random Forest achieves higher accuracy and is more robust to data variations and noise. The averaging process helps minimize errors that might be made by individual trees, resulting in more reliable and consistent predictions.\n",
        "\n",
        "Stability: A single Decision Tree can be very sensitive to small changes in the data, which can lead to drastically different structures and predictions. Random Forest, through its use of multiple trees and random sampling, is much more stable and less affected by small data fluctuations.\n",
        "\n",
        "Better Handling of Large and Complex Datasets: Random Forest is highly scalable and works well with large, high-dimensional datasets where Decision Trees may struggle or overfit.\n",
        "\n",
        "Feature Importance: Random Forest provides more reliable estimates of feature importance compared to a single Decision Tree, helping with feature selection and model interpretation."
      ],
      "metadata": {
        "id": "UEeAT6syBnFp"
      }
    },
    {
      "cell_type": "markdown",
      "source": [
        "18.  What is the role of bootstrap sampling in Bagging?"
      ],
      "metadata": {
        "id": "rG95gYtDBoXD"
      }
    },
    {
      "cell_type": "markdown",
      "source": [
        "Bootstrap sampling plays a central role in Bagging by introducing randomness and diversity into the training process. In Bagging, multiple new training datasets (called bootstrap samples) are created by randomly sampling from the original dataset with replacement. This means that each bootstrap sample can contain duplicate entries and may omit some original data points entirely.\n",
        "\n",
        "Each base model in the ensemble is then trained independently on a different bootstrap sample. Because these samples differ, the models learn different patterns and make different errors. When their predictions are aggregated (by voting for classification or averaging for regression), the ensemble benefits from reduced variance and improved generalization, making it less likely to overfit the training data."
      ],
      "metadata": {
        "id": "5d8ei9RiBtVc"
      }
    },
    {
      "cell_type": "markdown",
      "source": [
        "19. What are some real-world applications of ensemble techniques?"
      ],
      "metadata": {
        "id": "0lTtVTd1B4jR"
      }
    },
    {
      "cell_type": "markdown",
      "source": [
        "Some real-world applications of ensemble techniques include:\n",
        "\n",
        "Healthcare and Disease Detection:\n",
        "Ensemble methods are widely used for disease diagnosis, such as detecting cardiovascular diseases from X-rays and CT scans, tumor detection in MRI scans, and predictive diagnostics that combine data from various imaging modalities and patient history. These approaches improve diagnostic accuracy and reliability compared to single models.\n",
        "\n",
        "Fraud Detection and Cybersecurity:\n",
        "Ensembles are effective in detecting credit card fraud, impression fraud, and network intrusions by combining multiple models to identify anomalies and reduce false positives in financial transactions and cybersecurity applications.\n",
        "\n",
        "Remote Sensing and Environmental Monitoring:\n",
        "Ensemble models are used for tasks like land cover mapping, landslide detection, and crop yield prediction by integrating data from various sensors and environmental factors, leading to more accurate and robust predictions.\n",
        "\n",
        "Finance and Insurance:\n",
        "Financial forecasting (such as stock price prediction and credit risk assessment) and insurance risk modeling benefit from ensemble methods, which combine diverse models to achieve more stable and accurate predictions in volatile environments.\n",
        "\n",
        "Image Recognition and Computer Vision:\n",
        "In tasks like object detection and image classification, ensembles of neural networks or other models are used to improve accuracy, especially in complex pattern recognition scenarios.\n",
        "\n",
        "Natural Language Processing (NLP):\n",
        "Ensemble learning enhances sentiment analysis, machine translation, and text summarization by combining models trained on different data sources or using different algorithms for improved precision.\n",
        "\n",
        "Speech Emotion Recognition:\n",
        "Ensembles are applied to speech emotion recognition, particularly in multilingual contexts, to combine the strengths of various classifiers and improve overall accuracy.\n",
        "\n",
        "Sports Analytics:\n",
        "Ensemble models are used for predicting player performance, game outcomes, injury risks, and talent scouting, helping teams and analysts make better decisions.\n",
        "\n",
        "Autonomous Vehicles:\n",
        "Self-driving cars use ensemble architectures to integrate data from multiple sensors (like LIDAR, radar, and cameras), enhancing decision-making reliability under diverse conditions.\n",
        "\n",
        "Weather Forecasting and Sales Prediction:\n",
        "Ensemble regression models are used for weather forecasting (e.g., predicting rainfall) and sales forecasting, providing more reliable and accurate predictions by aggregating results from multiple models."
      ],
      "metadata": {
        "id": "caV-3XZ6CHCQ"
      }
    },
    {
      "cell_type": "markdown",
      "source": [
        "20. What is the difference between Bagging and Boosting?"
      ],
      "metadata": {
        "id": "MuAulUk6CJpa"
      }
    },
    {
      "cell_type": "markdown",
      "source": [
        "| Feature             | Bagging                            | Boosting                             |\n",
        "| ------------------- | ---------------------------------- | ------------------------------------ |\n",
        "| Model Training      | Parallel                           | Sequential                           |\n",
        "| Focus               | Reduce variance                    | Reduce bias (and also variance)      |\n",
        "| Error Handling      | Equal weight on all data           | Focus more on difficult cases        |\n",
        "| Complexity          | Simpler                            | More complex                         |\n",
        "| Risk of Overfitting | Lower (especially with noisy data) | Higher if not regularized            |\n",
        "| Example Algorithms  | Random Forest                      | AdaBoost, Gradient Boosting, XGBoost |\n"
      ],
      "metadata": {
        "id": "8GEkwDHXCPx4"
      }
    },
    {
      "cell_type": "markdown",
      "source": [
        "# **Practical**"
      ],
      "metadata": {
        "id": "ioh-4AdrCgan"
      }
    },
    {
      "cell_type": "markdown",
      "source": [
        "21. Train a Bagging Classifier using Decision Trees on a sample dataset and print model accuracy."
      ],
      "metadata": {
        "id": "kA3OTvyMCntC"
      }
    },
    {
      "cell_type": "code",
      "source": [
        "from sklearn import datasets\n",
        "from sklearn.model_selection import train_test_split\n",
        "from sklearn.ensemble import BaggingClassifier\n",
        "from sklearn.tree import DecisionTreeClassifier\n",
        "from sklearn.metrics import accuracy_score\n",
        "\n",
        "# Load the sample dataset\n",
        "data = datasets.load_wine(as_frame=True)\n",
        "X = data.data\n",
        "y = data.target\n",
        "\n",
        "# Split into train and test sets\n",
        "X_train, X_test, y_train, y_test = train_test_split(X, y, test_size=0.25, random_state=22)\n",
        "\n",
        "# Create and train the Bagging Classifier with Decision Trees as base estimators\n",
        "clf = BaggingClassifier(estimator=DecisionTreeClassifier(), n_estimators=10, random_state=22)\n",
        "clf.fit(X_train, y_train)\n",
        "\n",
        "# Predict and print accuracy\n",
        "y_pred = clf.predict(X_test)\n",
        "print(\"Test data accuracy:\", accuracy_score(y_test, y_pred))\n"
      ],
      "metadata": {
        "colab": {
          "base_uri": "https://localhost:8080/"
        },
        "id": "EMYGZnnrCvsP",
        "outputId": "68b6cbfa-56dd-4b31-afa9-27f7cad6030f"
      },
      "execution_count": 2,
      "outputs": [
        {
          "output_type": "stream",
          "name": "stdout",
          "text": [
            "Test data accuracy: 0.9555555555555556\n"
          ]
        }
      ]
    },
    {
      "cell_type": "markdown",
      "source": [
        "22. Train a Bagging Regressor using Decision Trees and evaluate using Mean Squared Error (MSE)."
      ],
      "metadata": {
        "id": "L752QjsNDSAH"
      }
    },
    {
      "cell_type": "code",
      "source": [
        "from sklearn.datasets import fetch_california_housing\n",
        "from sklearn.model_selection import train_test_split\n",
        "from sklearn.ensemble import BaggingRegressor\n",
        "from sklearn.tree import DecisionTreeRegressor\n",
        "from sklearn.metrics import mean_squared_error\n",
        "\n",
        "# Load a sample regression dataset\n",
        "data = fetch_california_housing()\n",
        "X, y = data.data, data.target\n",
        "\n",
        "# Split into training and testing sets\n",
        "X_train, X_test, y_train, y_test = train_test_split(X, y, test_size=0.2, random_state=42)\n",
        "\n",
        "# Create the base regressor\n",
        "base_model = DecisionTreeRegressor(random_state=42)\n",
        "\n",
        "# Create and train the Bagging Regressor\n",
        "bagging_model = BaggingRegressor(base_model, n_estimators=10, random_state=42)\n",
        "bagging_model.fit(X_train, y_train)\n",
        "\n",
        "# Predict and evaluate using Mean Squared Error\n",
        "y_pred = bagging_model.predict(X_test)\n",
        "mse = mean_squared_error(y_test, y_pred)\n",
        "print(f\"Mean Squared Error: {mse:.4f}\")\n"
      ],
      "metadata": {
        "colab": {
          "base_uri": "https://localhost:8080/"
        },
        "id": "_VRnznFdC2P1",
        "outputId": "ecf12aa5-57c1-4318-9b4a-704029beb20b"
      },
      "execution_count": 3,
      "outputs": [
        {
          "output_type": "stream",
          "name": "stdout",
          "text": [
            "Mean Squared Error: 0.2824\n"
          ]
        }
      ]
    },
    {
      "cell_type": "markdown",
      "source": [
        "23. Train a Random Forest Classifier on the Breast Cancer dataset and print feature importance scores."
      ],
      "metadata": {
        "id": "UUkAmwrGDh0Q"
      }
    },
    {
      "cell_type": "code",
      "source": [
        "from sklearn.datasets import load_breast_cancer\n",
        "from sklearn.model_selection import train_test_split\n",
        "from sklearn.ensemble import RandomForestClassifier\n",
        "import pandas as pd\n",
        "\n",
        "# Load the Breast Cancer dataset\n",
        "data = load_breast_cancer()\n",
        "X = pd.DataFrame(data.data, columns=data.feature_names)\n",
        "y = data.target\n",
        "\n",
        "# Split the data into training and testing sets\n",
        "X_train, X_test, y_train, y_test = train_test_split(X, y, random_state=42)\n",
        "\n",
        "# Train the Random Forest Classifier\n",
        "clf = RandomForestClassifier(n_estimators=100, random_state=42)\n",
        "clf.fit(X_train, y_train)\n",
        "\n",
        "# Print feature importance scores\n",
        "importances = pd.Series(clf.feature_importances_, index=X_train.columns)\n",
        "importances = importances.sort_values(ascending=False)\n",
        "\n",
        "print(\"Feature Importance Scores:\")\n",
        "print(importances)\n"
      ],
      "metadata": {
        "colab": {
          "base_uri": "https://localhost:8080/"
        },
        "id": "ppA9Xng6Df2w",
        "outputId": "6dae0f9f-dd8f-491a-9da7-e1386b3f9c1b"
      },
      "execution_count": 4,
      "outputs": [
        {
          "output_type": "stream",
          "name": "stdout",
          "text": [
            "Feature Importance Scores:\n",
            "worst concave points       0.172295\n",
            "worst area                 0.123192\n",
            "mean concave points        0.090299\n",
            "mean concavity             0.083215\n",
            "worst radius               0.081277\n",
            "worst perimeter            0.071388\n",
            "mean perimeter             0.053146\n",
            "area error                 0.043551\n",
            "mean area                  0.042780\n",
            "mean radius                0.039711\n",
            "worst concavity            0.031740\n",
            "radius error               0.019517\n",
            "worst texture              0.016490\n",
            "worst compactness          0.015801\n",
            "mean texture               0.014604\n",
            "worst symmetry             0.013103\n",
            "mean compactness           0.011402\n",
            "worst smoothness           0.010335\n",
            "perimeter error            0.008682\n",
            "mean smoothness            0.008165\n",
            "concavity error            0.007014\n",
            "fractal dimension error    0.006583\n",
            "worst fractal dimension    0.005182\n",
            "concave points error       0.005047\n",
            "smoothness error           0.004644\n",
            "texture error              0.004600\n",
            "mean symmetry              0.004435\n",
            "mean fractal dimension     0.004434\n",
            "symmetry error             0.003714\n",
            "compactness error          0.003655\n",
            "dtype: float64\n"
          ]
        }
      ]
    },
    {
      "cell_type": "markdown",
      "source": [
        "24. Train a Random Forest Regressor and compare its performance with a single Decision Tree."
      ],
      "metadata": {
        "id": "eW0M-C5RDulY"
      }
    },
    {
      "cell_type": "code",
      "source": [
        "from sklearn.datasets import fetch_california_housing\n",
        "from sklearn.model_selection import train_test_split\n",
        "from sklearn.tree import DecisionTreeRegressor\n",
        "from sklearn.ensemble import RandomForestRegressor\n",
        "from sklearn.metrics import mean_squared_error\n",
        "\n",
        "# Load dataset\n",
        "data = fetch_california_housing()\n",
        "X, y = data.data, data.target\n",
        "\n",
        "# Split into train and test sets\n",
        "X_train, X_test, y_train, y_test = train_test_split(X, y, test_size=0.2, random_state=42)\n",
        "\n",
        "# Train a single Decision Tree Regressor\n",
        "dt = DecisionTreeRegressor(random_state=42)\n",
        "dt.fit(X_train, y_train)\n",
        "dt_pred = dt.predict(X_test)\n",
        "dt_mse = mean_squared_error(y_test, dt_pred)\n",
        "\n",
        "# Train a Random Forest Regressor\n",
        "rf = RandomForestRegressor(n_estimators=100, random_state=42)\n",
        "rf.fit(X_train, y_train)\n",
        "rf_pred = rf.predict(X_test)\n",
        "rf_mse = mean_squared_error(y_test, rf_pred)\n",
        "\n",
        "print(f\"Decision Tree Regressor MSE: {dt_mse:.4f}\")\n",
        "print(f\"Random Forest Regressor MSE: {rf_mse:.4f}\")\n"
      ],
      "metadata": {
        "colab": {
          "base_uri": "https://localhost:8080/"
        },
        "id": "Nq12srUUDtjo",
        "outputId": "b22da0c0-ebfa-4df3-9b6b-11f022280c8a"
      },
      "execution_count": 5,
      "outputs": [
        {
          "output_type": "stream",
          "name": "stdout",
          "text": [
            "Decision Tree Regressor MSE: 0.4952\n",
            "Random Forest Regressor MSE: 0.2554\n"
          ]
        }
      ]
    },
    {
      "cell_type": "markdown",
      "source": [
        "25.  Compute the Out-of-Bag (OOB) Score for a Random Forest Classifier."
      ],
      "metadata": {
        "id": "GSHcoG_5D83f"
      }
    },
    {
      "cell_type": "code",
      "source": [
        "from sklearn.datasets import load_breast_cancer\n",
        "from sklearn.ensemble import RandomForestClassifier\n",
        "\n",
        "# Load dataset\n",
        "X, y = load_breast_cancer(return_X_y=True)\n",
        "\n",
        "# Train Random Forest with OOB score enabled\n",
        "clf = RandomForestClassifier(n_estimators=100, oob_score=True, random_state=42)\n",
        "clf.fit(X, y)\n",
        "\n",
        "# Print the OOB score\n",
        "print(f\"OOB Score: {clf.oob_score_:.4f}\")\n"
      ],
      "metadata": {
        "colab": {
          "base_uri": "https://localhost:8080/"
        },
        "id": "IX5atY7KD2iA",
        "outputId": "5453b01d-375d-46ad-fa17-2f96938d0cbc"
      },
      "execution_count": 6,
      "outputs": [
        {
          "output_type": "stream",
          "name": "stdout",
          "text": [
            "OOB Score: 0.9613\n"
          ]
        }
      ]
    },
    {
      "cell_type": "markdown",
      "source": [
        "26. Train a Bagging Classifier using SVM as a base estimator and print accuracy."
      ],
      "metadata": {
        "id": "gEFMHTcYEIaO"
      }
    },
    {
      "cell_type": "code",
      "source": [
        "from sklearn.datasets import load_wine\n",
        "from sklearn.model_selection import train_test_split\n",
        "from sklearn.ensemble import BaggingClassifier\n",
        "from sklearn.svm import SVC\n",
        "from sklearn.metrics import accuracy_score\n",
        "\n",
        "# Load a sample dataset\n",
        "X, y = load_wine(return_X_y=True)\n",
        "X_train, X_test, y_train, y_test = train_test_split(X, y, test_size=0.25, random_state=42)\n",
        "\n",
        "# Define the Bagging Classifier with SVM as base estimator\n",
        "svm = SVC(gamma='auto', random_state=42)\n",
        "bagging_clf = BaggingClassifier(estimator=svm, n_estimators=10, random_state=42)\n",
        "\n",
        "# Train the model\n",
        "bagging_clf.fit(X_train, y_train)\n",
        "\n",
        "# Predict and print accuracy\n",
        "y_pred = bagging_clf.predict(X_test)\n",
        "print(\"Bagging Classifier (SVM base) accuracy:\", accuracy_score(y_test, y_pred))\n"
      ],
      "metadata": {
        "colab": {
          "base_uri": "https://localhost:8080/"
        },
        "id": "vcbb0XmlEHj3",
        "outputId": "e586ba8a-ed8a-4ff0-d8d8-9180c3f1e718"
      },
      "execution_count": 7,
      "outputs": [
        {
          "output_type": "stream",
          "name": "stdout",
          "text": [
            "Bagging Classifier (SVM base) accuracy: 0.4222222222222222\n"
          ]
        }
      ]
    },
    {
      "cell_type": "markdown",
      "source": [
        "27.  Train a Random Forest Classifier with different numbers of trees and compare accuracy."
      ],
      "metadata": {
        "id": "LwXczBMjETWm"
      }
    },
    {
      "cell_type": "code",
      "source": [
        "from sklearn.datasets import load_breast_cancer\n",
        "from sklearn.model_selection import train_test_split\n",
        "from sklearn.ensemble import RandomForestClassifier\n",
        "from sklearn.metrics import accuracy_score\n",
        "\n",
        "# Load dataset\n",
        "X, y = load_breast_cancer(return_X_y=True)\n",
        "X_train, X_test, y_train, y_test = train_test_split(X, y, test_size=0.25, random_state=42)\n",
        "\n",
        "# Try different numbers of trees\n",
        "tree_counts = [10, 50, 100, 200, 500]\n",
        "accuracies = []\n",
        "\n",
        "for n in tree_counts:\n",
        "    clf = RandomForestClassifier(n_estimators=n, random_state=42)\n",
        "    clf.fit(X_train, y_train)\n",
        "    y_pred = clf.predict(X_test)\n",
        "    acc = accuracy_score(y_test, y_pred)\n",
        "    accuracies.append(acc)\n",
        "    print(f\"Number of Trees: {n}, Accuracy: {acc:.4f}\")\n",
        "\n",
        "# Optionally, plot the results\n",
        "import matplotlib.pyplot as plt\n",
        "plt.plot(tree_counts, accuracies, marker='o')\n",
        "plt.xlabel('Number of Trees')\n",
        "plt.ylabel('Accuracy')\n",
        "plt.title('Random Forest Accuracy vs Number of Trees')\n",
        "plt.show()\n"
      ],
      "metadata": {
        "colab": {
          "base_uri": "https://localhost:8080/",
          "height": 559
        },
        "id": "5946VAM-ESS3",
        "outputId": "8b344a0f-007d-4ed8-d0c1-f0ec08c5194c"
      },
      "execution_count": 8,
      "outputs": [
        {
          "output_type": "stream",
          "name": "stdout",
          "text": [
            "Number of Trees: 10, Accuracy: 0.9510\n",
            "Number of Trees: 50, Accuracy: 0.9720\n",
            "Number of Trees: 100, Accuracy: 0.9650\n",
            "Number of Trees: 200, Accuracy: 0.9650\n",
            "Number of Trees: 500, Accuracy: 0.9650\n"
          ]
        },
        {
          "output_type": "display_data",
          "data": {
            "text/plain": [
              "<Figure size 640x480 with 1 Axes>"
            ],
            "image/png": "[encoded data removed]"
          },
          "metadata": {}
        }
      ]
    },
    {
      "cell_type": "markdown",
      "source": [
        "28.  Train a Bagging Classifier using Logistic Regression as a base estimator and print AUC score."
      ],
      "metadata": {
        "id": "5KlWPDDsYijO"
      }
    },
    {
      "cell_type": "code",
      "source": [
        "from sklearn.datasets import load_breast_cancer\n",
        "from sklearn.model_selection import train_test_split\n",
        "from sklearn.ensemble import BaggingClassifier\n",
        "from sklearn.linear_model import LogisticRegression\n",
        "from sklearn.metrics import roc_auc_score\n",
        "\n",
        "# Load a binary classification dataset\n",
        "X, y = load_breast_cancer(return_X_y=True)\n",
        "X_train, X_test, y_train, y_test = train_test_split(X, y, test_size=0.25, random_state=42)\n",
        "\n",
        "# Define Bagging Classifier with Logistic Regression as base estimator\n",
        "base_estimator = LogisticRegression(solver='liblinear', random_state=42)\n",
        "bagging_clf = BaggingClassifier(estimator=base_estimator, n_estimators=10, random_state=42)\n",
        "\n",
        "# Train the model\n",
        "bagging_clf.fit(X_train, y_train)\n",
        "\n",
        "# Predict probabilities for the positive class\n",
        "y_proba = bagging_clf.predict_proba(X_test)[:, 1]\n",
        "\n",
        "# Calculate and print the AUC score\n",
        "auc = roc_auc_score(y_test, y_proba)\n",
        "print(f\"Bagging Classifier (Logistic Regression base) AUC: {auc:.4f}\")\n"
      ],
      "metadata": {
        "colab": {
          "base_uri": "https://localhost:8080/"
        },
        "id": "H3y4ZjGOEiFm",
        "outputId": "36bb260d-7cb2-432c-ad62-bb0e456593f8"
      },
      "execution_count": 9,
      "outputs": [
        {
          "output_type": "stream",
          "name": "stdout",
          "text": [
            "Bagging Classifier (Logistic Regression base) AUC: 0.9981\n"
          ]
        }
      ]
    },
    {
      "cell_type": "markdown",
      "source": [
        "29.  Train a Random Forest Regressor and analyze feature importance scores."
      ],
      "metadata": {
        "id": "3w8JEb9fYzyV"
      }
    },
    {
      "cell_type": "code",
      "source": [
        "from sklearn.datasets import fetch_california_housing\n",
        "from sklearn.model_selection import train_test_split\n",
        "from sklearn.ensemble import RandomForestRegressor\n",
        "import pandas as pd\n",
        "import matplotlib.pyplot as plt\n",
        "\n",
        "# Load a regression dataset\n",
        "data = fetch_california_housing(as_frame=True)\n",
        "X, y = data.data, data.target\n",
        "\n",
        "# Split into training and test sets\n",
        "X_train, X_test, y_train, y_test = train_test_split(X, y, test_size=0.2, random_state=42)\n",
        "\n",
        "# Train the Random Forest Regressor\n",
        "rf = RandomForestRegressor(n_estimators=100, random_state=42)\n",
        "rf.fit(X_train, y_train)\n",
        "\n",
        "# Get feature importance scores\n",
        "importances = pd.Series(rf.feature_importances_, index=X.columns)\n",
        "\n",
        "# Sort and plot the feature importances\n",
        "importances_sorted = importances.sort_values(ascending=True)\n",
        "importances_sorted.plot(kind='barh', figsize=(8,6))\n",
        "plt.xlabel(\"Random Forest Feature Importance\")\n",
        "plt.title(\"Feature Importance Scores\")\n",
        "plt.show()\n"
      ],
      "metadata": {
        "colab": {
          "base_uri": "https://localhost:8080/",
          "height": 564
        },
        "id": "8-siqEanYys_",
        "outputId": "17516e8c-9b7d-42cf-ec39-1f999572dde7"
      },
      "execution_count": 10,
      "outputs": [
        {
          "output_type": "display_data",
          "data": {
            "text/plain": [
              "<Figure size 800x600 with 1 Axes>"
            ],
            "image/png": "[encoded data removed]"
          },
          "metadata": {}
        }
      ]
    },
    {
      "cell_type": "markdown",
      "source": [
        "30. Train an ensemble model using both Bagging and Random Forest and compare accuracy."
      ],
      "metadata": {
        "id": "CR9eq49xY_Hp"
      }
    },
    {
      "cell_type": "code",
      "source": [
        "from sklearn.datasets import load_breast_cancer\n",
        "from sklearn.model_selection import train_test_split\n",
        "from sklearn.ensemble import BaggingClassifier, RandomForestClassifier\n",
        "from sklearn.tree import DecisionTreeClassifier\n",
        "from sklearn.metrics import accuracy_score\n",
        "\n",
        "# Load dataset\n",
        "X, y = load_breast_cancer(return_X_y=True)\n",
        "X_train, X_test, y_train, y_test = train_test_split(X, y, test_size=0.25, random_state=42)\n",
        "\n",
        "# Bagging Classifier with Decision Trees\n",
        "bagging = BaggingClassifier(\n",
        "    estimator=DecisionTreeClassifier(random_state=42),\n",
        "    n_estimators=100,\n",
        "    random_state=42\n",
        ")\n",
        "bagging.fit(X_train, y_train)\n",
        "bagging_pred = bagging.predict(X_test)\n",
        "bagging_acc = accuracy_score(y_test, bagging_pred)\n",
        "\n",
        "# Random Forest Classifier\n",
        "rf = RandomForestClassifier(n_estimators=100, random_state=42)\n",
        "rf.fit(X_train, y_train)\n",
        "rf_pred = rf.predict(X_test)\n",
        "rf_acc = accuracy_score(y_test, rf_pred)\n",
        "\n",
        "print(f\"Bagging Classifier Accuracy: {bagging_acc:.4f}\")\n",
        "print(f\"Random Forest Classifier Accuracy: {rf_acc:.4f}\")\n"
      ],
      "metadata": {
        "colab": {
          "base_uri": "https://localhost:8080/"
        },
        "id": "tcVBJfyBY-n8",
        "outputId": "73b8fb67-f032-4d00-b6db-bfbb850a34db"
      },
      "execution_count": 11,
      "outputs": [
        {
          "output_type": "stream",
          "name": "stdout",
          "text": [
            "Bagging Classifier Accuracy: 0.9580\n",
            "Random Forest Classifier Accuracy: 0.9650\n"
          ]
        }
      ]
    },
    {
      "cell_type": "markdown",
      "source": [
        "31. Train a Random Forest Classifier and tune hyperparameters using GridSearchCV."
      ],
      "metadata": {
        "id": "nUpaPP27ZWul"
      }
    },
    {
      "cell_type": "code",
      "source": [
        "from sklearn.datasets import load_breast_cancer\n",
        "from sklearn.model_selection import train_test_split, GridSearchCV\n",
        "from sklearn.ensemble import RandomForestClassifier\n",
        "from sklearn.metrics import accuracy_score\n",
        "\n",
        "# Load dataset\n",
        "X, y = load_breast_cancer(return_X_y=True)\n",
        "X_train, X_test, y_train, y_test = train_test_split(X, y, test_size=0.25, random_state=42)\n",
        "\n",
        "# Define the parameter grid for GridSearchCV\n",
        "param_grid = {\n",
        "    'n_estimators': [50, 100, 200],\n",
        "    'max_depth': [None, 10, 20],\n",
        "    'min_samples_split': [2, 5],\n",
        "    'min_samples_leaf': [1, 2],\n",
        "    'max_features': ['sqrt', 'log2'],\n",
        "    'criterion': ['gini', 'entropy']\n",
        "}\n",
        "\n",
        "# Instantiate Random Forest Classifier\n",
        "rf = RandomForestClassifier(random_state=42)\n",
        "\n",
        "# Set up GridSearchCV\n",
        "grid_search = GridSearchCV(\n",
        "    estimator=rf,\n",
        "    param_grid=param_grid,\n",
        "    cv=5,  # 5-fold cross-validation\n",
        "    n_jobs=-1,\n",
        "    verbose=2\n",
        ")\n",
        "\n",
        "# Fit GridSearchCV\n",
        "grid_search.fit(X_train, y_train)\n",
        "\n",
        "# Best parameters and best estimator\n",
        "print(\"Best Hyperparameters:\", grid_search.best_params_)\n",
        "\n",
        "# Evaluate on the test set\n",
        "best_rf = grid_search.best_estimator_\n",
        "y_pred = best_rf.predict(X_test)\n",
        "accuracy = accuracy_score(y_test, y_pred)\n",
        "print(f\"Test Accuracy of Tuned Random Forest: {accuracy:.4f}\")\n"
      ],
      "metadata": {
        "colab": {
          "base_uri": "https://localhost:8080/"
        },
        "id": "K3ZitYQ5ZVf2",
        "outputId": "5f4d05e5-b1cb-4b96-dc48-2742d5ee1e5c"
      },
      "execution_count": 12,
      "outputs": [
        {
          "output_type": "stream",
          "name": "stdout",
          "text": [
            "Fitting 5 folds for each of 144 candidates, totalling 720 fits\n",
            "Best Hyperparameters: {'criterion': 'entropy', 'max_depth': None, 'max_features': 'log2', 'min_samples_leaf': 1, 'min_samples_split': 2, 'n_estimators': 200}\n",
            "Test Accuracy of Tuned Random Forest: 0.9720\n"
          ]
        }
      ]
    },
    {
      "cell_type": "markdown",
      "source": [
        "32. Train a Bagging Regressor with different numbers of base estimators and compare performance."
      ],
      "metadata": {
        "id": "ubmyy1O7bUP8"
      }
    },
    {
      "cell_type": "code",
      "source": [
        "from sklearn.datasets import fetch_california_housing\n",
        "from sklearn.model_selection import train_test_split\n",
        "from sklearn.ensemble import BaggingRegressor\n",
        "from sklearn.tree import DecisionTreeRegressor\n",
        "from sklearn.metrics import mean_squared_error\n",
        "\n",
        "# Load dataset\n",
        "X, y = fetch_california_housing(return_X_y=True)\n",
        "X_train, X_test, y_train, y_test = train_test_split(X, y, test_size=0.2, random_state=42)\n",
        "\n",
        "# Try different numbers of base estimators\n",
        "estimator_counts = [1, 10, 50, 100, 200]\n",
        "mse_scores = []\n",
        "\n",
        "for n in estimator_counts:\n",
        "    bagging = BaggingRegressor(\n",
        "        estimator=DecisionTreeRegressor(random_state=42),\n",
        "        n_estimators=n,\n",
        "        random_state=42\n",
        "    )\n",
        "    bagging.fit(X_train, y_train)\n",
        "    y_pred = bagging.predict(X_test)\n",
        "    mse = mean_squared_error(y_test, y_pred)\n",
        "    mse_scores.append(mse)\n",
        "    print(f\"Base Estimators: {n}, Test MSE: {mse:.4f}\")\n",
        "\n",
        "# Optionally, plot the results\n",
        "import matplotlib.pyplot as plt\n",
        "plt.plot(estimator_counts, mse_scores, marker='o')\n",
        "plt.xlabel('Number of Base Estimators')\n",
        "plt.ylabel('Test Mean Squared Error')\n",
        "plt.title('Bagging Regressor Performance vs. Number of Estimators')\n",
        "plt.show()\n"
      ],
      "metadata": {
        "colab": {
          "base_uri": "https://localhost:8080/",
          "height": 559
        },
        "id": "1LZs_XJBaWuS",
        "outputId": "85166147-448a-481b-dce8-771f1f71c33c"
      },
      "execution_count": 13,
      "outputs": [
        {
          "output_type": "stream",
          "name": "stdout",
          "text": [
            "Base Estimators: 1, Test MSE: 0.5501\n",
            "Base Estimators: 10, Test MSE: 0.2824\n",
            "Base Estimators: 50, Test MSE: 0.2573\n",
            "Base Estimators: 100, Test MSE: 0.2559\n",
            "Base Estimators: 200, Test MSE: 0.2541\n"
          ]
        },
        {
          "output_type": "display_data",
          "data": {
            "text/plain": [
              "<Figure size 640x480 with 1 Axes>"
            ],
            "image/png": "[encoded data removed]"
          },
          "metadata": {}
        }
      ]
    },
    {
      "cell_type": "markdown",
      "source": [
        "33. Train a Random Forest Classifier and analyze misclassified samples."
      ],
      "metadata": {
        "id": "PKAVJJqMbyiH"
      }
    },
    {
      "cell_type": "code",
      "source": [
        "from sklearn.datasets import load_breast_cancer\n",
        "from sklearn.model_selection import train_test_split\n",
        "from sklearn.ensemble import RandomForestClassifier\n",
        "import pandas as pd\n",
        "\n",
        "# Load data and split\n",
        "X, y = load_breast_cancer(return_X_y=True, as_frame=True)\n",
        "X_train, X_test, y_train, y_test = train_test_split(X, y, test_size=0.25, random_state=42)\n",
        "\n",
        "# Train Random Forest\n",
        "clf = RandomForestClassifier(n_estimators=100, random_state=42)\n",
        "clf.fit(X_train, y_train)\n",
        "\n",
        "# Predict on test set\n",
        "y_pred = clf.predict(X_test)\n",
        "\n",
        "# Find misclassified samples\n",
        "misclassified = X_test[y_pred != y_test]\n",
        "misclassified_true = y_test[y_pred != y_test]\n",
        "misclassified_pred = y_pred[y_pred != y_test]\n",
        "\n",
        "# Display misclassified samples with true and predicted labels\n",
        "result = misclassified.copy()\n",
        "result['True_Label'] = misclassified_true\n",
        "result['Predicted_Label'] = misclassified_pred\n",
        "print(result)\n"
      ],
      "metadata": {
        "colab": {
          "base_uri": "https://localhost:8080/"
        },
        "id": "eSyQwTfKbe76",
        "outputId": "0d11dc04-648c-4271-d2e7-535c30905c70"
      },
      "execution_count": 14,
      "outputs": [
        {
          "output_type": "stream",
          "name": "stdout",
          "text": [
            "     mean radius  mean texture  mean perimeter  mean area  mean smoothness  \\\n",
            "81         13.34         15.86           86.49      520.0          0.10780   \n",
            "73         13.80         15.79           90.43      584.1          0.10070   \n",
            "255        13.96         17.05           91.43      602.4          0.10960   \n",
            "86         14.48         21.46           94.25      648.2          0.09444   \n",
            "148        14.44         15.18           93.97      640.1          0.09970   \n",
            "\n",
            "     mean compactness  mean concavity  mean concave points  mean symmetry  \\\n",
            "81            0.15350         0.11690              0.06987         0.1942   \n",
            "73            0.12800         0.07789              0.05069         0.1662   \n",
            "255           0.12790         0.09789              0.05246         0.1908   \n",
            "86            0.09947         0.12040              0.04938         0.2075   \n",
            "148           0.10210         0.08487              0.05532         0.1724   \n",
            "\n",
            "     mean fractal dimension  ...  worst perimeter  worst area  \\\n",
            "81                  0.06902  ...            96.66       614.9   \n",
            "73                  0.06566  ...           110.30       812.4   \n",
            "255                 0.06130  ...           108.10       826.0   \n",
            "86                  0.05636  ...           108.40       808.9   \n",
            "148                 0.06081  ...           108.60       766.9   \n",
            "\n",
            "     worst smoothness  worst compactness  worst concavity  \\\n",
            "81             0.1536             0.4791           0.4858   \n",
            "73             0.1411             0.3542           0.2779   \n",
            "255            0.1512             0.3262           0.3209   \n",
            "86             0.1306             0.1976           0.3349   \n",
            "148            0.1316             0.2735           0.3103   \n",
            "\n",
            "     worst concave points  worst symmetry  worst fractal dimension  \\\n",
            "81                 0.1708          0.3527                  0.10160   \n",
            "73                 0.1383          0.2589                  0.10300   \n",
            "255                0.1374          0.3068                  0.07957   \n",
            "86                 0.1225          0.3020                  0.06846   \n",
            "148                0.1599          0.2691                  0.07683   \n",
            "\n",
            "     True_Label  Predicted_Label  \n",
            "81            1                0  \n",
            "73            0                1  \n",
            "255           0                1  \n",
            "86            0                1  \n",
            "148           1                0  \n",
            "\n",
            "[5 rows x 32 columns]\n"
          ]
        }
      ]
    },
    {
      "cell_type": "markdown",
      "source": [
        "34.  Train a Bagging Classifier and compare its performance with a single Decision Tree Classifier."
      ],
      "metadata": {
        "id": "P8ramVZcb99e"
      }
    },
    {
      "cell_type": "code",
      "source": [
        "from sklearn.datasets import load_breast_cancer\n",
        "from sklearn.model_selection import train_test_split\n",
        "from sklearn.tree import DecisionTreeClassifier\n",
        "from sklearn.ensemble import BaggingClassifier\n",
        "from sklearn.metrics import accuracy_score\n",
        "\n",
        "# Load data\n",
        "X, y = load_breast_cancer(return_X_y=True)\n",
        "X_train, X_test, y_train, y_test = train_test_split(X, y, test_size=0.25, random_state=42)\n",
        "\n",
        "# Single Decision Tree\n",
        "dt = DecisionTreeClassifier(random_state=42)\n",
        "dt.fit(X_train, y_train)\n",
        "dt_pred = dt.predict(X_test)\n",
        "dt_acc = accuracy_score(y_test, dt_pred)\n",
        "\n",
        "# Bagging Classifier with Decision Trees\n",
        "bagging = BaggingClassifier(\n",
        "    estimator=DecisionTreeClassifier(random_state=42),\n",
        "    n_estimators=100,\n",
        "    random_state=42\n",
        ")\n",
        "bagging.fit(X_train, y_train)\n",
        "bagging_pred = bagging.predict(X_test)\n",
        "bagging_acc = accuracy_score(y_test, bagging_pred)\n",
        "\n",
        "print(f\"Decision Tree Accuracy: {dt_acc:.4f}\")\n",
        "print(f\"Bagging Classifier Accuracy: {bagging_acc:.4f}\")\n"
      ],
      "metadata": {
        "colab": {
          "base_uri": "https://localhost:8080/"
        },
        "id": "Lc_Okf9Ib9GO",
        "outputId": "2f6c002c-ab0d-479a-f4d9-9c686ac66e1d"
      },
      "execution_count": 15,
      "outputs": [
        {
          "output_type": "stream",
          "name": "stdout",
          "text": [
            "Decision Tree Accuracy: 0.9510\n",
            "Bagging Classifier Accuracy: 0.9580\n"
          ]
        }
      ]
    },
    {
      "cell_type": "markdown",
      "source": [
        "35.  Train a Random Forest Classifier and visualize the confusion matrix."
      ],
      "metadata": {
        "id": "Ma1C9wcgcVBv"
      }
    },
    {
      "cell_type": "code",
      "source": [
        "from sklearn.datasets import load_breast_cancer\n",
        "from sklearn.model_selection import train_test_split\n",
        "from sklearn.ensemble import RandomForestClassifier\n",
        "from sklearn.metrics import ConfusionMatrixDisplay\n",
        "import matplotlib.pyplot as plt\n",
        "\n",
        "# Load dataset\n",
        "X, y = load_breast_cancer(return_X_y=True)\n",
        "X_train, X_test, y_train, y_test = train_test_split(X, y, test_size=0.25, random_state=42)\n",
        "\n",
        "# Train Random Forest Classifier\n",
        "clf = RandomForestClassifier(n_estimators=100, random_state=42)\n",
        "clf.fit(X_train, y_train)\n",
        "\n",
        "# Visualize the confusion matrix\n",
        "ConfusionMatrixDisplay.from_estimator(clf, X_test, y_test)\n",
        "plt.title(\"Random Forest Classifier Confusion Matrix\")\n",
        "plt.show()\n"
      ],
      "metadata": {
        "colab": {
          "base_uri": "https://localhost:8080/",
          "height": 472
        },
        "id": "5uDjuQRacRaN",
        "outputId": "25c7ffb2-aec2-4094-b28d-a9edb75dc0fb"
      },
      "execution_count": 16,
      "outputs": [
        {
          "output_type": "display_data",
          "data": {
            "text/plain": [
              "<Figure size 640x480 with 2 Axes>"
            ],
            "image/png": "[encoded data removed]"
          },
          "metadata": {}
        }
      ]
    },
    {
      "cell_type": "markdown",
      "source": [
        "36.  Train a Stacking Classifier using Decision Trees, SVM, and Logistic Regression, and compare accuracy."
      ],
      "metadata": {
        "id": "gNEIub7Dcww3"
      }
    },
    {
      "cell_type": "code",
      "source": [
        "from sklearn.datasets import load_breast_cancer\n",
        "from sklearn.model_selection import train_test_split\n",
        "from sklearn.tree import DecisionTreeClassifier\n",
        "from sklearn.svm import SVC\n",
        "from sklearn.linear_model import LogisticRegression\n",
        "from sklearn.ensemble import StackingClassifier\n",
        "from sklearn.metrics import accuracy_score\n",
        "\n",
        "# Load dataset\n",
        "X, y = load_breast_cancer(return_X_y=True)\n",
        "X_train, X_test, y_train, y_test = train_test_split(X, y, test_size=0.25, random_state=42)\n",
        "\n",
        "# Define base estimators\n",
        "base_estimators = [\n",
        "    ('dt', DecisionTreeClassifier(random_state=42)),\n",
        "    ('svm', SVC(probability=True, random_state=42)),\n",
        "    ('lr', LogisticRegression(solver='liblinear', random_state=42))\n",
        "]\n",
        "\n",
        "# Define stacking classifier (meta-learner: Logistic Regression)\n",
        "stacking_clf = StackingClassifier(\n",
        "    estimators=base_estimators,\n",
        "    final_estimator=LogisticRegression(solver='liblinear', random_state=42),\n",
        "    cv=5\n",
        ")\n",
        "\n",
        "# Fit and evaluate each base model\n",
        "for name, model in base_estimators:\n",
        "    model.fit(X_train, y_train)\n",
        "    y_pred = model.predict(X_test)\n",
        "    acc = accuracy_score(y_test, y_pred)\n",
        "    print(f\"{name.upper()} Accuracy: {acc:.4f}\")\n",
        "\n",
        "# Fit and evaluate stacking classifier\n",
        "stacking_clf.fit(X_train, y_train)\n",
        "stacking_pred = stacking_clf.predict(X_test)\n",
        "stacking_acc = accuracy_score(y_test, stacking_pred)\n",
        "print(f\"STACKING Classifier Accuracy: {stacking_acc:.4f}\")\n"
      ],
      "metadata": {
        "colab": {
          "base_uri": "https://localhost:8080/"
        },
        "id": "YkXXdWF1cv3V",
        "outputId": "8d2b78e6-bdf4-4dec-a89b-b9efe07e71db"
      },
      "execution_count": 17,
      "outputs": [
        {
          "output_type": "stream",
          "name": "stdout",
          "text": [
            "DT Accuracy: 0.9510\n",
            "SVM Accuracy: 0.9510\n",
            "LR Accuracy: 0.9580\n",
            "STACKING Classifier Accuracy: 0.9720\n"
          ]
        }
      ]
    },
    {
      "cell_type": "markdown",
      "source": [
        "37. Train a Random Forest Classifier and print the top 5 most important features."
      ],
      "metadata": {
        "id": "SPRs28B_c-DL"
      }
    },
    {
      "cell_type": "code",
      "source": [
        "from sklearn.datasets import load_breast_cancer\n",
        "from sklearn.model_selection import train_test_split\n",
        "from sklearn.ensemble import RandomForestClassifier\n",
        "import pandas as pd\n",
        "\n",
        "# Load dataset\n",
        "data = load_breast_cancer()\n",
        "X = pd.DataFrame(data.data, columns=data.feature_names)\n",
        "y = data.target\n",
        "\n",
        "# Split the data\n",
        "X_train, X_test, y_train, y_test = train_test_split(X, y, test_size=0.25, random_state=42)\n",
        "\n",
        "# Train Random Forest Classifier\n",
        "clf = RandomForestClassifier(n_estimators=100, random_state=42)\n",
        "clf.fit(X_train, y_train)\n",
        "\n",
        "# Get feature importances\n",
        "importances = pd.Series(clf.feature_importances_, index=X.columns)\n",
        "top5 = importances.sort_values(ascending=False).head(5)\n",
        "\n",
        "print(\"Top 5 most important features:\")\n",
        "print(top5)\n"
      ],
      "metadata": {
        "colab": {
          "base_uri": "https://localhost:8080/"
        },
        "id": "Vvg3C4g2dGJh",
        "outputId": "6e64af37-74b2-4716-c155-6e8788b087f8"
      },
      "execution_count": 18,
      "outputs": [
        {
          "output_type": "stream",
          "name": "stdout",
          "text": [
            "Top 5 most important features:\n",
            "worst concave points    0.172295\n",
            "worst area              0.123192\n",
            "mean concave points     0.090299\n",
            "mean concavity          0.083215\n",
            "worst radius            0.081277\n",
            "dtype: float64\n"
          ]
        }
      ]
    },
    {
      "cell_type": "markdown",
      "source": [
        "38. Train a Bagging Classifier and evaluate performance using Precision, Recall, and F1-score."
      ],
      "metadata": {
        "id": "EEJ1dKPSdQpD"
      }
    },
    {
      "cell_type": "code",
      "source": [
        "from sklearn.datasets import load_wine\n",
        "from sklearn.model_selection import train_test_split\n",
        "from sklearn.ensemble import BaggingClassifier\n",
        "from sklearn.tree import DecisionTreeClassifier\n",
        "from sklearn.metrics import classification_report\n",
        "\n",
        "# Load dataset\n",
        "X, y = load_wine(return_X_y=True)\n",
        "X_train, X_test, y_train, y_test = train_test_split(X, y, test_size=0.25, random_state=22)\n",
        "\n",
        "# Train Bagging Classifier (using Decision Tree as base estimator)\n",
        "clf = BaggingClassifier(\n",
        "    estimator=DecisionTreeClassifier(random_state=22),\n",
        "    n_estimators=10,\n",
        "    random_state=22\n",
        ")\n",
        "clf.fit(X_train, y_train)\n",
        "\n",
        "# Predict on test set\n",
        "y_pred = clf.predict(X_test)\n",
        "\n",
        "# Evaluate performance\n",
        "report = classification_report(y_test, y_pred, digits=4)\n",
        "print(\"Bagging Classifier Performance:\\n\")\n",
        "print(report)\n"
      ],
      "metadata": {
        "colab": {
          "base_uri": "https://localhost:8080/"
        },
        "id": "QNI552mDdcKa",
        "outputId": "08014ad4-5942-4de5-fce0-be5b879eff6b"
      },
      "execution_count": 19,
      "outputs": [
        {
          "output_type": "stream",
          "name": "stdout",
          "text": [
            "Bagging Classifier Performance:\n",
            "\n",
            "              precision    recall  f1-score   support\n",
            "\n",
            "           0     0.9231    0.9231    0.9231        13\n",
            "           1     0.9412    0.9412    0.9412        17\n",
            "           2     1.0000    1.0000    1.0000        15\n",
            "\n",
            "    accuracy                         0.9556        45\n",
            "   macro avg     0.9548    0.9548    0.9548        45\n",
            "weighted avg     0.9556    0.9556    0.9556        45\n",
            "\n"
          ]
        }
      ]
    },
    {
      "cell_type": "markdown",
      "source": [
        "39.  Train a Random Forest Classifier and analyze the effect of max_depth on accuracy."
      ],
      "metadata": {
        "id": "aEGwU8qYde11"
      }
    },
    {
      "cell_type": "code",
      "source": [
        "from sklearn.datasets import load_breast_cancer\n",
        "from sklearn.model_selection import train_test_split\n",
        "from sklearn.ensemble import RandomForestClassifier\n",
        "from sklearn.metrics import accuracy_score\n",
        "import matplotlib.pyplot as plt\n",
        "\n",
        "# Load data\n",
        "X, y = load_breast_cancer(return_X_y=True)\n",
        "X_train, X_test, y_train, y_test = train_test_split(X, y, test_size=0.25, random_state=42)\n",
        "\n",
        "train_accuracies = []\n",
        "test_accuracies = []\n",
        "depths = range(1, 21)\n",
        "\n",
        "for d in depths:\n",
        "    clf = RandomForestClassifier(n_estimators=100, max_depth=d, random_state=42)\n",
        "    clf.fit(X_train, y_train)\n",
        "    train_accuracies.append(accuracy_score(y_train, clf.predict(X_train)))\n",
        "    test_accuracies.append(accuracy_score(y_test, clf.predict(X_test)))\n",
        "\n",
        "plt.plot(depths, train_accuracies, label='Train Accuracy')\n",
        "plt.plot(depths, test_accuracies, label='Test Accuracy')\n",
        "plt.xlabel('max_depth')\n",
        "plt.ylabel('Accuracy')\n",
        "plt.title('Effect of max_depth on Random Forest Accuracy')\n",
        "plt.legend()\n",
        "plt.show()\n"
      ],
      "metadata": {
        "colab": {
          "base_uri": "https://localhost:8080/",
          "height": 472
        },
        "id": "tZyfDIzMddZc",
        "outputId": "b8a53c75-a2f6-41df-9d17-5795104a3618"
      },
      "execution_count": 20,
      "outputs": [
        {
          "output_type": "display_data",
          "data": {
            "text/plain": [
              "<Figure size 640x480 with 1 Axes>"
            ],
            "image/png": "[encoded data removed]"
          },
          "metadata": {}
        }
      ]
    },
    {
      "cell_type": "markdown",
      "source": [
        "40.  Train a Bagging Regressor using different base estimators (DecisionTree and KNeighbors) and compare\n",
        "performance."
      ],
      "metadata": {
        "id": "uXYi1zOtdtf-"
      }
    },
    {
      "cell_type": "code",
      "source": [
        "from sklearn.datasets import fetch_california_housing\n",
        "from sklearn.model_selection import train_test_split\n",
        "from sklearn.ensemble import BaggingRegressor\n",
        "from sklearn.tree import DecisionTreeRegressor\n",
        "from sklearn.neighbors import KNeighborsRegressor\n",
        "from sklearn.metrics import r2_score, mean_squared_error\n",
        "\n",
        "# Load dataset\n",
        "X, y = fetch_california_housing(return_X_y=True)\n",
        "X_train, X_test, y_train, y_test = train_test_split(X, y, test_size=0.2, random_state=42)\n",
        "\n",
        "# Bagging with Decision Tree Regressor\n",
        "bagging_dt = BaggingRegressor(\n",
        "    estimator=DecisionTreeRegressor(random_state=42),\n",
        "    n_estimators=50,\n",
        "    random_state=42\n",
        ")\n",
        "bagging_dt.fit(X_train, y_train)\n",
        "dt_pred = bagging_dt.predict(X_test)\n",
        "dt_r2 = r2_score(y_test, dt_pred)\n",
        "dt_mse = mean_squared_error(y_test, dt_pred)\n",
        "\n",
        "# Bagging with KNeighbors Regressor\n",
        "bagging_knn = BaggingRegressor(\n",
        "    estimator=KNeighborsRegressor(),\n",
        "    n_estimators=50,\n",
        "    random_state=42\n",
        ")\n",
        "bagging_knn.fit(X_train, y_train)\n",
        "knn_pred = bagging_knn.predict(X_test)\n",
        "knn_r2 = r2_score(y_test, knn_pred)\n",
        "knn_mse = mean_squared_error(y_test, knn_pred)\n",
        "\n",
        "print(f\"Bagging (Decision Tree) R²: {dt_r2:.4f}, MSE: {dt_mse:.2f}\")\n",
        "print(f\"Bagging (KNeighbors)   R²: {knn_r2:.4f}, MSE: {knn_mse:.2f}\")\n"
      ],
      "metadata": {
        "colab": {
          "base_uri": "https://localhost:8080/"
        },
        "id": "XtIcBxi0dqo0",
        "outputId": "781a4b0e-645b-47a7-baff-2e2df4b6d434"
      },
      "execution_count": 21,
      "outputs": [
        {
          "output_type": "stream",
          "name": "stdout",
          "text": [
            "Bagging (Decision Tree) R²: 0.8036, MSE: 0.26\n",
            "Bagging (KNeighbors)   R²: 0.1787, MSE: 1.08\n"
          ]
        }
      ]
    },
    {
      "cell_type": "markdown",
      "source": [
        "41.  Train a Random Forest Classifier and evaluate its performance using ROC-AUC Score."
      ],
      "metadata": {
        "id": "JKKzTuU7d-aJ"
      }
    },
    {
      "cell_type": "code",
      "source": [
        "from sklearn.datasets import load_breast_cancer\n",
        "from sklearn.model_selection import train_test_split\n",
        "from sklearn.ensemble import RandomForestClassifier\n",
        "from sklearn.metrics import roc_auc_score\n",
        "\n",
        "# Load dataset\n",
        "X, y = load_breast_cancer(return_X_y=True)\n",
        "X_train, X_test, y_train, y_test = train_test_split(X, y, test_size=0.25, random_state=42)\n",
        "\n",
        "# Train Random Forest Classifier\n",
        "clf = RandomForestClassifier(n_estimators=100, random_state=42)\n",
        "clf.fit(X_train, y_train)\n",
        "\n",
        "# Predict probabilities for the positive class\n",
        "y_proba = clf.predict_proba(X_test)[:, 1]  # Probability for class 1 (positive class)[1][2]\n",
        "\n",
        "# Compute ROC-AUC score\n",
        "auc = roc_auc_score(y_test, y_proba)\n",
        "print(f\"Random Forest ROC-AUC Score: {auc:.4f}\")\n"
      ],
      "metadata": {
        "colab": {
          "base_uri": "https://localhost:8080/"
        },
        "id": "YiMUOoS3d5zS",
        "outputId": "fb074494-7e64-469f-c6ec-c3ba0f97e1e8"
      },
      "execution_count": 22,
      "outputs": [
        {
          "output_type": "stream",
          "name": "stdout",
          "text": [
            "Random Forest ROC-AUC Score: 0.9963\n"
          ]
        }
      ]
    },
    {
      "cell_type": "markdown",
      "source": [
        "42. Train a Bagging Classifier and evaluate its performance using cross-validation."
      ],
      "metadata": {
        "id": "IEL7U7PceNmu"
      }
    },
    {
      "cell_type": "code",
      "source": [
        "from sklearn.datasets import load_wine\n",
        "from sklearn.ensemble import BaggingClassifier\n",
        "from sklearn.tree import DecisionTreeClassifier\n",
        "from sklearn.model_selection import cross_val_score\n",
        "\n",
        "# Load dataset\n",
        "X, y = load_wine(return_X_y=True)\n",
        "\n",
        "# Create Bagging Classifier (using Decision Tree as base estimator)\n",
        "clf = BaggingClassifier(\n",
        "    estimator=DecisionTreeClassifier(random_state=22),\n",
        "    n_estimators=10,\n",
        "    random_state=22\n",
        ")\n",
        "\n",
        "# Evaluate performance using 5-fold cross-validation\n",
        "scores = cross_val_score(clf, X, y, cv=5, scoring='accuracy')\n",
        "\n",
        "print(\"Cross-validated scores:\", scores)\n",
        "print(\"Mean cross-validated accuracy: {:.4f}\".format(scores.mean()))\n"
      ],
      "metadata": {
        "colab": {
          "base_uri": "https://localhost:8080/"
        },
        "id": "cMEIhSmjeLzI",
        "outputId": "04dab253-4b8e-4cda-ce85-cb40efc168ef"
      },
      "execution_count": 23,
      "outputs": [
        {
          "output_type": "stream",
          "name": "stdout",
          "text": [
            "Cross-validated scores: [0.97222222 0.91666667 0.91666667 0.97142857 1.        ]\n",
            "Mean cross-validated accuracy: 0.9554\n"
          ]
        }
      ]
    },
    {
      "cell_type": "markdown",
      "source": [
        "43. Train a Random Forest Classifier and plot the Precision-Recall curve."
      ],
      "metadata": {
        "id": "-19-JBrDeZNn"
      }
    },
    {
      "cell_type": "code",
      "source": [
        "from sklearn.datasets import load_breast_cancer\n",
        "from sklearn.model_selection import train_test_split\n",
        "from sklearn.ensemble import RandomForestClassifier\n",
        "from sklearn.metrics import precision_recall_curve, average_precision_score\n",
        "import matplotlib.pyplot as plt\n",
        "\n",
        "# Load dataset\n",
        "X, y = load_breast_cancer(return_X_y=True)\n",
        "X_train, X_test, y_train, y_test = train_test_split(X, y, test_size=0.25, random_state=42)\n",
        "\n",
        "# Train Random Forest Classifier\n",
        "clf = RandomForestClassifier(n_estimators=100, random_state=42)\n",
        "clf.fit(X_train, y_train)\n",
        "\n",
        "# Predict probabilities for the positive class\n",
        "y_scores = clf.predict_proba(X_test)[:, 1]\n",
        "\n",
        "# Compute precision-recall pairs\n",
        "precision, recall, thresholds = precision_recall_curve(y_test, y_scores)\n",
        "\n",
        "# Compute average precision score\n",
        "avg_precision = average_precision_score(y_test, y_scores)\n",
        "\n",
        "# Plot Precision-Recall curve\n",
        "plt.figure(figsize=(8, 6))\n",
        "plt.plot(recall, precision, label=f'Random Forest (AP = {avg_precision:.2f})')\n",
        "plt.xlabel('Recall')\n",
        "plt.ylabel('Precision')\n",
        "plt.title('Precision-Recall Curve for Random Forest Classifier')\n",
        "plt.legend()\n",
        "plt.grid()\n",
        "plt.show()\n"
      ],
      "metadata": {
        "colab": {
          "base_uri": "https://localhost:8080/",
          "height": 564
        },
        "id": "LJboj6ZweYFh",
        "outputId": "7e0831c2-b539-47c0-eadd-6158889fc232"
      },
      "execution_count": 24,
      "outputs": [
        {
          "output_type": "display_data",
          "data": {
            "text/plain": [
              "<Figure size 800x600 with 1 Axes>"
            ],
            "image/png": "[encoded data removed]"
          },
          "metadata": {}
        }
      ]
    },
    {
      "cell_type": "markdown",
      "source": [
        "44.  Train a Stacking Classifier with Random Forest and Logistic Regression and compare accuracy."
      ],
      "metadata": {
        "id": "zQxtaRWqepwu"
      }
    },
    {
      "cell_type": "code",
      "source": [
        "from sklearn.datasets import load_breast_cancer\n",
        "from sklearn.model_selection import train_test_split\n",
        "from sklearn.ensemble import StackingClassifier, RandomForestClassifier\n",
        "from sklearn.linear_model import LogisticRegression\n",
        "from sklearn.metrics import accuracy_score\n",
        "\n",
        "# Load data\n",
        "X, y = load_breast_cancer(return_X_y=True)\n",
        "X_train, X_test, y_train, y_test = train_test_split(X, y, test_size=0.25, random_state=42)\n",
        "\n",
        "# Define base estimators\n",
        "estimators = [\n",
        "    ('rf', RandomForestClassifier(n_estimators=100, random_state=42)),\n",
        "    ('lr', LogisticRegression(solver='liblinear', random_state=42))\n",
        "]\n",
        "\n",
        "# Stacking Classifier with Logistic Regression as meta-classifier\n",
        "stacking_clf = StackingClassifier(\n",
        "    estimators=estimators,\n",
        "    final_estimator=LogisticRegression(solver='liblinear', random_state=42)\n",
        ")\n",
        "\n",
        "# Fit and evaluate individual models\n",
        "rf = estimators[0][1]\n",
        "rf.fit(X_train, y_train)\n",
        "rf_acc = accuracy_score(y_test, rf.predict(X_test))\n",
        "\n",
        "lr = estimators[1][1]\n",
        "lr.fit(X_train, y_train)\n",
        "lr_acc = accuracy_score(y_test, lr.predict(X_test))\n",
        "\n",
        "# Fit and evaluate stacking classifier\n",
        "stacking_clf.fit(X_train, y_train)\n",
        "stacking_acc = accuracy_score(y_test, stacking_clf.predict(X_test))\n",
        "\n",
        "print(f\"Random Forest Accuracy: {rf_acc:.4f}\")\n",
        "print(f\"Logistic Regression Accuracy: {lr_acc:.4f}\")\n",
        "print(f\"Stacking Classifier Accuracy: {stacking_acc:.4f}\")\n"
      ],
      "metadata": {
        "colab": {
          "base_uri": "https://localhost:8080/"
        },
        "id": "o_ED8G8aeo6x",
        "outputId": "fbb6f112-f4f8-4d91-dc0d-7048819ab5ce"
      },
      "execution_count": 25,
      "outputs": [
        {
          "output_type": "stream",
          "name": "stdout",
          "text": [
            "Random Forest Accuracy: 0.9650\n",
            "Logistic Regression Accuracy: 0.9580\n",
            "Stacking Classifier Accuracy: 0.9720\n"
          ]
        }
      ]
    },
    {
      "cell_type": "markdown",
      "source": [
        "45. Train a Bagging Regressor with different levels of bootstrap samples and compare performance."
      ],
      "metadata": {
        "id": "o9bkFBUNe5M5"
      }
    },
    {
      "cell_type": "code",
      "source": [
        "from sklearn.datasets import fetch_california_housing\n",
        "from sklearn.model_selection import train_test_split\n",
        "from sklearn.ensemble import BaggingRegressor\n",
        "from sklearn.tree import DecisionTreeRegressor\n",
        "from sklearn.metrics import mean_squared_error\n",
        "\n",
        "# Load dataset\n",
        "X, y = fetch_california_housing(return_X_y=True)\n",
        "X_train, X_test, y_train, y_test = train_test_split(X, y, test_size=0.2, random_state=42)\n",
        "\n",
        "# Try different bootstrap sample sizes (as fractions of the training set)\n",
        "sample_fracs = [0.5, 0.7, 1.0]\n",
        "results = []\n",
        "\n",
        "for frac in sample_fracs:\n",
        "    bagging = BaggingRegressor(\n",
        "        estimator=DecisionTreeRegressor(random_state=42),\n",
        "        n_estimators=20,\n",
        "        max_samples=frac,\n",
        "        random_state=42\n",
        "    )\n",
        "    bagging.fit(X_train, y_train)\n",
        "    y_pred = bagging.predict(X_test)\n",
        "    mse = mean_squared_error(y_test, y_pred)\n",
        "    results.append((frac, mse))\n",
        "    print(f\"max_samples={frac}: Test MSE = {mse:.4f}\")\n",
        "\n",
        "# Optional: Visualize results\n",
        "import matplotlib.pyplot as plt\n",
        "fracs, mses = zip(*results)\n",
        "plt.plot(fracs, mses, marker='o')\n",
        "plt.xlabel('max_samples (fraction of training set)')\n",
        "plt.ylabel('Test Mean Squared Error')\n",
        "plt.title('Bagging Regressor Performance vs. Bootstrap Sample Size')\n",
        "plt.show()\n"
      ],
      "metadata": {
        "colab": {
          "base_uri": "https://localhost:8080/",
          "height": 524
        },
        "id": "TBhkmGIde34r",
        "outputId": "65015119-cf9c-44f9-e442-9ecefb8dfcb7"
      },
      "execution_count": 26,
      "outputs": [
        {
          "output_type": "stream",
          "name": "stdout",
          "text": [
            "max_samples=0.5: Test MSE = 0.2826\n",
            "max_samples=0.7: Test MSE = 0.2745\n",
            "max_samples=1.0: Test MSE = 0.2643\n"
          ]
        },
        {
          "output_type": "display_data",
          "data": {
            "text/plain": [
              "<Figure size 640x480 with 1 Axes>"
            ],
            "image/png": "[encoded data removed]"
          },
          "metadata": {}
        }
      ]
    },
    {
      "cell_type": "code",
      "source": [],
      "metadata": {
        "id": "bFBl3e5rfC3a"
      },
      "execution_count": null,
      "outputs": []
    }
  ]
}