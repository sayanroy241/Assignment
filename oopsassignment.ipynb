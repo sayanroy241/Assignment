{
  "nbformat": 4,
  "nbformat_minor": 0,
  "metadata": {
    "colab": {
      "provenance": []
    },
    "kernelspec": {
      "name": "python3",
      "display_name": "Python 3"
    },
    "language_info": {
      "name": "python"
    }
  },
  "cells": [
    {
      "cell_type": "markdown",
      "source": [
        "1. What are the five key concepts of Object-Oriented Programming (OOP)?"
      ],
      "metadata": {
        "id": "yP8SP-ZPb78p"
      }
    },
    {
      "cell_type": "markdown",
      "source": [
        "Ans: The five key concepts of Object-Oriented Programming (OOP) are:\n",
        "\n",
        "a) Classes: Design the type of data used to create objects, and define their structure and behaviour\n",
        "\n",
        "b) Inheritance: This concept allows attributes and methods to be acquired from a base class to a derived class.\n",
        "\n",
        "c) Abstraction: This concept involves hiding unnecessary details and exposing only the essential features of an object. The goal is to handle an object's complexity by presenting a concrete model.\n",
        "\n",
        "d) Encapsulation: This concept involves wrapping data and the methods that operate on it within one unit. This restricts direct access to variables and methods, which can prevent accidental data modification.\n",
        "e) Polymorphism: This concept promotes dynamic inheritance of child classes from their parent class.\n"
      ],
      "metadata": {
        "id": "gNKPfY91d9jf"
      }
    },
    {
      "cell_type": "markdown",
      "source": [
        "2. Write a Python class for a `Car` with attributes for `make`, `model`, and `year`. Include a method to display the car's information."
      ],
      "metadata": {
        "id": "byLUl0Vzqa4S"
      }
    },
    {
      "cell_type": "code",
      "source": [
        "class Car(object):\n",
        "    def __init__(self, make, model, year):\n",
        "        self.make = make\n",
        "        self.model = model\n",
        "        self.year = year\n",
        "    def show(self):\n",
        "      print(\"name\", self.make,\"model\", self.model, \"year\", self.year)"
      ],
      "metadata": {
        "id": "NoFyqdYusMmR"
      },
      "execution_count": 2,
      "outputs": []
    },
    {
      "cell_type": "code",
      "source": [
        "c= Car(\"ford\", \"explorer\", 2007)"
      ],
      "metadata": {
        "id": "JXFuUayTs5fh"
      },
      "execution_count": 4,
      "outputs": []
    },
    {
      "cell_type": "code",
      "source": [
        "c.show()"
      ],
      "metadata": {
        "colab": {
          "base_uri": "https://localhost:8080/"
        },
        "id": "bK62gJ0ltU9R",
        "outputId": "3d24571c-02d8-48eb-cd29-fd9315757925"
      },
      "execution_count": 5,
      "outputs": [
        {
          "output_type": "stream",
          "name": "stdout",
          "text": [
            "name ford model explorer year 2007\n"
          ]
        }
      ]
    },
    {
      "cell_type": "markdown",
      "source": [
        "3. Explain the difference between instance methods and class methods. Provide an example of each."
      ],
      "metadata": {
        "id": "WDe2Vu7Ztlon"
      }
    },
    {
      "cell_type": "code",
      "source": [
        "from os import name\n",
        "# Instance method: When creating an instance method, the first parameter is always self. We can name it anything we want, but the meaning will always be the same, and we should use self since it's the naming convention. self is (usually) passed hiddenly when calling an instance method; it represents the instance calling the method.\n",
        "class Inst:\n",
        "\n",
        "    def __init__(self, name):\n",
        "        self.name = name\n",
        "\n",
        "    def introduce(self):\n",
        "        print(\"Hello, I am\", self.name)"
      ],
      "metadata": {
        "id": "DBTo2Ls9zlAr"
      },
      "execution_count": 15,
      "outputs": []
    },
    {
      "cell_type": "code",
      "source": [
        "ins = Inst(\"sayan\")"
      ],
      "metadata": {
        "id": "nWMJMrZC0IPf"
      },
      "execution_count": 16,
      "outputs": []
    },
    {
      "cell_type": "code",
      "source": [
        "ins.introduce()"
      ],
      "metadata": {
        "colab": {
          "base_uri": "https://localhost:8080/"
        },
        "id": "Q23PeLqd0VRE",
        "outputId": "6e2bfcfe-a345-4c12-ec7e-235c2aeb343d"
      },
      "execution_count": 17,
      "outputs": [
        {
          "output_type": "stream",
          "name": "stdout",
          "text": [
            "Hello, I am sayan\n"
          ]
        }
      ]
    },
    {
      "cell_type": "code",
      "source": [
        "# Class Method: The idea of a class method is very similar to an instance method, only difference being that instead of passing the instance hiddenly as a first parameter, we're now passing the class itself as a first parameter.\n",
        "class Cls:\n",
        "\n",
        "    @classmethod\n",
        "    def introduce(Cls):\n",
        "        print(\"Hello, I am sayan\" )"
      ],
      "metadata": {
        "id": "B7pPyFp50YL7"
      },
      "execution_count": 22,
      "outputs": []
    },
    {
      "cell_type": "code",
      "source": [
        "Cls.introduce()"
      ],
      "metadata": {
        "colab": {
          "base_uri": "https://localhost:8080/"
        },
        "id": "N8ACsvtI13i2",
        "outputId": "e38bbf1f-d555-43b0-b6c9-20c01a69a2ea"
      },
      "execution_count": 23,
      "outputs": [
        {
          "output_type": "stream",
          "name": "stdout",
          "text": [
            "Hello, I am sayan\n"
          ]
        }
      ]
    },
    {
      "cell_type": "markdown",
      "source": [
        "4. How does Python implement method overloading? Give an example.\n"
      ],
      "metadata": {
        "id": "ICmqb0qK2tMA"
      }
    },
    {
      "cell_type": "code",
      "source": [
        "class Student:\n",
        "  def stud(self):\n",
        "    print(\"name of the student\")\n",
        "  def stud(self,name=\"\"):\n",
        "    print(\"name of the student\", name)\n",
        "  def stud(self, name=\"\", rollno=int):\n",
        "    print(\"name of the student\", name, rollno)"
      ],
      "metadata": {
        "id": "DIB5rNFS4Cb0"
      },
      "execution_count": 24,
      "outputs": []
    },
    {
      "cell_type": "code",
      "source": [
        "s=Student()"
      ],
      "metadata": {
        "id": "L596UVMs7SUx"
      },
      "execution_count": 25,
      "outputs": []
    },
    {
      "cell_type": "code",
      "source": [
        "s.stud()\n",
        "s.stud(\"sayan\")\n",
        "s.stud(\"sayan\",241)"
      ],
      "metadata": {
        "colab": {
          "base_uri": "https://localhost:8080/"
        },
        "id": "EL8rbf_L7Wqm",
        "outputId": "40348167-4e29-4da5-9ad4-536cb620c4a2"
      },
      "execution_count": 26,
      "outputs": [
        {
          "output_type": "stream",
          "name": "stdout",
          "text": [
            "name of the student  <class 'int'>\n",
            "name of the student sayan <class 'int'>\n",
            "name of the student sayan 241\n"
          ]
        }
      ]
    },
    {
      "cell_type": "code",
      "source": [
        "#method overloading >> Python doesn't support true method overloading. Here stud method is taking different forms, the last methods overloads the previous ones in the same class."
      ],
      "metadata": {
        "id": "NcqpJ8O57cw-"
      },
      "execution_count": null,
      "outputs": []
    },
    {
      "cell_type": "markdown",
      "source": [
        "5. What are the three types of access modifiers in Python? How are they denoted?"
      ],
      "metadata": {
        "id": "VC18oRgv8AV2"
      }
    },
    {
      "cell_type": "code",
      "source": [
        "# Python supports three types of access modifiers which are public,private and protected. These access modifiers provide restrictions on the access of member variables and methods of the class from any object outside the class.\n",
        "# By default the member variables and methods are public which means they can be accessed from anywhere outside or inside the class. No public keyword is required to make the class or methods and properties public.Here is an example of Public access modifier −\n",
        "class Student:\n",
        "   def __init__(self, name, age):\n",
        "      self.name = name\n",
        "      self.age = age\n",
        "\n",
        "   def display(self):\n",
        "      print(\"Name:\", self.name)\n",
        "      print(\"Age:\", self.age)\n",
        "\n",
        "s = Student(\"John\", 20)\n",
        "s.display()"
      ],
      "metadata": {
        "colab": {
          "base_uri": "https://localhost:8080/"
        },
        "id": "ZwGOVIE98sCA",
        "outputId": "3a335a30-4d0f-4a23-89d6-cc26625f91ab"
      },
      "execution_count": 27,
      "outputs": [
        {
          "output_type": "stream",
          "name": "stdout",
          "text": [
            "Name: John\n",
            "Age: 20\n"
          ]
        }
      ]
    },
    {
      "cell_type": "code",
      "source": [
        "# Class properties and methods with private access modifier can only be accessed within the class where they are defined and cannot be accessed outside the class. In Python private properties and methods are declared by adding a prefix with two underscores(‘__’) before their declaration. Example:\n",
        "class BankAccount:\n",
        "   def __init__(self, account_number, balance):\n",
        "      self.__account_number = account_number\n",
        "      self.__balance = balance\n",
        "\n",
        "   def __display_balance(self):\n",
        "      print(\"Balance:\", self.__balance)\n",
        "\n",
        "b = BankAccount(1234567890, 5000)\n",
        "b.__display_balance() # as display method is private so it gives an error"
      ],
      "metadata": {
        "colab": {
          "base_uri": "https://localhost:8080/",
          "height": 176
        },
        "id": "Tfym2k7j9avP",
        "outputId": "281f0622-218e-4735-8723-f4401c9f6c0c"
      },
      "execution_count": 28,
      "outputs": [
        {
          "output_type": "error",
          "ename": "AttributeError",
          "evalue": "'BankAccount' object has no attribute '__display_balance'",
          "traceback": [
            "\u001b[0;31m---------------------------------------------------------------------------\u001b[0m",
            "\u001b[0;31mAttributeError\u001b[0m                            Traceback (most recent call last)",
            "\u001b[0;32m<ipython-input-28-ba1ab46b23d1>\u001b[0m in \u001b[0;36m<cell line: 11>\u001b[0;34m()\u001b[0m\n\u001b[1;32m      9\u001b[0m \u001b[0;34m\u001b[0m\u001b[0m\n\u001b[1;32m     10\u001b[0m \u001b[0mb\u001b[0m \u001b[0;34m=\u001b[0m \u001b[0mBankAccount\u001b[0m\u001b[0;34m(\u001b[0m\u001b[0;36m1234567890\u001b[0m\u001b[0;34m,\u001b[0m \u001b[0;36m5000\u001b[0m\u001b[0;34m)\u001b[0m\u001b[0;34m\u001b[0m\u001b[0;34m\u001b[0m\u001b[0m\n\u001b[0;32m---> 11\u001b[0;31m \u001b[0mb\u001b[0m\u001b[0;34m.\u001b[0m\u001b[0m__display_balance\u001b[0m\u001b[0;34m(\u001b[0m\u001b[0;34m)\u001b[0m\u001b[0;34m\u001b[0m\u001b[0;34m\u001b[0m\u001b[0m\n\u001b[0m",
            "\u001b[0;31mAttributeError\u001b[0m: 'BankAccount' object has no attribute '__display_balance'"
          ]
        }
      ]
    },
    {
      "cell_type": "code",
      "source": [
        "# Class properties and methods with protected access modifier can be accessed within the class and from the class that inherits the protected class. In python, protected members and methods are declared using single underscore(‘_’) as prefix before their names. Example:\n",
        "class Student:\n",
        "  _schoolName = 'XYZ School' # protected class attribute\n",
        "\n",
        "  def __init__(self, name, age):\n",
        "    self._name=name  # protected instance attribute\n",
        "    self._age=age # protected instance attribute\n",
        "\n",
        "std = Student(\"Swati\", 25)\n",
        "print(std._name)\n",
        "print(std._age)   # display protected variable\n",
        "\n",
        "std._name = 'Dipa' # modifying the protected variable\n",
        "print(std._name)"
      ],
      "metadata": {
        "colab": {
          "base_uri": "https://localhost:8080/"
        },
        "id": "8Ih6sfXd-fPp",
        "outputId": "e59ba3db-9d5f-46e5-c51e-ce77d5d6d8c1"
      },
      "execution_count": 29,
      "outputs": [
        {
          "output_type": "stream",
          "name": "stdout",
          "text": [
            "Swati\n",
            "25\n",
            "Dipa\n"
          ]
        }
      ]
    },
    {
      "cell_type": "markdown",
      "source": [
        "6. Describe the five types of inheritance in Python. Provide a simple example of multiple inheritance."
      ],
      "metadata": {
        "id": "gGT6rhtXDTgI"
      }
    },
    {
      "cell_type": "code",
      "source": [
        "# There are 5 types of inheritance in python. 1) Single inheritance, 2) Multiple inheritance, 3) Multilevel inheritance, 4) Hierarchial inheritance, 5) Hybrid inheritance.\n",
        "# 1) Single inheritance: when a derived class has only one parent class.\n",
        "# 2) Multiple inheritance: one child class may inherit the propety of mutiple parent class.\n",
        "# 3) Multilevel inheritance: features of the base class and the derived class are further inherited into the new derived class.\n",
        "# 4) Hierarchical inheritance: one parent class has multiple(more than two) childclass.\n",
        "# 5) Hybrid inheritance: multiple types or combination of different inheritance\n",
        "# Example of multiple inheritance:\n",
        "class Mother:\n",
        "  def mother(self):\n",
        "    print(\"I love my son\")\n",
        "class Father:\n",
        "  def father(self):\n",
        "    print(\"I also love my son\")\n",
        "class Son(Mother, Father):\n",
        "  def son(self):\n",
        "    print(\"I love my parents\")\n",
        "a=Son()\n",
        "a.mother()"
      ],
      "metadata": {
        "colab": {
          "base_uri": "https://localhost:8080/"
        },
        "id": "oGMKfaWJDVOY",
        "outputId": "bf466293-6dd6-4d64-94fb-38ffd0b41548"
      },
      "execution_count": 30,
      "outputs": [
        {
          "output_type": "stream",
          "name": "stdout",
          "text": [
            "I love my son\n"
          ]
        }
      ]
    },
    {
      "cell_type": "markdown",
      "source": [
        "7. What is the Method Resolution Order (MRO) in Python? How can you retrieve it programmatically?"
      ],
      "metadata": {
        "id": "uOrwCoWkKIUs"
      }
    },
    {
      "cell_type": "code",
      "source": [
        "#diamond problem occurs when a class inherits from 2 or more than 2 class it will lead to ambiguity in execution of methods\n",
        "#To remove diamond problem python uses method resolution order(MRO) algorithm called c3 linearization\n",
        "#it means that the class that is inherited first in the derived class, that method will be called in this case method under Father class\n",
        "class Mother:\n",
        "  def mother(self):\n",
        "    print(\"I love my son\")\n",
        "class Father:\n",
        "  def mother(self):\n",
        "    print(\"I also love my son\")\n",
        "class Son(Father, Mother):\n",
        "  def son(self):\n",
        "    print(\"I love my parents\")\n",
        "a=Son()\n",
        "a.mother()"
      ],
      "metadata": {
        "colab": {
          "base_uri": "https://localhost:8080/"
        },
        "id": "hPJQdwUJQNe8",
        "outputId": "50c13832-407f-4f19-98a2-fc990d1db514"
      },
      "execution_count": 32,
      "outputs": [
        {
          "output_type": "stream",
          "name": "stdout",
          "text": [
            "I also love my son\n"
          ]
        }
      ]
    },
    {
      "cell_type": "markdown",
      "source": [
        "8. Create an abstract base class `Shape` with an abstract method `area()`. Then create two subclasses `Circle` and `Rectangle` that implement the `area()` method."
      ],
      "metadata": {
        "id": "TEMFQevzRF9Y"
      }
    },
    {
      "cell_type": "code",
      "source": [
        "import abc"
      ],
      "metadata": {
        "id": "Gyw6KzstTpyn"
      },
      "execution_count": 33,
      "outputs": []
    },
    {
      "cell_type": "code",
      "source": [
        "class Shape:\n",
        "\n",
        "    @abc.abstractmethod\n",
        "    def area(self):\n",
        "        pass\n",
        "class Rectangle(Shape):\n",
        "    def area(self):\n",
        "        return \"Area of rectange is len*breadth\"\n",
        "class Circle(Shape):\n",
        "    def area(self):\n",
        "        return \"area of circle is pi r **2\"\n",
        "rect = Rectangle()\n",
        "rect.area()\n",
        ""
      ],
      "metadata": {
        "colab": {
          "base_uri": "https://localhost:8080/",
          "height": 35
        },
        "id": "7FKs-VXTUDuB",
        "outputId": "63229c90-8d01-461e-e203-8c5619948093"
      },
      "execution_count": 35,
      "outputs": [
        {
          "output_type": "execute_result",
          "data": {
            "text/plain": [
              "'Area of rectange is len*breadth'"
            ],
            "application/vnd.google.colaboratory.intrinsic+json": {
              "type": "string"
            }
          },
          "metadata": {},
          "execution_count": 35
        }
      ]
    },
    {
      "cell_type": "code",
      "source": [
        "c = Circle()\n",
        "c.area()"
      ],
      "metadata": {
        "colab": {
          "base_uri": "https://localhost:8080/",
          "height": 35
        },
        "id": "7lAZ2v6uUuLg",
        "outputId": "cb43bf2a-6104-43b9-9a31-c47aff9db308"
      },
      "execution_count": 36,
      "outputs": [
        {
          "output_type": "execute_result",
          "data": {
            "text/plain": [
              "'area of circle is pi r **2'"
            ],
            "application/vnd.google.colaboratory.intrinsic+json": {
              "type": "string"
            }
          },
          "metadata": {},
          "execution_count": 36
        }
      ]
    },
    {
      "cell_type": "markdown",
      "source": [
        "9. Demonstrate polymorphism by creating a function that can work with different shape objects to calculate and print their areas."
      ],
      "metadata": {
        "id": "gRzxAB6jU5ey"
      }
    },
    {
      "cell_type": "code",
      "source": [
        "class shape:\n",
        "  def calculate_area(self):\n",
        "    print(\"the area is\")\n",
        "class rectangle(shape):\n",
        "  def calculate_area(self, a):\n",
        "    print(\"the area is\", a**2)\n",
        "class triangle(shape):\n",
        "  def calculate_area(self,base,height):\n",
        "    print(\"the area is\", 0.5*base*height)\n"
      ],
      "metadata": {
        "id": "hHf3ERDcXkRw"
      },
      "execution_count": 41,
      "outputs": []
    },
    {
      "cell_type": "code",
      "source": [
        "b=rectangle()"
      ],
      "metadata": {
        "id": "NlRGWbgUY3s4"
      },
      "execution_count": 38,
      "outputs": []
    },
    {
      "cell_type": "code",
      "source": [
        "b.calculate_area(4)"
      ],
      "metadata": {
        "colab": {
          "base_uri": "https://localhost:8080/"
        },
        "id": "6BYrGcx6Y_-w",
        "outputId": "2c0d05f0-5e22-4422-c041-2e73f5ece8bc"
      },
      "execution_count": 39,
      "outputs": [
        {
          "output_type": "stream",
          "name": "stdout",
          "text": [
            "the area is 16\n"
          ]
        }
      ]
    },
    {
      "cell_type": "code",
      "source": [
        "c = triangle()\n",
        "c.calculate_area(5,7)"
      ],
      "metadata": {
        "colab": {
          "base_uri": "https://localhost:8080/"
        },
        "id": "UjVtbH61ZEF3",
        "outputId": "3c33d08d-a4b0-4a74-cd7f-fe95f1352529"
      },
      "execution_count": 42,
      "outputs": [
        {
          "output_type": "stream",
          "name": "stdout",
          "text": [
            "the area is 17.5\n"
          ]
        }
      ]
    },
    {
      "cell_type": "markdown",
      "source": [
        "10. Implement encapsulation in a `BankAccount` class with private attributes for `balance` and `account_number`. Include methods for deposit, withdrawal, and balance inquiry."
      ],
      "metadata": {
        "id": "tGYVZJugap56"
      }
    },
    {
      "cell_type": "code",
      "source": [
        "class BankAccount:\n",
        "    def __init__(self, account_number, balance):\n",
        "        # Encapsulated attributes\n",
        "        self.__account_number = account_number\n",
        "        self.__balance = balance\n",
        "\n",
        "    def deposit(self, amount):\n",
        "        self.__balance += amount\n",
        "\n",
        "    def withdraw(self, amount):\n",
        "        if amount <= self.__balance:\n",
        "            self.__balance -= amount\n",
        "        else:\n",
        "            print(\"Insufficient funds.\")\n",
        "\n",
        "    def balance_inquiry(self):\n",
        "        return self.__balance\n",
        "\n",
        "class Customer:\n",
        "    def __init__(self, name, account):\n",
        "        self.__name = name\n",
        "        self.__account = account\n",
        "\n",
        "    def balance_inquiry(self):\n",
        "        print(f\"Account balance for {self.__name}: {self.__account.balance_inquiry()}\")\n",
        "\n",
        "account1 = BankAccount(\"123456789\", 1000)\n",
        "customer1 = Customer(\"John Doe\", account1)\n",
        "\n",
        "customer1.balance_inquiry()\n",
        "\n",
        "account1.deposit(500)\n",
        "\n",
        "customer1.balance_inquiry()"
      ],
      "metadata": {
        "colab": {
          "base_uri": "https://localhost:8080/"
        },
        "id": "rV2UYJfBbcye",
        "outputId": "1a7496b4-1d2e-4448-b357-be386745c154"
      },
      "execution_count": 1,
      "outputs": [
        {
          "output_type": "stream",
          "name": "stdout",
          "text": [
            "Account balance for John Doe: 1000\n",
            "Account balance for John Doe: 1500\n"
          ]
        }
      ]
    },
    {
      "cell_type": "markdown",
      "source": [
        "11. Write a class that overrides the `__str__` and `__add__` magic methods. What will these methods allow you to do?"
      ],
      "metadata": {
        "id": "ZT0o05Kq4SwD"
      }
    },
    {
      "cell_type": "code",
      "source": [
        "class Person:\n",
        "    def __init__(self, first_name, last_name, age):\n",
        "        self.first_name = first_name\n",
        "        self.last_name = last_name\n",
        "        self.age = age\n",
        "    def __add__(self, other):\n",
        "        return Person(self.first_name + other.first_name,  self.last_name + other.last_name, self.age + other.age)\n",
        "\n",
        "    def __str__(self):\n",
        "        return f'Person({self.first_name},{self.last_name},{self.age})'\n",
        "p1 = Person(\"Sayan\", \"Roy\", \"25\")\n",
        "p2 = Person(\" ayan\", \" ghosh\", \" 26\")\n",
        "p3 = Person(\" Bijoy\", \" bose\", \" 27\")\n",
        "p3 = p1+p2+p3 #when you are using + operator with point Objects, python internally calls __add__\n",
        "print(p3.first_name, p3.last_name, p3.age)"
      ],
      "metadata": {
        "colab": {
          "base_uri": "https://localhost:8080/"
        },
        "id": "5PGz_kZD_jkr",
        "outputId": "ff279914-ae43-4f3c-a963-2d7a202a918e"
      },
      "execution_count": 9,
      "outputs": [
        {
          "output_type": "stream",
          "name": "stdout",
          "text": [
            "Sayan ayan Bijoy Roy ghosh bose 25 26 27\n"
          ]
        }
      ]
    },
    {
      "cell_type": "code",
      "source": [
        "a = Person(\"Sayan\", \"Roy\", \"25\")\n",
        "a.__str__()"
      ],
      "metadata": {
        "colab": {
          "base_uri": "https://localhost:8080/",
          "height": 35
        },
        "id": "w3Aoz5lGBcx3",
        "outputId": "bdb56751-0afc-499e-be8d-39decf05945a"
      },
      "execution_count": 11,
      "outputs": [
        {
          "output_type": "execute_result",
          "data": {
            "text/plain": [
              "'Person(Sayan,Roy,25)'"
            ],
            "application/vnd.google.colaboratory.intrinsic+json": {
              "type": "string"
            }
          },
          "metadata": {},
          "execution_count": 11
        }
      ]
    },
    {
      "cell_type": "code",
      "source": [
        "# The Python __add__ magic method is used to add the attributes of the class instance.\n",
        "# The python __str__ method returns the object representation in a string format. This method is supposed to return a human-readable format which is used to display some information about the object."
      ],
      "metadata": {
        "id": "BnG_qLJhJbiS"
      },
      "execution_count": null,
      "outputs": []
    },
    {
      "cell_type": "markdown",
      "source": [
        "12. Create a decorator that measures and prints the execution time of a function."
      ],
      "metadata": {
        "id": "7fhwsk7pMFTd"
      }
    },
    {
      "cell_type": "code",
      "source": [
        "import time\n",
        "\n",
        "def measure_execution_time(func):\n",
        "    def wrapper(*args, **kwargs):\n",
        "        start_time = time.time()\n",
        "        result = func(*args, **kwargs)\n",
        "        end_time = time.time()\n",
        "        execution_time = end_time - start_time\n",
        "        print(f\"Function {func.__name__} took {execution_time:.4f} seconds to execute\")\n",
        "        return result\n",
        "    return wrapper\n",
        "\n",
        "# Example usage\n",
        "@measure_execution_time\n",
        "def calculate_multiply(numbers):\n",
        "    tot = 1\n",
        "    for x in numbers:\n",
        "        tot *= x\n",
        "    return tot\n",
        "\n",
        "# Call the decorated function\n",
        "result = calculate_multiply([1, 2, 3, 4, 5])\n",
        "print(\"Result:\", result)"
      ],
      "metadata": {
        "colab": {
          "base_uri": "https://localhost:8080/"
        },
        "id": "nzri1VHvNX5X",
        "outputId": "a658b858-cb63-4f64-82ad-48c450f7187f"
      },
      "execution_count": 12,
      "outputs": [
        {
          "output_type": "stream",
          "name": "stdout",
          "text": [
            "Function calculate_multiply took 0.0000 seconds to execute\n",
            "Result: 120\n"
          ]
        }
      ]
    },
    {
      "cell_type": "code",
      "source": [],
      "metadata": {
        "id": "WClTZTSVNZN8"
      },
      "execution_count": null,
      "outputs": []
    },
    {
      "cell_type": "markdown",
      "source": [
        "13. Explain the concept of the Diamond Problem in multiple inheritance. How does Python resolve it?"
      ],
      "metadata": {
        "id": "vIDsQloLNbCW"
      }
    },
    {
      "cell_type": "code",
      "source": [
        "#diamond problem occurs when a class inherits from 2 or more than 2 class it will lead to ambiguity in execution of methods\n",
        "#To remove diamond problem python uses method resolution order(MRO) algorithm called c3 linearization\n",
        "#it means that the class that is inherited first in the derived class, that method will be called in this case method under Father class\n",
        "class Mother:\n",
        "  def mother(self):\n",
        "    print(\"I love my son\")\n",
        "class Father:\n",
        "  def mother(self):\n",
        "    print(\"I also love my son\")\n",
        "class Son(Father, Mother):\n",
        "  def son(self):\n",
        "    print(\"I love my parents\")\n",
        "a=Son()\n",
        "a.mother()\n"
      ],
      "metadata": {
        "colab": {
          "base_uri": "https://localhost:8080/"
        },
        "id": "dBfUFt21Qqtl",
        "outputId": "b4539d44-c852-4ab1-c53a-43bfbff897b1"
      },
      "execution_count": 13,
      "outputs": [
        {
          "output_type": "stream",
          "name": "stdout",
          "text": [
            "I also love my son\n"
          ]
        }
      ]
    },
    {
      "cell_type": "markdown",
      "source": [
        "14. Write a class method that keeps track of the number of instances created from a class."
      ],
      "metadata": {
        "id": "XwJMbj7zTBlT"
      }
    },
    {
      "cell_type": "code",
      "source": [
        "class Counter:\n",
        "\n",
        "    count = 0\n",
        "\n",
        "    def __init__(self):\n",
        "\n",
        "        Counter.count += 1\n",
        "\n",
        "    @classmethod\n",
        "\n",
        "    def get_count(cls):\n",
        "\n",
        "        return cls.count\n",
        "\n",
        "# Creating instances of the class\n",
        "\n",
        "c1 = Counter()\n",
        "\n",
        "c2 = Counter()\n",
        "\n",
        "c3 = Counter()\n",
        "\n",
        "# Accessing the class attribute using the class method\n",
        "\n",
        "print(\"Count:\", Counter.get_count())"
      ],
      "metadata": {
        "colab": {
          "base_uri": "https://localhost:8080/"
        },
        "id": "H7oFfLsPVDKo",
        "outputId": "c0e9cfdc-9d97-4456-8261-b697d5d25ddd"
      },
      "execution_count": 18,
      "outputs": [
        {
          "output_type": "stream",
          "name": "stdout",
          "text": [
            "Count: 3\n"
          ]
        }
      ]
    },
    {
      "cell_type": "markdown",
      "source": [
        "15. Implement a static method in a class that checks if a given year is a leap year."
      ],
      "metadata": {
        "id": "30rdnzDKdTUS"
      }
    },
    {
      "cell_type": "code",
      "source": [
        "class Check_Leap:\n",
        "  @staticmethod\n",
        "  def ISLP(y):\n",
        "   if((y % 400 == 0) or\n",
        "     (y % 100 != 0) and\n",
        "     (y % 4 == 0)):\n",
        "    return 1;\n",
        "   else:\n",
        "    return 0;"
      ],
      "metadata": {
        "id": "bh5TrYs2enSc"
      },
      "execution_count": 22,
      "outputs": []
    },
    {
      "cell_type": "code",
      "source": [
        "Check_Leap.ISLP(2024)"
      ],
      "metadata": {
        "colab": {
          "base_uri": "https://localhost:8080/"
        },
        "id": "iH9OAYG0fCmy",
        "outputId": "7873126e-d1ae-4cea-b159-4f8caca3767a"
      },
      "execution_count": 23,
      "outputs": [
        {
          "output_type": "execute_result",
          "data": {
            "text/plain": [
              "1"
            ]
          },
          "metadata": {},
          "execution_count": 23
        }
      ]
    },
    {
      "cell_type": "code",
      "source": [],
      "metadata": {
        "id": "0U330fYCfHmI"
      },
      "execution_count": null,
      "outputs": []
    }
  ]
}